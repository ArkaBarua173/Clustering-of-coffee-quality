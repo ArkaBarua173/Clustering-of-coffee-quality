{
 "cells": [
  {
   "cell_type": "code",
   "execution_count": 1,
   "id": "9fa1d914",
   "metadata": {
    "execution": {
     "iopub.execute_input": "2024-04-14T18:08:09.943606Z",
     "iopub.status.busy": "2024-04-14T18:08:09.943063Z",
     "iopub.status.idle": "2024-04-14T18:08:09.948159Z",
     "shell.execute_reply": "2024-04-14T18:08:09.947366Z"
    },
    "papermill": {
     "duration": 0.027617,
     "end_time": "2024-04-14T18:08:09.950587",
     "exception": false,
     "start_time": "2024-04-14T18:08:09.922970",
     "status": "completed"
    },
    "tags": []
   },
   "outputs": [],
   "source": [
    "# !pip install plotly==5.20.0"
   ]
  },
  {
   "cell_type": "markdown",
   "id": "8fcb321f",
   "metadata": {
    "papermill": {
     "duration": 0.017065,
     "end_time": "2024-04-14T18:08:09.984689",
     "exception": false,
     "start_time": "2024-04-14T18:08:09.967624",
     "status": "completed"
    },
    "tags": []
   },
   "source": [
    "# Importing Libraries"
   ]
  },
  {
   "cell_type": "code",
   "execution_count": 2,
   "id": "53db864a",
   "metadata": {
    "_cell_guid": "b1076dfc-b9ad-4769-8c92-a6c4dae69d19",
    "_uuid": "8f2839f25d086af736a60e9eeb907d3b93b6e0e5",
    "execution": {
     "iopub.execute_input": "2024-04-14T18:08:10.022499Z",
     "iopub.status.busy": "2024-04-14T18:08:10.021741Z",
     "iopub.status.idle": "2024-04-14T18:08:14.495602Z",
     "shell.execute_reply": "2024-04-14T18:08:14.493987Z"
    },
    "papermill": {
     "duration": 4.497305,
     "end_time": "2024-04-14T18:08:14.498833",
     "exception": false,
     "start_time": "2024-04-14T18:08:10.001528",
     "status": "completed"
    },
    "tags": []
   },
   "outputs": [
    {
     "name": "stdout",
     "output_type": "stream",
     "text": [
      "/kaggle/input/coffee-quality-with-locations-of-origin/Coffee_Qlty_By_Continent.csv\n",
      "/kaggle/input/coffee-quality-with-locations-of-origin/Coffee_Qlty_By_Country.csv\n",
      "/kaggle/input/coffee-quality-with-locations-of-origin/Coffee_Qlty.csv\n"
     ]
    }
   ],
   "source": [
    "# This Python 3 environment comes with many helpful analytics libraries installed\n",
    "# It is defined by the kaggle/python Docker image: https://github.com/kaggle/docker-python\n",
    "# For example, here's several helpful packages to load\n",
    "\n",
    "import numpy as np # linear algebra\n",
    "import pandas as pd # data processing, CSV file I/O (e.g. pd.read_csv)\n",
    "import matplotlib.pyplot as plt # for data visualization\n",
    "import seaborn as sns # for statistical data visualization\n",
    "%matplotlib inline\n",
    "import plotly.express as px\n",
    "from plotly.subplots import make_subplots\n",
    "import plotly.graph_objects as go\n",
    "import plotly.figure_factory as ff\n",
    "import warnings\n",
    "\n",
    "warnings.filterwarnings('ignore')\n",
    "\n",
    "# Input data files are available in the read-only \"../input/\" directory\n",
    "# For example, running this (by clicking run or pressing Shift+Enter) will list all files under the input directory\n",
    "\n",
    "import os\n",
    "for dirname, _, filenames in os.walk('/kaggle/input'):\n",
    "    for filename in filenames:\n",
    "        print(os.path.join(dirname, filename))\n",
    "\n",
    "# You can write up to 20GB to the current directory (/kaggle/working/) that gets preserved as output when you create a version using \"Save & Run All\" \n",
    "# You can also write temporary files to /kaggle/temp/, but they won't be saved outside of the current session"
   ]
  },
  {
   "cell_type": "markdown",
   "id": "84ed0193",
   "metadata": {
    "papermill": {
     "duration": 0.016938,
     "end_time": "2024-04-14T18:08:14.533082",
     "exception": false,
     "start_time": "2024-04-14T18:08:14.516144",
     "status": "completed"
    },
    "tags": []
   },
   "source": [
    "# Loading Dataset"
   ]
  },
  {
   "cell_type": "code",
   "execution_count": 3,
   "id": "85d30bcb",
   "metadata": {
    "execution": {
     "iopub.execute_input": "2024-04-14T18:08:14.569535Z",
     "iopub.status.busy": "2024-04-14T18:08:14.568560Z",
     "iopub.status.idle": "2024-04-14T18:08:14.635076Z",
     "shell.execute_reply": "2024-04-14T18:08:14.633889Z"
    },
    "papermill": {
     "duration": 0.087759,
     "end_time": "2024-04-14T18:08:14.637732",
     "exception": false,
     "start_time": "2024-04-14T18:08:14.549973",
     "status": "completed"
    },
    "tags": []
   },
   "outputs": [
    {
     "data": {
      "text/html": [
       "<div>\n",
       "<style scoped>\n",
       "    .dataframe tbody tr th:only-of-type {\n",
       "        vertical-align: middle;\n",
       "    }\n",
       "\n",
       "    .dataframe tbody tr th {\n",
       "        vertical-align: top;\n",
       "    }\n",
       "\n",
       "    .dataframe thead th {\n",
       "        text-align: right;\n",
       "    }\n",
       "</style>\n",
       "<table border=\"1\" class=\"dataframe\">\n",
       "  <thead>\n",
       "    <tr style=\"text-align: right;\">\n",
       "      <th></th>\n",
       "      <th>REC_ID</th>\n",
       "      <th>Species</th>\n",
       "      <th>Continent.of.Origin</th>\n",
       "      <th>Country.of.Origin</th>\n",
       "      <th>Harvest.Year</th>\n",
       "      <th>Expiration</th>\n",
       "      <th>Variety</th>\n",
       "      <th>Color</th>\n",
       "      <th>Processing.Method</th>\n",
       "      <th>Aroma</th>\n",
       "      <th>...</th>\n",
       "      <th>Acidity</th>\n",
       "      <th>Body</th>\n",
       "      <th>Balance</th>\n",
       "      <th>Uniformity</th>\n",
       "      <th>Clean.Cup</th>\n",
       "      <th>Sweetness</th>\n",
       "      <th>Moisture</th>\n",
       "      <th>Quakers</th>\n",
       "      <th>Category.One.Defects</th>\n",
       "      <th>Category.Two.Defects</th>\n",
       "    </tr>\n",
       "  </thead>\n",
       "  <tbody>\n",
       "    <tr>\n",
       "      <th>0</th>\n",
       "      <td>0</td>\n",
       "      <td>Arabica</td>\n",
       "      <td>Africa</td>\n",
       "      <td>Ethiopia</td>\n",
       "      <td>2014.0</td>\n",
       "      <td>04/03/16</td>\n",
       "      <td>NaN</td>\n",
       "      <td>Green</td>\n",
       "      <td>Washed / Wet</td>\n",
       "      <td>8.67</td>\n",
       "      <td>...</td>\n",
       "      <td>8.75</td>\n",
       "      <td>8.50</td>\n",
       "      <td>8.42</td>\n",
       "      <td>10.0</td>\n",
       "      <td>10.0</td>\n",
       "      <td>10.0</td>\n",
       "      <td>0.12</td>\n",
       "      <td>0</td>\n",
       "      <td>0</td>\n",
       "      <td>0</td>\n",
       "    </tr>\n",
       "    <tr>\n",
       "      <th>1</th>\n",
       "      <td>1</td>\n",
       "      <td>Arabica</td>\n",
       "      <td>Africa</td>\n",
       "      <td>Ethiopia</td>\n",
       "      <td>2014.0</td>\n",
       "      <td>04/03/16</td>\n",
       "      <td>Other</td>\n",
       "      <td>Green</td>\n",
       "      <td>Washed / Wet</td>\n",
       "      <td>8.75</td>\n",
       "      <td>...</td>\n",
       "      <td>8.58</td>\n",
       "      <td>8.42</td>\n",
       "      <td>8.42</td>\n",
       "      <td>10.0</td>\n",
       "      <td>10.0</td>\n",
       "      <td>10.0</td>\n",
       "      <td>0.12</td>\n",
       "      <td>0</td>\n",
       "      <td>0</td>\n",
       "      <td>1</td>\n",
       "    </tr>\n",
       "    <tr>\n",
       "      <th>2</th>\n",
       "      <td>2</td>\n",
       "      <td>Arabica</td>\n",
       "      <td>North America</td>\n",
       "      <td>Guatemala</td>\n",
       "      <td>NaN</td>\n",
       "      <td>05/31/11</td>\n",
       "      <td>Bourbon</td>\n",
       "      <td>NaN</td>\n",
       "      <td>NaN</td>\n",
       "      <td>8.42</td>\n",
       "      <td>...</td>\n",
       "      <td>8.42</td>\n",
       "      <td>8.33</td>\n",
       "      <td>8.42</td>\n",
       "      <td>10.0</td>\n",
       "      <td>10.0</td>\n",
       "      <td>10.0</td>\n",
       "      <td>0.00</td>\n",
       "      <td>0</td>\n",
       "      <td>0</td>\n",
       "      <td>0</td>\n",
       "    </tr>\n",
       "    <tr>\n",
       "      <th>3</th>\n",
       "      <td>3</td>\n",
       "      <td>Arabica</td>\n",
       "      <td>Africa</td>\n",
       "      <td>Ethiopia</td>\n",
       "      <td>2014.0</td>\n",
       "      <td>03/25/16</td>\n",
       "      <td>NaN</td>\n",
       "      <td>Green</td>\n",
       "      <td>Natural / Dry</td>\n",
       "      <td>8.17</td>\n",
       "      <td>...</td>\n",
       "      <td>8.42</td>\n",
       "      <td>8.50</td>\n",
       "      <td>8.25</td>\n",
       "      <td>10.0</td>\n",
       "      <td>10.0</td>\n",
       "      <td>10.0</td>\n",
       "      <td>0.11</td>\n",
       "      <td>0</td>\n",
       "      <td>0</td>\n",
       "      <td>2</td>\n",
       "    </tr>\n",
       "    <tr>\n",
       "      <th>4</th>\n",
       "      <td>4</td>\n",
       "      <td>Arabica</td>\n",
       "      <td>Africa</td>\n",
       "      <td>Ethiopia</td>\n",
       "      <td>2014.0</td>\n",
       "      <td>04/03/16</td>\n",
       "      <td>Other</td>\n",
       "      <td>Green</td>\n",
       "      <td>Washed / Wet</td>\n",
       "      <td>8.25</td>\n",
       "      <td>...</td>\n",
       "      <td>8.50</td>\n",
       "      <td>8.42</td>\n",
       "      <td>8.33</td>\n",
       "      <td>10.0</td>\n",
       "      <td>10.0</td>\n",
       "      <td>10.0</td>\n",
       "      <td>0.12</td>\n",
       "      <td>0</td>\n",
       "      <td>0</td>\n",
       "      <td>2</td>\n",
       "    </tr>\n",
       "  </tbody>\n",
       "</table>\n",
       "<p>5 rows × 22 columns</p>\n",
       "</div>"
      ],
      "text/plain": [
       "   REC_ID  Species Continent.of.Origin Country.of.Origin  Harvest.Year  \\\n",
       "0       0  Arabica              Africa          Ethiopia        2014.0   \n",
       "1       1  Arabica              Africa          Ethiopia        2014.0   \n",
       "2       2  Arabica       North America         Guatemala           NaN   \n",
       "3       3  Arabica              Africa          Ethiopia        2014.0   \n",
       "4       4  Arabica              Africa          Ethiopia        2014.0   \n",
       "\n",
       "  Expiration  Variety  Color Processing.Method  Aroma  ...  Acidity  Body  \\\n",
       "0   04/03/16      NaN  Green      Washed / Wet   8.67  ...     8.75  8.50   \n",
       "1   04/03/16    Other  Green      Washed / Wet   8.75  ...     8.58  8.42   \n",
       "2   05/31/11  Bourbon    NaN               NaN   8.42  ...     8.42  8.33   \n",
       "3   03/25/16      NaN  Green     Natural / Dry   8.17  ...     8.42  8.50   \n",
       "4   04/03/16    Other  Green      Washed / Wet   8.25  ...     8.50  8.42   \n",
       "\n",
       "   Balance  Uniformity  Clean.Cup  Sweetness  Moisture  Quakers  \\\n",
       "0     8.42        10.0       10.0       10.0      0.12        0   \n",
       "1     8.42        10.0       10.0       10.0      0.12        0   \n",
       "2     8.42        10.0       10.0       10.0      0.00        0   \n",
       "3     8.25        10.0       10.0       10.0      0.11        0   \n",
       "4     8.33        10.0       10.0       10.0      0.12        0   \n",
       "\n",
       "   Category.One.Defects  Category.Two.Defects  \n",
       "0                     0                     0  \n",
       "1                     0                     1  \n",
       "2                     0                     0  \n",
       "3                     0                     2  \n",
       "4                     0                     2  \n",
       "\n",
       "[5 rows x 22 columns]"
      ]
     },
     "execution_count": 3,
     "metadata": {},
     "output_type": "execute_result"
    }
   ],
   "source": [
    "data_path = '/kaggle/input/coffee-quality-with-locations-of-origin/Coffee_Qlty.csv'\n",
    "df = pd.read_csv(data_path)\n",
    "df.head()"
   ]
  },
  {
   "cell_type": "markdown",
   "id": "1a7c73e5",
   "metadata": {
    "papermill": {
     "duration": 0.017082,
     "end_time": "2024-04-14T18:08:14.673025",
     "exception": false,
     "start_time": "2024-04-14T18:08:14.655943",
     "status": "completed"
    },
    "tags": []
   },
   "source": [
    "# EDA"
   ]
  },
  {
   "cell_type": "code",
   "execution_count": 4,
   "id": "42c707d5",
   "metadata": {
    "execution": {
     "iopub.execute_input": "2024-04-14T18:08:14.709938Z",
     "iopub.status.busy": "2024-04-14T18:08:14.709474Z",
     "iopub.status.idle": "2024-04-14T18:08:14.715966Z",
     "shell.execute_reply": "2024-04-14T18:08:14.715022Z"
    },
    "papermill": {
     "duration": 0.027738,
     "end_time": "2024-04-14T18:08:14.718042",
     "exception": false,
     "start_time": "2024-04-14T18:08:14.690304",
     "status": "completed"
    },
    "tags": []
   },
   "outputs": [
    {
     "data": {
      "text/plain": [
       "(1339, 22)"
      ]
     },
     "execution_count": 4,
     "metadata": {},
     "output_type": "execute_result"
    }
   ],
   "source": [
    "df.shape"
   ]
  },
  {
   "cell_type": "code",
   "execution_count": 5,
   "id": "cc6591f6",
   "metadata": {
    "execution": {
     "iopub.execute_input": "2024-04-14T18:08:14.755784Z",
     "iopub.status.busy": "2024-04-14T18:08:14.755013Z",
     "iopub.status.idle": "2024-04-14T18:08:14.761911Z",
     "shell.execute_reply": "2024-04-14T18:08:14.760784Z"
    },
    "papermill": {
     "duration": 0.028159,
     "end_time": "2024-04-14T18:08:14.764072",
     "exception": false,
     "start_time": "2024-04-14T18:08:14.735913",
     "status": "completed"
    },
    "tags": []
   },
   "outputs": [
    {
     "data": {
      "text/plain": [
       "Index(['REC_ID', 'Species', 'Continent.of.Origin', 'Country.of.Origin',\n",
       "       'Harvest.Year', 'Expiration', 'Variety', 'Color', 'Processing.Method',\n",
       "       'Aroma', 'Flavor', 'Aftertaste', 'Acidity', 'Body', 'Balance',\n",
       "       'Uniformity', 'Clean.Cup', 'Sweetness', 'Moisture', 'Quakers',\n",
       "       'Category.One.Defects', 'Category.Two.Defects'],\n",
       "      dtype='object')"
      ]
     },
     "execution_count": 5,
     "metadata": {},
     "output_type": "execute_result"
    }
   ],
   "source": [
    "df.columns"
   ]
  },
  {
   "cell_type": "code",
   "execution_count": 6,
   "id": "525702fd",
   "metadata": {
    "execution": {
     "iopub.execute_input": "2024-04-14T18:08:14.802511Z",
     "iopub.status.busy": "2024-04-14T18:08:14.801672Z",
     "iopub.status.idle": "2024-04-14T18:08:14.811098Z",
     "shell.execute_reply": "2024-04-14T18:08:14.809995Z"
    },
    "papermill": {
     "duration": 0.031718,
     "end_time": "2024-04-14T18:08:14.813738",
     "exception": false,
     "start_time": "2024-04-14T18:08:14.782020",
     "status": "completed"
    },
    "tags": []
   },
   "outputs": [
    {
     "data": {
      "text/plain": [
       "REC_ID                    int64\n",
       "Species                  object\n",
       "Continent.of.Origin      object\n",
       "Country.of.Origin        object\n",
       "Harvest.Year            float64\n",
       "Expiration               object\n",
       "Variety                  object\n",
       "Color                    object\n",
       "Processing.Method        object\n",
       "Aroma                   float64\n",
       "Flavor                  float64\n",
       "Aftertaste              float64\n",
       "Acidity                 float64\n",
       "Body                    float64\n",
       "Balance                 float64\n",
       "Uniformity              float64\n",
       "Clean.Cup               float64\n",
       "Sweetness               float64\n",
       "Moisture                float64\n",
       "Quakers                   int64\n",
       "Category.One.Defects      int64\n",
       "Category.Two.Defects      int64\n",
       "dtype: object"
      ]
     },
     "execution_count": 6,
     "metadata": {},
     "output_type": "execute_result"
    }
   ],
   "source": [
    "df.dtypes"
   ]
  },
  {
   "cell_type": "code",
   "execution_count": 7,
   "id": "c15aeba7",
   "metadata": {
    "execution": {
     "iopub.execute_input": "2024-04-14T18:08:14.851831Z",
     "iopub.status.busy": "2024-04-14T18:08:14.851224Z",
     "iopub.status.idle": "2024-04-14T18:08:14.863661Z",
     "shell.execute_reply": "2024-04-14T18:08:14.862097Z"
    },
    "papermill": {
     "duration": 0.034564,
     "end_time": "2024-04-14T18:08:14.866368",
     "exception": false,
     "start_time": "2024-04-14T18:08:14.831804",
     "status": "completed"
    },
    "tags": []
   },
   "outputs": [
    {
     "data": {
      "text/plain": [
       "REC_ID                    0\n",
       "Species                   0\n",
       "Continent.of.Origin       1\n",
       "Country.of.Origin         1\n",
       "Harvest.Year             60\n",
       "Expiration                0\n",
       "Variety                 226\n",
       "Color                   270\n",
       "Processing.Method       170\n",
       "Aroma                     0\n",
       "Flavor                    0\n",
       "Aftertaste                0\n",
       "Acidity                   0\n",
       "Body                      0\n",
       "Balance                   0\n",
       "Uniformity                0\n",
       "Clean.Cup                 0\n",
       "Sweetness                 0\n",
       "Moisture                  0\n",
       "Quakers                   0\n",
       "Category.One.Defects      0\n",
       "Category.Two.Defects      0\n",
       "dtype: int64"
      ]
     },
     "execution_count": 7,
     "metadata": {},
     "output_type": "execute_result"
    }
   ],
   "source": [
    "df.isna().sum()"
   ]
  },
  {
   "cell_type": "markdown",
   "id": "3214ec89",
   "metadata": {
    "papermill": {
     "duration": 0.017958,
     "end_time": "2024-04-14T18:08:14.903314",
     "exception": false,
     "start_time": "2024-04-14T18:08:14.885356",
     "status": "completed"
    },
    "tags": []
   },
   "source": [
    "***Key Observations***\n",
    "- There are 1 missing values for Continent and Country each.\n",
    "- A good chunk of missing values for Variety, Color, Processing.Method and Hervest year."
   ]
  },
  {
   "cell_type": "code",
   "execution_count": 8,
   "id": "8ab3221e",
   "metadata": {
    "execution": {
     "iopub.execute_input": "2024-04-14T18:08:14.943832Z",
     "iopub.status.busy": "2024-04-14T18:08:14.943396Z",
     "iopub.status.idle": "2024-04-14T18:08:14.971012Z",
     "shell.execute_reply": "2024-04-14T18:08:14.970134Z"
    },
    "papermill": {
     "duration": 0.050805,
     "end_time": "2024-04-14T18:08:14.973262",
     "exception": false,
     "start_time": "2024-04-14T18:08:14.922457",
     "status": "completed"
    },
    "tags": []
   },
   "outputs": [
    {
     "data": {
      "text/html": [
       "<div>\n",
       "<style scoped>\n",
       "    .dataframe tbody tr th:only-of-type {\n",
       "        vertical-align: middle;\n",
       "    }\n",
       "\n",
       "    .dataframe tbody tr th {\n",
       "        vertical-align: top;\n",
       "    }\n",
       "\n",
       "    .dataframe thead th {\n",
       "        text-align: right;\n",
       "    }\n",
       "</style>\n",
       "<table border=\"1\" class=\"dataframe\">\n",
       "  <thead>\n",
       "    <tr style=\"text-align: right;\">\n",
       "      <th></th>\n",
       "      <th>REC_ID</th>\n",
       "      <th>Species</th>\n",
       "      <th>Continent.of.Origin</th>\n",
       "      <th>Country.of.Origin</th>\n",
       "      <th>Harvest.Year</th>\n",
       "      <th>Expiration</th>\n",
       "      <th>Variety</th>\n",
       "      <th>Color</th>\n",
       "      <th>Processing.Method</th>\n",
       "      <th>Aroma</th>\n",
       "      <th>...</th>\n",
       "      <th>Acidity</th>\n",
       "      <th>Body</th>\n",
       "      <th>Balance</th>\n",
       "      <th>Uniformity</th>\n",
       "      <th>Clean.Cup</th>\n",
       "      <th>Sweetness</th>\n",
       "      <th>Moisture</th>\n",
       "      <th>Quakers</th>\n",
       "      <th>Category.One.Defects</th>\n",
       "      <th>Category.Two.Defects</th>\n",
       "    </tr>\n",
       "  </thead>\n",
       "  <tbody>\n",
       "    <tr>\n",
       "      <th>1197</th>\n",
       "      <td>1197</td>\n",
       "      <td>Arabica</td>\n",
       "      <td>NaN</td>\n",
       "      <td>NaN</td>\n",
       "      <td>NaN</td>\n",
       "      <td>02/29/12</td>\n",
       "      <td>NaN</td>\n",
       "      <td>NaN</td>\n",
       "      <td>NaN</td>\n",
       "      <td>6.75</td>\n",
       "      <td>...</td>\n",
       "      <td>6.83</td>\n",
       "      <td>7.58</td>\n",
       "      <td>7.5</td>\n",
       "      <td>10.0</td>\n",
       "      <td>10.0</td>\n",
       "      <td>10.0</td>\n",
       "      <td>0.1</td>\n",
       "      <td>0</td>\n",
       "      <td>0</td>\n",
       "      <td>3</td>\n",
       "    </tr>\n",
       "  </tbody>\n",
       "</table>\n",
       "<p>1 rows × 22 columns</p>\n",
       "</div>"
      ],
      "text/plain": [
       "      REC_ID  Species Continent.of.Origin Country.of.Origin  Harvest.Year  \\\n",
       "1197    1197  Arabica                 NaN               NaN           NaN   \n",
       "\n",
       "     Expiration Variety Color Processing.Method  Aroma  ...  Acidity  Body  \\\n",
       "1197   02/29/12     NaN   NaN               NaN   6.75  ...     6.83  7.58   \n",
       "\n",
       "      Balance  Uniformity  Clean.Cup  Sweetness  Moisture  Quakers  \\\n",
       "1197      7.5        10.0       10.0       10.0       0.1        0   \n",
       "\n",
       "      Category.One.Defects  Category.Two.Defects  \n",
       "1197                     0                     3  \n",
       "\n",
       "[1 rows x 22 columns]"
      ]
     },
     "execution_count": 8,
     "metadata": {},
     "output_type": "execute_result"
    }
   ],
   "source": [
    "df[df[['Continent.of.Origin', 'Country.of.Origin']].isnull().any(axis=1)]"
   ]
  },
  {
   "cell_type": "code",
   "execution_count": 9,
   "id": "148da9ef",
   "metadata": {
    "execution": {
     "iopub.execute_input": "2024-04-14T18:08:15.013284Z",
     "iopub.status.busy": "2024-04-14T18:08:15.012497Z",
     "iopub.status.idle": "2024-04-14T18:08:15.021471Z",
     "shell.execute_reply": "2024-04-14T18:08:15.020317Z"
    },
    "papermill": {
     "duration": 0.03275,
     "end_time": "2024-04-14T18:08:15.024258",
     "exception": false,
     "start_time": "2024-04-14T18:08:14.991508",
     "status": "completed"
    },
    "tags": []
   },
   "outputs": [],
   "source": [
    "df.drop(df[df['REC_ID'] == 1197].index, inplace=True)"
   ]
  },
  {
   "cell_type": "markdown",
   "id": "704259d3",
   "metadata": {
    "papermill": {
     "duration": 0.019469,
     "end_time": "2024-04-14T18:08:15.062652",
     "exception": false,
     "start_time": "2024-04-14T18:08:15.043183",
     "status": "completed"
    },
    "tags": []
   },
   "source": [
    "***We can drop this row since it has a lot of info missing besides country and continent.***"
   ]
  },
  {
   "cell_type": "code",
   "execution_count": 10,
   "id": "36c64490",
   "metadata": {
    "execution": {
     "iopub.execute_input": "2024-04-14T18:08:15.101414Z",
     "iopub.status.busy": "2024-04-14T18:08:15.100725Z",
     "iopub.status.idle": "2024-04-14T18:08:15.127404Z",
     "shell.execute_reply": "2024-04-14T18:08:15.126494Z"
    },
    "papermill": {
     "duration": 0.048573,
     "end_time": "2024-04-14T18:08:15.129577",
     "exception": false,
     "start_time": "2024-04-14T18:08:15.081004",
     "status": "completed"
    },
    "tags": []
   },
   "outputs": [
    {
     "data": {
      "text/html": [
       "<div>\n",
       "<style scoped>\n",
       "    .dataframe tbody tr th:only-of-type {\n",
       "        vertical-align: middle;\n",
       "    }\n",
       "\n",
       "    .dataframe tbody tr th {\n",
       "        vertical-align: top;\n",
       "    }\n",
       "\n",
       "    .dataframe thead th {\n",
       "        text-align: right;\n",
       "    }\n",
       "</style>\n",
       "<table border=\"1\" class=\"dataframe\">\n",
       "  <thead>\n",
       "    <tr style=\"text-align: right;\">\n",
       "      <th></th>\n",
       "      <th>REC_ID</th>\n",
       "      <th>Species</th>\n",
       "      <th>Continent.of.Origin</th>\n",
       "      <th>Country.of.Origin</th>\n",
       "      <th>Harvest.Year</th>\n",
       "      <th>Expiration</th>\n",
       "      <th>Variety</th>\n",
       "      <th>Color</th>\n",
       "      <th>Processing.Method</th>\n",
       "      <th>Aroma</th>\n",
       "      <th>...</th>\n",
       "      <th>Acidity</th>\n",
       "      <th>Body</th>\n",
       "      <th>Balance</th>\n",
       "      <th>Uniformity</th>\n",
       "      <th>Clean.Cup</th>\n",
       "      <th>Sweetness</th>\n",
       "      <th>Moisture</th>\n",
       "      <th>Quakers</th>\n",
       "      <th>Category.One.Defects</th>\n",
       "      <th>Category.Two.Defects</th>\n",
       "    </tr>\n",
       "  </thead>\n",
       "  <tbody>\n",
       "    <tr>\n",
       "      <th>1195</th>\n",
       "      <td>1195</td>\n",
       "      <td>Arabica</td>\n",
       "      <td>North America</td>\n",
       "      <td>Mexico</td>\n",
       "      <td>2012.0</td>\n",
       "      <td>09/12/13</td>\n",
       "      <td>Mundo Novo</td>\n",
       "      <td>Green</td>\n",
       "      <td>Washed / Wet</td>\n",
       "      <td>7.25</td>\n",
       "      <td>...</td>\n",
       "      <td>7.33</td>\n",
       "      <td>7.42</td>\n",
       "      <td>7.00</td>\n",
       "      <td>9.33</td>\n",
       "      <td>10.00</td>\n",
       "      <td>10.0</td>\n",
       "      <td>0.11</td>\n",
       "      <td>0</td>\n",
       "      <td>0</td>\n",
       "      <td>45</td>\n",
       "    </tr>\n",
       "    <tr>\n",
       "      <th>1196</th>\n",
       "      <td>1196</td>\n",
       "      <td>Arabica</td>\n",
       "      <td>North America</td>\n",
       "      <td>Mexico</td>\n",
       "      <td>2012.0</td>\n",
       "      <td>07/03/13</td>\n",
       "      <td>Typica</td>\n",
       "      <td>Bluish-Green</td>\n",
       "      <td>Washed / Wet</td>\n",
       "      <td>7.17</td>\n",
       "      <td>...</td>\n",
       "      <td>7.17</td>\n",
       "      <td>7.25</td>\n",
       "      <td>7.08</td>\n",
       "      <td>9.33</td>\n",
       "      <td>9.33</td>\n",
       "      <td>10.0</td>\n",
       "      <td>0.10</td>\n",
       "      <td>0</td>\n",
       "      <td>0</td>\n",
       "      <td>0</td>\n",
       "    </tr>\n",
       "    <tr>\n",
       "      <th>1198</th>\n",
       "      <td>1198</td>\n",
       "      <td>Arabica</td>\n",
       "      <td>North America</td>\n",
       "      <td>Guatemala</td>\n",
       "      <td>2014.0</td>\n",
       "      <td>09/11/15</td>\n",
       "      <td>Other</td>\n",
       "      <td>Green</td>\n",
       "      <td>Washed / Wet</td>\n",
       "      <td>7.33</td>\n",
       "      <td>...</td>\n",
       "      <td>7.42</td>\n",
       "      <td>7.08</td>\n",
       "      <td>6.83</td>\n",
       "      <td>10.00</td>\n",
       "      <td>10.00</td>\n",
       "      <td>10.0</td>\n",
       "      <td>0.12</td>\n",
       "      <td>0</td>\n",
       "      <td>0</td>\n",
       "      <td>3</td>\n",
       "    </tr>\n",
       "  </tbody>\n",
       "</table>\n",
       "<p>3 rows × 22 columns</p>\n",
       "</div>"
      ],
      "text/plain": [
       "      REC_ID  Species Continent.of.Origin Country.of.Origin  Harvest.Year  \\\n",
       "1195    1195  Arabica       North America            Mexico        2012.0   \n",
       "1196    1196  Arabica       North America            Mexico        2012.0   \n",
       "1198    1198  Arabica       North America         Guatemala        2014.0   \n",
       "\n",
       "     Expiration     Variety         Color Processing.Method  Aroma  ...  \\\n",
       "1195   09/12/13  Mundo Novo         Green      Washed / Wet   7.25  ...   \n",
       "1196   07/03/13      Typica  Bluish-Green      Washed / Wet   7.17  ...   \n",
       "1198   09/11/15       Other         Green      Washed / Wet   7.33  ...   \n",
       "\n",
       "      Acidity  Body  Balance  Uniformity  Clean.Cup  Sweetness  Moisture  \\\n",
       "1195     7.33  7.42     7.00        9.33      10.00       10.0      0.11   \n",
       "1196     7.17  7.25     7.08        9.33       9.33       10.0      0.10   \n",
       "1198     7.42  7.08     6.83       10.00      10.00       10.0      0.12   \n",
       "\n",
       "      Quakers  Category.One.Defects  Category.Two.Defects  \n",
       "1195        0                     0                    45  \n",
       "1196        0                     0                     0  \n",
       "1198        0                     0                     3  \n",
       "\n",
       "[3 rows x 22 columns]"
      ]
     },
     "execution_count": 10,
     "metadata": {},
     "output_type": "execute_result"
    }
   ],
   "source": [
    "df.iloc[1195:1198]"
   ]
  },
  {
   "cell_type": "markdown",
   "id": "2de6b2b0",
   "metadata": {
    "papermill": {
     "duration": 0.018427,
     "end_time": "2024-04-14T18:08:15.167877",
     "exception": false,
     "start_time": "2024-04-14T18:08:15.149450",
     "status": "completed"
    },
    "tags": []
   },
   "source": [
    "***We will remove the REC_ID becasue it is the same as index***"
   ]
  },
  {
   "cell_type": "code",
   "execution_count": 11,
   "id": "128efe47",
   "metadata": {
    "execution": {
     "iopub.execute_input": "2024-04-14T18:08:15.207286Z",
     "iopub.status.busy": "2024-04-14T18:08:15.206824Z",
     "iopub.status.idle": "2024-04-14T18:08:15.214287Z",
     "shell.execute_reply": "2024-04-14T18:08:15.212925Z"
    },
    "papermill": {
     "duration": 0.0302,
     "end_time": "2024-04-14T18:08:15.216979",
     "exception": false,
     "start_time": "2024-04-14T18:08:15.186779",
     "status": "completed"
    },
    "tags": []
   },
   "outputs": [],
   "source": [
    "df.drop(columns=['REC_ID'], inplace=True)"
   ]
  },
  {
   "cell_type": "code",
   "execution_count": 12,
   "id": "162d0dd4",
   "metadata": {
    "execution": {
     "iopub.execute_input": "2024-04-14T18:08:15.257764Z",
     "iopub.status.busy": "2024-04-14T18:08:15.257345Z",
     "iopub.status.idle": "2024-04-14T18:08:15.262765Z",
     "shell.execute_reply": "2024-04-14T18:08:15.261560Z"
    },
    "papermill": {
     "duration": 0.028682,
     "end_time": "2024-04-14T18:08:15.265360",
     "exception": false,
     "start_time": "2024-04-14T18:08:15.236678",
     "status": "completed"
    },
    "tags": []
   },
   "outputs": [],
   "source": [
    "df.reset_index(drop=True, inplace=True)"
   ]
  },
  {
   "cell_type": "code",
   "execution_count": 13,
   "id": "82a9fff0",
   "metadata": {
    "execution": {
     "iopub.execute_input": "2024-04-14T18:08:15.307996Z",
     "iopub.status.busy": "2024-04-14T18:08:15.307563Z",
     "iopub.status.idle": "2024-04-14T18:08:15.333708Z",
     "shell.execute_reply": "2024-04-14T18:08:15.332810Z"
    },
    "papermill": {
     "duration": 0.050677,
     "end_time": "2024-04-14T18:08:15.336130",
     "exception": false,
     "start_time": "2024-04-14T18:08:15.285453",
     "status": "completed"
    },
    "tags": []
   },
   "outputs": [
    {
     "data": {
      "text/html": [
       "<div>\n",
       "<style scoped>\n",
       "    .dataframe tbody tr th:only-of-type {\n",
       "        vertical-align: middle;\n",
       "    }\n",
       "\n",
       "    .dataframe tbody tr th {\n",
       "        vertical-align: top;\n",
       "    }\n",
       "\n",
       "    .dataframe thead th {\n",
       "        text-align: right;\n",
       "    }\n",
       "</style>\n",
       "<table border=\"1\" class=\"dataframe\">\n",
       "  <thead>\n",
       "    <tr style=\"text-align: right;\">\n",
       "      <th></th>\n",
       "      <th>Species</th>\n",
       "      <th>Continent.of.Origin</th>\n",
       "      <th>Country.of.Origin</th>\n",
       "      <th>Harvest.Year</th>\n",
       "      <th>Expiration</th>\n",
       "      <th>Variety</th>\n",
       "      <th>Color</th>\n",
       "      <th>Processing.Method</th>\n",
       "      <th>Aroma</th>\n",
       "      <th>Flavor</th>\n",
       "      <th>...</th>\n",
       "      <th>Acidity</th>\n",
       "      <th>Body</th>\n",
       "      <th>Balance</th>\n",
       "      <th>Uniformity</th>\n",
       "      <th>Clean.Cup</th>\n",
       "      <th>Sweetness</th>\n",
       "      <th>Moisture</th>\n",
       "      <th>Quakers</th>\n",
       "      <th>Category.One.Defects</th>\n",
       "      <th>Category.Two.Defects</th>\n",
       "    </tr>\n",
       "  </thead>\n",
       "  <tbody>\n",
       "    <tr>\n",
       "      <th>1195</th>\n",
       "      <td>Arabica</td>\n",
       "      <td>North America</td>\n",
       "      <td>Mexico</td>\n",
       "      <td>2012.0</td>\n",
       "      <td>09/12/13</td>\n",
       "      <td>Mundo Novo</td>\n",
       "      <td>Green</td>\n",
       "      <td>Washed / Wet</td>\n",
       "      <td>7.25</td>\n",
       "      <td>7.08</td>\n",
       "      <td>...</td>\n",
       "      <td>7.33</td>\n",
       "      <td>7.42</td>\n",
       "      <td>7.00</td>\n",
       "      <td>9.33</td>\n",
       "      <td>10.00</td>\n",
       "      <td>10.0</td>\n",
       "      <td>0.11</td>\n",
       "      <td>0</td>\n",
       "      <td>0</td>\n",
       "      <td>45</td>\n",
       "    </tr>\n",
       "    <tr>\n",
       "      <th>1196</th>\n",
       "      <td>Arabica</td>\n",
       "      <td>North America</td>\n",
       "      <td>Mexico</td>\n",
       "      <td>2012.0</td>\n",
       "      <td>07/03/13</td>\n",
       "      <td>Typica</td>\n",
       "      <td>Bluish-Green</td>\n",
       "      <td>Washed / Wet</td>\n",
       "      <td>7.17</td>\n",
       "      <td>7.25</td>\n",
       "      <td>...</td>\n",
       "      <td>7.17</td>\n",
       "      <td>7.25</td>\n",
       "      <td>7.08</td>\n",
       "      <td>9.33</td>\n",
       "      <td>9.33</td>\n",
       "      <td>10.0</td>\n",
       "      <td>0.10</td>\n",
       "      <td>0</td>\n",
       "      <td>0</td>\n",
       "      <td>0</td>\n",
       "    </tr>\n",
       "    <tr>\n",
       "      <th>1197</th>\n",
       "      <td>Arabica</td>\n",
       "      <td>North America</td>\n",
       "      <td>Guatemala</td>\n",
       "      <td>2014.0</td>\n",
       "      <td>09/11/15</td>\n",
       "      <td>Other</td>\n",
       "      <td>Green</td>\n",
       "      <td>Washed / Wet</td>\n",
       "      <td>7.33</td>\n",
       "      <td>7.17</td>\n",
       "      <td>...</td>\n",
       "      <td>7.42</td>\n",
       "      <td>7.08</td>\n",
       "      <td>6.83</td>\n",
       "      <td>10.00</td>\n",
       "      <td>10.00</td>\n",
       "      <td>10.0</td>\n",
       "      <td>0.12</td>\n",
       "      <td>0</td>\n",
       "      <td>0</td>\n",
       "      <td>3</td>\n",
       "    </tr>\n",
       "  </tbody>\n",
       "</table>\n",
       "<p>3 rows × 21 columns</p>\n",
       "</div>"
      ],
      "text/plain": [
       "      Species Continent.of.Origin Country.of.Origin  Harvest.Year Expiration  \\\n",
       "1195  Arabica       North America            Mexico        2012.0   09/12/13   \n",
       "1196  Arabica       North America            Mexico        2012.0   07/03/13   \n",
       "1197  Arabica       North America         Guatemala        2014.0   09/11/15   \n",
       "\n",
       "         Variety         Color Processing.Method  Aroma  Flavor  ...  Acidity  \\\n",
       "1195  Mundo Novo         Green      Washed / Wet   7.25    7.08  ...     7.33   \n",
       "1196      Typica  Bluish-Green      Washed / Wet   7.17    7.25  ...     7.17   \n",
       "1197       Other         Green      Washed / Wet   7.33    7.17  ...     7.42   \n",
       "\n",
       "      Body  Balance  Uniformity  Clean.Cup  Sweetness  Moisture  Quakers  \\\n",
       "1195  7.42     7.00        9.33      10.00       10.0      0.11        0   \n",
       "1196  7.25     7.08        9.33       9.33       10.0      0.10        0   \n",
       "1197  7.08     6.83       10.00      10.00       10.0      0.12        0   \n",
       "\n",
       "      Category.One.Defects  Category.Two.Defects  \n",
       "1195                     0                    45  \n",
       "1196                     0                     0  \n",
       "1197                     0                     3  \n",
       "\n",
       "[3 rows x 21 columns]"
      ]
     },
     "execution_count": 13,
     "metadata": {},
     "output_type": "execute_result"
    }
   ],
   "source": [
    "df.iloc[1195:1198]"
   ]
  },
  {
   "cell_type": "code",
   "execution_count": 14,
   "id": "62834a48",
   "metadata": {
    "execution": {
     "iopub.execute_input": "2024-04-14T18:08:15.377904Z",
     "iopub.status.busy": "2024-04-14T18:08:15.377504Z",
     "iopub.status.idle": "2024-04-14T18:08:15.433694Z",
     "shell.execute_reply": "2024-04-14T18:08:15.432403Z"
    },
    "papermill": {
     "duration": 0.081157,
     "end_time": "2024-04-14T18:08:15.436586",
     "exception": false,
     "start_time": "2024-04-14T18:08:15.355429",
     "status": "completed"
    },
    "tags": []
   },
   "outputs": [
    {
     "data": {
      "text/html": [
       "<div>\n",
       "<style scoped>\n",
       "    .dataframe tbody tr th:only-of-type {\n",
       "        vertical-align: middle;\n",
       "    }\n",
       "\n",
       "    .dataframe tbody tr th {\n",
       "        vertical-align: top;\n",
       "    }\n",
       "\n",
       "    .dataframe thead th {\n",
       "        text-align: right;\n",
       "    }\n",
       "</style>\n",
       "<table border=\"1\" class=\"dataframe\">\n",
       "  <thead>\n",
       "    <tr style=\"text-align: right;\">\n",
       "      <th></th>\n",
       "      <th>Harvest.Year</th>\n",
       "      <th>Aroma</th>\n",
       "      <th>Flavor</th>\n",
       "      <th>Aftertaste</th>\n",
       "      <th>Acidity</th>\n",
       "      <th>Body</th>\n",
       "      <th>Balance</th>\n",
       "      <th>Uniformity</th>\n",
       "      <th>Clean.Cup</th>\n",
       "      <th>Sweetness</th>\n",
       "      <th>Moisture</th>\n",
       "      <th>Quakers</th>\n",
       "      <th>Category.One.Defects</th>\n",
       "      <th>Category.Two.Defects</th>\n",
       "    </tr>\n",
       "  </thead>\n",
       "  <tbody>\n",
       "    <tr>\n",
       "      <th>count</th>\n",
       "      <td>1279.000000</td>\n",
       "      <td>1338.000000</td>\n",
       "      <td>1338.000000</td>\n",
       "      <td>1338.000000</td>\n",
       "      <td>1338.000000</td>\n",
       "      <td>1338.000000</td>\n",
       "      <td>1338.000000</td>\n",
       "      <td>1338.000000</td>\n",
       "      <td>1338.000000</td>\n",
       "      <td>1338.000000</td>\n",
       "      <td>1338.000000</td>\n",
       "      <td>1338.000000</td>\n",
       "      <td>1338.000000</td>\n",
       "      <td>1338.000000</td>\n",
       "    </tr>\n",
       "    <tr>\n",
       "      <th>mean</th>\n",
       "      <td>2013.567631</td>\n",
       "      <td>7.567317</td>\n",
       "      <td>7.521001</td>\n",
       "      <td>7.401816</td>\n",
       "      <td>7.536233</td>\n",
       "      <td>7.517451</td>\n",
       "      <td>7.518027</td>\n",
       "      <td>9.834753</td>\n",
       "      <td>9.834985</td>\n",
       "      <td>9.856584</td>\n",
       "      <td>0.088371</td>\n",
       "      <td>0.173393</td>\n",
       "      <td>0.479821</td>\n",
       "      <td>3.556801</td>\n",
       "    </tr>\n",
       "    <tr>\n",
       "      <th>std</th>\n",
       "      <td>1.808496</td>\n",
       "      <td>0.377040</td>\n",
       "      <td>0.398033</td>\n",
       "      <td>0.403723</td>\n",
       "      <td>0.379478</td>\n",
       "      <td>0.370198</td>\n",
       "      <td>0.409096</td>\n",
       "      <td>0.554780</td>\n",
       "      <td>0.764218</td>\n",
       "      <td>0.616320</td>\n",
       "      <td>0.048304</td>\n",
       "      <td>0.832121</td>\n",
       "      <td>2.550603</td>\n",
       "      <td>5.314505</td>\n",
       "    </tr>\n",
       "    <tr>\n",
       "      <th>min</th>\n",
       "      <td>2009.000000</td>\n",
       "      <td>0.000000</td>\n",
       "      <td>0.000000</td>\n",
       "      <td>0.000000</td>\n",
       "      <td>0.000000</td>\n",
       "      <td>0.000000</td>\n",
       "      <td>0.000000</td>\n",
       "      <td>0.000000</td>\n",
       "      <td>0.000000</td>\n",
       "      <td>0.000000</td>\n",
       "      <td>0.000000</td>\n",
       "      <td>0.000000</td>\n",
       "      <td>0.000000</td>\n",
       "      <td>0.000000</td>\n",
       "    </tr>\n",
       "    <tr>\n",
       "      <th>25%</th>\n",
       "      <td>2012.000000</td>\n",
       "      <td>7.420000</td>\n",
       "      <td>7.330000</td>\n",
       "      <td>7.250000</td>\n",
       "      <td>7.330000</td>\n",
       "      <td>7.330000</td>\n",
       "      <td>7.330000</td>\n",
       "      <td>10.000000</td>\n",
       "      <td>10.000000</td>\n",
       "      <td>10.000000</td>\n",
       "      <td>0.090000</td>\n",
       "      <td>0.000000</td>\n",
       "      <td>0.000000</td>\n",
       "      <td>0.000000</td>\n",
       "    </tr>\n",
       "    <tr>\n",
       "      <th>50%</th>\n",
       "      <td>2013.000000</td>\n",
       "      <td>7.580000</td>\n",
       "      <td>7.580000</td>\n",
       "      <td>7.420000</td>\n",
       "      <td>7.580000</td>\n",
       "      <td>7.500000</td>\n",
       "      <td>7.500000</td>\n",
       "      <td>10.000000</td>\n",
       "      <td>10.000000</td>\n",
       "      <td>10.000000</td>\n",
       "      <td>0.110000</td>\n",
       "      <td>0.000000</td>\n",
       "      <td>0.000000</td>\n",
       "      <td>2.000000</td>\n",
       "    </tr>\n",
       "    <tr>\n",
       "      <th>75%</th>\n",
       "      <td>2015.000000</td>\n",
       "      <td>7.750000</td>\n",
       "      <td>7.750000</td>\n",
       "      <td>7.580000</td>\n",
       "      <td>7.750000</td>\n",
       "      <td>7.670000</td>\n",
       "      <td>7.750000</td>\n",
       "      <td>10.000000</td>\n",
       "      <td>10.000000</td>\n",
       "      <td>10.000000</td>\n",
       "      <td>0.120000</td>\n",
       "      <td>0.000000</td>\n",
       "      <td>0.000000</td>\n",
       "      <td>4.000000</td>\n",
       "    </tr>\n",
       "    <tr>\n",
       "      <th>max</th>\n",
       "      <td>2018.000000</td>\n",
       "      <td>8.750000</td>\n",
       "      <td>8.830000</td>\n",
       "      <td>8.670000</td>\n",
       "      <td>8.750000</td>\n",
       "      <td>8.580000</td>\n",
       "      <td>8.750000</td>\n",
       "      <td>10.000000</td>\n",
       "      <td>10.000000</td>\n",
       "      <td>10.000000</td>\n",
       "      <td>0.280000</td>\n",
       "      <td>11.000000</td>\n",
       "      <td>63.000000</td>\n",
       "      <td>55.000000</td>\n",
       "    </tr>\n",
       "  </tbody>\n",
       "</table>\n",
       "</div>"
      ],
      "text/plain": [
       "       Harvest.Year        Aroma       Flavor   Aftertaste      Acidity  \\\n",
       "count   1279.000000  1338.000000  1338.000000  1338.000000  1338.000000   \n",
       "mean    2013.567631     7.567317     7.521001     7.401816     7.536233   \n",
       "std        1.808496     0.377040     0.398033     0.403723     0.379478   \n",
       "min     2009.000000     0.000000     0.000000     0.000000     0.000000   \n",
       "25%     2012.000000     7.420000     7.330000     7.250000     7.330000   \n",
       "50%     2013.000000     7.580000     7.580000     7.420000     7.580000   \n",
       "75%     2015.000000     7.750000     7.750000     7.580000     7.750000   \n",
       "max     2018.000000     8.750000     8.830000     8.670000     8.750000   \n",
       "\n",
       "              Body      Balance   Uniformity    Clean.Cup    Sweetness  \\\n",
       "count  1338.000000  1338.000000  1338.000000  1338.000000  1338.000000   \n",
       "mean      7.517451     7.518027     9.834753     9.834985     9.856584   \n",
       "std       0.370198     0.409096     0.554780     0.764218     0.616320   \n",
       "min       0.000000     0.000000     0.000000     0.000000     0.000000   \n",
       "25%       7.330000     7.330000    10.000000    10.000000    10.000000   \n",
       "50%       7.500000     7.500000    10.000000    10.000000    10.000000   \n",
       "75%       7.670000     7.750000    10.000000    10.000000    10.000000   \n",
       "max       8.580000     8.750000    10.000000    10.000000    10.000000   \n",
       "\n",
       "          Moisture      Quakers  Category.One.Defects  Category.Two.Defects  \n",
       "count  1338.000000  1338.000000           1338.000000           1338.000000  \n",
       "mean      0.088371     0.173393              0.479821              3.556801  \n",
       "std       0.048304     0.832121              2.550603              5.314505  \n",
       "min       0.000000     0.000000              0.000000              0.000000  \n",
       "25%       0.090000     0.000000              0.000000              0.000000  \n",
       "50%       0.110000     0.000000              0.000000              2.000000  \n",
       "75%       0.120000     0.000000              0.000000              4.000000  \n",
       "max       0.280000    11.000000             63.000000             55.000000  "
      ]
     },
     "execution_count": 14,
     "metadata": {},
     "output_type": "execute_result"
    }
   ],
   "source": [
    "df.describe()"
   ]
  },
  {
   "cell_type": "code",
   "execution_count": 15,
   "id": "b038f7a0",
   "metadata": {
    "execution": {
     "iopub.execute_input": "2024-04-14T18:08:15.477089Z",
     "iopub.status.busy": "2024-04-14T18:08:15.476698Z",
     "iopub.status.idle": "2024-04-14T18:08:15.495026Z",
     "shell.execute_reply": "2024-04-14T18:08:15.493741Z"
    },
    "papermill": {
     "duration": 0.041936,
     "end_time": "2024-04-14T18:08:15.497948",
     "exception": false,
     "start_time": "2024-04-14T18:08:15.456012",
     "status": "completed"
    },
    "tags": []
   },
   "outputs": [
    {
     "data": {
      "text/plain": [
       "1"
      ]
     },
     "execution_count": 15,
     "metadata": {},
     "output_type": "execute_result"
    }
   ],
   "source": [
    "df.duplicated().sum()"
   ]
  },
  {
   "cell_type": "code",
   "execution_count": 16,
   "id": "98a38ca9",
   "metadata": {
    "execution": {
     "iopub.execute_input": "2024-04-14T18:08:15.603726Z",
     "iopub.status.busy": "2024-04-14T18:08:15.603307Z",
     "iopub.status.idle": "2024-04-14T18:08:15.614215Z",
     "shell.execute_reply": "2024-04-14T18:08:15.612983Z"
    },
    "papermill": {
     "duration": 0.035566,
     "end_time": "2024-04-14T18:08:15.617222",
     "exception": false,
     "start_time": "2024-04-14T18:08:15.581656",
     "status": "completed"
    },
    "tags": []
   },
   "outputs": [],
   "source": [
    "df.drop_duplicates(inplace=True, ignore_index=True)"
   ]
  },
  {
   "cell_type": "code",
   "execution_count": 17,
   "id": "8e0429cd",
   "metadata": {
    "execution": {
     "iopub.execute_input": "2024-04-14T18:08:15.658370Z",
     "iopub.status.busy": "2024-04-14T18:08:15.657922Z",
     "iopub.status.idle": "2024-04-14T18:08:15.666009Z",
     "shell.execute_reply": "2024-04-14T18:08:15.665164Z"
    },
    "papermill": {
     "duration": 0.03137,
     "end_time": "2024-04-14T18:08:15.668310",
     "exception": false,
     "start_time": "2024-04-14T18:08:15.636940",
     "status": "completed"
    },
    "tags": []
   },
   "outputs": [
    {
     "data": {
      "text/plain": [
       "Index(['Harvest.Year', 'Aroma', 'Flavor', 'Aftertaste', 'Acidity', 'Body',\n",
       "       'Balance', 'Uniformity', 'Clean.Cup', 'Sweetness', 'Moisture',\n",
       "       'Quakers', 'Category.One.Defects', 'Category.Two.Defects'],\n",
       "      dtype='object')"
      ]
     },
     "execution_count": 17,
     "metadata": {},
     "output_type": "execute_result"
    }
   ],
   "source": [
    "df_object = df.select_dtypes(exclude='object')\n",
    "df_object.columns"
   ]
  },
  {
   "cell_type": "code",
   "execution_count": 18,
   "id": "177f1fff",
   "metadata": {
    "execution": {
     "iopub.execute_input": "2024-04-14T18:08:15.709811Z",
     "iopub.status.busy": "2024-04-14T18:08:15.709392Z",
     "iopub.status.idle": "2024-04-14T18:08:15.724548Z",
     "shell.execute_reply": "2024-04-14T18:08:15.723158Z"
    },
    "papermill": {
     "duration": 0.039063,
     "end_time": "2024-04-14T18:08:15.727199",
     "exception": false,
     "start_time": "2024-04-14T18:08:15.688136",
     "status": "completed"
    },
    "tags": []
   },
   "outputs": [
    {
     "data": {
      "text/html": [
       "<div>\n",
       "<style scoped>\n",
       "    .dataframe tbody tr th:only-of-type {\n",
       "        vertical-align: middle;\n",
       "    }\n",
       "\n",
       "    .dataframe tbody tr th {\n",
       "        vertical-align: top;\n",
       "    }\n",
       "\n",
       "    .dataframe thead th {\n",
       "        text-align: right;\n",
       "    }\n",
       "</style>\n",
       "<table border=\"1\" class=\"dataframe\">\n",
       "  <thead>\n",
       "    <tr style=\"text-align: right;\">\n",
       "      <th></th>\n",
       "      <th>Species</th>\n",
       "      <th>Continent.of.Origin</th>\n",
       "      <th>Country.of.Origin</th>\n",
       "      <th>Expiration</th>\n",
       "      <th>Variety</th>\n",
       "      <th>Color</th>\n",
       "      <th>Processing.Method</th>\n",
       "    </tr>\n",
       "  </thead>\n",
       "  <tbody>\n",
       "    <tr>\n",
       "      <th>0</th>\n",
       "      <td>Arabica</td>\n",
       "      <td>Africa</td>\n",
       "      <td>Ethiopia</td>\n",
       "      <td>04/03/16</td>\n",
       "      <td>NaN</td>\n",
       "      <td>Green</td>\n",
       "      <td>Washed / Wet</td>\n",
       "    </tr>\n",
       "    <tr>\n",
       "      <th>1</th>\n",
       "      <td>Arabica</td>\n",
       "      <td>Africa</td>\n",
       "      <td>Ethiopia</td>\n",
       "      <td>04/03/16</td>\n",
       "      <td>Other</td>\n",
       "      <td>Green</td>\n",
       "      <td>Washed / Wet</td>\n",
       "    </tr>\n",
       "    <tr>\n",
       "      <th>2</th>\n",
       "      <td>Arabica</td>\n",
       "      <td>North America</td>\n",
       "      <td>Guatemala</td>\n",
       "      <td>05/31/11</td>\n",
       "      <td>Bourbon</td>\n",
       "      <td>NaN</td>\n",
       "      <td>NaN</td>\n",
       "    </tr>\n",
       "    <tr>\n",
       "      <th>3</th>\n",
       "      <td>Arabica</td>\n",
       "      <td>Africa</td>\n",
       "      <td>Ethiopia</td>\n",
       "      <td>03/25/16</td>\n",
       "      <td>NaN</td>\n",
       "      <td>Green</td>\n",
       "      <td>Natural / Dry</td>\n",
       "    </tr>\n",
       "    <tr>\n",
       "      <th>4</th>\n",
       "      <td>Arabica</td>\n",
       "      <td>Africa</td>\n",
       "      <td>Ethiopia</td>\n",
       "      <td>04/03/16</td>\n",
       "      <td>Other</td>\n",
       "      <td>Green</td>\n",
       "      <td>Washed / Wet</td>\n",
       "    </tr>\n",
       "  </tbody>\n",
       "</table>\n",
       "</div>"
      ],
      "text/plain": [
       "   Species Continent.of.Origin Country.of.Origin Expiration  Variety  Color  \\\n",
       "0  Arabica              Africa          Ethiopia   04/03/16      NaN  Green   \n",
       "1  Arabica              Africa          Ethiopia   04/03/16    Other  Green   \n",
       "2  Arabica       North America         Guatemala   05/31/11  Bourbon    NaN   \n",
       "3  Arabica              Africa          Ethiopia   03/25/16      NaN  Green   \n",
       "4  Arabica              Africa          Ethiopia   04/03/16    Other  Green   \n",
       "\n",
       "  Processing.Method  \n",
       "0      Washed / Wet  \n",
       "1      Washed / Wet  \n",
       "2               NaN  \n",
       "3     Natural / Dry  \n",
       "4      Washed / Wet  "
      ]
     },
     "execution_count": 18,
     "metadata": {},
     "output_type": "execute_result"
    }
   ],
   "source": [
    "df_object = df.select_dtypes(include='object')\n",
    "df_object.head()"
   ]
  },
  {
   "cell_type": "code",
   "execution_count": 19,
   "id": "608e4578",
   "metadata": {
    "execution": {
     "iopub.execute_input": "2024-04-14T18:08:15.769486Z",
     "iopub.status.busy": "2024-04-14T18:08:15.768801Z",
     "iopub.status.idle": "2024-04-14T18:08:15.780043Z",
     "shell.execute_reply": "2024-04-14T18:08:15.778840Z"
    },
    "papermill": {
     "duration": 0.035038,
     "end_time": "2024-04-14T18:08:15.782492",
     "exception": false,
     "start_time": "2024-04-14T18:08:15.747454",
     "status": "completed"
    },
    "tags": []
   },
   "outputs": [
    {
     "data": {
      "text/plain": [
       "Species\n",
       "Arabica    1309\n",
       "Robusta      28\n",
       "Name: count, dtype: int64"
      ]
     },
     "execution_count": 19,
     "metadata": {},
     "output_type": "execute_result"
    }
   ],
   "source": [
    "df_object.Species.value_counts()"
   ]
  },
  {
   "cell_type": "code",
   "execution_count": 20,
   "id": "7a7f7896",
   "metadata": {
    "execution": {
     "iopub.execute_input": "2024-04-14T18:08:15.826278Z",
     "iopub.status.busy": "2024-04-14T18:08:15.825815Z",
     "iopub.status.idle": "2024-04-14T18:08:15.835670Z",
     "shell.execute_reply": "2024-04-14T18:08:15.834478Z"
    },
    "papermill": {
     "duration": 0.034582,
     "end_time": "2024-04-14T18:08:15.837976",
     "exception": false,
     "start_time": "2024-04-14T18:08:15.803394",
     "status": "completed"
    },
    "tags": []
   },
   "outputs": [
    {
     "data": {
      "text/plain": [
       "Continent.of.Origin\n",
       "North America    665\n",
       "South America    328\n",
       "Asia             181\n",
       "Africa           162\n",
       "Oceania            1\n",
       "Name: count, dtype: int64"
      ]
     },
     "execution_count": 20,
     "metadata": {},
     "output_type": "execute_result"
    }
   ],
   "source": [
    "df_object['Continent.of.Origin'].value_counts()"
   ]
  },
  {
   "cell_type": "code",
   "execution_count": 21,
   "id": "44b12196",
   "metadata": {
    "execution": {
     "iopub.execute_input": "2024-04-14T18:08:15.880398Z",
     "iopub.status.busy": "2024-04-14T18:08:15.879938Z",
     "iopub.status.idle": "2024-04-14T18:08:15.890060Z",
     "shell.execute_reply": "2024-04-14T18:08:15.888913Z"
    },
    "papermill": {
     "duration": 0.034271,
     "end_time": "2024-04-14T18:08:15.892487",
     "exception": false,
     "start_time": "2024-04-14T18:08:15.858216",
     "status": "completed"
    },
    "tags": []
   },
   "outputs": [
    {
     "data": {
      "text/plain": [
       "Country.of.Origin\n",
       "Mexico              236\n",
       "Colombia            183\n",
       "Guatemala           181\n",
       "Brazil              132\n",
       "United States        87\n",
       "Taiwan               74\n",
       "Honduras             53\n",
       "Costa Rica           51\n",
       "Ethiopia             44\n",
       "Tanzania             40\n",
       "Uganda               36\n",
       "Thailand             32\n",
       "Nicaragua            26\n",
       "Kenya                25\n",
       "El Salvador          21\n",
       "Indonesia            20\n",
       "China                16\n",
       "India                14\n",
       "Malawi               11\n",
       "Peru                 10\n",
       "Vietnam               8\n",
       "Myanmar               8\n",
       "Haiti                 6\n",
       "Philippines           5\n",
       "Panama                4\n",
       "Ecuador               3\n",
       "Laos                  3\n",
       "Burundi               2\n",
       "Papua New Guinea      1\n",
       "Japan                 1\n",
       "Rwanda                1\n",
       "Zambia                1\n",
       "Mauritius             1\n",
       "Cote dIvoire          1\n",
       "Name: count, dtype: int64"
      ]
     },
     "execution_count": 21,
     "metadata": {},
     "output_type": "execute_result"
    }
   ],
   "source": [
    "df_object['Country.of.Origin'].value_counts()"
   ]
  },
  {
   "cell_type": "code",
   "execution_count": 22,
   "id": "8f40a652",
   "metadata": {
    "execution": {
     "iopub.execute_input": "2024-04-14T18:08:15.935644Z",
     "iopub.status.busy": "2024-04-14T18:08:15.935252Z",
     "iopub.status.idle": "2024-04-14T18:08:15.943636Z",
     "shell.execute_reply": "2024-04-14T18:08:15.942703Z"
    },
    "papermill": {
     "duration": 0.032843,
     "end_time": "2024-04-14T18:08:15.946000",
     "exception": false,
     "start_time": "2024-04-14T18:08:15.913157",
     "status": "completed"
    },
    "tags": []
   },
   "outputs": [
    {
     "data": {
      "text/plain": [
       "0    04/03/16\n",
       "1    04/03/16\n",
       "2    05/31/11\n",
       "3    03/25/16\n",
       "4    04/03/16\n",
       "Name: Expiration, dtype: object"
      ]
     },
     "execution_count": 22,
     "metadata": {},
     "output_type": "execute_result"
    }
   ],
   "source": [
    "df['Expiration'].head()"
   ]
  },
  {
   "cell_type": "markdown",
   "id": "c7dab799",
   "metadata": {
    "papermill": {
     "duration": 0.020508,
     "end_time": "2024-04-14T18:08:15.987804",
     "exception": false,
     "start_time": "2024-04-14T18:08:15.967296",
     "status": "completed"
    },
    "tags": []
   },
   "source": [
    "***Changing Expiration column data types of date type***"
   ]
  },
  {
   "cell_type": "code",
   "execution_count": 23,
   "id": "56fbef59",
   "metadata": {
    "execution": {
     "iopub.execute_input": "2024-04-14T18:08:16.032216Z",
     "iopub.status.busy": "2024-04-14T18:08:16.031749Z",
     "iopub.status.idle": "2024-04-14T18:08:16.047058Z",
     "shell.execute_reply": "2024-04-14T18:08:16.045730Z"
    },
    "papermill": {
     "duration": 0.040909,
     "end_time": "2024-04-14T18:08:16.050150",
     "exception": false,
     "start_time": "2024-04-14T18:08:16.009241",
     "status": "completed"
    },
    "tags": []
   },
   "outputs": [],
   "source": [
    "df['Expiration']= pd.to_datetime(df['Expiration'], format=\"%m/%d/%y\")"
   ]
  },
  {
   "cell_type": "code",
   "execution_count": 24,
   "id": "13519496",
   "metadata": {
    "execution": {
     "iopub.execute_input": "2024-04-14T18:08:16.095219Z",
     "iopub.status.busy": "2024-04-14T18:08:16.094595Z",
     "iopub.status.idle": "2024-04-14T18:08:16.102927Z",
     "shell.execute_reply": "2024-04-14T18:08:16.101657Z"
    },
    "papermill": {
     "duration": 0.035241,
     "end_time": "2024-04-14T18:08:16.106864",
     "exception": false,
     "start_time": "2024-04-14T18:08:16.071623",
     "status": "completed"
    },
    "tags": []
   },
   "outputs": [],
   "source": [
    "df['Expiration_year'] = df['Expiration'].dt.year"
   ]
  },
  {
   "cell_type": "code",
   "execution_count": 25,
   "id": "7078fb54",
   "metadata": {
    "execution": {
     "iopub.execute_input": "2024-04-14T18:08:16.160049Z",
     "iopub.status.busy": "2024-04-14T18:08:16.159307Z",
     "iopub.status.idle": "2024-04-14T18:08:16.174672Z",
     "shell.execute_reply": "2024-04-14T18:08:16.173327Z"
    },
    "papermill": {
     "duration": 0.044657,
     "end_time": "2024-04-14T18:08:16.177686",
     "exception": false,
     "start_time": "2024-04-14T18:08:16.133029",
     "status": "completed"
    },
    "tags": []
   },
   "outputs": [
    {
     "data": {
      "text/html": [
       "<div>\n",
       "<style scoped>\n",
       "    .dataframe tbody tr th:only-of-type {\n",
       "        vertical-align: middle;\n",
       "    }\n",
       "\n",
       "    .dataframe tbody tr th {\n",
       "        vertical-align: top;\n",
       "    }\n",
       "\n",
       "    .dataframe thead th {\n",
       "        text-align: right;\n",
       "    }\n",
       "</style>\n",
       "<table border=\"1\" class=\"dataframe\">\n",
       "  <thead>\n",
       "    <tr style=\"text-align: right;\">\n",
       "      <th></th>\n",
       "      <th>Expiration</th>\n",
       "      <th>Expiration_year</th>\n",
       "    </tr>\n",
       "  </thead>\n",
       "  <tbody>\n",
       "    <tr>\n",
       "      <th>0</th>\n",
       "      <td>2016-04-03</td>\n",
       "      <td>2016</td>\n",
       "    </tr>\n",
       "    <tr>\n",
       "      <th>1</th>\n",
       "      <td>2016-04-03</td>\n",
       "      <td>2016</td>\n",
       "    </tr>\n",
       "    <tr>\n",
       "      <th>2</th>\n",
       "      <td>2011-05-31</td>\n",
       "      <td>2011</td>\n",
       "    </tr>\n",
       "    <tr>\n",
       "      <th>3</th>\n",
       "      <td>2016-03-25</td>\n",
       "      <td>2016</td>\n",
       "    </tr>\n",
       "    <tr>\n",
       "      <th>4</th>\n",
       "      <td>2016-04-03</td>\n",
       "      <td>2016</td>\n",
       "    </tr>\n",
       "  </tbody>\n",
       "</table>\n",
       "</div>"
      ],
      "text/plain": [
       "  Expiration  Expiration_year\n",
       "0 2016-04-03             2016\n",
       "1 2016-04-03             2016\n",
       "2 2011-05-31             2011\n",
       "3 2016-03-25             2016\n",
       "4 2016-04-03             2016"
      ]
     },
     "execution_count": 25,
     "metadata": {},
     "output_type": "execute_result"
    }
   ],
   "source": [
    "df[['Expiration', 'Expiration_year']].head()"
   ]
  },
  {
   "cell_type": "code",
   "execution_count": 26,
   "id": "4fcaebff",
   "metadata": {
    "execution": {
     "iopub.execute_input": "2024-04-14T18:08:16.223492Z",
     "iopub.status.busy": "2024-04-14T18:08:16.223021Z",
     "iopub.status.idle": "2024-04-14T18:08:16.230617Z",
     "shell.execute_reply": "2024-04-14T18:08:16.229365Z"
    },
    "papermill": {
     "duration": 0.032301,
     "end_time": "2024-04-14T18:08:16.233019",
     "exception": false,
     "start_time": "2024-04-14T18:08:16.200718",
     "status": "completed"
    },
    "tags": []
   },
   "outputs": [],
   "source": [
    "df.drop(columns=['Expiration'], inplace=True)"
   ]
  },
  {
   "cell_type": "code",
   "execution_count": 27,
   "id": "7d59345a",
   "metadata": {
    "execution": {
     "iopub.execute_input": "2024-04-14T18:08:16.278173Z",
     "iopub.status.busy": "2024-04-14T18:08:16.277038Z",
     "iopub.status.idle": "2024-04-14T18:08:16.303534Z",
     "shell.execute_reply": "2024-04-14T18:08:16.301575Z"
    },
    "papermill": {
     "duration": 0.05233,
     "end_time": "2024-04-14T18:08:16.306991",
     "exception": false,
     "start_time": "2024-04-14T18:08:16.254661",
     "status": "completed"
    },
    "tags": []
   },
   "outputs": [
    {
     "data": {
      "text/html": [
       "<div>\n",
       "<style scoped>\n",
       "    .dataframe tbody tr th:only-of-type {\n",
       "        vertical-align: middle;\n",
       "    }\n",
       "\n",
       "    .dataframe tbody tr th {\n",
       "        vertical-align: top;\n",
       "    }\n",
       "\n",
       "    .dataframe thead th {\n",
       "        text-align: right;\n",
       "    }\n",
       "</style>\n",
       "<table border=\"1\" class=\"dataframe\">\n",
       "  <thead>\n",
       "    <tr style=\"text-align: right;\">\n",
       "      <th></th>\n",
       "      <th>Harvest.Year</th>\n",
       "      <th>Aroma</th>\n",
       "      <th>Flavor</th>\n",
       "      <th>Aftertaste</th>\n",
       "      <th>Acidity</th>\n",
       "      <th>Body</th>\n",
       "      <th>Balance</th>\n",
       "      <th>Uniformity</th>\n",
       "      <th>Clean.Cup</th>\n",
       "      <th>Sweetness</th>\n",
       "      <th>Moisture</th>\n",
       "      <th>Quakers</th>\n",
       "      <th>Category.One.Defects</th>\n",
       "      <th>Category.Two.Defects</th>\n",
       "      <th>Expiration_year</th>\n",
       "    </tr>\n",
       "  </thead>\n",
       "  <tbody>\n",
       "    <tr>\n",
       "      <th>0</th>\n",
       "      <td>2014.0</td>\n",
       "      <td>8.67</td>\n",
       "      <td>8.83</td>\n",
       "      <td>8.67</td>\n",
       "      <td>8.75</td>\n",
       "      <td>8.50</td>\n",
       "      <td>8.42</td>\n",
       "      <td>10.0</td>\n",
       "      <td>10.0</td>\n",
       "      <td>10.0</td>\n",
       "      <td>0.12</td>\n",
       "      <td>0</td>\n",
       "      <td>0</td>\n",
       "      <td>0</td>\n",
       "      <td>2016</td>\n",
       "    </tr>\n",
       "    <tr>\n",
       "      <th>1</th>\n",
       "      <td>2014.0</td>\n",
       "      <td>8.75</td>\n",
       "      <td>8.67</td>\n",
       "      <td>8.50</td>\n",
       "      <td>8.58</td>\n",
       "      <td>8.42</td>\n",
       "      <td>8.42</td>\n",
       "      <td>10.0</td>\n",
       "      <td>10.0</td>\n",
       "      <td>10.0</td>\n",
       "      <td>0.12</td>\n",
       "      <td>0</td>\n",
       "      <td>0</td>\n",
       "      <td>1</td>\n",
       "      <td>2016</td>\n",
       "    </tr>\n",
       "    <tr>\n",
       "      <th>2</th>\n",
       "      <td>NaN</td>\n",
       "      <td>8.42</td>\n",
       "      <td>8.50</td>\n",
       "      <td>8.42</td>\n",
       "      <td>8.42</td>\n",
       "      <td>8.33</td>\n",
       "      <td>8.42</td>\n",
       "      <td>10.0</td>\n",
       "      <td>10.0</td>\n",
       "      <td>10.0</td>\n",
       "      <td>0.00</td>\n",
       "      <td>0</td>\n",
       "      <td>0</td>\n",
       "      <td>0</td>\n",
       "      <td>2011</td>\n",
       "    </tr>\n",
       "    <tr>\n",
       "      <th>3</th>\n",
       "      <td>2014.0</td>\n",
       "      <td>8.17</td>\n",
       "      <td>8.58</td>\n",
       "      <td>8.42</td>\n",
       "      <td>8.42</td>\n",
       "      <td>8.50</td>\n",
       "      <td>8.25</td>\n",
       "      <td>10.0</td>\n",
       "      <td>10.0</td>\n",
       "      <td>10.0</td>\n",
       "      <td>0.11</td>\n",
       "      <td>0</td>\n",
       "      <td>0</td>\n",
       "      <td>2</td>\n",
       "      <td>2016</td>\n",
       "    </tr>\n",
       "    <tr>\n",
       "      <th>4</th>\n",
       "      <td>2014.0</td>\n",
       "      <td>8.25</td>\n",
       "      <td>8.50</td>\n",
       "      <td>8.25</td>\n",
       "      <td>8.50</td>\n",
       "      <td>8.42</td>\n",
       "      <td>8.33</td>\n",
       "      <td>10.0</td>\n",
       "      <td>10.0</td>\n",
       "      <td>10.0</td>\n",
       "      <td>0.12</td>\n",
       "      <td>0</td>\n",
       "      <td>0</td>\n",
       "      <td>2</td>\n",
       "      <td>2016</td>\n",
       "    </tr>\n",
       "  </tbody>\n",
       "</table>\n",
       "</div>"
      ],
      "text/plain": [
       "   Harvest.Year  Aroma  Flavor  Aftertaste  Acidity  Body  Balance  \\\n",
       "0        2014.0   8.67    8.83        8.67     8.75  8.50     8.42   \n",
       "1        2014.0   8.75    8.67        8.50     8.58  8.42     8.42   \n",
       "2           NaN   8.42    8.50        8.42     8.42  8.33     8.42   \n",
       "3        2014.0   8.17    8.58        8.42     8.42  8.50     8.25   \n",
       "4        2014.0   8.25    8.50        8.25     8.50  8.42     8.33   \n",
       "\n",
       "   Uniformity  Clean.Cup  Sweetness  Moisture  Quakers  Category.One.Defects  \\\n",
       "0        10.0       10.0       10.0      0.12        0                     0   \n",
       "1        10.0       10.0       10.0      0.12        0                     0   \n",
       "2        10.0       10.0       10.0      0.00        0                     0   \n",
       "3        10.0       10.0       10.0      0.11        0                     0   \n",
       "4        10.0       10.0       10.0      0.12        0                     0   \n",
       "\n",
       "   Category.Two.Defects  Expiration_year  \n",
       "0                     0             2016  \n",
       "1                     1             2016  \n",
       "2                     0             2011  \n",
       "3                     2             2016  \n",
       "4                     2             2016  "
      ]
     },
     "execution_count": 27,
     "metadata": {},
     "output_type": "execute_result"
    }
   ],
   "source": [
    "features = df.select_dtypes(exclude='object')\n",
    "features.head()"
   ]
  },
  {
   "cell_type": "code",
   "execution_count": 28,
   "id": "10b9bb10",
   "metadata": {
    "execution": {
     "iopub.execute_input": "2024-04-14T18:08:16.371572Z",
     "iopub.status.busy": "2024-04-14T18:08:16.370063Z",
     "iopub.status.idle": "2024-04-14T18:08:16.385263Z",
     "shell.execute_reply": "2024-04-14T18:08:16.384041Z"
    },
    "papermill": {
     "duration": 0.050592,
     "end_time": "2024-04-14T18:08:16.388217",
     "exception": false,
     "start_time": "2024-04-14T18:08:16.337625",
     "status": "completed"
    },
    "tags": []
   },
   "outputs": [
    {
     "data": {
      "text/plain": [
       "count    1278.000000\n",
       "mean     2013.568075\n",
       "std         1.809134\n",
       "min      2009.000000\n",
       "25%      2012.000000\n",
       "50%      2013.000000\n",
       "75%      2015.000000\n",
       "max      2018.000000\n",
       "Name: Harvest.Year, dtype: float64"
      ]
     },
     "execution_count": 28,
     "metadata": {},
     "output_type": "execute_result"
    }
   ],
   "source": [
    "df['Harvest.Year'].describe()"
   ]
  },
  {
   "cell_type": "code",
   "execution_count": 29,
   "id": "789d4ba4",
   "metadata": {
    "execution": {
     "iopub.execute_input": "2024-04-14T18:08:16.438275Z",
     "iopub.status.busy": "2024-04-14T18:08:16.437551Z",
     "iopub.status.idle": "2024-04-14T18:08:16.448616Z",
     "shell.execute_reply": "2024-04-14T18:08:16.447548Z"
    },
    "papermill": {
     "duration": 0.036563,
     "end_time": "2024-04-14T18:08:16.451054",
     "exception": false,
     "start_time": "2024-04-14T18:08:16.414491",
     "status": "completed"
    },
    "tags": []
   },
   "outputs": [
    {
     "data": {
      "text/plain": [
       "Harvest.Year\n",
       "2012.0    354\n",
       "2014.0    252\n",
       "2013.0    209\n",
       "2015.0    157\n",
       "2016.0    131\n",
       "2017.0     89\n",
       "2011.0     35\n",
       "2010.0     30\n",
       "2009.0     20\n",
       "2018.0      1\n",
       "Name: count, dtype: int64"
      ]
     },
     "execution_count": 29,
     "metadata": {},
     "output_type": "execute_result"
    }
   ],
   "source": [
    "df['Harvest.Year'].value_counts()"
   ]
  },
  {
   "cell_type": "code",
   "execution_count": 30,
   "id": "a2334152",
   "metadata": {
    "execution": {
     "iopub.execute_input": "2024-04-14T18:08:16.498511Z",
     "iopub.status.busy": "2024-04-14T18:08:16.498120Z",
     "iopub.status.idle": "2024-04-14T18:08:18.580240Z",
     "shell.execute_reply": "2024-04-14T18:08:18.579318Z"
    },
    "papermill": {
     "duration": 2.111476,
     "end_time": "2024-04-14T18:08:18.585535",
     "exception": false,
     "start_time": "2024-04-14T18:08:16.474059",
     "status": "completed"
    },
    "tags": []
   },
   "outputs": [
    {
     "data": {
      "text/html": [
       "        <script type=\"text/javascript\">\n",
       "        window.PlotlyConfig = {MathJaxConfig: 'local'};\n",
       "        if (window.MathJax && window.MathJax.Hub && window.MathJax.Hub.Config) {window.MathJax.Hub.Config({SVG: {font: \"STIX-Web\"}});}\n",
       "        if (typeof require !== 'undefined') {\n",
       "        require.undef(\"plotly\");\n",
       "        requirejs.config({\n",
       "            paths: {\n",
       "                'plotly': ['https://cdn.plot.ly/plotly-2.27.0.min']\n",
       "            }\n",
       "        });\n",
       "        require(['plotly'], function(Plotly) {\n",
       "            window._Plotly = Plotly;\n",
       "        });\n",
       "        }\n",
       "        </script>\n",
       "        "
      ]
     },
     "metadata": {},
     "output_type": "display_data"
    },
    {
     "data": {
      "text/html": [
       "<div>                            <div id=\"1c34ddd1-9829-4b94-a6de-2e2fd6e804ee\" class=\"plotly-graph-div\" style=\"height:525px; width:100%;\"></div>            <script type=\"text/javascript\">                require([\"plotly\"], function(Plotly) {                    window.PLOTLYENV=window.PLOTLYENV || {};                                    if (document.getElementById(\"1c34ddd1-9829-4b94-a6de-2e2fd6e804ee\")) {                    Plotly.newPlot(                        \"1c34ddd1-9829-4b94-a6de-2e2fd6e804ee\",                        [{\"alignmentgroup\":\"True\",\"bingroup\":\"x\",\"hovertemplate\":\"Harvest.Year=%{x}\\u003cbr\\u003ecount=%{y}\\u003cextra\\u003e\\u003c\\u002fextra\\u003e\",\"legendgroup\":\"\",\"marker\":{\"color\":\"#636efa\",\"pattern\":{\"shape\":\"\"}},\"name\":\"\",\"offsetgroup\":\"\",\"orientation\":\"v\",\"showlegend\":false,\"x\":[2014.0,2014.0,null,2014.0,2014.0,2013.0,2012.0,2010.0,2010.0,2014.0,2014.0,2014.0,2014.0,2009.0,2010.0,2014.0,null,2009.0,2015.0,2014.0,2014.0,2014.0,2012.0,2014.0,2013.0,2011.0,2009.0,2013.0,2016.0,2015.0,null,2012.0,2011.0,2015.0,2014.0,2013.0,2012.0,2010.0,2009.0,2014.0,2012.0,2010.0,2010.0,2015.0,2014.0,2011.0,2014.0,2013.0,2013.0,2012.0,2009.0,2009.0,2016.0,2013.0,2013.0,2017.0,2014.0,2012.0,2012.0,2017.0,2013.0,2012.0,2013.0,2012.0,2012.0,2014.0,2014.0,2015.0,2013.0,2013.0,2015.0,2013.0,2012.0,2011.0,2009.0,2015.0,2014.0,2014.0,2014.0,2012.0,2012.0,2009.0,2009.0,2016.0,2015.0,2014.0,2012.0,2012.0,2016.0,2015.0,2014.0,2014.0,2012.0,2010.0,2010.0,null,2016.0,2016.0,2016.0,2015.0,2015.0,2012.0,2012.0,2010.0,null,2009.0,2016.0,2015.0,2015.0,2014.0,2012.0,2012.0,2011.0,2011.0,2009.0,2016.0,2013.0,2012.0,2009.0,2009.0,2015.0,2014.0,2014.0,2010.0,2009.0,2016.0,2016.0,null,2015.0,2015.0,2014.0,2014.0,2014.0,2014.0,2012.0,2013.0,2013.0,2012.0,2012.0,2012.0,2012.0,2012.0,null,2009.0,null,2016.0,2016.0,2013.0,2014.0,2014.0,2013.0,2013.0,2013.0,2012.0,2012.0,2012.0,2011.0,2011.0,2017.0,2016.0,2015.0,2014.0,2015.0,2013.0,2013.0,2012.0,2012.0,2012.0,2012.0,null,null,2016.0,2017.0,2015.0,2014.0,2012.0,2012.0,2012.0,2009.0,2017.0,2016.0,2016.0,2016.0,2016.0,2015.0,2013.0,2012.0,2011.0,2011.0,null,2009.0,2016.0,2015.0,2016.0,2016.0,2015.0,2015.0,2015.0,2015.0,2015.0,2015.0,2014.0,2014.0,2014.0,2013.0,2012.0,2012.0,2012.0,2012.0,2012.0,2017.0,2016.0,2016.0,2016.0,2016.0,2016.0,2015.0,2015.0,2015.0,2014.0,2014.0,2014.0,2014.0,2013.0,2013.0,2012.0,2013.0,2013.0,2012.0,2012.0,2012.0,2017.0,2017.0,2016.0,2016.0,2014.0,2014.0,2012.0,2012.0,2012.0,2017.0,2017.0,2017.0,2015.0,2014.0,2014.0,2014.0,2014.0,2014.0,2014.0,2013.0,2013.0,2013.0,2012.0,2012.0,2012.0,2012.0,2011.0,2017.0,2017.0,2015.0,2016.0,2015.0,2016.0,2016.0,2014.0,2015.0,2014.0,2014.0,2014.0,2014.0,2012.0,2012.0,2012.0,2017.0,2016.0,2015.0,2016.0,2016.0,2015.0,2014.0,2014.0,2014.0,2013.0,2014.0,2013.0,2013.0,2013.0,2013.0,2012.0,2012.0,2011.0,2011.0,2011.0,2010.0,null,2017.0,2017.0,2016.0,2016.0,2015.0,2015.0,2013.0,2013.0,2014.0,2014.0,2013.0,2013.0,2013.0,2012.0,2012.0,2011.0,2010.0,null,2017.0,2017.0,2016.0,2016.0,2016.0,2015.0,null,2014.0,2014.0,2014.0,2013.0,2013.0,2013.0,2013.0,2012.0,2012.0,2012.0,2012.0,2012.0,2012.0,null,2017.0,2016.0,2016.0,2015.0,2015.0,2014.0,2014.0,2013.0,2014.0,2014.0,2014.0,2013.0,2012.0,2012.0,2012.0,2012.0,2016.0,2016.0,2015.0,2016.0,2016.0,2015.0,2015.0,2015.0,2014.0,2014.0,2014.0,2013.0,2014.0,2014.0,2013.0,2013.0,2012.0,2012.0,2012.0,2012.0,2012.0,2012.0,null,2010.0,2017.0,2017.0,2016.0,2016.0,2015.0,2015.0,2015.0,2016.0,2015.0,2014.0,2014.0,2014.0,2013.0,2014.0,2013.0,2012.0,2012.0,null,2010.0,null,null,2016.0,2016.0,2016.0,2015.0,2014.0,2015.0,2014.0,2013.0,2014.0,2014.0,2013.0,2013.0,2012.0,2013.0,2013.0,2012.0,2012.0,2012.0,null,null,2017.0,2016.0,2015.0,2016.0,2015.0,2016.0,2015.0,2015.0,2015.0,2014.0,2014.0,2014.0,2013.0,2013.0,2012.0,2012.0,2012.0,2012.0,2012.0,2012.0,2012.0,2011.0,2010.0,2010.0,2017.0,2017.0,2016.0,2017.0,2017.0,2016.0,2016.0,2015.0,2015.0,2016.0,2015.0,2015.0,2014.0,2014.0,2014.0,2014.0,2014.0,2014.0,2013.0,2014.0,2014.0,2013.0,2014.0,2013.0,2013.0,2012.0,2012.0,2012.0,2012.0,2012.0,2012.0,2012.0,2012.0,2012.0,2011.0,2011.0,2010.0,null,2016.0,2016.0,2015.0,2015.0,2015.0,2015.0,2014.0,2014.0,2013.0,2013.0,2012.0,2012.0,2012.0,2012.0,null,2010.0,2010.0,null,2017.0,2016.0,2016.0,2015.0,2015.0,2016.0,2014.0,2015.0,2015.0,2015.0,2014.0,2014.0,2013.0,2013.0,2014.0,2013.0,2013.0,2013.0,2013.0,2013.0,2013.0,2012.0,2012.0,2012.0,2012.0,2012.0,2012.0,2012.0,2012.0,2011.0,2011.0,null,null,null,2011.0,2009.0,null,2017.0,2017.0,2017.0,2016.0,2016.0,2014.0,2015.0,2014.0,2015.0,2015.0,2014.0,2013.0,2013.0,2014.0,2014.0,2012.0,2013.0,2013.0,2013.0,2013.0,2012.0,2012.0,2012.0,2012.0,null,null,2017.0,2017.0,2015.0,2016.0,2015.0,2014.0,2015.0,2015.0,2014.0,2014.0,2014.0,2013.0,2013.0,2012.0,2012.0,2012.0,2012.0,2012.0,2010.0,null,2017.0,2017.0,2017.0,2017.0,2017.0,2017.0,2016.0,2017.0,2016.0,2017.0,2015.0,2015.0,2015.0,2014.0,2014.0,2014.0,2014.0,2013.0,2013.0,2013.0,2013.0,2012.0,2012.0,2012.0,2012.0,2012.0,2012.0,null,2017.0,2016.0,2015.0,2016.0,2016.0,2015.0,2015.0,2014.0,2014.0,2014.0,2014.0,2014.0,2013.0,2013.0,2013.0,2012.0,2012.0,2012.0,2012.0,2012.0,2012.0,2011.0,null,2010.0,2010.0,2009.0,2017.0,2016.0,2016.0,2016.0,2016.0,2015.0,2014.0,2014.0,2014.0,2013.0,2013.0,2014.0,2012.0,2013.0,2012.0,2013.0,2012.0,2012.0,2012.0,2011.0,2017.0,2017.0,2017.0,2016.0,2014.0,2014.0,2014.0,2014.0,2013.0,2013.0,2013.0,2013.0,2013.0,2012.0,2012.0,2012.0,2012.0,2012.0,2012.0,2012.0,null,2017.0,2017.0,2016.0,2017.0,2017.0,2016.0,2015.0,2016.0,2015.0,2015.0,2013.0,2014.0,2012.0,2013.0,2013.0,2013.0,2012.0,2013.0,2013.0,2012.0,2012.0,2012.0,2012.0,2012.0,2012.0,2012.0,2012.0,2012.0,2012.0,2011.0,2011.0,2017.0,2016.0,2016.0,2016.0,2015.0,2015.0,2015.0,2015.0,2015.0,2015.0,2014.0,2014.0,2014.0,2014.0,2013.0,2013.0,2013.0,2013.0,2013.0,2013.0,2012.0,2012.0,2012.0,2012.0,2012.0,2012.0,2012.0,2012.0,2012.0,null,2016.0,2016.0,2015.0,2014.0,2015.0,2014.0,2014.0,2013.0,2013.0,2012.0,2012.0,2012.0,2012.0,2012.0,2012.0,2012.0,2012.0,2012.0,2012.0,null,2016.0,2015.0,null,2015.0,2015.0,2015.0,2014.0,2015.0,2014.0,2014.0,2014.0,2013.0,2013.0,2013.0,2012.0,2013.0,2012.0,2012.0,2012.0,2012.0,2010.0,2017.0,2016.0,2016.0,2015.0,2015.0,2014.0,2014.0,2013.0,2013.0,2012.0,2012.0,2012.0,2012.0,2012.0,2012.0,2012.0,2011.0,2017.0,2016.0,2016.0,2015.0,2015.0,2014.0,2014.0,2013.0,2013.0,2013.0,2014.0,2013.0,2012.0,2012.0,2012.0,2012.0,2012.0,2012.0,2012.0,2012.0,null,2017.0,2017.0,2017.0,2016.0,2014.0,2015.0,2014.0,2013.0,2014.0,2012.0,2012.0,2013.0,2012.0,2012.0,2012.0,2012.0,2012.0,2010.0,2017.0,2016.0,2016.0,2015.0,2015.0,2015.0,2015.0,2015.0,2015.0,2015.0,2015.0,2014.0,2014.0,2014.0,2014.0,2014.0,2014.0,2013.0,2012.0,2012.0,2013.0,2012.0,2012.0,2011.0,2011.0,null,2017.0,2014.0,2014.0,2013.0,2012.0,2012.0,2012.0,2012.0,2012.0,2011.0,null,2017.0,2017.0,2017.0,2016.0,2016.0,null,2016.0,2015.0,2014.0,2013.0,2014.0,2013.0,2014.0,2013.0,2014.0,2013.0,2013.0,2013.0,2012.0,2012.0,2012.0,2012.0,2012.0,2012.0,2012.0,2018.0,2017.0,2016.0,2015.0,2014.0,2014.0,2014.0,2013.0,2013.0,2013.0,2012.0,2012.0,2011.0,2011.0,null,2017.0,2017.0,2017.0,2017.0,2015.0,2015.0,2014.0,2014.0,2014.0,2014.0,2014.0,2013.0,2013.0,2013.0,2012.0,2012.0,2012.0,2012.0,2012.0,2012.0,2012.0,2012.0,null,null,2017.0,2016.0,2015.0,2015.0,2014.0,2014.0,2014.0,2014.0,2014.0,2013.0,2013.0,2012.0,2012.0,2011.0,2010.0,null,2016.0,2016.0,2016.0,2015.0,2015.0,2014.0,2014.0,2014.0,2014.0,2012.0,2012.0,null,2015.0,2015.0,2015.0,2015.0,2014.0,2014.0,2013.0,2013.0,2012.0,2016.0,2015.0,2015.0,2015.0,2015.0,2014.0,2014.0,2014.0,2014.0,2014.0,2013.0,2012.0,2012.0,2012.0,null,2016.0,2016.0,2015.0,2014.0,2014.0,2014.0,2013.0,2012.0,2012.0,2012.0,2012.0,2012.0,null,2017.0,2016.0,2016.0,2016.0,2015.0,2015.0,2014.0,2014.0,2014.0,2013.0,2013.0,2012.0,2012.0,2012.0,2017.0,2017.0,2017.0,2017.0,2015.0,2014.0,2014.0,2014.0,2014.0,2014.0,2013.0,2014.0,2013.0,2013.0,2013.0,2012.0,null,2016.0,2013.0,2012.0,2012.0,2012.0,2012.0,2010.0,2015.0,2015.0,2015.0,2015.0,2015.0,2014.0,2015.0,2015.0,2014.0,2012.0,2012.0,2011.0,2016.0,2015.0,2015.0,2015.0,2014.0,2014.0,2014.0,2013.0,2012.0,2012.0,null,2016.0,2016.0,2014.0,2014.0,2014.0,2014.0,null,null,2017.0,2017.0,2017.0,2016.0,2015.0,2015.0,2014.0,2013.0,2013.0,2013.0,2012.0,2016.0,2014.0,2013.0,2013.0,2013.0,2012.0,2012.0,2016.0,2015.0,2014.0,2013.0,2013.0,2012.0,2012.0,2010.0,2017.0,2016.0,2016.0,2015.0,2014.0,2015.0,2014.0,2012.0,2013.0,2012.0,2012.0,2017.0,2015.0,2015.0,2013.0,2012.0,2012.0,2012.0,2012.0,null,2017.0,2014.0,2013.0,2013.0,2013.0,2013.0,2012.0,2012.0,2017.0,2015.0,2014.0,2013.0,2012.0,2012.0,2012.0,2010.0,2015.0,2014.0,2013.0,2012.0,2012.0,2012.0,2012.0,2012.0,null,2017.0,2017.0,2014.0,2012.0,2012.0,2016.0,2014.0,2013.0,2013.0,2013.0,2013.0,2013.0,2013.0,2013.0,2012.0,2012.0,2012.0,2012.0,2016.0,2016.0,2013.0,2013.0,2013.0,2012.0,2012.0,null,2012.0,2012.0,2010.0,2009.0,2015.0,2014.0,2013.0,2012.0,2012.0,2013.0,2014.0,2012.0,2016.0,2013.0,2012.0,2012.0,2012.0,2014.0,2012.0,2017.0,2017.0,2016.0,2015.0,2012.0,2012.0,2012.0,null,2017.0,2013.0,2012.0,2012.0,2012.0,2014.0,2014.0,2012.0,2012.0,2012.0,2012.0,2013.0,2012.0,2016.0,2013.0,2013.0,2012.0,2012.0,2012.0,2013.0,2012.0,2016.0,2014.0,2014.0,2013.0,2012.0,2012.0,null,2014.0,2012.0,2012.0,2014.0,2012.0,2014.0,2014.0,2012.0,2012.0,2012.0,2014.0,2012.0,2016.0,2012.0,2016.0,2014.0,2014.0,2014.0,2013.0,2013.0,2012.0,null,2014.0,2012.0,2012.0,2016.0,2014.0,2013.0,2012.0,2013.0,2012.0,2013.0,2017.0,2014.0,2012.0,2013.0,2013.0,2012.0,2014.0,2016.0,null,2012.0,2012.0,2012.0,2011.0,2014.0,2013.0,2012.0,2011.0,2012.0,2014.0,2012.0,2017.0,2012.0,2012.0,2012.0,2012.0,2012.0,2012.0,2012.0,2012.0,2012.0,2012.0,2012.0,2013.0,2014.0,2013.0,2012.0,2012.0,2012.0,2012.0,2016.0,2014.0,2014.0,2013.0,2014.0,2010.0,2014.0,2012.0,2012.0,2014.0,2017.0,2014.0,2014.0,2014.0,2012.0,2012.0,2016.0,2012.0,2017.0,2013.0,2017.0,2015.0,2013.0,2013.0,2012.0,2014.0,2017.0,2015.0,2014.0,2014.0,2015.0,2014.0,2013.0,2014.0,2015.0,2013.0,2013.0,2013.0,2013.0,2014.0,2013.0,2012.0,2016.0,2016.0,2014.0,2013.0,2013.0],\"xaxis\":\"x\",\"yaxis\":\"y\",\"type\":\"histogram\"},{\"alignmentgroup\":\"True\",\"customdata\":[[\"Arabica\",\"Africa\",\"Ethiopia\",null,\"Green\",\"Washed \\u002f Wet\",8.67,8.83,8.67,8.75,8.5,8.42,10.0,10.0,10.0,0.12,0,0,0,2016],[\"Arabica\",\"Africa\",\"Ethiopia\",\"Other\",\"Green\",\"Washed \\u002f Wet\",8.75,8.67,8.5,8.58,8.42,8.42,10.0,10.0,10.0,0.12,0,0,1,2016],[\"Arabica\",\"North America\",\"Guatemala\",\"Bourbon\",null,null,8.42,8.5,8.42,8.42,8.33,8.42,10.0,10.0,10.0,0.0,0,0,0,2011],[\"Arabica\",\"Africa\",\"Ethiopia\",null,\"Green\",\"Natural \\u002f Dry\",8.17,8.58,8.42,8.42,8.5,8.25,10.0,10.0,10.0,0.11,0,0,2,2016],[\"Arabica\",\"Africa\",\"Ethiopia\",\"Other\",\"Green\",\"Washed \\u002f Wet\",8.25,8.5,8.25,8.5,8.42,8.33,10.0,10.0,10.0,0.12,0,0,2,2016],[\"Arabica\",\"South America\",\"Brazil\",null,\"Bluish-Green\",\"Natural \\u002f Dry\",8.58,8.42,8.42,8.5,8.25,8.33,10.0,10.0,10.0,0.11,0,0,1,2014],[\"Arabica\",\"South America\",\"Peru\",\"Other\",\"Bluish-Green\",\"Washed \\u002f Wet\",8.42,8.5,8.33,8.5,8.25,8.25,10.0,10.0,10.0,0.11,0,0,0,2013],[\"Arabica\",\"Africa\",\"Ethiopia\",null,null,null,8.25,8.33,8.5,8.42,8.33,8.5,10.0,10.0,9.33,0.03,0,0,0,2011],[\"Arabica\",\"Africa\",\"Ethiopia\",null,null,null,8.67,8.67,8.58,8.42,8.33,8.42,9.33,10.0,9.33,0.03,0,0,0,2011],[\"Arabica\",\"Africa\",\"Ethiopia\",\"Other\",\"Green\",\"Natural \\u002f Dry\",8.08,8.58,8.5,8.5,7.67,8.42,10.0,10.0,10.0,0.1,0,0,4,2016],[\"Arabica\",\"Africa\",\"Ethiopia\",null,null,\"Natural \\u002f Dry\",8.17,8.67,8.25,8.5,7.75,8.17,10.0,10.0,10.0,0.1,0,0,1,2016],[\"Arabica\",\"North America\",\"United States\",\"Other\",null,\"Washed \\u002f Wet\",8.25,8.42,8.17,8.33,8.08,8.17,10.0,10.0,10.0,0.0,0,0,0,2016],[\"Arabica\",\"North America\",\"United States\",\"Other\",null,\"Washed \\u002f Wet\",8.08,8.67,8.33,8.42,8.0,8.08,10.0,10.0,10.0,0.0,0,0,0,2016],[\"Arabica\",\"North America\",\"United States\",null,null,null,8.33,8.42,8.08,8.25,8.25,8.0,10.0,10.0,10.0,0.0,0,0,2,2011],[\"Arabica\",\"Africa\",\"Ethiopia\",null,null,null,8.25,8.33,8.5,8.25,8.58,8.75,9.33,10.0,9.33,0.05,0,0,2,2011],[\"Arabica\",\"North America\",\"United States\",\"Other\",null,\"Washed \\u002f Wet\",8.0,8.5,8.58,8.17,8.17,8.0,10.0,10.0,10.0,0.0,0,0,0,2016],[\"Arabica\",\"Asia\",\"Indonesia\",null,null,null,8.33,8.25,7.83,7.75,8.5,8.42,10.0,10.0,10.0,0.03,0,0,0,2011],[\"Arabica\",\"Africa\",\"Ethiopia\",null,null,null,8.17,8.33,8.25,8.33,8.42,8.33,9.33,10.0,9.33,0.05,0,0,2,2011],[\"Arabica\",\"Asia\",\"China\",\"Catimor\",\"Green\",\"Washed \\u002f Wet\",8.42,8.25,8.08,8.17,7.92,8.0,10.0,10.0,10.0,0.1,0,0,0,2017],[\"Arabica\",\"Africa\",\"Ethiopia\",\"Ethiopian Yirgacheffe\",null,\"Natural \\u002f Dry\",8.17,8.17,8.0,8.17,8.08,8.33,10.0,10.0,10.0,0.0,0,0,8,2016],[\"Arabica\",\"North America\",\"United States\",\"Other\",null,\"Washed \\u002f Wet\",8.0,8.25,8.08,8.5,8.25,8.0,10.0,10.0,10.0,0.0,0,0,0,2016],[\"Arabica\",\"North America\",\"Costa Rica\",\"Caturra\",\"Green\",\"Washed \\u002f Wet\",8.08,8.25,8.0,8.17,8.0,8.33,10.0,10.0,10.0,0.11,0,0,2,2015],[\"Arabica\",\"North America\",\"Mexico\",\"Other\",\"Green\",\"Washed \\u002f Wet\",8.17,8.25,8.17,8.0,7.83,8.17,10.0,10.0,10.0,0.13,0,0,0,2013],[\"Arabica\",\"North America\",\"United States\",\"Other\",null,\"Washed \\u002f Wet\",8.25,8.33,8.17,8.17,7.83,8.17,10.0,10.0,10.0,0.0,0,0,0,2016],[\"Arabica\",\"Africa\",\"Ethiopia\",null,\"Bluish-Green\",\"Natural \\u002f Dry\",8.42,8.17,7.92,8.17,8.33,8.0,10.0,10.0,10.0,0.11,0,0,1,2014],[\"Arabica\",\"South America\",\"Brazil\",\"Bourbon\",\"Green\",\"Natural \\u002f Dry\",8.5,8.5,8.0,8.0,8.0,8.0,10.0,10.0,10.0,0.12,0,0,2,2012],[\"Arabica\",\"Africa\",\"Ethiopia\",null,null,null,7.83,8.25,8.08,8.17,8.17,8.17,10.0,10.0,10.0,0.05,0,0,2,2011],[\"Arabica\",\"Africa\",\"Uganda\",\"SL14\",\"Green\",\"Washed \\u002f Wet\",8.42,8.17,8.17,8.17,7.83,7.92,10.0,10.0,10.0,0.12,0,0,1,2015],[\"Arabica\",\"North America\",\"Honduras\",\"Caturra\",\"Green\",null,8.17,8.08,8.08,8.0,8.08,8.0,10.0,10.0,10.0,0.1,0,0,3,2018],[\"Arabica\",\"Asia\",\"Taiwan\",\"Sumatra\",\"Green\",\"Pulped natural \\u002f honey\",8.0,8.0,8.0,8.25,8.0,8.17,10.0,10.0,10.0,0.0,0,0,0,2017],[\"Arabica\",\"North America\",\"Nicaragua\",null,null,null,7.92,8.25,8.0,8.33,8.0,8.08,10.0,10.0,10.0,0.08,0,0,2,2011],[\"Arabica\",\"Africa\",\"Tanzania\",null,\"Bluish-Green\",\"Natural \\u002f Dry\",8.42,8.17,8.17,8.0,7.58,8.0,10.0,10.0,10.0,0.11,0,0,1,2014],[\"Arabica\",\"South America\",\"Brazil\",\"Bourbon\",\"Green\",\"Natural \\u002f Dry\",8.5,8.17,8.0,7.75,8.0,8.0,10.0,10.0,10.0,0.12,0,0,2,2012],[\"Arabica\",\"North America\",\"Costa Rica\",\"Caturra\",\"Blue-Green\",\"Washed \\u002f Wet\",8.17,7.83,8.0,8.08,7.83,8.0,10.0,10.0,10.0,0.0,0,0,0,2016],[\"Arabica\",\"Africa\",\"Ethiopia\",null,\"Green\",\"Natural \\u002f Dry\",8.0,8.08,7.92,8.0,8.08,8.08,10.0,10.0,10.0,0.1,0,0,3,2016],[\"Arabica\",\"Africa\",\"Kenya\",\"SL34\",\"Blue-Green\",\"Washed \\u002f Wet\",8.08,8.0,8.0,8.25,7.92,7.92,10.0,10.0,10.0,0.12,0,0,1,2015],[\"Arabica\",\"North America\",\"United States\",\"Hawaiian Kona\",null,\"Natural \\u002f Dry\",8.08,8.17,8.0,7.92,7.92,7.83,10.0,10.0,10.0,0.0,0,1,4,2013],[\"Arabica\",\"North America\",\"United States\",null,null,null,8.25,8.42,8.08,7.75,7.67,7.83,10.0,10.0,10.0,0.0,0,2,1,2012],[\"Arabica\",\"Africa\",\"Ethiopia\",null,null,null,7.92,7.75,8.08,8.08,8.08,8.17,10.0,10.0,10.0,0.1,0,0,2,2011],[\"Arabica\",\"North America\",\"United States\",\"Other\",null,\"Washed \\u002f Wet\",7.67,8.17,8.0,8.0,8.17,8.08,10.0,10.0,10.0,0.0,0,0,0,2016],[\"Arabica\",\"Asia\",\"Thailand\",\"Caturra\",\"Green\",\"Washed \\u002f Wet\",7.83,8.33,7.83,8.25,7.58,7.92,10.0,10.0,10.0,0.1,0,1,9,2013],[\"Arabica\",\"South America\",\"Brazil\",\"Yellow Bourbon\",null,null,8.17,7.92,7.92,7.75,8.33,8.0,10.0,10.0,10.0,0.08,0,0,2,2012],[\"Arabica\",\"South America\",\"Brazil\",\"Yellow Bourbon\",null,null,8.42,7.92,8.0,7.75,7.92,8.0,10.0,10.0,10.0,0.01,0,0,3,2012],[\"Arabica\",\"Asia\",\"Taiwan\",\"Bourbon\",\"Green\",\"Semi-washed \\u002f Semi-pulped\",8.08,8.17,7.75,8.08,7.75,7.83,10.0,10.0,10.0,0.12,0,0,0,2016],[\"Arabica\",\"Africa\",\"Kenya\",\"SL28\",\"Bluish-Green\",\"Natural \\u002f Dry\",8.08,8.08,8.0,8.0,7.83,8.08,10.0,10.0,10.0,0.11,0,0,2,2016],[\"Arabica\",\"South America\",\"Brazil\",\"Bourbon\",\"Blue-Green\",\"Semi-washed \\u002f Semi-pulped\",8.33,8.0,8.0,8.0,7.75,8.0,10.0,10.0,10.0,0.11,0,0,2,2012],[\"Arabica\",\"Africa\",\"Uganda\",null,null,\"Semi-washed \\u002f Semi-pulped\",8.08,8.08,7.83,7.92,8.08,7.92,10.0,10.0,10.0,0.0,0,0,0,2015],[\"Arabica\",\"South America\",\"Colombia\",\"Caturra\",\"Green\",\"Washed \\u002f Wet\",7.75,7.92,7.83,8.08,8.08,8.17,10.0,10.0,10.0,0.12,0,1,1,2015],[\"Arabica\",\"Africa\",\"Kenya\",\"SL28\",\"Green\",\"Washed \\u002f Wet\",7.92,8.17,7.83,8.5,7.5,7.92,10.0,10.0,10.0,0.11,0,0,1,2015],[\"Arabica\",\"Africa\",\"Uganda\",\"Other\",\"Blue-Green\",\"Washed \\u002f Wet\",8.25,8.0,7.83,8.08,8.0,7.92,10.0,10.0,10.0,0.1,0,0,0,2013],[\"Arabica\",\"Africa\",\"Ethiopia\",null,null,null,7.75,8.08,8.0,8.25,8.0,8.0,10.0,10.0,10.0,0.01,0,0,4,2011],[\"Arabica\",\"North America\",\"United States\",null,null,null,8.33,8.17,7.75,8.0,7.75,7.83,10.0,10.0,10.0,0.0,0,0,0,2011],[\"Arabica\",\"North America\",\"Guatemala\",\"Bourbon\",\"Green\",\"Washed \\u002f Wet\",7.92,8.08,7.92,8.08,8.08,7.83,10.0,10.0,10.0,0.1,1,0,3,2017],[\"Arabica\",\"Africa\",\"Uganda\",\"SL14\",\"Green\",\"Natural \\u002f Dry\",8.17,8.17,7.92,8.08,7.83,7.75,10.0,10.0,10.0,0.12,0,0,0,2015],[\"Arabica\",\"South America\",\"Colombia\",\"Caturra\",\"Blue-Green\",\"Washed \\u002f Wet\",8.0,8.0,8.0,8.17,7.83,8.0,10.0,10.0,10.0,0.0,0,1,0,2014],[\"Arabica\",\"North America\",\"Panama\",\"Gesha\",\"Bluish-Green\",\"Washed \\u002f Wet\",8.0,8.0,7.92,8.08,7.83,8.0,10.0,10.0,10.0,0.08,1,0,0,2018],[\"Arabica\",\"Africa\",\"Ethiopia\",null,\"Green\",\"Washed \\u002f Wet\",7.83,8.08,7.92,8.08,8.0,7.92,10.0,10.0,10.0,0.1,0,0,4,2016],[\"Arabica\",\"North America\",\"Guatemala\",\"Bourbon\",\"Green\",\"Washed \\u002f Wet\",7.83,8.0,8.0,8.17,7.83,8.0,10.0,10.0,10.0,0.12,0,0,3,2013],[\"Arabica\",\"North America\",\"Guatemala\",\"Catuai\",\"Bluish-Green\",\"Washed \\u002f Wet\",8.0,8.0,7.83,8.33,7.83,7.83,10.0,10.0,10.0,0.1,0,0,1,2013],[\"Arabica\",\"Africa\",\"Ethiopia\",\"Caturra\",null,\"Natural \\u002f Dry\",7.83,8.0,7.83,8.17,7.92,8.0,10.0,10.0,10.0,0.09,4,0,7,2018],[\"Arabica\",\"South America\",\"Peru\",null,\"Green\",\"Washed \\u002f Wet\",8.0,8.0,8.0,8.08,7.92,7.75,10.0,10.0,10.0,0.1,0,4,6,2015],[\"Arabica\",\"Oceania\",\"Papua New Guinea\",null,\"Bluish-Green\",\"Washed \\u002f Wet\",8.33,8.42,7.83,8.33,8.0,8.25,9.33,9.33,10.0,0.12,0,0,1,2013],[\"Arabica\",\"North America\",\"El Salvador\",\"Bourbon\",\"Blue-Green\",\"Washed \\u002f Wet\",7.92,8.17,8.0,7.92,7.75,7.83,10.0,10.0,10.0,0.1,0,0,3,2014],[\"Arabica\",\"North America\",\"El Salvador\",\"Bourbon\",null,\"Semi-washed \\u002f Semi-pulped\",7.83,8.0,8.0,7.75,7.92,8.17,10.0,10.0,10.0,0.11,0,0,0,2014],[\"Arabica\",\"North America\",\"United States\",\"Hawaiian Kona\",null,\"Natural \\u002f Dry\",7.83,8.0,7.92,7.75,8.08,8.0,10.0,10.0,10.0,0.0,0,0,1,2013],[\"Arabica\",\"North America\",\"Panama\",\"Caturra\",null,\"Natural \\u002f Dry\",8.0,7.75,7.83,7.83,7.67,8.58,10.0,10.0,10.0,0.09,0,2,2,2016],[\"Arabica\",\"Africa\",\"Kenya\",\"SL28\",\"Green\",\"Natural \\u002f Dry\",7.92,7.92,7.83,8.08,7.83,7.92,10.0,10.0,10.0,0.1,0,0,3,2016],[\"Arabica\",\"Africa\",\"Ethiopia\",\"Other\",\"Green\",\"Natural \\u002f Dry\",7.83,8.0,7.83,7.92,7.83,8.08,10.0,10.0,10.0,0.12,0,0,7,2016],[\"Arabica\",\"Africa\",\"Uganda\",\"SL14\",\"Green\",\"Washed \\u002f Wet\",8.33,7.92,7.67,7.92,7.67,7.92,10.0,10.0,10.0,0.12,0,0,1,2015],[\"Arabica\",\"North America\",\"Guatemala\",\"Bourbon\",\"Green\",\"Washed \\u002f Wet\",8.0,7.83,7.67,8.33,7.83,8.0,10.0,10.0,10.0,0.11,0,0,1,2014],[\"Arabica\",\"Africa\",\"Ethiopia\",null,\"Green\",\"Washed \\u002f Wet\",7.75,7.83,7.83,8.17,7.92,7.83,10.0,10.0,10.0,0.1,0,0,18,2016],[\"Arabica\",\"Africa\",\"Uganda\",\"SL14\",\"Green\",\"Washed \\u002f Wet\",8.08,8.0,7.83,7.67,8.0,7.83,10.0,10.0,10.0,0.12,0,0,5,2015],[\"Arabica\",\"North America\",\"United States\",\"Hawaiian Kona\",null,\"Natural \\u002f Dry\",7.92,7.92,7.75,7.92,7.75,7.92,10.0,10.0,10.0,0.0,0,4,6,2013],[\"Arabica\",\"South America\",\"Brazil\",\"Bourbon\",\"Blue-Green\",\"Semi-washed \\u002f Semi-pulped\",8.0,8.0,8.0,7.67,7.75,8.0,10.0,10.0,10.0,0.11,0,0,1,2012],[\"Arabica\",\"North America\",\"El Salvador\",null,null,null,8.08,7.83,7.83,8.08,7.83,7.83,10.0,10.0,10.0,0.01,0,0,0,2011],[\"Arabica\",\"Asia\",\"China\",\"Catimor\",\"Green\",\"Natural \\u002f Dry\",8.0,8.0,8.0,7.83,7.83,7.75,10.0,10.0,10.0,0.1,0,0,0,2017],[\"Arabica\",\"North America\",\"Guatemala\",\"Pacamara\",\"Green\",\"Natural \\u002f Dry\",7.83,7.75,7.83,7.67,7.83,8.58,10.0,10.0,10.0,0.11,0,0,1,2016],[\"Arabica\",\"North America\",\"Costa Rica\",\"Caturra\",\"Bluish-Green\",\"Washed \\u002f Wet\",7.92,8.08,8.0,7.92,8.0,8.08,10.0,10.0,9.33,0.0,0,0,0,2015],[\"Arabica\",\"North America\",\"Costa Rica\",\"Caturra\",\"Bluish-Green\",\"Washed \\u002f Wet\",8.0,7.58,7.58,7.67,8.08,8.5,10.0,10.0,10.0,0.1,0,0,2,2015],[\"Arabica\",\"Africa\",\"Kenya\",\"SL34\",\"Green\",\"Washed \\u002f Wet\",7.83,8.08,7.75,8.08,7.92,7.75,10.0,10.0,10.0,0.0,0,0,2,2014],[\"Arabica\",\"Africa\",\"Kenya\",\"SL34\",\"Green\",\"Washed \\u002f Wet\",8.0,7.92,7.92,8.08,7.83,7.75,10.0,10.0,10.0,0.0,0,0,6,2014],[\"Arabica\",\"Africa\",\"Ethiopia\",null,null,null,7.83,7.83,7.92,8.08,7.75,7.83,10.0,10.0,10.0,0.05,0,0,2,2011],[\"Arabica\",\"Africa\",\"Ethiopia\",\"Typica\",null,null,7.92,7.83,7.75,8.33,7.75,7.75,10.0,10.0,10.0,0.1,0,0,3,2011],[\"Arabica\",\"North America\",\"Guatemala\",\"Bourbon\",\"Green\",null,8.0,7.92,7.75,8.0,7.92,7.83,10.0,10.0,10.0,0.1,2,0,2,2017],[\"Arabica\",\"South America\",\"Colombia\",\"Caturra\",\"Green\",\"Washed \\u002f Wet\",8.17,7.92,7.83,8.0,7.58,7.83,10.0,10.0,10.0,0.11,0,0,0,2016],[\"Arabica\",\"South America\",\"Colombia\",\"Caturra\",\"Green\",\"Natural \\u002f Dry\",7.58,8.08,7.92,7.83,8.0,7.92,10.0,10.0,10.0,0.12,0,0,2,2015],[\"Arabica\",\"Asia\",\"Indonesia\",\"Sumatra Lintong\",\"Green\",\"Semi-washed \\u002f Semi-pulped\",7.75,7.83,7.67,8.0,8.08,7.83,10.0,10.0,10.0,0.11,0,0,3,2013],[\"Arabica\",\"North America\",\"Guatemala\",\"Caturra\",null,\"Washed \\u002f Wet\",8.25,8.0,7.67,7.92,7.75,7.67,10.0,10.0,10.0,0.0,0,0,7,2013],[\"Arabica\",\"Africa\",\"Ethiopia\",\"Other\",\"Green\",\"Natural \\u002f Dry\",7.75,8.0,7.58,8.0,8.0,7.92,10.0,10.0,10.0,0.11,1,0,8,2017],[\"Arabica\",\"South America\",\"Colombia\",\"Caturra\",null,\"Natural \\u002f Dry\",8.17,7.83,7.58,8.08,8.0,7.75,10.0,10.0,10.0,0.0,0,0,0,2016],[\"Arabica\",\"Africa\",\"Ethiopia\",null,\"Green\",\"Natural \\u002f Dry\",8.42,8.0,7.42,8.0,7.92,7.92,9.33,10.0,10.0,0.1,0,2,7,2015],[\"Arabica\",\"North America\",\"United States\",\"Hawaiian Kona\",\"Bluish-Green\",\"Natural \\u002f Dry\",7.58,7.83,7.83,7.92,7.83,8.17,10.0,10.0,10.0,0.11,0,2,2,2015],[\"Arabica\",\"South America\",\"Colombia\",\"Caturra\",\"Green\",\"Natural \\u002f Dry\",7.83,8.0,7.75,7.75,7.83,7.83,10.0,10.0,10.0,0.11,0,0,8,2013],[\"Arabica\",\"North America\",\"United States\",null,null,null,8.08,8.17,7.92,8.0,8.08,8.0,9.33,9.33,10.0,0.01,0,1,7,2011],[\"Arabica\",\"Africa\",\"Ethiopia\",null,null,null,7.67,8.0,7.83,8.0,7.92,7.83,10.0,10.0,10.0,0.0,0,0,5,2011],[\"Arabica\",\"North America\",\"United States\",null,null,null,7.5,7.92,8.25,7.83,7.92,7.75,10.0,10.0,10.0,0.0,0,0,0,2011],[\"Arabica\",\"Africa\",\"Uganda\",\"SL14\",\"Green\",\"Washed \\u002f Wet\",8.17,7.92,7.75,7.75,7.67,7.75,10.0,10.0,10.0,0.11,0,0,1,2018],[\"Arabica\",\"South America\",\"Colombia\",\"Caturra\",\"Green\",\"Washed \\u002f Wet\",8.0,7.92,7.75,7.92,7.75,7.83,10.0,10.0,10.0,0.0,0,0,3,2018],[\"Arabica\",\"North America\",\"Costa Rica\",\"Catuai\",\"Green\",\"Washed \\u002f Wet\",7.83,8.0,7.58,7.92,7.92,7.83,10.0,10.0,10.0,0.12,1,1,1,2018],[\"Arabica\",\"North America\",\"Mexico\",\"Typica\",\"Green\",\"Washed \\u002f Wet\",7.83,8.0,7.83,7.75,7.67,7.83,10.0,10.0,10.0,0.09,0,0,3,2017],[\"Arabica\",\"Africa\",\"Kenya\",null,\"Green\",\"Washed \\u002f Wet\",8.17,7.83,7.92,7.75,7.67,7.83,10.0,10.0,10.0,0.11,5,0,7,2017],[\"Arabica\",\"Africa\",\"Kenya\",\"SL34\",\"Green\",\"Washed \\u002f Wet\",7.75,7.83,7.75,8.08,8.0,7.75,10.0,10.0,10.0,0.0,0,0,5,2014],[\"Arabica\",\"South America\",\"Brazil\",\"Mundo Novo\",\"Green\",\"Natural \\u002f Dry\",8.0,8.0,7.83,7.83,7.67,7.67,10.0,10.0,10.0,0.12,0,0,3,2013],[\"Arabica\",\"North America\",\"Mexico\",\"Pacamara\",null,null,7.92,8.17,7.75,8.08,7.42,7.83,10.0,10.0,10.0,0.0,0,0,0,2012],[\"Arabica\",\"North America\",\"United States\",null,null,null,7.75,7.92,7.75,7.75,8.0,8.0,10.0,10.0,10.0,0.0,0,0,1,2012],[\"Arabica\",\"North America\",\"Guatemala\",null,null,null,7.83,8.08,7.67,8.0,7.75,7.67,10.0,10.0,10.0,0.04,0,0,1,2011],[\"Arabica\",\"South America\",\"Colombia\",\"Caturra\",null,\"Washed \\u002f Wet\",7.92,7.92,7.67,7.83,7.92,7.83,10.0,10.0,10.0,0.0,6,1,2,2017],[\"Arabica\",\"South America\",\"Colombia\",\"Caturra\",\"Green\",\"Washed \\u002f Wet\",7.92,7.83,7.75,7.83,7.75,8.0,10.0,10.0,10.0,0.12,0,0,1,2016],[\"Arabica\",\"Asia\",\"Taiwan\",\"Typica\",\"Green\",\"Semi-washed \\u002f Semi-pulped\",7.67,7.83,8.0,7.58,8.0,7.92,10.0,10.0,10.0,0.11,0,0,0,2016],[\"Arabica\",\"Africa\",\"Tanzania\",\"Other\",\"Green\",\"Washed \\u002f Wet\",8.0,7.83,7.83,7.92,7.75,7.75,10.0,10.0,10.0,0.12,0,0,2,2015],[\"Arabica\",\"South America\",\"Colombia\",\"Caturra\",\"Green\",\"Washed \\u002f Wet\",7.75,7.92,7.83,7.75,7.75,8.0,10.0,10.0,10.0,0.11,0,0,3,2013],[\"Arabica\",\"North America\",\"Mexico\",\"Typica\",null,\"Semi-washed \\u002f Semi-pulped\",7.75,8.0,7.75,7.83,7.5,7.92,10.0,10.0,10.0,0.11,0,0,0,2013],[\"Arabica\",\"South America\",\"Brazil\",\"Bourbon\",\"Green\",\"Natural \\u002f Dry\",8.0,7.92,7.75,7.75,8.0,7.75,10.0,10.0,10.0,0.11,0,0,2,2012],[\"Arabica\",\"South America\",\"Brazil\",\"Catuai\",\"Green\",\"Natural \\u002f Dry\",8.0,8.0,7.75,8.0,7.5,7.75,10.0,10.0,10.0,0.12,0,0,2,2012],[\"Arabica\",\"Africa\",\"Kenya\",null,null,null,8.0,7.67,7.83,8.17,7.92,7.75,10.0,10.0,10.0,0.06,0,1,9,2011],[\"Arabica\",\"Asia\",\"Taiwan\",\"Typica\",\"Green\",\"Natural \\u002f Dry\",7.92,7.58,7.83,7.83,7.83,7.83,10.0,10.0,10.0,0.0,0,0,0,2017],[\"Arabica\",\"Africa\",\"Uganda\",\"SL14\",\"Green\",\"Natural \\u002f Dry\",7.75,7.92,7.67,7.67,8.25,7.75,10.0,10.0,10.0,0.12,0,0,1,2015],[\"Arabica\",\"North America\",\"United States\",\"Hawaiian Kona\",null,\"Natural \\u002f Dry\",7.67,7.75,7.75,7.75,7.83,8.0,10.0,10.0,10.0,0.0,0,3,15,2013],[\"Arabica\",\"Africa\",\"Ethiopia\",null,null,null,7.75,7.92,7.83,7.92,7.75,7.67,10.0,10.0,10.0,0.1,0,0,2,2011],[\"Arabica\",\"Africa\",\"Ethiopia\",null,null,null,7.42,7.92,7.92,8.0,7.83,7.83,10.0,10.0,10.0,0.1,0,0,4,2011],[\"Arabica\",\"Asia\",\"Thailand\",\"Caturra\",\"Green\",\"Pulped natural \\u002f honey\",7.75,7.75,7.75,7.75,8.0,7.75,10.0,10.0,10.0,0.12,0,0,0,2017],[\"Arabica\",\"Africa\",\"Kenya\",\"SL34\",\"Green\",\"Washed \\u002f Wet\",7.92,7.83,7.58,7.92,7.75,7.83,10.0,10.0,10.0,0.13,0,0,0,2016],[\"Arabica\",\"North America\",\"Honduras\",\"Catuai\",\"Green\",\"Washed \\u002f Wet\",7.83,7.75,8.0,7.67,7.67,7.67,10.0,10.0,10.0,0.11,0,0,4,2015],[\"Arabica\",\"North America\",\"El Salvador\",null,null,null,7.75,8.0,8.0,8.33,7.67,7.92,10.0,10.0,9.33,0.15,0,0,3,2012],[\"Arabica\",\"North America\",\"Nicaragua\",null,null,null,7.83,7.58,7.58,7.83,7.75,7.67,10.0,10.0,10.0,0.18,0,0,2,2011],[\"Arabica\",\"North America\",\"El Salvador\",\"Bourbon\",\"Blue-Green\",\"Washed \\u002f Wet\",7.83,7.83,7.5,8.0,7.83,7.67,10.0,10.0,10.0,0.0,0,0,2,2018],[\"Arabica\",\"Asia\",\"Indonesia\",\"Java\",\"Green\",\"Washed \\u002f Wet\",7.92,7.83,7.75,7.75,7.75,7.75,10.0,10.0,10.0,0.12,0,0,7,2017],[\"Arabica\",\"Asia\",\"Japan\",\"Mundo Novo\",\"Green\",\"Pulped natural \\u002f honey\",7.75,7.75,7.75,7.42,8.08,7.83,10.0,10.0,10.0,0.12,0,0,0,2017],[\"Arabica\",\"North America\",\"Costa Rica\",\"Catuai\",\"Blue-Green\",\"Washed \\u002f Wet\",8.08,7.75,7.67,7.83,7.5,7.92,10.0,10.0,10.0,0.1,0,0,2,2017],[\"Arabica\",\"North America\",\"Guatemala\",\"Bourbon\",\"Green\",\"Washed \\u002f Wet\",7.75,7.83,7.58,8.0,7.92,7.75,10.0,10.0,10.0,0.1,0,0,1,2017],[\"Arabica\",\"North America\",\"Costa Rica\",\"Caturra\",\"Green\",\"Washed \\u002f Wet\",8.17,8.0,7.83,7.17,7.83,7.75,10.0,10.0,10.0,0.12,0,0,0,2016],[\"Arabica\",\"Africa\",\"Ethiopia\",\"Ethiopian Yirgacheffe\",null,\"Washed \\u002f Wet\",8.08,7.83,7.75,7.83,7.58,7.67,10.0,10.0,10.0,0.1,0,0,3,2016],[\"Arabica\",\"North America\",\"Costa Rica\",\"Other\",\"Green\",\"Other\",7.67,7.58,7.75,7.75,7.67,8.58,10.0,10.0,10.0,0.08,0,0,1,2016],[\"Arabica\",\"North America\",\"Costa Rica\",\"Catuai\",\"Green\",\"Washed \\u002f Wet\",8.0,7.58,7.83,7.75,7.75,7.75,10.0,10.0,10.0,0.11,0,0,4,2015],[\"Arabica\",\"North America\",\"Costa Rica\",null,\"Green\",\"Washed \\u002f Wet\",8.08,7.83,7.75,7.83,7.92,8.0,10.0,10.0,9.33,0.0,0,1,10,2015],[\"Arabica\",\"Asia\",\"Taiwan\",\"Typica\",\"Green\",\"Washed \\u002f Wet\",8.0,7.92,7.75,7.75,7.75,7.75,10.0,10.0,10.0,0.11,0,0,0,2014],[\"Arabica\",\"South America\",\"Colombia\",\"Caturra\",\"Green\",\"Washed \\u002f Wet\",7.75,7.83,7.75,7.83,7.75,7.83,10.0,10.0,10.0,0.0,0,0,0,2014],[\"Arabica\",\"Africa\",\"Kenya\",\"SL28\",\"Bluish-Green\",\"Washed \\u002f Wet\",7.75,7.92,7.83,8.0,7.58,7.75,10.0,10.0,10.0,0.11,0,0,0,2013],[\"Arabica\",\"North America\",\"Guatemala\",\"Bourbon\",\"Green\",\"Washed \\u002f Wet\",8.0,7.83,7.67,7.83,7.67,8.0,10.0,10.0,10.0,0.11,0,0,4,2013],[\"Arabica\",\"North America\",\"Guatemala\",\"Bourbon\",\"Green\",\"Washed \\u002f Wet\",7.67,7.83,7.67,8.0,7.67,7.83,10.0,10.0,10.0,0.12,0,0,4,2013],[\"Arabica\",\"North America\",\"Mexico\",\"Typica\",null,\"Washed \\u002f Wet\",7.83,7.58,7.67,7.92,7.92,7.83,10.0,10.0,10.0,0.13,0,0,3,2013],[\"Arabica\",\"Africa\",\"Uganda\",\"Other\",\"Blue-Green\",\"Washed \\u002f Wet\",7.92,7.83,7.75,7.92,7.67,7.75,10.0,10.0,10.0,0.11,0,0,3,2013],[\"Arabica\",\"South America\",\"Peru\",null,null,null,7.67,7.83,7.75,7.75,7.92,7.83,10.0,10.0,10.0,0.0,0,0,3,2012],[\"Arabica\",\"Africa\",\"Ethiopia\",null,null,null,7.42,7.75,7.75,8.0,8.0,7.92,10.0,10.0,10.0,0.2,0,0,3,2011],[\"Arabica\",\"Africa\",\"Kenya\",\"SL34\",\"Blue-Green\",\"Washed \\u002f Wet\",7.92,7.75,7.83,7.75,7.58,7.92,10.0,10.0,10.0,0.11,0,0,5,2019],[\"Arabica\",\"South America\",\"Colombia\",\"Other\",\"Blue-Green\",\"Washed \\u002f Wet\",7.83,7.67,7.58,7.92,7.67,7.83,10.0,10.0,10.0,0.0,0,0,4,2018],[\"Arabica\",\"South America\",\"Colombia\",\"Caturra\",\"Green\",\"Washed \\u002f Wet\",7.92,7.83,7.58,8.0,7.83,7.67,10.0,10.0,10.0,0.0,1,0,5,2017],[\"Arabica\",\"Africa\",\"Kenya\",\"Peaberry\",\"Bluish-Green\",\"Washed \\u002f Wet\",7.83,7.83,7.83,7.75,7.58,7.83,10.0,10.0,10.0,0.1,0,0,2,2015],[\"Arabica\",\"North America\",\"Guatemala\",\"Pacas\",\"Green\",\"Washed \\u002f Wet\",7.75,7.83,7.67,7.92,7.75,7.83,10.0,10.0,10.0,0.11,0,0,1,2015],[\"Arabica\",\"North America\",\"Guatemala\",\"Bourbon\",\"Green\",\"Washed \\u002f Wet\",8.0,7.92,7.67,7.58,7.58,7.67,10.0,10.0,10.0,0.09,0,0,0,2015],[\"Arabica\",\"South America\",\"Colombia\",\"Caturra\",null,\"Washed \\u002f Wet\",7.67,7.67,7.58,7.75,7.58,8.5,10.0,10.0,10.0,0.0,0,0,0,2014],[\"Arabica\",\"South America\",\"Colombia\",\"Caturra\",null,\"Washed \\u002f Wet\",7.75,7.75,7.83,7.75,7.58,8.0,10.0,10.0,10.0,0.0,0,0,5,2014],[\"Arabica\",\"Africa\",\"Kenya\",\"SL28\",\"Green\",\"Washed \\u002f Wet\",7.75,7.75,7.75,8.08,7.75,7.75,10.0,10.0,10.0,0.0,0,0,0,2014],[\"Arabica\",\"South America\",\"Colombia\",\"Caturra\",\"Green\",\"Washed \\u002f Wet\",7.67,7.83,7.83,8.0,7.58,7.92,10.0,10.0,10.0,0.0,0,0,2,2014],[\"Arabica\",\"North America\",\"Costa Rica\",\"Bourbon\",\"Bluish-Green\",\"Semi-washed \\u002f Semi-pulped\",7.75,7.83,7.75,8.0,7.83,7.67,10.0,10.0,10.0,0.12,0,0,2,2014],[\"Arabica\",\"South America\",\"Colombia\",\"Caturra\",\"Green\",\"Washed \\u002f Wet\",7.42,7.67,7.75,7.75,8.08,7.83,10.0,10.0,10.0,0.11,0,0,6,2013],[\"Arabica\",\"South America\",\"Brazil\",\"Bourbon\",\"Green\",\"Semi-washed \\u002f Semi-pulped\",8.0,8.0,7.75,7.75,7.58,7.75,10.0,10.0,10.0,0.12,0,0,2,2012],[\"Arabica\",\"South America\",\"Brazil\",\"Catuai\",\"Blue-Green\",\"Semi-washed \\u002f Semi-pulped\",8.5,8.0,7.5,7.75,7.5,7.83,10.0,10.0,10.0,0.11,0,0,1,2012],[\"Arabica\",\"North America\",\"Costa Rica\",\"Caturra\",\"Bluish-Green\",\"Washed \\u002f Wet\",7.92,7.67,7.92,7.75,7.67,7.58,10.0,10.0,10.0,0.1,0,0,2,2018],[\"Arabica\",\"Africa\",\"Uganda\",\"SL14\",\"Green\",\"Washed \\u002f Wet\",7.92,7.75,7.67,7.75,7.83,7.75,10.0,10.0,10.0,0.11,0,0,1,2018],[\"Arabica\",\"Asia\",\"China\",\"Catimor\",\"Green\",\"Washed \\u002f Wet\",7.75,7.92,7.67,7.83,7.75,7.67,10.0,10.0,10.0,0.1,0,0,1,2017],[\"Arabica\",\"North America\",\"Costa Rica\",\"Caturra\",\"Green\",\"Washed \\u002f Wet\",7.92,7.83,7.83,7.83,7.58,7.58,10.0,10.0,10.0,0.11,0,0,0,2016],[\"Arabica\",\"South America\",\"Colombia\",\"Other\",\"Green\",\"Washed \\u002f Wet\",8.08,7.67,7.83,7.83,7.67,7.67,10.0,10.0,10.0,0.12,0,1,0,2016],[\"Arabica\",\"Asia\",\"China\",\"Other\",\"Green\",\"Washed \\u002f Wet\",7.67,8.0,7.75,7.83,7.75,7.58,10.0,10.0,10.0,0.0,0,0,2,2015],[\"Arabica\",\"North America\",\"Guatemala\",\"Bourbon\",\"Green\",\"Washed \\u002f Wet\",8.17,7.83,7.67,7.83,7.67,7.83,10.0,10.0,10.0,0.11,0,0,2,2014],[\"Arabica\",\"Africa\",\"Kenya\",\"SL28\",\"Blue-Green\",\"Washed \\u002f Wet\",7.92,7.83,7.67,8.0,7.67,7.75,10.0,10.0,10.0,0.11,0,0,0,2013],[\"Arabica\",\"North America\",\"Mexico\",\"Typica\",\"Green\",\"Washed \\u002f Wet\",8.0,7.92,7.42,8.08,7.5,7.67,10.0,10.0,10.0,0.12,0,0,0,2013],[\"Arabica\",\"North America\",\"Mexico\",\"Typica\",null,\"Washed \\u002f Wet\",7.92,7.83,7.75,7.75,7.75,7.83,10.0,10.0,10.0,0.11,0,0,4,2013],[\"Arabica\",\"North America\",\"Guatemala\",\"Bourbon\",\"Green\",\"Washed \\u002f Wet\",7.67,8.0,7.67,8.0,7.5,7.83,10.0,10.0,10.0,0.11,0,0,2,2013],[\"Arabica\",\"South America\",\"Brazil\",null,null,null,7.81,7.81,7.88,7.75,7.38,8.25,9.5,10.0,10.0,0.0,0,0,4,2012],[\"Arabica\",\"South America\",\"Brazil\",null,null,null,8.17,7.67,7.75,7.75,7.67,7.75,10.0,10.0,10.0,0.0,0,2,0,2012],[\"Arabica\",\"North America\",\"Costa Rica\",\"Caturra\",\"Blue-Green\",\"Washed \\u002f Wet\",7.58,7.83,7.83,8.0,7.67,7.58,10.0,10.0,10.0,0.1,0,0,3,2018],[\"Arabica\",\"Asia\",\"Indonesia\",\"Mandheling\",\"Blue-Green\",\"Other\",7.67,7.67,7.83,7.58,7.83,7.83,10.0,10.0,10.0,0.0,0,0,3,2018],[\"Arabica\",\"South America\",\"Colombia\",\"Caturra\",\"Green\",\"Natural \\u002f Dry\",7.92,7.83,7.75,7.67,7.92,7.67,10.0,10.0,10.0,0.0,0,0,1,2017],[\"Arabica\",\"South America\",\"Colombia\",\"Caturra\",\"Green\",\"Washed \\u002f Wet\",7.92,7.75,7.67,7.92,7.67,7.75,10.0,10.0,10.0,0.0,0,0,3,2015],[\"Arabica\",\"Asia\",\"Taiwan\",\"Typica\",\"Blue-Green\",\"Washed \\u002f Wet\",7.83,7.83,7.75,8.0,7.5,7.75,10.0,10.0,10.0,0.11,0,0,0,2014],[\"Arabica\",\"North America\",\"United States\",\"Hawaiian Kona\",\"Blue-Green\",\"Natural \\u002f Dry\",7.92,7.92,7.5,7.83,7.5,7.92,10.0,10.0,10.0,0.11,0,0,1,2014],[\"Arabica\",\"North America\",\"Mexico\",\"Pacamara\",null,\"Washed \\u002f Wet\",7.75,7.92,7.75,7.67,7.83,7.67,10.0,10.0,10.0,0.12,0,2,4,2013],[\"Arabica\",\"Africa\",\"Ethiopia\",null,null,null,7.5,7.75,7.83,7.92,7.92,7.75,10.0,10.0,10.0,0.2,0,0,2,2011],[\"Arabica\",\"Africa\",\"Kenya\",\"SL28\",\"Green\",\"Washed \\u002f Wet\",7.33,7.58,7.83,7.75,7.75,7.92,10.0,10.0,10.0,0.11,0,0,4,2018],[\"Arabica\",\"North America\",\"Honduras\",\"Caturra\",\"Green\",null,7.92,8.0,7.75,7.67,7.67,7.75,10.0,10.0,10.0,0.1,0,0,3,2018],[\"Arabica\",\"South America\",\"Colombia\",\"Caturra\",\"Green\",\"Washed \\u002f Wet\",7.58,7.75,7.5,7.83,7.67,8.5,10.0,10.0,10.0,0.0,3,0,5,2018],[\"Arabica\",\"North America\",\"Honduras\",\"Catuai\",\"Green\",\"Washed \\u002f Wet\",7.58,7.92,7.58,7.75,7.92,7.75,10.0,10.0,10.0,0.11,1,0,2,2017],[\"Arabica\",\"South America\",\"Colombia\",null,null,null,7.67,7.67,7.75,7.83,7.75,7.83,10.0,10.0,10.0,0.0,2,0,4,2017],[\"Arabica\",\"South America\",\"Colombia\",\"Caturra\",\"Green\",\"Natural \\u002f Dry\",7.75,7.67,8.0,7.67,8.08,7.83,10.0,10.0,10.0,0.11,0,6,0,2016],[\"Arabica\",\"South America\",\"Colombia\",\"Caturra\",\"Green\",\"Washed \\u002f Wet\",7.75,7.58,7.33,7.83,7.58,8.08,10.0,10.0,10.0,0.0,0,0,0,2014],[\"Arabica\",\"North America\",\"Mexico\",\"Typica\",\"Blue-Green\",\"Washed \\u002f Wet\",8.0,7.75,7.75,7.83,7.5,7.67,10.0,10.0,10.0,0.12,0,0,1,2013],[\"Arabica\",\"South America\",\"Brazil\",\"Yellow Bourbon\",null,null,8.17,8.0,7.5,7.75,7.5,7.67,10.0,10.0,10.0,0.0,0,0,4,2012],[\"Arabica\",\"South America\",\"Brazil\",null,null,null,8.0,8.0,7.5,7.5,7.67,7.75,10.0,10.0,10.0,0.02,0,0,2,2012],[\"Arabica\",\"Africa\",\"Ethiopia\",null,null,null,7.75,7.75,7.92,7.75,7.5,7.92,10.0,10.0,10.0,0.0,0,0,1,2012],[\"Arabica\",\"North America\",\"Guatemala\",null,null,null,7.5,7.67,7.75,7.67,7.92,7.92,10.0,10.0,10.0,0.04,0,1,1,2011],[\"Arabica\",\"Asia\",\"Taiwan\",\"Typica\",\"Blue-Green\",\"Washed \\u002f Wet\",7.92,7.75,7.75,7.67,7.67,7.83,10.0,10.0,10.0,0.12,0,0,0,2018],[\"Arabica\",\"Asia\",\"Thailand\",\"Catimor\",\"Green\",\"Natural \\u002f Dry\",7.83,7.75,7.75,7.42,7.83,7.67,10.0,10.0,10.0,0.12,0,0,0,2017],[\"Arabica\",\"South America\",\"Colombia\",\"Caturra\",\"Green\",\"Natural \\u002f Dry\",7.83,7.58,7.75,7.58,7.67,8.0,10.0,10.0,10.0,0.11,0,0,2,2017],[\"Arabica\",\"North America\",\"Guatemala\",\"Caturra\",\"Green\",\"Washed \\u002f Wet\",7.75,7.75,7.58,7.92,7.75,7.75,10.0,10.0,10.0,0.11,4,0,4,2017],[\"Arabica\",\"North America\",\"Guatemala\",\"Caturra\",\"Green\",\"Washed \\u002f Wet\",7.75,7.92,7.5,8.08,7.58,7.67,10.0,10.0,10.0,0.1,0,0,1,2017],[\"Arabica\",\"Asia\",\"China\",\"Catimor\",\"Green\",\"Natural \\u002f Dry\",7.83,7.83,7.58,7.75,7.75,7.75,10.0,10.0,10.0,0.1,0,0,1,2017],[\"Arabica\",\"South America\",\"Colombia\",\"Caturra\",\"Green\",\"Washed \\u002f Wet\",7.67,7.67,7.75,7.75,7.67,7.92,10.0,10.0,10.0,0.11,0,0,3,2016],[\"Arabica\",\"South America\",\"Colombia\",\"Caturra\",\"Green\",\"Washed \\u002f Wet\",7.83,7.67,7.75,7.58,7.92,7.75,10.0,10.0,10.0,0.12,0,4,2,2016],[\"Arabica\",\"South America\",\"Colombia\",\"Other\",\"Green\",\"Washed \\u002f Wet\",7.83,7.75,7.83,7.58,7.67,7.75,10.0,10.0,10.0,0.12,0,0,0,2016],[\"Arabica\",\"South America\",\"Colombia\",\"Caturra\",\"Green\",\"Natural \\u002f Dry\",7.42,7.67,7.83,7.75,7.92,7.83,10.0,10.0,10.0,0.12,0,3,0,2016],[\"Arabica\",\"Africa\",\"Tanzania\",\"Other\",\"Green\",\"Washed \\u002f Wet\",7.83,7.67,7.75,7.83,7.67,7.67,10.0,10.0,10.0,0.12,0,0,7,2015],[\"Arabica\",\"Africa\",\"Tanzania\",\"Other\",\"Green\",\"Washed \\u002f Wet\",7.83,7.75,7.75,7.75,7.67,7.75,10.0,10.0,10.0,0.12,0,0,2,2015],[\"Arabica\",\"North America\",\"Guatemala\",\"Bourbon\",\"Green\",\"Other\",7.83,7.83,7.5,7.92,7.58,7.75,10.0,10.0,10.0,0.1,0,0,1,2015],[\"Arabica\",\"South America\",\"Colombia\",\"Caturra\",\"Green\",\"Washed \\u002f Wet\",7.58,7.5,7.75,7.83,7.92,7.83,10.0,10.0,10.0,0.11,0,0,2,2014],[\"Arabica\",\"North America\",\"United States\",\"Hawaiian Kona\",\"Bluish-Green\",\"Natural \\u002f Dry\",7.33,7.92,7.92,7.92,7.92,8.08,10.0,10.0,9.33,0.11,0,1,1,2013],[\"Arabica\",\"North America\",\"Mexico\",\"Typica\",\"Green\",\"Semi-washed \\u002f Semi-pulped\",7.83,7.92,7.67,7.83,7.5,7.75,10.0,10.0,10.0,0.12,0,0,1,2013],[\"Arabica\",\"North America\",\"Mexico\",\"Bourbon\",\"Green\",\"Washed \\u002f Wet\",7.83,7.83,7.75,7.67,7.83,7.58,10.0,10.0,10.0,0.12,0,0,0,2013],[\"Arabica\",\"North America\",\"Mexico\",\"Bourbon\",\"Bluish-Green\",\"Washed \\u002f Wet\",7.83,7.92,7.67,7.75,7.5,7.75,10.0,10.0,10.0,0.1,0,0,4,2013],[\"Arabica\",\"Africa\",\"Uganda\",\"Other\",\"Green\",\"Natural \\u002f Dry\",8.17,7.75,7.58,7.67,7.83,7.58,10.0,10.0,10.0,0.13,0,4,29,2013],[\"Arabica\",\"North America\",\"Guatemala\",\"Bourbon\",\"Green\",\"Washed \\u002f Wet\",7.75,7.83,7.58,7.83,7.67,7.75,10.0,10.0,10.0,0.13,0,0,1,2018],[\"Arabica\",\"South America\",\"Colombia\",\"Caturra\",\"Green\",\"Washed \\u002f Wet\",7.83,7.75,7.58,7.67,7.75,7.83,10.0,10.0,10.0,0.0,0,0,2,2017],[\"Arabica\",\"North America\",\"Costa Rica\",\"Caturra\",\"Bluish-Green\",\"Washed \\u002f Wet\",7.92,7.75,7.67,7.67,7.5,7.67,10.0,10.0,10.0,0.09,0,0,2,2017],[\"Arabica\",\"North America\",\"Guatemala\",\"Caturra\",\"Green\",\"Washed \\u002f Wet\",7.75,7.75,7.58,8.0,7.67,7.83,10.0,10.0,10.0,0.11,0,0,6,2017],[\"Arabica\",\"North America\",\"Guatemala\",\"Caturra\",\"Green\",\"Washed \\u002f Wet\",7.75,7.92,7.58,7.92,7.67,7.67,10.0,10.0,10.0,0.1,1,0,10,2017],[\"Arabica\",\"North America\",\"Guatemala\",\"Bourbon\",\"Green\",\"Washed \\u002f Wet\",7.58,7.83,7.58,7.83,7.83,7.67,10.0,10.0,10.0,0.1,0,0,2,2017],[\"Arabica\",\"South America\",\"Colombia\",\"Caturra\",\"Bluish-Green\",\"Washed \\u002f Wet\",8.0,7.5,7.5,7.67,8.0,7.83,10.0,10.0,10.0,0.0,0,0,0,2016],[\"Arabica\",\"North America\",\"Nicaragua\",\"Caturra\",\"Bluish-Green\",\"Natural \\u002f Dry\",7.67,7.83,7.83,7.5,7.67,7.83,10.0,10.0,10.0,0.12,0,0,0,2016],[\"Arabica\",\"South America\",\"Brazil\",\"Catuai\",null,\"Natural \\u002f Dry\",7.67,7.75,7.75,7.67,7.83,7.75,10.0,10.0,10.0,0.0,0,0,16,2016],[\"Arabica\",\"North America\",\"Costa Rica\",\"Caturra\",\"Blue-Green\",\"Washed \\u002f Wet\",7.67,7.75,7.67,7.75,7.5,8.0,10.0,10.0,10.0,0.0,0,0,0,2016],[\"Arabica\",\"Africa\",\"Ethiopia\",\"Gesha\",\"Green\",\"Natural \\u002f Dry\",7.5,7.92,7.58,7.83,7.75,7.83,10.0,10.0,10.0,0.1,0,0,5,2016],[\"Arabica\",\"Africa\",\"Tanzania\",\"Other\",\"Green\",\"Washed \\u002f Wet\",7.92,7.75,7.75,7.75,7.75,7.58,10.0,10.0,10.0,0.13,0,0,0,2015],[\"Arabica\",\"South America\",\"Colombia\",\"Other\",\"Green\",\"Washed \\u002f Wet\",7.67,7.5,7.67,7.42,7.83,8.58,10.0,10.0,10.0,0.12,0,0,4,2015],[\"Arabica\",\"North America\",\"Guatemala\",null,\"Bluish-Green\",\"Washed \\u002f Wet\",7.67,7.75,7.67,7.75,7.75,7.75,10.0,10.0,10.0,0.11,0,0,0,2015],[\"Arabica\",\"Africa\",\"Kenya\",\"SL28\",\"Green\",\"Washed \\u002f Wet\",7.58,7.75,7.75,7.75,7.75,7.83,10.0,10.0,10.0,0.08,0,0,0,2014],[\"Arabica\",\"South America\",\"Brazil\",\"Mundo Novo\",\"Green\",\"Natural \\u002f Dry\",7.58,7.83,7.75,7.67,7.67,8.0,10.0,10.0,10.0,0.11,0,0,3,2014],[\"Arabica\",\"North America\",\"Guatemala\",\"Bourbon\",\"Green\",\"Washed \\u002f Wet\",7.92,7.75,7.67,7.67,7.83,7.92,10.0,10.0,10.0,0.11,0,0,4,2014],[\"Arabica\",\"North America\",\"El Salvador\",\"Bourbon\",\"Bluish-Green\",\"Natural \\u002f Dry\",8.42,8.08,7.5,7.17,7.58,8.17,9.33,10.0,10.0,0.11,0,0,2,2014],[\"Arabica\",\"South America\",\"Colombia\",\"Caturra\",\"Green\",\"Washed \\u002f Wet\",7.75,7.75,7.75,7.75,7.83,7.75,10.0,10.0,10.0,0.0,0,0,2,2013],[\"Arabica\",\"North America\",\"Guatemala\",\"Catuai\",\"Bluish-Green\",\"Natural \\u002f Dry\",7.83,7.5,7.5,8.0,7.83,7.83,10.0,10.0,10.0,0.11,0,0,2,2013],[\"Arabica\",\"Africa\",\"Uganda\",\"Other\",\"Green\",\"Washed \\u002f Wet\",7.83,7.75,7.5,7.83,7.83,7.75,10.0,10.0,10.0,0.11,0,0,1,2013],[\"Arabica\",\"Asia\",\"Indonesia\",\"Mandheling\",\"Bluish-Green\",\"Natural \\u002f Dry\",7.81,7.88,7.56,7.75,7.63,7.75,10.0,10.0,10.0,0.12,0,0,0,2018],[\"Arabica\",\"South America\",\"Colombia\",\"Caturra\",\"Green\",\"Washed \\u002f Wet\",7.83,7.5,7.42,7.5,7.83,8.5,10.0,10.0,10.0,0.0,3,1,3,2018],[\"Arabica\",\"Asia\",\"Taiwan\",\"Typica\",\"Bluish-Green\",\"Washed \\u002f Wet\",7.58,7.67,7.67,7.67,7.75,7.83,10.0,10.0,10.0,0.1,0,0,4,2017],[\"Arabica\",\"North America\",\"Guatemala\",\"Bourbon\",\"Green\",\"Washed \\u002f Wet\",8.0,7.75,7.5,7.58,7.92,7.67,10.0,10.0,10.0,0.1,0,0,4,2017],[\"Arabica\",\"South America\",\"Colombia\",\"Caturra\",null,\"Washed \\u002f Wet\",7.92,7.75,7.67,7.75,7.67,7.67,10.0,10.0,10.0,0.0,0,0,2,2015],[\"Arabica\",\"North America\",\"Guatemala\",\"Bourbon\",\"Bluish-Green\",\"Washed \\u002f Wet\",7.58,7.75,7.67,8.0,7.75,7.67,10.0,10.0,10.0,0.1,0,0,10,2015],[\"Arabica\",\"North America\",\"United States\",\"Hawaiian Kona\",\"Green\",\"Natural \\u002f Dry\",7.83,7.75,7.83,7.83,7.42,8.08,9.33,10.0,10.0,0.11,0,1,9,2014],[\"Arabica\",\"North America\",\"Mexico\",\"Typica\",\"Green\",\"Washed \\u002f Wet\",7.67,7.75,7.67,7.75,7.67,7.75,10.0,10.0,10.0,0.11,0,1,10,2013],[\"Arabica\",\"Africa\",\"Ethiopia\",\"Other\",null,\"Natural \\u002f Dry\",7.92,7.92,7.83,8.0,7.92,7.92,10.0,10.0,8.67,0.09,0,0,15,2013],[\"Arabica\",\"North America\",\"Costa Rica\",null,null,\"Washed \\u002f Wet\",7.58,7.75,7.67,7.75,7.83,7.75,10.0,10.0,10.0,0.08,2,1,13,2019],[\"Arabica\",\"Africa\",\"Ethiopia\",\"Gesha\",\"Green\",\"Natural \\u002f Dry\",7.83,7.75,7.67,7.75,7.33,7.75,10.0,10.0,10.0,0.11,11,3,1,2018],[\"Arabica\",\"North America\",\"Honduras\",\"Caturra\",\"Green\",\"Washed \\u002f Wet\",7.42,7.83,7.75,7.92,7.75,7.58,10.0,10.0,10.0,0.1,0,0,5,2018],[\"Arabica\",\"North America\",\"Guatemala\",\"Caturra\",\"Green\",\"Washed \\u002f Wet\",7.67,7.83,7.58,7.92,7.75,7.67,10.0,10.0,10.0,0.12,0,0,7,2016],[\"Arabica\",\"South America\",\"Colombia\",\"Other\",\"Green\",\"Washed \\u002f Wet\",7.67,7.67,7.83,7.58,7.58,7.83,10.0,10.0,10.0,0.11,0,2,7,2015],[\"Arabica\",\"North America\",\"Guatemala\",\"Bourbon\",\"Green\",\"Natural \\u002f Dry\",7.92,7.67,7.42,7.92,7.75,7.83,10.0,10.0,10.0,0.1,0,0,1,2015],[\"Arabica\",\"North America\",\"Guatemala\",\"Bourbon\",\"Green\",\"Other\",7.75,7.83,7.5,7.83,7.58,7.67,10.0,10.0,10.0,0.1,0,0,0,2015],[\"Arabica\",\"South America\",\"Colombia\",null,\"Green\",\"Washed \\u002f Wet\",7.67,7.75,7.67,7.67,7.67,7.75,10.0,10.0,10.0,0.12,0,0,0,2015],[\"Arabica\",\"South America\",\"Colombia\",\"Caturra\",\"Green\",\"Natural \\u002f Dry\",7.58,7.42,7.75,7.92,7.75,7.92,10.0,10.0,10.0,0.12,0,0,0,2015],[\"Arabica\",\"South America\",\"Colombia\",\"Caturra\",\"Green\",\"Washed \\u002f Wet\",7.67,7.67,7.5,7.5,7.67,7.67,10.0,10.0,10.0,0.12,0,0,3,2015],[\"Arabica\",\"Africa\",\"Ethiopia\",\"Other\",\"Green\",\"Natural \\u002f Dry\",7.75,7.75,7.5,7.58,7.67,7.92,10.0,10.0,10.0,0.09,0,4,40,2015],[\"Arabica\",\"South America\",\"Brazil\",\"Yellow Bourbon\",\"Green\",\"Natural \\u002f Dry\",7.58,7.83,7.67,7.25,8.0,7.75,10.0,10.0,10.0,0.1,0,0,0,2015],[\"Arabica\",\"South America\",\"Colombia\",\"Caturra\",\"Green\",\"Washed \\u002f Wet\",7.67,7.83,7.67,7.75,7.67,7.75,10.0,10.0,10.0,0.11,0,0,1,2014],[\"Arabica\",\"Africa\",\"Kenya\",\"SL34\",\"Green\",\"Washed \\u002f Wet\",7.67,7.83,7.5,7.75,7.92,7.67,10.0,10.0,10.0,0.0,0,0,2,2014],[\"Arabica\",\"Asia\",\"Thailand\",\"Other\",\"Green\",\"Washed \\u002f Wet\",7.92,8.17,8.17,8.42,8.08,8.17,8.67,8.67,9.33,0.12,0,0,0,2013],[\"Arabica\",\"Africa\",\"Kenya\",\"SL28\",\"Bluish-Green\",\"Washed \\u002f Wet\",7.67,7.75,7.67,7.75,7.83,7.67,10.0,10.0,10.0,0.0,0,0,0,2013],[\"Arabica\",\"Africa\",\"Uganda\",\"Other\",\"Green\",\"Washed \\u002f Wet\",7.92,7.75,7.58,7.67,7.67,7.83,10.0,10.0,10.0,0.1,0,10,26,2013],[\"Arabica\",\"Asia\",\"Thailand\",null,null,null,7.58,7.75,7.58,7.75,7.58,7.75,10.0,10.0,10.0,0.06,0,0,0,2012],[\"Arabica\",\"South America\",\"Brazil\",\"Bourbon\",\"Green\",\"Natural \\u002f Dry\",7.5,7.75,7.58,7.5,7.58,7.5,10.0,10.0,10.0,0.0,0,0,3,2018],[\"Arabica\",\"North America\",\"Mexico\",\"Mundo Novo\",\"Green\",\"Washed \\u002f Wet\",7.83,7.83,7.58,7.92,7.42,7.5,10.0,10.0,10.0,0.11,0,0,5,2018],[\"Arabica\",\"Asia\",\"Thailand\",\"Catimor\",\"Bluish-Green\",\"Natural \\u002f Dry\",7.67,7.75,7.5,7.67,7.67,7.83,10.0,10.0,10.0,0.1,0,0,1,2017],[\"Arabica\",\"South America\",\"Brazil\",\"Bourbon\",\"Green\",\"Natural \\u002f Dry\",7.58,7.67,7.67,7.75,7.58,7.83,10.0,10.0,10.0,0.11,2,0,7,2017],[\"Arabica\",\"Asia\",\"Taiwan\",\"Typica\",\"Green\",\"Washed \\u002f Wet\",7.83,7.75,7.83,7.75,7.83,7.75,9.33,10.0,10.0,0.11,0,0,3,2017],[\"Arabica\",\"South America\",\"Colombia\",null,\"Green\",null,7.75,7.67,7.5,7.75,7.83,7.75,10.0,10.0,10.0,0.11,0,1,2,2017],[\"Arabica\",\"South America\",\"Colombia\",null,null,null,7.75,7.58,7.5,7.83,7.75,7.92,10.0,10.0,10.0,0.0,3,1,5,2017],[\"Arabica\",\"Asia\",\"Taiwan\",null,\"Blue-Green\",\"Natural \\u002f Dry\",7.75,7.75,7.58,7.75,7.75,7.67,10.0,10.0,10.0,0.0,0,0,0,2016],[\"Arabica\",\"South America\",\"Colombia\",null,null,\"Washed \\u002f Wet\",7.92,7.67,7.5,7.83,7.58,7.67,10.0,10.0,10.0,0.0,0,0,0,2016],[\"Arabica\",\"South America\",\"Colombia\",null,null,\"Washed \\u002f Wet\",7.83,7.75,7.58,7.58,7.75,7.75,10.0,10.0,10.0,0.0,0,1,1,2016],[\"Arabica\",\"South America\",\"Colombia\",\"Caturra\",\"Green\",\"Washed \\u002f Wet\",7.75,7.58,7.67,7.83,7.83,7.67,10.0,10.0,10.0,0.0,0,0,1,2015],[\"Arabica\",\"Asia\",\"Taiwan\",\"Typica\",\"Green\",\"Washed \\u002f Wet\",8.0,7.92,7.92,7.92,7.67,7.33,10.0,10.0,10.0,0.06,0,0,0,2015],[\"Arabica\",\"South America\",\"Colombia\",\"Caturra\",\"Green\",\"Natural \\u002f Dry\",7.67,7.83,7.67,7.75,7.67,7.83,10.0,10.0,10.0,0.12,0,0,3,2015],[\"Arabica\",\"North America\",\"Mexico\",\"Typica\",\"Blue-Green\",\"Washed \\u002f Wet\",7.67,7.75,7.58,7.67,7.75,7.83,10.0,10.0,10.0,0.12,0,10,32,2013],[\"Arabica\",\"North America\",\"Mexico\",\"Typica\",null,\"Washed \\u002f Wet\",7.5,7.67,7.58,7.83,7.75,7.75,10.0,10.0,10.0,0.11,0,0,2,2013],[\"Arabica\",\"North America\",\"Mexico\",\"Typica\",\"Green\",\"Washed \\u002f Wet\",7.75,7.92,7.83,7.92,7.75,7.67,9.33,10.0,10.0,0.0,0,0,2,2013],[\"Arabica\",\"South America\",\"Colombia\",\"Caturra\",\"Green\",\"Washed \\u002f Wet\",7.92,7.58,7.5,7.83,7.58,7.67,10.0,10.0,10.0,0.0,0,1,6,2018],[\"Arabica\",\"South America\",\"Colombia\",\"Caturra\",\"Green\",null,7.83,7.67,7.5,7.75,7.75,7.75,10.0,10.0,10.0,0.0,2,1,0,2018],[\"Arabica\",\"North America\",\"Costa Rica\",\"Caturra\",\"Blue-Green\",\"Washed \\u002f Wet\",7.67,7.67,7.75,7.67,7.5,7.75,10.0,10.0,10.0,0.0,0,0,0,2017],[\"Arabica\",\"North America\",\"Guatemala\",\"Bourbon\",\"Green\",\"Washed \\u002f Wet\",7.75,7.75,7.5,7.75,7.83,7.58,10.0,10.0,10.0,0.11,7,0,6,2017],[\"Arabica\",\"Asia\",\"Taiwan\",null,null,null,7.75,7.67,7.5,7.75,7.75,7.67,10.0,10.0,10.0,0.0,0,0,0,2017],[\"Arabica\",\"South America\",\"Brazil\",\"Yellow Bourbon\",\"Green\",\"Natural \\u002f Dry\",7.25,7.58,7.42,8.0,7.75,7.83,10.0,10.0,10.0,0.0,0,0,0,2016],[\"Arabica\",\"Asia\",\"Taiwan\",\"Typica\",\"Green\",\"Washed \\u002f Wet\",7.67,7.75,7.67,7.75,7.42,7.75,10.0,10.0,10.0,0.0,0,0,1,2016],[\"Arabica\",\"Africa\",\"Ethiopia\",null,\"Green\",\"Natural \\u002f Dry\",7.75,7.75,7.67,7.67,7.58,7.67,10.0,10.0,10.0,0.12,0,0,4,2016],[\"Arabica\",\"South America\",\"Brazil\",\"Bourbon\",\"Green\",\"Semi-washed \\u002f Semi-pulped\",7.67,7.67,7.58,7.5,7.83,8.17,10.0,10.0,9.33,0.0,0,0,1,2015],[\"Arabica\",\"North America\",\"Costa Rica\",\"Catuai\",\"Green\",\"Washed \\u002f Wet\",7.83,7.42,7.5,7.83,7.75,7.83,10.0,10.0,10.0,0.1,0,0,3,2015],[\"Arabica\",\"North America\",\"Guatemala\",\"Bourbon\",\"Green\",\"Washed \\u002f Wet\",7.58,7.83,7.33,8.0,7.58,7.75,10.0,10.0,10.0,0.1,0,0,1,2015],[\"Arabica\",\"South America\",\"Brazil\",\"Yellow Bourbon\",\"Green\",\"Natural \\u002f Dry\",7.92,7.5,7.33,7.67,8.17,7.5,10.0,10.0,10.0,0.1,0,0,0,2014],[\"Arabica\",\"South America\",\"Ecuador\",null,\"Bluish-Green\",\"Natural \\u002f Dry\",7.5,7.67,7.58,7.75,7.83,7.83,10.0,10.0,10.0,0.09,0,0,0,2014],[\"Arabica\",\"South America\",\"Colombia\",\"Caturra\",\"Green\",\"Washed \\u002f Wet\",7.67,7.58,7.58,7.83,7.58,7.67,10.0,10.0,10.0,0.11,0,0,1,2014],[\"Arabica\",\"North America\",\"Guatemala\",\"Bourbon\",\"Green\",\"Washed \\u002f Wet\",7.5,7.83,7.5,7.83,7.83,7.67,10.0,10.0,10.0,0.11,0,0,3,2014],[\"Arabica\",\"North America\",\"Mexico\",\"Bourbon\",\"Green\",\"Natural \\u002f Dry\",7.67,8.0,7.67,7.42,7.67,7.5,10.0,10.0,10.0,0.1,0,0,2,2013],[\"Arabica\",\"North America\",\"Mexico\",\"Pacas\",null,\"Natural \\u002f Dry\",7.67,7.58,7.5,7.75,7.75,7.75,10.0,10.0,10.0,0.11,0,0,4,2013],[\"Arabica\",\"South America\",\"Brazil\",\"Yellow Bourbon\",\"Green\",\"Semi-washed \\u002f Semi-pulped\",7.83,7.83,7.58,7.67,7.5,7.58,10.0,10.0,10.0,0.12,0,0,3,2012],[\"Arabica\",\"Asia\",\"Thailand\",null,null,null,7.75,7.75,7.58,8.0,7.67,7.58,10.0,10.0,10.0,0.02,0,0,2,2012],[\"Arabica\",\"Asia\",\"Thailand\",null,null,null,7.5,7.83,7.58,7.58,7.75,7.83,10.0,10.0,10.0,0.01,0,0,0,2012],[\"Arabica\",\"Africa\",\"Ethiopia\",null,null,null,7.58,7.83,7.58,8.0,7.83,7.5,10.0,10.0,10.0,0.1,0,0,3,2011],[\"Arabica\",\"Africa\",\"Kenya\",\"SL28\",\"Green\",\"Washed \\u002f Wet\",7.75,7.58,7.5,7.58,7.75,7.75,10.0,10.0,10.0,0.11,0,0,2,2019],[\"Arabica\",\"South America\",\"Brazil\",\"Bourbon\",\"Green\",\"Natural \\u002f Dry\",7.67,7.67,7.58,7.75,7.67,7.67,10.0,10.0,10.0,0.11,0,0,5,2018],[\"Arabica\",\"South America\",\"Colombia\",\"Caturra\",\"Green\",\"Washed \\u002f Wet\",7.83,7.83,7.58,7.58,7.58,7.58,10.0,10.0,10.0,0.11,0,0,1,2018],[\"Arabica\",\"Asia\",\"Taiwan\",\"Typica\",\"Green\",\"Natural \\u002f Dry\",7.67,7.67,7.58,7.58,7.67,7.83,10.0,10.0,10.0,0.0,0,0,0,2018],[\"Arabica\",\"South America\",\"Colombia\",null,\"Green\",\"Washed \\u002f Wet\",7.92,7.75,7.5,7.67,7.75,7.5,10.0,10.0,10.0,0.0,0,1,4,2018],[\"Arabica\",\"Asia\",\"China\",\"Catimor\",\"Green\",\"Washed \\u002f Wet\",7.83,7.75,7.67,7.5,7.58,7.67,10.0,10.0,10.0,0.1,1,0,2,2017],[\"Arabica\",\"South America\",\"Colombia\",\"Caturra\",\"Green\",\"Natural \\u002f Dry\",7.75,7.67,7.5,7.67,7.58,7.83,10.0,10.0,10.0,0.0,0,0,0,2016],[\"Arabica\",\"Africa\",\"Uganda\",\"Bourbon\",\"Green\",\"Natural \\u002f Dry\",8.0,7.92,7.58,7.75,7.33,7.5,10.0,10.0,10.0,0.12,0,0,0,2015],[\"Arabica\",\"North America\",\"United States\",\"Other\",\"Green\",\"Washed \\u002f Wet\",7.83,7.83,7.83,7.67,8.0,8.17,9.33,9.33,10.0,0.12,0,0,1,2015],[\"Arabica\",\"South America\",\"Colombia\",\"Caturra\",\"Green\",\"Washed \\u002f Wet\",7.67,7.67,7.67,7.92,7.5,7.67,10.0,10.0,10.0,0.0,0,0,5,2015],[\"Arabica\",\"South America\",\"Colombia\",\"Other\",\"Green\",\"Washed \\u002f Wet\",7.67,7.42,7.42,7.42,8.0,8.33,10.0,10.0,10.0,0.0,0,0,3,2015],[\"Arabica\",\"South America\",\"Colombia\",\"Caturra\",\"Blue-Green\",\"Washed \\u002f Wet\",7.58,7.67,7.75,7.67,7.67,7.67,10.0,10.0,10.0,0.0,0,0,1,2014],[\"Arabica\",\"South America\",\"Colombia\",\"Caturra\",\"Green\",\"Washed \\u002f Wet\",7.75,7.67,7.75,7.58,7.42,8.0,10.0,10.0,10.0,0.11,0,0,3,2014],[\"Arabica\",\"North America\",\"United States\",\"Hawaiian Kona\",\"Bluish-Green\",\"Natural \\u002f Dry\",7.25,7.42,7.67,7.58,7.83,8.25,10.0,10.0,10.0,0.0,0,0,0,2014],[\"Arabica\",\"North America\",\"Mexico\",\"Caturra\",null,\"Natural \\u002f Dry\",7.83,7.58,7.58,7.5,7.75,7.67,10.0,10.0,10.0,0.13,0,5,5,2013],[\"Arabica\",\"North America\",\"Guatemala\",\"Caturra\",\"Bluish-Green\",\"Washed \\u002f Wet\",7.67,7.58,7.58,7.67,7.75,7.75,10.0,10.0,10.0,0.11,0,0,1,2013],[\"Arabica\",\"South America\",\"Colombia\",null,null,null,7.83,7.83,7.58,7.33,7.42,7.67,10.0,10.0,10.0,0.1,0,0,1,2012],[\"Arabica\",\"South America\",\"Colombia\",null,null,null,7.75,7.67,7.25,7.25,7.58,8.5,10.0,10.0,10.0,0.06,0,0,1,2012],[\"Arabica\",\"North America\",\"United States\",null,null,null,7.83,7.67,7.75,7.67,7.58,7.5,10.0,10.0,10.0,0.0,0,0,0,2011],[\"Arabica\",\"South America\",\"Brazil\",\"Bourbon\",\"Green\",\"Natural \\u002f Dry\",7.67,7.83,7.5,7.67,7.67,7.5,10.0,10.0,10.0,0.11,0,0,2,2018],[\"Arabica\",\"Africa\",\"Kenya\",\"SL28\",\"Bluish-Green\",\"Washed \\u002f Wet\",8.08,7.67,7.67,7.58,7.25,7.67,10.0,10.0,10.0,0.11,0,0,0,2018],[\"Arabica\",\"North America\",\"Honduras\",\"Caturra\",\"Green\",\"Washed \\u002f Wet\",7.5,7.5,7.67,7.67,8.0,8.0,10.0,10.0,10.0,0.1,0,0,2,2018],[\"Arabica\",\"North America\",\"Nicaragua\",\"Caturra\",\"Green\",\"Washed \\u002f Wet\",7.67,7.75,7.67,7.67,7.83,7.58,10.0,10.0,10.0,0.1,0,0,3,2018],[\"Arabica\",\"South America\",\"Brazil\",\"Bourbon\",\"Green\",\"Natural \\u002f Dry\",7.58,7.75,7.58,7.75,7.58,7.58,10.0,10.0,10.0,0.11,2,0,3,2017],[\"Arabica\",\"Asia\",\"Taiwan\",\"Caturra\",\"Bluish-Green\",\"Natural \\u002f Dry\",7.5,7.67,7.33,7.92,7.83,7.67,10.0,10.0,10.0,0.1,0,0,0,2017],[\"Arabica\",\"North America\",\"Costa Rica\",null,\"Blue-Green\",null,7.33,7.67,7.67,7.5,7.67,7.5,10.0,10.0,10.0,0.11,0,0,1,2017],[\"Arabica\",\"Asia\",\"Thailand\",null,\"Bluish-Green\",\"Washed \\u002f Wet\",7.5,7.75,7.58,7.83,7.67,7.58,10.0,10.0,10.0,0.12,0,0,0,2016],[\"Arabica\",\"South America\",\"Colombia\",\"Caturra\",null,\"Washed \\u002f Wet\",7.5,7.75,7.5,7.75,7.67,7.67,10.0,10.0,10.0,0.11,0,0,4,2015],[\"Arabica\",\"North America\",\"Guatemala\",\"Bourbon\",\"Green\",\"Washed \\u002f Wet\",8.0,7.5,7.33,8.0,8.0,8.0,9.33,10.0,10.0,0.1,0,0,0,2015],[\"Arabica\",\"South America\",\"Colombia\",\"Caturra\",\"Green\",\"Washed \\u002f Wet\",7.83,7.75,7.67,7.58,7.58,7.67,10.0,10.0,10.0,0.0,0,0,3,2014],[\"Arabica\",\"South America\",\"Colombia\",\"Caturra\",\"Green\",\"Washed \\u002f Wet\",7.67,7.67,7.67,7.67,7.33,7.75,10.0,10.0,10.0,0.0,0,0,1,2014],[\"Arabica\",\"North America\",\"Guatemala\",\"Bourbon\",\"Green\",\"Washed \\u002f Wet\",7.67,7.67,7.42,7.67,8.0,7.75,10.0,10.0,10.0,0.12,0,1,3,2014],[\"Arabica\",\"North America\",\"Guatemala\",\"Bourbon\",\"Green\",\"Washed \\u002f Wet\",7.83,7.67,7.33,7.67,7.67,7.83,10.0,10.0,10.0,0.11,0,0,2,2014],[\"Arabica\",\"South America\",\"Colombia\",\"Caturra\",\"Green\",\"Washed \\u002f Wet\",7.75,7.75,7.58,7.83,7.17,7.75,10.0,10.0,10.0,0.11,0,0,1,2013],[\"Arabica\",\"North America\",\"Guatemala\",\"Caturra\",\"Green\",\"Natural \\u002f Dry\",8.17,8.17,7.83,7.67,8.08,7.75,9.33,9.33,9.33,0.11,0,0,1,2013],[\"Arabica\",\"North America\",\"Guatemala\",\"Bourbon\",\"Green\",\"Washed \\u002f Wet\",7.67,8.17,7.5,7.42,7.58,7.83,10.0,10.0,10.0,0.11,0,0,13,2013],[\"Arabica\",\"North America\",\"Mexico\",\"Typica\",\"Green\",\"Washed \\u002f Wet\",7.67,7.5,7.5,7.33,7.83,8.25,10.0,10.0,10.0,0.12,0,4,11,2013],[\"Arabica\",\"Asia\",\"Indonesia\",\"Typica\",\"Green\",\"Washed \\u002f Wet\",8.17,7.67,7.58,7.58,7.42,7.67,10.0,10.0,10.0,0.12,0,0,0,2013],[\"Arabica\",\"North America\",\"Guatemala\",\"Caturra\",\"Green\",\"Washed \\u002f Wet\",7.67,7.5,7.33,8.0,7.67,7.67,10.0,10.0,10.0,0.1,0,0,0,2013],[\"Arabica\",\"North America\",\"United States\",null,null,null,7.75,8.0,7.92,8.08,7.75,8.0,9.33,9.33,9.33,0.0,0,0,0,2012],[\"Arabica\",\"South America\",\"Brazil\",\"Bourbon\",\"Green\",\"Natural \\u002f Dry\",7.58,7.67,7.58,7.58,7.67,7.58,10.0,10.0,10.0,0.11,0,0,5,2018],[\"Arabica\",\"North America\",\"Guatemala\",\"Caturra\",\"Green\",\"Washed \\u002f Wet\",7.75,7.75,7.5,7.83,7.58,7.58,10.0,10.0,10.0,0.11,1,0,0,2017],[\"Arabica\",\"South America\",\"Colombia\",\"Caturra\",\"Green\",\"Washed \\u002f Wet\",7.75,7.75,7.58,7.58,7.67,7.58,10.0,10.0,10.0,0.11,0,0,4,2017],[\"Arabica\",\"Asia\",\"China\",\"Catimor\",\"Green\",\"Washed \\u002f Wet\",7.67,7.58,7.58,7.58,7.67,7.75,10.0,10.0,10.0,0.1,1,0,4,2017],[\"Arabica\",\"South America\",\"Colombia\",\"Caturra\",\"Green\",\"Washed \\u002f Wet\",7.67,7.75,7.58,7.67,7.75,7.58,10.0,10.0,10.0,0.12,0,0,3,2016],[\"Arabica\",\"North America\",\"Mexico\",\"Caturra\",\"Green\",\"Washed \\u002f Wet\",7.75,7.75,7.58,7.58,7.5,7.67,10.0,10.0,10.0,0.12,0,1,13,2016],[\"Arabica\",\"Africa\",\"Ethiopia\",\"Other\",null,\"Washed \\u002f Wet\",7.75,7.67,7.58,7.67,7.5,7.67,10.0,10.0,10.0,0.0,0,0,7,2016],[\"Arabica\",\"Africa\",\"Uganda\",\"SL14\",\"Green\",\"Washed \\u002f Wet\",7.67,7.67,7.42,7.75,7.75,7.67,10.0,10.0,10.0,0.12,0,0,5,2015],[\"Arabica\",\"South America\",\"Colombia\",\"Caturra\",\"Green\",\"Natural \\u002f Dry\",7.67,7.58,7.67,7.67,7.67,7.67,10.0,10.0,10.0,0.0,0,0,0,2015],[\"Arabica\",\"South America\",\"Colombia\",\"Caturra\",\"Green\",\"Washed \\u002f Wet\",7.67,7.58,7.67,7.58,7.67,7.75,10.0,10.0,10.0,0.12,0,0,1,2015],[\"Arabica\",\"South America\",\"Colombia\",\"Caturra\",null,\"Washed \\u002f Wet\",7.75,7.58,7.5,7.58,7.75,7.83,10.0,10.0,10.0,0.0,0,0,0,2015],[\"Arabica\",\"Asia\",\"Taiwan\",\"Typica\",\"Green\",\"Other\",7.75,7.75,7.75,7.75,7.5,7.58,10.0,10.0,10.0,0.11,0,0,0,2014],[\"Arabica\",\"South America\",\"Colombia\",\"Caturra\",\"Green\",\"Washed \\u002f Wet\",7.67,7.67,7.58,7.67,7.75,7.58,10.0,10.0,10.0,0.11,0,0,3,2013],[\"Arabica\",\"North America\",\"Mexico\",\"Typica\",null,\"Washed \\u002f Wet\",7.83,7.67,7.58,7.58,7.67,7.58,10.0,10.0,10.0,0.12,0,0,2,2013],[\"Arabica\",\"South America\",\"Colombia\",\"Caturra\",\"Green\",\"Natural \\u002f Dry\",7.67,7.58,7.58,7.58,7.67,7.75,10.0,10.0,10.0,0.11,0,0,4,2013],[\"Arabica\",\"South America\",\"Brazil\",\"Catuai\",\"Blue-Green\",\"Semi-washed \\u002f Semi-pulped\",7.83,7.75,7.5,7.75,7.5,7.58,10.0,10.0,10.0,0.12,0,0,2,2013],[\"Arabica\",\"South America\",\"Colombia\",\"Caturra\",\"Bluish-Green\",\"Washed \\u002f Wet\",7.75,7.58,7.58,7.75,7.75,7.5,10.0,10.0,10.0,0.0,0,0,5,2018],[\"Arabica\",\"Asia\",\"Taiwan\",null,\"Blue-Green\",null,7.58,7.58,7.17,7.17,7.0,7.0,10.0,10.0,10.0,0.11,0,0,0,2018],[\"Arabica\",\"North America\",\"Costa Rica\",\"Caturra\",\"Blue-Green\",\"Washed \\u002f Wet\",7.92,7.42,7.5,7.67,7.5,7.67,10.0,10.0,10.0,0.0,0,0,0,2017],[\"Arabica\",\"South America\",\"Colombia\",\"Caturra\",\"Green\",\"Natural \\u002f Dry\",7.75,7.58,7.58,7.5,7.75,7.75,10.0,10.0,10.0,0.0,0,0,0,2017],[\"Arabica\",\"North America\",\"Guatemala\",\"Bourbon\",\"Bluish-Green\",\"Washed \\u002f Wet\",7.67,7.75,7.5,7.83,7.58,7.58,10.0,10.0,10.0,0.1,2,0,5,2017],[\"Arabica\",\"South America\",\"Colombia\",\"Caturra\",\"Green\",\"Washed \\u002f Wet\",7.58,7.58,7.58,7.58,7.75,7.67,10.0,10.0,10.0,0.12,0,0,4,2016],[\"Arabica\",\"Africa\",\"Tanzania\",\"Ruiru 11\",\"Green\",\"Washed \\u002f Wet\",7.75,7.67,7.58,7.67,7.67,7.58,10.0,10.0,10.0,0.13,0,0,21,2016],[\"Arabica\",\"Asia\",\"Indonesia\",\"Sumatra\",\"Bluish-Green\",\"Semi-washed \\u002f Semi-pulped\",7.25,7.67,7.58,7.92,7.83,7.58,10.0,10.0,10.0,0.13,0,0,8,2016],[\"Arabica\",\"Africa\",\"Ethiopia\",null,null,\"Natural \\u002f Dry\",7.67,7.75,7.5,7.58,7.75,7.67,10.0,10.0,10.0,0.1,0,1,18,2016],[\"Arabica\",\"South America\",\"Colombia\",null,null,\"Washed \\u002f Wet\",7.67,7.42,7.67,7.83,7.58,7.67,10.0,10.0,10.0,0.0,0,1,0,2016],[\"Arabica\",\"South America\",\"Colombia\",\"Caturra\",\"Green\",\"Washed \\u002f Wet\",8.0,7.58,7.25,7.58,7.92,7.58,10.0,10.0,10.0,0.11,0,0,0,2016],[\"Arabica\",\"North America\",\"Guatemala\",\"Caturra\",\"Green\",\"Washed \\u002f Wet\",7.58,7.75,7.5,7.83,7.42,7.67,10.0,10.0,10.0,0.1,0,0,0,2015],[\"Arabica\",\"South America\",\"Colombia\",\"Caturra\",null,\"Washed \\u002f Wet\",7.75,7.58,7.33,7.5,7.83,7.83,10.0,10.0,10.0,0.0,0,2,0,2015],[\"Arabica\",\"North America\",\"Honduras\",\"Caturra\",\"Green\",\"Natural \\u002f Dry\",7.67,7.5,7.67,7.5,7.67,7.67,10.0,10.0,10.0,0.1,0,0,3,2015],[\"Arabica\",\"South America\",\"Colombia\",\"Caturra\",\"Green\",\"Washed \\u002f Wet\",7.58,7.75,7.42,7.67,7.75,7.67,10.0,10.0,10.0,0.0,0,1,1,2014],[\"Arabica\",\"South America\",\"Colombia\",\"Caturra\",\"Green\",\"Washed \\u002f Wet\",7.58,7.67,7.58,7.75,7.58,7.75,10.0,10.0,10.0,0.11,0,0,2,2014],[\"Arabica\",\"North America\",\"Mexico\",\"Bourbon\",\"Green\",\"Natural \\u002f Dry\",7.83,7.58,7.25,7.5,7.5,7.42,10.0,10.0,10.0,0.13,0,0,14,2013],[\"Arabica\",\"North America\",\"Mexico\",\"Typica\",\"Green\",\"Semi-washed \\u002f Semi-pulped\",7.67,7.75,7.67,7.75,7.58,7.5,10.0,10.0,10.0,0.11,0,0,12,2013],[\"Arabica\",\"North America\",\"Mexico\",\"Pacamara\",\"Green\",\"Washed \\u002f Wet\",7.75,7.67,7.67,7.75,7.33,7.5,10.0,10.0,10.0,0.12,0,0,0,2013],[\"Arabica\",\"North America\",\"Guatemala\",\"Caturra\",\"Green\",\"Washed \\u002f Wet\",7.83,7.5,7.5,8.0,7.67,7.5,10.0,10.0,10.0,0.1,0,0,5,2013],[\"Arabica\",\"South America\",\"Colombia\",\"Caturra\",\"Green\",\"Washed \\u002f Wet\",7.67,7.58,7.58,7.67,7.67,7.67,10.0,10.0,10.0,0.11,0,0,0,2013],[\"Arabica\",\"North America\",\"Guatemala\",\"Bourbon\",\"Green\",\"Washed \\u002f Wet\",7.5,7.5,7.75,7.5,8.0,7.67,10.0,10.0,10.0,0.0,0,3,12,2013],[\"Arabica\",\"North America\",\"United States\",null,null,null,7.5,7.67,7.58,7.92,7.58,7.67,10.0,10.0,10.0,0.01,0,0,0,2012],[\"Arabica\",\"Asia\",\"Indonesia\",null,null,null,7.83,7.58,7.58,7.58,7.75,7.58,10.0,10.0,10.0,0.0,0,0,0,2011],[\"Arabica\",\"South America\",\"Colombia\",\"Caturra\",\"Green\",\"Washed \\u002f Wet\",7.5,7.58,7.58,7.5,7.75,7.83,10.0,10.0,10.0,0.0,2,0,1,2018],[\"Arabica\",\"North America\",\"Guatemala\",\"Bourbon\",\"Green\",\"Washed \\u002f Wet\",7.67,7.75,7.5,7.58,7.58,7.67,10.0,10.0,10.0,0.1,0,0,3,2018],[\"Arabica\",\"South America\",\"Colombia\",\"Caturra\",\"Green\",\"Washed \\u002f Wet\",7.67,7.67,7.5,7.67,7.67,7.58,10.0,10.0,10.0,0.11,0,0,2,2018],[\"Arabica\",\"North America\",\"Costa Rica\",\"Caturra\",\"Blue-Green\",\"Washed \\u002f Wet\",7.58,7.5,7.42,7.92,7.5,7.67,10.0,10.0,10.0,0.09,0,0,4,2018],[\"Arabica\",\"Asia\",\"Taiwan\",null,\"Blue-Green\",null,7.67,7.67,7.0,7.08,7.0,7.0,10.0,10.0,10.0,0.11,0,0,0,2018],[\"Arabica\",\"Africa\",\"Uganda\",\"SL14\",\"Green\",\"Washed \\u002f Wet\",7.58,7.75,7.33,7.75,7.67,7.58,10.0,10.0,10.0,0.11,0,0,1,2017],[\"Arabica\",\"Asia\",\"Thailand\",\"Catimor\",\"Bluish-Green\",\"Washed \\u002f Wet\",7.5,7.58,7.75,7.5,7.75,7.67,10.0,10.0,10.0,0.13,0,0,0,2017],[\"Arabica\",\"North America\",\"El Salvador\",\"Bourbon\",null,\"Washed \\u002f Wet\",7.58,7.5,7.75,7.58,7.75,7.67,10.0,10.0,10.0,0.11,0,0,0,2017],[\"Arabica\",\"South America\",\"Colombia\",\"Caturra\",\"Green\",\"Natural \\u002f Dry\",7.58,7.67,7.58,7.67,7.58,7.67,10.0,10.0,10.0,0.12,0,4,0,2016],[\"Arabica\",\"South America\",\"Brazil\",\"Yellow Bourbon\",\"Green\",\"Semi-washed \\u002f Semi-pulped\",7.33,7.83,7.75,7.5,7.42,7.83,10.0,10.0,10.0,0.12,0,0,6,2016],[\"Arabica\",\"Africa\",\"Tanzania\",\"Bourbon\",\"Green\",\"Washed \\u002f Wet\",7.75,7.67,7.58,7.67,7.58,7.58,10.0,10.0,10.0,0.13,0,0,4,2015],[\"Arabica\",\"South America\",\"Colombia\",\"Caturra\",\"Green\",\"Washed \\u002f Wet\",7.58,7.58,7.25,7.75,7.75,8.58,9.33,10.0,10.0,0.12,0,0,1,2015],[\"Arabica\",\"North America\",\"Guatemala\",\"Bourbon\",\"Green\",\"Natural \\u002f Dry\",7.75,7.83,7.33,7.83,7.5,7.67,10.0,10.0,10.0,0.1,0,0,1,2015],[\"Arabica\",\"North America\",\"Guatemala\",\"Caturra\",\"Green\",\"Washed \\u002f Wet\",7.67,7.75,7.5,7.83,7.58,7.5,10.0,10.0,10.0,0.1,0,0,2,2015],[\"Arabica\",\"North America\",\"Guatemala\",\"Bourbon\",\"Green\",\"Washed \\u002f Wet\",7.67,7.5,7.75,7.42,7.75,7.75,10.0,10.0,10.0,0.11,0,0,0,2014],[\"Arabica\",\"North America\",\"United States\",\"Hawaiian Kona\",\"Green\",\"Natural \\u002f Dry\",7.42,7.75,7.67,7.58,7.67,7.67,10.0,10.0,10.0,0.0,0,0,2,2014],[\"Arabica\",\"South America\",\"Colombia\",\"Caturra\",\"Green\",\"Washed \\u002f Wet\",7.5,7.75,7.58,7.5,7.67,7.75,10.0,10.0,10.0,0.11,0,0,2,2013],[\"Arabica\",\"South America\",\"Colombia\",null,null,null,7.58,7.58,7.58,7.67,7.75,7.67,10.0,10.0,10.0,0.1,0,1,3,2012],[\"Arabica\",\"North America\",\"United States\",null,null,null,7.5,7.92,7.42,7.67,7.83,7.58,10.0,10.0,10.0,0.01,0,0,0,2011],[\"Arabica\",\"Asia\",\"Thailand\",\"Peaberry\",null,null,7.58,7.25,7.5,7.92,7.92,7.42,10.0,10.0,10.0,0.11,0,0,0,2011],[\"Arabica\",\"North America\",\"Mexico\",null,null,null,7.25,7.88,7.38,7.63,7.5,8.75,9.0,10.0,10.0,0.09,0,2,4,2011],[\"Arabica\",\"South America\",\"Colombia\",\"Caturra\",null,\"Washed \\u002f Wet\",7.75,7.5,7.75,7.58,7.58,7.58,10.0,10.0,10.0,0.0,1,0,0,2017],[\"Arabica\",\"South America\",\"Colombia\",\"Caturra\",\"Blue-Green\",\"Washed \\u002f Wet\",7.67,7.58,7.58,7.42,7.67,7.75,10.0,10.0,10.0,0.0,0,0,0,2017],[\"Arabica\",\"South America\",\"Colombia\",\"Caturra\",\"Green\",\"Washed \\u002f Wet\",7.83,7.58,7.58,7.58,7.5,7.58,10.0,10.0,10.0,0.0,0,1,2,2017],[\"Arabica\",\"South America\",\"Brazil\",\"Catuai\",\"Green\",\"Semi-washed \\u002f Semi-pulped\",7.5,7.83,7.33,7.58,7.58,7.92,10.0,10.0,10.0,0.1,0,1,5,2016],[\"Arabica\",\"North America\",\"Mexico\",\"Caturra\",\"Green\",\"Washed \\u002f Wet\",7.75,7.75,7.5,7.67,7.5,7.58,10.0,10.0,10.0,0.12,0,0,2,2016],[\"Arabica\",\"South America\",\"Colombia\",\"Caturra\",\"Green\",\"Washed \\u002f Wet\",7.67,7.75,7.42,7.83,7.83,7.42,10.0,10.0,10.0,0.11,0,0,1,2016],[\"Arabica\",\"Africa\",\"Tanzania\",\"Other\",\"Green\",\"Semi-washed \\u002f Semi-pulped\",7.75,7.58,7.67,7.58,7.58,7.58,10.0,10.0,10.0,0.12,0,0,6,2015],[\"Arabica\",\"North America\",\"Mexico\",\"Other\",\"Green\",\"Washed \\u002f Wet\",7.67,7.67,7.58,7.67,7.5,7.58,10.0,10.0,10.0,0.12,0,0,0,2015],[\"Arabica\",\"North America\",\"Costa Rica\",\"Caturra\",\"Green\",\"Washed \\u002f Wet\",7.67,7.67,7.42,7.67,7.67,7.67,10.0,10.0,10.0,0.12,0,0,3,2015],[\"Arabica\",\"North America\",\"United States\",\"Hawaiian Kona\",\"Bluish-Green\",\"Natural \\u002f Dry\",7.83,7.58,7.83,7.67,7.92,8.0,9.33,10.0,9.33,0.11,0,0,1,2015],[\"Arabica\",\"North America\",\"Costa Rica\",\"Catuai\",\"Green\",\"Washed \\u002f Wet\",7.5,7.67,7.67,7.5,7.83,7.17,10.0,10.0,10.0,0.11,0,0,3,2015],[\"Arabica\",\"South America\",\"Peru\",null,\"Green\",\"Washed \\u002f Wet\",7.83,7.75,7.58,7.83,7.92,7.58,9.33,10.0,10.0,0.12,0,0,5,2015],[\"Arabica\",\"North America\",\"Haiti\",\"Typica\",\"Green\",\"Washed \\u002f Wet\",7.58,7.5,7.67,7.5,7.83,7.42,10.0,10.0,10.0,0.11,0,0,4,2014],[\"Arabica\",\"South America\",\"Colombia\",\"Caturra\",\"Green\",\"Natural \\u002f Dry\",7.67,7.67,7.5,7.67,7.92,7.42,10.0,10.0,10.0,0.11,0,0,1,2014],[\"Arabica\",\"North America\",\"Guatemala\",\"Bourbon\",\"Green\",\"Washed \\u002f Wet\",7.83,7.67,7.17,7.67,7.67,7.67,10.0,10.0,10.0,0.11,0,0,3,2014],[\"Arabica\",\"North America\",\"United States\",\"Hawaiian Kona\",\"Bluish-Green\",\"Natural \\u002f Dry\",7.92,7.5,7.58,7.83,7.67,7.67,9.33,10.0,10.0,0.1,0,0,4,2014],[\"Arabica\",\"Africa\",\"Burundi\",\"Bourbon\",null,\"Washed \\u002f Wet\",7.75,7.67,7.33,7.5,7.5,7.75,10.0,10.0,10.0,0.0,0,0,5,2013],[\"Arabica\",\"South America\",\"Colombia\",\"Caturra\",\"Green\",\"Washed \\u002f Wet\",7.5,7.67,7.67,7.58,7.67,7.58,10.0,10.0,10.0,0.0,0,0,1,2013],[\"Arabica\",\"North America\",\"United States\",null,null,null,8.08,7.83,7.83,7.75,7.67,7.58,9.33,10.0,9.33,0.01,0,0,0,2012],[\"Arabica\",\"North America\",\"United States\",null,null,null,7.58,7.67,7.58,7.5,7.83,7.67,10.0,10.0,10.0,0.0,0,0,0,2012],[\"Arabica\",\"North America\",\"Mexico\",\"Typica\",\"Blue-Green\",\"Washed \\u002f Wet\",7.67,7.83,7.42,7.83,7.33,7.5,10.0,10.0,10.0,0.11,0,0,0,2018],[\"Arabica\",\"North America\",\"Costa Rica\",\"Catuai\",\"Green\",\"Pulped natural \\u002f honey\",7.5,7.5,7.83,7.5,7.67,7.67,10.0,10.0,10.0,0.11,0,0,0,2018],[\"Arabica\",\"North America\",\"Costa Rica\",null,null,\"Washed \\u002f Wet\",7.83,7.5,7.42,7.67,7.5,7.67,10.0,10.0,10.0,0.11,0,0,0,2017],[\"Arabica\",\"North America\",\"Guatemala\",\"Pacas\",\"Green\",\"Washed \\u002f Wet\",7.5,7.58,7.42,7.83,7.67,7.58,10.0,10.0,10.0,0.11,2,0,7,2017],[\"Arabica\",\"Africa\",\"Uganda\",\"SL14\",\"Green\",\"Washed \\u002f Wet\",7.5,7.67,7.67,7.42,7.67,7.67,10.0,10.0,10.0,0.12,0,0,1,2017],[\"Arabica\",\"South America\",\"Brazil\",null,\"Green\",null,7.58,7.67,7.42,7.5,7.67,7.42,10.0,10.0,10.0,0.12,0,0,4,2017],[\"Arabica\",\"South America\",\"Colombia\",\"Caturra\",\"Green\",\"Natural \\u002f Dry\",7.58,7.67,7.67,7.17,7.75,7.83,10.0,10.0,10.0,0.0,0,0,2,2016],[\"Arabica\",\"North America\",\"Mexico\",\"Typica\",\"Bluish-Green\",\"Natural \\u002f Dry\",7.83,7.75,7.5,7.58,7.58,7.58,10.0,10.0,10.0,0.12,0,0,2,2016],[\"Arabica\",\"Asia\",\"Taiwan\",\"Bourbon\",\"Blue-Green\",\"Washed \\u002f Wet\",7.67,7.5,7.5,7.5,7.67,7.83,10.0,10.0,10.0,0.1,0,0,0,2016],[\"Arabica\",\"Asia\",\"Taiwan\",\"Typica\",\"Green\",\"Washed \\u002f Wet\",7.92,7.83,7.75,7.58,7.5,7.33,10.0,10.0,10.0,0.1,0,0,0,2015],[\"Arabica\",\"South America\",\"Colombia\",\"Caturra\",\"Green\",\"Natural \\u002f Dry\",7.58,7.58,7.5,7.58,7.58,7.75,10.0,10.0,10.0,0.0,0,0,0,2015],[\"Arabica\",\"North America\",\"Guatemala\",\"Caturra\",\"Green\",\"Washed \\u002f Wet\",7.5,7.67,7.58,7.67,7.67,7.5,10.0,10.0,10.0,0.1,0,0,1,2015],[\"Arabica\",\"South America\",\"Colombia\",\"Caturra\",\"Green\",\"Washed \\u002f Wet\",7.83,7.5,7.67,7.33,7.67,7.67,10.0,10.0,10.0,0.11,0,0,1,2014],[\"Arabica\",\"North America\",\"Mexico\",\"Bourbon\",\"Green\",\"Washed \\u002f Wet\",7.58,7.75,7.5,7.5,7.58,7.58,10.0,10.0,10.0,0.12,0,0,6,2014],[\"Arabica\",\"North America\",\"United States\",\"Hawaiian Kona\",\"Bluish-Green\",\"Natural \\u002f Dry\",7.58,7.75,7.83,8.0,8.08,7.67,9.33,10.0,9.33,0.11,0,0,4,2014],[\"Arabica\",\"North America\",\"Mexico\",\"Mundo Novo\",\"Green\",\"Washed \\u002f Wet\",7.75,7.58,7.58,7.58,7.5,7.58,10.0,10.0,10.0,0.13,0,0,7,2013],[\"Arabica\",\"North America\",\"Mexico\",\"Caturra\",\"Blue-Green\",\"Washed \\u002f Wet\",7.75,7.75,7.42,7.92,7.33,7.5,10.0,10.0,10.0,0.12,0,0,0,2013],[\"Arabica\",\"North America\",\"Guatemala\",\"Bourbon\",\"Green\",\"Washed \\u002f Wet\",7.83,7.58,7.08,7.83,7.42,8.08,10.0,10.0,10.0,0.11,0,0,9,2013],[\"Arabica\",\"South America\",\"Brazil\",\"Yellow Bourbon\",\"Blue-Green\",\"Semi-washed \\u002f Semi-pulped\",7.75,7.67,7.5,7.58,7.58,7.58,10.0,10.0,10.0,0.11,0,0,1,2013],[\"Arabica\",\"South America\",\"Colombia\",\"Caturra\",\"Green\",\"Washed \\u002f Wet\",7.67,7.58,7.58,7.42,7.83,7.58,10.0,10.0,10.0,0.12,0,0,1,2013],[\"Arabica\",\"South America\",\"Colombia\",\"Caturra\",\"Green\",\"Washed \\u002f Wet\",7.67,7.67,7.5,7.5,7.58,7.67,10.0,10.0,10.0,0.11,0,0,0,2013],[\"Arabica\",\"South America\",\"Colombia\",null,null,null,7.92,7.75,7.25,7.42,7.83,7.58,10.0,10.0,10.0,0.08,0,0,0,2012],[\"Arabica\",\"South America\",\"Colombia\",null,null,null,8.0,7.67,7.67,7.25,7.67,7.5,10.0,10.0,10.0,0.13,0,0,1,2012],[\"Arabica\",\"South America\",\"Colombia\",null,null,null,7.92,7.75,7.5,7.42,7.42,7.67,10.0,10.0,10.0,0.04,0,0,1,2012],[\"Arabica\",\"South America\",\"Brazil\",\"Bourbon\",\"Green\",\"Natural \\u002f Dry\",7.67,7.42,7.5,7.58,7.67,7.58,10.0,10.0,10.0,0.11,0,0,4,2018],[\"Arabica\",\"North America\",\"Guatemala\",\"Bourbon\",\"Green\",\"Washed \\u002f Wet\",7.58,7.58,7.33,7.67,7.75,7.58,10.0,10.0,10.0,0.1,0,0,1,2018],[\"Arabica\",\"Africa\",\"Tanzania\",\"Bourbon\",\"Green\",\"Washed \\u002f Wet\",7.67,7.58,7.42,7.67,7.67,7.58,10.0,10.0,10.0,0.12,0,0,3,2018],[\"Arabica\",\"South America\",\"Peru\",null,\"Green\",null,7.92,7.5,7.5,7.58,7.67,7.5,10.0,10.0,10.0,0.11,1,0,0,2018],[\"Arabica\",\"Asia\",\"Vietnam\",\"Catimor\",null,\"Natural \\u002f Dry\",7.58,7.42,7.08,7.33,7.58,8.58,10.0,10.0,10.0,0.07,0,0,0,2018],[\"Arabica\",\"North America\",\"Guatemala\",\"Caturra\",\"Green\",\"Washed \\u002f Wet\",7.67,7.75,7.42,7.75,7.58,7.5,10.0,10.0,10.0,0.11,2,2,3,2017],[\"Arabica\",\"North America\",\"Honduras\",\"Catuai\",\"Blue-Green\",\"Washed \\u002f Wet\",7.67,7.67,7.5,7.67,7.5,7.67,10.0,10.0,10.0,0.11,1,0,1,2017],[\"Arabica\",\"Asia\",\"China\",\"Catimor\",\"Green\",\"Washed \\u002f Wet\",7.5,7.67,7.33,7.67,7.67,7.67,10.0,10.0,10.0,0.11,0,0,0,2017],[\"Arabica\",\"Asia\",\"China\",\"Catimor\",\"Green\",\"Washed \\u002f Wet\",7.67,7.67,7.5,7.67,7.42,7.58,10.0,10.0,10.0,0.1,0,0,3,2017],[\"Arabica\",\"North America\",\"El Salvador\",\"Bourbon\",\"Green\",\"Washed \\u002f Wet\",7.5,7.5,7.33,7.67,8.0,7.67,10.0,10.0,10.0,0.0,0,0,0,2017],[\"Arabica\",\"North America\",\"Guatemala\",\"Bourbon\",\"Green\",\"Washed \\u002f Wet\",7.5,7.75,7.5,7.83,7.58,7.5,10.0,10.0,10.0,0.11,0,0,1,2016],[\"Arabica\",\"North America\",\"Guatemala\",\"Bourbon\",\"Green\",\"Washed \\u002f Wet\",7.92,7.67,7.42,7.75,7.5,7.5,10.0,10.0,10.0,0.12,0,0,3,2016],[\"Arabica\",\"Africa\",\"Kenya\",\"SL28\",\"Bluish-Green\",\"Washed \\u002f Wet\",7.83,7.75,7.67,7.75,7.83,8.5,9.33,9.33,9.33,0.1,0,0,1,2016],[\"Arabica\",\"Asia\",\"Thailand\",null,\"Bluish-Green\",\"Washed \\u002f Wet\",7.67,7.58,7.58,7.75,7.42,7.67,10.0,10.0,10.0,0.12,0,0,0,2016],[\"Arabica\",\"Africa\",\"Tanzania\",\"Other\",\"Bluish-Green\",\"Washed \\u002f Wet\",7.58,7.67,7.67,7.58,7.42,7.58,10.0,10.0,10.0,0.13,0,0,6,2015],[\"Arabica\",\"South America\",\"Colombia\",\"Caturra\",null,\"Washed \\u002f Wet\",7.58,7.5,7.5,7.67,7.5,7.67,10.0,10.0,10.0,0.0,0,0,4,2015],[\"Arabica\",\"Africa\",\"Uganda\",\"SL14\",\"Bluish-Green\",\"Washed \\u002f Wet\",8.0,7.67,7.5,7.42,7.33,7.58,10.0,10.0,10.0,0.1,0,0,0,2015],[\"Arabica\",\"South America\",\"Colombia\",null,\"Green\",\"Washed \\u002f Wet\",7.58,7.75,7.5,7.58,7.58,7.58,10.0,10.0,10.0,0.11,0,10,3,2015],[\"Arabica\",\"North America\",\"Honduras\",\"Catuai\",\"Green\",\"Natural \\u002f Dry\",7.5,7.5,7.5,7.67,7.67,7.67,10.0,10.0,10.0,0.1,0,0,5,2015],[\"Arabica\",\"North America\",\"Honduras\",\"Caturra\",\"Green\",\"Natural \\u002f Dry\",7.67,7.67,7.5,7.67,7.5,7.67,10.0,10.0,10.0,0.11,0,0,3,2015],[\"Arabica\",\"North America\",\"Guatemala\",\"Catuai\",\"Green\",\"Washed \\u002f Wet\",7.33,7.83,7.17,8.17,7.33,7.67,10.0,10.0,10.0,0.09,0,0,1,2015],[\"Arabica\",\"North America\",\"United States\",\"Hawaiian Kona\",\"Bluish-Green\",\"Natural \\u002f Dry\",7.5,7.5,7.58,7.42,7.92,7.67,10.0,10.0,10.0,0.11,0,0,0,2015],[\"Arabica\",\"Africa\",\"Tanzania\",\"Bourbon\",\"Green\",\"Washed \\u002f Wet\",7.58,7.5,7.58,7.75,7.58,7.58,10.0,10.0,10.0,0.12,0,0,1,2015],[\"Arabica\",\"North America\",\"Guatemala\",\"Bourbon\",\"Green\",\"Washed \\u002f Wet\",7.67,7.83,7.33,7.67,7.5,7.67,10.0,10.0,10.0,0.11,0,0,2,2014],[\"Arabica\",\"North America\",\"Mexico\",\"Typica\",\"Green\",\"Washed \\u002f Wet\",7.75,7.58,7.58,7.58,7.5,7.42,10.0,10.0,10.0,0.11,0,0,2,2014],[\"Arabica\",\"North America\",\"Mexico\",\"Typica\",null,\"Washed \\u002f Wet\",7.75,7.67,7.58,7.5,7.42,7.58,10.0,10.0,10.0,0.12,0,3,8,2013],[\"Arabica\",\"North America\",\"Mexico\",\"Pacamara\",null,\"Washed \\u002f Wet\",7.58,7.75,7.42,7.67,7.5,7.58,10.0,10.0,10.0,0.14,0,0,10,2013],[\"Arabica\",\"South America\",\"Colombia\",\"Caturra\",\"Green\",\"Washed \\u002f Wet\",7.67,7.5,7.5,7.5,7.58,8.17,10.0,10.0,10.0,0.11,0,1,2,2013],[\"Arabica\",\"North America\",\"Mexico\",\"Typica\",\"Green\",\"Washed \\u002f Wet\",7.75,7.5,7.42,7.75,7.58,7.58,10.0,10.0,10.0,0.13,0,0,5,2013],[\"Arabica\",\"South America\",\"Colombia\",\"Caturra\",\"Blue-Green\",\"Washed \\u002f Wet\",7.58,7.67,7.5,7.58,7.67,7.67,10.0,10.0,10.0,0.11,0,0,0,2013],[\"Arabica\",\"North America\",\"Mexico\",\"Typica\",null,\"Washed \\u002f Wet\",7.5,7.75,7.58,7.58,7.67,7.5,10.0,10.0,10.0,0.11,0,0,5,2013],[\"Arabica\",\"South America\",\"Brazil\",\"Mundo Novo\",\"Green\",\"Natural \\u002f Dry\",7.75,7.67,7.58,7.5,7.58,7.58,10.0,10.0,10.0,0.12,0,0,1,2013],[\"Arabica\",\"South America\",\"Brazil\",\"Mundo Novo\",\"Green\",\"Natural \\u002f Dry\",7.92,7.58,7.5,7.58,7.42,7.5,10.0,10.0,10.0,0.11,0,0,4,2013],[\"Arabica\",\"North America\",\"Guatemala\",\"Bourbon\",\"Green\",\"Washed \\u002f Wet\",7.75,7.5,7.67,7.5,7.92,8.0,10.0,10.0,9.33,0.0,0,0,10,2013],[\"Arabica\",\"South America\",\"Brazil\",\"Mundo Novo\",\"Blue-Green\",\"Semi-washed \\u002f Semi-pulped\",7.75,7.5,7.58,7.5,7.75,7.5,10.0,10.0,10.0,0.12,0,0,3,2012],[\"Arabica\",\"South America\",\"Brazil\",null,null,null,7.58,7.75,7.67,7.5,7.67,7.58,10.0,10.0,10.0,0.02,0,0,2,2012],[\"Arabica\",\"North America\",\"El Salvador\",null,null,null,7.42,7.83,8.17,8.08,7.17,7.58,10.0,9.33,10.0,0.14,0,0,3,2012],[\"Arabica\",\"Africa\",\"Ethiopia\",null,null,null,7.75,8.0,7.67,8.08,7.83,7.92,9.33,9.33,9.33,0.01,0,0,0,2011],[\"Arabica\",\"South America\",\"Colombia\",\"Caturra\",\"Green\",\"Washed \\u002f Wet\",7.58,7.67,7.33,7.67,7.75,7.58,10.0,10.0,10.0,0.0,1,0,4,2018],[\"Arabica\",\"South America\",\"Colombia\",\"Caturra\",\"Green\",\"Washed \\u002f Wet\",7.75,7.5,7.5,7.42,8.0,7.75,10.0,10.0,10.0,0.0,2,1,5,2018],[\"Arabica\",\"South America\",\"Brazil\",\"Yellow Bourbon\",\"Bluish-Green\",\"Pulped natural \\u002f honey\",7.58,7.58,7.58,7.5,7.67,7.58,10.0,10.0,10.0,0.11,2,0,2,2017],[\"Arabica\",\"South America\",\"Brazil\",\"Yellow Bourbon\",\"Green\",\"Natural \\u002f Dry\",7.33,7.67,7.67,7.33,7.75,7.42,10.0,10.0,10.0,0.0,0,0,3,2016],[\"Arabica\",\"Asia\",\"Taiwan\",\"Typica\",\"Green\",\"Natural \\u002f Dry\",7.83,7.92,7.5,7.83,7.67,7.25,9.33,10.0,10.0,0.0,0,0,0,2016],[\"Arabica\",\"South America\",\"Brazil\",\"Mundo Novo\",\"Green\",\"Natural \\u002f Dry\",7.42,7.67,7.58,7.5,7.75,7.67,10.0,10.0,10.0,0.11,0,0,13,2016],[\"Arabica\",\"South America\",\"Brazil\",\"Bourbon\",\"Green\",\"Washed \\u002f Wet\",7.58,7.83,7.67,7.42,7.42,7.5,10.0,10.0,10.0,0.0,0,0,1,2015],[\"Arabica\",\"North America\",\"Costa Rica\",\"Catuai\",\"Green\",\"Washed \\u002f Wet\",7.83,7.33,7.5,7.67,7.58,7.67,10.0,10.0,10.0,0.1,0,0,3,2015],[\"Arabica\",\"North America\",\"United States\",\"Hawaiian Kona\",\"Bluish-Green\",\"Natural \\u002f Dry\",7.33,7.75,7.58,7.33,7.83,7.67,10.0,10.0,10.0,0.12,0,0,8,2015],[\"Arabica\",\"Asia\",\"Taiwan\",\"Typica\",null,\"Other\",7.75,7.75,7.5,7.5,7.5,7.5,10.0,10.0,10.0,0.11,0,0,0,2014],[\"Arabica\",\"North America\",\"United States\",\"Hawaiian Kona\",\"Bluish-Green\",\"Natural \\u002f Dry\",7.83,7.83,7.33,7.17,7.75,7.67,10.0,10.0,10.0,0.1,0,0,0,2014],[\"Arabica\",\"North America\",\"Mexico\",\"Other\",null,\"Washed \\u002f Wet\",7.75,7.67,7.42,7.75,7.5,7.5,10.0,10.0,10.0,0.1,0,0,1,2013],[\"Arabica\",\"North America\",\"United States\",\"Hawaiian Kona\",null,\"Natural \\u002f Dry\",7.67,7.58,7.5,7.67,7.92,8.0,9.33,9.33,10.0,0.0,0,1,4,2013],[\"Arabica\",\"North America\",\"United States\",\"Hawaiian Kona\",\"Green\",\"Washed \\u002f Wet\",7.33,7.58,7.58,7.92,7.67,7.58,10.0,10.0,10.0,0.12,0,0,0,2013],[\"Arabica\",\"South America\",\"Colombia\",\"Caturra\",null,null,7.33,7.33,7.33,7.58,7.25,8.08,10.0,10.0,10.0,0.01,0,0,0,2012],[\"Arabica\",\"South America\",\"Colombia\",null,null,null,7.83,7.75,7.33,7.25,7.42,7.92,10.0,10.0,10.0,0.08,0,1,3,2012],[\"Arabica\",\"Asia\",\"Indonesia\",null,null,null,7.67,7.58,7.5,7.58,7.67,7.58,10.0,10.0,10.0,0.0,0,0,0,2011],[\"Arabica\",\"North America\",\"Guatemala\",null,null,null,7.92,7.67,7.67,7.25,7.83,7.67,9.33,10.0,10.0,0.02,0,0,1,2011],[\"Arabica\",\"South America\",\"Brazil\",\"Bourbon\",\"Green\",\"Natural \\u002f Dry\",7.58,7.5,7.5,7.75,7.67,7.5,10.0,10.0,10.0,0.0,0,0,4,2018],[\"Arabica\",\"South America\",\"Brazil\",\"Bourbon\",\"Green\",\"Natural \\u002f Dry\",7.5,7.58,7.58,7.67,7.58,7.5,10.0,10.0,10.0,0.11,3,0,5,2017],[\"Arabica\",\"South America\",\"Brazil\",\"Bourbon\",\"Bluish-Green\",\"Natural \\u002f Dry\",7.5,7.67,7.58,7.67,7.58,7.42,10.0,10.0,10.0,0.11,2,0,3,2017],[\"Arabica\",\"Africa\",\"Uganda\",\"Bourbon\",\"Green\",\"Washed \\u002f Wet\",7.67,7.58,7.42,7.42,7.83,7.5,10.0,10.0,10.0,0.12,0,0,6,2017],[\"Arabica\",\"Africa\",\"Uganda\",\"Bourbon\",\"Green\",\"Natural \\u002f Dry\",7.67,7.67,7.5,7.58,7.42,7.5,10.0,10.0,10.0,0.12,5,0,8,2017],[\"Arabica\",\"South America\",\"Colombia\",null,\"Green\",null,7.67,7.67,7.33,7.67,7.5,7.58,10.0,10.0,10.0,0.11,0,0,4,2017],[\"Arabica\",\"Asia\",\"Vietnam\",\"Caturra\",\"Green\",\"Other\",7.75,7.67,7.58,7.58,7.42,7.67,9.33,10.0,10.0,0.0,0,0,0,2016],[\"Arabica\",\"North America\",\"Guatemala\",\"Catuai\",\"Green\",\"Washed \\u002f Wet\",7.67,7.75,7.33,7.92,7.42,7.5,10.0,10.0,10.0,0.11,0,0,3,2016],[\"Arabica\",\"North America\",\"Guatemala\",\"Catuai\",\"Green\",\"Washed \\u002f Wet\",7.75,7.67,7.33,7.75,7.5,7.42,10.0,10.0,10.0,0.11,0,0,2,2016],[\"Arabica\",\"North America\",\"Guatemala\",\"Bourbon\",\"Green\",\"Washed \\u002f Wet\",7.83,7.67,7.25,7.67,7.75,7.5,10.0,10.0,10.0,0.11,0,0,2,2016],[\"Arabica\",\"South America\",\"Brazil\",\"Catuai\",\"Green\",\"Natural \\u002f Dry\",7.67,7.67,7.67,7.5,7.42,7.5,10.0,10.0,10.0,0.0,0,0,0,2016],[\"Arabica\",\"Asia\",\"Taiwan\",\"Typica\",\"Green\",\"Washed \\u002f Wet\",7.92,7.92,7.83,7.58,7.33,7.25,10.0,10.0,10.0,0.08,0,0,0,2015],[\"Arabica\",\"Africa\",\"Uganda\",\"SL14\",\"Green\",\"Washed \\u002f Wet\",7.83,7.58,7.5,7.5,7.58,7.5,10.0,10.0,10.0,0.12,0,0,0,2015],[\"Arabica\",\"North America\",\"United States\",\"Other\",\"Bluish-Green\",\"Washed \\u002f Wet\",7.67,7.5,7.67,7.83,7.75,7.83,10.0,10.0,9.33,0.0,0,0,0,2015],[\"Arabica\",\"North America\",\"Guatemala\",\"Bourbon\",\"Green\",\"Washed \\u002f Wet\",7.67,7.67,7.42,7.83,7.5,7.5,10.0,10.0,10.0,0.1,0,1,0,2015],[\"Arabica\",\"North America\",\"Costa Rica\",\"Catuai\",\"Green\",\"Washed \\u002f Wet\",7.67,7.58,7.5,7.58,7.5,7.5,10.0,10.0,10.0,0.11,0,0,3,2015],[\"Arabica\",\"South America\",\"Brazil\",\"Yellow Bourbon\",\"Bluish-Green\",\"Semi-washed \\u002f Semi-pulped\",7.75,7.58,7.42,7.67,7.42,7.67,10.0,10.0,10.0,0.12,0,0,4,2015],[\"Arabica\",\"South America\",\"Colombia\",\"Caturra\",\"Green\",\"Washed \\u002f Wet\",7.75,7.42,7.33,7.5,7.58,7.17,10.0,10.0,10.0,0.11,0,1,1,2014],[\"Arabica\",\"South America\",\"Colombia\",\"Caturra\",\"Green\",\"Washed \\u002f Wet\",7.83,7.5,7.58,7.33,7.5,7.67,10.0,10.0,10.0,0.0,0,0,0,2014],[\"Arabica\",\"South America\",\"Colombia\",\"Caturra\",\"Green\",\"Natural \\u002f Dry\",7.33,7.67,7.75,7.42,7.75,7.58,10.0,10.0,10.0,0.11,0,0,1,2014],[\"Arabica\",\"South America\",\"Colombia\",\"Caturra\",\"Green\",\"Natural \\u002f Dry\",7.58,7.75,7.42,7.67,7.58,7.42,10.0,10.0,10.0,0.0,0,0,2,2014],[\"Arabica\",\"South America\",\"Colombia\",\"Caturra\",\"Green\",\"Washed \\u002f Wet\",7.5,7.5,7.42,7.58,7.75,7.58,10.0,10.0,10.0,0.11,0,1,2,2013],[\"Arabica\",\"North America\",\"Mexico\",\"Typica\",\"Green\",\"Washed \\u002f Wet\",7.67,7.58,7.42,7.5,7.67,7.58,10.0,10.0,10.0,0.11,0,0,20,2013],[\"Arabica\",\"North America\",\"Mexico\",\"Typica\",\"Green\",\"Semi-washed \\u002f Semi-pulped\",7.67,7.83,7.5,7.58,7.58,7.67,9.33,10.0,10.0,0.11,0,0,7,2013],[\"Arabica\",\"North America\",\"Mexico\",\"Bourbon\",\"Green\",\"Washed \\u002f Wet\",7.5,7.67,7.5,7.5,7.58,7.58,10.0,10.0,10.0,0.11,0,5,8,2013],[\"Arabica\",\"South America\",\"Colombia\",\"Arusha\",null,\"Natural \\u002f Dry\",7.67,7.58,7.5,7.5,7.75,7.5,10.0,10.0,10.0,0.0,0,1,4,2013],[\"Arabica\",\"South America\",\"Colombia\",\"Caturra\",\"Green\",\"Washed \\u002f Wet\",7.75,7.58,7.5,7.67,7.83,7.75,9.33,10.0,10.0,0.0,0,0,4,2013],[\"Arabica\",\"South America\",\"Colombia\",\"Caturra\",\"Green\",\"Washed \\u002f Wet\",7.67,7.58,7.58,7.58,7.67,7.42,10.0,10.0,10.0,0.11,0,0,0,2013],[\"Arabica\",\"North America\",\"Guatemala\",\"Bourbon\",\"Green\",\"Washed \\u002f Wet\",7.5,7.67,7.5,7.67,7.5,7.83,10.0,10.0,10.0,0.1,0,0,2,2013],[\"Arabica\",\"South America\",\"Colombia\",\"Caturra\",\"Bluish-Green\",\"Washed \\u002f Wet\",7.67,7.67,7.58,7.5,7.67,7.42,10.0,10.0,10.0,0.12,0,0,0,2012],[\"Arabica\",\"Asia\",\"Thailand\",null,null,null,7.33,7.67,7.58,7.5,7.75,7.67,10.0,10.0,10.0,0.28,0,0,0,2012],[\"Arabica\",\"South America\",\"Colombia\",null,null,null,7.33,7.67,7.58,7.33,7.58,7.92,10.0,10.0,10.0,0.08,0,0,1,2012],[\"Arabica\",\"North America\",\"United States\",null,null,null,7.83,7.83,7.67,7.83,7.92,7.83,9.33,9.33,9.33,0.0,0,0,0,2012],[\"Arabica\",\"North America\",\"United States\",null,null,null,7.5,7.58,7.42,7.58,7.58,7.67,10.0,10.0,10.0,0.0,0,0,1,2012],[\"Arabica\",\"South America\",\"Colombia\",null,null,null,7.5,7.58,7.67,7.67,7.58,7.58,10.0,10.0,10.0,0.06,0,0,2,2012],[\"Arabica\",\"North America\",\"Nicaragua\",\"Caturra\",null,null,7.58,7.83,7.75,7.92,7.92,8.08,9.33,9.33,9.33,0.07,0,0,0,2011],[\"Arabica\",\"Asia\",\"Thailand\",null,null,null,7.5,7.25,7.42,7.75,8.17,7.5,10.0,10.0,10.0,0.0,0,0,0,2011],[\"Arabica\",\"South America\",\"Brazil\",\"Bourbon\",\"Green\",\"Natural \\u002f Dry\",7.67,7.58,7.5,7.58,7.58,7.5,10.0,10.0,10.0,0.0,0,0,0,2018],[\"Arabica\",\"North America\",\"El Salvador\",\"Bourbon\",\"Green\",\"Washed \\u002f Wet\",7.5,7.5,7.75,7.58,7.92,7.83,10.0,10.0,9.33,0.0,0,0,1,2018],[\"Arabica\",\"South America\",\"Colombia\",\"Caturra\",\"Green\",\"Washed \\u002f Wet\",7.58,7.67,7.5,7.33,7.67,7.58,10.0,10.0,10.0,0.11,0,0,1,2018],[\"Arabica\",\"Asia\",\"Taiwan\",\"Caturra\",\"Green\",\"Natural \\u002f Dry\",7.17,7.83,7.25,7.67,7.67,7.58,10.0,10.0,10.0,0.09,0,31,0,2017],[\"Arabica\",\"Africa\",\"Ethiopia\",\"Ethiopian Heirlooms\",\"Bluish-Green\",\"Washed \\u002f Wet\",7.58,7.58,7.5,7.5,7.58,7.58,10.0,10.0,10.0,0.0,0,1,20,2017],[\"Arabica\",\"Asia\",\"Taiwan\",\"Typica\",\"Green\",\"Natural \\u002f Dry\",7.5,7.58,7.67,7.33,7.5,7.75,10.0,10.0,10.0,0.0,0,0,9,2016],[\"Arabica\",\"Asia\",\"Philippines\",\"Other\",\"Blue-Green\",\"Washed \\u002f Wet\",7.58,7.58,7.67,7.58,7.5,7.5,10.0,10.0,10.0,0.11,0,0,1,2016],[\"Arabica\",\"Asia\",\"Philippines\",\"Other\",\"Bluish-Green\",\"Washed \\u002f Wet\",8.08,7.5,7.67,7.42,7.33,7.5,10.0,10.0,10.0,0.0,0,0,0,2016],[\"Arabica\",\"North America\",\"Mexico\",\"Typica\",\"Blue-Green\",\"Natural \\u002f Dry\",7.83,7.67,7.25,7.58,7.5,7.5,10.0,10.0,10.0,0.13,0,0,3,2016],[\"Arabica\",\"North America\",\"Mexico\",\"Bourbon\",\"Bluish-Green\",\"Washed \\u002f Wet\",7.75,7.67,7.42,7.42,7.75,7.5,10.0,10.0,10.0,0.12,0,2,8,2016],[\"Arabica\",\"South America\",\"Brazil\",\"Moka Peaberry\",\"Green\",\"Semi-washed \\u002f Semi-pulped\",7.08,7.5,7.5,7.83,7.75,7.67,10.0,10.0,10.0,0.11,0,0,16,2015],[\"Arabica\",\"Africa\",\"Uganda\",\"SL14\",\"Green\",\"Washed \\u002f Wet\",8.0,7.5,7.5,7.58,7.33,7.42,10.0,10.0,10.0,0.12,0,0,0,2015],[\"Arabica\",\"Africa\",\"Uganda\",\"SL14\",\"Green\",\"Washed \\u002f Wet\",7.75,7.58,7.58,7.5,7.5,7.5,10.0,10.0,10.0,0.12,0,0,4,2015],[\"Arabica\",\"North America\",\"Guatemala\",\"Bourbon\",\"Green\",\"Washed \\u002f Wet\",7.75,7.5,7.42,7.58,7.67,7.5,10.0,10.0,10.0,0.1,0,0,1,2015],[\"Arabica\",\"North America\",\"Guatemala\",\"Caturra\",\"Green\",\"Natural \\u002f Dry\",7.67,7.83,7.42,7.5,7.33,7.5,10.0,10.0,10.0,0.1,0,0,2,2015],[\"Arabica\",\"North America\",\"Guatemala\",null,\"Green\",\"Washed \\u002f Wet\",7.58,7.58,7.25,7.58,7.58,7.58,10.0,10.0,10.0,0.1,0,0,4,2014],[\"Arabica\",\"South America\",\"Colombia\",\"Caturra\",\"Green\",\"Washed \\u002f Wet\",7.58,7.5,7.75,7.33,7.58,7.58,10.0,10.0,10.0,0.11,0,0,2,2014],[\"Arabica\",\"South America\",\"Colombia\",\"Caturra\",\"Bluish-Green\",\"Natural \\u002f Dry\",7.75,7.5,7.25,7.5,7.75,7.5,10.0,10.0,10.0,0.0,0,0,0,2014],[\"Arabica\",\"North America\",\"Guatemala\",\"Bourbon\",\"Green\",\"Washed \\u002f Wet\",7.83,7.75,7.25,7.92,7.5,7.17,10.0,10.0,10.0,0.11,0,0,2,2014],[\"Arabica\",\"South America\",\"Colombia\",\"Other\",\"Green\",\"Washed \\u002f Wet\",7.83,7.67,7.42,7.42,7.5,7.58,10.0,10.0,10.0,0.11,0,3,5,2014],[\"Arabica\",\"North America\",\"Mexico\",\"Typica\",\"Green\",\"Natural \\u002f Dry\",7.58,7.58,7.33,7.25,7.58,7.75,10.0,10.0,10.0,0.1,0,0,4,2013],[\"Arabica\",\"Asia\",\"Vietnam\",\"Other\",null,\"Natural \\u002f Dry\",7.67,7.33,7.17,7.58,8.08,7.42,10.0,10.0,10.0,0.0,0,0,17,2013],[\"Arabica\",\"North America\",\"Mexico\",\"Typica\",\"Green\",\"Washed \\u002f Wet\",8.0,7.92,7.67,7.17,7.67,7.42,9.33,10.0,10.0,0.14,0,1,4,2013],[\"Arabica\",\"North America\",\"United States\",\"Hawaiian Kona\",\"Green\",\"Washed \\u002f Wet\",7.5,7.5,7.5,7.42,7.67,7.83,10.0,10.0,10.0,0.1,0,0,0,2013],[\"Arabica\",\"South America\",\"Colombia\",null,null,null,7.5,7.75,7.33,7.75,7.08,7.83,10.0,10.0,10.0,0.15,0,0,0,2012],[\"Arabica\",\"Asia\",\"Thailand\",null,null,null,7.42,7.58,7.5,7.17,7.5,8.0,10.0,10.0,10.0,0.0,0,0,0,2011],[\"Arabica\",\"Africa\",\"Kenya\",\"SL28\",\"Green\",\"Washed \\u002f Wet\",7.75,7.58,7.42,7.58,7.5,7.5,10.0,10.0,10.0,0.1,0,0,3,2018],[\"Arabica\",\"North America\",\"Guatemala\",\"Bourbon\",\"Green\",\"Washed \\u002f Wet\",7.5,7.58,7.33,7.67,7.58,7.58,10.0,10.0,10.0,0.11,1,1,2,2018],[\"Arabica\",\"South America\",\"Brazil\",\"Yellow Bourbon\",\"Bluish-Green\",\"Pulped natural \\u002f honey\",7.67,7.58,7.58,7.5,7.5,7.42,10.0,10.0,10.0,0.11,2,0,2,2018],[\"Arabica\",\"North America\",\"El Salvador\",\"Pacas\",\"Green\",\"Washed \\u002f Wet\",7.33,7.67,7.67,7.83,7.33,7.67,10.0,10.0,10.0,0.0,0,0,4,2017],[\"Arabica\",\"Africa\",\"Rwanda\",\"Bourbon\",\"Bluish-Green\",\"Washed \\u002f Wet\",7.83,7.92,7.75,7.83,7.75,7.75,9.33,9.33,9.33,0.11,0,0,0,2017],[\"Arabica\",\"Asia\",\"Vietnam\",\"Other\",\"Green\",\"Other\",7.25,7.58,7.5,7.42,7.75,7.42,10.0,10.0,10.0,0.11,0,11,0,2017],[\"Arabica\",\"North America\",\"Guatemala\",\"Bourbon\",\"Green\",\"Washed \\u002f Wet\",7.58,7.58,7.33,7.67,7.67,7.5,10.0,10.0,10.0,0.11,0,0,2,2016],[\"Arabica\",\"South America\",\"Brazil\",\"Catuai\",\"Green\",\"Natural \\u002f Dry\",7.58,7.83,7.33,7.67,7.42,7.33,10.0,10.0,10.0,0.12,0,2,6,2016],[\"Arabica\",\"South America\",\"Colombia\",\"Other\",null,\"Washed \\u002f Wet\",7.83,7.67,7.5,7.58,7.5,7.67,10.0,10.0,10.0,0.0,0,0,1,2016],[\"Arabica\",\"North America\",\"United States\",\"Other\",null,\"Other\",7.42,7.58,7.25,7.5,7.75,7.75,10.0,10.0,10.0,0.0,0,0,9,2016],[\"Arabica\",\"North America\",\"Guatemala\",\"Bourbon\",\"Green\",\"Washed \\u002f Wet\",7.67,7.67,7.75,7.67,7.42,7.17,10.0,10.0,10.0,0.1,0,0,4,2015],[\"Arabica\",\"South America\",\"Colombia\",\"Typica\",\"Green\",\"Natural \\u002f Dry\",7.5,7.42,7.58,7.5,7.58,7.58,10.0,10.0,10.0,0.0,0,4,4,2015],[\"Arabica\",\"South America\",\"Colombia\",\"Caturra\",\"Green\",\"Washed \\u002f Wet\",7.83,7.5,7.5,7.42,7.5,7.5,10.0,10.0,10.0,0.11,0,0,3,2014],[\"Arabica\",\"Africa\",\"Tanzania\",\"Arusha\",\"Green\",\"Washed \\u002f Wet\",7.67,7.5,7.33,7.25,7.58,7.75,10.0,10.0,10.0,0.11,0,0,5,2014],[\"Arabica\",\"North America\",\"Mexico\",\"Caturra\",\"Green\",\"Washed \\u002f Wet\",7.58,7.67,7.5,7.58,7.5,7.5,10.0,10.0,10.0,0.12,0,2,10,2013],[\"Arabica\",\"North America\",\"Mexico\",\"Bourbon\",\"Blue-Green\",\"Washed \\u002f Wet\",7.67,7.58,7.42,7.75,7.42,7.42,10.0,10.0,10.0,0.12,0,0,7,2013],[\"Arabica\",\"North America\",\"Guatemala\",\"Bourbon\",\"Green\",\"Washed \\u002f Wet\",7.67,7.67,7.33,7.5,7.33,7.92,10.0,10.0,10.0,0.11,0,0,10,2013],[\"Arabica\",\"North America\",\"Mexico\",\"Typica\",null,\"Washed \\u002f Wet\",7.58,7.58,7.5,7.42,7.67,7.58,10.0,10.0,10.0,0.11,0,0,2,2013],[\"Arabica\",\"North America\",\"El Salvador\",null,null,null,7.75,7.58,7.75,7.75,7.25,7.5,10.0,10.0,10.0,0.0,0,1,3,2012],[\"Arabica\",\"North America\",\"Guatemala\",\"Caturra\",\"Green\",\"Washed \\u002f Wet\",7.5,7.58,7.42,7.67,7.58,7.5,10.0,10.0,10.0,0.1,1,0,3,2019],[\"Arabica\",\"North America\",\"Guatemala\",\"Caturra\",\"Green\",\"Washed \\u002f Wet\",7.58,7.67,7.5,7.58,7.5,7.42,10.0,10.0,10.0,0.11,0,0,8,2018],[\"Arabica\",\"North America\",\"Guatemala\",\"Bourbon\",\"Green\",\"Washed \\u002f Wet\",7.5,7.67,7.17,7.67,7.67,7.58,10.0,10.0,10.0,0.11,0,0,4,2018],[\"Arabica\",\"North America\",\"Guatemala\",\"Bourbon\",\"Green\",\"Washed \\u002f Wet\",7.5,7.5,7.42,7.58,7.67,7.5,10.0,10.0,10.0,0.1,0,0,1,2018],[\"Arabica\",\"North America\",\"Guatemala\",\"Bourbon\",\"Green\",\"Washed \\u002f Wet\",7.42,7.58,7.42,7.67,7.5,7.5,10.0,10.0,10.0,0.1,0,0,1,2018],[\"Arabica\",\"Asia\",\"Indonesia\",\"Sulawesi\",\"Blue-Green\",\"Other\",7.5,7.58,7.42,7.58,7.58,7.5,10.0,10.0,10.0,0.12,0,0,15,2018],[\"Arabica\",\"North America\",\"Guatemala\",\"Bourbon\",\"Green\",\"Washed \\u002f Wet\",7.58,7.58,7.33,7.58,7.33,7.67,10.0,10.0,10.0,0.12,0,0,0,2018],[\"Arabica\",\"Asia\",\"Taiwan\",\"Yellow Bourbon\",\"Green\",\"Natural \\u002f Dry\",7.83,7.67,7.33,7.67,7.58,7.67,9.33,10.0,10.0,0.0,0,0,0,2018],[\"Arabica\",\"North America\",\"El Salvador\",\"Bourbon\",null,\"Washed \\u002f Wet\",7.67,7.67,7.17,7.33,7.58,7.67,10.0,10.0,10.0,0.0,0,0,4,2018],[\"Arabica\",\"North America\",\"Costa Rica\",\"Caturra\",\"Bluish-Green\",\"Washed \\u002f Wet\",7.58,7.5,7.42,7.67,7.42,7.5,10.0,10.0,10.0,0.09,0,0,1,2018],[\"Arabica\",\"North America\",\"Honduras\",\"Caturra\",\"Green\",\"Natural \\u002f Dry\",7.58,7.5,7.42,7.58,7.5,7.5,10.0,10.0,10.0,0.09,1,0,6,2018],[\"Arabica\",\"South America\",\"Brazil\",\"Yellow Bourbon\",\"Bluish-Green\",\"Pulped natural \\u002f honey\",7.5,7.5,7.58,7.5,7.58,7.58,10.0,10.0,10.0,0.11,2,0,1,2017],[\"Arabica\",\"Asia\",\"China\",\"Catimor\",\"Green\",\"Natural \\u002f Dry\",7.67,7.5,7.33,7.33,7.67,7.67,10.0,10.0,10.0,0.1,0,0,0,2017],[\"Arabica\",\"Asia\",\"China\",\"Catimor\",\"Green\",\"Washed \\u002f Wet\",7.5,7.67,7.42,7.67,7.5,7.5,10.0,10.0,10.0,0.11,0,0,2,2017],[\"Arabica\",\"South America\",\"Colombia\",\"Caturra\",\"Blue-Green\",\"Washed \\u002f Wet\",7.5,7.58,7.58,7.75,7.33,7.5,10.0,10.0,10.0,0.0,0,0,2,2015],[\"Arabica\",\"Africa\",\"Malawi\",\"Gesha\",\"Bluish-Green\",\"Washed \\u002f Wet\",7.75,7.58,7.42,7.5,7.33,7.5,10.0,10.0,10.0,0.12,0,0,0,2015],[\"Arabica\",\"North America\",\"Guatemala\",\"Pacas\",\"Green\",\"Washed \\u002f Wet\",7.75,7.42,7.25,7.75,7.5,7.67,10.0,10.0,10.0,0.13,0,0,2,2015],[\"Arabica\",\"South America\",\"Colombia\",\"Typica\",\"Green\",\"Washed \\u002f Wet\",7.67,7.42,7.42,7.58,7.33,7.67,10.0,10.0,10.0,0.12,0,0,0,2015],[\"Arabica\",\"North America\",\"United States\",\"Hawaiian Kona\",\"Blue-Green\",\"Natural \\u002f Dry\",7.67,7.58,7.42,7.83,7.33,7.5,10.0,10.0,10.0,0.1,0,6,0,2015],[\"Arabica\",\"North America\",\"United States\",\"Hawaiian Kona\",\"Green\",\"Natural \\u002f Dry\",7.58,7.83,7.75,7.75,7.42,8.0,9.33,9.33,10.0,0.1,0,0,0,2015],[\"Arabica\",\"South America\",\"Colombia\",\"Caturra\",\"Green\",\"Washed \\u002f Wet\",7.58,7.33,7.17,7.33,7.25,8.58,10.0,10.0,10.0,0.1,0,0,2,2015],[\"Arabica\",\"North America\",\"Mexico\",\"Typica\",\"Green\",\"Washed \\u002f Wet\",7.58,7.58,7.5,7.5,7.5,7.5,10.0,10.0,10.0,0.12,0,0,6,2014],[\"Arabica\",\"North America\",\"Mexico\",\"Typica\",null,\"Washed \\u002f Wet\",7.58,7.58,7.33,7.75,7.25,7.58,10.0,10.0,10.0,0.12,0,0,0,2013],[\"Arabica\",\"North America\",\"Mexico\",\"Typica\",null,\"Natural \\u002f Dry\",8.08,8.17,8.0,8.0,7.83,7.92,6.67,10.0,10.0,0.12,0,1,4,2013],[\"Arabica\",\"South America\",\"Colombia\",\"Caturra\",\"Blue-Green\",\"Washed \\u002f Wet\",7.5,7.58,7.42,7.67,7.5,7.58,10.0,10.0,10.0,0.0,0,0,0,2013],[\"Arabica\",\"South America\",\"Colombia\",\"Caturra\",\"Green\",\"Washed \\u002f Wet\",7.67,7.58,7.58,7.58,7.5,7.42,10.0,10.0,10.0,0.11,0,0,3,2013],[\"Arabica\",\"North America\",\"United States\",\"Hawaiian Kona\",\"Green\",\"Washed \\u002f Wet\",7.25,7.75,7.5,7.83,7.67,7.67,9.33,10.0,10.0,0.12,0,0,0,2013],[\"Arabica\",\"North America\",\"Panama\",\"Catuai\",\"Green\",\"Washed \\u002f Wet\",7.42,7.42,7.5,7.58,7.5,7.75,10.0,10.0,10.0,0.0,0,0,4,2013],[\"Arabica\",\"North America\",\"United States\",null,null,null,7.75,7.67,7.5,7.83,7.17,7.42,10.0,10.0,10.0,0.0,0,0,2,2011],[\"Arabica\",\"South America\",\"Brazil\",\"Bourbon\",\"Green\",\"Natural \\u002f Dry\",7.5,7.58,7.25,7.75,7.58,7.5,10.0,10.0,10.0,0.0,0,0,4,2018],[\"Arabica\",\"South America\",\"Brazil\",\"Bourbon\",\"Bluish-Green\",\"Natural \\u002f Dry\",7.5,7.58,7.5,7.67,7.5,7.42,10.0,10.0,10.0,0.11,2,0,3,2017],[\"Arabica\",\"Asia\",\"Laos\",\"Catimor\",\"Bluish-Green\",\"Washed \\u002f Wet\",7.67,7.67,7.42,7.42,7.42,7.5,10.0,10.0,10.0,0.13,0,0,0,2017],[\"Arabica\",\"North America\",\"El Salvador\",\"Pacas\",\"Green\",\"Washed \\u002f Wet\",7.67,7.67,7.67,7.67,7.5,7.67,10.0,10.0,9.33,0.0,0,0,7,2017],[\"Arabica\",\"North America\",\"Mexico\",null,\"Green\",null,7.5,7.67,7.42,7.75,7.42,7.17,10.0,10.0,10.0,0.11,2,0,3,2017],[\"Arabica\",\"South America\",\"Colombia\",null,\"Green\",\"Washed \\u002f Wet\",7.75,7.5,7.33,7.58,7.33,7.75,10.0,10.0,10.0,0.0,0,1,9,2016],[\"Arabica\",\"South America\",\"Brazil\",\"Yellow Bourbon\",\"Green\",\"Natural \\u002f Dry\",7.58,7.5,7.42,7.67,7.5,7.5,10.0,10.0,10.0,0.0,0,0,0,2016],[\"Arabica\",\"South America\",\"Brazil\",\"Catuai\",null,\"Natural \\u002f Dry\",7.33,7.5,7.58,7.58,7.67,7.5,10.0,10.0,10.0,0.12,0,0,9,2016],[\"Arabica\",\"Africa\",\"Tanzania\",\"Other\",\"Green\",\"Washed \\u002f Wet\",7.5,7.5,7.5,7.5,7.5,7.58,10.0,10.0,10.0,0.12,0,0,0,2015],[\"Arabica\",\"Africa\",\"Tanzania\",\"Bourbon\",\"Green\",\"Washed \\u002f Wet\",7.58,7.5,7.5,7.58,7.33,7.58,10.0,10.0,10.0,0.12,0,0,4,2015],[\"Arabica\",\"Asia\",\"Taiwan\",\"Typica\",\"Green\",\"Washed \\u002f Wet\",8.0,7.83,7.83,7.42,7.25,7.25,10.0,10.0,10.0,0.08,0,0,0,2015],[\"Arabica\",\"North America\",\"Mexico\",\"Typica\",\"Green\",\"Natural \\u002f Dry\",7.67,7.58,7.42,7.5,7.42,7.5,10.0,10.0,10.0,0.11,0,0,0,2015],[\"Arabica\",\"Africa\",\"Uganda\",\"SL14\",\"Green\",\"Washed \\u002f Wet\",7.67,7.5,7.33,7.67,7.5,7.5,10.0,10.0,10.0,0.12,0,0,0,2015],[\"Arabica\",\"Asia\",\"Taiwan\",\"Typica\",\"Green\",\"Washed \\u002f Wet\",7.67,7.5,7.5,7.5,7.5,7.5,10.0,10.0,10.0,0.11,0,0,0,2014],[\"Arabica\",\"Asia\",\"Thailand\",\"Caturra\",\"Bluish-Green\",\"Washed \\u002f Wet\",7.42,7.5,7.5,7.67,7.58,7.5,10.0,10.0,10.0,0.11,0,0,0,2014],[\"Arabica\",\"South America\",\"Colombia\",\"Caturra\",\"Bluish-Green\",\"Washed \\u002f Wet\",7.75,7.58,7.67,7.25,7.58,7.42,10.0,10.0,10.0,0.11,0,0,3,2014],[\"Arabica\",\"North America\",\"El Salvador\",\"Other\",null,\"Washed \\u002f Wet\",7.92,8.0,7.5,6.75,7.92,7.58,10.0,10.0,9.33,0.0,0,0,17,2013],[\"Arabica\",\"North America\",\"Guatemala\",\"Caturra\",\"Green\",\"Washed \\u002f Wet\",7.67,7.67,7.17,7.67,7.5,7.5,10.0,10.0,10.0,0.11,0,0,0,2013],[\"Arabica\",\"Asia\",\"Thailand\",\"Other\",\"Bluish-Green\",\"Washed \\u002f Wet\",7.83,7.33,7.83,7.33,7.58,7.83,10.0,10.0,9.33,0.12,0,0,0,2013],[\"Arabica\",\"North America\",\"Mexico\",\"Other\",null,\"Washed \\u002f Wet\",7.58,7.58,7.42,7.58,7.42,7.5,10.0,10.0,10.0,0.11,0,0,2,2013],[\"Arabica\",\"North America\",\"Mexico\",\"Typica\",null,\"Washed \\u002f Wet\",7.5,7.58,7.58,7.58,7.42,7.42,10.0,10.0,10.0,0.12,0,0,0,2013],[\"Arabica\",\"South America\",\"Colombia\",null,\"Green\",null,7.33,7.58,7.42,7.42,7.67,7.67,10.0,10.0,10.0,0.11,0,0,0,2012],[\"Arabica\",\"North America\",\"United States\",null,null,null,7.83,7.67,7.5,7.67,7.5,7.58,10.0,10.0,9.33,0.03,0,2,0,2012],[\"Arabica\",\"North America\",\"Mexico\",\"Blue Mountain\",null,null,7.75,7.58,7.25,7.75,7.67,7.58,10.0,10.0,10.0,0.0,0,0,1,2012],[\"Arabica\",\"South America\",\"Colombia\",null,null,null,8.08,7.67,7.67,7.33,7.33,7.17,10.0,10.0,10.0,0.08,0,0,3,2012],[\"Arabica\",\"South America\",\"Colombia\",null,null,null,7.5,7.42,7.33,7.33,7.67,7.83,10.0,10.0,10.0,0.21,0,0,2,2011],[\"Arabica\",\"North America\",\"Guatemala\",\"Bourbon\",\"Green\",\"Washed \\u002f Wet\",7.5,7.42,7.42,7.75,7.5,7.5,10.0,10.0,10.0,0.1,1,0,2,2018],[\"Arabica\",\"Asia\",\"Taiwan\",\"Typica\",\"Green\",\"Pulped natural \\u002f honey\",7.67,7.42,7.5,7.42,7.58,7.5,10.0,10.0,10.0,0.11,5,0,0,2018],[\"Arabica\",\"South America\",\"Brazil\",null,\"Green\",\"Pulped natural \\u002f honey\",7.5,7.58,7.42,7.5,7.75,7.33,10.0,10.0,10.0,0.11,0,0,7,2018],[\"Arabica\",\"Asia\",\"Taiwan\",null,\"Blue-Green\",null,7.25,7.25,7.0,7.08,7.0,7.0,10.0,10.0,10.0,0.11,0,0,0,2018],[\"Arabica\",\"South America\",\"Brazil\",null,\"Green\",null,7.42,7.42,7.5,7.33,7.25,7.67,10.0,10.0,10.0,0.0,9,1,2,2016],[\"Arabica\",\"Asia\",\"Indonesia\",\"Typica\",\"Blue-Green\",\"Semi-washed \\u002f Semi-pulped\",7.83,7.58,7.42,7.33,7.42,7.5,10.0,10.0,10.0,0.13,0,0,6,2016],[\"Arabica\",\"Asia\",\"Thailand\",null,\"Green\",\"Washed \\u002f Wet\",7.75,7.33,7.42,7.67,7.42,7.5,10.0,10.0,10.0,0.12,0,0,0,2016],[\"Arabica\",\"Asia\",\"Thailand\",\"Caturra\",\"Blue-Green\",\"Washed \\u002f Wet\",7.42,7.58,7.58,7.42,7.58,7.5,10.0,10.0,10.0,0.12,0,0,1,2016],[\"Arabica\",\"Africa\",\"Tanzania\",\"Other\",null,\"Washed \\u002f Wet\",7.75,7.42,7.33,7.5,7.58,7.5,10.0,10.0,10.0,0.12,0,0,1,2015],[\"Arabica\",\"Africa\",\"Uganda\",\"SL14\",\"Green\",\"Natural \\u002f Dry\",7.83,7.5,7.42,7.58,7.42,7.42,10.0,10.0,10.0,0.12,0,0,0,2015],[\"Arabica\",\"North America\",\"Costa Rica\",\"Catuai\",\"Green\",\"Washed \\u002f Wet\",7.67,7.42,7.5,7.67,7.0,7.75,10.0,10.0,10.0,0.11,0,0,3,2015],[\"Arabica\",\"North America\",\"Mexico\",null,\"Green\",\"Washed \\u002f Wet\",7.58,7.58,7.42,7.75,7.67,7.67,9.33,10.0,10.0,0.0,0,0,11,2015],[\"Arabica\",\"North America\",\"Guatemala\",null,\"Blue-Green\",\"Natural \\u002f Dry\",7.5,7.58,7.42,7.58,7.42,7.58,10.0,10.0,10.0,0.0,0,0,4,2014],[\"Arabica\",\"South America\",\"Colombia\",\"Caturra\",\"Blue-Green\",\"Washed \\u002f Wet\",7.75,7.25,7.33,7.42,7.5,7.83,10.0,10.0,10.0,0.11,0,0,3,2014],[\"Arabica\",\"South America\",\"Colombia\",\"Caturra\",null,\"Washed \\u002f Wet\",7.75,7.5,7.75,7.25,7.33,7.58,10.0,10.0,10.0,0.11,0,0,3,2013],[\"Arabica\",\"South America\",\"Colombia\",\"Caturra\",\"Green\",\"Washed \\u002f Wet\",7.58,7.5,7.42,7.58,7.67,7.42,10.0,10.0,10.0,0.11,0,0,0,2014],[\"Arabica\",\"North America\",\"Mexico\",\"Typica\",\"Green\",\"Washed \\u002f Wet\",7.5,7.58,7.5,7.5,7.42,7.5,10.0,10.0,10.0,0.1,0,0,6,2013],[\"Arabica\",\"North America\",\"Mexico\",\"Typica\",\"Green\",\"Washed \\u002f Wet\",7.67,7.58,7.58,7.75,7.67,6.83,10.0,10.0,10.0,0.12,0,0,0,2013],[\"Arabica\",\"South America\",\"Colombia\",\"Caturra\",\"Green\",\"Washed \\u002f Wet\",7.33,7.42,7.58,7.42,7.67,7.5,10.0,10.0,10.0,0.11,0,2,2,2013],[\"Arabica\",\"South America\",\"Brazil\",\"Mundo Novo\",null,null,7.58,7.5,7.33,7.75,7.5,7.5,10.0,10.0,10.0,0.0,0,0,4,2012],[\"Arabica\",\"South America\",\"Brazil\",\"Bourbon\",\"Green\",\"Natural \\u002f Dry\",7.5,7.5,7.5,7.5,7.58,7.5,10.0,10.0,10.0,0.11,0,0,4,2018],[\"Arabica\",\"Asia\",\"Indonesia\",\"Other\",\"Green\",\"Washed \\u002f Wet\",7.83,7.75,7.25,7.5,7.42,7.33,10.0,10.0,10.0,0.11,0,0,5,2018],[\"Arabica\",\"North America\",\"Honduras\",\"Caturra\",\"Green\",\"Washed \\u002f Wet\",7.58,7.58,7.33,7.5,7.5,7.5,10.0,10.0,10.0,0.1,0,0,4,2018],[\"Arabica\",\"North America\",\"Guatemala\",\"Bourbon\",\"Green\",\"Washed \\u002f Wet\",7.5,7.5,7.33,7.5,7.67,7.5,10.0,10.0,10.0,0.1,2,0,2,2017],[\"Arabica\",\"Asia\",\"Thailand\",null,\"Green\",\"Washed \\u002f Wet\",7.5,7.83,7.5,7.75,7.33,7.42,9.33,10.0,10.0,0.12,0,0,0,2016],[\"Arabica\",\"Asia\",\"Thailand\",\"Caturra\",null,\"Washed \\u002f Wet\",7.33,7.5,7.5,7.5,7.67,7.5,10.0,10.0,10.0,0.11,0,0,0,2016],[\"Arabica\",\"Africa\",\"Tanzania\",\"Other\",\"Green\",\"Washed \\u002f Wet\",7.67,7.42,7.33,7.58,7.5,7.5,10.0,10.0,10.0,0.12,0,0,1,2015],[\"Arabica\",\"Africa\",\"Tanzania\",\"Other\",\"Bluish-Green\",\"Washed \\u002f Wet\",7.75,7.0,7.42,7.58,7.58,7.58,10.0,10.0,10.0,0.12,0,0,3,2015],[\"Arabica\",\"North America\",\"Mexico\",\"Other\",\"Green\",\"Washed \\u002f Wet\",7.42,7.58,7.5,7.67,7.25,7.5,10.0,10.0,10.0,0.0,0,0,1,2015],[\"Arabica\",\"South America\",\"Brazil\",\"Yellow Bourbon\",\"Bluish-Green\",\"Semi-washed \\u002f Semi-pulped\",7.42,7.5,7.67,7.33,7.42,7.67,10.0,10.0,10.0,0.11,0,0,0,2015],[\"Arabica\",\"North America\",\"Guatemala\",\"Bourbon\",\"Green\",\"Washed \\u002f Wet\",7.83,7.42,7.33,7.67,7.42,7.5,10.0,10.0,10.0,0.12,0,0,4,2014],[\"Arabica\",\"South America\",\"Colombia\",\"Caturra\",\"Green\",\"Washed \\u002f Wet\",7.5,7.5,7.42,7.42,7.58,7.58,10.0,10.0,10.0,0.11,0,0,1,2014],[\"Arabica\",\"North America\",\"Guatemala\",\"Bourbon\",\"Green\",\"Washed \\u002f Wet\",7.83,7.67,7.17,7.33,7.5,7.67,10.0,10.0,10.0,0.11,0,0,0,2014],[\"Arabica\",\"North America\",\"Mexico\",\"Typica\",null,\"Washed \\u002f Wet\",7.5,7.58,7.5,7.5,7.42,7.42,10.0,10.0,10.0,0.13,0,0,10,2013],[\"Arabica\",\"North America\",\"Mexico\",\"Typica\",\"Green\",\"Washed \\u002f Wet\",7.67,7.5,7.33,7.67,7.5,7.33,10.0,10.0,10.0,0.12,0,0,5,2013],[\"Arabica\",\"North America\",\"Mexico\",\"Typica\",null,\"Semi-washed \\u002f Semi-pulped\",7.92,7.5,7.33,7.58,7.25,7.42,10.0,10.0,10.0,0.11,0,0,2,2013],[\"Arabica\",\"North America\",\"Guatemala\",\"Caturra\",\"Green\",\"Natural \\u002f Dry\",7.67,7.33,7.33,7.33,7.5,7.83,10.0,10.0,10.0,0.11,0,0,5,2013],[\"Arabica\",\"South America\",\"Brazil\",\"Bourbon\",\"Blue-Green\",\"Semi-washed \\u002f Semi-pulped\",7.67,7.42,7.33,7.67,7.5,7.5,10.0,10.0,10.0,0.0,0,0,4,2013],[\"Arabica\",\"South America\",\"Colombia\",\"Caturra\",\"Green\",\"Washed \\u002f Wet\",7.67,7.5,7.33,7.5,7.25,7.67,10.0,10.0,10.0,0.11,0,1,3,2013],[\"Arabica\",\"North America\",\"United States\",\"Hawaiian Kona\",\"Green\",\"Washed \\u002f Wet\",7.33,7.42,7.33,7.75,7.42,7.67,10.0,10.0,10.0,0.12,0,2,3,2013],[\"Arabica\",\"North America\",\"Guatemala\",null,null,null,7.75,7.58,7.67,7.67,7.58,7.58,9.33,10.0,10.0,0.01,0,1,14,2011],[\"Arabica\",\"North America\",\"Honduras\",\"Other\",\"Green\",\"Washed \\u002f Wet\",7.42,7.67,7.17,7.58,7.58,7.5,10.0,10.0,10.0,0.12,1,0,6,2018],[\"Arabica\",\"North America\",\"Guatemala\",\"Bourbon\",\"Green\",\"Washed \\u002f Wet\",7.58,7.5,7.33,7.75,7.33,7.5,10.0,10.0,10.0,0.1,1,0,2,2018],[\"Arabica\",\"North America\",\"Guatemala\",\"Bourbon\",\"Green\",\"Washed \\u002f Wet\",7.67,7.58,7.25,7.67,7.42,7.33,10.0,10.0,10.0,0.12,0,0,0,2018],[\"Arabica\",\"North America\",\"Guatemala\",\"Bourbon\",\"Green\",\"Washed \\u002f Wet\",7.58,7.5,7.25,7.67,7.5,7.5,10.0,10.0,10.0,0.12,0,0,0,2018],[\"Arabica\",\"North America\",\"Guatemala\",\"Caturra\",\"Green\",\"Washed \\u002f Wet\",7.5,7.42,7.08,7.75,7.67,7.5,10.0,10.0,10.0,0.11,2,0,3,2018],[\"Arabica\",\"South America\",\"Colombia\",\"Caturra\",\"Green\",\"Washed \\u002f Wet\",5.08,7.75,7.83,7.75,7.83,8.08,10.0,10.0,10.0,0.11,0,0,1,2017],[\"Arabica\",\"Asia\",\"China\",\"Catimor\",\"Green\",\"Washed \\u002f Wet\",7.67,7.42,7.42,7.5,7.42,7.42,10.0,10.0,10.0,0.1,0,0,0,2017],[\"Arabica\",\"South America\",\"Brazil\",null,\"Green\",null,7.42,7.5,7.33,7.5,7.25,7.42,10.0,10.0,10.0,0.11,1,0,0,2017],[\"Arabica\",\"Africa\",\"Tanzania\",\"Ruiru 11\",\"Green\",\"Washed \\u002f Wet\",7.67,7.25,7.42,7.42,7.67,7.42,10.0,10.0,10.0,0.13,0,0,7,2016],[\"Arabica\",\"South America\",\"Brazil\",\"Yellow Bourbon\",\"Green\",\"Natural \\u002f Dry\",7.17,7.83,7.33,7.5,7.75,7.42,10.0,10.0,10.0,0.0,0,0,0,2016],[\"Arabica\",\"North America\",\"Guatemala\",\"Caturra\",\"Green\",\"Washed \\u002f Wet\",7.5,7.5,7.5,7.67,7.42,7.5,10.0,10.0,10.0,0.1,0,0,0,2015],[\"Arabica\",\"North America\",\"Mexico\",\"Typica\",\"Green\",\"Washed \\u002f Wet\",7.42,7.5,7.42,7.58,7.42,7.5,10.0,10.0,10.0,0.11,0,0,0,2015],[\"Arabica\",\"South America\",\"Brazil\",\"Catuai\",\"Blue-Green\",\"Semi-washed \\u002f Semi-pulped\",7.58,7.67,7.33,7.5,7.5,7.42,10.0,10.0,10.0,0.12,0,0,1,2015],[\"Arabica\",\"South America\",\"Peru\",null,\"Green\",\"Washed \\u002f Wet\",7.58,7.58,7.58,7.75,7.5,7.58,9.33,10.0,10.0,0.0,0,0,3,2015],[\"Arabica\",\"South America\",\"Brazil\",\"Yellow Bourbon\",\"Green\",\"Natural \\u002f Dry\",7.25,7.33,7.25,7.5,7.42,7.5,10.0,10.0,10.0,0.0,0,0,0,2014],[\"Arabica\",\"North America\",\"Mexico\",\"Bourbon\",\"Green\",\"Washed \\u002f Wet\",7.5,7.58,7.5,7.92,7.42,7.67,9.33,10.0,10.0,0.12,0,0,0,2014],[\"Arabica\",\"North America\",\"Honduras\",null,null,\"Washed \\u002f Wet\",7.25,7.67,7.42,7.17,7.75,7.5,10.0,10.0,10.0,0.09,0,0,2,2014],[\"Arabica\",\"South America\",\"Colombia\",\"Caturra\",\"Green\",\"Washed \\u002f Wet\",7.67,7.42,7.33,7.5,7.58,7.5,10.0,10.0,10.0,0.11,0,0,9,2014],[\"Arabica\",\"North America\",\"Mexico\",\"Typica\",\"Green\",\"Washed \\u002f Wet\",7.5,7.42,7.42,7.67,7.42,7.58,10.0,10.0,10.0,0.12,0,0,5,2014],[\"Arabica\",\"North America\",\"Mexico\",\"Typica\",\"Green\",\"Semi-washed \\u002f Semi-pulped\",7.42,7.58,7.5,7.42,7.58,7.5,10.0,10.0,10.0,0.13,0,0,2,2013],[\"Arabica\",\"North America\",\"Mexico\",\"Typica\",\"Green\",\"Washed \\u002f Wet\",7.42,7.58,7.33,7.58,7.5,7.5,10.0,10.0,10.0,0.14,0,0,9,2013],[\"Arabica\",\"North America\",\"Mexico\",\"Caturra\",\"Green\",\"Washed \\u002f Wet\",7.75,7.33,7.25,7.58,7.58,7.33,10.0,10.0,10.0,0.13,0,0,1,2013],[\"Arabica\",\"North America\",\"Mexico\",\"Typica\",\"Green\",\"Washed \\u002f Wet\",7.5,7.58,7.33,7.5,7.5,7.5,10.0,10.0,10.0,0.11,0,0,0,2013],[\"Arabica\",\"North America\",\"Mexico\",\"Pacamara\",\"Green\",\"Washed \\u002f Wet\",7.58,7.58,7.17,7.5,7.5,7.5,10.0,10.0,10.0,0.14,0,0,6,2013],[\"Arabica\",\"North America\",\"Mexico\",\"Caturra\",\"Green\",\"Washed \\u002f Wet\",7.58,7.33,7.33,7.58,7.5,7.5,10.0,10.0,10.0,0.11,0,0,0,2013],[\"Arabica\",\"North America\",\"Mexico\",\"Bourbon\",null,\"Washed \\u002f Wet\",7.67,7.58,7.33,7.42,7.58,7.33,10.0,10.0,10.0,0.13,0,0,4,2013],[\"Arabica\",\"North America\",\"Mexico\",\"Typica\",\"Bluish-Green\",\"Washed \\u002f Wet\",7.83,7.5,7.42,7.67,7.17,7.33,10.0,10.0,10.0,0.12,0,0,0,2013],[\"Arabica\",\"South America\",\"Colombia\",\"Caturra\",null,\"Natural \\u002f Dry\",7.67,7.33,7.25,7.42,7.5,7.67,10.0,10.0,10.0,0.0,0,0,2,2013],[\"Arabica\",\"South America\",\"Brazil\",\"Arusha\",\"Blue-Green\",\"Natural \\u002f Dry\",7.75,7.5,7.42,7.42,7.5,7.42,10.0,10.0,10.0,0.11,0,0,2,2013],[\"Arabica\",\"South America\",\"Colombia\",\"Caturra\",\"Green\",\"Washed \\u002f Wet\",7.33,7.58,7.17,7.58,7.42,7.58,10.0,10.0,10.0,0.0,0,0,2,2012],[\"Arabica\",\"South America\",\"Colombia\",null,null,null,7.58,7.25,7.42,7.25,7.58,7.83,10.0,10.0,10.0,0.02,0,0,1,2012],[\"Arabica\",\"North America\",\"Honduras\",\"Caturra\",\"Green\",\"Washed \\u002f Wet\",7.5,7.58,7.33,7.5,7.42,7.42,10.0,10.0,10.0,0.1,1,0,8,2018],[\"Arabica\",\"South America\",\"Brazil\",\"Catuai\",\"Green\",\"Natural \\u002f Dry\",7.33,7.5,7.5,7.33,7.5,7.5,10.0,10.0,10.0,0.11,3,0,11,2018],[\"Arabica\",\"South America\",\"Brazil\",null,\"Green\",\"Natural \\u002f Dry\",7.42,7.42,7.42,7.5,7.5,7.58,10.0,10.0,10.0,0.11,4,0,14,2017],[\"Arabica\",\"South America\",\"Brazil\",\"Bourbon\",\"Bluish-Green\",\"Natural \\u002f Dry\",7.5,7.5,7.42,7.5,7.42,7.5,10.0,10.0,10.0,0.11,2,0,3,2017],[\"Arabica\",\"North America\",\"Costa Rica\",\"Caturra\",\"Bluish-Green\",\"Washed \\u002f Wet\",7.75,7.5,7.25,7.25,7.42,7.67,10.0,10.0,10.0,0.1,1,6,3,2017],[\"Arabica\",\"North America\",\"Costa Rica\",\"Catuai\",\"Green\",\"Washed \\u002f Wet\",7.75,7.33,7.5,7.5,7.33,7.58,10.0,10.0,10.0,0.0,2,0,0,2017],[\"Arabica\",\"Asia\",\"China\",\"Catimor\",\"Green\",\"Pulped natural \\u002f honey\",7.5,7.58,7.42,7.5,7.42,7.42,10.0,10.0,10.0,0.12,6,0,2,2017],[\"Arabica\",\"South America\",\"Brazil\",\"Bourbon\",\"Green\",\"Natural \\u002f Dry\",8.25,7.83,7.25,8.33,8.17,8.08,10.0,6.67,10.0,0.07,0,0,0,2016],[\"Arabica\",\"South America\",\"Brazil\",\"Mundo Novo\",\"Green\",\"Natural \\u002f Dry\",7.42,7.5,7.5,7.42,7.5,7.58,10.0,10.0,10.0,0.11,0,0,10,2016],[\"Arabica\",\"North America\",\"Guatemala\",\"Bourbon\",\"Green\",\"Washed \\u002f Wet\",7.5,7.42,7.17,7.83,7.5,7.5,10.0,10.0,10.0,0.1,0,0,6,2016],[\"Arabica\",\"Africa\",\"Malawi\",\"Gesha\",\"Green\",\"Washed \\u002f Wet\",7.33,7.58,7.42,7.58,7.33,7.5,10.0,10.0,10.0,0.12,0,0,0,2015],[\"Arabica\",\"South America\",\"Brazil\",\"Bourbon\",\"Blue-Green\",\"Natural \\u002f Dry\",7.75,8.08,7.67,8.08,8.08,8.0,10.0,10.0,6.67,0.11,0,0,0,2015],[\"Arabica\",\"North America\",\"Guatemala\",\"Pacas\",\"Green\",\"Washed \\u002f Wet\",7.58,7.67,7.5,7.58,7.75,7.5,9.33,10.0,10.0,0.12,0,0,3,2015],[\"Arabica\",\"North America\",\"Mexico\",null,\"Green\",\"Washed \\u002f Wet\",7.33,7.58,7.42,7.5,7.5,7.5,10.0,10.0,10.0,0.11,0,0,0,2015],[\"Arabica\",\"South America\",\"Colombia\",\"Caturra\",\"Green\",\"Washed \\u002f Wet\",7.42,7.33,7.5,7.17,7.08,8.33,10.0,10.0,10.0,0.1,0,0,2,2015],[\"Arabica\",\"Asia\",\"Taiwan\",\"Typica\",\"Green\",\"Semi-washed \\u002f Semi-pulped\",7.5,7.5,7.5,7.5,7.5,7.5,10.0,10.0,10.0,0.11,0,0,0,2014],[\"Arabica\",\"Asia\",\"Taiwan\",\"Typica\",\"Green\",\"Washed \\u002f Wet\",7.5,7.5,7.5,7.5,7.5,7.5,10.0,10.0,10.0,0.11,0,0,0,2014],[\"Arabica\",\"North America\",\"Guatemala\",\"Bourbon\",\"Green\",\"Washed \\u002f Wet\",7.5,7.42,7.58,7.5,7.5,7.58,10.0,10.0,10.0,0.12,0,2,1,2014],[\"Arabica\",\"South America\",\"Colombia\",\"Caturra\",\"Green\",\"Washed \\u002f Wet\",7.5,7.42,7.5,7.5,7.5,7.58,10.0,10.0,10.0,0.0,0,0,1,2014],[\"Arabica\",\"North America\",\"Mexico\",\"Typica\",\"Green\",\"Washed \\u002f Wet\",7.67,7.5,7.42,7.5,7.42,7.42,10.0,10.0,10.0,0.12,0,0,3,2014],[\"Arabica\",\"North America\",\"Costa Rica\",null,\"Green\",\"Washed \\u002f Wet\",7.92,7.58,7.25,7.75,7.92,7.58,9.33,9.33,10.0,0.0,0,0,14,2013],[\"Arabica\",\"North America\",\"Guatemala\",\"Bourbon\",\"Green\",\"Washed \\u002f Wet\",7.67,7.5,7.33,7.67,7.5,7.33,10.0,10.0,10.0,0.11,0,0,3,2013],[\"Arabica\",\"North America\",\"Mexico\",\"Typica\",null,\"Natural \\u002f Dry\",7.58,7.67,7.58,7.33,7.0,7.58,10.0,10.0,10.0,0.15,0,1,8,2013],[\"Arabica\",\"North America\",\"Mexico\",\"Bourbon\",\"Green\",\"Washed \\u002f Wet\",7.67,7.58,7.5,7.58,7.5,7.5,10.0,10.0,10.0,0.13,0,0,9,2013],[\"Arabica\",\"North America\",\"Guatemala\",\"Bourbon\",\"Green\",\"Washed \\u002f Wet\",7.5,7.67,7.33,7.5,7.33,7.5,10.0,10.0,10.0,0.1,0,2,5,2013],[\"Arabica\",\"South America\",\"Brazil\",\"Mundo Novo\",\"Green\",\"Natural \\u002f Dry\",7.58,7.5,7.42,7.5,7.5,7.42,10.0,10.0,10.0,0.12,0,0,2,2013],[\"Arabica\",\"North America\",\"Mexico\",\"Typica\",\"Green\",\"Washed \\u002f Wet\",8.0,7.75,7.33,7.33,7.08,7.67,9.33,10.0,10.0,0.11,0,0,0,2013],[\"Arabica\",\"South America\",\"Brazil\",\"Mundo Novo\",\"Green\",\"Washed \\u002f Wet\",7.58,7.58,7.25,7.58,7.42,7.5,10.0,10.0,10.0,0.11,0,0,2,2013],[\"Arabica\",\"South America\",\"Colombia\",\"Caturra\",\"Green\",\"Natural \\u002f Dry\",7.83,7.58,7.33,7.25,7.58,7.42,10.0,10.0,10.0,0.0,0,0,0,2013],[\"Arabica\",\"South America\",\"Brazil\",\"Catuai\",\"Green\",\"Washed \\u002f Wet\",7.58,7.5,7.25,7.42,7.67,7.33,10.0,10.0,10.0,0.09,6,2,10,2018],[\"Arabica\",\"Asia\",\"Taiwan\",null,\"Blue-Green\",null,7.0,7.08,7.0,7.17,7.0,7.0,10.0,10.0,10.0,0.1,0,0,0,2018],[\"Arabica\",\"North America\",\"Guatemala\",\"Pacas\",\"Green\",\"Washed \\u002f Wet\",7.67,7.5,7.25,7.67,7.42,7.42,10.0,10.0,10.0,0.11,2,0,2,2017],[\"Arabica\",\"South America\",\"Brazil\",\"Yellow Bourbon\",\"Green\",\"Natural \\u002f Dry\",7.42,7.67,7.5,7.08,7.5,7.42,10.0,10.0,10.0,0.0,0,0,9,2016],[\"Arabica\",\"North America\",\"El Salvador\",\"Bourbon\",\"Green\",\"Washed \\u002f Wet\",7.58,7.67,7.5,7.67,7.83,8.42,9.33,9.33,9.33,0.12,0,0,0,2016],[\"Arabica\",\"North America\",\"Honduras\",\"Catuai\",\"Green\",\"Washed \\u002f Wet\",7.58,7.5,7.42,7.58,7.42,7.42,10.0,10.0,10.0,0.11,0,0,2,2016],[\"Arabica\",\"Africa\",\"Malawi\",\"Gesha\",\"Blue-Green\",\"Washed \\u002f Wet\",7.58,7.42,7.33,7.42,7.58,7.5,10.0,10.0,10.0,0.13,0,0,0,2015],[\"Arabica\",\"South America\",\"Brazil\",\"Bourbon\",\"Green\",\"Natural \\u002f Dry\",7.75,7.58,7.42,7.42,7.33,7.33,10.0,10.0,10.0,0.11,0,0,0,2015],[\"Arabica\",\"North America\",\"Mexico\",\"Mundo Novo\",\"Blue-Green\",\"Washed \\u002f Wet\",7.58,7.58,7.42,7.42,7.42,7.42,10.0,10.0,10.0,0.12,0,0,4,2014],[\"Arabica\",\"North America\",\"United States\",\"Hawaiian Kona\",\"Bluish-Green\",\"Natural \\u002f Dry\",7.33,7.42,7.5,7.67,7.5,7.42,10.0,10.0,10.0,0.0,0,0,1,2014],[\"Arabica\",\"North America\",\"Mexico\",\"Bourbon\",null,\"Washed \\u002f Wet\",7.58,7.58,7.5,7.17,7.42,7.42,10.0,10.0,10.0,0.16,0,3,8,2013],[\"Arabica\",\"North America\",\"Guatemala\",\"Bourbon\",\"Green\",\"Washed \\u002f Wet\",7.5,7.5,7.33,7.58,7.67,7.33,10.0,10.0,10.0,0.11,0,0,2,2013],[\"Arabica\",\"North America\",\"Mexico\",\"Bourbon\",\"Green\",\"Washed \\u002f Wet\",7.5,7.58,7.42,7.67,7.33,7.42,10.0,10.0,10.0,0.13,0,0,3,2013],[\"Arabica\",\"North America\",\"Mexico\",\"Typica\",\"Green\",\"Washed \\u002f Wet\",7.67,7.58,7.33,7.5,7.42,7.42,10.0,10.0,10.0,0.12,0,0,13,2013],[\"Arabica\",\"North America\",\"El Salvador\",\"Other\",\"Green\",\"Washed \\u002f Wet\",7.75,7.33,7.33,7.5,7.5,7.5,10.0,10.0,10.0,0.0,0,2,5,2013],[\"Arabica\",\"North America\",\"Mexico\",\"Typica\",\"Green\",\"Washed \\u002f Wet\",7.33,7.58,7.42,7.67,7.33,7.5,10.0,10.0,10.0,0.11,0,0,0,2013],[\"Arabica\",\"North America\",\"Mexico\",\"Typica\",\"Green\",\"Washed \\u002f Wet\",7.42,7.5,7.42,7.58,7.42,7.5,10.0,10.0,10.0,0.1,0,0,3,2013],[\"Arabica\",\"South America\",\"Colombia\",\"Caturra\",\"Green\",\"Washed \\u002f Wet\",7.5,7.42,7.67,7.33,7.58,7.33,10.0,10.0,10.0,0.12,0,0,1,2013],[\"Arabica\",\"South America\",\"Colombia\",\"Caturra\",\"Green\",\"Washed \\u002f Wet\",7.67,7.33,7.33,7.33,7.5,7.5,10.0,10.0,10.0,0.11,0,0,0,2013],[\"Arabica\",\"South America\",\"Brazil\",\"Arusha\",\"Green\",\"Natural \\u002f Dry\",7.67,7.58,7.42,7.0,7.5,7.58,10.0,10.0,10.0,0.12,0,0,1,2013],[\"Arabica\",\"South America\",\"Colombia\",null,null,null,7.17,7.25,7.58,7.25,7.58,7.67,10.0,10.0,10.0,0.22,0,0,2,2012],[\"Arabica\",\"South America\",\"Brazil\",\"Bourbon\",\"Green\",\"Natural \\u002f Dry\",7.42,7.42,7.5,7.42,7.42,7.5,10.0,10.0,10.0,0.11,1,0,5,2017],[\"Arabica\",\"North America\",\"Honduras\",\"Caturra\",\"Bluish-Green\",\"Washed \\u002f Wet\",7.5,7.5,7.17,7.42,7.5,7.5,10.0,10.0,10.0,0.11,1,0,2,2017],[\"Arabica\",\"North America\",\"Nicaragua\",null,\"Green\",null,7.5,7.5,7.33,7.42,7.5,7.42,10.0,10.0,10.0,0.1,0,0,1,2017],[\"Arabica\",\"Africa\",\"Tanzania\",\"Bourbon\",\"Green\",\"Washed \\u002f Wet\",7.58,7.42,7.42,7.33,7.5,7.42,10.0,10.0,10.0,0.13,0,1,6,2016],[\"Arabica\",\"Africa\",\"Tanzania\",\"Other\",\"Green\",\"Washed \\u002f Wet\",7.42,7.42,7.42,7.5,7.5,7.33,10.0,10.0,10.0,0.12,0,0,1,2016],[\"Arabica\",\"South America\",\"Brazil\",\"Yellow Bourbon\",\"Green\",\"Natural \\u002f Dry\",6.92,7.58,7.42,7.33,7.83,7.5,10.0,10.0,10.0,0.0,0,0,1,2016],[\"Arabica\",\"Asia\",\"Thailand\",null,\"Bluish-Green\",\"Washed \\u002f Wet\",7.42,7.42,7.17,7.75,7.25,7.67,10.0,10.0,10.0,0.12,0,0,0,2016],[\"Arabica\",\"North America\",\"Honduras\",\"Catuai\",\"Green\",\"Washed \\u002f Wet\",7.67,7.5,7.25,7.42,7.58,7.42,10.0,10.0,10.0,0.11,0,0,2,2016],[\"Arabica\",\"North America\",\"Guatemala\",\"Bourbon\",\"Blue-Green\",\"Washed \\u002f Wet\",7.42,7.42,7.5,7.5,7.42,7.5,10.0,10.0,10.0,0.09,0,0,4,2016],[\"Arabica\",\"South America\",\"Brazil\",\"Mundo Novo\",\"Green\",\"Natural \\u002f Dry\",7.58,7.5,7.42,7.25,7.5,7.42,10.0,10.0,10.0,0.12,0,0,1,2016],[\"Arabica\",\"Africa\",\"Tanzania\",\"Other\",\"Green\",\"Washed \\u002f Wet\",7.75,7.42,7.42,7.58,7.33,7.42,10.0,10.0,10.0,0.12,0,0,1,2015],[\"Arabica\",\"North America\",\"Mexico\",\"Other\",\"Green\",\"Washed \\u002f Wet\",7.42,7.33,7.17,7.42,7.33,8.17,10.0,10.0,10.0,0.12,0,0,0,2015],[\"Arabica\",\"North America\",\"Mexico\",\"Other\",null,\"Washed \\u002f Wet\",7.5,7.5,7.33,7.42,7.5,7.42,10.0,10.0,10.0,0.1,0,1,1,2015],[\"Arabica\",\"Asia\",\"Taiwan\",\"Typica\",\"Green\",\"Other\",7.5,7.5,7.5,7.5,7.5,7.5,10.0,10.0,10.0,0.11,0,0,0,2014],[\"Arabica\",\"Asia\",\"Taiwan\",\"Typica\",\"Green\",\"Washed \\u002f Wet\",7.67,7.5,7.5,7.17,7.17,7.58,10.0,10.0,10.0,0.0,0,0,0,2014],[\"Arabica\",\"South America\",\"Colombia\",\"Caturra\",\"Bluish-Green\",\"Washed \\u002f Wet\",7.33,7.25,7.25,7.58,7.75,7.5,10.0,10.0,10.0,0.0,0,0,1,2014],[\"Arabica\",\"North America\",\"Mexico\",\"Typica\",null,\"Washed \\u002f Wet\",7.5,7.67,7.0,7.5,7.33,7.5,10.0,10.0,10.0,0.15,0,1,9,2013],[\"Arabica\",\"North America\",\"Guatemala\",\"Caturra\",null,\"Washed \\u002f Wet\",7.25,7.75,7.0,7.75,8.17,7.75,10.0,10.0,9.33,0.12,0,0,2,2013],[\"Arabica\",\"North America\",\"Mexico\",\"Typica\",\"Green\",\"Washed \\u002f Wet\",7.5,7.58,7.25,7.5,7.5,7.33,10.0,10.0,10.0,0.12,0,0,4,2013],[\"Arabica\",\"North America\",\"Mexico\",\"Typica\",\"Green\",\"Washed \\u002f Wet\",7.0,7.67,7.5,7.5,7.42,7.5,10.0,10.0,10.0,0.1,0,0,1,2013],[\"Arabica\",\"South America\",\"Colombia\",null,null,null,7.58,7.67,7.42,7.17,7.17,7.75,10.0,10.0,10.0,0.08,0,0,0,2012],[\"Arabica\",\"Asia\",\"Indonesia\",\"Bourbon\",null,\"Washed \\u002f Wet\",7.5,7.5,7.42,7.42,7.5,7.42,10.0,10.0,10.0,0.15,0,0,3,2018],[\"Arabica\",\"South America\",\"Colombia\",\"Caturra\",\"Green\",\"Washed \\u002f Wet\",7.75,7.58,7.42,7.67,7.83,7.58,9.33,9.33,10.0,0.0,7,0,6,2018],[\"Arabica\",\"South America\",\"Brazil\",\"Bourbon\",\"Green\",\"Natural \\u002f Dry\",7.42,7.58,7.42,7.5,7.42,7.25,10.0,10.0,10.0,0.11,1,0,3,2017],[\"Arabica\",\"South America\",\"Brazil\",\"Yellow Bourbon\",\"Green\",\"Natural \\u002f Dry\",7.25,7.25,7.58,7.58,7.25,7.92,10.0,10.0,10.0,0.0,0,0,1,2016],[\"Arabica\",\"North America\",\"Costa Rica\",\"Caturra\",\"Blue-Green\",\"Washed \\u002f Wet\",7.75,7.42,7.42,7.25,7.17,7.42,10.0,10.0,10.0,0.0,0,0,0,2016],[\"Arabica\",\"Africa\",\"Tanzania\",\"Bourbon\",\"Green\",\"Washed \\u002f Wet\",7.42,7.33,7.42,7.42,7.5,7.58,10.0,10.0,10.0,0.12,0,0,5,2016],[\"Arabica\",\"Africa\",\"Tanzania\",\"Other\",\"Green\",\"Washed \\u002f Wet\",7.42,7.5,7.5,7.33,7.33,7.5,10.0,10.0,10.0,0.12,0,0,3,2016],[\"Arabica\",\"South America\",\"Colombia\",null,\"Green\",\"Washed \\u002f Wet\",7.5,7.42,7.42,7.42,7.67,7.42,10.0,10.0,10.0,0.11,0,1,0,2015],[\"Arabica\",\"North America\",\"Costa Rica\",\"Caturra\",\"Green\",\"Washed \\u002f Wet\",7.58,7.33,7.33,7.33,7.5,7.67,10.0,10.0,10.0,0.11,0,0,2,2015],[\"Arabica\",\"North America\",\"United States\",\"Hawaiian Kona\",\"Bluish-Green\",\"Natural \\u002f Dry\",7.25,7.58,7.58,7.25,7.5,7.42,10.0,10.0,10.0,0.11,0,0,0,2013],[\"Arabica\",\"North America\",\"Mexico\",\"Typica\",\"Green\",\"Washed \\u002f Wet\",7.42,7.58,7.5,7.33,7.42,7.42,10.0,10.0,10.0,0.13,0,0,7,2013],[\"Arabica\",\"North America\",\"Mexico\",\"Typica\",\"Green\",\"Washed \\u002f Wet\",7.5,7.42,7.42,7.5,7.25,7.5,10.0,10.0,10.0,0.13,0,3,13,2013],[\"Arabica\",\"North America\",\"Mexico\",\"Typica\",\"Green\",\"Washed \\u002f Wet\",7.67,7.5,7.25,7.58,7.42,7.33,10.0,10.0,10.0,0.11,0,0,11,2013],[\"Arabica\",\"Asia\",\"Vietnam\",\"Other\",\"Green\",\"Natural \\u002f Dry\",7.67,8.0,7.17,7.08,7.67,7.08,10.0,10.0,10.0,0.12,0,0,2,2013],[\"Arabica\",\"North America\",\"Mexico\",\"Typica\",\"Green\",\"Washed \\u002f Wet\",7.58,7.42,7.25,7.75,7.33,7.42,10.0,10.0,10.0,0.11,0,0,1,2013],[\"Arabica\",\"North America\",\"United States\",\"Hawaiian Kona\",\"Green\",\"Washed \\u002f Wet\",7.33,7.5,7.33,7.58,7.08,7.83,10.0,10.0,10.0,0.1,0,0,2,2013],[\"Arabica\",\"South America\",\"Colombia\",null,null,null,7.67,7.42,7.67,7.33,7.25,7.58,10.0,10.0,10.0,0.08,0,1,5,2012],[\"Arabica\",\"North America\",\"Honduras\",\"Caturra\",\"Green\",\"Washed \\u002f Wet\",7.5,7.5,7.17,7.5,7.5,7.42,10.0,10.0,10.0,0.12,0,0,1,2018],[\"Arabica\",\"North America\",\"Honduras\",\"Caturra\",\"Green\",\"Natural \\u002f Dry\",7.5,7.5,7.25,7.33,7.42,7.5,10.0,10.0,10.0,0.1,1,0,7,2018],[\"Arabica\",\"South America\",\"Brazil\",\"Bourbon\",\"Green\",\"Natural \\u002f Dry\",7.5,7.33,7.42,7.5,7.33,7.42,10.0,10.0,10.0,0.11,2,0,3,2017],[\"Arabica\",\"Africa\",\"Tanzania\",\"Other\",\"Green\",\"Washed \\u002f Wet\",7.67,7.33,7.33,7.42,7.42,7.42,10.0,10.0,10.0,0.13,0,0,20,2016],[\"Arabica\",\"Asia\",\"Laos\",\"Other\",\"Blue-Green\",\"Washed \\u002f Wet\",7.42,7.5,7.25,7.33,7.5,7.5,10.0,10.0,10.0,0.12,0,0,0,2016],[\"Arabica\",\"Africa\",\"Tanzania\",\"Other\",\"Green\",\"Washed \\u002f Wet\",7.42,7.42,7.33,7.58,7.33,7.42,10.0,10.0,10.0,0.12,0,0,3,2015],[\"Arabica\",\"Africa\",\"Malawi\",\"Gesha\",\"Bluish-Green\",\"Washed \\u002f Wet\",7.5,7.42,7.33,7.58,7.33,7.5,10.0,10.0,10.0,0.13,0,0,1,2015],[\"Arabica\",\"Asia\",\"Taiwan\",\"Typica\",\"Green\",\"Washed \\u002f Wet\",7.33,7.5,7.17,7.42,7.5,7.33,10.0,10.0,10.0,0.09,0,0,0,2015],[\"Arabica\",\"Asia\",\"Thailand\",null,\"Green\",\"Washed \\u002f Wet\",7.58,7.5,7.42,7.42,7.33,7.42,10.0,10.0,10.0,0.11,0,0,0,2015],[\"Arabica\",\"North America\",\"Costa Rica\",\"Catuai\",\"Green\",\"Washed \\u002f Wet\",7.5,7.25,7.33,7.33,7.75,7.5,10.0,10.0,10.0,0.1,0,0,4,2015],[\"Arabica\",\"North America\",\"Honduras\",\"Caturra\",\"Green\",\"Washed \\u002f Wet\",7.33,7.33,7.33,7.5,7.5,7.83,10.0,10.0,10.0,0.11,0,0,5,2015],[\"Arabica\",\"South America\",\"Colombia\",\"Caturra\",\"Green\",\"Washed \\u002f Wet\",7.33,7.33,7.58,7.5,7.5,7.58,10.0,10.0,10.0,0.11,0,0,1,2014],[\"Arabica\",\"Asia\",\"Taiwan\",\"Typica\",\"Bluish-Green\",\"Washed \\u002f Wet\",7.42,7.58,7.33,7.42,8.0,7.5,9.33,10.0,10.0,0.12,0,0,0,2014],[\"Arabica\",\"South America\",\"Brazil\",\"Mundo Novo\",\"Blue-Green\",\"Natural \\u002f Dry\",7.33,7.67,7.42,7.17,7.33,7.42,10.0,10.0,10.0,0.11,0,0,0,2014],[\"Arabica\",\"North America\",\"Mexico\",\"Typica\",\"Green\",\"Washed \\u002f Wet\",7.67,7.33,7.25,7.5,7.42,7.42,10.0,10.0,10.0,0.12,0,0,1,2013],[\"Arabica\",\"South America\",\"Brazil\",\"Mundo Novo\",\"Green\",\"Natural \\u002f Dry\",7.42,7.5,7.33,7.5,7.33,7.5,10.0,10.0,10.0,0.12,0,0,1,2013],[\"Arabica\",\"South America\",\"Brazil\",\"Catuai\",\"Blue-Green\",\"Semi-washed \\u002f Semi-pulped\",7.42,7.5,7.25,7.5,7.5,7.42,10.0,10.0,10.0,0.11,0,0,1,2013],[\"Arabica\",\"North America\",\"Guatemala\",\"Bourbon\",\"Green\",\"Natural \\u002f Dry\",7.33,7.33,7.33,7.5,7.67,7.67,10.0,10.0,10.0,0.11,0,0,3,2013],[\"Arabica\",\"South America\",\"Brazil\",\"Mundo Novo\",\"Green\",\"Semi-washed \\u002f Semi-pulped\",7.58,7.5,7.17,7.5,7.5,7.42,10.0,10.0,10.0,0.12,0,0,2,2013],[\"Arabica\",\"North America\",\"Guatemala\",\"Bourbon\",\"Green\",\"Washed \\u002f Wet\",7.75,7.33,7.33,7.42,7.75,7.67,10.0,10.0,9.33,0.0,0,0,10,2013],[\"Arabica\",\"South America\",\"Colombia\",\"Caturra\",null,null,7.33,7.0,7.08,7.42,7.5,7.67,10.0,10.0,10.0,0.07,0,0,2,2012],[\"Arabica\",\"North America\",\"Guatemala\",\"Bourbon\",\"Green\",\"Washed \\u002f Wet\",7.58,7.5,7.25,7.58,7.58,7.5,9.33,10.0,10.0,0.1,0,0,1,2018],[\"Arabica\",\"North America\",\"Guatemala\",\"Bourbon\",\"Green\",\"Washed \\u002f Wet\",7.5,7.5,7.25,7.42,7.42,7.42,10.0,10.0,10.0,0.11,2,0,0,2018],[\"Arabica\",\"North America\",\"Honduras\",\"Caturra\",\"Green\",\"Washed \\u002f Wet\",7.58,7.5,7.25,7.33,7.42,7.5,10.0,10.0,10.0,0.12,0,0,1,2018],[\"Arabica\",\"South America\",\"Brazil\",\"Catuai\",\"Green\",\"Natural \\u002f Dry\",7.42,7.33,7.33,7.5,7.5,7.33,10.0,10.0,10.0,0.11,0,0,4,2017],[\"Arabica\",\"North America\",\"El Salvador\",\"Bourbon\",\"Green\",\"Washed \\u002f Wet\",7.67,7.58,7.33,7.5,7.5,7.67,10.0,10.0,9.33,0.11,0,0,2,2016],[\"Arabica\",\"North America\",\"Guatemala\",\"Catuai\",\"Green\",\"Washed \\u002f Wet\",7.58,7.58,7.17,7.83,7.17,7.33,10.0,10.0,10.0,0.11,0,0,7,2016],[\"Arabica\",\"Africa\",\"Tanzania\",\"Other\",\"Green\",\"Washed \\u002f Wet\",7.33,7.33,7.33,7.42,7.5,7.58,10.0,10.0,10.0,0.12,0,0,4,2016],[\"Arabica\",\"North America\",\"Nicaragua\",null,\"Green\",\"Washed \\u002f Wet\",7.58,7.42,7.25,7.17,7.5,7.67,10.0,10.0,10.0,0.12,0,3,4,2015],[\"Arabica\",\"Africa\",\"Zambia\",\"SL28\",null,\"Washed \\u002f Wet\",7.67,7.08,7.42,7.33,7.75,7.42,10.0,10.0,10.0,0.0,0,1,3,2015],[\"Arabica\",\"North America\",\"Honduras\",null,\"Green\",\"Washed \\u002f Wet\",7.42,7.33,7.33,7.58,7.33,7.5,10.0,10.0,10.0,0.11,0,0,0,2015],[\"Arabica\",\"Asia\",\"Taiwan\",\"Typica\",\"Green\",\"Other\",7.5,7.5,7.42,7.25,7.5,7.5,10.0,10.0,10.0,0.11,0,0,0,2014],[\"Arabica\",\"North America\",\"Mexico\",\"Bourbon\",\"Green\",\"Washed \\u002f Wet\",7.58,7.5,7.25,7.58,7.5,7.25,10.0,10.0,10.0,0.12,0,0,6,2014],[\"Arabica\",\"North America\",\"Mexico\",\"Typica\",null,\"Semi-washed \\u002f Semi-pulped\",7.5,7.5,7.25,7.25,7.5,7.5,10.0,10.0,10.0,0.13,0,2,7,2013],[\"Arabica\",\"North America\",\"Mexico\",\"Mundo Novo\",null,\"Washed \\u002f Wet\",7.5,7.42,7.25,7.5,7.33,7.33,10.0,10.0,10.0,0.14,0,2,8,2013],[\"Arabica\",\"North America\",\"Mexico\",\"Other\",\"Green\",\"Washed \\u002f Wet\",7.33,7.58,7.17,7.58,7.42,7.33,10.0,10.0,10.0,0.12,0,0,4,2013],[\"Arabica\",\"North America\",\"Mexico\",\"Bourbon\",\"Green\",\"Washed \\u002f Wet\",7.67,7.42,7.33,7.83,7.5,7.5,9.33,10.0,10.0,0.12,0,0,0,2013],[\"Arabica\",\"South America\",\"Brazil\",\"Mundo Novo\",\"Green\",\"Natural \\u002f Dry\",7.42,7.58,7.25,7.5,7.33,7.5,10.0,10.0,10.0,0.12,0,0,3,2013],[\"Arabica\",\"South America\",\"Colombia\",null,null,null,7.67,7.33,7.33,7.58,7.33,7.33,10.0,10.0,10.0,0.09,0,0,1,2012],[\"Arabica\",\"North America\",\"Guatemala\",\"Bourbon\",\"Green\",\"Washed \\u002f Wet\",7.42,7.5,7.25,7.5,7.33,7.42,10.0,10.0,10.0,0.1,0,1,1,2018],[\"Arabica\",\"North America\",\"Costa Rica\",\"Catuai\",\"Green\",\"Pulped natural \\u002f honey\",7.25,7.33,7.5,7.33,7.67,7.42,10.0,10.0,10.0,0.0,0,1,4,2018],[\"Arabica\",\"South America\",\"Brazil\",\"Mundo Novo\",\"Green\",\"Natural \\u002f Dry\",7.42,7.5,7.42,7.5,7.42,7.25,10.0,10.0,10.0,0.11,1,0,3,2018],[\"Arabica\",\"Asia\",\"Indonesia\",\"Other\",\"Green\",\"Other\",7.75,7.83,7.58,7.75,7.92,7.83,10.0,10.0,10.0,0.11,1,0,0,2018],[\"Arabica\",\"North America\",\"Guatemala\",\"Bourbon\",\"Green\",\"Washed \\u002f Wet\",7.58,7.5,7.33,7.42,7.58,7.25,10.0,10.0,10.0,0.1,0,2,6,2017],[\"Arabica\",\"South America\",\"Brazil\",\"Yellow Bourbon\",\"Green\",\"Natural \\u002f Dry\",7.17,7.58,6.83,7.5,7.75,7.25,10.0,10.0,10.0,0.0,0,0,1,2016],[\"Arabica\",\"South America\",\"Brazil\",\"Yellow Bourbon\",\"Green\",\"Natural \\u002f Dry\",7.58,7.0,6.92,6.92,7.67,7.5,10.0,10.0,10.0,0.0,0,0,0,2016],[\"Arabica\",\"Asia\",\"Myanmar\",\"Catuai\",\"Green\",\"Washed \\u002f Wet\",7.33,7.58,7.5,7.42,7.33,7.33,10.0,10.0,10.0,0.0,0,0,2,2016],[\"Arabica\",\"North America\",\"Mexico\",\"Catuai\",\"Green\",\"Washed \\u002f Wet\",7.58,7.5,7.33,7.5,7.17,7.33,10.0,10.0,10.0,0.11,0,0,7,2016],[\"Arabica\",\"North America\",\"Honduras\",\"Catuai\",\"Green\",\"Washed \\u002f Wet\",7.5,7.5,7.33,7.5,7.42,7.25,10.0,10.0,10.0,0.12,0,0,1,2016],[\"Arabica\",\"North America\",\"Costa Rica\",\"Caturra\",\"Green\",\"Washed \\u002f Wet\",7.67,7.5,7.5,7.25,7.08,7.42,10.0,10.0,10.0,0.09,0,0,0,2016],[\"Arabica\",\"Asia\",\"Taiwan\",\"Typica\",\"Green\",\"Washed \\u002f Wet\",7.67,7.33,7.17,7.25,7.75,7.33,10.0,10.0,10.0,0.0,0,0,0,2016],[\"Arabica\",\"Asia\",\"Indonesia\",\"Typica\",null,\"Other\",7.42,7.42,7.42,7.33,7.42,7.42,10.0,10.0,10.0,0.11,0,2,6,2016],[\"Arabica\",\"Africa\",\"Malawi\",\"Gesha\",\"Green\",\"Washed \\u002f Wet\",7.58,7.42,7.33,7.33,7.33,7.42,10.0,10.0,10.0,0.13,0,0,0,2015],[\"Arabica\",\"South America\",\"Brazil\",\"Bourbon\",\"Green\",\"Natural \\u002f Dry\",7.33,7.58,7.25,7.17,7.83,7.33,10.0,10.0,10.0,0.11,0,0,0,2015],[\"Arabica\",\"North America\",\"Honduras\",\"Caturra\",\"Green\",\"Natural \\u002f Dry\",7.5,7.5,7.33,7.33,7.33,7.33,10.0,10.0,10.0,0.1,0,0,4,2015],[\"Arabica\",\"North America\",\"Mexico\",\"Typica\",\"Green\",\"Washed \\u002f Wet\",7.42,7.42,7.25,7.5,7.33,7.42,10.0,10.0,10.0,0.11,0,0,0,2015],[\"Arabica\",\"South America\",\"Colombia\",\"Caturra\",\"Bluish-Green\",\"Washed \\u002f Wet\",7.5,7.5,7.0,7.42,7.5,7.58,10.0,10.0,10.0,0.0,0,2,0,2014],[\"Arabica\",\"North America\",\"United States\",\"Hawaiian Kona\",\"Bluish-Green\",\"Natural \\u002f Dry\",7.83,7.83,7.83,8.0,7.83,7.83,10.0,6.67,10.0,0.0,0,1,1,2014],[\"Arabica\",\"South America\",\"Brazil\",\"Bourbon\",\"Bluish-Green\",\"Semi-washed \\u002f Semi-pulped\",7.75,7.75,7.5,7.42,7.83,7.75,9.33,9.33,9.33,0.12,0,0,0,2014],[\"Arabica\",\"North America\",\"Guatemala\",\"Bourbon\",\"Green\",\"Washed \\u002f Wet\",7.83,7.67,7.33,7.33,7.67,7.83,9.33,10.0,9.33,0.11,0,0,1,2014],[\"Arabica\",\"North America\",\"Mexico\",\"Bourbon\",\"Green\",\"Washed \\u002f Wet\",7.83,7.33,7.25,7.58,7.25,7.33,10.0,10.0,10.0,0.12,0,0,2,2013],[\"Arabica\",\"North America\",\"Mexico\",\"Typica\",\"Green\",\"Semi-washed \\u002f Semi-pulped\",7.33,7.33,7.25,7.5,7.5,7.5,10.0,10.0,10.0,0.12,0,0,10,2013],[\"Arabica\",\"South America\",\"Brazil\",\"Mundo Novo\",null,null,7.33,7.67,7.25,7.5,7.5,7.25,10.0,10.0,10.0,0.02,0,0,2,2012],[\"Arabica\",\"South America\",\"Colombia\",null,null,null,7.58,7.5,7.17,7.58,7.33,7.33,10.0,10.0,10.0,0.05,0,0,0,2012],[\"Arabica\",\"North America\",\"United States\",null,null,null,7.25,7.58,7.83,7.67,7.75,7.75,9.33,9.33,10.0,0.02,0,3,12,2011],[\"Arabica\",\"North America\",\"Guatemala\",\"Bourbon\",\"Green\",\"Washed \\u002f Wet\",7.5,7.5,7.25,7.42,7.42,7.33,10.0,10.0,10.0,0.11,1,0,1,2018],[\"Arabica\",\"Asia\",\"Vietnam\",\"Caturra\",\"Bluish-Green\",\"Washed \\u002f Wet\",7.0,7.08,7.33,7.5,7.5,7.33,10.0,10.0,10.0,0.12,0,0,0,2016],[\"Arabica\",\"Africa\",\"Tanzania\",\"Other\",\"Bluish-Green\",\"Washed \\u002f Wet\",7.42,7.42,7.42,7.42,7.33,7.33,10.0,10.0,10.0,0.12,0,0,4,2016],[\"Arabica\",\"South America\",\"Brazil\",null,\"Bluish-Green\",\"Natural \\u002f Dry\",7.17,7.25,7.17,7.25,7.42,8.25,10.0,10.0,10.0,0.1,0,0,1,2015],[\"Arabica\",\"North America\",\"Mexico\",\"Bourbon\",null,\"Washed \\u002f Wet\",7.5,7.5,7.33,7.42,7.25,7.25,10.0,10.0,10.0,0.13,0,2,9,2013],[\"Arabica\",\"North America\",\"Mexico\",\"Mundo Novo\",\"Green\",\"Washed \\u002f Wet\",7.42,7.5,7.17,7.67,7.33,7.42,10.0,10.0,10.0,0.13,0,0,23,2013],[\"Arabica\",\"North America\",\"Mexico\",\"Typica\",\"Green\",\"Washed \\u002f Wet\",7.42,7.5,7.33,7.58,7.33,7.33,10.0,10.0,10.0,0.11,0,0,1,2013],[\"Arabica\",\"North America\",\"Mexico\",\"Caturra\",\"Green\",\"Washed \\u002f Wet\",7.33,7.42,7.33,7.67,7.42,7.25,10.0,10.0,10.0,0.12,0,10,14,2013],[\"Arabica\",\"North America\",\"Mexico\",\"Typica\",null,\"Washed \\u002f Wet\",7.5,7.42,7.25,7.33,7.67,7.25,10.0,10.0,10.0,0.12,0,0,1,2013],[\"Arabica\",\"South America\",\"Colombia\",\"Caturra\",\"Green\",\"Washed \\u002f Wet\",7.33,7.42,7.33,7.33,7.5,7.67,10.0,10.0,10.0,0.0,0,0,1,2012],[\"Arabica\",\"South America\",\"Colombia\",null,null,null,7.42,7.58,6.92,7.08,7.25,8.0,10.0,10.0,10.0,0.08,0,0,0,2012],[\"Arabica\",\"South America\",\"Brazil\",\"Bourbon\",\"Green\",\"Natural \\u002f Dry\",7.42,7.5,7.25,7.5,7.5,7.25,10.0,10.0,10.0,0.11,0,0,5,2018],[\"Arabica\",\"North America\",\"Guatemala\",\"Bourbon\",\"Green\",\"Washed \\u002f Wet\",7.42,7.42,7.08,7.42,7.33,7.42,10.0,10.0,10.0,0.1,0,0,1,2018],[\"Arabica\",\"North America\",\"Guatemala\",\"Bourbon\",\"Green\",\"Washed \\u002f Wet\",7.42,7.33,7.17,7.67,7.33,7.42,10.0,10.0,10.0,0.12,1,0,3,2018],[\"Arabica\",\"North America\",\"Honduras\",\"Catuai\",\"Blue-Green\",\"Washed \\u002f Wet\",7.58,7.5,7.33,7.33,7.42,7.25,10.0,10.0,10.0,0.11,0,0,2,2017],[\"Arabica\",\"Africa\",\"Tanzania\",null,\"Green\",null,7.17,7.33,7.33,7.42,7.5,7.33,10.0,10.0,10.0,0.0,0,0,1,2017],[\"Arabica\",\"North America\",\"Nicaragua\",null,\"Green\",null,7.58,7.5,7.25,7.25,7.5,7.25,10.0,10.0,10.0,0.1,0,0,1,2017],[\"Arabica\",\"South America\",\"Colombia\",null,null,null,7.75,7.75,7.75,7.67,5.25,7.83,10.0,10.0,10.0,0.0,1,0,1,2017],[\"Arabica\",\"South America\",\"Brazil\",\"Yellow Bourbon\",\"Green\",\"Natural \\u002f Dry\",7.25,7.75,6.92,7.42,7.5,7.58,10.0,10.0,10.0,0.0,0,0,0,2016],[\"Arabica\",\"Africa\",\"Tanzania\",\"Other\",\"Green\",\"Washed \\u002f Wet\",7.42,7.33,7.25,7.42,7.5,7.42,10.0,10.0,10.0,0.12,0,0,0,2016],[\"Arabica\",\"Africa\",\"Tanzania\",\"Other\",\"Green\",\"Washed \\u002f Wet\",7.33,7.33,7.5,7.25,7.42,7.33,10.0,10.0,10.0,0.12,0,0,7,2015],[\"Arabica\",\"South America\",\"Brazil\",\"Bourbon\",\"Green\",\"Washed \\u002f Wet\",7.25,7.42,7.25,7.5,7.5,7.42,10.0,10.0,10.0,0.1,0,0,2,2015],[\"Arabica\",\"Asia\",\"Indonesia\",\"Sumatra\",\"Bluish-Green\",\"Semi-washed \\u002f Semi-pulped\",7.17,7.42,7.33,7.42,7.33,7.42,10.0,10.0,10.0,0.11,0,0,0,2015],[\"Arabica\",\"North America\",\"Honduras\",\"Caturra\",\"Green\",\"Natural \\u002f Dry\",7.5,7.33,7.5,7.5,7.17,7.17,10.0,10.0,10.0,0.1,0,0,5,2015],[\"Arabica\",\"North America\",\"Costa Rica\",\"Caturra\",\"Green\",\"Washed \\u002f Wet\",7.5,7.17,7.17,7.17,7.5,7.08,10.0,10.0,10.0,0.11,0,0,3,2015],[\"Arabica\",\"North America\",\"Mexico\",null,\"Green\",\"Washed \\u002f Wet\",7.42,7.42,7.67,8.0,7.58,7.5,9.33,9.33,10.0,0.0,0,0,4,2015],[\"Arabica\",\"Asia\",\"Taiwan\",\"Typica\",\"Green\",\"Semi-washed \\u002f Semi-pulped\",7.5,7.5,7.5,7.25,7.42,7.25,10.0,10.0,10.0,0.11,0,0,0,2014],[\"Arabica\",\"Asia\",\"Taiwan\",\"Typica\",\"Green\",\"Washed \\u002f Wet\",7.58,7.42,7.33,7.42,7.33,7.33,10.0,10.0,10.0,0.11,0,0,0,2014],[\"Arabica\",\"North America\",\"Mexico\",\"Typica\",\"Green\",\"Washed \\u002f Wet\",7.5,7.42,7.08,7.58,7.33,7.33,10.0,10.0,10.0,0.12,0,0,6,2014],[\"Arabica\",\"North America\",\"Guatemala\",\"Bourbon\",\"Green\",\"Washed \\u002f Wet\",7.5,7.67,7.33,7.33,7.33,7.33,10.0,10.0,10.0,0.11,0,0,4,2013],[\"Arabica\",\"North America\",\"Mexico\",\"Typica\",\"Green\",\"Washed \\u002f Wet\",7.25,7.67,7.58,7.67,7.67,7.58,8.67,10.0,10.0,0.13,0,1,13,2013],[\"Arabica\",\"North America\",\"Mexico\",\"Bourbon\",\"Green\",\"Washed \\u002f Wet\",7.67,7.25,7.17,7.75,7.5,7.25,10.0,10.0,10.0,0.11,0,0,4,2013],[\"Arabica\",\"North America\",\"Mexico\",\"Bourbon\",\"Green\",\"Washed \\u002f Wet\",7.5,7.42,7.33,7.42,7.42,7.42,10.0,10.0,10.0,0.11,0,0,2,2013],[\"Arabica\",\"North America\",\"Mexico\",\"Bourbon\",\"Green\",\"Washed \\u002f Wet\",7.58,7.42,7.25,7.58,7.25,7.17,10.0,10.0,10.0,0.11,0,0,2,2013],[\"Arabica\",\"North America\",\"Mexico\",\"Caturra\",\"Green\",\"Semi-washed \\u002f Semi-pulped\",7.75,7.58,7.25,7.17,7.58,7.33,9.33,10.0,10.0,0.11,0,0,4,2013],[\"Arabica\",\"North America\",\"United States\",\"Hawaiian Kona\",\"Green\",\"Washed \\u002f Wet\",7.42,7.33,7.33,7.33,7.17,7.83,10.0,10.0,10.0,0.1,0,1,1,2013],[\"Arabica\",\"North America\",\"Honduras\",\"Catimor\",\"Blue-Green\",\"Washed \\u002f Wet\",7.5,7.42,7.08,7.42,7.5,7.33,10.0,10.0,10.0,0.11,1,0,3,2019],[\"Arabica\",\"North America\",\"Guatemala\",\"Bourbon\",\"Green\",\"Washed \\u002f Wet\",7.42,7.42,7.08,7.5,7.42,7.33,10.0,10.0,10.0,0.12,0,0,0,2018],[\"Arabica\",\"Asia\",\"Taiwan\",\"Typica\",\"Blue-Green\",\"Washed \\u002f Wet\",7.42,7.42,7.25,7.67,7.33,7.25,10.0,10.0,10.0,0.1,0,0,0,2017],[\"Arabica\",\"North America\",\"Costa Rica\",\"Caturra\",\"Green\",\"Washed \\u002f Wet\",7.58,7.42,7.5,7.17,7.08,7.58,10.0,10.0,10.0,0.12,0,0,1,2016],[\"Arabica\",\"Africa\",\"Tanzania\",\"Other\",\"Green\",\"Washed \\u002f Wet\",7.42,7.42,7.33,7.42,7.42,7.33,10.0,10.0,10.0,0.12,0,0,5,2015],[\"Arabica\",\"Africa\",\"Malawi\",\"Gesha\",\"Green\",\"Washed \\u002f Wet\",7.42,7.42,7.17,7.58,7.33,7.33,10.0,10.0,10.0,0.13,0,0,0,2015],[\"Arabica\",\"Asia\",\"Taiwan\",\"Typica\",null,\"Semi-washed \\u002f Semi-pulped\",7.33,7.17,7.08,7.08,8.33,8.25,10.0,10.0,9.33,0.0,0,0,0,2015],[\"Arabica\",\"South America\",\"Brazil\",\"Yellow Bourbon\",\"Blue-Green\",\"Washed \\u002f Wet\",7.42,7.42,7.33,7.33,7.5,7.25,10.0,10.0,10.0,0.12,0,0,3,2014],[\"Arabica\",\"North America\",\"Guatemala\",\"Bourbon\",\"Green\",\"Washed \\u002f Wet\",7.42,7.33,7.17,7.58,7.42,7.5,10.0,10.0,10.0,0.12,0,0,1,2014],[\"Arabica\",\"North America\",\"Mexico\",\"Typica\",\"Green\",\"Washed \\u002f Wet\",7.67,7.5,7.42,7.5,6.75,7.42,10.0,10.0,10.0,0.12,0,0,9,2014],[\"Arabica\",\"North America\",\"Mexico\",\"Marigojipe\",null,\"Natural \\u002f Dry\",7.33,7.5,7.25,7.5,7.5,7.17,10.0,10.0,10.0,0.11,0,0,0,2013],[\"Arabica\",\"North America\",\"Mexico\",\"Typica\",null,\"Natural \\u002f Dry\",7.67,7.58,7.42,7.58,7.58,7.42,10.0,10.0,8.67,0.11,0,0,2,2013],[\"Arabica\",\"Asia\",\"Thailand\",null,null,null,7.08,7.33,7.58,7.58,7.17,7.5,10.0,10.0,10.0,0.01,0,0,0,2012],[\"Arabica\",\"Asia\",\"Thailand\",null,null,null,7.33,7.33,7.17,7.5,7.58,7.33,10.0,10.0,10.0,0.2,0,0,0,2012],[\"Arabica\",\"North America\",\"Costa Rica\",null,null,null,7.25,7.17,7.33,7.33,7.5,7.75,10.0,10.0,10.0,0.0,0,0,1,2012],[\"Arabica\",\"North America\",\"Guatemala\",\"Bourbon\",\"Green\",\"Washed \\u002f Wet\",7.67,7.58,7.17,7.42,7.33,7.42,9.33,10.0,10.0,0.1,0,0,0,2018],[\"Arabica\",\"North America\",\"Nicaragua\",\"Caturra\",\"Green\",\"Other\",7.5,7.42,7.33,7.33,7.25,7.33,10.0,10.0,10.0,0.11,0,0,3,2018],[\"Arabica\",\"North America\",\"Honduras\",\"Caturra\",\"Green\",\"Washed \\u002f Wet\",7.5,7.5,7.33,7.42,7.17,7.25,10.0,10.0,10.0,0.1,0,0,5,2018],[\"Arabica\",\"North America\",\"Guatemala\",\"Bourbon\",\"Green\",null,7.5,7.42,7.25,7.25,7.5,7.25,10.0,10.0,10.0,0.12,0,0,0,2018],[\"Arabica\",\"Asia\",\"Taiwan\",\"Typica\",\"Green\",\"Natural \\u002f Dry\",7.5,7.42,7.33,7.08,7.58,7.25,10.0,10.0,10.0,0.12,0,0,2,2016],[\"Arabica\",\"Asia\",\"Myanmar\",\"Catuai\",\"Green\",\"Washed \\u002f Wet\",7.25,7.42,7.25,7.5,7.33,7.33,10.0,10.0,10.0,0.0,0,0,4,2016],[\"Arabica\",\"North America\",\"Costa Rica\",\"Caturra\",\"Green\",\"Washed \\u002f Wet\",7.83,7.33,7.08,7.08,7.33,7.5,10.0,10.0,10.0,0.12,0,1,2,2016],[\"Arabica\",\"Africa\",\"Malawi\",\"Gesha\",\"Green\",\"Washed \\u002f Wet\",7.67,7.42,6.92,7.5,7.5,7.17,10.0,10.0,10.0,0.12,0,0,0,2015],[\"Arabica\",\"North America\",\"Guatemala\",\"Other\",\"Green\",\"Washed \\u002f Wet\",7.5,7.42,7.17,7.58,7.25,7.42,10.0,10.0,10.0,0.12,0,0,0,2015],[\"Arabica\",\"Asia\",\"Taiwan\",\"Typica\",\"Blue-Green\",\"Washed \\u002f Wet\",7.42,7.33,7.67,7.33,7.42,7.5,10.0,10.0,9.33,0.11,0,0,0,2015],[\"Arabica\",\"South America\",\"Brazil\",\"Yellow Bourbon\",\"Green\",\"Semi-washed \\u002f Semi-pulped\",7.58,7.5,7.5,7.67,7.67,7.83,9.33,9.33,9.33,0.0,0,1,1,2015],[\"Arabica\",\"North America\",\"Haiti\",\"Blue Mountain\",\"Bluish-Green\",\"Washed \\u002f Wet\",7.42,7.33,7.25,7.42,7.42,7.33,10.0,10.0,10.0,0.11,0,0,0,2015],[\"Arabica\",\"Asia\",\"Taiwan\",\"Typica\",\"Green\",\"Other\",7.5,7.42,7.25,7.25,7.33,7.33,10.0,10.0,10.0,0.11,0,0,0,2014],[\"Arabica\",\"North America\",\"Mexico\",\"Typica\",\"Green\",\"Washed \\u002f Wet\",7.33,7.33,7.17,7.42,7.5,7.5,10.0,10.0,10.0,0.13,0,0,2,2014],[\"Arabica\",\"North America\",\"Mexico\",\"Typica\",\"Green\",\"Washed \\u002f Wet\",7.58,7.42,7.25,7.42,7.33,7.33,10.0,10.0,10.0,0.12,0,0,5,2013],[\"Arabica\",\"North America\",\"Mexico\",\"Catuai\",\"Green\",\"Washed \\u002f Wet\",7.42,7.25,7.17,7.42,7.17,8.0,10.0,10.0,10.0,0.12,0,0,10,2013],[\"Arabica\",\"North America\",\"Mexico\",\"Typica\",\"Green\",\"Semi-washed \\u002f Semi-pulped\",7.33,7.5,7.33,7.33,7.33,7.42,10.0,10.0,10.0,0.11,0,0,6,2013],[\"Arabica\",\"North America\",\"Mexico\",\"Bourbon\",\"Green\",\"Washed \\u002f Wet\",7.42,7.42,7.33,7.17,7.25,7.42,10.0,10.0,10.0,0.13,0,0,5,2013],[\"Arabica\",\"North America\",\"Mexico\",\"Typica\",\"Green\",\"Natural \\u002f Dry\",7.5,7.5,7.25,7.5,7.42,7.58,9.33,10.0,10.0,0.11,0,0,3,2013],[\"Arabica\",\"Asia\",\"Indonesia\",\"Other\",\"Green\",\"Washed \\u002f Wet\",7.75,7.17,7.17,7.33,7.58,7.33,10.0,10.0,10.0,0.12,0,0,0,2013],[\"Arabica\",\"South America\",\"Brazil\",\"Bourbon\",\"Blue-Green\",\"Semi-washed \\u002f Semi-pulped\",7.5,7.42,7.17,7.42,7.5,7.33,10.0,10.0,10.0,0.12,0,0,2,2013],[\"Arabica\",\"North America\",\"Guatemala\",\"Bourbon\",\"Green\",\"Washed \\u002f Wet\",7.33,7.5,7.33,7.42,7.17,7.33,10.0,10.0,10.0,0.11,0,0,1,2013],[\"Arabica\",\"South America\",\"Colombia\",null,null,null,7.42,7.42,7.17,7.42,7.42,7.33,10.0,10.0,10.0,0.06,0,1,0,2012],[\"Arabica\",\"North America\",\"United States\",null,null,null,7.33,7.33,7.33,7.5,7.5,7.83,9.33,10.0,10.0,0.0,0,0,17,2011],[\"Arabica\",\"North America\",\"Mexico\",\"Mundo Novo\",\"Green\",\"Washed \\u002f Wet\",7.58,7.33,7.08,7.33,7.5,7.33,10.0,10.0,10.0,0.12,5,1,17,2018],[\"Arabica\",\"North America\",\"Guatemala\",\"Catuai\",\"Green\",\"Washed \\u002f Wet\",7.42,7.33,7.08,7.58,7.33,7.25,10.0,10.0,10.0,0.1,0,0,0,2017],[\"Arabica\",\"South America\",\"Brazil\",\"Catuai\",\"Green\",\"Natural \\u002f Dry\",7.33,7.5,7.5,7.33,6.83,7.42,10.0,10.0,10.0,0.11,0,0,2,2016],[\"Arabica\",\"North America\",\"Honduras\",\"Catuai\",\"Green\",\"Washed \\u002f Wet\",7.5,7.33,7.17,7.25,7.5,7.42,10.0,10.0,10.0,0.12,0,0,1,2016],[\"Arabica\",\"Asia\",\"Taiwan\",\"Typica\",\"Green\",\"Washed \\u002f Wet\",7.83,7.75,7.42,7.17,7.08,7.08,10.0,10.0,10.0,0.12,0,0,0,2015],[\"Arabica\",\"Africa\",\"Malawi\",\"Gesha\",\"Bluish-Green\",\"Washed \\u002f Wet\",7.58,7.17,7.33,7.42,7.08,7.42,10.0,10.0,10.0,0.12,0,0,0,2015],[\"Arabica\",\"South America\",\"Brazil\",\"Bourbon\",\"Green\",\"Natural \\u002f Dry\",7.25,7.5,7.42,7.17,7.33,7.33,10.0,10.0,10.0,0.0,0,0,0,2015],[\"Arabica\",\"North America\",\"Guatemala\",\"Bourbon\",\"Green\",\"Washed \\u002f Wet\",7.42,7.5,7.17,7.42,7.42,7.42,10.0,10.0,10.0,0.1,0,0,6,2015],[\"Arabica\",\"North America\",\"Mexico\",\"Typica\",\"Green\",\"Washed \\u002f Wet\",7.67,7.33,7.25,7.17,7.25,7.42,10.0,10.0,10.0,0.0,0,1,1,2015],[\"Arabica\",\"South America\",\"Peru\",null,\"Bluish-Green\",\"Washed \\u002f Wet\",7.42,7.42,7.17,7.33,7.42,7.42,10.0,10.0,10.0,0.1,0,1,5,2015],[\"Arabica\",\"North America\",\"Guatemala\",\"Bourbon\",\"Green\",\"Washed \\u002f Wet\",7.42,7.33,7.25,7.42,7.42,7.5,10.0,10.0,10.0,0.12,0,0,4,2014],[\"Arabica\",\"North America\",\"Mexico\",\"Caturra\",null,\"Washed \\u002f Wet\",7.42,7.33,7.25,7.17,7.25,7.42,10.0,10.0,10.0,0.13,0,1,8,2013],[\"Arabica\",\"North America\",\"Mexico\",\"Typica\",null,\"Washed \\u002f Wet\",7.42,7.42,7.25,7.25,7.5,7.33,10.0,10.0,10.0,0.13,0,0,1,2013],[\"Arabica\",\"South America\",\"Colombia\",\"Caturra\",\"Green\",\"Natural \\u002f Dry\",7.5,7.42,7.25,7.17,7.17,7.75,10.0,10.0,10.0,0.11,0,0,0,2012],[\"Arabica\",\"South America\",\"Colombia\",null,null,null,7.75,7.33,7.42,7.0,7.33,7.25,10.0,10.0,10.0,0.16,0,0,2,2012],[\"Arabica\",\"North America\",\"United States\",\"Peaberry\",null,null,7.83,7.0,7.0,7.58,7.58,7.5,10.0,10.0,10.0,0.01,0,0,10,2011],[\"Arabica\",\"South America\",\"Colombia\",\"Caturra\",null,\"Washed \\u002f Wet\",7.5,7.33,7.33,7.17,7.33,7.42,10.0,10.0,10.0,0.0,0,0,0,2017],[\"Arabica\",\"North America\",\"Honduras\",\"Caturra\",\"Bluish-Green\",\"Washed \\u002f Wet\",7.5,7.5,7.0,7.17,7.5,7.33,10.0,10.0,10.0,0.11,2,0,3,2017],[\"Arabica\",\"North America\",\"Mexico\",null,\"Green\",null,7.67,7.42,7.0,7.42,7.58,7.08,10.0,10.0,10.0,0.12,2,0,0,2017],[\"Arabica\",\"South America\",\"Brazil\",\"Catuai\",\"Green\",\"Natural \\u002f Dry\",7.25,7.33,7.33,7.33,7.33,7.42,10.0,10.0,10.0,0.11,0,0,14,2016],[\"Arabica\",\"North America\",\"Honduras\",\"Catuai\",\"Green\",\"Washed \\u002f Wet\",7.58,7.42,7.17,7.42,7.17,7.17,10.0,10.0,10.0,0.09,0,0,4,2016],[\"Arabica\",\"South America\",\"Brazil\",\"Yellow Bourbon\",\"Green\",\"Other\",7.17,7.33,7.42,7.25,7.42,7.33,10.0,10.0,10.0,0.12,0,0,6,2015],[\"Arabica\",\"Asia\",\"Philippines\",\"Other\",\"Green\",\"Washed \\u002f Wet\",7.08,7.33,7.42,7.33,7.33,7.5,10.0,10.0,10.0,0.14,0,0,3,2015],[\"Arabica\",\"Africa\",\"Malawi\",\"Gesha\",\"Green\",\"Washed \\u002f Wet\",7.75,7.33,7.08,7.33,7.33,7.25,10.0,10.0,10.0,0.13,0,0,1,2015],[\"Arabica\",\"North America\",\"Honduras\",\"Catuai\",\"Green\",\"Washed \\u002f Wet\",7.33,7.33,7.17,7.33,7.5,7.33,10.0,10.0,10.0,0.12,0,0,3,2015],[\"Arabica\",\"North America\",\"Mexico\",\"Typica\",\"Green\",\"Washed \\u002f Wet\",7.58,7.42,7.25,7.33,7.25,7.25,10.0,10.0,10.0,0.13,0,4,13,2013],[\"Arabica\",\"North America\",\"Mexico\",\"Typica\",null,\"Washed \\u002f Wet\",7.33,7.25,7.17,7.42,7.58,7.33,10.0,10.0,10.0,0.12,0,0,4,2013],[\"Arabica\",\"South America\",\"Brazil\",\"Catuai\",\"Green\",\"Natural \\u002f Dry\",7.5,7.58,7.5,7.5,7.75,7.83,9.33,9.33,9.33,0.11,0,0,0,2018],[\"Arabica\",\"Asia\",\"Taiwan\",\"Typica\",\"Green\",\"Natural \\u002f Dry\",7.83,7.75,7.67,7.83,7.83,7.75,9.33,10.0,10.0,0.12,0,0,0,2017],[\"Arabica\",\"South America\",\"Brazil\",\"Yellow Bourbon\",\"Green\",\"Natural \\u002f Dry\",7.17,7.42,7.17,7.08,6.92,8.17,10.0,10.0,10.0,0.0,0,0,1,2016],[\"Arabica\",\"North America\",\"Nicaragua\",\"Catuai\",\"Green\",\"Washed \\u002f Wet\",7.08,7.5,7.33,7.17,7.42,7.25,10.0,10.0,10.0,0.1,0,0,4,2016],[\"Arabica\",\"North America\",\"Honduras\",\"Catuai\",\"Green\",\"Washed \\u002f Wet\",7.42,7.17,7.17,7.5,7.33,7.25,10.0,10.0,10.0,0.12,0,0,1,2016],[\"Arabica\",\"North America\",\"Guatemala\",\"Pacamara\",\"Bluish-Green\",\"Washed \\u002f Wet\",7.33,7.42,7.17,7.25,7.42,7.33,10.0,10.0,10.0,0.09,0,0,2,2016],[\"Arabica\",\"Africa\",\"Tanzania\",\"Other\",\"Green\",\"Washed \\u002f Wet\",7.33,7.17,7.17,7.5,7.25,7.42,10.0,10.0,10.0,0.13,0,0,5,2015],[\"Arabica\",\"Asia\",\"Taiwan\",\"Typica\",\"Green\",\"Semi-washed \\u002f Semi-pulped\",7.5,7.5,7.25,7.25,7.25,7.25,10.0,10.0,10.0,0.11,0,0,0,2014],[\"Arabica\",\"North America\",\"Guatemala\",\"Caturra\",\"Green\",\"Washed \\u002f Wet\",7.5,7.33,7.5,7.58,7.0,7.25,10.0,10.0,10.0,0.11,0,0,4,2014],[\"Arabica\",\"North America\",\"Mexico\",\"Typica\",\"Green\",\"Washed \\u002f Wet\",7.42,7.42,7.33,7.33,7.5,7.42,9.33,10.0,10.0,0.12,0,0,1,2013],[\"Arabica\",\"North America\",\"Nicaragua\",null,\"Green\",\"Washed \\u002f Wet\",7.33,7.5,7.17,7.17,7.58,7.17,10.0,10.0,10.0,0.09,0,0,7,2018],[\"Arabica\",\"Africa\",\"Tanzania\",\"Bourbon\",\"Green\",\"Washed \\u002f Wet\",7.67,7.17,7.17,7.33,7.5,7.17,10.0,10.0,10.0,0.12,0,0,2,2016],[\"Arabica\",\"North America\",\"Mexico\",\"Caturra\",\"Green\",\"Washed \\u002f Wet\",7.75,7.58,7.08,7.25,7.08,7.25,10.0,10.0,10.0,0.12,0,0,10,2016],[\"Arabica\",\"North America\",\"Costa Rica\",\"Caturra\",\"Bluish-Green\",\"Washed \\u002f Wet\",7.5,7.5,7.33,7.17,7.08,7.17,10.0,10.0,10.0,0.11,0,0,0,2016],[\"Arabica\",\"North America\",\"Honduras\",\"Catuai\",\"Green\",\"Natural \\u002f Dry\",7.42,7.33,7.0,7.42,7.33,7.33,10.0,10.0,10.0,0.13,0,0,1,2016],[\"Arabica\",\"Asia\",\"Thailand\",\"Caturra\",\"Blue-Green\",\"Washed \\u002f Wet\",6.83,7.42,7.42,7.17,7.5,7.42,10.0,10.0,10.0,0.12,0,0,0,2016],[\"Arabica\",\"Asia\",\"Philippines\",\"Typica\",null,\"Natural \\u002f Dry\",7.25,7.25,7.25,7.08,7.58,7.5,10.0,10.0,10.0,0.0,0,0,4,2016],[\"Arabica\",\"Africa\",\"Tanzania\",\"Bourbon\",\"Bluish-Green\",\"Washed \\u002f Wet\",7.58,7.17,7.17,7.33,7.33,7.25,10.0,10.0,10.0,0.12,0,0,2,2015],[\"Arabica\",\"Africa\",\"Malawi\",\"Caturra\",\"Green\",\"Washed \\u002f Wet\",7.58,7.25,7.33,7.08,7.33,7.33,10.0,10.0,10.0,0.12,0,0,12,2015],[\"Arabica\",\"North America\",\"Costa Rica\",\"Catuai\",\"Green\",\"Washed \\u002f Wet\",7.33,7.08,7.33,7.25,7.33,7.58,10.0,10.0,10.0,0.11,0,0,3,2015],[\"Arabica\",\"South America\",\"Brazil\",\"Catuai\",\"Green\",\"Natural \\u002f Dry\",7.42,7.42,7.17,7.42,7.33,7.25,10.0,10.0,10.0,0.11,0,0,3,2015],[\"Arabica\",\"North America\",\"Mexico\",\"Typica\",\"Green\",\"Natural \\u002f Dry\",7.42,7.25,7.08,7.75,7.42,7.17,10.0,10.0,10.0,0.13,0,3,7,2013],[\"Arabica\",\"North America\",\"Guatemala\",\"Caturra\",\"Green\",\"Washed \\u002f Wet\",7.42,7.25,7.33,7.25,7.25,7.42,10.0,10.0,10.0,0.12,0,0,4,2013],[\"Arabica\",\"South America\",\"Brazil\",\"Mundo Novo\",\"Green\",\"Natural \\u002f Dry\",7.42,7.33,7.25,7.42,7.5,7.17,10.0,10.0,10.0,0.12,0,0,1,2013],[\"Arabica\",\"North America\",\"United States\",null,null,null,7.25,7.75,7.67,7.67,7.42,7.67,8.67,9.33,10.0,0.04,0,3,0,2012],[\"Arabica\",\"Africa\",\"Ethiopia\",null,null,\"Natural \\u002f Dry\",7.42,7.33,7.17,7.33,7.42,7.17,10.0,10.0,10.0,0.11,0,0,1,2018],[\"Arabica\",\"South America\",\"Brazil\",\"Mundo Novo\",\"Green\",\"Natural \\u002f Dry\",7.58,7.42,7.5,7.25,7.75,7.58,9.33,10.0,9.33,0.11,0,5,8,2018],[\"Arabica\",\"North America\",\"Nicaragua\",\"Other\",null,\"Washed \\u002f Wet\",7.33,7.33,7.33,7.42,7.33,7.33,10.0,10.0,10.0,0.11,0,0,1,2016],[\"Arabica\",\"North America\",\"United States\",\"Pache Comun\",null,\"Natural \\u002f Dry\",7.42,7.17,7.33,7.42,7.25,7.33,10.0,10.0,10.0,0.0,0,0,0,2016],[\"Arabica\",\"Africa\",\"Tanzania\",\"Other\",\"Green\",\"Washed \\u002f Wet\",7.42,7.33,7.33,7.25,7.25,7.33,10.0,10.0,10.0,0.13,0,0,2,2016],[\"Arabica\",\"North America\",\"Costa Rica\",\"Caturra\",\"Green\",\"Washed \\u002f Wet\",7.42,7.25,7.17,7.25,7.25,7.58,10.0,10.0,10.0,0.13,0,0,0,2015],[\"Arabica\",\"North America\",\"United States\",\"Other\",\"Green\",\"Washed \\u002f Wet\",7.67,7.75,7.67,7.58,7.58,7.67,6.67,10.0,10.0,0.0,0,0,0,2015],[\"Arabica\",\"North America\",\"Mexico\",\"Typica\",null,\"Washed \\u002f Wet\",7.25,7.42,7.33,7.33,7.17,7.33,10.0,10.0,10.0,0.13,0,5,16,2013],[\"Arabica\",\"North America\",\"Mexico\",\"Typica\",\"Green\",\"Washed \\u002f Wet\",7.33,7.25,7.33,7.42,7.25,7.42,10.0,10.0,10.0,0.12,0,0,2,2013],[\"Arabica\",\"North America\",\"Mexico\",\"Typica\",\"Green\",\"Washed \\u002f Wet\",7.33,7.33,7.25,7.42,7.25,7.25,10.0,10.0,10.0,0.11,0,0,5,2013],[\"Arabica\",\"North America\",\"Mexico\",\"Typica\",\"Green\",\"Washed \\u002f Wet\",7.42,7.33,7.25,7.42,7.17,7.25,10.0,10.0,10.0,0.1,0,0,1,2013],[\"Arabica\",\"North America\",\"United States\",\"Hawaiian Kona\",\"Blue-Green\",\"Washed \\u002f Wet\",7.42,7.42,7.25,7.58,6.92,7.17,10.0,10.0,10.0,0.06,0,0,0,2013],[\"Arabica\",\"South America\",\"Brazil\",\"Bourbon\",\"Green\",\"Pulped natural \\u002f honey\",7.25,7.25,7.17,7.5,7.33,7.17,10.0,10.0,10.0,0.11,6,0,9,2019],[\"Arabica\",\"North America\",\"El Salvador\",\"Bourbon\",\"Green\",\"Washed \\u002f Wet\",7.42,7.08,7.08,7.33,7.25,7.58,10.0,10.0,10.0,0.0,2,0,6,2018],[\"Arabica\",\"South America\",\"Brazil\",\"Yellow Bourbon\",\"Bluish-Green\",\"Pulped natural \\u002f honey\",7.33,7.17,7.17,7.67,7.33,7.17,10.0,10.0,10.0,0.11,2,0,3,2017],[\"Arabica\",\"North America\",\"Guatemala\",\"Bourbon\",\"Green\",\"Washed \\u002f Wet\",7.42,7.25,7.17,7.5,7.25,7.17,10.0,10.0,10.0,0.09,0,0,8,2017],[\"Arabica\",\"South America\",\"Colombia\",\"Caturra\",\"Green\",\"Washed \\u002f Wet\",7.67,7.5,7.42,5.25,7.67,7.75,10.0,10.0,10.0,0.0,4,0,4,2017],[\"Arabica\",\"North America\",\"Guatemala\",\"Bourbon\",\"Green\",\"Washed \\u002f Wet\",7.5,7.25,7.0,7.25,7.5,7.25,10.0,10.0,10.0,0.11,0,0,1,2016],[\"Arabica\",\"Asia\",\"Taiwan\",\"Typica\",\"Bluish-Green\",\"Washed \\u002f Wet\",7.25,7.17,7.17,7.25,7.5,7.33,10.0,10.0,10.0,0.12,0,0,0,2016],[\"Arabica\",\"North America\",\"Honduras\",\"Caturra\",\"Green\",\"Natural \\u002f Dry\",7.42,7.25,7.25,7.33,7.25,7.17,10.0,10.0,10.0,0.12,0,0,1,2016],[\"Arabica\",\"South America\",\"Brazil\",\"Mundo Novo\",\"Green\",\"Natural \\u002f Dry\",7.67,7.75,7.83,7.75,7.83,7.75,10.0,6.67,10.0,0.12,0,0,0,2016],[\"Arabica\",\"Africa\",\"Tanzania\",\"Other\",\"Green\",\"Washed \\u002f Wet\",7.33,7.33,7.08,7.42,7.17,7.33,10.0,10.0,10.0,0.12,0,0,5,2015],[\"Arabica\",\"Africa\",\"Uganda\",\"SL14\",\"Green\",\"Natural \\u002f Dry\",7.33,6.92,7.17,7.33,7.42,7.42,10.0,10.0,10.0,0.12,0,0,3,2015],[\"Arabica\",\"Asia\",\"Taiwan\",\"Typica\",\"Green\",\"Semi-washed \\u002f Semi-pulped\",7.5,6.92,7.33,7.33,7.33,7.33,10.0,10.0,10.0,0.11,0,0,0,2014],[\"Arabica\",\"Asia\",\"Thailand\",null,\"Green\",\"Washed \\u002f Wet\",7.33,7.42,7.25,7.42,7.25,7.17,10.0,10.0,10.0,0.0,0,0,3,2014],[\"Arabica\",\"North America\",\"Mexico\",\"Other\",\"Green\",\"Washed \\u002f Wet\",7.08,7.33,7.33,7.33,7.42,7.25,10.0,10.0,10.0,0.12,0,0,12,2013],[\"Arabica\",\"North America\",\"Mexico\",\"Typica\",\"Green\",\"Washed \\u002f Wet\",7.58,7.67,7.5,7.67,7.58,7.5,8.0,10.0,10.0,0.0,0,0,8,2013],[\"Arabica\",\"Asia\",\"Taiwan\",\"Other\",\"Blue-Green\",\"Washed \\u002f Wet\",7.33,7.17,7.25,7.33,7.33,7.25,10.0,10.0,10.0,0.0,0,0,0,2018],[\"Arabica\",\"North America\",\"Guatemala\",\"Bourbon\",\"Green\",\"Washed \\u002f Wet\",7.67,7.67,7.33,7.58,7.67,7.5,9.33,9.33,9.33,0.1,0,0,2,2018],[\"Arabica\",\"Africa\",\"Kenya\",\"SL28\",\"Green\",\"Washed \\u002f Wet\",7.17,7.58,7.5,7.5,8.0,7.75,10.0,10.0,10.0,0.11,0,0,3,2018],[\"Arabica\",\"North America\",\"Mexico\",\"Bourbon\",\"Green\",\"Washed \\u002f Wet\",7.5,7.33,7.17,7.42,7.5,7.33,9.33,10.0,10.0,0.11,0,0,11,2018],[\"Arabica\",\"Asia\",\"Myanmar\",\"Other\",null,\"Other\",7.17,7.42,7.0,7.58,7.33,7.0,10.0,10.0,10.0,0.0,0,0,5,2016],[\"Arabica\",\"North America\",\"United States\",\"Hawaiian Kona\",\"Bluish-Green\",\"Natural \\u002f Dry\",7.42,7.08,7.17,7.17,7.58,7.25,10.0,10.0,10.0,0.1,0,2,5,2016],[\"Arabica\",\"Africa\",\"Tanzania\",\"Other\",\"Green\",\"Washed \\u002f Wet\",7.33,7.17,7.17,7.25,7.42,7.33,10.0,10.0,10.0,0.12,0,0,0,2015],[\"Arabica\",\"South America\",\"Brazil\",\"Yellow Bourbon\",\"Green\",\"Natural \\u002f Dry\",7.25,7.33,7.25,7.25,7.25,7.33,10.0,10.0,10.0,0.12,0,0,8,2015],[\"Arabica\",\"Asia\",\"Taiwan\",\"Typica\",\"Green\",\"Washed \\u002f Wet\",7.92,7.67,7.33,7.08,7.08,7.08,10.0,10.0,10.0,0.09,0,0,0,2015],[\"Arabica\",\"South America\",\"Brazil\",\"Bourbon\",null,\"Natural \\u002f Dry\",7.17,7.42,7.17,7.25,7.25,7.33,10.0,10.0,10.0,0.1,0,0,0,2015],[\"Arabica\",\"North America\",\"Nicaragua\",\"Caturra\",\"Green\",\"Washed \\u002f Wet\",7.33,7.08,7.25,7.0,7.5,7.42,10.0,10.0,10.0,0.1,0,1,3,2015],[\"Arabica\",\"North America\",\"Guatemala\",\"Pacas\",\"Green\",\"Washed \\u002f Wet\",7.58,7.42,6.92,7.5,7.25,7.17,10.0,10.0,10.0,0.12,0,2,5,2015],[\"Arabica\",\"Asia\",\"Taiwan\",\"Typica\",null,\"Washed \\u002f Wet\",7.42,7.25,7.25,7.25,7.25,7.25,10.0,10.0,10.0,0.11,0,0,0,2014],[\"Arabica\",\"Asia\",\"Taiwan\",\"Typica\",\"Green\",\"Other\",7.25,7.17,7.08,7.08,7.08,8.08,10.0,10.0,10.0,0.11,0,0,0,2014],[\"Arabica\",\"Asia\",\"Taiwan\",\"Typica\",\"Green\",\"Washed \\u002f Wet\",7.42,7.25,7.25,7.25,7.25,7.25,10.0,10.0,10.0,0.11,0,0,0,2014],[\"Arabica\",\"North America\",\"Mexico\",\"Typica\",\"Green\",\"Washed \\u002f Wet\",7.58,7.33,7.08,7.5,7.17,7.25,10.0,10.0,10.0,0.13,0,0,12,2013],[\"Arabica\",\"Asia\",\"Thailand\",\"Peaberry\",null,null,7.67,7.58,7.33,7.33,7.17,7.0,10.0,10.0,10.0,0.0,0,0,0,2011],[\"Arabica\",\"Asia\",\"Laos\",\"Catimor\",\"Green\",\"Washed \\u002f Wet\",7.42,7.33,7.17,7.17,7.17,7.25,10.0,10.0,10.0,0.0,0,0,0,2018],[\"Arabica\",\"North America\",\"Guatemala\",\"Caturra\",\"Green\",\"Washed \\u002f Wet\",7.67,7.25,7.08,7.33,7.17,7.25,10.0,10.0,10.0,0.11,0,0,1,2015],[\"Arabica\",\"North America\",\"Mexico\",\"Catuai\",\"Green\",\"Semi-washed \\u002f Semi-pulped\",7.17,7.08,7.25,7.42,7.25,7.33,10.0,10.0,10.0,0.13,0,0,7,2013],[\"Arabica\",\"North America\",\"Mexico\",\"Typica\",\"Green\",\"Washed \\u002f Wet\",7.33,7.25,7.33,7.33,7.25,7.17,10.0,10.0,10.0,0.11,0,0,3,2013],[\"Arabica\",\"North America\",\"Mexico\",\"Bourbon\",\"Green\",\"Washed \\u002f Wet\",7.5,7.17,7.33,7.25,7.17,7.17,10.0,10.0,10.0,0.13,0,0,1,2013],[\"Arabica\",\"North America\",\"United States\",\"Hawaiian Kona\",\"Blue-Green\",\"Washed \\u002f Wet\",7.42,7.33,7.0,7.25,7.33,7.5,10.0,10.0,10.0,0.1,0,2,0,2013],[\"Arabica\",\"South America\",\"Colombia\",null,null,null,7.33,7.33,7.0,6.83,7.33,7.67,10.0,10.0,10.0,0.01,0,0,1,2012],[\"Arabica\",\"South America\",\"Brazil\",null,\"Green\",\"Natural \\u002f Dry\",7.17,7.25,7.08,7.17,7.25,7.58,10.0,10.0,10.0,0.0,0,0,1,2016],[\"Arabica\",\"Asia\",\"Myanmar\",\"Catuai\",\"Green\",\"Washed \\u002f Wet\",6.92,7.5,7.0,7.58,7.5,7.08,10.0,10.0,10.0,0.0,0,0,2,2016],[\"Arabica\",\"North America\",\"Guatemala\",\"Caturra\",\"Green\",\"Washed \\u002f Wet\",7.5,7.33,7.0,7.42,7.17,7.17,10.0,10.0,10.0,0.12,0,0,1,2016],[\"Arabica\",\"North America\",\"Nicaragua\",\"Other\",\"Green\",\"Washed \\u002f Wet\",7.25,7.25,7.17,7.25,7.33,7.25,10.0,10.0,10.0,0.12,0,0,5,2016],[\"Arabica\",\"North America\",\"Honduras\",\"Caturra\",\"Green\",\"Natural \\u002f Dry\",7.5,7.33,7.0,7.42,7.25,7.17,10.0,10.0,10.0,0.11,0,0,2,2016],[\"Arabica\",\"North America\",\"Panama\",\"Caturra\",\"Green\",\"Other\",7.25,7.33,7.17,7.33,7.33,7.17,10.0,10.0,10.0,0.11,0,1,4,2016],[\"Arabica\",\"North America\",\"Honduras\",\"Catuai\",\"Green\",\"Washed \\u002f Wet\",7.42,7.17,7.08,7.42,7.25,7.25,10.0,10.0,10.0,0.09,0,0,2,2016],[\"Arabica\",\"North America\",\"Honduras\",\"Catuai\",\"Green\",\"Natural \\u002f Dry\",7.25,7.33,7.08,7.5,7.25,7.33,10.0,10.0,10.0,0.13,0,0,1,2016],[\"Arabica\",\"North America\",\"Costa Rica\",\"Caturra\",\"Green\",\"Washed \\u002f Wet\",7.33,7.33,7.25,7.25,7.17,7.17,10.0,10.0,10.0,0.11,0,0,0,2015],[\"Arabica\",\"North America\",\"Mexico\",\"Typica\",\"Green\",\"Washed \\u002f Wet\",7.58,7.33,7.42,7.25,7.5,7.5,9.33,9.33,10.0,0.11,0,0,2,2013],[\"Arabica\",\"North America\",\"Haiti\",\"Typica\",\"Green\",\"Washed \\u002f Wet\",7.42,7.0,7.42,7.25,7.08,7.33,10.0,10.0,10.0,0.12,0,0,0,2013],[\"Arabica\",\"North America\",\"United States\",\"Arusha\",\"Bluish-Green\",\"Natural \\u002f Dry\",7.08,7.33,7.17,7.25,7.33,7.67,10.0,10.0,10.0,0.13,0,0,6,2012],[\"Arabica\",\"Asia\",\"Taiwan\",\"Typica\",\"Green\",\"Other\",7.33,7.08,7.08,7.08,7.42,7.33,10.0,10.0,10.0,0.0,0,0,1,2017],[\"Arabica\",\"Asia\",\"Indonesia\",\"Mandheling\",\"Blue-Green\",\"Semi-washed \\u002f Semi-pulped\",7.58,7.42,7.0,7.67,7.5,7.5,9.33,9.33,10.0,0.13,0,0,1,2016],[\"Arabica\",\"North America\",\"Guatemala\",\"Bourbon\",\"Green\",\"Washed \\u002f Wet\",7.67,7.42,6.83,7.17,7.42,7.17,10.0,10.0,10.0,0.11,0,0,0,2016],[\"Arabica\",\"North America\",\"Costa Rica\",\"Caturra\",\"Blue-Green\",\"Washed \\u002f Wet\",7.83,7.5,7.67,7.67,7.83,7.5,6.67,10.0,10.0,0.11,0,0,4,2016],[\"Arabica\",\"Africa\",\"Malawi\",\"Caturra\",\"Bluish-Green\",\"Washed \\u002f Wet\",7.5,7.25,7.17,7.17,7.25,7.17,10.0,10.0,10.0,0.12,0,0,1,2015],[\"Arabica\",\"North America\",\"Mexico\",\"Typica\",\"Green\",\"Washed \\u002f Wet\",7.25,7.17,7.17,7.25,7.17,7.42,10.0,10.0,10.0,0.12,0,0,4,2015],[\"Arabica\",\"South America\",\"Colombia\",\"Caturra\",null,\"Natural \\u002f Dry\",7.67,7.5,7.42,7.67,7.5,7.75,10.0,10.0,6.67,0.0,0,0,1,2015],[\"Arabica\",\"North America\",\"Guatemala\",\"Bourbon\",\"Green\",\"Washed \\u002f Wet\",7.67,7.17,7.0,7.5,7.0,7.0,10.0,10.0,10.0,0.12,0,0,5,2014],[\"Arabica\",\"North America\",\"Guatemala\",\"Bourbon\",\"Green\",\"Washed \\u002f Wet\",7.0,7.33,7.5,7.33,7.0,7.33,10.0,10.0,10.0,0.11,0,0,2,2013],[\"Arabica\",\"North America\",\"Guatemala\",\"Bourbon\",\"Green\",\"Washed \\u002f Wet\",7.0,7.5,7.33,7.17,7.17,7.17,10.0,10.0,10.0,0.11,0,0,3,2013],[\"Arabica\",\"South America\",\"Colombia\",null,null,null,7.17,7.25,7.08,7.42,7.08,7.42,10.0,10.0,10.0,0.18,0,0,2,2012],[\"Arabica\",\"South America\",\"Brazil\",null,\"Green\",null,7.33,7.25,7.33,7.08,7.58,7.25,9.33,10.0,10.0,0.11,0,0,7,2017],[\"Arabica\",\"North America\",\"Nicaragua\",null,\"Green\",null,7.08,7.5,7.0,7.25,7.42,7.0,10.0,10.0,10.0,0.11,1,0,0,2017],[\"Arabica\",\"Africa\",\"Tanzania\",\"Other\",\"Bluish-Green\",\"Washed \\u002f Wet\",7.25,7.08,7.08,7.33,7.33,7.25,10.0,10.0,10.0,0.12,0,0,1,2016],[\"Arabica\",\"South America\",\"Brazil\",\"Bourbon\",\"Green\",\"Semi-washed \\u002f Semi-pulped\",7.42,7.25,7.33,7.0,7.08,7.25,10.0,10.0,10.0,0.0,0,0,3,2015],[\"Arabica\",\"North America\",\"Honduras\",\"Caturra\",\"Green\",\"Washed \\u002f Wet\",7.5,7.17,7.0,7.42,7.33,7.0,10.0,10.0,10.0,0.11,0,0,5,2015],[\"Arabica\",\"North America\",\"Guatemala\",\"Bourbon\",\"Green\",\"Natural \\u002f Dry\",7.17,7.42,6.83,7.5,7.17,7.25,10.0,10.0,10.0,0.11,0,0,5,2015],[\"Arabica\",\"North America\",\"United States\",null,null,null,7.42,7.58,7.5,7.92,7.83,7.83,8.67,8.67,9.33,0.0,0,0,0,2012],[\"Arabica\",\"South America\",\"Colombia\",null,null,null,7.08,7.25,7.0,7.5,7.08,7.33,10.0,10.0,10.0,0.0,0,0,2,2012],[\"Arabica\",\"Asia\",\"Taiwan\",\"Other\",\"Blue-Green\",\"Natural \\u002f Dry\",7.17,7.17,7.17,7.42,7.17,7.25,10.0,10.0,10.0,0.0,0,0,0,2018],[\"Arabica\",\"North America\",\"Guatemala\",\"Caturra\",\"Green\",\"Washed \\u002f Wet\",7.33,7.25,7.08,7.17,7.25,7.17,10.0,10.0,10.0,0.1,0,0,4,2018],[\"Arabica\",\"North America\",\"Honduras\",\"Catuai\",\"Green\",\"Washed \\u002f Wet\",7.58,7.33,7.0,7.17,7.33,7.08,10.0,10.0,10.0,0.11,0,0,5,2018],[\"Arabica\",\"Africa\",\"Mauritius\",null,\"Green\",null,7.25,7.25,7.17,7.17,7.25,7.17,10.0,10.0,10.0,0.12,0,0,0,2017],[\"Arabica\",\"South America\",\"Brazil\",\"Yellow Bourbon\",\"Green\",\"Semi-washed \\u002f Semi-pulped\",7.25,7.33,7.17,7.5,7.33,7.25,9.33,10.0,10.0,0.11,0,0,3,2016],[\"Arabica\",\"Asia\",\"Myanmar\",\"Other\",\"Green\",\"Washed \\u002f Wet\",7.17,7.33,7.17,7.42,7.25,7.08,10.0,10.0,10.0,0.0,0,0,2,2016],[\"Arabica\",\"North America\",\"Guatemala\",\"Other\",\"Green\",\"Washed \\u002f Wet\",7.5,7.17,6.83,7.5,7.17,7.17,10.0,10.0,10.0,0.11,0,0,3,2015],[\"Arabica\",\"South America\",\"Brazil\",\"Yellow Bourbon\",null,\"Semi-washed \\u002f Semi-pulped\",7.42,7.42,7.08,7.33,7.67,7.5,9.33,9.33,10.0,0.1,0,0,10,2015],[\"Arabica\",\"North America\",\"United States\",\"Hawaiian Kona\",\"Green\",\"Natural \\u002f Dry\",7.42,7.33,7.33,7.58,7.58,7.42,8.67,10.0,10.0,0.11,0,1,0,2015],[\"Arabica\",\"North America\",\"Guatemala\",\"Bourbon\",\"Green\",\"Washed \\u002f Wet\",7.5,7.5,7.0,7.67,7.17,7.0,10.0,10.0,10.0,0.12,0,1,1,2014],[\"Arabica\",\"North America\",\"Mexico\",\"Typica\",null,\"Washed \\u002f Wet\",7.25,7.25,7.08,7.33,7.25,7.17,10.0,10.0,10.0,0.15,0,0,1,2013],[\"Arabica\",\"North America\",\"Honduras\",null,\"Green\",null,7.25,7.42,7.0,7.42,7.33,7.0,10.0,10.0,10.0,0.1,0,0,0,2017],[\"Arabica\",\"Asia\",\"Taiwan\",\"Typica\",\"Green\",\"Washed \\u002f Wet\",7.58,7.17,7.17,7.17,7.17,7.17,10.0,10.0,10.0,0.14,0,0,0,2015],[\"Arabica\",\"North America\",\"El Salvador\",\"Bourbon\",\"Green\",\"Washed \\u002f Wet\",7.33,7.17,7.08,7.08,7.33,7.17,10.0,10.0,10.0,0.0,0,0,1,2015],[\"Arabica\",\"Asia\",\"China\",\"Other\",\"Green\",\"Washed \\u002f Wet\",7.25,7.08,7.25,7.17,7.33,7.17,10.0,10.0,10.0,0.17,0,0,14,2015],[\"Arabica\",\"Asia\",\"Taiwan\",\"Typica\",\"Green\",\"Washed \\u002f Wet\",7.25,7.25,7.17,7.25,7.25,7.25,10.0,10.0,10.0,0.11,0,0,0,2014],[\"Arabica\",\"North America\",\"Mexico\",\"Typica\",\"Green\",\"Washed \\u002f Wet\",6.92,7.17,7.08,7.5,7.33,7.17,10.0,10.0,10.0,0.1,0,2,4,2013],[\"Arabica\",\"North America\",\"Mexico\",\"Caturra\",\"Green\",\"Washed \\u002f Wet\",7.42,7.08,7.08,7.33,7.25,7.17,10.0,10.0,10.0,0.12,0,4,16,2013],[\"Arabica\",\"Africa\",\"Burundi\",null,\"Green\",null,7.08,7.25,7.17,7.33,7.08,7.08,10.0,10.0,10.0,0.12,0,0,0,2017],[\"Arabica\",\"Africa\",\"Tanzania\",\"Bourbon\",\"Green\",\"Washed \\u002f Wet\",7.25,7.17,7.0,7.25,7.42,7.08,10.0,10.0,10.0,0.13,0,0,5,2016],[\"Arabica\",\"Africa\",\"Tanzania\",\"Other\",\"Bluish-Green\",\"Washed \\u002f Wet\",7.25,7.17,7.25,7.25,7.25,7.08,10.0,10.0,10.0,0.12,0,0,5,2015],[\"Arabica\",\"Asia\",\"Taiwan\",\"Yellow Bourbon\",\"Green\",\"Other\",7.25,7.25,7.08,7.25,7.25,7.25,10.0,10.0,10.0,0.11,0,0,0,2014],[\"Arabica\",\"North America\",\"Guatemala\",\"Bourbon\",\"Green\",\"Washed \\u002f Wet\",7.33,7.33,6.83,7.5,7.0,7.17,10.0,10.0,10.0,0.11,0,1,4,2014],[\"Arabica\",\"North America\",\"Mexico\",\"Typica\",\"Green\",\"Semi-washed \\u002f Semi-pulped\",7.25,7.08,7.08,7.33,7.33,7.17,10.0,10.0,10.0,0.11,0,0,21,2013],[\"Arabica\",\"North America\",\"United States\",\"Hawaiian Kona\",\"Green\",\"Washed \\u002f Wet\",7.17,7.5,6.92,7.33,7.67,7.33,9.33,10.0,10.0,0.12,0,5,7,2013],[\"Arabica\",\"Africa\",\"Ethiopia\",null,null,null,7.25,7.25,7.25,7.33,7.5,8.0,9.33,9.33,10.0,0.1,0,0,1,2011],[\"Arabica\",\"South America\",\"Brazil\",\"Catuai\",\"Green\",\"Natural \\u002f Dry\",7.17,7.33,7.42,7.08,7.0,7.0,10.0,10.0,10.0,0.11,1,0,1,2018],[\"Arabica\",\"North America\",\"Honduras\",\"Caturra\",\"Green\",\"Natural \\u002f Dry\",7.25,7.25,7.0,7.0,7.42,7.0,10.0,10.0,10.0,0.1,0,0,4,2018],[\"Arabica\",\"North America\",\"Mexico\",\"Caturra\",\"Green\",\"Washed \\u002f Wet\",7.25,7.17,7.0,7.33,7.33,7.0,10.0,10.0,10.0,0.1,0,0,2,2017],[\"Arabica\",\"Asia\",\"Myanmar\",\"Other\",\"Green\",\"Natural \\u002f Dry\",8.0,7.08,7.0,7.33,7.08,6.92,10.0,10.0,10.0,0.11,0,1,26,2016],[\"Arabica\",\"Asia\",\"Myanmar\",\"Catuai\",\"Green\",\"Natural \\u002f Dry\",7.42,7.0,7.08,7.0,7.17,7.33,10.0,10.0,10.0,0.0,0,0,1,2016],[\"Arabica\",\"North America\",\"Nicaragua\",\"Caturra\",\"Green\",\"Washed \\u002f Wet\",7.08,6.92,7.0,7.25,7.5,7.25,10.0,10.0,10.0,0.11,0,0,2,2016],[\"Arabica\",\"North America\",\"United States\",\"Hawaiian Kona\",\"Green\",\"Natural \\u002f Dry\",7.5,7.08,7.67,7.67,7.42,7.58,9.33,9.33,9.33,0.12,0,4,13,2015],[\"Arabica\",\"South America\",\"Colombia\",\"Typica\",\"Green\",\"Washed \\u002f Wet\",7.42,8.0,7.83,7.75,8.08,7.58,8.67,8.67,8.67,0.1,0,0,0,2015],[\"Arabica\",\"Asia\",\"Taiwan\",\"Typica\",\"Green\",\"Semi-washed \\u002f Semi-pulped\",7.25,7.08,7.25,7.25,7.17,7.25,10.0,10.0,10.0,0.11,0,0,0,2014],[\"Arabica\",\"North America\",\"Guatemala\",\"Caturra\",\"Green\",\"Washed \\u002f Wet\",7.0,7.17,7.33,7.33,7.0,7.17,10.0,10.0,10.0,0.11,0,1,12,2014],[\"Arabica\",\"North America\",\"Mexico\",\"Caturra\",null,\"Washed \\u002f Wet\",7.58,7.33,7.17,7.25,6.75,7.0,10.0,10.0,10.0,0.11,0,2,8,2013],[\"Arabica\",\"Asia\",\"Vietnam\",\"Catimor\",null,\"Other\",7.42,7.25,7.25,7.58,7.42,7.33,8.67,10.0,10.0,0.0,0,0,2,2018],[\"Arabica\",\"North America\",\"Nicaragua\",\"Caturra\",null,\"Washed \\u002f Wet\",7.17,7.08,7.08,7.33,7.25,7.08,10.0,10.0,10.0,0.11,0,0,2,2016],[\"Arabica\",\"North America\",\"Honduras\",\"Catuai\",\"Green\",\"Washed \\u002f Wet\",7.25,7.25,7.0,7.17,7.08,7.08,10.0,10.0,10.0,0.11,0,0,0,2016],[\"Arabica\",\"North America\",\"Guatemala\",\"Bourbon\",\"Green\",\"Washed \\u002f Wet\",7.33,7.33,7.0,7.17,7.17,7.17,10.0,10.0,10.0,0.11,0,0,2,2014],[\"Arabica\",\"North America\",\"Mexico\",\"Typica\",\"Green\",\"Washed \\u002f Wet\",7.33,7.08,6.92,7.42,7.25,7.08,10.0,10.0,10.0,0.11,0,0,2,2013],[\"Arabica\",\"North America\",\"Mexico\",\"Typica\",\"Green\",\"Washed \\u002f Wet\",7.58,7.42,7.33,7.5,7.08,7.17,8.67,10.0,10.0,0.14,0,1,2,2013],[\"Arabica\",\"North America\",\"Mexico\",\"Bourbon\",\"Green\",\"Washed \\u002f Wet\",7.33,7.33,7.17,7.08,7.25,7.0,10.0,10.0,10.0,0.12,0,0,12,2013],[\"Arabica\",\"North America\",\"Guatemala\",\"Bourbon\",\"Green\",\"Washed \\u002f Wet\",7.33,7.33,7.0,7.33,7.0,7.0,10.0,10.0,10.0,0.11,0,0,5,2013],[\"Arabica\",\"North America\",\"United States\",null,null,null,7.58,7.5,7.33,7.33,7.67,7.33,9.33,9.33,9.33,0.05,0,12,1,2012],[\"Arabica\",\"South America\",\"Brazil\",\"Bourbon\",\"Green\",\"Pulped natural \\u002f honey\",7.17,7.17,7.0,7.17,7.25,7.25,10.0,10.0,10.0,0.11,0,0,5,2018],[\"Arabica\",\"Asia\",\"Taiwan\",\"Typica\",\"Green\",\"Washed \\u002f Wet\",7.42,7.25,7.25,7.17,7.0,7.0,10.0,10.0,10.0,0.07,0,0,0,2015],[\"Arabica\",\"North America\",\"Nicaragua\",null,\"Green\",\"Natural \\u002f Dry\",7.25,7.17,6.92,7.25,7.17,7.25,10.0,10.0,10.0,0.1,0,0,4,2015],[\"Arabica\",\"Asia\",\"Taiwan\",\"Typica\",\"Green\",\"Other\",7.25,7.25,7.25,7.25,7.08,7.0,10.0,10.0,10.0,0.11,0,0,0,2014],[\"Arabica\",\"Asia\",\"Taiwan\",\"Typica\",\"Green\",\"Washed \\u002f Wet\",7.25,7.25,7.25,7.0,7.25,7.08,10.0,10.0,10.0,0.11,0,0,0,2014],[\"Arabica\",\"Asia\",\"Taiwan\",\"Typica\",\"Green\",\"Semi-washed \\u002f Semi-pulped\",7.25,7.25,7.25,7.08,7.17,7.08,10.0,10.0,10.0,0.11,0,0,0,2014],[\"Arabica\",\"North America\",\"Mexico\",\"Typica\",null,\"Washed \\u002f Wet\",7.33,7.17,7.25,7.08,7.08,7.08,10.0,10.0,10.0,0.15,0,0,0,2013],[\"Arabica\",\"North America\",\"Mexico\",\"Typica\",\"Green\",\"Washed \\u002f Wet\",7.25,7.08,7.0,7.17,7.33,7.17,10.0,10.0,10.0,0.14,0,1,17,2013],[\"Arabica\",\"North America\",\"Nicaragua\",\"Caturra\",\"Green\",\"Washed \\u002f Wet\",7.33,7.08,6.92,7.08,7.42,7.17,10.0,10.0,10.0,0.1,0,0,5,2018],[\"Arabica\",\"Asia\",\"Myanmar\",\"Other\",\"Green\",\"Washed \\u002f Wet\",7.17,7.33,7.0,7.42,7.17,7.0,10.0,10.0,10.0,0.0,0,0,4,2016],[\"Arabica\",\"North America\",\"Mexico\",\"Typica\",\"Green\",\"Washed \\u002f Wet\",7.58,7.75,7.42,7.5,7.5,7.5,8.67,8.67,10.0,0.0,0,0,2,2015],[\"Arabica\",\"Asia\",\"Taiwan\",\"Typica\",\"Green\",\"Washed \\u002f Wet\",7.25,7.25,7.25,7.0,7.25,7.0,10.0,10.0,10.0,0.11,0,0,0,2014],[\"Arabica\",\"Asia\",\"Thailand\",null,\"Green\",\"Washed \\u002f Wet\",7.33,6.67,7.08,7.42,7.42,7.08,10.0,10.0,10.0,0.0,0,0,0,2014],[\"Arabica\",\"North America\",\"Mexico\",\"Typica\",\"Green\",\"Washed \\u002f Wet\",7.25,7.25,7.08,7.17,7.33,7.33,9.33,10.0,10.0,0.12,0,0,9,2013],[\"Arabica\",\"North America\",\"Mexico\",\"Other\",\"Green\",\"Washed \\u002f Wet\",7.08,7.33,7.0,7.33,7.08,7.0,10.0,10.0,10.0,0.11,0,0,12,2013],[\"Arabica\",\"Africa\",\"Ethiopia\",null,null,null,7.42,7.42,7.5,7.92,7.75,7.58,8.67,9.33,8.67,0.05,0,0,2,2011],[\"Arabica\",\"South America\",\"Colombia\",null,\"Green\",\"Washed \\u002f Wet\",7.83,7.67,7.58,7.75,7.83,7.17,6.67,10.0,10.0,0.0,0,0,1,2016],[\"Arabica\",\"North America\",\"United States\",\"Hawaiian Kona\",\"Green\",\"Natural \\u002f Dry\",7.5,7.0,7.0,6.92,7.33,7.17,10.0,10.0,10.0,0.11,0,1,3,2015],[\"Arabica\",\"North America\",\"Mexico\",\"Bourbon\",\"Green\",\"Washed \\u002f Wet\",7.33,7.08,7.08,7.33,7.42,7.17,9.33,10.0,10.0,0.12,0,0,4,2014],[\"Arabica\",\"North America\",\"Mexico\",\"Other\",\"Green\",\"Washed \\u002f Wet\",7.17,7.17,6.92,7.25,7.33,7.08,10.0,10.0,10.0,0.12,0,1,7,2013],[\"Arabica\",\"North America\",\"Mexico\",\"Bourbon\",null,\"Washed \\u002f Wet\",7.5,7.17,7.0,7.17,7.25,7.08,10.0,10.0,10.0,0.0,0,0,0,2013],[\"Arabica\",\"North America\",\"Mexico\",\"Catuai\",\"Green\",\"Washed \\u002f Wet\",7.17,7.08,7.08,7.08,7.5,7.33,9.33,10.0,10.0,0.11,0,0,3,2013],[\"Arabica\",\"North America\",\"Mexico\",\"Typica\",\"Green\",\"Natural \\u002f Dry\",7.33,7.25,7.0,7.42,7.17,7.17,9.33,10.0,10.0,0.12,0,0,6,2013],[\"Arabica\",\"North America\",\"Mexico\",\"Mundo Novo\",\"Green\",\"Washed \\u002f Wet\",7.17,7.33,7.08,7.58,7.33,7.08,10.0,9.33,10.0,0.11,0,0,0,2013],[\"Arabica\",\"North America\",\"United States\",null,null,null,7.5,7.42,7.58,7.42,7.5,7.58,8.67,8.67,10.0,0.05,0,3,0,2012],[\"Arabica\",\"Africa\",\"Kenya\",\"SL34\",null,\"Washed \\u002f Wet\",7.0,7.08,7.0,7.17,7.25,7.25,10.0,10.0,10.0,0.11,1,0,5,2018],[\"Arabica\",\"North America\",\"Guatemala\",\"Bourbon\",\"Green\",\"Washed \\u002f Wet\",7.33,7.25,6.92,7.33,7.25,7.33,9.33,10.0,10.0,0.1,0,0,2,2018],[\"Arabica\",\"North America\",\"Nicaragua\",\"Caturra\",\"Green\",\"Washed \\u002f Wet\",6.83,7.17,7.17,6.92,7.5,7.08,10.0,10.0,10.0,0.11,0,0,0,2016],[\"Arabica\",\"North America\",\"Mexico\",\"Typica\",\"Green\",\"Washed \\u002f Wet\",7.17,7.08,7.0,7.25,7.5,7.0,10.0,10.0,10.0,0.12,0,0,3,2013],[\"Arabica\",\"North America\",\"United States\",\"Hawaiian Kona\",\"Blue-Green\",\"Natural \\u002f Dry\",7.58,7.08,6.83,7.17,7.5,7.17,9.33,10.0,10.0,0.12,0,7,10,2013],[\"Arabica\",\"North America\",\"Guatemala\",\"Bourbon\",\"Green\",\"Washed \\u002f Wet\",7.5,7.42,7.25,7.58,7.33,7.42,9.33,9.33,9.33,0.1,4,0,1,2018],[\"Arabica\",\"Asia\",\"Taiwan\",\"Typica\",null,\"Natural \\u002f Dry\",7.75,7.33,7.17,7.33,7.67,7.83,9.33,9.33,8.67,0.0,0,0,0,2016],[\"Arabica\",\"Asia\",\"Taiwan\",\"Typica\",\"Blue-Green\",\"Washed \\u002f Wet\",7.08,7.08,7.25,7.0,7.17,7.17,10.0,10.0,10.0,0.1,0,0,0,2015],[\"Arabica\",\"Asia\",\"Thailand\",null,\"Green\",\"Washed \\u002f Wet\",7.25,7.08,6.92,7.5,7.08,6.92,10.0,10.0,10.0,0.12,0,0,0,2015],[\"Arabica\",\"South America\",\"Peru\",null,\"Green\",\"Washed \\u002f Wet\",7.0,7.08,7.0,7.25,7.5,7.42,9.33,10.0,10.0,0.12,0,1,2,2015],[\"Arabica\",\"North America\",\"Costa Rica\",\"Catuai\",\"Bluish-Green\",\"Washed \\u002f Wet\",7.58,7.5,7.67,7.75,7.67,7.58,8.0,8.0,10.0,0.1,0,0,4,2014],[\"Arabica\",\"North America\",\"Mexico\",\"Typica\",\"Green\",\"Washed \\u002f Wet\",7.58,7.08,7.0,7.0,7.5,6.92,10.0,10.0,10.0,0.12,0,0,4,2014],[\"Arabica\",\"North America\",\"Mexico\",\"Bourbon\",\"Green\",\"Washed \\u002f Wet\",7.58,7.08,6.92,7.58,7.5,6.92,10.0,9.33,10.0,0.13,0,0,4,2014],[\"Arabica\",\"North America\",\"Mexico\",\"Bourbon\",\"Green\",\"Washed \\u002f Wet\",7.25,7.08,7.0,7.17,7.17,7.08,10.0,10.0,10.0,0.12,0,0,5,2014],[\"Arabica\",\"North America\",\"Mexico\",\"Bourbon\",null,\"Washed \\u002f Wet\",7.25,7.17,7.17,7.08,7.17,7.0,10.0,10.0,10.0,0.14,0,0,0,2013],[\"Arabica\",\"North America\",\"Mexico\",\"Typica\",\"Green\",\"Washed \\u002f Wet\",7.33,7.25,7.0,7.08,7.08,7.0,10.0,10.0,10.0,0.1,0,1,22,2013],[\"Arabica\",\"North America\",\"Guatemala\",\"Bourbon\",\"Green\",\"Washed \\u002f Wet\",7.58,7.33,7.5,7.33,7.0,7.33,9.33,9.33,9.33,0.0,0,0,4,2013],[\"Arabica\",\"North America\",\"Mexico\",\"Typica\",null,\"Washed \\u002f Wet\",7.25,6.83,6.92,7.08,7.25,7.08,10.0,10.0,10.0,0.12,0,0,7,2013],[\"Arabica\",\"North America\",\"Guatemala\",\"Bourbon\",\"Green\",\"Washed \\u002f Wet\",7.42,7.42,7.25,7.58,7.42,7.33,9.33,9.33,9.33,0.1,2,0,1,2018],[\"Arabica\",\"North America\",\"El Salvador\",\"Bourbon\",\"Bluish-Green\",\"Washed \\u002f Wet\",7.25,7.08,7.0,6.83,7.33,7.17,10.0,10.0,10.0,0.0,0,0,12,2018],[\"Arabica\",\"Asia\",\"Thailand\",null,\"Blue-Green\",\"Washed \\u002f Wet\",6.92,7.17,6.83,7.42,7.17,7.08,10.0,10.0,10.0,0.12,0,0,0,2015],[\"Arabica\",\"North America\",\"Guatemala\",\"Bourbon\",\"Green\",\"Washed \\u002f Wet\",7.5,7.0,6.83,7.08,7.08,7.17,10.0,10.0,10.0,0.11,0,0,6,2014],[\"Arabica\",\"North America\",\"Mexico\",\"Typica\",\"Green\",\"Washed \\u002f Wet\",7.42,7.25,6.83,7.58,7.17,6.58,10.0,10.0,10.0,0.12,0,0,6,2014],[\"Arabica\",\"North America\",\"Mexico\",\"Caturra\",null,\"Washed \\u002f Wet\",7.33,7.17,7.0,6.75,7.08,7.0,10.0,10.0,10.0,0.13,0,5,6,2013],[\"Arabica\",\"North America\",\"Mexico\",\"Mundo Novo\",null,\"Washed \\u002f Wet\",6.92,7.17,7.17,7.17,7.08,7.08,10.0,10.0,10.0,0.0,0,0,9,2013],[\"Arabica\",\"Asia\",\"Thailand\",\"Peaberry\",null,null,7.17,7.17,7.0,7.0,7.25,6.92,10.0,10.0,10.0,0.0,0,1,0,2011],[\"Arabica\",\"North America\",\"Mexico\",\"Typica\",null,\"Washed \\u002f Wet\",7.08,7.0,6.92,7.33,7.25,7.08,10.0,10.0,10.0,0.12,0,0,11,2013],[\"Arabica\",\"North America\",\"Mexico\",\"Caturra\",\"Green\",\"Washed \\u002f Wet\",7.25,6.92,6.92,7.33,7.25,7.0,10.0,10.0,10.0,0.13,0,0,5,2013],[\"Arabica\",\"South America\",\"Colombia\",null,null,null,7.25,7.17,7.0,6.75,7.17,7.33,10.0,10.0,10.0,0.1,0,0,4,2012],[\"Arabica\",\"North America\",\"Guatemala\",null,null,null,7.08,7.0,6.83,7.33,7.25,7.0,10.0,10.0,10.0,0.17,0,1,19,2012],[\"Arabica\",\"North America\",\"Nicaragua\",\"Caturra\",\"Green\",\"Natural \\u002f Dry\",6.92,6.92,7.0,7.42,7.25,7.0,10.0,10.0,10.0,0.12,0,0,6,2016],[\"Arabica\",\"Asia\",\"Taiwan\",\"Typica\",null,\"Natural \\u002f Dry\",6.92,7.0,7.17,7.0,7.42,7.0,10.0,10.0,10.0,0.0,0,0,1,2016],[\"Arabica\",\"South America\",\"Colombia\",\"Caturra\",\"Green\",\"Washed \\u002f Wet\",7.83,7.5,7.42,7.42,7.67,7.5,10.0,6.67,10.0,0.0,0,0,2,2014],[\"Arabica\",\"North America\",\"Mexico\",\"Caturra\",\"Green\",\"Washed \\u002f Wet\",7.25,7.08,6.92,7.25,7.58,7.08,9.33,10.0,10.0,0.12,0,1,20,2013],[\"Arabica\",\"North America\",\"Mexico\",\"Typica\",\"Bluish-Green\",\"Washed \\u002f Wet\",7.25,7.33,7.0,7.25,7.17,7.17,9.33,10.0,10.0,0.12,0,0,5,2013],[\"Arabica\",\"North America\",\"Guatemala\",\"Bourbon\",\"Green\",\"Washed \\u002f Wet\",7.08,7.33,7.25,7.58,7.33,7.42,9.33,9.33,9.33,0.1,0,0,2,2015],[\"Arabica\",\"North America\",\"Guatemala\",\"Other\",\"Green\",\"Washed \\u002f Wet\",7.25,7.33,6.83,7.0,7.0,7.17,10.0,10.0,10.0,0.1,0,1,4,2015],[\"Arabica\",\"North America\",\"Mexico\",\"Typica\",\"Green\",\"Washed \\u002f Wet\",7.0,6.83,6.83,7.42,7.33,7.17,10.0,10.0,10.0,0.13,0,0,30,2013],[\"Arabica\",\"Africa\",\"Cote dIvoire\",null,\"Bluish-Green\",\"Washed \\u002f Wet\",7.42,7.25,6.83,7.0,7.33,7.08,9.33,10.0,10.0,0.13,0,1,2,2018],[\"Arabica\",\"South America\",\"Colombia\",\"Caturra\",\"Green\",\"Washed \\u002f Wet\",7.42,7.25,6.75,7.25,7.42,7.25,9.33,9.33,10.0,0.0,0,0,3,2015],[\"Arabica\",\"North America\",\"Mexico\",\"Typica\",null,\"Washed \\u002f Wet\",7.0,7.0,6.83,7.33,7.42,6.92,10.0,10.0,10.0,0.14,0,0,23,2013],[\"Arabica\",\"North America\",\"Mexico\",\"Typica\",\"Green\",\"Washed \\u002f Wet\",7.42,7.17,7.08,7.17,7.08,7.08,9.33,10.0,10.0,0.14,0,0,19,2013],[\"Arabica\",\"North America\",\"Guatemala\",\"Bourbon\",\"Green\",\"Washed \\u002f Wet\",7.17,6.5,6.33,7.25,7.58,7.33,10.0,10.0,10.0,0.11,0,0,6,2013],[\"Arabica\",\"Asia\",\"Taiwan\",\"Typica\",\"Blue-Green\",\"Washed \\u002f Wet\",7.08,6.83,6.83,7.25,7.42,7.08,10.0,10.0,10.0,0.11,0,0,0,2015],[\"Arabica\",\"North America\",\"Mexico\",\"Bourbon\",\"Green\",\"Washed \\u002f Wet\",7.0,7.0,6.92,7.17,7.17,7.08,10.0,10.0,10.0,0.13,0,0,10,2013],[\"Arabica\",\"North America\",\"Guatemala\",\"Bourbon\",\"Green\",\"Washed \\u002f Wet\",7.33,7.42,7.33,7.42,7.5,7.42,8.67,9.33,9.33,0.1,0,0,0,2018],[\"Arabica\",\"North America\",\"Honduras\",\"Catuai\",\"Green\",\"Washed \\u002f Wet\",7.58,7.0,6.75,6.92,7.0,6.92,10.0,10.0,10.0,0.11,0,0,5,2018],[\"Arabica\",\"North America\",\"Guatemala\",\"Bourbon\",\"Green\",\"Washed \\u002f Wet\",7.08,7.0,6.92,7.42,7.0,6.92,10.0,10.0,10.0,0.11,8,0,6,2017],[\"Arabica\",\"North America\",\"Guatemala\",\"Catuai\",\"Green\",\"Washed \\u002f Wet\",7.25,7.17,6.75,7.25,7.0,6.92,10.0,10.0,10.0,0.11,0,0,6,2016],[\"Arabica\",\"North America\",\"Costa Rica\",\"Catuai\",null,\"Washed \\u002f Wet\",7.17,7.42,7.5,8.0,7.25,7.83,10.0,10.0,6.67,0.1,0,5,20,2014],[\"Arabica\",\"North America\",\"Mexico\",\"Typica\",null,\"Washed \\u002f Wet\",7.25,7.08,6.92,7.08,7.17,7.17,9.33,10.0,10.0,0.14,0,0,8,2013],[\"Arabica\",\"North America\",\"Mexico\",\"Typica\",\"Green\",\"Washed \\u002f Wet\",7.17,6.92,6.92,7.08,7.17,7.0,10.0,10.0,10.0,0.14,0,0,34,2013],[\"Arabica\",\"North America\",\"Mexico\",\"Typica\",null,null,6.75,6.75,6.83,7.25,7.58,7.08,10.0,10.0,10.0,0.01,0,0,8,2011],[\"Arabica\",\"North America\",\"Guatemala\",\"Bourbon\",\"Green\",\"Washed \\u002f Wet\",7.58,7.67,7.42,7.42,7.67,7.67,8.67,8.67,8.67,0.1,0,0,1,2018],[\"Arabica\",\"North America\",\"United States\",\"Other\",\"Green\",\"Washed \\u002f Wet\",7.42,7.08,6.75,7.33,7.33,6.92,10.0,9.33,10.0,0.13,0,0,0,2015],[\"Arabica\",\"North America\",\"Mexico\",\"Typica\",null,\"Washed \\u002f Wet\",7.33,7.0,6.92,7.25,7.33,7.08,9.33,10.0,10.0,0.16,0,0,2,2013],[\"Arabica\",\"North America\",\"Mexico\",\"Mundo Novo\",\"Green\",\"Washed \\u002f Wet\",7.25,7.08,6.75,7.33,7.42,7.0,9.33,10.0,10.0,0.11,0,0,45,2013],[\"Arabica\",\"North America\",\"Mexico\",\"Typica\",\"Bluish-Green\",\"Washed \\u002f Wet\",7.17,7.25,7.25,7.17,7.25,7.08,9.33,9.33,10.0,0.1,0,0,0,2013],[\"Arabica\",\"North America\",\"Guatemala\",\"Other\",\"Green\",\"Washed \\u002f Wet\",7.33,7.17,6.58,7.42,7.08,6.83,10.0,10.0,10.0,0.12,0,0,3,2015],[\"Arabica\",\"North America\",\"Honduras\",\"Pacas\",\"Green\",\"Washed \\u002f Wet\",7.0,7.0,7.0,7.0,7.0,7.0,10.0,10.0,10.0,0.11,0,0,12,2015],[\"Arabica\",\"South America\",\"Peru\",\"Typica\",null,\"Washed \\u002f Wet\",7.67,7.17,7.08,7.25,8.0,7.5,8.67,9.33,9.33,0.0,0,0,4,2014],[\"Arabica\",\"North America\",\"Mexico\",\"Mundo Novo\",null,\"Natural \\u002f Dry\",6.75,7.08,6.67,7.25,7.17,7.08,10.0,10.0,10.0,0.12,0,0,12,2013],[\"Arabica\",\"North America\",\"Mexico\",\"Typica\",\"Green\",\"Semi-washed \\u002f Semi-pulped\",7.5,7.17,6.92,7.5,7.25,7.0,8.67,10.0,10.0,0.14,0,3,17,2013],[\"Arabica\",\"North America\",\"Mexico\",\"Typica\",\"Green\",\"Washed \\u002f Wet\",7.17,6.83,6.83,7.25,7.17,6.92,10.0,10.0,10.0,0.14,0,7,38,2013],[\"Arabica\",\"North America\",\"Mexico\",\"Typica\",\"Green\",\"Washed \\u002f Wet\",7.33,7.0,6.75,7.08,7.17,7.25,9.33,10.0,10.0,0.12,0,0,8,2014],[\"Arabica\",\"North America\",\"Mexico\",\"Typica\",null,\"Washed \\u002f Wet\",7.5,7.0,6.92,7.08,6.92,6.75,10.0,10.0,10.0,0.16,0,0,0,2013],[\"Arabica\",\"North America\",\"Nicaragua\",\"Caturra\",\"Green\",\"Other\",7.17,7.0,6.92,7.0,7.0,7.0,10.0,10.0,10.0,0.1,2,0,4,2018],[\"Arabica\",\"North America\",\"United States\",null,\"Green\",\"Natural \\u002f Dry\",7.5,6.92,6.92,7.25,7.58,7.42,9.33,9.33,9.33,0.12,0,5,8,2015],[\"Arabica\",\"North America\",\"Guatemala\",\"Bourbon\",\"Green\",\"Washed \\u002f Wet\",7.33,7.08,6.33,7.25,7.0,7.0,10.0,10.0,10.0,0.12,0,1,8,2014],[\"Arabica\",\"North America\",\"Mexico\",\"Typica\",\"Green\",\"Washed \\u002f Wet\",7.25,6.83,6.83,7.0,7.17,7.0,10.0,10.0,10.0,0.14,0,0,0,2013],[\"Arabica\",\"North America\",\"Mexico\",\"Typica\",null,\"Semi-washed \\u002f Semi-pulped\",7.25,7.33,7.17,7.25,7.08,7.0,8.67,10.0,10.0,0.14,0,0,0,2013],[\"Arabica\",\"North America\",\"Mexico\",\"Bourbon\",null,\"Washed \\u002f Wet\",7.67,7.17,6.83,7.33,7.58,7.17,9.33,10.0,8.67,0.12,0,0,0,2013],[\"Arabica\",\"Asia\",\"China\",\"Typica\",\"Green\",\"Washed \\u002f Wet\",7.0,6.92,6.83,7.17,7.17,7.17,10.0,10.0,9.33,0.0,0,0,5,2015],[\"Arabica\",\"North America\",\"Mexico\",\"Caturra\",null,\"Washed \\u002f Wet\",6.92,6.92,6.67,7.25,7.17,6.92,10.0,10.0,10.0,0.13,0,0,2,2013],[\"Arabica\",\"North America\",\"Nicaragua\",null,\"Green\",null,7.08,7.0,6.75,6.83,7.08,6.92,10.0,10.0,10.0,0.1,5,1,7,2017],[\"Arabica\",\"North America\",\"Nicaragua\",null,\"Green\",\"Natural \\u002f Dry\",6.83,7.08,6.92,6.75,7.25,7.08,10.0,10.0,10.0,0.11,0,1,1,2016],[\"Arabica\",\"North America\",\"Guatemala\",\"Other\",\"Green\",\"Washed \\u002f Wet\",7.33,7.17,6.92,7.58,7.25,7.17,8.67,9.33,10.0,0.12,0,0,3,2015],[\"Arabica\",\"Asia\",\"Taiwan\",\"Typica\",\"Green\",\"Washed \\u002f Wet\",6.83,6.75,7.17,7.25,7.0,6.92,10.0,10.0,10.0,0.1,0,0,0,2015],[\"Arabica\",\"North America\",\"Mexico\",\"Typica\",\"Green\",\"Washed \\u002f Wet\",7.0,7.0,6.75,7.33,6.92,6.92,10.0,10.0,10.0,0.13,0,0,1,2013],[\"Arabica\",\"North America\",\"Mexico\",\"Typica\",null,\"Washed \\u002f Wet\",7.92,7.58,7.58,7.92,7.92,7.5,8.0,6.67,10.0,0.1,0,0,1,2013],[\"Arabica\",\"North America\",\"United States\",null,null,null,7.92,6.83,7.08,7.42,6.75,7.33,8.67,9.33,10.0,0.0,0,0,0,2012],[\"Arabica\",\"North America\",\"Mexico\",\"Bourbon\",\"Green\",\"Washed \\u002f Wet\",7.25,6.75,6.92,6.92,7.25,7.58,9.33,9.33,10.0,0.0,0,0,0,2015],[\"Arabica\",\"North America\",\"Mexico\",\"Typica\",null,\"Washed \\u002f Wet\",7.08,6.83,6.83,7.0,7.0,6.92,10.0,10.0,10.0,0.12,0,0,14,2013],[\"Arabica\",\"North America\",\"Mexico\",\"Caturra\",\"Green\",\"Washed \\u002f Wet\",7.25,7.17,7.0,6.83,7.58,7.08,8.67,10.0,10.0,0.13,0,1,3,2013],[\"Arabica\",\"South America\",\"Brazil\",\"Catuai\",\"Green\",\"Natural \\u002f Dry\",6.83,7.0,6.92,7.08,6.92,6.83,10.0,10.0,10.0,0.12,0,3,4,2015],[\"Arabica\",\"North America\",\"Mexico\",\"Typica\",null,\"Washed \\u002f Wet\",7.58,7.17,7.0,7.17,7.33,7.0,8.0,10.0,10.0,0.14,0,0,0,2013],[\"Arabica\",\"North America\",\"United States\",\"Hawaiian Kona\",\"Bluish-Green\",\"Natural \\u002f Dry\",7.5,7.75,7.58,7.83,7.92,7.92,7.33,8.0,8.67,0.1,0,0,0,2015],[\"Arabica\",\"North America\",\"Guatemala\",\"Other\",\"Green\",\"Washed \\u002f Wet\",7.17,6.5,6.67,7.0,7.17,7.17,10.0,10.0,10.0,0.1,0,0,2,2015],[\"Arabica\",\"North America\",\"Guatemala\",\"Bourbon\",\"Green\",\"Washed \\u002f Wet\",7.17,7.17,6.5,7.17,7.0,6.83,10.0,10.0,10.0,0.11,0,1,4,2014],[\"Arabica\",\"North America\",\"Mexico\",\"Typica\",\"Green\",\"Natural \\u002f Dry\",7.25,7.25,7.0,7.5,7.33,7.42,8.0,9.33,10.0,0.13,0,31,47,2013],[\"Arabica\",\"North America\",\"Guatemala\",\"Bourbon\",\"Green\",\"Washed \\u002f Wet\",7.17,6.08,6.17,7.25,7.33,7.33,10.0,10.0,10.0,0.11,0,0,9,2013],[\"Arabica\",\"North America\",\"United States\",\"Hawaiian Kona\",\"Green\",\"Natural \\u002f Dry\",7.5,7.5,7.33,7.58,7.5,7.42,8.67,8.67,8.67,0.11,0,2,8,2016],[\"Arabica\",\"North America\",\"United States\",\"Hawaiian Kona\",\"Green\",\"Natural \\u002f Dry\",7.42,7.33,7.33,7.5,7.67,7.75,8.0,8.67,9.33,0.11,0,4,31,2013],[\"Arabica\",\"Asia\",\"Indonesia\",\"Java\",null,\"Washed \\u002f Wet\",6.92,6.83,6.92,6.92,6.92,6.83,10.0,10.0,10.0,0.13,0,0,1,2018],[\"Arabica\",\"North America\",\"Mexico\",\"Typica\",\"Green\",\"Washed \\u002f Wet\",7.08,6.83,6.67,7.25,7.25,6.92,10.0,9.33,10.0,0.11,0,0,3,2013],[\"Arabica\",\"Asia\",\"Taiwan\",\"Yellow Bourbon\",\"Green\",\"Washed \\u002f Wet\",7.5,7.08,7.33,7.17,7.5,7.5,6.67,10.0,10.0,0.0,0,3,4,2018],[\"Arabica\",\"North America\",\"Honduras\",\"Pacas\",\"Green\",\"Natural \\u002f Dry\",6.83,7.0,6.67,7.0,7.0,6.83,10.0,10.0,10.0,0.11,0,2,6,2015],[\"Arabica\",\"North America\",\"United States\",\"Hawaiian Kona\",\"Green\",\"Natural \\u002f Dry\",7.58,7.33,7.5,7.42,7.5,7.33,8.0,8.67,9.33,0.12,0,2,3,2015],[\"Arabica\",\"North America\",\"Guatemala\",\"Other\",\"Green\",\"Washed \\u002f Wet\",7.42,7.25,6.83,7.33,7.0,6.92,9.33,9.33,9.33,0.1,0,1,2,2015],[\"Arabica\",\"Asia\",\"China\",\"Typica\",\"Green\",\"Washed \\u002f Wet\",7.33,7.17,6.92,7.08,7.33,7.0,9.33,9.33,9.33,0.1,0,0,28,2014],[\"Arabica\",\"North America\",\"Guatemala\",\"Bourbon\",\"Green\",\"Washed \\u002f Wet\",7.0,6.83,6.83,7.17,6.67,6.83,10.0,10.0,10.0,0.11,0,3,9,2014],[\"Arabica\",\"North America\",\"Mexico\",\"Other\",\"Green\",\"Washed \\u002f Wet\",7.25,7.33,7.0,7.0,7.25,7.08,10.0,10.0,8.0,0.12,0,2,7,2013],[\"Arabica\",\"South America\",\"Colombia\",null,\"Green\",null,7.42,7.17,7.0,7.17,7.67,7.17,8.67,9.33,9.33,0.1,0,1,3,2012],[\"Arabica\",\"North America\",\"Costa Rica\",\"Caturra\",\"Green\",\"Washed \\u002f Wet\",7.5,7.25,7.42,7.0,7.08,6.83,8.67,9.33,10.0,0.12,0,2,4,2016],[\"Arabica\",\"North America\",\"Mexico\",\"Typica\",\"Green\",\"Washed \\u002f Wet\",7.42,7.25,7.0,7.0,7.25,7.08,8.0,10.0,10.0,0.11,0,0,3,2013],[\"Arabica\",\"North America\",\"Guatemala\",\"Bourbon\",\"Green\",\"Washed \\u002f Wet\",7.17,6.17,6.17,7.08,7.33,6.83,10.0,10.0,10.0,0.11,0,0,7,2013],[\"Arabica\",\"North America\",\"Nicaragua\",null,\"Bluish-Green\",null,7.42,7.0,7.0,7.17,7.08,7.0,9.33,8.67,10.0,0.1,0,0,0,2017],[\"Arabica\",\"South America\",\"Brazil\",null,null,\"Washed \\u002f Wet\",7.0,6.75,6.67,6.83,7.08,6.83,10.0,10.0,10.0,0.11,0,0,2,2015],[\"Arabica\",\"North America\",\"Guatemala\",\"Bourbon\",\"Green\",\"Washed \\u002f Wet\",7.0,6.83,6.67,7.17,6.83,6.83,10.0,10.0,10.0,0.11,0,0,2,2014],[\"Arabica\",\"Asia\",\"Taiwan\",\"Typica\",\"Bluish-Green\",\"Washed \\u002f Wet\",7.17,6.75,6.58,7.33,7.33,7.17,9.33,9.33,10.0,0.11,0,0,0,2014],[\"Arabica\",\"North America\",\"United States\",null,\"Green\",\"Natural \\u002f Dry\",7.58,7.67,7.58,7.67,7.42,7.42,9.33,9.33,6.0,0.12,0,1,5,2014],[\"Arabica\",\"North America\",\"Mexico\",\"Typica\",\"Green\",\"Washed \\u002f Wet\",7.17,6.75,6.58,6.75,6.83,6.75,10.0,10.0,10.0,0.13,0,0,3,2013],[\"Arabica\",\"North America\",\"Guatemala\",\"Bourbon\",\"Green\",\"Washed \\u002f Wet\",7.08,6.92,6.33,7.0,6.92,7.0,10.0,10.0,10.0,0.11,0,2,15,2014],[\"Arabica\",\"South America\",\"Brazil\",\"Bourbon\",\"Green\",\"Natural \\u002f Dry\",7.5,7.33,7.42,7.58,7.58,6.92,8.0,8.0,10.0,0.0,0,0,3,2018],[\"Arabica\",\"North America\",\"Guatemala\",\"Other\",\"Green\",\"Washed \\u002f Wet\",7.33,7.0,6.83,7.17,7.17,7.17,9.33,9.33,9.33,0.1,0,1,2,2015],[\"Arabica\",\"North America\",\"Mexico\",\"Typica\",null,\"Washed \\u002f Wet\",7.33,7.0,6.67,7.0,6.92,6.92,9.33,9.33,10.0,0.15,0,4,5,2013],[\"Arabica\",\"North America\",\"Haiti\",\"Typica\",null,\"Washed \\u002f Wet\",6.83,6.83,6.83,6.75,6.92,6.92,9.33,10.0,10.0,0.1,0,0,1,2015],[\"Arabica\",\"North America\",\"United States\",null,\"Green\",\"Natural \\u002f Dry\",7.08,6.92,6.83,6.67,7.58,7.42,8.67,9.33,10.0,0.12,0,1,5,2015],[\"Arabica\",\"North America\",\"Mexico\",\"Other\",\"Green\",\"Washed \\u002f Wet\",7.08,7.0,7.0,7.25,7.33,7.25,8.67,8.67,10.0,0.12,0,1,11,2013],[\"Arabica\",\"South America\",\"Peru\",\"Caturra\",\"Green\",\"Washed \\u002f Wet\",7.42,7.75,7.42,7.67,7.92,7.83,8.67,5.33,9.33,0.0,0,7,9,2016],[\"Arabica\",\"Asia\",\"India\",null,\"Green\",\"Natural \\u002f Dry\",7.67,7.33,7.17,6.67,7.17,7.42,9.33,10.0,6.67,0.0,7,0,0,2018],[\"Arabica\",\"North America\",\"Mexico\",\"Typica\",null,null,6.67,6.33,6.42,6.83,7.0,6.92,10.0,10.0,10.0,0.0,0,0,0,2011],[\"Arabica\",\"North America\",\"Guatemala\",\"Bourbon\",null,\"Washed \\u002f Wet\",6.42,6.5,6.5,7.33,6.33,6.92,10.0,10.0,10.0,0.12,0,0,4,2013],[\"Arabica\",\"North America\",\"Mexico\",\"Typica\",\"Green\",\"Washed \\u002f Wet\",7.17,6.58,6.58,7.0,7.25,6.58,9.33,9.33,10.0,0.13,0,0,14,2013],[\"Arabica\",\"North America\",\"Guatemala\",\"Bourbon\",\"Green\",\"Washed \\u002f Wet\",7.5,7.0,6.83,7.5,7.17,7.33,8.67,8.67,8.67,0.11,0,0,8,2013],[\"Arabica\",\"North America\",\"Guatemala\",\"Bourbon\",null,\"Washed \\u002f Wet\",6.17,6.5,6.5,7.17,7.0,6.83,10.0,10.0,10.0,0.11,0,0,5,2013],[\"Arabica\",\"North America\",\"United States\",\"Hawaiian Kona\",\"Green\",\"Natural \\u002f Dry\",7.25,7.08,6.83,7.17,7.33,6.83,8.67,8.67,9.33,0.0,0,0,0,2015],[\"Arabica\",\"North America\",\"United States\",null,\"Bluish-Green\",\"Natural \\u002f Dry\",7.5,7.33,7.33,7.58,7.67,7.25,8.0,8.0,8.0,0.0,0,0,3,2015],[\"Arabica\",\"North America\",\"Mexico\",\"Typica\",null,\"Washed \\u002f Wet\",7.42,7.0,6.83,7.08,6.92,6.83,7.33,10.0,10.0,0.16,0,2,4,2013],[\"Arabica\",\"Asia\",\"Indonesia\",\"Other\",null,\"Natural \\u002f Dry\",7.33,7.0,6.5,6.08,7.58,6.33,9.33,10.0,9.33,0.12,0,4,26,2013],[\"Arabica\",\"North America\",\"Mexico\",\"Bourbon\",\"Green\",\"Washed \\u002f Wet\",7.08,6.83,6.83,7.17,7.17,7.08,10.0,7.33,10.0,0.12,0,0,12,2013],[\"Arabica\",\"North America\",\"Honduras\",\"Pacas\",\"Green\",\"Natural \\u002f Dry\",6.83,6.83,6.67,6.83,7.0,6.83,9.33,8.67,10.0,0.11,0,0,7,2015],[\"Arabica\",\"Asia\",\"Philippines\",null,\"Green\",\"Washed \\u002f Wet\",6.83,6.5,6.5,6.92,6.75,7.0,9.33,10.0,9.33,0.12,0,0,2,2014],[\"Arabica\",\"South America\",\"Brazil\",null,\"Green\",\"Natural \\u002f Dry\",7.17,7.0,6.83,7.5,7.17,7.0,8.0,8.0,10.0,0.11,1,0,6,2018],[\"Arabica\",\"North America\",\"Guatemala\",\"Bourbon\",\"Green\",\"Washed \\u002f Wet\",7.92,7.58,7.17,7.58,7.33,7.17,8.0,8.0,8.0,0.11,0,0,15,2013],[\"Arabica\",\"North America\",\"Guatemala\",\"Bourbon\",null,\"Washed \\u002f Wet\",6.67,6.5,6.33,7.0,7.17,6.75,8.67,10.0,10.0,0.12,0,0,10,2013],[\"Arabica\",\"North America\",\"Mexico\",\"Pacamara\",\"Green\",\"Washed \\u002f Wet\",7.5,7.25,6.92,7.0,7.17,6.83,8.0,8.0,10.0,0.11,0,4,20,2013],[\"Arabica\",\"North America\",\"Mexico\",\"Mundo Novo\",\"Green\",\"Washed \\u002f Wet\",7.17,6.92,6.67,6.83,7.25,7.75,10.0,6.0,10.0,0.11,0,0,20,2013],[\"Arabica\",\"North America\",\"Mexico\",\"Other\",null,\"Washed \\u002f Wet\",7.25,6.83,6.67,7.08,7.17,6.83,10.0,6.67,10.0,0.12,0,0,8,2013],[\"Arabica\",\"North America\",\"Mexico\",\"Typica\",\"Bluish-Green\",\"Washed \\u002f Wet\",7.17,7.17,6.83,7.17,7.42,6.67,8.67,7.33,10.0,0.13,0,23,29,2013],[\"Arabica\",\"North America\",\"Mexico\",\"Typica\",\"Green\",\"Washed \\u002f Wet\",7.0,6.92,6.75,6.92,7.17,6.83,10.0,6.67,10.0,0.14,0,15,7,2013],[\"Arabica\",\"North America\",\"Mexico\",\"Typica\",null,\"Washed \\u002f Wet\",7.08,6.75,6.58,7.0,7.0,6.75,8.67,8.67,10.0,0.17,0,0,6,2013],[\"Arabica\",\"North America\",\"Mexico\",\"Typica\",\"Green\",\"Washed \\u002f Wet\",7.33,6.75,6.67,7.25,7.5,7.0,10.0,5.33,10.0,0.12,0,0,30,2013],[\"Arabica\",\"North America\",\"Guatemala\",\"Bourbon\",null,\"Washed \\u002f Wet\",6.75,6.5,6.17,7.0,7.25,6.75,8.0,10.0,10.0,0.11,0,0,8,2013],[\"Arabica\",\"North America\",\"Guatemala\",\"Bourbon\",null,\"Washed \\u002f Wet\",6.75,6.67,6.17,7.17,7.0,6.58,8.0,10.0,10.0,0.11,0,0,10,2013],[\"Arabica\",\"North America\",\"Mexico\",\"Typica\",\"Green\",\"Washed \\u002f Wet\",7.08,7.0,6.83,7.5,7.33,6.83,8.0,7.33,10.0,0.12,0,0,7,2014],[\"Arabica\",\"North America\",\"United States\",\"Hawaiian Kona\",\"Blue-Green\",\"Natural \\u002f Dry\",7.5,7.25,7.0,7.25,7.42,7.33,8.0,8.67,6.67,0.0,0,1,2,2015],[\"Arabica\",\"North America\",\"Guatemala\",\"Bourbon\",\"Green\",\"Washed \\u002f Wet\",6.5,6.33,6.5,7.5,7.33,6.83,8.67,10.0,8.67,0.11,0,1,1,2014],[\"Arabica\",\"North America\",\"Mexico\",\"Typica\",\"Green\",\"Washed \\u002f Wet\",7.0,6.58,6.67,6.83,7.08,6.83,10.0,6.67,10.0,0.14,0,3,11,2013],[\"Arabica\",\"North America\",\"Mexico\",\"Typica\",null,\"Washed \\u002f Wet\",6.92,6.42,6.17,7.33,7.25,6.75,10.0,6.67,10.0,0.13,0,0,27,2013],[\"Arabica\",\"North America\",\"Mexico\",\"Typica\",\"Green\",\"Washed \\u002f Wet\",7.67,7.0,7.17,7.58,7.33,7.33,10.0,2.67,10.0,0.12,0,0,19,2013],[\"Arabica\",\"North America\",\"United States\",\"Hawaiian Kona\",null,\"Natural \\u002f Dry\",7.17,7.17,7.17,7.58,7.67,6.92,9.33,6.67,6.67,0.0,0,9,17,2013],[\"Arabica\",\"South America\",\"Brazil\",null,\"Green\",null,7.25,6.58,6.58,7.0,7.0,6.42,8.0,8.0,10.0,0.11,1,0,0,2016],[\"Arabica\",\"North America\",\"Honduras\",\"Pacas\",\"Green\",\"Washed \\u002f Wet\",7.0,7.17,6.83,7.17,7.0,7.17,8.0,8.0,8.0,0.11,0,1,16,2015],[\"Arabica\",\"North America\",\"Mexico\",\"Typica\",null,\"Washed \\u002f Wet\",7.08,7.08,6.92,7.08,6.92,6.92,8.0,8.0,8.0,0.0,0,1,1,2015],[\"Arabica\",\"South America\",\"Colombia\",null,\"Bluish-Green\",\"Natural \\u002f Dry\",8.0,7.33,7.75,7.33,7.42,7.67,6.67,6.67,6.67,0.0,0,0,15,2015],[\"Arabica\",\"North America\",\"United States\",\"Hawaiian Kona\",\"Green\",\"Natural \\u002f Dry\",6.92,6.92,6.92,7.5,7.58,7.17,6.67,6.67,9.33,0.11,0,5,9,2015],[\"Arabica\",\"North America\",\"Haiti\",null,null,null,6.92,6.75,7.08,7.17,7.33,6.67,10.0,5.33,8.67,0.08,0,1,0,2012],[\"Arabica\",\"North America\",\"Costa Rica\",\"Caturra\",\"Green\",\"Washed \\u002f Wet\",6.33,6.5,6.33,6.83,6.33,6.5,10.0,6.67,10.0,0.11,0,0,7,2016],[\"Arabica\",\"North America\",\"Mexico\",\"Mundo Novo\",\"Green\",\"Washed \\u002f Wet\",6.92,6.92,6.92,6.92,7.17,7.0,10.0,2.67,10.0,0.12,0,4,24,2013],[\"Arabica\",\"North America\",\"Mexico\",\"Bourbon\",\"Green\",\"Washed \\u002f Wet\",6.5,6.67,6.42,7.17,7.33,6.5,8.0,6.0,10.0,0.11,0,0,0,2013],[\"Arabica\",\"North America\",\"Mexico\",\"Typica\",\"Green\",\"Washed \\u002f Wet\",6.92,7.0,6.83,6.92,7.42,6.92,6.0,6.0,10.0,0.12,0,0,1,2015],[\"Arabica\",\"South America\",\"Brazil\",null,\"Green\",\"Natural \\u002f Dry\",7.0,7.0,6.83,7.0,7.33,6.83,6.0,6.0,10.0,0.11,1,0,55,2018],[\"Arabica\",\"North America\",\"Honduras\",\"Catuai\",\"Green\",\"Washed \\u002f Wet\",6.67,6.5,6.17,6.67,6.83,6.17,8.0,8.0,8.0,0.1,0,0,4,2015],[\"Arabica\",\"North America\",\"Honduras\",\"Catuai\",\"Green\",\"Washed \\u002f Wet\",7.0,6.17,6.17,6.67,6.5,6.17,8.0,8.0,8.0,0.1,0,0,3,2015],[\"Arabica\",\"North America\",\"Honduras\",\"Catuai\",\"Green\",\"Washed \\u002f Wet\",7.0,6.33,6.17,6.5,6.67,6.17,8.0,8.0,8.0,0.1,0,0,4,2015],[\"Arabica\",\"North America\",\"Mexico\",\"Bourbon\",null,\"Washed \\u002f Wet\",7.08,6.83,6.25,7.42,7.25,6.75,10.0,0.0,10.0,0.11,0,0,20,2013],[\"Arabica\",\"North America\",\"Haiti\",\"Typica\",\"Blue-Green\",\"Natural \\u002f Dry\",6.75,6.58,6.42,6.67,7.08,6.67,9.33,6.0,6.0,0.14,0,8,16,2013],[\"Arabica\",\"North America\",\"Nicaragua\",\"Caturra\",\"Green\",\"Other\",7.25,6.58,6.33,6.25,6.42,6.08,6.0,6.0,6.0,0.13,0,1,5,2018],[\"Arabica\",\"North America\",\"Guatemala\",\"Catuai\",\"Green\",\"Washed \\u002f Wet\",7.5,6.67,6.67,7.67,7.33,6.67,8.0,1.33,1.33,0.1,0,0,4,2013],[\"Arabica\",\"North America\",\"Honduras\",\"Caturra\",\"Green\",null,0.0,0.0,0.0,0.0,0.0,0.0,0.0,0.0,0.0,0.12,0,0,2,2018],[\"Robusta\",\"Africa\",\"Uganda\",null,\"Green\",null,7.83,8.08,7.75,7.92,8.25,7.92,10.0,10.0,8.0,0.12,0,0,2,2015],[\"Robusta\",\"Asia\",\"India\",null,null,\"Washed \\u002f Wet\",8.0,7.75,7.92,8.0,7.92,7.92,10.0,10.0,8.0,0.0,0,0,2,2018],[\"Robusta\",\"Asia\",\"India\",null,\"Green\",null,7.92,7.83,7.92,8.0,7.83,7.92,10.0,10.0,7.83,0.0,0,0,0,2016],[\"Robusta\",\"Africa\",\"Uganda\",null,\"Green\",null,8.0,7.92,7.92,7.75,7.83,7.75,10.0,10.0,7.75,0.12,0,0,7,2015],[\"Robusta\",\"Africa\",\"Uganda\",null,\"Green\",null,8.33,7.83,7.83,7.75,8.25,7.75,10.0,10.0,7.58,0.12,0,0,3,2015],[\"Robusta\",\"Asia\",\"India\",null,\"Green\",null,8.0,7.92,7.67,8.0,7.75,7.92,10.0,10.0,7.75,0.0,0,0,0,2013],[\"Robusta\",\"Asia\",\"India\",null,\"Green\",null,7.67,7.75,7.83,7.83,7.92,7.75,10.0,10.0,8.0,0.0,0,0,0,2015],[\"Robusta\",\"Asia\",\"India\",null,\"Bluish-Green\",\"Washed \\u002f Wet\",7.67,7.75,7.83,7.67,7.92,7.83,10.0,10.0,7.92,0.1,0,0,0,2018],[\"Robusta\",\"Asia\",\"India\",\"Other\",\"Green\",\"Washed \\u002f Wet\",7.67,7.75,7.58,7.83,7.83,8.0,10.0,10.0,7.92,0.09,0,0,0,2017],[\"Robusta\",\"Africa\",\"Uganda\",null,\"Green\",null,7.67,7.83,7.83,7.83,7.92,7.75,10.0,10.0,7.75,0.12,0,0,6,2015],[\"Robusta\",\"Africa\",\"Uganda\",null,\"Green\",null,7.58,7.92,7.75,7.83,7.5,7.67,10.0,10.0,7.67,0.12,0,0,1,2015],[\"Robusta\",\"Asia\",\"India\",\"Other\",\"Green\",\"Natural \\u002f Dry\",7.67,7.83,7.75,7.5,7.75,7.58,10.0,10.0,7.75,0.11,0,0,0,2017],[\"Robusta\",\"Asia\",\"India\",null,\"Green\",null,7.58,7.58,7.67,7.58,7.67,7.67,10.0,10.0,7.5,0.0,0,0,1,2015],[\"Robusta\",\"Africa\",\"Uganda\",null,\"Green\",null,8.0,7.75,7.75,7.58,7.67,7.5,10.0,10.0,7.58,0.11,0,0,7,2015],[\"Robusta\",\"Africa\",\"Uganda\",null,\"Green\",null,8.0,7.67,7.75,7.5,7.67,7.58,10.0,10.0,7.58,0.12,0,0,2,2015],[\"Robusta\",\"Asia\",\"India\",null,\"Green\",null,7.75,7.75,7.67,7.67,7.58,7.58,10.0,10.0,7.58,0.0,0,0,0,2016],[\"Robusta\",\"Asia\",\"India\",null,\"Blue-Green\",\"Natural \\u002f Dry\",7.5,7.5,7.25,7.83,7.67,7.83,10.0,10.0,7.83,0.13,0,0,0,2014],[\"Robusta\",\"Africa\",\"Uganda\",null,\"Green\",null,7.33,7.58,7.5,7.75,7.75,7.67,10.0,10.0,7.75,0.12,0,0,1,2015],[\"Robusta\",\"Africa\",\"Uganda\",null,\"Green\",null,7.83,7.58,7.33,7.67,7.5,7.5,10.0,10.0,7.75,0.12,0,0,2,2015],[\"Robusta\",\"Africa\",\"Uganda\",null,\"Green\",null,7.75,7.42,7.33,7.58,7.67,7.58,10.0,10.0,7.67,0.12,0,0,1,2015],[\"Robusta\",\"Asia\",\"India\",null,\"Bluish-Green\",null,7.67,7.67,7.5,7.33,7.58,7.5,10.0,10.0,7.42,0.0,0,0,1,2015],[\"Robusta\",\"Asia\",\"India\",null,\"Green\",\"Natural \\u002f Dry\",7.58,7.42,7.42,7.83,7.42,7.5,10.0,10.0,7.42,0.0,0,0,0,2014],[\"Robusta\",\"North America\",\"United States\",\"Arusha\",\"Green\",\"Natural \\u002f Dry\",7.92,7.5,7.42,7.42,7.42,7.42,9.33,10.0,7.58,0.0,0,0,0,2013],[\"Robusta\",\"South America\",\"Ecuador\",null,\"Blue-Green\",null,7.75,7.58,7.33,7.58,5.08,7.83,10.0,10.0,7.75,0.0,0,0,1,2017],[\"Robusta\",\"South America\",\"Ecuador\",null,\"Blue-Green\",null,7.5,7.67,7.75,7.75,5.17,5.25,10.0,10.0,8.42,0.0,0,0,0,2017],[\"Robusta\",\"North America\",\"United States\",null,null,\"Natural \\u002f Dry\",7.33,7.33,7.17,7.42,7.5,7.17,9.33,9.33,7.42,0.0,0,0,6,2015],[\"Robusta\",\"Asia\",\"India\",null,\"Green\",\"Natural \\u002f Dry\",7.42,6.83,6.75,7.17,7.25,7.0,9.33,9.33,7.08,0.1,0,20,1,2015],[\"Robusta\",\"Asia\",\"Vietnam\",null,null,\"Natural \\u002f Dry\",6.75,6.67,6.5,6.83,6.92,6.83,9.33,9.33,6.67,0.12,0,63,9,2015]],\"hovertemplate\":\"Harvest.Year=%{x}\\u003cbr\\u003eSpecies=%{customdata[0]}\\u003cbr\\u003eContinent.of.Origin=%{customdata[1]}\\u003cbr\\u003eCountry.of.Origin=%{customdata[2]}\\u003cbr\\u003eVariety=%{customdata[3]}\\u003cbr\\u003eColor=%{customdata[4]}\\u003cbr\\u003eProcessing.Method=%{customdata[5]}\\u003cbr\\u003eAroma=%{customdata[6]}\\u003cbr\\u003eFlavor=%{customdata[7]}\\u003cbr\\u003eAftertaste=%{customdata[8]}\\u003cbr\\u003eAcidity=%{customdata[9]}\\u003cbr\\u003eBody=%{customdata[10]}\\u003cbr\\u003eBalance=%{customdata[11]}\\u003cbr\\u003eUniformity=%{customdata[12]}\\u003cbr\\u003eClean.Cup=%{customdata[13]}\\u003cbr\\u003eSweetness=%{customdata[14]}\\u003cbr\\u003eMoisture=%{customdata[15]}\\u003cbr\\u003eQuakers=%{customdata[16]}\\u003cbr\\u003eCategory.One.Defects=%{customdata[17]}\\u003cbr\\u003eCategory.Two.Defects=%{customdata[18]}\\u003cbr\\u003eExpiration_year=%{customdata[19]}\\u003cextra\\u003e\\u003c\\u002fextra\\u003e\",\"legendgroup\":\"\",\"marker\":{\"color\":\"#636efa\"},\"name\":\"\",\"notched\":true,\"offsetgroup\":\"\",\"showlegend\":false,\"x\":[2014.0,2014.0,null,2014.0,2014.0,2013.0,2012.0,2010.0,2010.0,2014.0,2014.0,2014.0,2014.0,2009.0,2010.0,2014.0,null,2009.0,2015.0,2014.0,2014.0,2014.0,2012.0,2014.0,2013.0,2011.0,2009.0,2013.0,2016.0,2015.0,null,2012.0,2011.0,2015.0,2014.0,2013.0,2012.0,2010.0,2009.0,2014.0,2012.0,2010.0,2010.0,2015.0,2014.0,2011.0,2014.0,2013.0,2013.0,2012.0,2009.0,2009.0,2016.0,2013.0,2013.0,2017.0,2014.0,2012.0,2012.0,2017.0,2013.0,2012.0,2013.0,2012.0,2012.0,2014.0,2014.0,2015.0,2013.0,2013.0,2015.0,2013.0,2012.0,2011.0,2009.0,2015.0,2014.0,2014.0,2014.0,2012.0,2012.0,2009.0,2009.0,2016.0,2015.0,2014.0,2012.0,2012.0,2016.0,2015.0,2014.0,2014.0,2012.0,2010.0,2010.0,null,2016.0,2016.0,2016.0,2015.0,2015.0,2012.0,2012.0,2010.0,null,2009.0,2016.0,2015.0,2015.0,2014.0,2012.0,2012.0,2011.0,2011.0,2009.0,2016.0,2013.0,2012.0,2009.0,2009.0,2015.0,2014.0,2014.0,2010.0,2009.0,2016.0,2016.0,null,2015.0,2015.0,2014.0,2014.0,2014.0,2014.0,2012.0,2013.0,2013.0,2012.0,2012.0,2012.0,2012.0,2012.0,null,2009.0,null,2016.0,2016.0,2013.0,2014.0,2014.0,2013.0,2013.0,2013.0,2012.0,2012.0,2012.0,2011.0,2011.0,2017.0,2016.0,2015.0,2014.0,2015.0,2013.0,2013.0,2012.0,2012.0,2012.0,2012.0,null,null,2016.0,2017.0,2015.0,2014.0,2012.0,2012.0,2012.0,2009.0,2017.0,2016.0,2016.0,2016.0,2016.0,2015.0,2013.0,2012.0,2011.0,2011.0,null,2009.0,2016.0,2015.0,2016.0,2016.0,2015.0,2015.0,2015.0,2015.0,2015.0,2015.0,2014.0,2014.0,2014.0,2013.0,2012.0,2012.0,2012.0,2012.0,2012.0,2017.0,2016.0,2016.0,2016.0,2016.0,2016.0,2015.0,2015.0,2015.0,2014.0,2014.0,2014.0,2014.0,2013.0,2013.0,2012.0,2013.0,2013.0,2012.0,2012.0,2012.0,2017.0,2017.0,2016.0,2016.0,2014.0,2014.0,2012.0,2012.0,2012.0,2017.0,2017.0,2017.0,2015.0,2014.0,2014.0,2014.0,2014.0,2014.0,2014.0,2013.0,2013.0,2013.0,2012.0,2012.0,2012.0,2012.0,2011.0,2017.0,2017.0,2015.0,2016.0,2015.0,2016.0,2016.0,2014.0,2015.0,2014.0,2014.0,2014.0,2014.0,2012.0,2012.0,2012.0,2017.0,2016.0,2015.0,2016.0,2016.0,2015.0,2014.0,2014.0,2014.0,2013.0,2014.0,2013.0,2013.0,2013.0,2013.0,2012.0,2012.0,2011.0,2011.0,2011.0,2010.0,null,2017.0,2017.0,2016.0,2016.0,2015.0,2015.0,2013.0,2013.0,2014.0,2014.0,2013.0,2013.0,2013.0,2012.0,2012.0,2011.0,2010.0,null,2017.0,2017.0,2016.0,2016.0,2016.0,2015.0,null,2014.0,2014.0,2014.0,2013.0,2013.0,2013.0,2013.0,2012.0,2012.0,2012.0,2012.0,2012.0,2012.0,null,2017.0,2016.0,2016.0,2015.0,2015.0,2014.0,2014.0,2013.0,2014.0,2014.0,2014.0,2013.0,2012.0,2012.0,2012.0,2012.0,2016.0,2016.0,2015.0,2016.0,2016.0,2015.0,2015.0,2015.0,2014.0,2014.0,2014.0,2013.0,2014.0,2014.0,2013.0,2013.0,2012.0,2012.0,2012.0,2012.0,2012.0,2012.0,null,2010.0,2017.0,2017.0,2016.0,2016.0,2015.0,2015.0,2015.0,2016.0,2015.0,2014.0,2014.0,2014.0,2013.0,2014.0,2013.0,2012.0,2012.0,null,2010.0,null,null,2016.0,2016.0,2016.0,2015.0,2014.0,2015.0,2014.0,2013.0,2014.0,2014.0,2013.0,2013.0,2012.0,2013.0,2013.0,2012.0,2012.0,2012.0,null,null,2017.0,2016.0,2015.0,2016.0,2015.0,2016.0,2015.0,2015.0,2015.0,2014.0,2014.0,2014.0,2013.0,2013.0,2012.0,2012.0,2012.0,2012.0,2012.0,2012.0,2012.0,2011.0,2010.0,2010.0,2017.0,2017.0,2016.0,2017.0,2017.0,2016.0,2016.0,2015.0,2015.0,2016.0,2015.0,2015.0,2014.0,2014.0,2014.0,2014.0,2014.0,2014.0,2013.0,2014.0,2014.0,2013.0,2014.0,2013.0,2013.0,2012.0,2012.0,2012.0,2012.0,2012.0,2012.0,2012.0,2012.0,2012.0,2011.0,2011.0,2010.0,null,2016.0,2016.0,2015.0,2015.0,2015.0,2015.0,2014.0,2014.0,2013.0,2013.0,2012.0,2012.0,2012.0,2012.0,null,2010.0,2010.0,null,2017.0,2016.0,2016.0,2015.0,2015.0,2016.0,2014.0,2015.0,2015.0,2015.0,2014.0,2014.0,2013.0,2013.0,2014.0,2013.0,2013.0,2013.0,2013.0,2013.0,2013.0,2012.0,2012.0,2012.0,2012.0,2012.0,2012.0,2012.0,2012.0,2011.0,2011.0,null,null,null,2011.0,2009.0,null,2017.0,2017.0,2017.0,2016.0,2016.0,2014.0,2015.0,2014.0,2015.0,2015.0,2014.0,2013.0,2013.0,2014.0,2014.0,2012.0,2013.0,2013.0,2013.0,2013.0,2012.0,2012.0,2012.0,2012.0,null,null,2017.0,2017.0,2015.0,2016.0,2015.0,2014.0,2015.0,2015.0,2014.0,2014.0,2014.0,2013.0,2013.0,2012.0,2012.0,2012.0,2012.0,2012.0,2010.0,null,2017.0,2017.0,2017.0,2017.0,2017.0,2017.0,2016.0,2017.0,2016.0,2017.0,2015.0,2015.0,2015.0,2014.0,2014.0,2014.0,2014.0,2013.0,2013.0,2013.0,2013.0,2012.0,2012.0,2012.0,2012.0,2012.0,2012.0,null,2017.0,2016.0,2015.0,2016.0,2016.0,2015.0,2015.0,2014.0,2014.0,2014.0,2014.0,2014.0,2013.0,2013.0,2013.0,2012.0,2012.0,2012.0,2012.0,2012.0,2012.0,2011.0,null,2010.0,2010.0,2009.0,2017.0,2016.0,2016.0,2016.0,2016.0,2015.0,2014.0,2014.0,2014.0,2013.0,2013.0,2014.0,2012.0,2013.0,2012.0,2013.0,2012.0,2012.0,2012.0,2011.0,2017.0,2017.0,2017.0,2016.0,2014.0,2014.0,2014.0,2014.0,2013.0,2013.0,2013.0,2013.0,2013.0,2012.0,2012.0,2012.0,2012.0,2012.0,2012.0,2012.0,null,2017.0,2017.0,2016.0,2017.0,2017.0,2016.0,2015.0,2016.0,2015.0,2015.0,2013.0,2014.0,2012.0,2013.0,2013.0,2013.0,2012.0,2013.0,2013.0,2012.0,2012.0,2012.0,2012.0,2012.0,2012.0,2012.0,2012.0,2012.0,2012.0,2011.0,2011.0,2017.0,2016.0,2016.0,2016.0,2015.0,2015.0,2015.0,2015.0,2015.0,2015.0,2014.0,2014.0,2014.0,2014.0,2013.0,2013.0,2013.0,2013.0,2013.0,2013.0,2012.0,2012.0,2012.0,2012.0,2012.0,2012.0,2012.0,2012.0,2012.0,null,2016.0,2016.0,2015.0,2014.0,2015.0,2014.0,2014.0,2013.0,2013.0,2012.0,2012.0,2012.0,2012.0,2012.0,2012.0,2012.0,2012.0,2012.0,2012.0,null,2016.0,2015.0,null,2015.0,2015.0,2015.0,2014.0,2015.0,2014.0,2014.0,2014.0,2013.0,2013.0,2013.0,2012.0,2013.0,2012.0,2012.0,2012.0,2012.0,2010.0,2017.0,2016.0,2016.0,2015.0,2015.0,2014.0,2014.0,2013.0,2013.0,2012.0,2012.0,2012.0,2012.0,2012.0,2012.0,2012.0,2011.0,2017.0,2016.0,2016.0,2015.0,2015.0,2014.0,2014.0,2013.0,2013.0,2013.0,2014.0,2013.0,2012.0,2012.0,2012.0,2012.0,2012.0,2012.0,2012.0,2012.0,null,2017.0,2017.0,2017.0,2016.0,2014.0,2015.0,2014.0,2013.0,2014.0,2012.0,2012.0,2013.0,2012.0,2012.0,2012.0,2012.0,2012.0,2010.0,2017.0,2016.0,2016.0,2015.0,2015.0,2015.0,2015.0,2015.0,2015.0,2015.0,2015.0,2014.0,2014.0,2014.0,2014.0,2014.0,2014.0,2013.0,2012.0,2012.0,2013.0,2012.0,2012.0,2011.0,2011.0,null,2017.0,2014.0,2014.0,2013.0,2012.0,2012.0,2012.0,2012.0,2012.0,2011.0,null,2017.0,2017.0,2017.0,2016.0,2016.0,null,2016.0,2015.0,2014.0,2013.0,2014.0,2013.0,2014.0,2013.0,2014.0,2013.0,2013.0,2013.0,2012.0,2012.0,2012.0,2012.0,2012.0,2012.0,2012.0,2018.0,2017.0,2016.0,2015.0,2014.0,2014.0,2014.0,2013.0,2013.0,2013.0,2012.0,2012.0,2011.0,2011.0,null,2017.0,2017.0,2017.0,2017.0,2015.0,2015.0,2014.0,2014.0,2014.0,2014.0,2014.0,2013.0,2013.0,2013.0,2012.0,2012.0,2012.0,2012.0,2012.0,2012.0,2012.0,2012.0,null,null,2017.0,2016.0,2015.0,2015.0,2014.0,2014.0,2014.0,2014.0,2014.0,2013.0,2013.0,2012.0,2012.0,2011.0,2010.0,null,2016.0,2016.0,2016.0,2015.0,2015.0,2014.0,2014.0,2014.0,2014.0,2012.0,2012.0,null,2015.0,2015.0,2015.0,2015.0,2014.0,2014.0,2013.0,2013.0,2012.0,2016.0,2015.0,2015.0,2015.0,2015.0,2014.0,2014.0,2014.0,2014.0,2014.0,2013.0,2012.0,2012.0,2012.0,null,2016.0,2016.0,2015.0,2014.0,2014.0,2014.0,2013.0,2012.0,2012.0,2012.0,2012.0,2012.0,null,2017.0,2016.0,2016.0,2016.0,2015.0,2015.0,2014.0,2014.0,2014.0,2013.0,2013.0,2012.0,2012.0,2012.0,2017.0,2017.0,2017.0,2017.0,2015.0,2014.0,2014.0,2014.0,2014.0,2014.0,2013.0,2014.0,2013.0,2013.0,2013.0,2012.0,null,2016.0,2013.0,2012.0,2012.0,2012.0,2012.0,2010.0,2015.0,2015.0,2015.0,2015.0,2015.0,2014.0,2015.0,2015.0,2014.0,2012.0,2012.0,2011.0,2016.0,2015.0,2015.0,2015.0,2014.0,2014.0,2014.0,2013.0,2012.0,2012.0,null,2016.0,2016.0,2014.0,2014.0,2014.0,2014.0,null,null,2017.0,2017.0,2017.0,2016.0,2015.0,2015.0,2014.0,2013.0,2013.0,2013.0,2012.0,2016.0,2014.0,2013.0,2013.0,2013.0,2012.0,2012.0,2016.0,2015.0,2014.0,2013.0,2013.0,2012.0,2012.0,2010.0,2017.0,2016.0,2016.0,2015.0,2014.0,2015.0,2014.0,2012.0,2013.0,2012.0,2012.0,2017.0,2015.0,2015.0,2013.0,2012.0,2012.0,2012.0,2012.0,null,2017.0,2014.0,2013.0,2013.0,2013.0,2013.0,2012.0,2012.0,2017.0,2015.0,2014.0,2013.0,2012.0,2012.0,2012.0,2010.0,2015.0,2014.0,2013.0,2012.0,2012.0,2012.0,2012.0,2012.0,null,2017.0,2017.0,2014.0,2012.0,2012.0,2016.0,2014.0,2013.0,2013.0,2013.0,2013.0,2013.0,2013.0,2013.0,2012.0,2012.0,2012.0,2012.0,2016.0,2016.0,2013.0,2013.0,2013.0,2012.0,2012.0,null,2012.0,2012.0,2010.0,2009.0,2015.0,2014.0,2013.0,2012.0,2012.0,2013.0,2014.0,2012.0,2016.0,2013.0,2012.0,2012.0,2012.0,2014.0,2012.0,2017.0,2017.0,2016.0,2015.0,2012.0,2012.0,2012.0,null,2017.0,2013.0,2012.0,2012.0,2012.0,2014.0,2014.0,2012.0,2012.0,2012.0,2012.0,2013.0,2012.0,2016.0,2013.0,2013.0,2012.0,2012.0,2012.0,2013.0,2012.0,2016.0,2014.0,2014.0,2013.0,2012.0,2012.0,null,2014.0,2012.0,2012.0,2014.0,2012.0,2014.0,2014.0,2012.0,2012.0,2012.0,2014.0,2012.0,2016.0,2012.0,2016.0,2014.0,2014.0,2014.0,2013.0,2013.0,2012.0,null,2014.0,2012.0,2012.0,2016.0,2014.0,2013.0,2012.0,2013.0,2012.0,2013.0,2017.0,2014.0,2012.0,2013.0,2013.0,2012.0,2014.0,2016.0,null,2012.0,2012.0,2012.0,2011.0,2014.0,2013.0,2012.0,2011.0,2012.0,2014.0,2012.0,2017.0,2012.0,2012.0,2012.0,2012.0,2012.0,2012.0,2012.0,2012.0,2012.0,2012.0,2012.0,2013.0,2014.0,2013.0,2012.0,2012.0,2012.0,2012.0,2016.0,2014.0,2014.0,2013.0,2014.0,2010.0,2014.0,2012.0,2012.0,2014.0,2017.0,2014.0,2014.0,2014.0,2012.0,2012.0,2016.0,2012.0,2017.0,2013.0,2017.0,2015.0,2013.0,2013.0,2012.0,2014.0,2017.0,2015.0,2014.0,2014.0,2015.0,2014.0,2013.0,2014.0,2015.0,2013.0,2013.0,2013.0,2013.0,2014.0,2013.0,2012.0,2016.0,2016.0,2014.0,2013.0,2013.0],\"xaxis\":\"x2\",\"yaxis\":\"y2\",\"type\":\"box\"}],                        {\"template\":{\"data\":{\"histogram2dcontour\":[{\"type\":\"histogram2dcontour\",\"colorbar\":{\"outlinewidth\":0,\"ticks\":\"\"},\"colorscale\":[[0.0,\"#0d0887\"],[0.1111111111111111,\"#46039f\"],[0.2222222222222222,\"#7201a8\"],[0.3333333333333333,\"#9c179e\"],[0.4444444444444444,\"#bd3786\"],[0.5555555555555556,\"#d8576b\"],[0.6666666666666666,\"#ed7953\"],[0.7777777777777778,\"#fb9f3a\"],[0.8888888888888888,\"#fdca26\"],[1.0,\"#f0f921\"]]}],\"choropleth\":[{\"type\":\"choropleth\",\"colorbar\":{\"outlinewidth\":0,\"ticks\":\"\"}}],\"histogram2d\":[{\"type\":\"histogram2d\",\"colorbar\":{\"outlinewidth\":0,\"ticks\":\"\"},\"colorscale\":[[0.0,\"#0d0887\"],[0.1111111111111111,\"#46039f\"],[0.2222222222222222,\"#7201a8\"],[0.3333333333333333,\"#9c179e\"],[0.4444444444444444,\"#bd3786\"],[0.5555555555555556,\"#d8576b\"],[0.6666666666666666,\"#ed7953\"],[0.7777777777777778,\"#fb9f3a\"],[0.8888888888888888,\"#fdca26\"],[1.0,\"#f0f921\"]]}],\"heatmap\":[{\"type\":\"heatmap\",\"colorbar\":{\"outlinewidth\":0,\"ticks\":\"\"},\"colorscale\":[[0.0,\"#0d0887\"],[0.1111111111111111,\"#46039f\"],[0.2222222222222222,\"#7201a8\"],[0.3333333333333333,\"#9c179e\"],[0.4444444444444444,\"#bd3786\"],[0.5555555555555556,\"#d8576b\"],[0.6666666666666666,\"#ed7953\"],[0.7777777777777778,\"#fb9f3a\"],[0.8888888888888888,\"#fdca26\"],[1.0,\"#f0f921\"]]}],\"heatmapgl\":[{\"type\":\"heatmapgl\",\"colorbar\":{\"outlinewidth\":0,\"ticks\":\"\"},\"colorscale\":[[0.0,\"#0d0887\"],[0.1111111111111111,\"#46039f\"],[0.2222222222222222,\"#7201a8\"],[0.3333333333333333,\"#9c179e\"],[0.4444444444444444,\"#bd3786\"],[0.5555555555555556,\"#d8576b\"],[0.6666666666666666,\"#ed7953\"],[0.7777777777777778,\"#fb9f3a\"],[0.8888888888888888,\"#fdca26\"],[1.0,\"#f0f921\"]]}],\"contourcarpet\":[{\"type\":\"contourcarpet\",\"colorbar\":{\"outlinewidth\":0,\"ticks\":\"\"}}],\"contour\":[{\"type\":\"contour\",\"colorbar\":{\"outlinewidth\":0,\"ticks\":\"\"},\"colorscale\":[[0.0,\"#0d0887\"],[0.1111111111111111,\"#46039f\"],[0.2222222222222222,\"#7201a8\"],[0.3333333333333333,\"#9c179e\"],[0.4444444444444444,\"#bd3786\"],[0.5555555555555556,\"#d8576b\"],[0.6666666666666666,\"#ed7953\"],[0.7777777777777778,\"#fb9f3a\"],[0.8888888888888888,\"#fdca26\"],[1.0,\"#f0f921\"]]}],\"surface\":[{\"type\":\"surface\",\"colorbar\":{\"outlinewidth\":0,\"ticks\":\"\"},\"colorscale\":[[0.0,\"#0d0887\"],[0.1111111111111111,\"#46039f\"],[0.2222222222222222,\"#7201a8\"],[0.3333333333333333,\"#9c179e\"],[0.4444444444444444,\"#bd3786\"],[0.5555555555555556,\"#d8576b\"],[0.6666666666666666,\"#ed7953\"],[0.7777777777777778,\"#fb9f3a\"],[0.8888888888888888,\"#fdca26\"],[1.0,\"#f0f921\"]]}],\"mesh3d\":[{\"type\":\"mesh3d\",\"colorbar\":{\"outlinewidth\":0,\"ticks\":\"\"}}],\"scatter\":[{\"fillpattern\":{\"fillmode\":\"overlay\",\"size\":10,\"solidity\":0.2},\"type\":\"scatter\"}],\"parcoords\":[{\"type\":\"parcoords\",\"line\":{\"colorbar\":{\"outlinewidth\":0,\"ticks\":\"\"}}}],\"scatterpolargl\":[{\"type\":\"scatterpolargl\",\"marker\":{\"colorbar\":{\"outlinewidth\":0,\"ticks\":\"\"}}}],\"bar\":[{\"error_x\":{\"color\":\"#2a3f5f\"},\"error_y\":{\"color\":\"#2a3f5f\"},\"marker\":{\"line\":{\"color\":\"#E5ECF6\",\"width\":0.5},\"pattern\":{\"fillmode\":\"overlay\",\"size\":10,\"solidity\":0.2}},\"type\":\"bar\"}],\"scattergeo\":[{\"type\":\"scattergeo\",\"marker\":{\"colorbar\":{\"outlinewidth\":0,\"ticks\":\"\"}}}],\"scatterpolar\":[{\"type\":\"scatterpolar\",\"marker\":{\"colorbar\":{\"outlinewidth\":0,\"ticks\":\"\"}}}],\"histogram\":[{\"marker\":{\"pattern\":{\"fillmode\":\"overlay\",\"size\":10,\"solidity\":0.2}},\"type\":\"histogram\"}],\"scattergl\":[{\"type\":\"scattergl\",\"marker\":{\"colorbar\":{\"outlinewidth\":0,\"ticks\":\"\"}}}],\"scatter3d\":[{\"type\":\"scatter3d\",\"line\":{\"colorbar\":{\"outlinewidth\":0,\"ticks\":\"\"}},\"marker\":{\"colorbar\":{\"outlinewidth\":0,\"ticks\":\"\"}}}],\"scattermapbox\":[{\"type\":\"scattermapbox\",\"marker\":{\"colorbar\":{\"outlinewidth\":0,\"ticks\":\"\"}}}],\"scatterternary\":[{\"type\":\"scatterternary\",\"marker\":{\"colorbar\":{\"outlinewidth\":0,\"ticks\":\"\"}}}],\"scattercarpet\":[{\"type\":\"scattercarpet\",\"marker\":{\"colorbar\":{\"outlinewidth\":0,\"ticks\":\"\"}}}],\"carpet\":[{\"aaxis\":{\"endlinecolor\":\"#2a3f5f\",\"gridcolor\":\"white\",\"linecolor\":\"white\",\"minorgridcolor\":\"white\",\"startlinecolor\":\"#2a3f5f\"},\"baxis\":{\"endlinecolor\":\"#2a3f5f\",\"gridcolor\":\"white\",\"linecolor\":\"white\",\"minorgridcolor\":\"white\",\"startlinecolor\":\"#2a3f5f\"},\"type\":\"carpet\"}],\"table\":[{\"cells\":{\"fill\":{\"color\":\"#EBF0F8\"},\"line\":{\"color\":\"white\"}},\"header\":{\"fill\":{\"color\":\"#C8D4E3\"},\"line\":{\"color\":\"white\"}},\"type\":\"table\"}],\"barpolar\":[{\"marker\":{\"line\":{\"color\":\"#E5ECF6\",\"width\":0.5},\"pattern\":{\"fillmode\":\"overlay\",\"size\":10,\"solidity\":0.2}},\"type\":\"barpolar\"}],\"pie\":[{\"automargin\":true,\"type\":\"pie\"}]},\"layout\":{\"autotypenumbers\":\"strict\",\"colorway\":[\"#636efa\",\"#EF553B\",\"#00cc96\",\"#ab63fa\",\"#FFA15A\",\"#19d3f3\",\"#FF6692\",\"#B6E880\",\"#FF97FF\",\"#FECB52\"],\"font\":{\"color\":\"#2a3f5f\"},\"hovermode\":\"closest\",\"hoverlabel\":{\"align\":\"left\"},\"paper_bgcolor\":\"white\",\"plot_bgcolor\":\"#E5ECF6\",\"polar\":{\"bgcolor\":\"#E5ECF6\",\"angularaxis\":{\"gridcolor\":\"white\",\"linecolor\":\"white\",\"ticks\":\"\"},\"radialaxis\":{\"gridcolor\":\"white\",\"linecolor\":\"white\",\"ticks\":\"\"}},\"ternary\":{\"bgcolor\":\"#E5ECF6\",\"aaxis\":{\"gridcolor\":\"white\",\"linecolor\":\"white\",\"ticks\":\"\"},\"baxis\":{\"gridcolor\":\"white\",\"linecolor\":\"white\",\"ticks\":\"\"},\"caxis\":{\"gridcolor\":\"white\",\"linecolor\":\"white\",\"ticks\":\"\"}},\"coloraxis\":{\"colorbar\":{\"outlinewidth\":0,\"ticks\":\"\"}},\"colorscale\":{\"sequential\":[[0.0,\"#0d0887\"],[0.1111111111111111,\"#46039f\"],[0.2222222222222222,\"#7201a8\"],[0.3333333333333333,\"#9c179e\"],[0.4444444444444444,\"#bd3786\"],[0.5555555555555556,\"#d8576b\"],[0.6666666666666666,\"#ed7953\"],[0.7777777777777778,\"#fb9f3a\"],[0.8888888888888888,\"#fdca26\"],[1.0,\"#f0f921\"]],\"sequentialminus\":[[0.0,\"#0d0887\"],[0.1111111111111111,\"#46039f\"],[0.2222222222222222,\"#7201a8\"],[0.3333333333333333,\"#9c179e\"],[0.4444444444444444,\"#bd3786\"],[0.5555555555555556,\"#d8576b\"],[0.6666666666666666,\"#ed7953\"],[0.7777777777777778,\"#fb9f3a\"],[0.8888888888888888,\"#fdca26\"],[1.0,\"#f0f921\"]],\"diverging\":[[0,\"#8e0152\"],[0.1,\"#c51b7d\"],[0.2,\"#de77ae\"],[0.3,\"#f1b6da\"],[0.4,\"#fde0ef\"],[0.5,\"#f7f7f7\"],[0.6,\"#e6f5d0\"],[0.7,\"#b8e186\"],[0.8,\"#7fbc41\"],[0.9,\"#4d9221\"],[1,\"#276419\"]]},\"xaxis\":{\"gridcolor\":\"white\",\"linecolor\":\"white\",\"ticks\":\"\",\"title\":{\"standoff\":15},\"zerolinecolor\":\"white\",\"automargin\":true,\"zerolinewidth\":2},\"yaxis\":{\"gridcolor\":\"white\",\"linecolor\":\"white\",\"ticks\":\"\",\"title\":{\"standoff\":15},\"zerolinecolor\":\"white\",\"automargin\":true,\"zerolinewidth\":2},\"scene\":{\"xaxis\":{\"backgroundcolor\":\"#E5ECF6\",\"gridcolor\":\"white\",\"linecolor\":\"white\",\"showbackground\":true,\"ticks\":\"\",\"zerolinecolor\":\"white\",\"gridwidth\":2},\"yaxis\":{\"backgroundcolor\":\"#E5ECF6\",\"gridcolor\":\"white\",\"linecolor\":\"white\",\"showbackground\":true,\"ticks\":\"\",\"zerolinecolor\":\"white\",\"gridwidth\":2},\"zaxis\":{\"backgroundcolor\":\"#E5ECF6\",\"gridcolor\":\"white\",\"linecolor\":\"white\",\"showbackground\":true,\"ticks\":\"\",\"zerolinecolor\":\"white\",\"gridwidth\":2}},\"shapedefaults\":{\"line\":{\"color\":\"#2a3f5f\"}},\"annotationdefaults\":{\"arrowcolor\":\"#2a3f5f\",\"arrowhead\":0,\"arrowwidth\":1},\"geo\":{\"bgcolor\":\"white\",\"landcolor\":\"#E5ECF6\",\"subunitcolor\":\"white\",\"showland\":true,\"showlakes\":true,\"lakecolor\":\"white\"},\"title\":{\"x\":0.05},\"mapbox\":{\"style\":\"light\"}}},\"xaxis\":{\"anchor\":\"y\",\"domain\":[0.0,1.0],\"title\":{\"text\":\"Harvest.Year\"}},\"yaxis\":{\"anchor\":\"x\",\"domain\":[0.0,0.8316],\"title\":{\"text\":\"count\"}},\"xaxis2\":{\"anchor\":\"y2\",\"domain\":[0.0,1.0],\"matches\":\"x\",\"showticklabels\":false,\"showgrid\":true},\"yaxis2\":{\"anchor\":\"x2\",\"domain\":[0.8416,1.0],\"matches\":\"y2\",\"showticklabels\":false,\"showline\":false,\"ticks\":\"\",\"showgrid\":false},\"legend\":{\"tracegroupgap\":0},\"margin\":{\"t\":60},\"barmode\":\"relative\"},                        {\"responsive\": true}                    ).then(function(){\n",
       "                            \n",
       "var gd = document.getElementById('1c34ddd1-9829-4b94-a6de-2e2fd6e804ee');\n",
       "var x = new MutationObserver(function (mutations, observer) {{\n",
       "        var display = window.getComputedStyle(gd).display;\n",
       "        if (!display || display === 'none') {{\n",
       "            console.log([gd, 'removed!']);\n",
       "            Plotly.purge(gd);\n",
       "            observer.disconnect();\n",
       "        }}\n",
       "}});\n",
       "\n",
       "// Listen for the removal of the full notebook cells\n",
       "var notebookContainer = gd.closest('#notebook-container');\n",
       "if (notebookContainer) {{\n",
       "    x.observe(notebookContainer, {childList: true});\n",
       "}}\n",
       "\n",
       "// Listen for the clearing of the current output cell\n",
       "var outputEl = gd.closest('.output');\n",
       "if (outputEl) {{\n",
       "    x.observe(outputEl, {childList: true});\n",
       "}}\n",
       "\n",
       "                        })                };                });            </script>        </div>"
      ]
     },
     "metadata": {},
     "output_type": "display_data"
    }
   ],
   "source": [
    "fig = px.histogram(df, x=\"Harvest.Year\",  marginal=\"box\",\n",
    "                         hover_data=df.columns)\n",
    "fig.show()"
   ]
  },
  {
   "cell_type": "markdown",
   "id": "1f72fe3e",
   "metadata": {
    "papermill": {
     "duration": 0.023934,
     "end_time": "2024-04-14T18:08:18.633723",
     "exception": false,
     "start_time": "2024-04-14T18:08:18.609789",
     "status": "completed"
    },
    "tags": []
   },
   "source": [
    "# Data Viz"
   ]
  },
  {
   "cell_type": "code",
   "execution_count": 31,
   "id": "53686cf3",
   "metadata": {
    "execution": {
     "iopub.execute_input": "2024-04-14T18:08:18.684848Z",
     "iopub.status.busy": "2024-04-14T18:08:18.683587Z",
     "iopub.status.idle": "2024-04-14T18:08:18.720391Z",
     "shell.execute_reply": "2024-04-14T18:08:18.719195Z"
    },
    "papermill": {
     "duration": 0.065324,
     "end_time": "2024-04-14T18:08:18.723077",
     "exception": false,
     "start_time": "2024-04-14T18:08:18.657753",
     "status": "completed"
    },
    "tags": []
   },
   "outputs": [
    {
     "data": {
      "text/html": [
       "<div>                            <div id=\"5630e5b0-3c20-44f7-923d-978257a970ce\" class=\"plotly-graph-div\" style=\"height:525px; width:100%;\"></div>            <script type=\"text/javascript\">                require([\"plotly\"], function(Plotly) {                    window.PLOTLYENV=window.PLOTLYENV || {};                                    if (document.getElementById(\"5630e5b0-3c20-44f7-923d-978257a970ce\")) {                    Plotly.newPlot(                        \"5630e5b0-3c20-44f7-923d-978257a970ce\",                        [{\"name\":\"Expiration_year\",\"x\":[2016,2016,2011,2016,2016,2014,2013,2011,2011,2016,2016,2016,2016,2011,2011,2016,2011,2011,2017,2016,2016,2015,2013,2016,2014,2012,2011,2015,2018,2017,2011,2014,2012,2016,2016,2015,2013,2012,2011,2016,2013,2012,2012,2016,2016,2012,2015,2015,2015,2013,2011,2011,2017,2015,2014,2018,2016,2013,2013,2018,2015,2013,2014,2014,2013,2016,2016,2016,2015,2014,2016,2015,2013,2012,2011,2017,2016,2015,2015,2014,2014,2011,2011,2017,2016,2015,2013,2013,2017,2016,2015,2015,2013,2011,2011,2011,2018,2018,2018,2017,2017,2014,2013,2012,2012,2011,2017,2016,2016,2015,2013,2013,2012,2012,2011,2017,2015,2013,2011,2011,2017,2016,2015,2012,2011,2018,2017,2017,2017,2017,2016,2016,2016,2015,2015,2014,2014,2013,2013,2013,2013,2013,2012,2011,2019,2018,2017,2015,2015,2015,2014,2014,2014,2014,2014,2013,2012,2012,2018,2018,2017,2016,2016,2015,2014,2013,2013,2013,2013,2012,2012,2018,2018,2017,2015,2014,2014,2013,2011,2018,2018,2018,2017,2017,2016,2014,2013,2012,2012,2012,2011,2018,2017,2017,2017,2017,2017,2016,2016,2016,2016,2015,2015,2015,2014,2013,2013,2013,2013,2013,2018,2017,2017,2017,2017,2017,2016,2016,2016,2016,2016,2015,2015,2015,2014,2014,2014,2014,2013,2013,2013,2018,2018,2017,2017,2015,2015,2014,2013,2013,2019,2018,2018,2016,2015,2015,2015,2015,2015,2015,2015,2015,2014,2014,2013,2013,2013,2012,2018,2018,2017,2017,2017,2017,2017,2016,2016,2016,2015,2015,2015,2013,2013,2013,2018,2018,2017,2017,2017,2016,2016,2016,2015,2015,2015,2014,2014,2014,2014,2013,2013,2012,2012,2012,2011,2019,2018,2018,2018,2018,2017,2016,2015,2015,2015,2015,2014,2014,2014,2013,2013,2012,2012,2011,2018,2018,2018,2018,2017,2017,2017,2016,2015,2015,2014,2014,2014,2014,2013,2013,2013,2013,2013,2013,2012,2018,2017,2017,2017,2016,2016,2016,2015,2015,2015,2015,2014,2013,2013,2013,2013,2018,2018,2017,2017,2017,2016,2016,2016,2016,2016,2016,2015,2015,2015,2014,2014,2013,2013,2013,2013,2013,2013,2012,2011,2018,2018,2018,2018,2018,2017,2017,2017,2016,2016,2015,2015,2015,2015,2014,2014,2013,2012,2011,2011,2011,2017,2017,2017,2016,2016,2016,2015,2015,2015,2015,2015,2015,2014,2014,2014,2014,2013,2013,2012,2012,2018,2018,2017,2017,2017,2017,2016,2016,2016,2015,2015,2015,2014,2014,2014,2013,2013,2013,2013,2013,2013,2012,2012,2012,2018,2018,2018,2018,2018,2017,2017,2017,2017,2017,2016,2016,2016,2016,2015,2015,2015,2015,2015,2015,2015,2015,2015,2014,2014,2013,2013,2013,2013,2013,2013,2013,2013,2013,2012,2012,2012,2011,2018,2018,2017,2016,2016,2016,2015,2015,2015,2014,2014,2013,2013,2013,2012,2012,2011,2011,2018,2017,2017,2017,2017,2017,2016,2016,2016,2016,2016,2015,2015,2015,2015,2015,2015,2014,2014,2014,2014,2013,2013,2013,2013,2013,2013,2013,2013,2012,2012,2012,2012,2012,2012,2011,2011,2018,2018,2018,2017,2017,2016,2016,2016,2016,2016,2015,2015,2015,2015,2015,2014,2014,2014,2014,2014,2013,2013,2013,2013,2012,2011,2018,2018,2018,2017,2017,2017,2016,2016,2016,2016,2015,2015,2014,2014,2013,2013,2013,2013,2012,2019,2018,2018,2018,2018,2018,2018,2018,2018,2018,2018,2017,2017,2017,2015,2015,2015,2015,2015,2015,2015,2014,2013,2013,2013,2013,2013,2013,2011,2018,2017,2017,2017,2017,2016,2016,2016,2015,2015,2015,2015,2015,2014,2014,2014,2013,2013,2013,2013,2013,2012,2012,2012,2012,2011,2018,2018,2018,2018,2016,2016,2016,2016,2015,2015,2015,2015,2014,2014,2013,2014,2013,2013,2013,2012,2018,2018,2018,2017,2016,2016,2015,2015,2015,2015,2014,2014,2014,2013,2013,2013,2013,2013,2013,2013,2011,2018,2018,2018,2018,2018,2017,2017,2017,2016,2016,2015,2015,2015,2015,2014,2014,2014,2014,2014,2013,2013,2013,2013,2013,2013,2013,2013,2013,2013,2012,2012,2018,2018,2017,2017,2017,2017,2017,2016,2016,2016,2015,2015,2015,2015,2015,2014,2014,2014,2014,2014,2013,2013,2013,2013,2013,2013,2013,2013,2013,2018,2018,2017,2016,2016,2016,2015,2015,2014,2014,2013,2013,2013,2013,2013,2013,2013,2013,2013,2013,2012,2017,2017,2017,2016,2016,2016,2016,2016,2016,2016,2015,2015,2015,2014,2014,2014,2013,2013,2013,2013,2012,2018,2018,2017,2016,2016,2016,2016,2015,2015,2013,2013,2013,2013,2013,2013,2013,2012,2018,2018,2017,2016,2016,2015,2015,2015,2015,2015,2015,2014,2014,2014,2013,2013,2013,2013,2013,2013,2012,2018,2018,2018,2017,2016,2016,2016,2015,2015,2015,2014,2014,2013,2013,2013,2013,2013,2012,2018,2018,2018,2018,2017,2016,2016,2016,2016,2016,2016,2016,2016,2015,2015,2015,2015,2014,2014,2014,2014,2013,2013,2012,2012,2011,2018,2016,2016,2015,2013,2013,2013,2013,2013,2012,2012,2018,2018,2018,2017,2017,2017,2017,2016,2016,2015,2015,2015,2015,2015,2015,2014,2014,2014,2013,2013,2013,2013,2013,2013,2013,2019,2018,2017,2016,2015,2015,2015,2014,2014,2014,2013,2013,2012,2012,2012,2018,2018,2018,2018,2016,2016,2016,2015,2015,2015,2015,2015,2014,2014,2013,2013,2013,2013,2013,2013,2013,2013,2012,2011,2018,2017,2016,2016,2015,2015,2015,2015,2015,2015,2014,2013,2013,2012,2012,2011,2017,2017,2017,2016,2016,2015,2015,2015,2015,2013,2013,2018,2017,2016,2016,2016,2016,2015,2014,2014,2013,2018,2016,2016,2016,2016,2016,2016,2015,2015,2015,2015,2013,2013,2013,2012,2018,2018,2016,2016,2016,2015,2015,2013,2013,2013,2013,2013,2019,2018,2017,2017,2017,2016,2016,2016,2016,2015,2015,2014,2014,2013,2013,2018,2018,2018,2018,2016,2016,2015,2015,2015,2015,2015,2015,2014,2014,2014,2013,2011,2018,2015,2013,2013,2013,2013,2012,2016,2016,2016,2016,2016,2016,2016,2016,2015,2013,2013,2012,2017,2016,2016,2016,2015,2015,2015,2014,2013,2013,2012,2017,2017,2016,2015,2015,2015,2012,2012,2018,2018,2018,2017,2016,2016,2015,2015,2015,2014,2013,2017,2015,2015,2015,2014,2013,2013,2017,2016,2015,2014,2014,2013,2013,2011,2018,2018,2017,2016,2016,2016,2015,2015,2014,2014,2013,2018,2016,2016,2014,2013,2013,2013,2013,2012,2018,2015,2015,2014,2014,2014,2013,2013,2018,2016,2015,2014,2014,2013,2013,2011,2016,2015,2014,2013,2013,2013,2013,2013,2012,2018,2018,2016,2013,2013,2018,2016,2015,2015,2015,2014,2014,2014,2014,2013,2013,2013,2013,2018,2018,2015,2014,2014,2013,2013,2011,2013,2013,2012,2012,2016,2016,2014,2013,2013,2015,2015,2013,2018,2015,2013,2013,2013,2015,2013,2018,2018,2017,2016,2014,2013,2013,2011,2018,2015,2013,2013,2013,2015,2015,2014,2013,2013,2013,2014,2013,2018,2015,2014,2013,2013,2013,2015,2013,2017,2016,2015,2015,2013,2013,2012,2015,2013,2013,2015,2013,2015,2015,2014,2013,2013,2016,2013,2018,2013,2018,2015,2015,2015,2014,2014,2013,2012,2016,2013,2013,2017,2015,2014,2014,2014,2013,2014,2018,2015,2013,2015,2015,2013,2016,2018,2011,2013,2013,2013,2013,2015,2015,2013,2013,2013,2015,2014,2018,2013,2013,2013,2013,2013,2013,2013,2013,2013,2013,2013,2014,2015,2014,2013,2013,2013,2013,2016,2015,2015,2015,2015,2012,2016,2013,2013,2015,2018,2015,2015,2015,2013,2013,2018,2013,2018,2015,2018,2016,2015,2015,2013,2015,2018,2017,2015,2015,2017,2015,2015,2015,2016,2014,2015,2015,2015,2015,2014,2013,2017,2017,2015,2015,2015],\"type\":\"histogram\",\"xaxis\":\"x\",\"yaxis\":\"y\"},{\"name\":\"Harvest.Year\",\"x\":[2014.0,2014.0,null,2014.0,2014.0,2013.0,2012.0,2010.0,2010.0,2014.0,2014.0,2014.0,2014.0,2009.0,2010.0,2014.0,null,2009.0,2015.0,2014.0,2014.0,2014.0,2012.0,2014.0,2013.0,2011.0,2009.0,2013.0,2016.0,2015.0,null,2012.0,2011.0,2015.0,2014.0,2013.0,2012.0,2010.0,2009.0,2014.0,2012.0,2010.0,2010.0,2015.0,2014.0,2011.0,2014.0,2013.0,2013.0,2012.0,2009.0,2009.0,2016.0,2013.0,2013.0,2017.0,2014.0,2012.0,2012.0,2017.0,2013.0,2012.0,2013.0,2012.0,2012.0,2014.0,2014.0,2015.0,2013.0,2013.0,2015.0,2013.0,2012.0,2011.0,2009.0,2015.0,2014.0,2014.0,2014.0,2012.0,2012.0,2009.0,2009.0,2016.0,2015.0,2014.0,2012.0,2012.0,2016.0,2015.0,2014.0,2014.0,2012.0,2010.0,2010.0,null,2016.0,2016.0,2016.0,2015.0,2015.0,2012.0,2012.0,2010.0,null,2009.0,2016.0,2015.0,2015.0,2014.0,2012.0,2012.0,2011.0,2011.0,2009.0,2016.0,2013.0,2012.0,2009.0,2009.0,2015.0,2014.0,2014.0,2010.0,2009.0,2016.0,2016.0,null,2015.0,2015.0,2014.0,2014.0,2014.0,2014.0,2012.0,2013.0,2013.0,2012.0,2012.0,2012.0,2012.0,2012.0,null,2009.0,null,2016.0,2016.0,2013.0,2014.0,2014.0,2013.0,2013.0,2013.0,2012.0,2012.0,2012.0,2011.0,2011.0,2017.0,2016.0,2015.0,2014.0,2015.0,2013.0,2013.0,2012.0,2012.0,2012.0,2012.0,null,null,2016.0,2017.0,2015.0,2014.0,2012.0,2012.0,2012.0,2009.0,2017.0,2016.0,2016.0,2016.0,2016.0,2015.0,2013.0,2012.0,2011.0,2011.0,null,2009.0,2016.0,2015.0,2016.0,2016.0,2015.0,2015.0,2015.0,2015.0,2015.0,2015.0,2014.0,2014.0,2014.0,2013.0,2012.0,2012.0,2012.0,2012.0,2012.0,2017.0,2016.0,2016.0,2016.0,2016.0,2016.0,2015.0,2015.0,2015.0,2014.0,2014.0,2014.0,2014.0,2013.0,2013.0,2012.0,2013.0,2013.0,2012.0,2012.0,2012.0,2017.0,2017.0,2016.0,2016.0,2014.0,2014.0,2012.0,2012.0,2012.0,2017.0,2017.0,2017.0,2015.0,2014.0,2014.0,2014.0,2014.0,2014.0,2014.0,2013.0,2013.0,2013.0,2012.0,2012.0,2012.0,2012.0,2011.0,2017.0,2017.0,2015.0,2016.0,2015.0,2016.0,2016.0,2014.0,2015.0,2014.0,2014.0,2014.0,2014.0,2012.0,2012.0,2012.0,2017.0,2016.0,2015.0,2016.0,2016.0,2015.0,2014.0,2014.0,2014.0,2013.0,2014.0,2013.0,2013.0,2013.0,2013.0,2012.0,2012.0,2011.0,2011.0,2011.0,2010.0,null,2017.0,2017.0,2016.0,2016.0,2015.0,2015.0,2013.0,2013.0,2014.0,2014.0,2013.0,2013.0,2013.0,2012.0,2012.0,2011.0,2010.0,null,2017.0,2017.0,2016.0,2016.0,2016.0,2015.0,null,2014.0,2014.0,2014.0,2013.0,2013.0,2013.0,2013.0,2012.0,2012.0,2012.0,2012.0,2012.0,2012.0,null,2017.0,2016.0,2016.0,2015.0,2015.0,2014.0,2014.0,2013.0,2014.0,2014.0,2014.0,2013.0,2012.0,2012.0,2012.0,2012.0,2016.0,2016.0,2015.0,2016.0,2016.0,2015.0,2015.0,2015.0,2014.0,2014.0,2014.0,2013.0,2014.0,2014.0,2013.0,2013.0,2012.0,2012.0,2012.0,2012.0,2012.0,2012.0,null,2010.0,2017.0,2017.0,2016.0,2016.0,2015.0,2015.0,2015.0,2016.0,2015.0,2014.0,2014.0,2014.0,2013.0,2014.0,2013.0,2012.0,2012.0,null,2010.0,null,null,2016.0,2016.0,2016.0,2015.0,2014.0,2015.0,2014.0,2013.0,2014.0,2014.0,2013.0,2013.0,2012.0,2013.0,2013.0,2012.0,2012.0,2012.0,null,null,2017.0,2016.0,2015.0,2016.0,2015.0,2016.0,2015.0,2015.0,2015.0,2014.0,2014.0,2014.0,2013.0,2013.0,2012.0,2012.0,2012.0,2012.0,2012.0,2012.0,2012.0,2011.0,2010.0,2010.0,2017.0,2017.0,2016.0,2017.0,2017.0,2016.0,2016.0,2015.0,2015.0,2016.0,2015.0,2015.0,2014.0,2014.0,2014.0,2014.0,2014.0,2014.0,2013.0,2014.0,2014.0,2013.0,2014.0,2013.0,2013.0,2012.0,2012.0,2012.0,2012.0,2012.0,2012.0,2012.0,2012.0,2012.0,2011.0,2011.0,2010.0,null,2016.0,2016.0,2015.0,2015.0,2015.0,2015.0,2014.0,2014.0,2013.0,2013.0,2012.0,2012.0,2012.0,2012.0,null,2010.0,2010.0,null,2017.0,2016.0,2016.0,2015.0,2015.0,2016.0,2014.0,2015.0,2015.0,2015.0,2014.0,2014.0,2013.0,2013.0,2014.0,2013.0,2013.0,2013.0,2013.0,2013.0,2013.0,2012.0,2012.0,2012.0,2012.0,2012.0,2012.0,2012.0,2012.0,2011.0,2011.0,null,null,null,2011.0,2009.0,null,2017.0,2017.0,2017.0,2016.0,2016.0,2014.0,2015.0,2014.0,2015.0,2015.0,2014.0,2013.0,2013.0,2014.0,2014.0,2012.0,2013.0,2013.0,2013.0,2013.0,2012.0,2012.0,2012.0,2012.0,null,null,2017.0,2017.0,2015.0,2016.0,2015.0,2014.0,2015.0,2015.0,2014.0,2014.0,2014.0,2013.0,2013.0,2012.0,2012.0,2012.0,2012.0,2012.0,2010.0,null,2017.0,2017.0,2017.0,2017.0,2017.0,2017.0,2016.0,2017.0,2016.0,2017.0,2015.0,2015.0,2015.0,2014.0,2014.0,2014.0,2014.0,2013.0,2013.0,2013.0,2013.0,2012.0,2012.0,2012.0,2012.0,2012.0,2012.0,null,2017.0,2016.0,2015.0,2016.0,2016.0,2015.0,2015.0,2014.0,2014.0,2014.0,2014.0,2014.0,2013.0,2013.0,2013.0,2012.0,2012.0,2012.0,2012.0,2012.0,2012.0,2011.0,null,2010.0,2010.0,2009.0,2017.0,2016.0,2016.0,2016.0,2016.0,2015.0,2014.0,2014.0,2014.0,2013.0,2013.0,2014.0,2012.0,2013.0,2012.0,2013.0,2012.0,2012.0,2012.0,2011.0,2017.0,2017.0,2017.0,2016.0,2014.0,2014.0,2014.0,2014.0,2013.0,2013.0,2013.0,2013.0,2013.0,2012.0,2012.0,2012.0,2012.0,2012.0,2012.0,2012.0,null,2017.0,2017.0,2016.0,2017.0,2017.0,2016.0,2015.0,2016.0,2015.0,2015.0,2013.0,2014.0,2012.0,2013.0,2013.0,2013.0,2012.0,2013.0,2013.0,2012.0,2012.0,2012.0,2012.0,2012.0,2012.0,2012.0,2012.0,2012.0,2012.0,2011.0,2011.0,2017.0,2016.0,2016.0,2016.0,2015.0,2015.0,2015.0,2015.0,2015.0,2015.0,2014.0,2014.0,2014.0,2014.0,2013.0,2013.0,2013.0,2013.0,2013.0,2013.0,2012.0,2012.0,2012.0,2012.0,2012.0,2012.0,2012.0,2012.0,2012.0,null,2016.0,2016.0,2015.0,2014.0,2015.0,2014.0,2014.0,2013.0,2013.0,2012.0,2012.0,2012.0,2012.0,2012.0,2012.0,2012.0,2012.0,2012.0,2012.0,null,2016.0,2015.0,null,2015.0,2015.0,2015.0,2014.0,2015.0,2014.0,2014.0,2014.0,2013.0,2013.0,2013.0,2012.0,2013.0,2012.0,2012.0,2012.0,2012.0,2010.0,2017.0,2016.0,2016.0,2015.0,2015.0,2014.0,2014.0,2013.0,2013.0,2012.0,2012.0,2012.0,2012.0,2012.0,2012.0,2012.0,2011.0,2017.0,2016.0,2016.0,2015.0,2015.0,2014.0,2014.0,2013.0,2013.0,2013.0,2014.0,2013.0,2012.0,2012.0,2012.0,2012.0,2012.0,2012.0,2012.0,2012.0,null,2017.0,2017.0,2017.0,2016.0,2014.0,2015.0,2014.0,2013.0,2014.0,2012.0,2012.0,2013.0,2012.0,2012.0,2012.0,2012.0,2012.0,2010.0,2017.0,2016.0,2016.0,2015.0,2015.0,2015.0,2015.0,2015.0,2015.0,2015.0,2015.0,2014.0,2014.0,2014.0,2014.0,2014.0,2014.0,2013.0,2012.0,2012.0,2013.0,2012.0,2012.0,2011.0,2011.0,null,2017.0,2014.0,2014.0,2013.0,2012.0,2012.0,2012.0,2012.0,2012.0,2011.0,null,2017.0,2017.0,2017.0,2016.0,2016.0,null,2016.0,2015.0,2014.0,2013.0,2014.0,2013.0,2014.0,2013.0,2014.0,2013.0,2013.0,2013.0,2012.0,2012.0,2012.0,2012.0,2012.0,2012.0,2012.0,2018.0,2017.0,2016.0,2015.0,2014.0,2014.0,2014.0,2013.0,2013.0,2013.0,2012.0,2012.0,2011.0,2011.0,null,2017.0,2017.0,2017.0,2017.0,2015.0,2015.0,2014.0,2014.0,2014.0,2014.0,2014.0,2013.0,2013.0,2013.0,2012.0,2012.0,2012.0,2012.0,2012.0,2012.0,2012.0,2012.0,null,null,2017.0,2016.0,2015.0,2015.0,2014.0,2014.0,2014.0,2014.0,2014.0,2013.0,2013.0,2012.0,2012.0,2011.0,2010.0,null,2016.0,2016.0,2016.0,2015.0,2015.0,2014.0,2014.0,2014.0,2014.0,2012.0,2012.0,null,2015.0,2015.0,2015.0,2015.0,2014.0,2014.0,2013.0,2013.0,2012.0,2016.0,2015.0,2015.0,2015.0,2015.0,2014.0,2014.0,2014.0,2014.0,2014.0,2013.0,2012.0,2012.0,2012.0,null,2016.0,2016.0,2015.0,2014.0,2014.0,2014.0,2013.0,2012.0,2012.0,2012.0,2012.0,2012.0,null,2017.0,2016.0,2016.0,2016.0,2015.0,2015.0,2014.0,2014.0,2014.0,2013.0,2013.0,2012.0,2012.0,2012.0,2017.0,2017.0,2017.0,2017.0,2015.0,2014.0,2014.0,2014.0,2014.0,2014.0,2013.0,2014.0,2013.0,2013.0,2013.0,2012.0,null,2016.0,2013.0,2012.0,2012.0,2012.0,2012.0,2010.0,2015.0,2015.0,2015.0,2015.0,2015.0,2014.0,2015.0,2015.0,2014.0,2012.0,2012.0,2011.0,2016.0,2015.0,2015.0,2015.0,2014.0,2014.0,2014.0,2013.0,2012.0,2012.0,null,2016.0,2016.0,2014.0,2014.0,2014.0,2014.0,null,null,2017.0,2017.0,2017.0,2016.0,2015.0,2015.0,2014.0,2013.0,2013.0,2013.0,2012.0,2016.0,2014.0,2013.0,2013.0,2013.0,2012.0,2012.0,2016.0,2015.0,2014.0,2013.0,2013.0,2012.0,2012.0,2010.0,2017.0,2016.0,2016.0,2015.0,2014.0,2015.0,2014.0,2012.0,2013.0,2012.0,2012.0,2017.0,2015.0,2015.0,2013.0,2012.0,2012.0,2012.0,2012.0,null,2017.0,2014.0,2013.0,2013.0,2013.0,2013.0,2012.0,2012.0,2017.0,2015.0,2014.0,2013.0,2012.0,2012.0,2012.0,2010.0,2015.0,2014.0,2013.0,2012.0,2012.0,2012.0,2012.0,2012.0,null,2017.0,2017.0,2014.0,2012.0,2012.0,2016.0,2014.0,2013.0,2013.0,2013.0,2013.0,2013.0,2013.0,2013.0,2012.0,2012.0,2012.0,2012.0,2016.0,2016.0,2013.0,2013.0,2013.0,2012.0,2012.0,null,2012.0,2012.0,2010.0,2009.0,2015.0,2014.0,2013.0,2012.0,2012.0,2013.0,2014.0,2012.0,2016.0,2013.0,2012.0,2012.0,2012.0,2014.0,2012.0,2017.0,2017.0,2016.0,2015.0,2012.0,2012.0,2012.0,null,2017.0,2013.0,2012.0,2012.0,2012.0,2014.0,2014.0,2012.0,2012.0,2012.0,2012.0,2013.0,2012.0,2016.0,2013.0,2013.0,2012.0,2012.0,2012.0,2013.0,2012.0,2016.0,2014.0,2014.0,2013.0,2012.0,2012.0,null,2014.0,2012.0,2012.0,2014.0,2012.0,2014.0,2014.0,2012.0,2012.0,2012.0,2014.0,2012.0,2016.0,2012.0,2016.0,2014.0,2014.0,2014.0,2013.0,2013.0,2012.0,null,2014.0,2012.0,2012.0,2016.0,2014.0,2013.0,2012.0,2013.0,2012.0,2013.0,2017.0,2014.0,2012.0,2013.0,2013.0,2012.0,2014.0,2016.0,null,2012.0,2012.0,2012.0,2011.0,2014.0,2013.0,2012.0,2011.0,2012.0,2014.0,2012.0,2017.0,2012.0,2012.0,2012.0,2012.0,2012.0,2012.0,2012.0,2012.0,2012.0,2012.0,2012.0,2013.0,2014.0,2013.0,2012.0,2012.0,2012.0,2012.0,2016.0,2014.0,2014.0,2013.0,2014.0,2010.0,2014.0,2012.0,2012.0,2014.0,2017.0,2014.0,2014.0,2014.0,2012.0,2012.0,2016.0,2012.0,2017.0,2013.0,2017.0,2015.0,2013.0,2013.0,2012.0,2014.0,2017.0,2015.0,2014.0,2014.0,2015.0,2014.0,2013.0,2014.0,2015.0,2013.0,2013.0,2013.0,2013.0,2014.0,2013.0,2012.0,2016.0,2016.0,2014.0,2013.0,2013.0],\"type\":\"histogram\",\"xaxis\":\"x2\",\"yaxis\":\"y2\"}],                        {\"template\":{\"data\":{\"histogram2dcontour\":[{\"type\":\"histogram2dcontour\",\"colorbar\":{\"outlinewidth\":0,\"ticks\":\"\"},\"colorscale\":[[0.0,\"#0d0887\"],[0.1111111111111111,\"#46039f\"],[0.2222222222222222,\"#7201a8\"],[0.3333333333333333,\"#9c179e\"],[0.4444444444444444,\"#bd3786\"],[0.5555555555555556,\"#d8576b\"],[0.6666666666666666,\"#ed7953\"],[0.7777777777777778,\"#fb9f3a\"],[0.8888888888888888,\"#fdca26\"],[1.0,\"#f0f921\"]]}],\"choropleth\":[{\"type\":\"choropleth\",\"colorbar\":{\"outlinewidth\":0,\"ticks\":\"\"}}],\"histogram2d\":[{\"type\":\"histogram2d\",\"colorbar\":{\"outlinewidth\":0,\"ticks\":\"\"},\"colorscale\":[[0.0,\"#0d0887\"],[0.1111111111111111,\"#46039f\"],[0.2222222222222222,\"#7201a8\"],[0.3333333333333333,\"#9c179e\"],[0.4444444444444444,\"#bd3786\"],[0.5555555555555556,\"#d8576b\"],[0.6666666666666666,\"#ed7953\"],[0.7777777777777778,\"#fb9f3a\"],[0.8888888888888888,\"#fdca26\"],[1.0,\"#f0f921\"]]}],\"heatmap\":[{\"type\":\"heatmap\",\"colorbar\":{\"outlinewidth\":0,\"ticks\":\"\"},\"colorscale\":[[0.0,\"#0d0887\"],[0.1111111111111111,\"#46039f\"],[0.2222222222222222,\"#7201a8\"],[0.3333333333333333,\"#9c179e\"],[0.4444444444444444,\"#bd3786\"],[0.5555555555555556,\"#d8576b\"],[0.6666666666666666,\"#ed7953\"],[0.7777777777777778,\"#fb9f3a\"],[0.8888888888888888,\"#fdca26\"],[1.0,\"#f0f921\"]]}],\"heatmapgl\":[{\"type\":\"heatmapgl\",\"colorbar\":{\"outlinewidth\":0,\"ticks\":\"\"},\"colorscale\":[[0.0,\"#0d0887\"],[0.1111111111111111,\"#46039f\"],[0.2222222222222222,\"#7201a8\"],[0.3333333333333333,\"#9c179e\"],[0.4444444444444444,\"#bd3786\"],[0.5555555555555556,\"#d8576b\"],[0.6666666666666666,\"#ed7953\"],[0.7777777777777778,\"#fb9f3a\"],[0.8888888888888888,\"#fdca26\"],[1.0,\"#f0f921\"]]}],\"contourcarpet\":[{\"type\":\"contourcarpet\",\"colorbar\":{\"outlinewidth\":0,\"ticks\":\"\"}}],\"contour\":[{\"type\":\"contour\",\"colorbar\":{\"outlinewidth\":0,\"ticks\":\"\"},\"colorscale\":[[0.0,\"#0d0887\"],[0.1111111111111111,\"#46039f\"],[0.2222222222222222,\"#7201a8\"],[0.3333333333333333,\"#9c179e\"],[0.4444444444444444,\"#bd3786\"],[0.5555555555555556,\"#d8576b\"],[0.6666666666666666,\"#ed7953\"],[0.7777777777777778,\"#fb9f3a\"],[0.8888888888888888,\"#fdca26\"],[1.0,\"#f0f921\"]]}],\"surface\":[{\"type\":\"surface\",\"colorbar\":{\"outlinewidth\":0,\"ticks\":\"\"},\"colorscale\":[[0.0,\"#0d0887\"],[0.1111111111111111,\"#46039f\"],[0.2222222222222222,\"#7201a8\"],[0.3333333333333333,\"#9c179e\"],[0.4444444444444444,\"#bd3786\"],[0.5555555555555556,\"#d8576b\"],[0.6666666666666666,\"#ed7953\"],[0.7777777777777778,\"#fb9f3a\"],[0.8888888888888888,\"#fdca26\"],[1.0,\"#f0f921\"]]}],\"mesh3d\":[{\"type\":\"mesh3d\",\"colorbar\":{\"outlinewidth\":0,\"ticks\":\"\"}}],\"scatter\":[{\"fillpattern\":{\"fillmode\":\"overlay\",\"size\":10,\"solidity\":0.2},\"type\":\"scatter\"}],\"parcoords\":[{\"type\":\"parcoords\",\"line\":{\"colorbar\":{\"outlinewidth\":0,\"ticks\":\"\"}}}],\"scatterpolargl\":[{\"type\":\"scatterpolargl\",\"marker\":{\"colorbar\":{\"outlinewidth\":0,\"ticks\":\"\"}}}],\"bar\":[{\"error_x\":{\"color\":\"#2a3f5f\"},\"error_y\":{\"color\":\"#2a3f5f\"},\"marker\":{\"line\":{\"color\":\"#E5ECF6\",\"width\":0.5},\"pattern\":{\"fillmode\":\"overlay\",\"size\":10,\"solidity\":0.2}},\"type\":\"bar\"}],\"scattergeo\":[{\"type\":\"scattergeo\",\"marker\":{\"colorbar\":{\"outlinewidth\":0,\"ticks\":\"\"}}}],\"scatterpolar\":[{\"type\":\"scatterpolar\",\"marker\":{\"colorbar\":{\"outlinewidth\":0,\"ticks\":\"\"}}}],\"histogram\":[{\"marker\":{\"pattern\":{\"fillmode\":\"overlay\",\"size\":10,\"solidity\":0.2}},\"type\":\"histogram\"}],\"scattergl\":[{\"type\":\"scattergl\",\"marker\":{\"colorbar\":{\"outlinewidth\":0,\"ticks\":\"\"}}}],\"scatter3d\":[{\"type\":\"scatter3d\",\"line\":{\"colorbar\":{\"outlinewidth\":0,\"ticks\":\"\"}},\"marker\":{\"colorbar\":{\"outlinewidth\":0,\"ticks\":\"\"}}}],\"scattermapbox\":[{\"type\":\"scattermapbox\",\"marker\":{\"colorbar\":{\"outlinewidth\":0,\"ticks\":\"\"}}}],\"scatterternary\":[{\"type\":\"scatterternary\",\"marker\":{\"colorbar\":{\"outlinewidth\":0,\"ticks\":\"\"}}}],\"scattercarpet\":[{\"type\":\"scattercarpet\",\"marker\":{\"colorbar\":{\"outlinewidth\":0,\"ticks\":\"\"}}}],\"carpet\":[{\"aaxis\":{\"endlinecolor\":\"#2a3f5f\",\"gridcolor\":\"white\",\"linecolor\":\"white\",\"minorgridcolor\":\"white\",\"startlinecolor\":\"#2a3f5f\"},\"baxis\":{\"endlinecolor\":\"#2a3f5f\",\"gridcolor\":\"white\",\"linecolor\":\"white\",\"minorgridcolor\":\"white\",\"startlinecolor\":\"#2a3f5f\"},\"type\":\"carpet\"}],\"table\":[{\"cells\":{\"fill\":{\"color\":\"#EBF0F8\"},\"line\":{\"color\":\"white\"}},\"header\":{\"fill\":{\"color\":\"#C8D4E3\"},\"line\":{\"color\":\"white\"}},\"type\":\"table\"}],\"barpolar\":[{\"marker\":{\"line\":{\"color\":\"#E5ECF6\",\"width\":0.5},\"pattern\":{\"fillmode\":\"overlay\",\"size\":10,\"solidity\":0.2}},\"type\":\"barpolar\"}],\"pie\":[{\"automargin\":true,\"type\":\"pie\"}]},\"layout\":{\"autotypenumbers\":\"strict\",\"colorway\":[\"#636efa\",\"#EF553B\",\"#00cc96\",\"#ab63fa\",\"#FFA15A\",\"#19d3f3\",\"#FF6692\",\"#B6E880\",\"#FF97FF\",\"#FECB52\"],\"font\":{\"color\":\"#2a3f5f\"},\"hovermode\":\"closest\",\"hoverlabel\":{\"align\":\"left\"},\"paper_bgcolor\":\"white\",\"plot_bgcolor\":\"#E5ECF6\",\"polar\":{\"bgcolor\":\"#E5ECF6\",\"angularaxis\":{\"gridcolor\":\"white\",\"linecolor\":\"white\",\"ticks\":\"\"},\"radialaxis\":{\"gridcolor\":\"white\",\"linecolor\":\"white\",\"ticks\":\"\"}},\"ternary\":{\"bgcolor\":\"#E5ECF6\",\"aaxis\":{\"gridcolor\":\"white\",\"linecolor\":\"white\",\"ticks\":\"\"},\"baxis\":{\"gridcolor\":\"white\",\"linecolor\":\"white\",\"ticks\":\"\"},\"caxis\":{\"gridcolor\":\"white\",\"linecolor\":\"white\",\"ticks\":\"\"}},\"coloraxis\":{\"colorbar\":{\"outlinewidth\":0,\"ticks\":\"\"}},\"colorscale\":{\"sequential\":[[0.0,\"#0d0887\"],[0.1111111111111111,\"#46039f\"],[0.2222222222222222,\"#7201a8\"],[0.3333333333333333,\"#9c179e\"],[0.4444444444444444,\"#bd3786\"],[0.5555555555555556,\"#d8576b\"],[0.6666666666666666,\"#ed7953\"],[0.7777777777777778,\"#fb9f3a\"],[0.8888888888888888,\"#fdca26\"],[1.0,\"#f0f921\"]],\"sequentialminus\":[[0.0,\"#0d0887\"],[0.1111111111111111,\"#46039f\"],[0.2222222222222222,\"#7201a8\"],[0.3333333333333333,\"#9c179e\"],[0.4444444444444444,\"#bd3786\"],[0.5555555555555556,\"#d8576b\"],[0.6666666666666666,\"#ed7953\"],[0.7777777777777778,\"#fb9f3a\"],[0.8888888888888888,\"#fdca26\"],[1.0,\"#f0f921\"]],\"diverging\":[[0,\"#8e0152\"],[0.1,\"#c51b7d\"],[0.2,\"#de77ae\"],[0.3,\"#f1b6da\"],[0.4,\"#fde0ef\"],[0.5,\"#f7f7f7\"],[0.6,\"#e6f5d0\"],[0.7,\"#b8e186\"],[0.8,\"#7fbc41\"],[0.9,\"#4d9221\"],[1,\"#276419\"]]},\"xaxis\":{\"gridcolor\":\"white\",\"linecolor\":\"white\",\"ticks\":\"\",\"title\":{\"standoff\":15},\"zerolinecolor\":\"white\",\"automargin\":true,\"zerolinewidth\":2},\"yaxis\":{\"gridcolor\":\"white\",\"linecolor\":\"white\",\"ticks\":\"\",\"title\":{\"standoff\":15},\"zerolinecolor\":\"white\",\"automargin\":true,\"zerolinewidth\":2},\"scene\":{\"xaxis\":{\"backgroundcolor\":\"#E5ECF6\",\"gridcolor\":\"white\",\"linecolor\":\"white\",\"showbackground\":true,\"ticks\":\"\",\"zerolinecolor\":\"white\",\"gridwidth\":2},\"yaxis\":{\"backgroundcolor\":\"#E5ECF6\",\"gridcolor\":\"white\",\"linecolor\":\"white\",\"showbackground\":true,\"ticks\":\"\",\"zerolinecolor\":\"white\",\"gridwidth\":2},\"zaxis\":{\"backgroundcolor\":\"#E5ECF6\",\"gridcolor\":\"white\",\"linecolor\":\"white\",\"showbackground\":true,\"ticks\":\"\",\"zerolinecolor\":\"white\",\"gridwidth\":2}},\"shapedefaults\":{\"line\":{\"color\":\"#2a3f5f\"}},\"annotationdefaults\":{\"arrowcolor\":\"#2a3f5f\",\"arrowhead\":0,\"arrowwidth\":1},\"geo\":{\"bgcolor\":\"white\",\"landcolor\":\"#E5ECF6\",\"subunitcolor\":\"white\",\"showland\":true,\"showlakes\":true,\"lakecolor\":\"white\"},\"title\":{\"x\":0.05},\"mapbox\":{\"style\":\"light\"}}},\"xaxis\":{\"anchor\":\"y\",\"domain\":[0.0,0.45]},\"yaxis\":{\"anchor\":\"x\",\"domain\":[0.0,1.0]},\"xaxis2\":{\"anchor\":\"y2\",\"domain\":[0.55,1.0]},\"yaxis2\":{\"anchor\":\"x2\",\"domain\":[0.0,1.0]}},                        {\"responsive\": true}                    ).then(function(){\n",
       "                            \n",
       "var gd = document.getElementById('5630e5b0-3c20-44f7-923d-978257a970ce');\n",
       "var x = new MutationObserver(function (mutations, observer) {{\n",
       "        var display = window.getComputedStyle(gd).display;\n",
       "        if (!display || display === 'none') {{\n",
       "            console.log([gd, 'removed!']);\n",
       "            Plotly.purge(gd);\n",
       "            observer.disconnect();\n",
       "        }}\n",
       "}});\n",
       "\n",
       "// Listen for the removal of the full notebook cells\n",
       "var notebookContainer = gd.closest('#notebook-container');\n",
       "if (notebookContainer) {{\n",
       "    x.observe(notebookContainer, {childList: true});\n",
       "}}\n",
       "\n",
       "// Listen for the clearing of the current output cell\n",
       "var outputEl = gd.closest('.output');\n",
       "if (outputEl) {{\n",
       "    x.observe(outputEl, {childList: true});\n",
       "}}\n",
       "\n",
       "                        })                };                });            </script>        </div>"
      ]
     },
     "metadata": {},
     "output_type": "display_data"
    }
   ],
   "source": [
    "fig = make_subplots(rows=1, cols=2)\n",
    "\n",
    "fig.add_trace(go.Histogram(x=df['Expiration_year'], name='Expiration_year'), row=1, col=1)\n",
    "fig.add_trace(go.Histogram(x=df['Harvest.Year'], name='Harvest.Year'), row=1, col=2)"
   ]
  },
  {
   "cell_type": "code",
   "execution_count": 32,
   "id": "5bcd3e25",
   "metadata": {
    "execution": {
     "iopub.execute_input": "2024-04-14T18:08:18.776237Z",
     "iopub.status.busy": "2024-04-14T18:08:18.775789Z",
     "iopub.status.idle": "2024-04-14T18:08:19.773667Z",
     "shell.execute_reply": "2024-04-14T18:08:19.772379Z"
    },
    "papermill": {
     "duration": 1.027366,
     "end_time": "2024-04-14T18:08:19.776639",
     "exception": false,
     "start_time": "2024-04-14T18:08:18.749273",
     "status": "completed"
    },
    "tags": []
   },
   "outputs": [
    {
     "data": {
      "text/html": [
       "<div>                            <div id=\"679fe305-94b9-4489-a2aa-dde636a9df56\" class=\"plotly-graph-div\" style=\"height:525px; width:100%;\"></div>            <script type=\"text/javascript\">                require([\"plotly\"], function(Plotly) {                    window.PLOTLYENV=window.PLOTLYENV || {};                                    if (document.getElementById(\"679fe305-94b9-4489-a2aa-dde636a9df56\")) {                    Plotly.newPlot(                        \"679fe305-94b9-4489-a2aa-dde636a9df56\",                        [{\"alignmentgroup\":\"True\",\"hovertemplate\":\"Country=%{x}\\u003cbr\\u003eAverage scent or fragrance of the coffee=%{y}\\u003cextra\\u003e\\u003c\\u002fextra\\u003e\",\"legendgroup\":\"\",\"marker\":{\"color\":\"#636efa\",\"pattern\":{\"shape\":\"\"}},\"name\":\"\",\"offsetgroup\":\"\",\"orientation\":\"v\",\"showlegend\":false,\"textposition\":\"auto\",\"x\":[\"Papua New Guinea\",\"Ethiopia\",\"Uganda\",\"Rwanda\",\"Kenya\",\"Japan\",\"India\",\"Peru\",\"El Salvador\",\"Costa Rica\",\"Zambia\",\"Panama\",\"Colombia\",\"Indonesia\",\"China\",\"United States\",\"Ecuador\",\"Tanzania\",\"Malawi\",\"Brazil\",\"Guatemala\",\"Taiwan\",\"Laos\",\"Thailand\",\"Mexico\",\"Cote dIvoire\",\"Burundi\",\"Vietnam\",\"Philippines\",\"Nicaragua\",\"Myanmar\",\"Honduras\",\"Mauritius\",\"Haiti\"],\"xaxis\":\"x\",\"y\":[8.33,7.8963636363636365,7.884166666666666,7.83,7.7867999999999995,7.75,7.697857142857143,7.6930000000000005,7.674761904761904,7.671372549019608,7.67,7.6675,7.653060109289617,7.648999999999999,7.64125,7.605977011494253,7.583333333333333,7.571250000000001,7.5672727272727265,7.55310606060606,7.544861878453038,7.534054054054054,7.503333333333333,7.4840625,7.457584745762712,7.42,7.415,7.38625,7.364,7.32923076923077,7.30375,7.2924528301886795,7.25,7.153333333333333],\"yaxis\":\"y\",\"type\":\"bar\"}],                        {\"template\":{\"data\":{\"histogram2dcontour\":[{\"type\":\"histogram2dcontour\",\"colorbar\":{\"outlinewidth\":0,\"ticks\":\"\"},\"colorscale\":[[0.0,\"#0d0887\"],[0.1111111111111111,\"#46039f\"],[0.2222222222222222,\"#7201a8\"],[0.3333333333333333,\"#9c179e\"],[0.4444444444444444,\"#bd3786\"],[0.5555555555555556,\"#d8576b\"],[0.6666666666666666,\"#ed7953\"],[0.7777777777777778,\"#fb9f3a\"],[0.8888888888888888,\"#fdca26\"],[1.0,\"#f0f921\"]]}],\"choropleth\":[{\"type\":\"choropleth\",\"colorbar\":{\"outlinewidth\":0,\"ticks\":\"\"}}],\"histogram2d\":[{\"type\":\"histogram2d\",\"colorbar\":{\"outlinewidth\":0,\"ticks\":\"\"},\"colorscale\":[[0.0,\"#0d0887\"],[0.1111111111111111,\"#46039f\"],[0.2222222222222222,\"#7201a8\"],[0.3333333333333333,\"#9c179e\"],[0.4444444444444444,\"#bd3786\"],[0.5555555555555556,\"#d8576b\"],[0.6666666666666666,\"#ed7953\"],[0.7777777777777778,\"#fb9f3a\"],[0.8888888888888888,\"#fdca26\"],[1.0,\"#f0f921\"]]}],\"heatmap\":[{\"type\":\"heatmap\",\"colorbar\":{\"outlinewidth\":0,\"ticks\":\"\"},\"colorscale\":[[0.0,\"#0d0887\"],[0.1111111111111111,\"#46039f\"],[0.2222222222222222,\"#7201a8\"],[0.3333333333333333,\"#9c179e\"],[0.4444444444444444,\"#bd3786\"],[0.5555555555555556,\"#d8576b\"],[0.6666666666666666,\"#ed7953\"],[0.7777777777777778,\"#fb9f3a\"],[0.8888888888888888,\"#fdca26\"],[1.0,\"#f0f921\"]]}],\"heatmapgl\":[{\"type\":\"heatmapgl\",\"colorbar\":{\"outlinewidth\":0,\"ticks\":\"\"},\"colorscale\":[[0.0,\"#0d0887\"],[0.1111111111111111,\"#46039f\"],[0.2222222222222222,\"#7201a8\"],[0.3333333333333333,\"#9c179e\"],[0.4444444444444444,\"#bd3786\"],[0.5555555555555556,\"#d8576b\"],[0.6666666666666666,\"#ed7953\"],[0.7777777777777778,\"#fb9f3a\"],[0.8888888888888888,\"#fdca26\"],[1.0,\"#f0f921\"]]}],\"contourcarpet\":[{\"type\":\"contourcarpet\",\"colorbar\":{\"outlinewidth\":0,\"ticks\":\"\"}}],\"contour\":[{\"type\":\"contour\",\"colorbar\":{\"outlinewidth\":0,\"ticks\":\"\"},\"colorscale\":[[0.0,\"#0d0887\"],[0.1111111111111111,\"#46039f\"],[0.2222222222222222,\"#7201a8\"],[0.3333333333333333,\"#9c179e\"],[0.4444444444444444,\"#bd3786\"],[0.5555555555555556,\"#d8576b\"],[0.6666666666666666,\"#ed7953\"],[0.7777777777777778,\"#fb9f3a\"],[0.8888888888888888,\"#fdca26\"],[1.0,\"#f0f921\"]]}],\"surface\":[{\"type\":\"surface\",\"colorbar\":{\"outlinewidth\":0,\"ticks\":\"\"},\"colorscale\":[[0.0,\"#0d0887\"],[0.1111111111111111,\"#46039f\"],[0.2222222222222222,\"#7201a8\"],[0.3333333333333333,\"#9c179e\"],[0.4444444444444444,\"#bd3786\"],[0.5555555555555556,\"#d8576b\"],[0.6666666666666666,\"#ed7953\"],[0.7777777777777778,\"#fb9f3a\"],[0.8888888888888888,\"#fdca26\"],[1.0,\"#f0f921\"]]}],\"mesh3d\":[{\"type\":\"mesh3d\",\"colorbar\":{\"outlinewidth\":0,\"ticks\":\"\"}}],\"scatter\":[{\"fillpattern\":{\"fillmode\":\"overlay\",\"size\":10,\"solidity\":0.2},\"type\":\"scatter\"}],\"parcoords\":[{\"type\":\"parcoords\",\"line\":{\"colorbar\":{\"outlinewidth\":0,\"ticks\":\"\"}}}],\"scatterpolargl\":[{\"type\":\"scatterpolargl\",\"marker\":{\"colorbar\":{\"outlinewidth\":0,\"ticks\":\"\"}}}],\"bar\":[{\"error_x\":{\"color\":\"#2a3f5f\"},\"error_y\":{\"color\":\"#2a3f5f\"},\"marker\":{\"line\":{\"color\":\"#E5ECF6\",\"width\":0.5},\"pattern\":{\"fillmode\":\"overlay\",\"size\":10,\"solidity\":0.2}},\"type\":\"bar\"}],\"scattergeo\":[{\"type\":\"scattergeo\",\"marker\":{\"colorbar\":{\"outlinewidth\":0,\"ticks\":\"\"}}}],\"scatterpolar\":[{\"type\":\"scatterpolar\",\"marker\":{\"colorbar\":{\"outlinewidth\":0,\"ticks\":\"\"}}}],\"histogram\":[{\"marker\":{\"pattern\":{\"fillmode\":\"overlay\",\"size\":10,\"solidity\":0.2}},\"type\":\"histogram\"}],\"scattergl\":[{\"type\":\"scattergl\",\"marker\":{\"colorbar\":{\"outlinewidth\":0,\"ticks\":\"\"}}}],\"scatter3d\":[{\"type\":\"scatter3d\",\"line\":{\"colorbar\":{\"outlinewidth\":0,\"ticks\":\"\"}},\"marker\":{\"colorbar\":{\"outlinewidth\":0,\"ticks\":\"\"}}}],\"scattermapbox\":[{\"type\":\"scattermapbox\",\"marker\":{\"colorbar\":{\"outlinewidth\":0,\"ticks\":\"\"}}}],\"scatterternary\":[{\"type\":\"scatterternary\",\"marker\":{\"colorbar\":{\"outlinewidth\":0,\"ticks\":\"\"}}}],\"scattercarpet\":[{\"type\":\"scattercarpet\",\"marker\":{\"colorbar\":{\"outlinewidth\":0,\"ticks\":\"\"}}}],\"carpet\":[{\"aaxis\":{\"endlinecolor\":\"#2a3f5f\",\"gridcolor\":\"white\",\"linecolor\":\"white\",\"minorgridcolor\":\"white\",\"startlinecolor\":\"#2a3f5f\"},\"baxis\":{\"endlinecolor\":\"#2a3f5f\",\"gridcolor\":\"white\",\"linecolor\":\"white\",\"minorgridcolor\":\"white\",\"startlinecolor\":\"#2a3f5f\"},\"type\":\"carpet\"}],\"table\":[{\"cells\":{\"fill\":{\"color\":\"#EBF0F8\"},\"line\":{\"color\":\"white\"}},\"header\":{\"fill\":{\"color\":\"#C8D4E3\"},\"line\":{\"color\":\"white\"}},\"type\":\"table\"}],\"barpolar\":[{\"marker\":{\"line\":{\"color\":\"#E5ECF6\",\"width\":0.5},\"pattern\":{\"fillmode\":\"overlay\",\"size\":10,\"solidity\":0.2}},\"type\":\"barpolar\"}],\"pie\":[{\"automargin\":true,\"type\":\"pie\"}]},\"layout\":{\"autotypenumbers\":\"strict\",\"colorway\":[\"#636efa\",\"#EF553B\",\"#00cc96\",\"#ab63fa\",\"#FFA15A\",\"#19d3f3\",\"#FF6692\",\"#B6E880\",\"#FF97FF\",\"#FECB52\"],\"font\":{\"color\":\"#2a3f5f\"},\"hovermode\":\"closest\",\"hoverlabel\":{\"align\":\"left\"},\"paper_bgcolor\":\"white\",\"plot_bgcolor\":\"#E5ECF6\",\"polar\":{\"bgcolor\":\"#E5ECF6\",\"angularaxis\":{\"gridcolor\":\"white\",\"linecolor\":\"white\",\"ticks\":\"\"},\"radialaxis\":{\"gridcolor\":\"white\",\"linecolor\":\"white\",\"ticks\":\"\"}},\"ternary\":{\"bgcolor\":\"#E5ECF6\",\"aaxis\":{\"gridcolor\":\"white\",\"linecolor\":\"white\",\"ticks\":\"\"},\"baxis\":{\"gridcolor\":\"white\",\"linecolor\":\"white\",\"ticks\":\"\"},\"caxis\":{\"gridcolor\":\"white\",\"linecolor\":\"white\",\"ticks\":\"\"}},\"coloraxis\":{\"colorbar\":{\"outlinewidth\":0,\"ticks\":\"\"}},\"colorscale\":{\"sequential\":[[0.0,\"#0d0887\"],[0.1111111111111111,\"#46039f\"],[0.2222222222222222,\"#7201a8\"],[0.3333333333333333,\"#9c179e\"],[0.4444444444444444,\"#bd3786\"],[0.5555555555555556,\"#d8576b\"],[0.6666666666666666,\"#ed7953\"],[0.7777777777777778,\"#fb9f3a\"],[0.8888888888888888,\"#fdca26\"],[1.0,\"#f0f921\"]],\"sequentialminus\":[[0.0,\"#0d0887\"],[0.1111111111111111,\"#46039f\"],[0.2222222222222222,\"#7201a8\"],[0.3333333333333333,\"#9c179e\"],[0.4444444444444444,\"#bd3786\"],[0.5555555555555556,\"#d8576b\"],[0.6666666666666666,\"#ed7953\"],[0.7777777777777778,\"#fb9f3a\"],[0.8888888888888888,\"#fdca26\"],[1.0,\"#f0f921\"]],\"diverging\":[[0,\"#8e0152\"],[0.1,\"#c51b7d\"],[0.2,\"#de77ae\"],[0.3,\"#f1b6da\"],[0.4,\"#fde0ef\"],[0.5,\"#f7f7f7\"],[0.6,\"#e6f5d0\"],[0.7,\"#b8e186\"],[0.8,\"#7fbc41\"],[0.9,\"#4d9221\"],[1,\"#276419\"]]},\"xaxis\":{\"gridcolor\":\"white\",\"linecolor\":\"white\",\"ticks\":\"\",\"title\":{\"standoff\":15},\"zerolinecolor\":\"white\",\"automargin\":true,\"zerolinewidth\":2},\"yaxis\":{\"gridcolor\":\"white\",\"linecolor\":\"white\",\"ticks\":\"\",\"title\":{\"standoff\":15},\"zerolinecolor\":\"white\",\"automargin\":true,\"zerolinewidth\":2},\"scene\":{\"xaxis\":{\"backgroundcolor\":\"#E5ECF6\",\"gridcolor\":\"white\",\"linecolor\":\"white\",\"showbackground\":true,\"ticks\":\"\",\"zerolinecolor\":\"white\",\"gridwidth\":2},\"yaxis\":{\"backgroundcolor\":\"#E5ECF6\",\"gridcolor\":\"white\",\"linecolor\":\"white\",\"showbackground\":true,\"ticks\":\"\",\"zerolinecolor\":\"white\",\"gridwidth\":2},\"zaxis\":{\"backgroundcolor\":\"#E5ECF6\",\"gridcolor\":\"white\",\"linecolor\":\"white\",\"showbackground\":true,\"ticks\":\"\",\"zerolinecolor\":\"white\",\"gridwidth\":2}},\"shapedefaults\":{\"line\":{\"color\":\"#2a3f5f\"}},\"annotationdefaults\":{\"arrowcolor\":\"#2a3f5f\",\"arrowhead\":0,\"arrowwidth\":1},\"geo\":{\"bgcolor\":\"white\",\"landcolor\":\"#E5ECF6\",\"subunitcolor\":\"white\",\"showland\":true,\"showlakes\":true,\"lakecolor\":\"white\"},\"title\":{\"x\":0.05},\"mapbox\":{\"style\":\"light\"}}},\"xaxis\":{\"anchor\":\"y\",\"domain\":[0.0,1.0],\"title\":{\"text\":\"Country\"},\"tickfont\":{\"family\":\"Arial Black\"},\"tickangle\":90},\"yaxis\":{\"anchor\":\"x\",\"domain\":[0.0,1.0],\"title\":{\"text\":\"Average scent or fragrance of the coffee\"}},\"legend\":{\"tracegroupgap\":0},\"title\":{\"text\":\"Average Aroma by Country\",\"x\":0.5},\"barmode\":\"relative\"},                        {\"responsive\": true}                    ).then(function(){\n",
       "                            \n",
       "var gd = document.getElementById('679fe305-94b9-4489-a2aa-dde636a9df56');\n",
       "var x = new MutationObserver(function (mutations, observer) {{\n",
       "        var display = window.getComputedStyle(gd).display;\n",
       "        if (!display || display === 'none') {{\n",
       "            console.log([gd, 'removed!']);\n",
       "            Plotly.purge(gd);\n",
       "            observer.disconnect();\n",
       "        }}\n",
       "}});\n",
       "\n",
       "// Listen for the removal of the full notebook cells\n",
       "var notebookContainer = gd.closest('#notebook-container');\n",
       "if (notebookContainer) {{\n",
       "    x.observe(notebookContainer, {childList: true});\n",
       "}}\n",
       "\n",
       "// Listen for the clearing of the current output cell\n",
       "var outputEl = gd.closest('.output');\n",
       "if (outputEl) {{\n",
       "    x.observe(outputEl, {childList: true});\n",
       "}}\n",
       "\n",
       "                        })                };                });            </script>        </div>"
      ]
     },
     "metadata": {},
     "output_type": "display_data"
    },
    {
     "data": {
      "text/html": [
       "<div>                            <div id=\"6699c21c-f39e-4e53-82a5-e355695a77d4\" class=\"plotly-graph-div\" style=\"height:525px; width:100%;\"></div>            <script type=\"text/javascript\">                require([\"plotly\"], function(Plotly) {                    window.PLOTLYENV=window.PLOTLYENV || {};                                    if (document.getElementById(\"6699c21c-f39e-4e53-82a5-e355695a77d4\")) {                    Plotly.newPlot(                        \"6699c21c-f39e-4e53-82a5-e355695a77d4\",                        [{\"alignmentgroup\":\"True\",\"hovertemplate\":\"Country=%{x}\\u003cbr\\u003eAverage Flavor=%{y}\\u003cextra\\u003e\\u003c\\u002fextra\\u003e\",\"legendgroup\":\"\",\"marker\":{\"color\":\"#636efa\",\"pattern\":{\"shape\":\"\"}},\"name\":\"\",\"offsetgroup\":\"\",\"orientation\":\"v\",\"showlegend\":false,\"textposition\":\"auto\",\"x\":[\"Papua New Guinea\",\"Ethiopia\",\"Rwanda\",\"Kenya\",\"Uganda\",\"Japan\",\"Peru\",\"El Salvador\",\"Ecuador\",\"China\",\"Panama\",\"United States\",\"India\",\"Colombia\",\"Brazil\",\"Indonesia\",\"Costa Rica\",\"Thailand\",\"Laos\",\"Guatemala\",\"Taiwan\",\"Burundi\",\"Tanzania\",\"Malawi\",\"Mexico\",\"Vietnam\",\"Myanmar\",\"Nicaragua\",\"Mauritius\",\"Cote dIvoire\",\"Honduras\",\"Philippines\",\"Zambia\",\"Haiti\"],\"xaxis\":\"x\",\"y\":[8.42,8.009090909090908,7.92,7.7824,7.752777777777778,7.75,7.6579999999999995,7.654285714285715,7.640000000000001,7.625625,7.625,7.622528735632184,7.618571428571428,7.597103825136612,7.573560606060607,7.573,7.537254901960784,7.528125,7.5,7.489005524861878,7.463108108108107,7.46,7.42975,7.387272727272728,7.379025423728813,7.375,7.3325,7.316923076923077,7.25,7.25,7.2341509433962266,7.231999999999999,7.08,6.998333333333334],\"yaxis\":\"y\",\"type\":\"bar\"}],                        {\"template\":{\"data\":{\"histogram2dcontour\":[{\"type\":\"histogram2dcontour\",\"colorbar\":{\"outlinewidth\":0,\"ticks\":\"\"},\"colorscale\":[[0.0,\"#0d0887\"],[0.1111111111111111,\"#46039f\"],[0.2222222222222222,\"#7201a8\"],[0.3333333333333333,\"#9c179e\"],[0.4444444444444444,\"#bd3786\"],[0.5555555555555556,\"#d8576b\"],[0.6666666666666666,\"#ed7953\"],[0.7777777777777778,\"#fb9f3a\"],[0.8888888888888888,\"#fdca26\"],[1.0,\"#f0f921\"]]}],\"choropleth\":[{\"type\":\"choropleth\",\"colorbar\":{\"outlinewidth\":0,\"ticks\":\"\"}}],\"histogram2d\":[{\"type\":\"histogram2d\",\"colorbar\":{\"outlinewidth\":0,\"ticks\":\"\"},\"colorscale\":[[0.0,\"#0d0887\"],[0.1111111111111111,\"#46039f\"],[0.2222222222222222,\"#7201a8\"],[0.3333333333333333,\"#9c179e\"],[0.4444444444444444,\"#bd3786\"],[0.5555555555555556,\"#d8576b\"],[0.6666666666666666,\"#ed7953\"],[0.7777777777777778,\"#fb9f3a\"],[0.8888888888888888,\"#fdca26\"],[1.0,\"#f0f921\"]]}],\"heatmap\":[{\"type\":\"heatmap\",\"colorbar\":{\"outlinewidth\":0,\"ticks\":\"\"},\"colorscale\":[[0.0,\"#0d0887\"],[0.1111111111111111,\"#46039f\"],[0.2222222222222222,\"#7201a8\"],[0.3333333333333333,\"#9c179e\"],[0.4444444444444444,\"#bd3786\"],[0.5555555555555556,\"#d8576b\"],[0.6666666666666666,\"#ed7953\"],[0.7777777777777778,\"#fb9f3a\"],[0.8888888888888888,\"#fdca26\"],[1.0,\"#f0f921\"]]}],\"heatmapgl\":[{\"type\":\"heatmapgl\",\"colorbar\":{\"outlinewidth\":0,\"ticks\":\"\"},\"colorscale\":[[0.0,\"#0d0887\"],[0.1111111111111111,\"#46039f\"],[0.2222222222222222,\"#7201a8\"],[0.3333333333333333,\"#9c179e\"],[0.4444444444444444,\"#bd3786\"],[0.5555555555555556,\"#d8576b\"],[0.6666666666666666,\"#ed7953\"],[0.7777777777777778,\"#fb9f3a\"],[0.8888888888888888,\"#fdca26\"],[1.0,\"#f0f921\"]]}],\"contourcarpet\":[{\"type\":\"contourcarpet\",\"colorbar\":{\"outlinewidth\":0,\"ticks\":\"\"}}],\"contour\":[{\"type\":\"contour\",\"colorbar\":{\"outlinewidth\":0,\"ticks\":\"\"},\"colorscale\":[[0.0,\"#0d0887\"],[0.1111111111111111,\"#46039f\"],[0.2222222222222222,\"#7201a8\"],[0.3333333333333333,\"#9c179e\"],[0.4444444444444444,\"#bd3786\"],[0.5555555555555556,\"#d8576b\"],[0.6666666666666666,\"#ed7953\"],[0.7777777777777778,\"#fb9f3a\"],[0.8888888888888888,\"#fdca26\"],[1.0,\"#f0f921\"]]}],\"surface\":[{\"type\":\"surface\",\"colorbar\":{\"outlinewidth\":0,\"ticks\":\"\"},\"colorscale\":[[0.0,\"#0d0887\"],[0.1111111111111111,\"#46039f\"],[0.2222222222222222,\"#7201a8\"],[0.3333333333333333,\"#9c179e\"],[0.4444444444444444,\"#bd3786\"],[0.5555555555555556,\"#d8576b\"],[0.6666666666666666,\"#ed7953\"],[0.7777777777777778,\"#fb9f3a\"],[0.8888888888888888,\"#fdca26\"],[1.0,\"#f0f921\"]]}],\"mesh3d\":[{\"type\":\"mesh3d\",\"colorbar\":{\"outlinewidth\":0,\"ticks\":\"\"}}],\"scatter\":[{\"fillpattern\":{\"fillmode\":\"overlay\",\"size\":10,\"solidity\":0.2},\"type\":\"scatter\"}],\"parcoords\":[{\"type\":\"parcoords\",\"line\":{\"colorbar\":{\"outlinewidth\":0,\"ticks\":\"\"}}}],\"scatterpolargl\":[{\"type\":\"scatterpolargl\",\"marker\":{\"colorbar\":{\"outlinewidth\":0,\"ticks\":\"\"}}}],\"bar\":[{\"error_x\":{\"color\":\"#2a3f5f\"},\"error_y\":{\"color\":\"#2a3f5f\"},\"marker\":{\"line\":{\"color\":\"#E5ECF6\",\"width\":0.5},\"pattern\":{\"fillmode\":\"overlay\",\"size\":10,\"solidity\":0.2}},\"type\":\"bar\"}],\"scattergeo\":[{\"type\":\"scattergeo\",\"marker\":{\"colorbar\":{\"outlinewidth\":0,\"ticks\":\"\"}}}],\"scatterpolar\":[{\"type\":\"scatterpolar\",\"marker\":{\"colorbar\":{\"outlinewidth\":0,\"ticks\":\"\"}}}],\"histogram\":[{\"marker\":{\"pattern\":{\"fillmode\":\"overlay\",\"size\":10,\"solidity\":0.2}},\"type\":\"histogram\"}],\"scattergl\":[{\"type\":\"scattergl\",\"marker\":{\"colorbar\":{\"outlinewidth\":0,\"ticks\":\"\"}}}],\"scatter3d\":[{\"type\":\"scatter3d\",\"line\":{\"colorbar\":{\"outlinewidth\":0,\"ticks\":\"\"}},\"marker\":{\"colorbar\":{\"outlinewidth\":0,\"ticks\":\"\"}}}],\"scattermapbox\":[{\"type\":\"scattermapbox\",\"marker\":{\"colorbar\":{\"outlinewidth\":0,\"ticks\":\"\"}}}],\"scatterternary\":[{\"type\":\"scatterternary\",\"marker\":{\"colorbar\":{\"outlinewidth\":0,\"ticks\":\"\"}}}],\"scattercarpet\":[{\"type\":\"scattercarpet\",\"marker\":{\"colorbar\":{\"outlinewidth\":0,\"ticks\":\"\"}}}],\"carpet\":[{\"aaxis\":{\"endlinecolor\":\"#2a3f5f\",\"gridcolor\":\"white\",\"linecolor\":\"white\",\"minorgridcolor\":\"white\",\"startlinecolor\":\"#2a3f5f\"},\"baxis\":{\"endlinecolor\":\"#2a3f5f\",\"gridcolor\":\"white\",\"linecolor\":\"white\",\"minorgridcolor\":\"white\",\"startlinecolor\":\"#2a3f5f\"},\"type\":\"carpet\"}],\"table\":[{\"cells\":{\"fill\":{\"color\":\"#EBF0F8\"},\"line\":{\"color\":\"white\"}},\"header\":{\"fill\":{\"color\":\"#C8D4E3\"},\"line\":{\"color\":\"white\"}},\"type\":\"table\"}],\"barpolar\":[{\"marker\":{\"line\":{\"color\":\"#E5ECF6\",\"width\":0.5},\"pattern\":{\"fillmode\":\"overlay\",\"size\":10,\"solidity\":0.2}},\"type\":\"barpolar\"}],\"pie\":[{\"automargin\":true,\"type\":\"pie\"}]},\"layout\":{\"autotypenumbers\":\"strict\",\"colorway\":[\"#636efa\",\"#EF553B\",\"#00cc96\",\"#ab63fa\",\"#FFA15A\",\"#19d3f3\",\"#FF6692\",\"#B6E880\",\"#FF97FF\",\"#FECB52\"],\"font\":{\"color\":\"#2a3f5f\"},\"hovermode\":\"closest\",\"hoverlabel\":{\"align\":\"left\"},\"paper_bgcolor\":\"white\",\"plot_bgcolor\":\"#E5ECF6\",\"polar\":{\"bgcolor\":\"#E5ECF6\",\"angularaxis\":{\"gridcolor\":\"white\",\"linecolor\":\"white\",\"ticks\":\"\"},\"radialaxis\":{\"gridcolor\":\"white\",\"linecolor\":\"white\",\"ticks\":\"\"}},\"ternary\":{\"bgcolor\":\"#E5ECF6\",\"aaxis\":{\"gridcolor\":\"white\",\"linecolor\":\"white\",\"ticks\":\"\"},\"baxis\":{\"gridcolor\":\"white\",\"linecolor\":\"white\",\"ticks\":\"\"},\"caxis\":{\"gridcolor\":\"white\",\"linecolor\":\"white\",\"ticks\":\"\"}},\"coloraxis\":{\"colorbar\":{\"outlinewidth\":0,\"ticks\":\"\"}},\"colorscale\":{\"sequential\":[[0.0,\"#0d0887\"],[0.1111111111111111,\"#46039f\"],[0.2222222222222222,\"#7201a8\"],[0.3333333333333333,\"#9c179e\"],[0.4444444444444444,\"#bd3786\"],[0.5555555555555556,\"#d8576b\"],[0.6666666666666666,\"#ed7953\"],[0.7777777777777778,\"#fb9f3a\"],[0.8888888888888888,\"#fdca26\"],[1.0,\"#f0f921\"]],\"sequentialminus\":[[0.0,\"#0d0887\"],[0.1111111111111111,\"#46039f\"],[0.2222222222222222,\"#7201a8\"],[0.3333333333333333,\"#9c179e\"],[0.4444444444444444,\"#bd3786\"],[0.5555555555555556,\"#d8576b\"],[0.6666666666666666,\"#ed7953\"],[0.7777777777777778,\"#fb9f3a\"],[0.8888888888888888,\"#fdca26\"],[1.0,\"#f0f921\"]],\"diverging\":[[0,\"#8e0152\"],[0.1,\"#c51b7d\"],[0.2,\"#de77ae\"],[0.3,\"#f1b6da\"],[0.4,\"#fde0ef\"],[0.5,\"#f7f7f7\"],[0.6,\"#e6f5d0\"],[0.7,\"#b8e186\"],[0.8,\"#7fbc41\"],[0.9,\"#4d9221\"],[1,\"#276419\"]]},\"xaxis\":{\"gridcolor\":\"white\",\"linecolor\":\"white\",\"ticks\":\"\",\"title\":{\"standoff\":15},\"zerolinecolor\":\"white\",\"automargin\":true,\"zerolinewidth\":2},\"yaxis\":{\"gridcolor\":\"white\",\"linecolor\":\"white\",\"ticks\":\"\",\"title\":{\"standoff\":15},\"zerolinecolor\":\"white\",\"automargin\":true,\"zerolinewidth\":2},\"scene\":{\"xaxis\":{\"backgroundcolor\":\"#E5ECF6\",\"gridcolor\":\"white\",\"linecolor\":\"white\",\"showbackground\":true,\"ticks\":\"\",\"zerolinecolor\":\"white\",\"gridwidth\":2},\"yaxis\":{\"backgroundcolor\":\"#E5ECF6\",\"gridcolor\":\"white\",\"linecolor\":\"white\",\"showbackground\":true,\"ticks\":\"\",\"zerolinecolor\":\"white\",\"gridwidth\":2},\"zaxis\":{\"backgroundcolor\":\"#E5ECF6\",\"gridcolor\":\"white\",\"linecolor\":\"white\",\"showbackground\":true,\"ticks\":\"\",\"zerolinecolor\":\"white\",\"gridwidth\":2}},\"shapedefaults\":{\"line\":{\"color\":\"#2a3f5f\"}},\"annotationdefaults\":{\"arrowcolor\":\"#2a3f5f\",\"arrowhead\":0,\"arrowwidth\":1},\"geo\":{\"bgcolor\":\"white\",\"landcolor\":\"#E5ECF6\",\"subunitcolor\":\"white\",\"showland\":true,\"showlakes\":true,\"lakecolor\":\"white\"},\"title\":{\"x\":0.05},\"mapbox\":{\"style\":\"light\"}}},\"xaxis\":{\"anchor\":\"y\",\"domain\":[0.0,1.0],\"title\":{\"text\":\"Country\"},\"tickfont\":{\"family\":\"Arial Black\"},\"tickangle\":90},\"yaxis\":{\"anchor\":\"x\",\"domain\":[0.0,1.0],\"title\":{\"text\":\"Average Flavor\"}},\"legend\":{\"tracegroupgap\":0},\"title\":{\"text\":\"Average Flavor by Country\",\"x\":0.5},\"barmode\":\"relative\"},                        {\"responsive\": true}                    ).then(function(){\n",
       "                            \n",
       "var gd = document.getElementById('6699c21c-f39e-4e53-82a5-e355695a77d4');\n",
       "var x = new MutationObserver(function (mutations, observer) {{\n",
       "        var display = window.getComputedStyle(gd).display;\n",
       "        if (!display || display === 'none') {{\n",
       "            console.log([gd, 'removed!']);\n",
       "            Plotly.purge(gd);\n",
       "            observer.disconnect();\n",
       "        }}\n",
       "}});\n",
       "\n",
       "// Listen for the removal of the full notebook cells\n",
       "var notebookContainer = gd.closest('#notebook-container');\n",
       "if (notebookContainer) {{\n",
       "    x.observe(notebookContainer, {childList: true});\n",
       "}}\n",
       "\n",
       "// Listen for the clearing of the current output cell\n",
       "var outputEl = gd.closest('.output');\n",
       "if (outputEl) {{\n",
       "    x.observe(outputEl, {childList: true});\n",
       "}}\n",
       "\n",
       "                        })                };                });            </script>        </div>"
      ]
     },
     "metadata": {},
     "output_type": "display_data"
    },
    {
     "data": {
      "text/html": [
       "<div>                            <div id=\"1bf0dc22-a181-4a63-9f3c-291c97730d46\" class=\"plotly-graph-div\" style=\"height:525px; width:100%;\"></div>            <script type=\"text/javascript\">                require([\"plotly\"], function(Plotly) {                    window.PLOTLYENV=window.PLOTLYENV || {};                                    if (document.getElementById(\"1bf0dc22-a181-4a63-9f3c-291c97730d46\")) {                    Plotly.newPlot(                        \"1bf0dc22-a181-4a63-9f3c-291c97730d46\",                        [{\"alignmentgroup\":\"True\",\"hovertemplate\":\"Country=%{x}\\u003cbr\\u003eAverage Aftertaste=%{y}\\u003cextra\\u003e\\u003c\\u002fextra\\u003e\",\"legendgroup\":\"\",\"marker\":{\"color\":\"#636efa\",\"pattern\":{\"shape\":\"\"}},\"name\":\"\",\"offsetgroup\":\"\",\"orientation\":\"v\",\"showlegend\":false,\"textposition\":\"auto\",\"x\":[\"Ethiopia\",\"Papua New Guinea\",\"Japan\",\"Rwanda\",\"Kenya\",\"Uganda\",\"Panama\",\"El Salvador\",\"India\",\"Ecuador\",\"United States\",\"Peru\",\"Costa Rica\",\"Colombia\",\"China\",\"Thailand\",\"Brazil\",\"Tanzania\",\"Zambia\",\"Indonesia\",\"Taiwan\",\"Philippines\",\"Laos\",\"Guatemala\",\"Malawi\",\"Burundi\",\"Mexico\",\"Nicaragua\",\"Vietnam\",\"Mauritius\",\"Myanmar\",\"Haiti\",\"Honduras\",\"Cote dIvoire\"],\"xaxis\":\"x\",\"y\":[7.893863636363636,7.83,7.75,7.75,7.7132000000000005,7.6225000000000005,7.605,7.567142857142857,7.566428571428572,7.553333333333334,7.541609195402299,7.5409999999999995,7.534509803921568,7.5246994535519125,7.484375,7.4734375,7.440530303030303,7.425,7.42,7.4155,7.394054054054053,7.302,7.28,7.2668508287292815,7.257272727272727,7.25,7.228050847457627,7.201923076923077,7.1975,7.17,7.125,7.111666666666667,7.061509433962264,6.83],\"yaxis\":\"y\",\"type\":\"bar\"}],                        {\"template\":{\"data\":{\"histogram2dcontour\":[{\"type\":\"histogram2dcontour\",\"colorbar\":{\"outlinewidth\":0,\"ticks\":\"\"},\"colorscale\":[[0.0,\"#0d0887\"],[0.1111111111111111,\"#46039f\"],[0.2222222222222222,\"#7201a8\"],[0.3333333333333333,\"#9c179e\"],[0.4444444444444444,\"#bd3786\"],[0.5555555555555556,\"#d8576b\"],[0.6666666666666666,\"#ed7953\"],[0.7777777777777778,\"#fb9f3a\"],[0.8888888888888888,\"#fdca26\"],[1.0,\"#f0f921\"]]}],\"choropleth\":[{\"type\":\"choropleth\",\"colorbar\":{\"outlinewidth\":0,\"ticks\":\"\"}}],\"histogram2d\":[{\"type\":\"histogram2d\",\"colorbar\":{\"outlinewidth\":0,\"ticks\":\"\"},\"colorscale\":[[0.0,\"#0d0887\"],[0.1111111111111111,\"#46039f\"],[0.2222222222222222,\"#7201a8\"],[0.3333333333333333,\"#9c179e\"],[0.4444444444444444,\"#bd3786\"],[0.5555555555555556,\"#d8576b\"],[0.6666666666666666,\"#ed7953\"],[0.7777777777777778,\"#fb9f3a\"],[0.8888888888888888,\"#fdca26\"],[1.0,\"#f0f921\"]]}],\"heatmap\":[{\"type\":\"heatmap\",\"colorbar\":{\"outlinewidth\":0,\"ticks\":\"\"},\"colorscale\":[[0.0,\"#0d0887\"],[0.1111111111111111,\"#46039f\"],[0.2222222222222222,\"#7201a8\"],[0.3333333333333333,\"#9c179e\"],[0.4444444444444444,\"#bd3786\"],[0.5555555555555556,\"#d8576b\"],[0.6666666666666666,\"#ed7953\"],[0.7777777777777778,\"#fb9f3a\"],[0.8888888888888888,\"#fdca26\"],[1.0,\"#f0f921\"]]}],\"heatmapgl\":[{\"type\":\"heatmapgl\",\"colorbar\":{\"outlinewidth\":0,\"ticks\":\"\"},\"colorscale\":[[0.0,\"#0d0887\"],[0.1111111111111111,\"#46039f\"],[0.2222222222222222,\"#7201a8\"],[0.3333333333333333,\"#9c179e\"],[0.4444444444444444,\"#bd3786\"],[0.5555555555555556,\"#d8576b\"],[0.6666666666666666,\"#ed7953\"],[0.7777777777777778,\"#fb9f3a\"],[0.8888888888888888,\"#fdca26\"],[1.0,\"#f0f921\"]]}],\"contourcarpet\":[{\"type\":\"contourcarpet\",\"colorbar\":{\"outlinewidth\":0,\"ticks\":\"\"}}],\"contour\":[{\"type\":\"contour\",\"colorbar\":{\"outlinewidth\":0,\"ticks\":\"\"},\"colorscale\":[[0.0,\"#0d0887\"],[0.1111111111111111,\"#46039f\"],[0.2222222222222222,\"#7201a8\"],[0.3333333333333333,\"#9c179e\"],[0.4444444444444444,\"#bd3786\"],[0.5555555555555556,\"#d8576b\"],[0.6666666666666666,\"#ed7953\"],[0.7777777777777778,\"#fb9f3a\"],[0.8888888888888888,\"#fdca26\"],[1.0,\"#f0f921\"]]}],\"surface\":[{\"type\":\"surface\",\"colorbar\":{\"outlinewidth\":0,\"ticks\":\"\"},\"colorscale\":[[0.0,\"#0d0887\"],[0.1111111111111111,\"#46039f\"],[0.2222222222222222,\"#7201a8\"],[0.3333333333333333,\"#9c179e\"],[0.4444444444444444,\"#bd3786\"],[0.5555555555555556,\"#d8576b\"],[0.6666666666666666,\"#ed7953\"],[0.7777777777777778,\"#fb9f3a\"],[0.8888888888888888,\"#fdca26\"],[1.0,\"#f0f921\"]]}],\"mesh3d\":[{\"type\":\"mesh3d\",\"colorbar\":{\"outlinewidth\":0,\"ticks\":\"\"}}],\"scatter\":[{\"fillpattern\":{\"fillmode\":\"overlay\",\"size\":10,\"solidity\":0.2},\"type\":\"scatter\"}],\"parcoords\":[{\"type\":\"parcoords\",\"line\":{\"colorbar\":{\"outlinewidth\":0,\"ticks\":\"\"}}}],\"scatterpolargl\":[{\"type\":\"scatterpolargl\",\"marker\":{\"colorbar\":{\"outlinewidth\":0,\"ticks\":\"\"}}}],\"bar\":[{\"error_x\":{\"color\":\"#2a3f5f\"},\"error_y\":{\"color\":\"#2a3f5f\"},\"marker\":{\"line\":{\"color\":\"#E5ECF6\",\"width\":0.5},\"pattern\":{\"fillmode\":\"overlay\",\"size\":10,\"solidity\":0.2}},\"type\":\"bar\"}],\"scattergeo\":[{\"type\":\"scattergeo\",\"marker\":{\"colorbar\":{\"outlinewidth\":0,\"ticks\":\"\"}}}],\"scatterpolar\":[{\"type\":\"scatterpolar\",\"marker\":{\"colorbar\":{\"outlinewidth\":0,\"ticks\":\"\"}}}],\"histogram\":[{\"marker\":{\"pattern\":{\"fillmode\":\"overlay\",\"size\":10,\"solidity\":0.2}},\"type\":\"histogram\"}],\"scattergl\":[{\"type\":\"scattergl\",\"marker\":{\"colorbar\":{\"outlinewidth\":0,\"ticks\":\"\"}}}],\"scatter3d\":[{\"type\":\"scatter3d\",\"line\":{\"colorbar\":{\"outlinewidth\":0,\"ticks\":\"\"}},\"marker\":{\"colorbar\":{\"outlinewidth\":0,\"ticks\":\"\"}}}],\"scattermapbox\":[{\"type\":\"scattermapbox\",\"marker\":{\"colorbar\":{\"outlinewidth\":0,\"ticks\":\"\"}}}],\"scatterternary\":[{\"type\":\"scatterternary\",\"marker\":{\"colorbar\":{\"outlinewidth\":0,\"ticks\":\"\"}}}],\"scattercarpet\":[{\"type\":\"scattercarpet\",\"marker\":{\"colorbar\":{\"outlinewidth\":0,\"ticks\":\"\"}}}],\"carpet\":[{\"aaxis\":{\"endlinecolor\":\"#2a3f5f\",\"gridcolor\":\"white\",\"linecolor\":\"white\",\"minorgridcolor\":\"white\",\"startlinecolor\":\"#2a3f5f\"},\"baxis\":{\"endlinecolor\":\"#2a3f5f\",\"gridcolor\":\"white\",\"linecolor\":\"white\",\"minorgridcolor\":\"white\",\"startlinecolor\":\"#2a3f5f\"},\"type\":\"carpet\"}],\"table\":[{\"cells\":{\"fill\":{\"color\":\"#EBF0F8\"},\"line\":{\"color\":\"white\"}},\"header\":{\"fill\":{\"color\":\"#C8D4E3\"},\"line\":{\"color\":\"white\"}},\"type\":\"table\"}],\"barpolar\":[{\"marker\":{\"line\":{\"color\":\"#E5ECF6\",\"width\":0.5},\"pattern\":{\"fillmode\":\"overlay\",\"size\":10,\"solidity\":0.2}},\"type\":\"barpolar\"}],\"pie\":[{\"automargin\":true,\"type\":\"pie\"}]},\"layout\":{\"autotypenumbers\":\"strict\",\"colorway\":[\"#636efa\",\"#EF553B\",\"#00cc96\",\"#ab63fa\",\"#FFA15A\",\"#19d3f3\",\"#FF6692\",\"#B6E880\",\"#FF97FF\",\"#FECB52\"],\"font\":{\"color\":\"#2a3f5f\"},\"hovermode\":\"closest\",\"hoverlabel\":{\"align\":\"left\"},\"paper_bgcolor\":\"white\",\"plot_bgcolor\":\"#E5ECF6\",\"polar\":{\"bgcolor\":\"#E5ECF6\",\"angularaxis\":{\"gridcolor\":\"white\",\"linecolor\":\"white\",\"ticks\":\"\"},\"radialaxis\":{\"gridcolor\":\"white\",\"linecolor\":\"white\",\"ticks\":\"\"}},\"ternary\":{\"bgcolor\":\"#E5ECF6\",\"aaxis\":{\"gridcolor\":\"white\",\"linecolor\":\"white\",\"ticks\":\"\"},\"baxis\":{\"gridcolor\":\"white\",\"linecolor\":\"white\",\"ticks\":\"\"},\"caxis\":{\"gridcolor\":\"white\",\"linecolor\":\"white\",\"ticks\":\"\"}},\"coloraxis\":{\"colorbar\":{\"outlinewidth\":0,\"ticks\":\"\"}},\"colorscale\":{\"sequential\":[[0.0,\"#0d0887\"],[0.1111111111111111,\"#46039f\"],[0.2222222222222222,\"#7201a8\"],[0.3333333333333333,\"#9c179e\"],[0.4444444444444444,\"#bd3786\"],[0.5555555555555556,\"#d8576b\"],[0.6666666666666666,\"#ed7953\"],[0.7777777777777778,\"#fb9f3a\"],[0.8888888888888888,\"#fdca26\"],[1.0,\"#f0f921\"]],\"sequentialminus\":[[0.0,\"#0d0887\"],[0.1111111111111111,\"#46039f\"],[0.2222222222222222,\"#7201a8\"],[0.3333333333333333,\"#9c179e\"],[0.4444444444444444,\"#bd3786\"],[0.5555555555555556,\"#d8576b\"],[0.6666666666666666,\"#ed7953\"],[0.7777777777777778,\"#fb9f3a\"],[0.8888888888888888,\"#fdca26\"],[1.0,\"#f0f921\"]],\"diverging\":[[0,\"#8e0152\"],[0.1,\"#c51b7d\"],[0.2,\"#de77ae\"],[0.3,\"#f1b6da\"],[0.4,\"#fde0ef\"],[0.5,\"#f7f7f7\"],[0.6,\"#e6f5d0\"],[0.7,\"#b8e186\"],[0.8,\"#7fbc41\"],[0.9,\"#4d9221\"],[1,\"#276419\"]]},\"xaxis\":{\"gridcolor\":\"white\",\"linecolor\":\"white\",\"ticks\":\"\",\"title\":{\"standoff\":15},\"zerolinecolor\":\"white\",\"automargin\":true,\"zerolinewidth\":2},\"yaxis\":{\"gridcolor\":\"white\",\"linecolor\":\"white\",\"ticks\":\"\",\"title\":{\"standoff\":15},\"zerolinecolor\":\"white\",\"automargin\":true,\"zerolinewidth\":2},\"scene\":{\"xaxis\":{\"backgroundcolor\":\"#E5ECF6\",\"gridcolor\":\"white\",\"linecolor\":\"white\",\"showbackground\":true,\"ticks\":\"\",\"zerolinecolor\":\"white\",\"gridwidth\":2},\"yaxis\":{\"backgroundcolor\":\"#E5ECF6\",\"gridcolor\":\"white\",\"linecolor\":\"white\",\"showbackground\":true,\"ticks\":\"\",\"zerolinecolor\":\"white\",\"gridwidth\":2},\"zaxis\":{\"backgroundcolor\":\"#E5ECF6\",\"gridcolor\":\"white\",\"linecolor\":\"white\",\"showbackground\":true,\"ticks\":\"\",\"zerolinecolor\":\"white\",\"gridwidth\":2}},\"shapedefaults\":{\"line\":{\"color\":\"#2a3f5f\"}},\"annotationdefaults\":{\"arrowcolor\":\"#2a3f5f\",\"arrowhead\":0,\"arrowwidth\":1},\"geo\":{\"bgcolor\":\"white\",\"landcolor\":\"#E5ECF6\",\"subunitcolor\":\"white\",\"showland\":true,\"showlakes\":true,\"lakecolor\":\"white\"},\"title\":{\"x\":0.05},\"mapbox\":{\"style\":\"light\"}}},\"xaxis\":{\"anchor\":\"y\",\"domain\":[0.0,1.0],\"title\":{\"text\":\"Country\"},\"tickfont\":{\"family\":\"Arial Black\"},\"tickangle\":90},\"yaxis\":{\"anchor\":\"x\",\"domain\":[0.0,1.0],\"title\":{\"text\":\"Average Aftertaste\"}},\"legend\":{\"tracegroupgap\":0},\"title\":{\"text\":\"Average Aftertaste by Country\",\"x\":0.5},\"barmode\":\"relative\"},                        {\"responsive\": true}                    ).then(function(){\n",
       "                            \n",
       "var gd = document.getElementById('1bf0dc22-a181-4a63-9f3c-291c97730d46');\n",
       "var x = new MutationObserver(function (mutations, observer) {{\n",
       "        var display = window.getComputedStyle(gd).display;\n",
       "        if (!display || display === 'none') {{\n",
       "            console.log([gd, 'removed!']);\n",
       "            Plotly.purge(gd);\n",
       "            observer.disconnect();\n",
       "        }}\n",
       "}});\n",
       "\n",
       "// Listen for the removal of the full notebook cells\n",
       "var notebookContainer = gd.closest('#notebook-container');\n",
       "if (notebookContainer) {{\n",
       "    x.observe(notebookContainer, {childList: true});\n",
       "}}\n",
       "\n",
       "// Listen for the clearing of the current output cell\n",
       "var outputEl = gd.closest('.output');\n",
       "if (outputEl) {{\n",
       "    x.observe(outputEl, {childList: true});\n",
       "}}\n",
       "\n",
       "                        })                };                });            </script>        </div>"
      ]
     },
     "metadata": {},
     "output_type": "display_data"
    },
    {
     "data": {
      "text/html": [
       "<div>                            <div id=\"3418f27b-0d1d-449b-b1f1-9152b70e974a\" class=\"plotly-graph-div\" style=\"height:525px; width:100%;\"></div>            <script type=\"text/javascript\">                require([\"plotly\"], function(Plotly) {                    window.PLOTLYENV=window.PLOTLYENV || {};                                    if (document.getElementById(\"3418f27b-0d1d-449b-b1f1-9152b70e974a\")) {                    Plotly.newPlot(                        \"3418f27b-0d1d-449b-b1f1-9152b70e974a\",                        [{\"alignmentgroup\":\"True\",\"hovertemplate\":\"Country=%{x}\\u003cbr\\u003eAverage brightness or liveliness of the taste=%{y}\\u003cextra\\u003e\\u003c\\u002fextra\\u003e\",\"legendgroup\":\"\",\"marker\":{\"color\":\"#636efa\",\"pattern\":{\"shape\":\"\"}},\"name\":\"\",\"offsetgroup\":\"\",\"orientation\":\"v\",\"showlegend\":false,\"textposition\":\"auto\",\"x\":[\"Papua New Guinea\",\"Ethiopia\",\"Kenya\",\"Rwanda\",\"Uganda\",\"Panama\",\"Peru\",\"Ecuador\",\"United States\",\"India\",\"Thailand\",\"Guatemala\",\"El Salvador\",\"China\",\"Costa Rica\",\"Colombia\",\"Brazil\",\"Tanzania\",\"Indonesia\",\"Mexico\",\"Japan\",\"Burundi\",\"Taiwan\",\"Malawi\",\"Myanmar\",\"Vietnam\",\"Zambia\",\"Laos\",\"Nicaragua\",\"Philippines\",\"Honduras\",\"Mauritius\",\"Haiti\",\"Cote dIvoire\"],\"xaxis\":\"x\",\"y\":[8.33,8.043636363636365,7.8660000000000005,7.83,7.708611111111111,7.705,7.699,7.6933333333333325,7.651609195402299,7.636428571428572,7.5971875,7.596408839779006,7.590476190476191,7.578125,7.57392156862745,7.5600000000000005,7.511439393939394,7.5,7.491,7.428347457627118,7.42,7.415,7.4143243243243235,7.408181818181817,7.40625,7.3625,7.33,7.3066666666666675,7.266538461538461,7.266,7.233584905660377,7.17,7.126666666666666,7.0],\"yaxis\":\"y\",\"type\":\"bar\"}],                        {\"template\":{\"data\":{\"histogram2dcontour\":[{\"type\":\"histogram2dcontour\",\"colorbar\":{\"outlinewidth\":0,\"ticks\":\"\"},\"colorscale\":[[0.0,\"#0d0887\"],[0.1111111111111111,\"#46039f\"],[0.2222222222222222,\"#7201a8\"],[0.3333333333333333,\"#9c179e\"],[0.4444444444444444,\"#bd3786\"],[0.5555555555555556,\"#d8576b\"],[0.6666666666666666,\"#ed7953\"],[0.7777777777777778,\"#fb9f3a\"],[0.8888888888888888,\"#fdca26\"],[1.0,\"#f0f921\"]]}],\"choropleth\":[{\"type\":\"choropleth\",\"colorbar\":{\"outlinewidth\":0,\"ticks\":\"\"}}],\"histogram2d\":[{\"type\":\"histogram2d\",\"colorbar\":{\"outlinewidth\":0,\"ticks\":\"\"},\"colorscale\":[[0.0,\"#0d0887\"],[0.1111111111111111,\"#46039f\"],[0.2222222222222222,\"#7201a8\"],[0.3333333333333333,\"#9c179e\"],[0.4444444444444444,\"#bd3786\"],[0.5555555555555556,\"#d8576b\"],[0.6666666666666666,\"#ed7953\"],[0.7777777777777778,\"#fb9f3a\"],[0.8888888888888888,\"#fdca26\"],[1.0,\"#f0f921\"]]}],\"heatmap\":[{\"type\":\"heatmap\",\"colorbar\":{\"outlinewidth\":0,\"ticks\":\"\"},\"colorscale\":[[0.0,\"#0d0887\"],[0.1111111111111111,\"#46039f\"],[0.2222222222222222,\"#7201a8\"],[0.3333333333333333,\"#9c179e\"],[0.4444444444444444,\"#bd3786\"],[0.5555555555555556,\"#d8576b\"],[0.6666666666666666,\"#ed7953\"],[0.7777777777777778,\"#fb9f3a\"],[0.8888888888888888,\"#fdca26\"],[1.0,\"#f0f921\"]]}],\"heatmapgl\":[{\"type\":\"heatmapgl\",\"colorbar\":{\"outlinewidth\":0,\"ticks\":\"\"},\"colorscale\":[[0.0,\"#0d0887\"],[0.1111111111111111,\"#46039f\"],[0.2222222222222222,\"#7201a8\"],[0.3333333333333333,\"#9c179e\"],[0.4444444444444444,\"#bd3786\"],[0.5555555555555556,\"#d8576b\"],[0.6666666666666666,\"#ed7953\"],[0.7777777777777778,\"#fb9f3a\"],[0.8888888888888888,\"#fdca26\"],[1.0,\"#f0f921\"]]}],\"contourcarpet\":[{\"type\":\"contourcarpet\",\"colorbar\":{\"outlinewidth\":0,\"ticks\":\"\"}}],\"contour\":[{\"type\":\"contour\",\"colorbar\":{\"outlinewidth\":0,\"ticks\":\"\"},\"colorscale\":[[0.0,\"#0d0887\"],[0.1111111111111111,\"#46039f\"],[0.2222222222222222,\"#7201a8\"],[0.3333333333333333,\"#9c179e\"],[0.4444444444444444,\"#bd3786\"],[0.5555555555555556,\"#d8576b\"],[0.6666666666666666,\"#ed7953\"],[0.7777777777777778,\"#fb9f3a\"],[0.8888888888888888,\"#fdca26\"],[1.0,\"#f0f921\"]]}],\"surface\":[{\"type\":\"surface\",\"colorbar\":{\"outlinewidth\":0,\"ticks\":\"\"},\"colorscale\":[[0.0,\"#0d0887\"],[0.1111111111111111,\"#46039f\"],[0.2222222222222222,\"#7201a8\"],[0.3333333333333333,\"#9c179e\"],[0.4444444444444444,\"#bd3786\"],[0.5555555555555556,\"#d8576b\"],[0.6666666666666666,\"#ed7953\"],[0.7777777777777778,\"#fb9f3a\"],[0.8888888888888888,\"#fdca26\"],[1.0,\"#f0f921\"]]}],\"mesh3d\":[{\"type\":\"mesh3d\",\"colorbar\":{\"outlinewidth\":0,\"ticks\":\"\"}}],\"scatter\":[{\"fillpattern\":{\"fillmode\":\"overlay\",\"size\":10,\"solidity\":0.2},\"type\":\"scatter\"}],\"parcoords\":[{\"type\":\"parcoords\",\"line\":{\"colorbar\":{\"outlinewidth\":0,\"ticks\":\"\"}}}],\"scatterpolargl\":[{\"type\":\"scatterpolargl\",\"marker\":{\"colorbar\":{\"outlinewidth\":0,\"ticks\":\"\"}}}],\"bar\":[{\"error_x\":{\"color\":\"#2a3f5f\"},\"error_y\":{\"color\":\"#2a3f5f\"},\"marker\":{\"line\":{\"color\":\"#E5ECF6\",\"width\":0.5},\"pattern\":{\"fillmode\":\"overlay\",\"size\":10,\"solidity\":0.2}},\"type\":\"bar\"}],\"scattergeo\":[{\"type\":\"scattergeo\",\"marker\":{\"colorbar\":{\"outlinewidth\":0,\"ticks\":\"\"}}}],\"scatterpolar\":[{\"type\":\"scatterpolar\",\"marker\":{\"colorbar\":{\"outlinewidth\":0,\"ticks\":\"\"}}}],\"histogram\":[{\"marker\":{\"pattern\":{\"fillmode\":\"overlay\",\"size\":10,\"solidity\":0.2}},\"type\":\"histogram\"}],\"scattergl\":[{\"type\":\"scattergl\",\"marker\":{\"colorbar\":{\"outlinewidth\":0,\"ticks\":\"\"}}}],\"scatter3d\":[{\"type\":\"scatter3d\",\"line\":{\"colorbar\":{\"outlinewidth\":0,\"ticks\":\"\"}},\"marker\":{\"colorbar\":{\"outlinewidth\":0,\"ticks\":\"\"}}}],\"scattermapbox\":[{\"type\":\"scattermapbox\",\"marker\":{\"colorbar\":{\"outlinewidth\":0,\"ticks\":\"\"}}}],\"scatterternary\":[{\"type\":\"scatterternary\",\"marker\":{\"colorbar\":{\"outlinewidth\":0,\"ticks\":\"\"}}}],\"scattercarpet\":[{\"type\":\"scattercarpet\",\"marker\":{\"colorbar\":{\"outlinewidth\":0,\"ticks\":\"\"}}}],\"carpet\":[{\"aaxis\":{\"endlinecolor\":\"#2a3f5f\",\"gridcolor\":\"white\",\"linecolor\":\"white\",\"minorgridcolor\":\"white\",\"startlinecolor\":\"#2a3f5f\"},\"baxis\":{\"endlinecolor\":\"#2a3f5f\",\"gridcolor\":\"white\",\"linecolor\":\"white\",\"minorgridcolor\":\"white\",\"startlinecolor\":\"#2a3f5f\"},\"type\":\"carpet\"}],\"table\":[{\"cells\":{\"fill\":{\"color\":\"#EBF0F8\"},\"line\":{\"color\":\"white\"}},\"header\":{\"fill\":{\"color\":\"#C8D4E3\"},\"line\":{\"color\":\"white\"}},\"type\":\"table\"}],\"barpolar\":[{\"marker\":{\"line\":{\"color\":\"#E5ECF6\",\"width\":0.5},\"pattern\":{\"fillmode\":\"overlay\",\"size\":10,\"solidity\":0.2}},\"type\":\"barpolar\"}],\"pie\":[{\"automargin\":true,\"type\":\"pie\"}]},\"layout\":{\"autotypenumbers\":\"strict\",\"colorway\":[\"#636efa\",\"#EF553B\",\"#00cc96\",\"#ab63fa\",\"#FFA15A\",\"#19d3f3\",\"#FF6692\",\"#B6E880\",\"#FF97FF\",\"#FECB52\"],\"font\":{\"color\":\"#2a3f5f\"},\"hovermode\":\"closest\",\"hoverlabel\":{\"align\":\"left\"},\"paper_bgcolor\":\"white\",\"plot_bgcolor\":\"#E5ECF6\",\"polar\":{\"bgcolor\":\"#E5ECF6\",\"angularaxis\":{\"gridcolor\":\"white\",\"linecolor\":\"white\",\"ticks\":\"\"},\"radialaxis\":{\"gridcolor\":\"white\",\"linecolor\":\"white\",\"ticks\":\"\"}},\"ternary\":{\"bgcolor\":\"#E5ECF6\",\"aaxis\":{\"gridcolor\":\"white\",\"linecolor\":\"white\",\"ticks\":\"\"},\"baxis\":{\"gridcolor\":\"white\",\"linecolor\":\"white\",\"ticks\":\"\"},\"caxis\":{\"gridcolor\":\"white\",\"linecolor\":\"white\",\"ticks\":\"\"}},\"coloraxis\":{\"colorbar\":{\"outlinewidth\":0,\"ticks\":\"\"}},\"colorscale\":{\"sequential\":[[0.0,\"#0d0887\"],[0.1111111111111111,\"#46039f\"],[0.2222222222222222,\"#7201a8\"],[0.3333333333333333,\"#9c179e\"],[0.4444444444444444,\"#bd3786\"],[0.5555555555555556,\"#d8576b\"],[0.6666666666666666,\"#ed7953\"],[0.7777777777777778,\"#fb9f3a\"],[0.8888888888888888,\"#fdca26\"],[1.0,\"#f0f921\"]],\"sequentialminus\":[[0.0,\"#0d0887\"],[0.1111111111111111,\"#46039f\"],[0.2222222222222222,\"#7201a8\"],[0.3333333333333333,\"#9c179e\"],[0.4444444444444444,\"#bd3786\"],[0.5555555555555556,\"#d8576b\"],[0.6666666666666666,\"#ed7953\"],[0.7777777777777778,\"#fb9f3a\"],[0.8888888888888888,\"#fdca26\"],[1.0,\"#f0f921\"]],\"diverging\":[[0,\"#8e0152\"],[0.1,\"#c51b7d\"],[0.2,\"#de77ae\"],[0.3,\"#f1b6da\"],[0.4,\"#fde0ef\"],[0.5,\"#f7f7f7\"],[0.6,\"#e6f5d0\"],[0.7,\"#b8e186\"],[0.8,\"#7fbc41\"],[0.9,\"#4d9221\"],[1,\"#276419\"]]},\"xaxis\":{\"gridcolor\":\"white\",\"linecolor\":\"white\",\"ticks\":\"\",\"title\":{\"standoff\":15},\"zerolinecolor\":\"white\",\"automargin\":true,\"zerolinewidth\":2},\"yaxis\":{\"gridcolor\":\"white\",\"linecolor\":\"white\",\"ticks\":\"\",\"title\":{\"standoff\":15},\"zerolinecolor\":\"white\",\"automargin\":true,\"zerolinewidth\":2},\"scene\":{\"xaxis\":{\"backgroundcolor\":\"#E5ECF6\",\"gridcolor\":\"white\",\"linecolor\":\"white\",\"showbackground\":true,\"ticks\":\"\",\"zerolinecolor\":\"white\",\"gridwidth\":2},\"yaxis\":{\"backgroundcolor\":\"#E5ECF6\",\"gridcolor\":\"white\",\"linecolor\":\"white\",\"showbackground\":true,\"ticks\":\"\",\"zerolinecolor\":\"white\",\"gridwidth\":2},\"zaxis\":{\"backgroundcolor\":\"#E5ECF6\",\"gridcolor\":\"white\",\"linecolor\":\"white\",\"showbackground\":true,\"ticks\":\"\",\"zerolinecolor\":\"white\",\"gridwidth\":2}},\"shapedefaults\":{\"line\":{\"color\":\"#2a3f5f\"}},\"annotationdefaults\":{\"arrowcolor\":\"#2a3f5f\",\"arrowhead\":0,\"arrowwidth\":1},\"geo\":{\"bgcolor\":\"white\",\"landcolor\":\"#E5ECF6\",\"subunitcolor\":\"white\",\"showland\":true,\"showlakes\":true,\"lakecolor\":\"white\"},\"title\":{\"x\":0.05},\"mapbox\":{\"style\":\"light\"}}},\"xaxis\":{\"anchor\":\"y\",\"domain\":[0.0,1.0],\"title\":{\"text\":\"Country\"},\"tickfont\":{\"family\":\"Arial Black\"},\"tickangle\":90},\"yaxis\":{\"anchor\":\"x\",\"domain\":[0.0,1.0],\"title\":{\"text\":\"Average brightness or liveliness of the taste\"}},\"legend\":{\"tracegroupgap\":0},\"title\":{\"text\":\"Average Acidity by Country\",\"x\":0.5},\"barmode\":\"relative\"},                        {\"responsive\": true}                    ).then(function(){\n",
       "                            \n",
       "var gd = document.getElementById('3418f27b-0d1d-449b-b1f1-9152b70e974a');\n",
       "var x = new MutationObserver(function (mutations, observer) {{\n",
       "        var display = window.getComputedStyle(gd).display;\n",
       "        if (!display || display === 'none') {{\n",
       "            console.log([gd, 'removed!']);\n",
       "            Plotly.purge(gd);\n",
       "            observer.disconnect();\n",
       "        }}\n",
       "}});\n",
       "\n",
       "// Listen for the removal of the full notebook cells\n",
       "var notebookContainer = gd.closest('#notebook-container');\n",
       "if (notebookContainer) {{\n",
       "    x.observe(notebookContainer, {childList: true});\n",
       "}}\n",
       "\n",
       "// Listen for the clearing of the current output cell\n",
       "var outputEl = gd.closest('.output');\n",
       "if (outputEl) {{\n",
       "    x.observe(outputEl, {childList: true});\n",
       "}}\n",
       "\n",
       "                        })                };                });            </script>        </div>"
      ]
     },
     "metadata": {},
     "output_type": "display_data"
    },
    {
     "data": {
      "text/html": [
       "<div>                            <div id=\"670b5b69-e9c2-42c6-9faf-2438835fd2c6\" class=\"plotly-graph-div\" style=\"height:525px; width:100%;\"></div>            <script type=\"text/javascript\">                require([\"plotly\"], function(Plotly) {                    window.PLOTLYENV=window.PLOTLYENV || {};                                    if (document.getElementById(\"670b5b69-e9c2-42c6-9faf-2438835fd2c6\")) {                    Plotly.newPlot(                        \"670b5b69-e9c2-42c6-9faf-2438835fd2c6\",                        [{\"alignmentgroup\":\"True\",\"hovertemplate\":\"Country=%{x}\\u003cbr\\u003eAverage thickness or viscosity of the coffee in the mouth=%{y}\\u003cextra\\u003e\\u003c\\u002fextra\\u003e\",\"legendgroup\":\"\",\"marker\":{\"color\":\"#636efa\",\"pattern\":{\"shape\":\"\"}},\"name\":\"\",\"offsetgroup\":\"\",\"orientation\":\"v\",\"showlegend\":false,\"textposition\":\"auto\",\"x\":[\"Japan\",\"Papua New Guinea\",\"Ethiopia\",\"Peru\",\"Zambia\",\"Rwanda\",\"Kenya\",\"Uganda\",\"India\",\"United States\",\"Indonesia\",\"Colombia\",\"El Salvador\",\"Panama\",\"China\",\"Thailand\",\"Brazil\",\"Vietnam\",\"Costa Rica\",\"Tanzania\",\"Guatemala\",\"Taiwan\",\"Nicaragua\",\"Mexico\",\"Laos\",\"Malawi\",\"Cote dIvoire\",\"Philippines\",\"Burundi\",\"Haiti\",\"Myanmar\",\"Mauritius\",\"Honduras\",\"Ecuador\"],\"xaxis\":\"x\",\"y\":[8.08,8.0,7.92409090909091,7.802,7.75,7.75,7.7264,7.720000000000001,7.661428571428572,7.652413793103448,7.6315,7.609508196721311,7.606666666666667,7.5825,7.57375,7.5521875,7.544545454545455,7.5425,7.537450980392157,7.479000000000001,7.475745856353591,7.449324324324325,7.40076923076923,7.380466101694915,7.363333333333333,7.338181818181818,7.33,7.298,7.29,7.276666666666666,7.27,7.25,7.239245283018868,6.026666666666666],\"yaxis\":\"y\",\"type\":\"bar\"}],                        {\"template\":{\"data\":{\"histogram2dcontour\":[{\"type\":\"histogram2dcontour\",\"colorbar\":{\"outlinewidth\":0,\"ticks\":\"\"},\"colorscale\":[[0.0,\"#0d0887\"],[0.1111111111111111,\"#46039f\"],[0.2222222222222222,\"#7201a8\"],[0.3333333333333333,\"#9c179e\"],[0.4444444444444444,\"#bd3786\"],[0.5555555555555556,\"#d8576b\"],[0.6666666666666666,\"#ed7953\"],[0.7777777777777778,\"#fb9f3a\"],[0.8888888888888888,\"#fdca26\"],[1.0,\"#f0f921\"]]}],\"choropleth\":[{\"type\":\"choropleth\",\"colorbar\":{\"outlinewidth\":0,\"ticks\":\"\"}}],\"histogram2d\":[{\"type\":\"histogram2d\",\"colorbar\":{\"outlinewidth\":0,\"ticks\":\"\"},\"colorscale\":[[0.0,\"#0d0887\"],[0.1111111111111111,\"#46039f\"],[0.2222222222222222,\"#7201a8\"],[0.3333333333333333,\"#9c179e\"],[0.4444444444444444,\"#bd3786\"],[0.5555555555555556,\"#d8576b\"],[0.6666666666666666,\"#ed7953\"],[0.7777777777777778,\"#fb9f3a\"],[0.8888888888888888,\"#fdca26\"],[1.0,\"#f0f921\"]]}],\"heatmap\":[{\"type\":\"heatmap\",\"colorbar\":{\"outlinewidth\":0,\"ticks\":\"\"},\"colorscale\":[[0.0,\"#0d0887\"],[0.1111111111111111,\"#46039f\"],[0.2222222222222222,\"#7201a8\"],[0.3333333333333333,\"#9c179e\"],[0.4444444444444444,\"#bd3786\"],[0.5555555555555556,\"#d8576b\"],[0.6666666666666666,\"#ed7953\"],[0.7777777777777778,\"#fb9f3a\"],[0.8888888888888888,\"#fdca26\"],[1.0,\"#f0f921\"]]}],\"heatmapgl\":[{\"type\":\"heatmapgl\",\"colorbar\":{\"outlinewidth\":0,\"ticks\":\"\"},\"colorscale\":[[0.0,\"#0d0887\"],[0.1111111111111111,\"#46039f\"],[0.2222222222222222,\"#7201a8\"],[0.3333333333333333,\"#9c179e\"],[0.4444444444444444,\"#bd3786\"],[0.5555555555555556,\"#d8576b\"],[0.6666666666666666,\"#ed7953\"],[0.7777777777777778,\"#fb9f3a\"],[0.8888888888888888,\"#fdca26\"],[1.0,\"#f0f921\"]]}],\"contourcarpet\":[{\"type\":\"contourcarpet\",\"colorbar\":{\"outlinewidth\":0,\"ticks\":\"\"}}],\"contour\":[{\"type\":\"contour\",\"colorbar\":{\"outlinewidth\":0,\"ticks\":\"\"},\"colorscale\":[[0.0,\"#0d0887\"],[0.1111111111111111,\"#46039f\"],[0.2222222222222222,\"#7201a8\"],[0.3333333333333333,\"#9c179e\"],[0.4444444444444444,\"#bd3786\"],[0.5555555555555556,\"#d8576b\"],[0.6666666666666666,\"#ed7953\"],[0.7777777777777778,\"#fb9f3a\"],[0.8888888888888888,\"#fdca26\"],[1.0,\"#f0f921\"]]}],\"surface\":[{\"type\":\"surface\",\"colorbar\":{\"outlinewidth\":0,\"ticks\":\"\"},\"colorscale\":[[0.0,\"#0d0887\"],[0.1111111111111111,\"#46039f\"],[0.2222222222222222,\"#7201a8\"],[0.3333333333333333,\"#9c179e\"],[0.4444444444444444,\"#bd3786\"],[0.5555555555555556,\"#d8576b\"],[0.6666666666666666,\"#ed7953\"],[0.7777777777777778,\"#fb9f3a\"],[0.8888888888888888,\"#fdca26\"],[1.0,\"#f0f921\"]]}],\"mesh3d\":[{\"type\":\"mesh3d\",\"colorbar\":{\"outlinewidth\":0,\"ticks\":\"\"}}],\"scatter\":[{\"fillpattern\":{\"fillmode\":\"overlay\",\"size\":10,\"solidity\":0.2},\"type\":\"scatter\"}],\"parcoords\":[{\"type\":\"parcoords\",\"line\":{\"colorbar\":{\"outlinewidth\":0,\"ticks\":\"\"}}}],\"scatterpolargl\":[{\"type\":\"scatterpolargl\",\"marker\":{\"colorbar\":{\"outlinewidth\":0,\"ticks\":\"\"}}}],\"bar\":[{\"error_x\":{\"color\":\"#2a3f5f\"},\"error_y\":{\"color\":\"#2a3f5f\"},\"marker\":{\"line\":{\"color\":\"#E5ECF6\",\"width\":0.5},\"pattern\":{\"fillmode\":\"overlay\",\"size\":10,\"solidity\":0.2}},\"type\":\"bar\"}],\"scattergeo\":[{\"type\":\"scattergeo\",\"marker\":{\"colorbar\":{\"outlinewidth\":0,\"ticks\":\"\"}}}],\"scatterpolar\":[{\"type\":\"scatterpolar\",\"marker\":{\"colorbar\":{\"outlinewidth\":0,\"ticks\":\"\"}}}],\"histogram\":[{\"marker\":{\"pattern\":{\"fillmode\":\"overlay\",\"size\":10,\"solidity\":0.2}},\"type\":\"histogram\"}],\"scattergl\":[{\"type\":\"scattergl\",\"marker\":{\"colorbar\":{\"outlinewidth\":0,\"ticks\":\"\"}}}],\"scatter3d\":[{\"type\":\"scatter3d\",\"line\":{\"colorbar\":{\"outlinewidth\":0,\"ticks\":\"\"}},\"marker\":{\"colorbar\":{\"outlinewidth\":0,\"ticks\":\"\"}}}],\"scattermapbox\":[{\"type\":\"scattermapbox\",\"marker\":{\"colorbar\":{\"outlinewidth\":0,\"ticks\":\"\"}}}],\"scatterternary\":[{\"type\":\"scatterternary\",\"marker\":{\"colorbar\":{\"outlinewidth\":0,\"ticks\":\"\"}}}],\"scattercarpet\":[{\"type\":\"scattercarpet\",\"marker\":{\"colorbar\":{\"outlinewidth\":0,\"ticks\":\"\"}}}],\"carpet\":[{\"aaxis\":{\"endlinecolor\":\"#2a3f5f\",\"gridcolor\":\"white\",\"linecolor\":\"white\",\"minorgridcolor\":\"white\",\"startlinecolor\":\"#2a3f5f\"},\"baxis\":{\"endlinecolor\":\"#2a3f5f\",\"gridcolor\":\"white\",\"linecolor\":\"white\",\"minorgridcolor\":\"white\",\"startlinecolor\":\"#2a3f5f\"},\"type\":\"carpet\"}],\"table\":[{\"cells\":{\"fill\":{\"color\":\"#EBF0F8\"},\"line\":{\"color\":\"white\"}},\"header\":{\"fill\":{\"color\":\"#C8D4E3\"},\"line\":{\"color\":\"white\"}},\"type\":\"table\"}],\"barpolar\":[{\"marker\":{\"line\":{\"color\":\"#E5ECF6\",\"width\":0.5},\"pattern\":{\"fillmode\":\"overlay\",\"size\":10,\"solidity\":0.2}},\"type\":\"barpolar\"}],\"pie\":[{\"automargin\":true,\"type\":\"pie\"}]},\"layout\":{\"autotypenumbers\":\"strict\",\"colorway\":[\"#636efa\",\"#EF553B\",\"#00cc96\",\"#ab63fa\",\"#FFA15A\",\"#19d3f3\",\"#FF6692\",\"#B6E880\",\"#FF97FF\",\"#FECB52\"],\"font\":{\"color\":\"#2a3f5f\"},\"hovermode\":\"closest\",\"hoverlabel\":{\"align\":\"left\"},\"paper_bgcolor\":\"white\",\"plot_bgcolor\":\"#E5ECF6\",\"polar\":{\"bgcolor\":\"#E5ECF6\",\"angularaxis\":{\"gridcolor\":\"white\",\"linecolor\":\"white\",\"ticks\":\"\"},\"radialaxis\":{\"gridcolor\":\"white\",\"linecolor\":\"white\",\"ticks\":\"\"}},\"ternary\":{\"bgcolor\":\"#E5ECF6\",\"aaxis\":{\"gridcolor\":\"white\",\"linecolor\":\"white\",\"ticks\":\"\"},\"baxis\":{\"gridcolor\":\"white\",\"linecolor\":\"white\",\"ticks\":\"\"},\"caxis\":{\"gridcolor\":\"white\",\"linecolor\":\"white\",\"ticks\":\"\"}},\"coloraxis\":{\"colorbar\":{\"outlinewidth\":0,\"ticks\":\"\"}},\"colorscale\":{\"sequential\":[[0.0,\"#0d0887\"],[0.1111111111111111,\"#46039f\"],[0.2222222222222222,\"#7201a8\"],[0.3333333333333333,\"#9c179e\"],[0.4444444444444444,\"#bd3786\"],[0.5555555555555556,\"#d8576b\"],[0.6666666666666666,\"#ed7953\"],[0.7777777777777778,\"#fb9f3a\"],[0.8888888888888888,\"#fdca26\"],[1.0,\"#f0f921\"]],\"sequentialminus\":[[0.0,\"#0d0887\"],[0.1111111111111111,\"#46039f\"],[0.2222222222222222,\"#7201a8\"],[0.3333333333333333,\"#9c179e\"],[0.4444444444444444,\"#bd3786\"],[0.5555555555555556,\"#d8576b\"],[0.6666666666666666,\"#ed7953\"],[0.7777777777777778,\"#fb9f3a\"],[0.8888888888888888,\"#fdca26\"],[1.0,\"#f0f921\"]],\"diverging\":[[0,\"#8e0152\"],[0.1,\"#c51b7d\"],[0.2,\"#de77ae\"],[0.3,\"#f1b6da\"],[0.4,\"#fde0ef\"],[0.5,\"#f7f7f7\"],[0.6,\"#e6f5d0\"],[0.7,\"#b8e186\"],[0.8,\"#7fbc41\"],[0.9,\"#4d9221\"],[1,\"#276419\"]]},\"xaxis\":{\"gridcolor\":\"white\",\"linecolor\":\"white\",\"ticks\":\"\",\"title\":{\"standoff\":15},\"zerolinecolor\":\"white\",\"automargin\":true,\"zerolinewidth\":2},\"yaxis\":{\"gridcolor\":\"white\",\"linecolor\":\"white\",\"ticks\":\"\",\"title\":{\"standoff\":15},\"zerolinecolor\":\"white\",\"automargin\":true,\"zerolinewidth\":2},\"scene\":{\"xaxis\":{\"backgroundcolor\":\"#E5ECF6\",\"gridcolor\":\"white\",\"linecolor\":\"white\",\"showbackground\":true,\"ticks\":\"\",\"zerolinecolor\":\"white\",\"gridwidth\":2},\"yaxis\":{\"backgroundcolor\":\"#E5ECF6\",\"gridcolor\":\"white\",\"linecolor\":\"white\",\"showbackground\":true,\"ticks\":\"\",\"zerolinecolor\":\"white\",\"gridwidth\":2},\"zaxis\":{\"backgroundcolor\":\"#E5ECF6\",\"gridcolor\":\"white\",\"linecolor\":\"white\",\"showbackground\":true,\"ticks\":\"\",\"zerolinecolor\":\"white\",\"gridwidth\":2}},\"shapedefaults\":{\"line\":{\"color\":\"#2a3f5f\"}},\"annotationdefaults\":{\"arrowcolor\":\"#2a3f5f\",\"arrowhead\":0,\"arrowwidth\":1},\"geo\":{\"bgcolor\":\"white\",\"landcolor\":\"#E5ECF6\",\"subunitcolor\":\"white\",\"showland\":true,\"showlakes\":true,\"lakecolor\":\"white\"},\"title\":{\"x\":0.05},\"mapbox\":{\"style\":\"light\"}}},\"xaxis\":{\"anchor\":\"y\",\"domain\":[0.0,1.0],\"title\":{\"text\":\"Country\"},\"tickfont\":{\"family\":\"Arial Black\"},\"tickangle\":90},\"yaxis\":{\"anchor\":\"x\",\"domain\":[0.0,1.0],\"title\":{\"text\":\"Average thickness or viscosity of the coffee in the mouth\"}},\"legend\":{\"tracegroupgap\":0},\"title\":{\"text\":\"Average Body by Country\",\"x\":0.5},\"barmode\":\"relative\"},                        {\"responsive\": true}                    ).then(function(){\n",
       "                            \n",
       "var gd = document.getElementById('670b5b69-e9c2-42c6-9faf-2438835fd2c6');\n",
       "var x = new MutationObserver(function (mutations, observer) {{\n",
       "        var display = window.getComputedStyle(gd).display;\n",
       "        if (!display || display === 'none') {{\n",
       "            console.log([gd, 'removed!']);\n",
       "            Plotly.purge(gd);\n",
       "            observer.disconnect();\n",
       "        }}\n",
       "}});\n",
       "\n",
       "// Listen for the removal of the full notebook cells\n",
       "var notebookContainer = gd.closest('#notebook-container');\n",
       "if (notebookContainer) {{\n",
       "    x.observe(notebookContainer, {childList: true});\n",
       "}}\n",
       "\n",
       "// Listen for the clearing of the current output cell\n",
       "var outputEl = gd.closest('.output');\n",
       "if (outputEl) {{\n",
       "    x.observe(outputEl, {childList: true});\n",
       "}}\n",
       "\n",
       "                        })                };                });            </script>        </div>"
      ]
     },
     "metadata": {},
     "output_type": "display_data"
    },
    {
     "data": {
      "text/html": [
       "<div>                            <div id=\"8741aaf8-0cfa-4be5-a664-8d8799c1d5cc\" class=\"plotly-graph-div\" style=\"height:525px; width:100%;\"></div>            <script type=\"text/javascript\">                require([\"plotly\"], function(Plotly) {                    window.PLOTLYENV=window.PLOTLYENV || {};                                    if (document.getElementById(\"8741aaf8-0cfa-4be5-a664-8d8799c1d5cc\")) {                    Plotly.newPlot(                        \"8741aaf8-0cfa-4be5-a664-8d8799c1d5cc\",                        [{\"alignmentgroup\":\"True\",\"hovertemplate\":\"Country=%{x}\\u003cbr\\u003eAverage Balance=%{y}\\u003cextra\\u003e\\u003c\\u002fextra\\u003e\",\"legendgroup\":\"\",\"marker\":{\"color\":\"#636efa\",\"pattern\":{\"shape\":\"\"}},\"name\":\"\",\"offsetgroup\":\"\",\"orientation\":\"v\",\"showlegend\":false,\"textposition\":\"auto\",\"x\":[\"Papua New Guinea\",\"Ethiopia\",\"Panama\",\"Japan\",\"Kenya\",\"Rwanda\",\"El Salvador\",\"Colombia\",\"India\",\"Peru\",\"United States\",\"Uganda\",\"Costa Rica\",\"China\",\"Brazil\",\"Thailand\",\"Indonesia\",\"Guatemala\",\"Tanzania\",\"Vietnam\",\"Taiwan\",\"Zambia\",\"Laos\",\"Burundi\",\"Philippines\",\"Malawi\",\"Mexico\",\"Nicaragua\",\"Mauritius\",\"Honduras\",\"Myanmar\",\"Cote dIvoire\",\"Haiti\",\"Ecuador\"],\"xaxis\":\"x\",\"y\":[8.25,7.972272727272727,7.875,7.83,7.8004,7.75,7.711428571428572,7.708415300546449,7.672857142857143,7.6659999999999995,7.664137931034483,7.6625000000000005,7.637254901960785,7.548125,7.531515151515151,7.5240625,7.5200000000000005,7.469889502762431,7.46975,7.4575,7.425000000000001,7.42,7.416666666666667,7.415,7.4,7.371818181818182,7.3286864406779655,7.2784615384615385,7.17,7.1639622641509435,7.13375,7.08,7.0566666666666675,6.97],\"yaxis\":\"y\",\"type\":\"bar\"}],                        {\"template\":{\"data\":{\"histogram2dcontour\":[{\"type\":\"histogram2dcontour\",\"colorbar\":{\"outlinewidth\":0,\"ticks\":\"\"},\"colorscale\":[[0.0,\"#0d0887\"],[0.1111111111111111,\"#46039f\"],[0.2222222222222222,\"#7201a8\"],[0.3333333333333333,\"#9c179e\"],[0.4444444444444444,\"#bd3786\"],[0.5555555555555556,\"#d8576b\"],[0.6666666666666666,\"#ed7953\"],[0.7777777777777778,\"#fb9f3a\"],[0.8888888888888888,\"#fdca26\"],[1.0,\"#f0f921\"]]}],\"choropleth\":[{\"type\":\"choropleth\",\"colorbar\":{\"outlinewidth\":0,\"ticks\":\"\"}}],\"histogram2d\":[{\"type\":\"histogram2d\",\"colorbar\":{\"outlinewidth\":0,\"ticks\":\"\"},\"colorscale\":[[0.0,\"#0d0887\"],[0.1111111111111111,\"#46039f\"],[0.2222222222222222,\"#7201a8\"],[0.3333333333333333,\"#9c179e\"],[0.4444444444444444,\"#bd3786\"],[0.5555555555555556,\"#d8576b\"],[0.6666666666666666,\"#ed7953\"],[0.7777777777777778,\"#fb9f3a\"],[0.8888888888888888,\"#fdca26\"],[1.0,\"#f0f921\"]]}],\"heatmap\":[{\"type\":\"heatmap\",\"colorbar\":{\"outlinewidth\":0,\"ticks\":\"\"},\"colorscale\":[[0.0,\"#0d0887\"],[0.1111111111111111,\"#46039f\"],[0.2222222222222222,\"#7201a8\"],[0.3333333333333333,\"#9c179e\"],[0.4444444444444444,\"#bd3786\"],[0.5555555555555556,\"#d8576b\"],[0.6666666666666666,\"#ed7953\"],[0.7777777777777778,\"#fb9f3a\"],[0.8888888888888888,\"#fdca26\"],[1.0,\"#f0f921\"]]}],\"heatmapgl\":[{\"type\":\"heatmapgl\",\"colorbar\":{\"outlinewidth\":0,\"ticks\":\"\"},\"colorscale\":[[0.0,\"#0d0887\"],[0.1111111111111111,\"#46039f\"],[0.2222222222222222,\"#7201a8\"],[0.3333333333333333,\"#9c179e\"],[0.4444444444444444,\"#bd3786\"],[0.5555555555555556,\"#d8576b\"],[0.6666666666666666,\"#ed7953\"],[0.7777777777777778,\"#fb9f3a\"],[0.8888888888888888,\"#fdca26\"],[1.0,\"#f0f921\"]]}],\"contourcarpet\":[{\"type\":\"contourcarpet\",\"colorbar\":{\"outlinewidth\":0,\"ticks\":\"\"}}],\"contour\":[{\"type\":\"contour\",\"colorbar\":{\"outlinewidth\":0,\"ticks\":\"\"},\"colorscale\":[[0.0,\"#0d0887\"],[0.1111111111111111,\"#46039f\"],[0.2222222222222222,\"#7201a8\"],[0.3333333333333333,\"#9c179e\"],[0.4444444444444444,\"#bd3786\"],[0.5555555555555556,\"#d8576b\"],[0.6666666666666666,\"#ed7953\"],[0.7777777777777778,\"#fb9f3a\"],[0.8888888888888888,\"#fdca26\"],[1.0,\"#f0f921\"]]}],\"surface\":[{\"type\":\"surface\",\"colorbar\":{\"outlinewidth\":0,\"ticks\":\"\"},\"colorscale\":[[0.0,\"#0d0887\"],[0.1111111111111111,\"#46039f\"],[0.2222222222222222,\"#7201a8\"],[0.3333333333333333,\"#9c179e\"],[0.4444444444444444,\"#bd3786\"],[0.5555555555555556,\"#d8576b\"],[0.6666666666666666,\"#ed7953\"],[0.7777777777777778,\"#fb9f3a\"],[0.8888888888888888,\"#fdca26\"],[1.0,\"#f0f921\"]]}],\"mesh3d\":[{\"type\":\"mesh3d\",\"colorbar\":{\"outlinewidth\":0,\"ticks\":\"\"}}],\"scatter\":[{\"fillpattern\":{\"fillmode\":\"overlay\",\"size\":10,\"solidity\":0.2},\"type\":\"scatter\"}],\"parcoords\":[{\"type\":\"parcoords\",\"line\":{\"colorbar\":{\"outlinewidth\":0,\"ticks\":\"\"}}}],\"scatterpolargl\":[{\"type\":\"scatterpolargl\",\"marker\":{\"colorbar\":{\"outlinewidth\":0,\"ticks\":\"\"}}}],\"bar\":[{\"error_x\":{\"color\":\"#2a3f5f\"},\"error_y\":{\"color\":\"#2a3f5f\"},\"marker\":{\"line\":{\"color\":\"#E5ECF6\",\"width\":0.5},\"pattern\":{\"fillmode\":\"overlay\",\"size\":10,\"solidity\":0.2}},\"type\":\"bar\"}],\"scattergeo\":[{\"type\":\"scattergeo\",\"marker\":{\"colorbar\":{\"outlinewidth\":0,\"ticks\":\"\"}}}],\"scatterpolar\":[{\"type\":\"scatterpolar\",\"marker\":{\"colorbar\":{\"outlinewidth\":0,\"ticks\":\"\"}}}],\"histogram\":[{\"marker\":{\"pattern\":{\"fillmode\":\"overlay\",\"size\":10,\"solidity\":0.2}},\"type\":\"histogram\"}],\"scattergl\":[{\"type\":\"scattergl\",\"marker\":{\"colorbar\":{\"outlinewidth\":0,\"ticks\":\"\"}}}],\"scatter3d\":[{\"type\":\"scatter3d\",\"line\":{\"colorbar\":{\"outlinewidth\":0,\"ticks\":\"\"}},\"marker\":{\"colorbar\":{\"outlinewidth\":0,\"ticks\":\"\"}}}],\"scattermapbox\":[{\"type\":\"scattermapbox\",\"marker\":{\"colorbar\":{\"outlinewidth\":0,\"ticks\":\"\"}}}],\"scatterternary\":[{\"type\":\"scatterternary\",\"marker\":{\"colorbar\":{\"outlinewidth\":0,\"ticks\":\"\"}}}],\"scattercarpet\":[{\"type\":\"scattercarpet\",\"marker\":{\"colorbar\":{\"outlinewidth\":0,\"ticks\":\"\"}}}],\"carpet\":[{\"aaxis\":{\"endlinecolor\":\"#2a3f5f\",\"gridcolor\":\"white\",\"linecolor\":\"white\",\"minorgridcolor\":\"white\",\"startlinecolor\":\"#2a3f5f\"},\"baxis\":{\"endlinecolor\":\"#2a3f5f\",\"gridcolor\":\"white\",\"linecolor\":\"white\",\"minorgridcolor\":\"white\",\"startlinecolor\":\"#2a3f5f\"},\"type\":\"carpet\"}],\"table\":[{\"cells\":{\"fill\":{\"color\":\"#EBF0F8\"},\"line\":{\"color\":\"white\"}},\"header\":{\"fill\":{\"color\":\"#C8D4E3\"},\"line\":{\"color\":\"white\"}},\"type\":\"table\"}],\"barpolar\":[{\"marker\":{\"line\":{\"color\":\"#E5ECF6\",\"width\":0.5},\"pattern\":{\"fillmode\":\"overlay\",\"size\":10,\"solidity\":0.2}},\"type\":\"barpolar\"}],\"pie\":[{\"automargin\":true,\"type\":\"pie\"}]},\"layout\":{\"autotypenumbers\":\"strict\",\"colorway\":[\"#636efa\",\"#EF553B\",\"#00cc96\",\"#ab63fa\",\"#FFA15A\",\"#19d3f3\",\"#FF6692\",\"#B6E880\",\"#FF97FF\",\"#FECB52\"],\"font\":{\"color\":\"#2a3f5f\"},\"hovermode\":\"closest\",\"hoverlabel\":{\"align\":\"left\"},\"paper_bgcolor\":\"white\",\"plot_bgcolor\":\"#E5ECF6\",\"polar\":{\"bgcolor\":\"#E5ECF6\",\"angularaxis\":{\"gridcolor\":\"white\",\"linecolor\":\"white\",\"ticks\":\"\"},\"radialaxis\":{\"gridcolor\":\"white\",\"linecolor\":\"white\",\"ticks\":\"\"}},\"ternary\":{\"bgcolor\":\"#E5ECF6\",\"aaxis\":{\"gridcolor\":\"white\",\"linecolor\":\"white\",\"ticks\":\"\"},\"baxis\":{\"gridcolor\":\"white\",\"linecolor\":\"white\",\"ticks\":\"\"},\"caxis\":{\"gridcolor\":\"white\",\"linecolor\":\"white\",\"ticks\":\"\"}},\"coloraxis\":{\"colorbar\":{\"outlinewidth\":0,\"ticks\":\"\"}},\"colorscale\":{\"sequential\":[[0.0,\"#0d0887\"],[0.1111111111111111,\"#46039f\"],[0.2222222222222222,\"#7201a8\"],[0.3333333333333333,\"#9c179e\"],[0.4444444444444444,\"#bd3786\"],[0.5555555555555556,\"#d8576b\"],[0.6666666666666666,\"#ed7953\"],[0.7777777777777778,\"#fb9f3a\"],[0.8888888888888888,\"#fdca26\"],[1.0,\"#f0f921\"]],\"sequentialminus\":[[0.0,\"#0d0887\"],[0.1111111111111111,\"#46039f\"],[0.2222222222222222,\"#7201a8\"],[0.3333333333333333,\"#9c179e\"],[0.4444444444444444,\"#bd3786\"],[0.5555555555555556,\"#d8576b\"],[0.6666666666666666,\"#ed7953\"],[0.7777777777777778,\"#fb9f3a\"],[0.8888888888888888,\"#fdca26\"],[1.0,\"#f0f921\"]],\"diverging\":[[0,\"#8e0152\"],[0.1,\"#c51b7d\"],[0.2,\"#de77ae\"],[0.3,\"#f1b6da\"],[0.4,\"#fde0ef\"],[0.5,\"#f7f7f7\"],[0.6,\"#e6f5d0\"],[0.7,\"#b8e186\"],[0.8,\"#7fbc41\"],[0.9,\"#4d9221\"],[1,\"#276419\"]]},\"xaxis\":{\"gridcolor\":\"white\",\"linecolor\":\"white\",\"ticks\":\"\",\"title\":{\"standoff\":15},\"zerolinecolor\":\"white\",\"automargin\":true,\"zerolinewidth\":2},\"yaxis\":{\"gridcolor\":\"white\",\"linecolor\":\"white\",\"ticks\":\"\",\"title\":{\"standoff\":15},\"zerolinecolor\":\"white\",\"automargin\":true,\"zerolinewidth\":2},\"scene\":{\"xaxis\":{\"backgroundcolor\":\"#E5ECF6\",\"gridcolor\":\"white\",\"linecolor\":\"white\",\"showbackground\":true,\"ticks\":\"\",\"zerolinecolor\":\"white\",\"gridwidth\":2},\"yaxis\":{\"backgroundcolor\":\"#E5ECF6\",\"gridcolor\":\"white\",\"linecolor\":\"white\",\"showbackground\":true,\"ticks\":\"\",\"zerolinecolor\":\"white\",\"gridwidth\":2},\"zaxis\":{\"backgroundcolor\":\"#E5ECF6\",\"gridcolor\":\"white\",\"linecolor\":\"white\",\"showbackground\":true,\"ticks\":\"\",\"zerolinecolor\":\"white\",\"gridwidth\":2}},\"shapedefaults\":{\"line\":{\"color\":\"#2a3f5f\"}},\"annotationdefaults\":{\"arrowcolor\":\"#2a3f5f\",\"arrowhead\":0,\"arrowwidth\":1},\"geo\":{\"bgcolor\":\"white\",\"landcolor\":\"#E5ECF6\",\"subunitcolor\":\"white\",\"showland\":true,\"showlakes\":true,\"lakecolor\":\"white\"},\"title\":{\"x\":0.05},\"mapbox\":{\"style\":\"light\"}}},\"xaxis\":{\"anchor\":\"y\",\"domain\":[0.0,1.0],\"title\":{\"text\":\"Country\"},\"tickfont\":{\"family\":\"Arial Black\"},\"tickangle\":90},\"yaxis\":{\"anchor\":\"x\",\"domain\":[0.0,1.0],\"title\":{\"text\":\"Average Balance\"}},\"legend\":{\"tracegroupgap\":0},\"title\":{\"text\":\"Average Balance by Country\",\"x\":0.5},\"barmode\":\"relative\"},                        {\"responsive\": true}                    ).then(function(){\n",
       "                            \n",
       "var gd = document.getElementById('8741aaf8-0cfa-4be5-a664-8d8799c1d5cc');\n",
       "var x = new MutationObserver(function (mutations, observer) {{\n",
       "        var display = window.getComputedStyle(gd).display;\n",
       "        if (!display || display === 'none') {{\n",
       "            console.log([gd, 'removed!']);\n",
       "            Plotly.purge(gd);\n",
       "            observer.disconnect();\n",
       "        }}\n",
       "}});\n",
       "\n",
       "// Listen for the removal of the full notebook cells\n",
       "var notebookContainer = gd.closest('#notebook-container');\n",
       "if (notebookContainer) {{\n",
       "    x.observe(notebookContainer, {childList: true});\n",
       "}}\n",
       "\n",
       "// Listen for the clearing of the current output cell\n",
       "var outputEl = gd.closest('.output');\n",
       "if (outputEl) {{\n",
       "    x.observe(outputEl, {childList: true});\n",
       "}}\n",
       "\n",
       "                        })                };                });            </script>        </div>"
      ]
     },
     "metadata": {},
     "output_type": "display_data"
    },
    {
     "data": {
      "text/html": [
       "<div>                            <div id=\"40e3bd0b-6dcc-4569-b274-8cae9a234c3e\" class=\"plotly-graph-div\" style=\"height:525px; width:100%;\"></div>            <script type=\"text/javascript\">                require([\"plotly\"], function(Plotly) {                    window.PLOTLYENV=window.PLOTLYENV || {};                                    if (document.getElementById(\"40e3bd0b-6dcc-4569-b274-8cae9a234c3e\")) {                    Plotly.newPlot(                        \"40e3bd0b-6dcc-4569-b274-8cae9a234c3e\",                        [{\"alignmentgroup\":\"True\",\"hovertemplate\":\"Country=%{x}\\u003cbr\\u003eAverage consistency of the coffee from cup to cup=%{y}\\u003cextra\\u003e\\u003c\\u002fextra\\u003e\",\"legendgroup\":\"\",\"marker\":{\"color\":\"#636efa\",\"pattern\":{\"shape\":\"\"}},\"name\":\"\",\"offsetgroup\":\"\",\"orientation\":\"v\",\"showlegend\":false,\"textposition\":\"auto\",\"x\":[\"Malawi\",\"Japan\",\"Uganda\",\"Tanzania\",\"Panama\",\"Myanmar\",\"Mauritius\",\"Burundi\",\"Laos\",\"Zambia\",\"Ecuador\",\"Kenya\",\"China\",\"Thailand\",\"El Salvador\",\"Colombia\",\"Indonesia\",\"India\",\"Taiwan\",\"Brazil\",\"Ethiopia\",\"Philippines\",\"Costa Rica\",\"Guatemala\",\"Nicaragua\",\"Haiti\",\"Mexico\",\"Vietnam\",\"Honduras\",\"Peru\",\"United States\",\"Papua New Guinea\",\"Rwanda\",\"Cote dIvoire\"],\"xaxis\":\"x\",\"y\":[10.0,10.0,10.0,10.0,10.0,10.0,10.0,10.0,10.0,10.0,10.0,9.9732,9.958125,9.9375,9.936190476190475,9.934426229508198,9.933,9.904285714285715,9.891621621621622,9.884924242424242,9.87840909090909,9.866,9.856274509803923,9.852486187845304,9.794615384615385,9.776666666666666,9.74406779661017,9.66625,9.647735849056604,9.533,9.501379310344827,9.33,9.33,9.33],\"yaxis\":\"y\",\"type\":\"bar\"}],                        {\"template\":{\"data\":{\"histogram2dcontour\":[{\"type\":\"histogram2dcontour\",\"colorbar\":{\"outlinewidth\":0,\"ticks\":\"\"},\"colorscale\":[[0.0,\"#0d0887\"],[0.1111111111111111,\"#46039f\"],[0.2222222222222222,\"#7201a8\"],[0.3333333333333333,\"#9c179e\"],[0.4444444444444444,\"#bd3786\"],[0.5555555555555556,\"#d8576b\"],[0.6666666666666666,\"#ed7953\"],[0.7777777777777778,\"#fb9f3a\"],[0.8888888888888888,\"#fdca26\"],[1.0,\"#f0f921\"]]}],\"choropleth\":[{\"type\":\"choropleth\",\"colorbar\":{\"outlinewidth\":0,\"ticks\":\"\"}}],\"histogram2d\":[{\"type\":\"histogram2d\",\"colorbar\":{\"outlinewidth\":0,\"ticks\":\"\"},\"colorscale\":[[0.0,\"#0d0887\"],[0.1111111111111111,\"#46039f\"],[0.2222222222222222,\"#7201a8\"],[0.3333333333333333,\"#9c179e\"],[0.4444444444444444,\"#bd3786\"],[0.5555555555555556,\"#d8576b\"],[0.6666666666666666,\"#ed7953\"],[0.7777777777777778,\"#fb9f3a\"],[0.8888888888888888,\"#fdca26\"],[1.0,\"#f0f921\"]]}],\"heatmap\":[{\"type\":\"heatmap\",\"colorbar\":{\"outlinewidth\":0,\"ticks\":\"\"},\"colorscale\":[[0.0,\"#0d0887\"],[0.1111111111111111,\"#46039f\"],[0.2222222222222222,\"#7201a8\"],[0.3333333333333333,\"#9c179e\"],[0.4444444444444444,\"#bd3786\"],[0.5555555555555556,\"#d8576b\"],[0.6666666666666666,\"#ed7953\"],[0.7777777777777778,\"#fb9f3a\"],[0.8888888888888888,\"#fdca26\"],[1.0,\"#f0f921\"]]}],\"heatmapgl\":[{\"type\":\"heatmapgl\",\"colorbar\":{\"outlinewidth\":0,\"ticks\":\"\"},\"colorscale\":[[0.0,\"#0d0887\"],[0.1111111111111111,\"#46039f\"],[0.2222222222222222,\"#7201a8\"],[0.3333333333333333,\"#9c179e\"],[0.4444444444444444,\"#bd3786\"],[0.5555555555555556,\"#d8576b\"],[0.6666666666666666,\"#ed7953\"],[0.7777777777777778,\"#fb9f3a\"],[0.8888888888888888,\"#fdca26\"],[1.0,\"#f0f921\"]]}],\"contourcarpet\":[{\"type\":\"contourcarpet\",\"colorbar\":{\"outlinewidth\":0,\"ticks\":\"\"}}],\"contour\":[{\"type\":\"contour\",\"colorbar\":{\"outlinewidth\":0,\"ticks\":\"\"},\"colorscale\":[[0.0,\"#0d0887\"],[0.1111111111111111,\"#46039f\"],[0.2222222222222222,\"#7201a8\"],[0.3333333333333333,\"#9c179e\"],[0.4444444444444444,\"#bd3786\"],[0.5555555555555556,\"#d8576b\"],[0.6666666666666666,\"#ed7953\"],[0.7777777777777778,\"#fb9f3a\"],[0.8888888888888888,\"#fdca26\"],[1.0,\"#f0f921\"]]}],\"surface\":[{\"type\":\"surface\",\"colorbar\":{\"outlinewidth\":0,\"ticks\":\"\"},\"colorscale\":[[0.0,\"#0d0887\"],[0.1111111111111111,\"#46039f\"],[0.2222222222222222,\"#7201a8\"],[0.3333333333333333,\"#9c179e\"],[0.4444444444444444,\"#bd3786\"],[0.5555555555555556,\"#d8576b\"],[0.6666666666666666,\"#ed7953\"],[0.7777777777777778,\"#fb9f3a\"],[0.8888888888888888,\"#fdca26\"],[1.0,\"#f0f921\"]]}],\"mesh3d\":[{\"type\":\"mesh3d\",\"colorbar\":{\"outlinewidth\":0,\"ticks\":\"\"}}],\"scatter\":[{\"fillpattern\":{\"fillmode\":\"overlay\",\"size\":10,\"solidity\":0.2},\"type\":\"scatter\"}],\"parcoords\":[{\"type\":\"parcoords\",\"line\":{\"colorbar\":{\"outlinewidth\":0,\"ticks\":\"\"}}}],\"scatterpolargl\":[{\"type\":\"scatterpolargl\",\"marker\":{\"colorbar\":{\"outlinewidth\":0,\"ticks\":\"\"}}}],\"bar\":[{\"error_x\":{\"color\":\"#2a3f5f\"},\"error_y\":{\"color\":\"#2a3f5f\"},\"marker\":{\"line\":{\"color\":\"#E5ECF6\",\"width\":0.5},\"pattern\":{\"fillmode\":\"overlay\",\"size\":10,\"solidity\":0.2}},\"type\":\"bar\"}],\"scattergeo\":[{\"type\":\"scattergeo\",\"marker\":{\"colorbar\":{\"outlinewidth\":0,\"ticks\":\"\"}}}],\"scatterpolar\":[{\"type\":\"scatterpolar\",\"marker\":{\"colorbar\":{\"outlinewidth\":0,\"ticks\":\"\"}}}],\"histogram\":[{\"marker\":{\"pattern\":{\"fillmode\":\"overlay\",\"size\":10,\"solidity\":0.2}},\"type\":\"histogram\"}],\"scattergl\":[{\"type\":\"scattergl\",\"marker\":{\"colorbar\":{\"outlinewidth\":0,\"ticks\":\"\"}}}],\"scatter3d\":[{\"type\":\"scatter3d\",\"line\":{\"colorbar\":{\"outlinewidth\":0,\"ticks\":\"\"}},\"marker\":{\"colorbar\":{\"outlinewidth\":0,\"ticks\":\"\"}}}],\"scattermapbox\":[{\"type\":\"scattermapbox\",\"marker\":{\"colorbar\":{\"outlinewidth\":0,\"ticks\":\"\"}}}],\"scatterternary\":[{\"type\":\"scatterternary\",\"marker\":{\"colorbar\":{\"outlinewidth\":0,\"ticks\":\"\"}}}],\"scattercarpet\":[{\"type\":\"scattercarpet\",\"marker\":{\"colorbar\":{\"outlinewidth\":0,\"ticks\":\"\"}}}],\"carpet\":[{\"aaxis\":{\"endlinecolor\":\"#2a3f5f\",\"gridcolor\":\"white\",\"linecolor\":\"white\",\"minorgridcolor\":\"white\",\"startlinecolor\":\"#2a3f5f\"},\"baxis\":{\"endlinecolor\":\"#2a3f5f\",\"gridcolor\":\"white\",\"linecolor\":\"white\",\"minorgridcolor\":\"white\",\"startlinecolor\":\"#2a3f5f\"},\"type\":\"carpet\"}],\"table\":[{\"cells\":{\"fill\":{\"color\":\"#EBF0F8\"},\"line\":{\"color\":\"white\"}},\"header\":{\"fill\":{\"color\":\"#C8D4E3\"},\"line\":{\"color\":\"white\"}},\"type\":\"table\"}],\"barpolar\":[{\"marker\":{\"line\":{\"color\":\"#E5ECF6\",\"width\":0.5},\"pattern\":{\"fillmode\":\"overlay\",\"size\":10,\"solidity\":0.2}},\"type\":\"barpolar\"}],\"pie\":[{\"automargin\":true,\"type\":\"pie\"}]},\"layout\":{\"autotypenumbers\":\"strict\",\"colorway\":[\"#636efa\",\"#EF553B\",\"#00cc96\",\"#ab63fa\",\"#FFA15A\",\"#19d3f3\",\"#FF6692\",\"#B6E880\",\"#FF97FF\",\"#FECB52\"],\"font\":{\"color\":\"#2a3f5f\"},\"hovermode\":\"closest\",\"hoverlabel\":{\"align\":\"left\"},\"paper_bgcolor\":\"white\",\"plot_bgcolor\":\"#E5ECF6\",\"polar\":{\"bgcolor\":\"#E5ECF6\",\"angularaxis\":{\"gridcolor\":\"white\",\"linecolor\":\"white\",\"ticks\":\"\"},\"radialaxis\":{\"gridcolor\":\"white\",\"linecolor\":\"white\",\"ticks\":\"\"}},\"ternary\":{\"bgcolor\":\"#E5ECF6\",\"aaxis\":{\"gridcolor\":\"white\",\"linecolor\":\"white\",\"ticks\":\"\"},\"baxis\":{\"gridcolor\":\"white\",\"linecolor\":\"white\",\"ticks\":\"\"},\"caxis\":{\"gridcolor\":\"white\",\"linecolor\":\"white\",\"ticks\":\"\"}},\"coloraxis\":{\"colorbar\":{\"outlinewidth\":0,\"ticks\":\"\"}},\"colorscale\":{\"sequential\":[[0.0,\"#0d0887\"],[0.1111111111111111,\"#46039f\"],[0.2222222222222222,\"#7201a8\"],[0.3333333333333333,\"#9c179e\"],[0.4444444444444444,\"#bd3786\"],[0.5555555555555556,\"#d8576b\"],[0.6666666666666666,\"#ed7953\"],[0.7777777777777778,\"#fb9f3a\"],[0.8888888888888888,\"#fdca26\"],[1.0,\"#f0f921\"]],\"sequentialminus\":[[0.0,\"#0d0887\"],[0.1111111111111111,\"#46039f\"],[0.2222222222222222,\"#7201a8\"],[0.3333333333333333,\"#9c179e\"],[0.4444444444444444,\"#bd3786\"],[0.5555555555555556,\"#d8576b\"],[0.6666666666666666,\"#ed7953\"],[0.7777777777777778,\"#fb9f3a\"],[0.8888888888888888,\"#fdca26\"],[1.0,\"#f0f921\"]],\"diverging\":[[0,\"#8e0152\"],[0.1,\"#c51b7d\"],[0.2,\"#de77ae\"],[0.3,\"#f1b6da\"],[0.4,\"#fde0ef\"],[0.5,\"#f7f7f7\"],[0.6,\"#e6f5d0\"],[0.7,\"#b8e186\"],[0.8,\"#7fbc41\"],[0.9,\"#4d9221\"],[1,\"#276419\"]]},\"xaxis\":{\"gridcolor\":\"white\",\"linecolor\":\"white\",\"ticks\":\"\",\"title\":{\"standoff\":15},\"zerolinecolor\":\"white\",\"automargin\":true,\"zerolinewidth\":2},\"yaxis\":{\"gridcolor\":\"white\",\"linecolor\":\"white\",\"ticks\":\"\",\"title\":{\"standoff\":15},\"zerolinecolor\":\"white\",\"automargin\":true,\"zerolinewidth\":2},\"scene\":{\"xaxis\":{\"backgroundcolor\":\"#E5ECF6\",\"gridcolor\":\"white\",\"linecolor\":\"white\",\"showbackground\":true,\"ticks\":\"\",\"zerolinecolor\":\"white\",\"gridwidth\":2},\"yaxis\":{\"backgroundcolor\":\"#E5ECF6\",\"gridcolor\":\"white\",\"linecolor\":\"white\",\"showbackground\":true,\"ticks\":\"\",\"zerolinecolor\":\"white\",\"gridwidth\":2},\"zaxis\":{\"backgroundcolor\":\"#E5ECF6\",\"gridcolor\":\"white\",\"linecolor\":\"white\",\"showbackground\":true,\"ticks\":\"\",\"zerolinecolor\":\"white\",\"gridwidth\":2}},\"shapedefaults\":{\"line\":{\"color\":\"#2a3f5f\"}},\"annotationdefaults\":{\"arrowcolor\":\"#2a3f5f\",\"arrowhead\":0,\"arrowwidth\":1},\"geo\":{\"bgcolor\":\"white\",\"landcolor\":\"#E5ECF6\",\"subunitcolor\":\"white\",\"showland\":true,\"showlakes\":true,\"lakecolor\":\"white\"},\"title\":{\"x\":0.05},\"mapbox\":{\"style\":\"light\"}}},\"xaxis\":{\"anchor\":\"y\",\"domain\":[0.0,1.0],\"title\":{\"text\":\"Country\"},\"tickfont\":{\"family\":\"Arial Black\"},\"tickangle\":90},\"yaxis\":{\"anchor\":\"x\",\"domain\":[0.0,1.0],\"title\":{\"text\":\"Average consistency of the coffee from cup to cup\"}},\"legend\":{\"tracegroupgap\":0},\"title\":{\"text\":\"Average Uniformity by Country\",\"x\":0.5},\"barmode\":\"relative\"},                        {\"responsive\": true}                    ).then(function(){\n",
       "                            \n",
       "var gd = document.getElementById('40e3bd0b-6dcc-4569-b274-8cae9a234c3e');\n",
       "var x = new MutationObserver(function (mutations, observer) {{\n",
       "        var display = window.getComputedStyle(gd).display;\n",
       "        if (!display || display === 'none') {{\n",
       "            console.log([gd, 'removed!']);\n",
       "            Plotly.purge(gd);\n",
       "            observer.disconnect();\n",
       "        }}\n",
       "}});\n",
       "\n",
       "// Listen for the removal of the full notebook cells\n",
       "var notebookContainer = gd.closest('#notebook-container');\n",
       "if (notebookContainer) {{\n",
       "    x.observe(notebookContainer, {childList: true});\n",
       "}}\n",
       "\n",
       "// Listen for the clearing of the current output cell\n",
       "var outputEl = gd.closest('.output');\n",
       "if (outputEl) {{\n",
       "    x.observe(outputEl, {childList: true});\n",
       "}}\n",
       "\n",
       "                        })                };                });            </script>        </div>"
      ]
     },
     "metadata": {},
     "output_type": "display_data"
    },
    {
     "data": {
      "text/html": [
       "<div>                            <div id=\"61d42f23-0466-466b-8faa-5f94e2b57597\" class=\"plotly-graph-div\" style=\"height:525px; width:100%;\"></div>            <script type=\"text/javascript\">                require([\"plotly\"], function(Plotly) {                    window.PLOTLYENV=window.PLOTLYENV || {};                                    if (document.getElementById(\"61d42f23-0466-466b-8faa-5f94e2b57597\")) {                    Plotly.newPlot(                        \"61d42f23-0466-466b-8faa-5f94e2b57597\",                        [{\"alignmentgroup\":\"True\",\"hovertemplate\":\"Country=%{x}\\u003cbr\\u003eAverage off-flavors or defects free=%{y}\\u003cextra\\u003e\\u003c\\u002fextra\\u003e\",\"legendgroup\":\"\",\"marker\":{\"color\":\"#636efa\",\"pattern\":{\"shape\":\"\"}},\"name\":\"\",\"offsetgroup\":\"\",\"orientation\":\"v\",\"showlegend\":false,\"textposition\":\"auto\",\"x\":[\"Malawi\",\"Japan\",\"Uganda\",\"Tanzania\",\"Philippines\",\"Panama\",\"Myanmar\",\"Mauritius\",\"Burundi\",\"Laos\",\"Zambia\",\"Cote dIvoire\",\"Ecuador\",\"Taiwan\",\"Kenya\",\"Indonesia\",\"Thailand\",\"China\",\"Ethiopia\",\"India\",\"Colombia\",\"El Salvador\",\"Vietnam\",\"Guatemala\",\"Costa Rica\",\"Brazil\",\"Nicaragua\",\"Mexico\",\"Honduras\",\"United States\",\"Peru\",\"Rwanda\",\"Papua New Guinea\",\"Haiti\"],\"xaxis\":\"x\",\"y\":[10.0,10.0,10.0,10.0,10.0,10.0,10.0,10.0,10.0,10.0,10.0,10.0,10.0,9.981891891891891,9.9732,9.9665,9.9584375,9.958125,9.954318181818183,9.952142857142858,9.94535519125683,9.936190476190475,9.91625,9.889337016574586,9.86921568627451,9.853484848484849,9.76923076923077,9.65813559322034,9.635283018867925,9.60896551724138,9.466,9.33,9.33,8.555],\"yaxis\":\"y\",\"type\":\"bar\"}],                        {\"template\":{\"data\":{\"histogram2dcontour\":[{\"type\":\"histogram2dcontour\",\"colorbar\":{\"outlinewidth\":0,\"ticks\":\"\"},\"colorscale\":[[0.0,\"#0d0887\"],[0.1111111111111111,\"#46039f\"],[0.2222222222222222,\"#7201a8\"],[0.3333333333333333,\"#9c179e\"],[0.4444444444444444,\"#bd3786\"],[0.5555555555555556,\"#d8576b\"],[0.6666666666666666,\"#ed7953\"],[0.7777777777777778,\"#fb9f3a\"],[0.8888888888888888,\"#fdca26\"],[1.0,\"#f0f921\"]]}],\"choropleth\":[{\"type\":\"choropleth\",\"colorbar\":{\"outlinewidth\":0,\"ticks\":\"\"}}],\"histogram2d\":[{\"type\":\"histogram2d\",\"colorbar\":{\"outlinewidth\":0,\"ticks\":\"\"},\"colorscale\":[[0.0,\"#0d0887\"],[0.1111111111111111,\"#46039f\"],[0.2222222222222222,\"#7201a8\"],[0.3333333333333333,\"#9c179e\"],[0.4444444444444444,\"#bd3786\"],[0.5555555555555556,\"#d8576b\"],[0.6666666666666666,\"#ed7953\"],[0.7777777777777778,\"#fb9f3a\"],[0.8888888888888888,\"#fdca26\"],[1.0,\"#f0f921\"]]}],\"heatmap\":[{\"type\":\"heatmap\",\"colorbar\":{\"outlinewidth\":0,\"ticks\":\"\"},\"colorscale\":[[0.0,\"#0d0887\"],[0.1111111111111111,\"#46039f\"],[0.2222222222222222,\"#7201a8\"],[0.3333333333333333,\"#9c179e\"],[0.4444444444444444,\"#bd3786\"],[0.5555555555555556,\"#d8576b\"],[0.6666666666666666,\"#ed7953\"],[0.7777777777777778,\"#fb9f3a\"],[0.8888888888888888,\"#fdca26\"],[1.0,\"#f0f921\"]]}],\"heatmapgl\":[{\"type\":\"heatmapgl\",\"colorbar\":{\"outlinewidth\":0,\"ticks\":\"\"},\"colorscale\":[[0.0,\"#0d0887\"],[0.1111111111111111,\"#46039f\"],[0.2222222222222222,\"#7201a8\"],[0.3333333333333333,\"#9c179e\"],[0.4444444444444444,\"#bd3786\"],[0.5555555555555556,\"#d8576b\"],[0.6666666666666666,\"#ed7953\"],[0.7777777777777778,\"#fb9f3a\"],[0.8888888888888888,\"#fdca26\"],[1.0,\"#f0f921\"]]}],\"contourcarpet\":[{\"type\":\"contourcarpet\",\"colorbar\":{\"outlinewidth\":0,\"ticks\":\"\"}}],\"contour\":[{\"type\":\"contour\",\"colorbar\":{\"outlinewidth\":0,\"ticks\":\"\"},\"colorscale\":[[0.0,\"#0d0887\"],[0.1111111111111111,\"#46039f\"],[0.2222222222222222,\"#7201a8\"],[0.3333333333333333,\"#9c179e\"],[0.4444444444444444,\"#bd3786\"],[0.5555555555555556,\"#d8576b\"],[0.6666666666666666,\"#ed7953\"],[0.7777777777777778,\"#fb9f3a\"],[0.8888888888888888,\"#fdca26\"],[1.0,\"#f0f921\"]]}],\"surface\":[{\"type\":\"surface\",\"colorbar\":{\"outlinewidth\":0,\"ticks\":\"\"},\"colorscale\":[[0.0,\"#0d0887\"],[0.1111111111111111,\"#46039f\"],[0.2222222222222222,\"#7201a8\"],[0.3333333333333333,\"#9c179e\"],[0.4444444444444444,\"#bd3786\"],[0.5555555555555556,\"#d8576b\"],[0.6666666666666666,\"#ed7953\"],[0.7777777777777778,\"#fb9f3a\"],[0.8888888888888888,\"#fdca26\"],[1.0,\"#f0f921\"]]}],\"mesh3d\":[{\"type\":\"mesh3d\",\"colorbar\":{\"outlinewidth\":0,\"ticks\":\"\"}}],\"scatter\":[{\"fillpattern\":{\"fillmode\":\"overlay\",\"size\":10,\"solidity\":0.2},\"type\":\"scatter\"}],\"parcoords\":[{\"type\":\"parcoords\",\"line\":{\"colorbar\":{\"outlinewidth\":0,\"ticks\":\"\"}}}],\"scatterpolargl\":[{\"type\":\"scatterpolargl\",\"marker\":{\"colorbar\":{\"outlinewidth\":0,\"ticks\":\"\"}}}],\"bar\":[{\"error_x\":{\"color\":\"#2a3f5f\"},\"error_y\":{\"color\":\"#2a3f5f\"},\"marker\":{\"line\":{\"color\":\"#E5ECF6\",\"width\":0.5},\"pattern\":{\"fillmode\":\"overlay\",\"size\":10,\"solidity\":0.2}},\"type\":\"bar\"}],\"scattergeo\":[{\"type\":\"scattergeo\",\"marker\":{\"colorbar\":{\"outlinewidth\":0,\"ticks\":\"\"}}}],\"scatterpolar\":[{\"type\":\"scatterpolar\",\"marker\":{\"colorbar\":{\"outlinewidth\":0,\"ticks\":\"\"}}}],\"histogram\":[{\"marker\":{\"pattern\":{\"fillmode\":\"overlay\",\"size\":10,\"solidity\":0.2}},\"type\":\"histogram\"}],\"scattergl\":[{\"type\":\"scattergl\",\"marker\":{\"colorbar\":{\"outlinewidth\":0,\"ticks\":\"\"}}}],\"scatter3d\":[{\"type\":\"scatter3d\",\"line\":{\"colorbar\":{\"outlinewidth\":0,\"ticks\":\"\"}},\"marker\":{\"colorbar\":{\"outlinewidth\":0,\"ticks\":\"\"}}}],\"scattermapbox\":[{\"type\":\"scattermapbox\",\"marker\":{\"colorbar\":{\"outlinewidth\":0,\"ticks\":\"\"}}}],\"scatterternary\":[{\"type\":\"scatterternary\",\"marker\":{\"colorbar\":{\"outlinewidth\":0,\"ticks\":\"\"}}}],\"scattercarpet\":[{\"type\":\"scattercarpet\",\"marker\":{\"colorbar\":{\"outlinewidth\":0,\"ticks\":\"\"}}}],\"carpet\":[{\"aaxis\":{\"endlinecolor\":\"#2a3f5f\",\"gridcolor\":\"white\",\"linecolor\":\"white\",\"minorgridcolor\":\"white\",\"startlinecolor\":\"#2a3f5f\"},\"baxis\":{\"endlinecolor\":\"#2a3f5f\",\"gridcolor\":\"white\",\"linecolor\":\"white\",\"minorgridcolor\":\"white\",\"startlinecolor\":\"#2a3f5f\"},\"type\":\"carpet\"}],\"table\":[{\"cells\":{\"fill\":{\"color\":\"#EBF0F8\"},\"line\":{\"color\":\"white\"}},\"header\":{\"fill\":{\"color\":\"#C8D4E3\"},\"line\":{\"color\":\"white\"}},\"type\":\"table\"}],\"barpolar\":[{\"marker\":{\"line\":{\"color\":\"#E5ECF6\",\"width\":0.5},\"pattern\":{\"fillmode\":\"overlay\",\"size\":10,\"solidity\":0.2}},\"type\":\"barpolar\"}],\"pie\":[{\"automargin\":true,\"type\":\"pie\"}]},\"layout\":{\"autotypenumbers\":\"strict\",\"colorway\":[\"#636efa\",\"#EF553B\",\"#00cc96\",\"#ab63fa\",\"#FFA15A\",\"#19d3f3\",\"#FF6692\",\"#B6E880\",\"#FF97FF\",\"#FECB52\"],\"font\":{\"color\":\"#2a3f5f\"},\"hovermode\":\"closest\",\"hoverlabel\":{\"align\":\"left\"},\"paper_bgcolor\":\"white\",\"plot_bgcolor\":\"#E5ECF6\",\"polar\":{\"bgcolor\":\"#E5ECF6\",\"angularaxis\":{\"gridcolor\":\"white\",\"linecolor\":\"white\",\"ticks\":\"\"},\"radialaxis\":{\"gridcolor\":\"white\",\"linecolor\":\"white\",\"ticks\":\"\"}},\"ternary\":{\"bgcolor\":\"#E5ECF6\",\"aaxis\":{\"gridcolor\":\"white\",\"linecolor\":\"white\",\"ticks\":\"\"},\"baxis\":{\"gridcolor\":\"white\",\"linecolor\":\"white\",\"ticks\":\"\"},\"caxis\":{\"gridcolor\":\"white\",\"linecolor\":\"white\",\"ticks\":\"\"}},\"coloraxis\":{\"colorbar\":{\"outlinewidth\":0,\"ticks\":\"\"}},\"colorscale\":{\"sequential\":[[0.0,\"#0d0887\"],[0.1111111111111111,\"#46039f\"],[0.2222222222222222,\"#7201a8\"],[0.3333333333333333,\"#9c179e\"],[0.4444444444444444,\"#bd3786\"],[0.5555555555555556,\"#d8576b\"],[0.6666666666666666,\"#ed7953\"],[0.7777777777777778,\"#fb9f3a\"],[0.8888888888888888,\"#fdca26\"],[1.0,\"#f0f921\"]],\"sequentialminus\":[[0.0,\"#0d0887\"],[0.1111111111111111,\"#46039f\"],[0.2222222222222222,\"#7201a8\"],[0.3333333333333333,\"#9c179e\"],[0.4444444444444444,\"#bd3786\"],[0.5555555555555556,\"#d8576b\"],[0.6666666666666666,\"#ed7953\"],[0.7777777777777778,\"#fb9f3a\"],[0.8888888888888888,\"#fdca26\"],[1.0,\"#f0f921\"]],\"diverging\":[[0,\"#8e0152\"],[0.1,\"#c51b7d\"],[0.2,\"#de77ae\"],[0.3,\"#f1b6da\"],[0.4,\"#fde0ef\"],[0.5,\"#f7f7f7\"],[0.6,\"#e6f5d0\"],[0.7,\"#b8e186\"],[0.8,\"#7fbc41\"],[0.9,\"#4d9221\"],[1,\"#276419\"]]},\"xaxis\":{\"gridcolor\":\"white\",\"linecolor\":\"white\",\"ticks\":\"\",\"title\":{\"standoff\":15},\"zerolinecolor\":\"white\",\"automargin\":true,\"zerolinewidth\":2},\"yaxis\":{\"gridcolor\":\"white\",\"linecolor\":\"white\",\"ticks\":\"\",\"title\":{\"standoff\":15},\"zerolinecolor\":\"white\",\"automargin\":true,\"zerolinewidth\":2},\"scene\":{\"xaxis\":{\"backgroundcolor\":\"#E5ECF6\",\"gridcolor\":\"white\",\"linecolor\":\"white\",\"showbackground\":true,\"ticks\":\"\",\"zerolinecolor\":\"white\",\"gridwidth\":2},\"yaxis\":{\"backgroundcolor\":\"#E5ECF6\",\"gridcolor\":\"white\",\"linecolor\":\"white\",\"showbackground\":true,\"ticks\":\"\",\"zerolinecolor\":\"white\",\"gridwidth\":2},\"zaxis\":{\"backgroundcolor\":\"#E5ECF6\",\"gridcolor\":\"white\",\"linecolor\":\"white\",\"showbackground\":true,\"ticks\":\"\",\"zerolinecolor\":\"white\",\"gridwidth\":2}},\"shapedefaults\":{\"line\":{\"color\":\"#2a3f5f\"}},\"annotationdefaults\":{\"arrowcolor\":\"#2a3f5f\",\"arrowhead\":0,\"arrowwidth\":1},\"geo\":{\"bgcolor\":\"white\",\"landcolor\":\"#E5ECF6\",\"subunitcolor\":\"white\",\"showland\":true,\"showlakes\":true,\"lakecolor\":\"white\"},\"title\":{\"x\":0.05},\"mapbox\":{\"style\":\"light\"}}},\"xaxis\":{\"anchor\":\"y\",\"domain\":[0.0,1.0],\"title\":{\"text\":\"Country\"},\"tickfont\":{\"family\":\"Arial Black\"},\"tickangle\":90},\"yaxis\":{\"anchor\":\"x\",\"domain\":[0.0,1.0],\"title\":{\"text\":\"Average off-flavors or defects free\"}},\"legend\":{\"tracegroupgap\":0},\"title\":{\"text\":\"Average Clean.Cup by Country\",\"x\":0.5},\"barmode\":\"relative\"},                        {\"responsive\": true}                    ).then(function(){\n",
       "                            \n",
       "var gd = document.getElementById('61d42f23-0466-466b-8faa-5f94e2b57597');\n",
       "var x = new MutationObserver(function (mutations, observer) {{\n",
       "        var display = window.getComputedStyle(gd).display;\n",
       "        if (!display || display === 'none') {{\n",
       "            console.log([gd, 'removed!']);\n",
       "            Plotly.purge(gd);\n",
       "            observer.disconnect();\n",
       "        }}\n",
       "}});\n",
       "\n",
       "// Listen for the removal of the full notebook cells\n",
       "var notebookContainer = gd.closest('#notebook-container');\n",
       "if (notebookContainer) {{\n",
       "    x.observe(notebookContainer, {childList: true});\n",
       "}}\n",
       "\n",
       "// Listen for the clearing of the current output cell\n",
       "var outputEl = gd.closest('.output');\n",
       "if (outputEl) {{\n",
       "    x.observe(outputEl, {childList: true});\n",
       "}}\n",
       "\n",
       "                        })                };                });            </script>        </div>"
      ]
     },
     "metadata": {},
     "output_type": "display_data"
    },
    {
     "data": {
      "text/html": [
       "<div>                            <div id=\"c91dc613-76d2-46f1-8b83-3c0b26de6ecb\" class=\"plotly-graph-div\" style=\"height:525px; width:100%;\"></div>            <script type=\"text/javascript\">                require([\"plotly\"], function(Plotly) {                    window.PLOTLYENV=window.PLOTLYENV || {};                                    if (document.getElementById(\"c91dc613-76d2-46f1-8b83-3c0b26de6ecb\")) {                    Plotly.newPlot(                        \"c91dc613-76d2-46f1-8b83-3c0b26de6ecb\",                        [{\"alignmentgroup\":\"True\",\"hovertemplate\":\"Country=%{x}\\u003cbr\\u003eAverage sweetness offered by its taste=%{y}\\u003cextra\\u003e\\u003c\\u002fextra\\u003e\",\"legendgroup\":\"\",\"marker\":{\"color\":\"#636efa\",\"pattern\":{\"shape\":\"\"}},\"name\":\"\",\"offsetgroup\":\"\",\"orientation\":\"v\",\"showlegend\":false,\"textposition\":\"auto\",\"x\":[\"Malawi\",\"Japan\",\"Tanzania\",\"Papua New Guinea\",\"Panama\",\"Myanmar\",\"Mauritius\",\"Burundi\",\"Laos\",\"Zambia\",\"Cote dIvoire\",\"Kenya\",\"Mexico\",\"Indonesia\",\"Taiwan\",\"Thailand\",\"Colombia\",\"Brazil\",\"China\",\"Costa Rica\",\"Guatemala\",\"Peru\",\"Philippines\",\"Ethiopia\",\"Nicaragua\",\"El Salvador\",\"Honduras\",\"United States\",\"Vietnam\",\"Uganda\",\"Rwanda\",\"Haiti\",\"Ecuador\",\"India\"],\"xaxis\":\"x\",\"y\":[10.0,10.0,10.0,10.0,10.0,10.0,10.0,10.0,10.0,10.0,10.0,9.9732,9.97177966101695,9.9665,9.96391891891892,9.958125,9.952677595628415,9.94939393939394,9.91625,9.90843137254902,9.870883977900553,9.866,9.866,9.86340909090909,9.820384615384615,9.808571428571428,9.660377358490566,9.643218390804599,9.58375,9.363333333333333,9.33,9.111666666666666,8.723333333333334,7.619285714285715],\"yaxis\":\"y\",\"type\":\"bar\"}],                        {\"template\":{\"data\":{\"histogram2dcontour\":[{\"type\":\"histogram2dcontour\",\"colorbar\":{\"outlinewidth\":0,\"ticks\":\"\"},\"colorscale\":[[0.0,\"#0d0887\"],[0.1111111111111111,\"#46039f\"],[0.2222222222222222,\"#7201a8\"],[0.3333333333333333,\"#9c179e\"],[0.4444444444444444,\"#bd3786\"],[0.5555555555555556,\"#d8576b\"],[0.6666666666666666,\"#ed7953\"],[0.7777777777777778,\"#fb9f3a\"],[0.8888888888888888,\"#fdca26\"],[1.0,\"#f0f921\"]]}],\"choropleth\":[{\"type\":\"choropleth\",\"colorbar\":{\"outlinewidth\":0,\"ticks\":\"\"}}],\"histogram2d\":[{\"type\":\"histogram2d\",\"colorbar\":{\"outlinewidth\":0,\"ticks\":\"\"},\"colorscale\":[[0.0,\"#0d0887\"],[0.1111111111111111,\"#46039f\"],[0.2222222222222222,\"#7201a8\"],[0.3333333333333333,\"#9c179e\"],[0.4444444444444444,\"#bd3786\"],[0.5555555555555556,\"#d8576b\"],[0.6666666666666666,\"#ed7953\"],[0.7777777777777778,\"#fb9f3a\"],[0.8888888888888888,\"#fdca26\"],[1.0,\"#f0f921\"]]}],\"heatmap\":[{\"type\":\"heatmap\",\"colorbar\":{\"outlinewidth\":0,\"ticks\":\"\"},\"colorscale\":[[0.0,\"#0d0887\"],[0.1111111111111111,\"#46039f\"],[0.2222222222222222,\"#7201a8\"],[0.3333333333333333,\"#9c179e\"],[0.4444444444444444,\"#bd3786\"],[0.5555555555555556,\"#d8576b\"],[0.6666666666666666,\"#ed7953\"],[0.7777777777777778,\"#fb9f3a\"],[0.8888888888888888,\"#fdca26\"],[1.0,\"#f0f921\"]]}],\"heatmapgl\":[{\"type\":\"heatmapgl\",\"colorbar\":{\"outlinewidth\":0,\"ticks\":\"\"},\"colorscale\":[[0.0,\"#0d0887\"],[0.1111111111111111,\"#46039f\"],[0.2222222222222222,\"#7201a8\"],[0.3333333333333333,\"#9c179e\"],[0.4444444444444444,\"#bd3786\"],[0.5555555555555556,\"#d8576b\"],[0.6666666666666666,\"#ed7953\"],[0.7777777777777778,\"#fb9f3a\"],[0.8888888888888888,\"#fdca26\"],[1.0,\"#f0f921\"]]}],\"contourcarpet\":[{\"type\":\"contourcarpet\",\"colorbar\":{\"outlinewidth\":0,\"ticks\":\"\"}}],\"contour\":[{\"type\":\"contour\",\"colorbar\":{\"outlinewidth\":0,\"ticks\":\"\"},\"colorscale\":[[0.0,\"#0d0887\"],[0.1111111111111111,\"#46039f\"],[0.2222222222222222,\"#7201a8\"],[0.3333333333333333,\"#9c179e\"],[0.4444444444444444,\"#bd3786\"],[0.5555555555555556,\"#d8576b\"],[0.6666666666666666,\"#ed7953\"],[0.7777777777777778,\"#fb9f3a\"],[0.8888888888888888,\"#fdca26\"],[1.0,\"#f0f921\"]]}],\"surface\":[{\"type\":\"surface\",\"colorbar\":{\"outlinewidth\":0,\"ticks\":\"\"},\"colorscale\":[[0.0,\"#0d0887\"],[0.1111111111111111,\"#46039f\"],[0.2222222222222222,\"#7201a8\"],[0.3333333333333333,\"#9c179e\"],[0.4444444444444444,\"#bd3786\"],[0.5555555555555556,\"#d8576b\"],[0.6666666666666666,\"#ed7953\"],[0.7777777777777778,\"#fb9f3a\"],[0.8888888888888888,\"#fdca26\"],[1.0,\"#f0f921\"]]}],\"mesh3d\":[{\"type\":\"mesh3d\",\"colorbar\":{\"outlinewidth\":0,\"ticks\":\"\"}}],\"scatter\":[{\"fillpattern\":{\"fillmode\":\"overlay\",\"size\":10,\"solidity\":0.2},\"type\":\"scatter\"}],\"parcoords\":[{\"type\":\"parcoords\",\"line\":{\"colorbar\":{\"outlinewidth\":0,\"ticks\":\"\"}}}],\"scatterpolargl\":[{\"type\":\"scatterpolargl\",\"marker\":{\"colorbar\":{\"outlinewidth\":0,\"ticks\":\"\"}}}],\"bar\":[{\"error_x\":{\"color\":\"#2a3f5f\"},\"error_y\":{\"color\":\"#2a3f5f\"},\"marker\":{\"line\":{\"color\":\"#E5ECF6\",\"width\":0.5},\"pattern\":{\"fillmode\":\"overlay\",\"size\":10,\"solidity\":0.2}},\"type\":\"bar\"}],\"scattergeo\":[{\"type\":\"scattergeo\",\"marker\":{\"colorbar\":{\"outlinewidth\":0,\"ticks\":\"\"}}}],\"scatterpolar\":[{\"type\":\"scatterpolar\",\"marker\":{\"colorbar\":{\"outlinewidth\":0,\"ticks\":\"\"}}}],\"histogram\":[{\"marker\":{\"pattern\":{\"fillmode\":\"overlay\",\"size\":10,\"solidity\":0.2}},\"type\":\"histogram\"}],\"scattergl\":[{\"type\":\"scattergl\",\"marker\":{\"colorbar\":{\"outlinewidth\":0,\"ticks\":\"\"}}}],\"scatter3d\":[{\"type\":\"scatter3d\",\"line\":{\"colorbar\":{\"outlinewidth\":0,\"ticks\":\"\"}},\"marker\":{\"colorbar\":{\"outlinewidth\":0,\"ticks\":\"\"}}}],\"scattermapbox\":[{\"type\":\"scattermapbox\",\"marker\":{\"colorbar\":{\"outlinewidth\":0,\"ticks\":\"\"}}}],\"scatterternary\":[{\"type\":\"scatterternary\",\"marker\":{\"colorbar\":{\"outlinewidth\":0,\"ticks\":\"\"}}}],\"scattercarpet\":[{\"type\":\"scattercarpet\",\"marker\":{\"colorbar\":{\"outlinewidth\":0,\"ticks\":\"\"}}}],\"carpet\":[{\"aaxis\":{\"endlinecolor\":\"#2a3f5f\",\"gridcolor\":\"white\",\"linecolor\":\"white\",\"minorgridcolor\":\"white\",\"startlinecolor\":\"#2a3f5f\"},\"baxis\":{\"endlinecolor\":\"#2a3f5f\",\"gridcolor\":\"white\",\"linecolor\":\"white\",\"minorgridcolor\":\"white\",\"startlinecolor\":\"#2a3f5f\"},\"type\":\"carpet\"}],\"table\":[{\"cells\":{\"fill\":{\"color\":\"#EBF0F8\"},\"line\":{\"color\":\"white\"}},\"header\":{\"fill\":{\"color\":\"#C8D4E3\"},\"line\":{\"color\":\"white\"}},\"type\":\"table\"}],\"barpolar\":[{\"marker\":{\"line\":{\"color\":\"#E5ECF6\",\"width\":0.5},\"pattern\":{\"fillmode\":\"overlay\",\"size\":10,\"solidity\":0.2}},\"type\":\"barpolar\"}],\"pie\":[{\"automargin\":true,\"type\":\"pie\"}]},\"layout\":{\"autotypenumbers\":\"strict\",\"colorway\":[\"#636efa\",\"#EF553B\",\"#00cc96\",\"#ab63fa\",\"#FFA15A\",\"#19d3f3\",\"#FF6692\",\"#B6E880\",\"#FF97FF\",\"#FECB52\"],\"font\":{\"color\":\"#2a3f5f\"},\"hovermode\":\"closest\",\"hoverlabel\":{\"align\":\"left\"},\"paper_bgcolor\":\"white\",\"plot_bgcolor\":\"#E5ECF6\",\"polar\":{\"bgcolor\":\"#E5ECF6\",\"angularaxis\":{\"gridcolor\":\"white\",\"linecolor\":\"white\",\"ticks\":\"\"},\"radialaxis\":{\"gridcolor\":\"white\",\"linecolor\":\"white\",\"ticks\":\"\"}},\"ternary\":{\"bgcolor\":\"#E5ECF6\",\"aaxis\":{\"gridcolor\":\"white\",\"linecolor\":\"white\",\"ticks\":\"\"},\"baxis\":{\"gridcolor\":\"white\",\"linecolor\":\"white\",\"ticks\":\"\"},\"caxis\":{\"gridcolor\":\"white\",\"linecolor\":\"white\",\"ticks\":\"\"}},\"coloraxis\":{\"colorbar\":{\"outlinewidth\":0,\"ticks\":\"\"}},\"colorscale\":{\"sequential\":[[0.0,\"#0d0887\"],[0.1111111111111111,\"#46039f\"],[0.2222222222222222,\"#7201a8\"],[0.3333333333333333,\"#9c179e\"],[0.4444444444444444,\"#bd3786\"],[0.5555555555555556,\"#d8576b\"],[0.6666666666666666,\"#ed7953\"],[0.7777777777777778,\"#fb9f3a\"],[0.8888888888888888,\"#fdca26\"],[1.0,\"#f0f921\"]],\"sequentialminus\":[[0.0,\"#0d0887\"],[0.1111111111111111,\"#46039f\"],[0.2222222222222222,\"#7201a8\"],[0.3333333333333333,\"#9c179e\"],[0.4444444444444444,\"#bd3786\"],[0.5555555555555556,\"#d8576b\"],[0.6666666666666666,\"#ed7953\"],[0.7777777777777778,\"#fb9f3a\"],[0.8888888888888888,\"#fdca26\"],[1.0,\"#f0f921\"]],\"diverging\":[[0,\"#8e0152\"],[0.1,\"#c51b7d\"],[0.2,\"#de77ae\"],[0.3,\"#f1b6da\"],[0.4,\"#fde0ef\"],[0.5,\"#f7f7f7\"],[0.6,\"#e6f5d0\"],[0.7,\"#b8e186\"],[0.8,\"#7fbc41\"],[0.9,\"#4d9221\"],[1,\"#276419\"]]},\"xaxis\":{\"gridcolor\":\"white\",\"linecolor\":\"white\",\"ticks\":\"\",\"title\":{\"standoff\":15},\"zerolinecolor\":\"white\",\"automargin\":true,\"zerolinewidth\":2},\"yaxis\":{\"gridcolor\":\"white\",\"linecolor\":\"white\",\"ticks\":\"\",\"title\":{\"standoff\":15},\"zerolinecolor\":\"white\",\"automargin\":true,\"zerolinewidth\":2},\"scene\":{\"xaxis\":{\"backgroundcolor\":\"#E5ECF6\",\"gridcolor\":\"white\",\"linecolor\":\"white\",\"showbackground\":true,\"ticks\":\"\",\"zerolinecolor\":\"white\",\"gridwidth\":2},\"yaxis\":{\"backgroundcolor\":\"#E5ECF6\",\"gridcolor\":\"white\",\"linecolor\":\"white\",\"showbackground\":true,\"ticks\":\"\",\"zerolinecolor\":\"white\",\"gridwidth\":2},\"zaxis\":{\"backgroundcolor\":\"#E5ECF6\",\"gridcolor\":\"white\",\"linecolor\":\"white\",\"showbackground\":true,\"ticks\":\"\",\"zerolinecolor\":\"white\",\"gridwidth\":2}},\"shapedefaults\":{\"line\":{\"color\":\"#2a3f5f\"}},\"annotationdefaults\":{\"arrowcolor\":\"#2a3f5f\",\"arrowhead\":0,\"arrowwidth\":1},\"geo\":{\"bgcolor\":\"white\",\"landcolor\":\"#E5ECF6\",\"subunitcolor\":\"white\",\"showland\":true,\"showlakes\":true,\"lakecolor\":\"white\"},\"title\":{\"x\":0.05},\"mapbox\":{\"style\":\"light\"}}},\"xaxis\":{\"anchor\":\"y\",\"domain\":[0.0,1.0],\"title\":{\"text\":\"Country\"},\"tickfont\":{\"family\":\"Arial Black\"},\"tickangle\":90},\"yaxis\":{\"anchor\":\"x\",\"domain\":[0.0,1.0],\"title\":{\"text\":\"Average sweetness offered by its taste\"}},\"legend\":{\"tracegroupgap\":0},\"title\":{\"text\":\"Average Sweetness by Country\",\"x\":0.5},\"barmode\":\"relative\"},                        {\"responsive\": true}                    ).then(function(){\n",
       "                            \n",
       "var gd = document.getElementById('c91dc613-76d2-46f1-8b83-3c0b26de6ecb');\n",
       "var x = new MutationObserver(function (mutations, observer) {{\n",
       "        var display = window.getComputedStyle(gd).display;\n",
       "        if (!display || display === 'none') {{\n",
       "            console.log([gd, 'removed!']);\n",
       "            Plotly.purge(gd);\n",
       "            observer.disconnect();\n",
       "        }}\n",
       "}});\n",
       "\n",
       "// Listen for the removal of the full notebook cells\n",
       "var notebookContainer = gd.closest('#notebook-container');\n",
       "if (notebookContainer) {{\n",
       "    x.observe(notebookContainer, {childList: true});\n",
       "}}\n",
       "\n",
       "// Listen for the clearing of the current output cell\n",
       "var outputEl = gd.closest('.output');\n",
       "if (outputEl) {{\n",
       "    x.observe(outputEl, {childList: true});\n",
       "}}\n",
       "\n",
       "                        })                };                });            </script>        </div>"
      ]
     },
     "metadata": {},
     "output_type": "display_data"
    },
    {
     "data": {
      "text/html": [
       "<div>                            <div id=\"025c977b-cc4a-46c5-b563-4cc66237a41e\" class=\"plotly-graph-div\" style=\"height:525px; width:100%;\"></div>            <script type=\"text/javascript\">                require([\"plotly\"], function(Plotly) {                    window.PLOTLYENV=window.PLOTLYENV || {};                                    if (document.getElementById(\"025c977b-cc4a-46c5-b563-4cc66237a41e\")) {                    Plotly.newPlot(                        \"025c977b-cc4a-46c5-b563-4cc66237a41e\",                        [{\"alignmentgroup\":\"True\",\"hovertemplate\":\"Country=%{x}\\u003cbr\\u003eAverage moisture content of the coffee beans=%{y}\\u003cextra\\u003e\\u003c\\u002fextra\\u003e\",\"legendgroup\":\"\",\"marker\":{\"color\":\"#636efa\",\"pattern\":{\"shape\":\"\"}},\"name\":\"\",\"offsetgroup\":\"\",\"orientation\":\"v\",\"showlegend\":false,\"textposition\":\"auto\",\"x\":[\"Cote dIvoire\",\"Malawi\",\"Papua New Guinea\",\"Japan\",\"Mauritius\",\"Tanzania\",\"Uganda\",\"Mexico\",\"Haiti\",\"Rwanda\",\"Honduras\",\"Nicaragua\",\"Guatemala\",\"Indonesia\",\"China\",\"Thailand\",\"Costa Rica\",\"Laos\",\"Ethiopia\",\"Brazil\",\"Taiwan\",\"Kenya\",\"Philippines\",\"Panama\",\"Vietnam\",\"Peru\",\"Colombia\",\"Burundi\",\"United States\",\"El Salvador\",\"India\",\"Ecuador\",\"Myanmar\",\"Zambia\"],\"xaxis\":\"x\",\"y\":[0.13,0.12454545454545456,0.12,0.12,0.12,0.119,0.11361111111111111,0.11360169491525424,0.11,0.11,0.10773584905660377,0.10769230769230768,0.10226519337016575,0.0985,0.094375,0.0909375,0.08333333333333333,0.08333333333333333,0.08295454545454545,0.08234848484848484,0.08067567567567567,0.08,0.074,0.07,0.0675,0.066,0.062021857923497264,0.06,0.050919540229885055,0.045714285714285714,0.03785714285714286,0.03,0.01375,0.0],\"yaxis\":\"y\",\"type\":\"bar\"}],                        {\"template\":{\"data\":{\"histogram2dcontour\":[{\"type\":\"histogram2dcontour\",\"colorbar\":{\"outlinewidth\":0,\"ticks\":\"\"},\"colorscale\":[[0.0,\"#0d0887\"],[0.1111111111111111,\"#46039f\"],[0.2222222222222222,\"#7201a8\"],[0.3333333333333333,\"#9c179e\"],[0.4444444444444444,\"#bd3786\"],[0.5555555555555556,\"#d8576b\"],[0.6666666666666666,\"#ed7953\"],[0.7777777777777778,\"#fb9f3a\"],[0.8888888888888888,\"#fdca26\"],[1.0,\"#f0f921\"]]}],\"choropleth\":[{\"type\":\"choropleth\",\"colorbar\":{\"outlinewidth\":0,\"ticks\":\"\"}}],\"histogram2d\":[{\"type\":\"histogram2d\",\"colorbar\":{\"outlinewidth\":0,\"ticks\":\"\"},\"colorscale\":[[0.0,\"#0d0887\"],[0.1111111111111111,\"#46039f\"],[0.2222222222222222,\"#7201a8\"],[0.3333333333333333,\"#9c179e\"],[0.4444444444444444,\"#bd3786\"],[0.5555555555555556,\"#d8576b\"],[0.6666666666666666,\"#ed7953\"],[0.7777777777777778,\"#fb9f3a\"],[0.8888888888888888,\"#fdca26\"],[1.0,\"#f0f921\"]]}],\"heatmap\":[{\"type\":\"heatmap\",\"colorbar\":{\"outlinewidth\":0,\"ticks\":\"\"},\"colorscale\":[[0.0,\"#0d0887\"],[0.1111111111111111,\"#46039f\"],[0.2222222222222222,\"#7201a8\"],[0.3333333333333333,\"#9c179e\"],[0.4444444444444444,\"#bd3786\"],[0.5555555555555556,\"#d8576b\"],[0.6666666666666666,\"#ed7953\"],[0.7777777777777778,\"#fb9f3a\"],[0.8888888888888888,\"#fdca26\"],[1.0,\"#f0f921\"]]}],\"heatmapgl\":[{\"type\":\"heatmapgl\",\"colorbar\":{\"outlinewidth\":0,\"ticks\":\"\"},\"colorscale\":[[0.0,\"#0d0887\"],[0.1111111111111111,\"#46039f\"],[0.2222222222222222,\"#7201a8\"],[0.3333333333333333,\"#9c179e\"],[0.4444444444444444,\"#bd3786\"],[0.5555555555555556,\"#d8576b\"],[0.6666666666666666,\"#ed7953\"],[0.7777777777777778,\"#fb9f3a\"],[0.8888888888888888,\"#fdca26\"],[1.0,\"#f0f921\"]]}],\"contourcarpet\":[{\"type\":\"contourcarpet\",\"colorbar\":{\"outlinewidth\":0,\"ticks\":\"\"}}],\"contour\":[{\"type\":\"contour\",\"colorbar\":{\"outlinewidth\":0,\"ticks\":\"\"},\"colorscale\":[[0.0,\"#0d0887\"],[0.1111111111111111,\"#46039f\"],[0.2222222222222222,\"#7201a8\"],[0.3333333333333333,\"#9c179e\"],[0.4444444444444444,\"#bd3786\"],[0.5555555555555556,\"#d8576b\"],[0.6666666666666666,\"#ed7953\"],[0.7777777777777778,\"#fb9f3a\"],[0.8888888888888888,\"#fdca26\"],[1.0,\"#f0f921\"]]}],\"surface\":[{\"type\":\"surface\",\"colorbar\":{\"outlinewidth\":0,\"ticks\":\"\"},\"colorscale\":[[0.0,\"#0d0887\"],[0.1111111111111111,\"#46039f\"],[0.2222222222222222,\"#7201a8\"],[0.3333333333333333,\"#9c179e\"],[0.4444444444444444,\"#bd3786\"],[0.5555555555555556,\"#d8576b\"],[0.6666666666666666,\"#ed7953\"],[0.7777777777777778,\"#fb9f3a\"],[0.8888888888888888,\"#fdca26\"],[1.0,\"#f0f921\"]]}],\"mesh3d\":[{\"type\":\"mesh3d\",\"colorbar\":{\"outlinewidth\":0,\"ticks\":\"\"}}],\"scatter\":[{\"fillpattern\":{\"fillmode\":\"overlay\",\"size\":10,\"solidity\":0.2},\"type\":\"scatter\"}],\"parcoords\":[{\"type\":\"parcoords\",\"line\":{\"colorbar\":{\"outlinewidth\":0,\"ticks\":\"\"}}}],\"scatterpolargl\":[{\"type\":\"scatterpolargl\",\"marker\":{\"colorbar\":{\"outlinewidth\":0,\"ticks\":\"\"}}}],\"bar\":[{\"error_x\":{\"color\":\"#2a3f5f\"},\"error_y\":{\"color\":\"#2a3f5f\"},\"marker\":{\"line\":{\"color\":\"#E5ECF6\",\"width\":0.5},\"pattern\":{\"fillmode\":\"overlay\",\"size\":10,\"solidity\":0.2}},\"type\":\"bar\"}],\"scattergeo\":[{\"type\":\"scattergeo\",\"marker\":{\"colorbar\":{\"outlinewidth\":0,\"ticks\":\"\"}}}],\"scatterpolar\":[{\"type\":\"scatterpolar\",\"marker\":{\"colorbar\":{\"outlinewidth\":0,\"ticks\":\"\"}}}],\"histogram\":[{\"marker\":{\"pattern\":{\"fillmode\":\"overlay\",\"size\":10,\"solidity\":0.2}},\"type\":\"histogram\"}],\"scattergl\":[{\"type\":\"scattergl\",\"marker\":{\"colorbar\":{\"outlinewidth\":0,\"ticks\":\"\"}}}],\"scatter3d\":[{\"type\":\"scatter3d\",\"line\":{\"colorbar\":{\"outlinewidth\":0,\"ticks\":\"\"}},\"marker\":{\"colorbar\":{\"outlinewidth\":0,\"ticks\":\"\"}}}],\"scattermapbox\":[{\"type\":\"scattermapbox\",\"marker\":{\"colorbar\":{\"outlinewidth\":0,\"ticks\":\"\"}}}],\"scatterternary\":[{\"type\":\"scatterternary\",\"marker\":{\"colorbar\":{\"outlinewidth\":0,\"ticks\":\"\"}}}],\"scattercarpet\":[{\"type\":\"scattercarpet\",\"marker\":{\"colorbar\":{\"outlinewidth\":0,\"ticks\":\"\"}}}],\"carpet\":[{\"aaxis\":{\"endlinecolor\":\"#2a3f5f\",\"gridcolor\":\"white\",\"linecolor\":\"white\",\"minorgridcolor\":\"white\",\"startlinecolor\":\"#2a3f5f\"},\"baxis\":{\"endlinecolor\":\"#2a3f5f\",\"gridcolor\":\"white\",\"linecolor\":\"white\",\"minorgridcolor\":\"white\",\"startlinecolor\":\"#2a3f5f\"},\"type\":\"carpet\"}],\"table\":[{\"cells\":{\"fill\":{\"color\":\"#EBF0F8\"},\"line\":{\"color\":\"white\"}},\"header\":{\"fill\":{\"color\":\"#C8D4E3\"},\"line\":{\"color\":\"white\"}},\"type\":\"table\"}],\"barpolar\":[{\"marker\":{\"line\":{\"color\":\"#E5ECF6\",\"width\":0.5},\"pattern\":{\"fillmode\":\"overlay\",\"size\":10,\"solidity\":0.2}},\"type\":\"barpolar\"}],\"pie\":[{\"automargin\":true,\"type\":\"pie\"}]},\"layout\":{\"autotypenumbers\":\"strict\",\"colorway\":[\"#636efa\",\"#EF553B\",\"#00cc96\",\"#ab63fa\",\"#FFA15A\",\"#19d3f3\",\"#FF6692\",\"#B6E880\",\"#FF97FF\",\"#FECB52\"],\"font\":{\"color\":\"#2a3f5f\"},\"hovermode\":\"closest\",\"hoverlabel\":{\"align\":\"left\"},\"paper_bgcolor\":\"white\",\"plot_bgcolor\":\"#E5ECF6\",\"polar\":{\"bgcolor\":\"#E5ECF6\",\"angularaxis\":{\"gridcolor\":\"white\",\"linecolor\":\"white\",\"ticks\":\"\"},\"radialaxis\":{\"gridcolor\":\"white\",\"linecolor\":\"white\",\"ticks\":\"\"}},\"ternary\":{\"bgcolor\":\"#E5ECF6\",\"aaxis\":{\"gridcolor\":\"white\",\"linecolor\":\"white\",\"ticks\":\"\"},\"baxis\":{\"gridcolor\":\"white\",\"linecolor\":\"white\",\"ticks\":\"\"},\"caxis\":{\"gridcolor\":\"white\",\"linecolor\":\"white\",\"ticks\":\"\"}},\"coloraxis\":{\"colorbar\":{\"outlinewidth\":0,\"ticks\":\"\"}},\"colorscale\":{\"sequential\":[[0.0,\"#0d0887\"],[0.1111111111111111,\"#46039f\"],[0.2222222222222222,\"#7201a8\"],[0.3333333333333333,\"#9c179e\"],[0.4444444444444444,\"#bd3786\"],[0.5555555555555556,\"#d8576b\"],[0.6666666666666666,\"#ed7953\"],[0.7777777777777778,\"#fb9f3a\"],[0.8888888888888888,\"#fdca26\"],[1.0,\"#f0f921\"]],\"sequentialminus\":[[0.0,\"#0d0887\"],[0.1111111111111111,\"#46039f\"],[0.2222222222222222,\"#7201a8\"],[0.3333333333333333,\"#9c179e\"],[0.4444444444444444,\"#bd3786\"],[0.5555555555555556,\"#d8576b\"],[0.6666666666666666,\"#ed7953\"],[0.7777777777777778,\"#fb9f3a\"],[0.8888888888888888,\"#fdca26\"],[1.0,\"#f0f921\"]],\"diverging\":[[0,\"#8e0152\"],[0.1,\"#c51b7d\"],[0.2,\"#de77ae\"],[0.3,\"#f1b6da\"],[0.4,\"#fde0ef\"],[0.5,\"#f7f7f7\"],[0.6,\"#e6f5d0\"],[0.7,\"#b8e186\"],[0.8,\"#7fbc41\"],[0.9,\"#4d9221\"],[1,\"#276419\"]]},\"xaxis\":{\"gridcolor\":\"white\",\"linecolor\":\"white\",\"ticks\":\"\",\"title\":{\"standoff\":15},\"zerolinecolor\":\"white\",\"automargin\":true,\"zerolinewidth\":2},\"yaxis\":{\"gridcolor\":\"white\",\"linecolor\":\"white\",\"ticks\":\"\",\"title\":{\"standoff\":15},\"zerolinecolor\":\"white\",\"automargin\":true,\"zerolinewidth\":2},\"scene\":{\"xaxis\":{\"backgroundcolor\":\"#E5ECF6\",\"gridcolor\":\"white\",\"linecolor\":\"white\",\"showbackground\":true,\"ticks\":\"\",\"zerolinecolor\":\"white\",\"gridwidth\":2},\"yaxis\":{\"backgroundcolor\":\"#E5ECF6\",\"gridcolor\":\"white\",\"linecolor\":\"white\",\"showbackground\":true,\"ticks\":\"\",\"zerolinecolor\":\"white\",\"gridwidth\":2},\"zaxis\":{\"backgroundcolor\":\"#E5ECF6\",\"gridcolor\":\"white\",\"linecolor\":\"white\",\"showbackground\":true,\"ticks\":\"\",\"zerolinecolor\":\"white\",\"gridwidth\":2}},\"shapedefaults\":{\"line\":{\"color\":\"#2a3f5f\"}},\"annotationdefaults\":{\"arrowcolor\":\"#2a3f5f\",\"arrowhead\":0,\"arrowwidth\":1},\"geo\":{\"bgcolor\":\"white\",\"landcolor\":\"#E5ECF6\",\"subunitcolor\":\"white\",\"showland\":true,\"showlakes\":true,\"lakecolor\":\"white\"},\"title\":{\"x\":0.05},\"mapbox\":{\"style\":\"light\"}}},\"xaxis\":{\"anchor\":\"y\",\"domain\":[0.0,1.0],\"title\":{\"text\":\"Country\"},\"tickfont\":{\"family\":\"Arial Black\"},\"tickangle\":90},\"yaxis\":{\"anchor\":\"x\",\"domain\":[0.0,1.0],\"title\":{\"text\":\"Average moisture content of the coffee beans\"}},\"legend\":{\"tracegroupgap\":0},\"title\":{\"text\":\"Average Moisture by Country\",\"x\":0.5},\"barmode\":\"relative\"},                        {\"responsive\": true}                    ).then(function(){\n",
       "                            \n",
       "var gd = document.getElementById('025c977b-cc4a-46c5-b563-4cc66237a41e');\n",
       "var x = new MutationObserver(function (mutations, observer) {{\n",
       "        var display = window.getComputedStyle(gd).display;\n",
       "        if (!display || display === 'none') {{\n",
       "            console.log([gd, 'removed!']);\n",
       "            Plotly.purge(gd);\n",
       "            observer.disconnect();\n",
       "        }}\n",
       "}});\n",
       "\n",
       "// Listen for the removal of the full notebook cells\n",
       "var notebookContainer = gd.closest('#notebook-container');\n",
       "if (notebookContainer) {{\n",
       "    x.observe(notebookContainer, {childList: true});\n",
       "}}\n",
       "\n",
       "// Listen for the clearing of the current output cell\n",
       "var outputEl = gd.closest('.output');\n",
       "if (outputEl) {{\n",
       "    x.observe(outputEl, {childList: true});\n",
       "}}\n",
       "\n",
       "                        })                };                });            </script>        </div>"
      ]
     },
     "metadata": {},
     "output_type": "display_data"
    },
    {
     "data": {
      "text/html": [
       "<div>                            <div id=\"b6595b89-6553-431b-93ea-13df6ebc1c28\" class=\"plotly-graph-div\" style=\"height:525px; width:100%;\"></div>            <script type=\"text/javascript\">                require([\"plotly\"], function(Plotly) {                    window.PLOTLYENV=window.PLOTLYENV || {};                                    if (document.getElementById(\"b6595b89-6553-431b-93ea-13df6ebc1c28\")) {                    Plotly.newPlot(                        \"b6595b89-6553-431b-93ea-13df6ebc1c28\",                        [{\"alignmentgroup\":\"True\",\"hovertemplate\":\"Country=%{x}\\u003cbr\\u003eAverage presence of quaker beans=%{y}\\u003cextra\\u003e\\u003c\\u002fextra\\u003e\",\"legendgroup\":\"\",\"marker\":{\"color\":\"#636efa\",\"pattern\":{\"shape\":\"\"}},\"name\":\"\",\"offsetgroup\":\"\",\"orientation\":\"v\",\"showlegend\":false,\"textposition\":\"auto\",\"x\":[\"China\",\"India\",\"Brazil\",\"Ethiopia\",\"Nicaragua\",\"Guatemala\",\"Panama\",\"Kenya\",\"Colombia\",\"Honduras\",\"Uganda\",\"Costa Rica\",\"Peru\",\"El Salvador\",\"Taiwan\",\"Indonesia\",\"Mexico\",\"United States\",\"Vietnam\",\"Thailand\",\"Tanzania\",\"Rwanda\",\"Philippines\",\"Malawi\",\"Papua New Guinea\",\"Myanmar\",\"Mauritius\",\"Burundi\",\"Laos\",\"Japan\",\"Haiti\",\"Ecuador\",\"Cote dIvoire\",\"Zambia\"],\"xaxis\":\"x\",\"y\":[0.5,0.5,0.44696969696969696,0.36363636363636365,0.3076923076923077,0.27624309392265195,0.25,0.24,0.20765027322404372,0.18867924528301888,0.1388888888888889,0.11764705882352941,0.1,0.09523809523809523,0.06756756756756757,0.05,0.038135593220338986,0.0,0.0,0.0,0.0,0.0,0.0,0.0,0.0,0.0,0.0,0.0,0.0,0.0,0.0,0.0,0.0,0.0],\"yaxis\":\"y\",\"type\":\"bar\"}],                        {\"template\":{\"data\":{\"histogram2dcontour\":[{\"type\":\"histogram2dcontour\",\"colorbar\":{\"outlinewidth\":0,\"ticks\":\"\"},\"colorscale\":[[0.0,\"#0d0887\"],[0.1111111111111111,\"#46039f\"],[0.2222222222222222,\"#7201a8\"],[0.3333333333333333,\"#9c179e\"],[0.4444444444444444,\"#bd3786\"],[0.5555555555555556,\"#d8576b\"],[0.6666666666666666,\"#ed7953\"],[0.7777777777777778,\"#fb9f3a\"],[0.8888888888888888,\"#fdca26\"],[1.0,\"#f0f921\"]]}],\"choropleth\":[{\"type\":\"choropleth\",\"colorbar\":{\"outlinewidth\":0,\"ticks\":\"\"}}],\"histogram2d\":[{\"type\":\"histogram2d\",\"colorbar\":{\"outlinewidth\":0,\"ticks\":\"\"},\"colorscale\":[[0.0,\"#0d0887\"],[0.1111111111111111,\"#46039f\"],[0.2222222222222222,\"#7201a8\"],[0.3333333333333333,\"#9c179e\"],[0.4444444444444444,\"#bd3786\"],[0.5555555555555556,\"#d8576b\"],[0.6666666666666666,\"#ed7953\"],[0.7777777777777778,\"#fb9f3a\"],[0.8888888888888888,\"#fdca26\"],[1.0,\"#f0f921\"]]}],\"heatmap\":[{\"type\":\"heatmap\",\"colorbar\":{\"outlinewidth\":0,\"ticks\":\"\"},\"colorscale\":[[0.0,\"#0d0887\"],[0.1111111111111111,\"#46039f\"],[0.2222222222222222,\"#7201a8\"],[0.3333333333333333,\"#9c179e\"],[0.4444444444444444,\"#bd3786\"],[0.5555555555555556,\"#d8576b\"],[0.6666666666666666,\"#ed7953\"],[0.7777777777777778,\"#fb9f3a\"],[0.8888888888888888,\"#fdca26\"],[1.0,\"#f0f921\"]]}],\"heatmapgl\":[{\"type\":\"heatmapgl\",\"colorbar\":{\"outlinewidth\":0,\"ticks\":\"\"},\"colorscale\":[[0.0,\"#0d0887\"],[0.1111111111111111,\"#46039f\"],[0.2222222222222222,\"#7201a8\"],[0.3333333333333333,\"#9c179e\"],[0.4444444444444444,\"#bd3786\"],[0.5555555555555556,\"#d8576b\"],[0.6666666666666666,\"#ed7953\"],[0.7777777777777778,\"#fb9f3a\"],[0.8888888888888888,\"#fdca26\"],[1.0,\"#f0f921\"]]}],\"contourcarpet\":[{\"type\":\"contourcarpet\",\"colorbar\":{\"outlinewidth\":0,\"ticks\":\"\"}}],\"contour\":[{\"type\":\"contour\",\"colorbar\":{\"outlinewidth\":0,\"ticks\":\"\"},\"colorscale\":[[0.0,\"#0d0887\"],[0.1111111111111111,\"#46039f\"],[0.2222222222222222,\"#7201a8\"],[0.3333333333333333,\"#9c179e\"],[0.4444444444444444,\"#bd3786\"],[0.5555555555555556,\"#d8576b\"],[0.6666666666666666,\"#ed7953\"],[0.7777777777777778,\"#fb9f3a\"],[0.8888888888888888,\"#fdca26\"],[1.0,\"#f0f921\"]]}],\"surface\":[{\"type\":\"surface\",\"colorbar\":{\"outlinewidth\":0,\"ticks\":\"\"},\"colorscale\":[[0.0,\"#0d0887\"],[0.1111111111111111,\"#46039f\"],[0.2222222222222222,\"#7201a8\"],[0.3333333333333333,\"#9c179e\"],[0.4444444444444444,\"#bd3786\"],[0.5555555555555556,\"#d8576b\"],[0.6666666666666666,\"#ed7953\"],[0.7777777777777778,\"#fb9f3a\"],[0.8888888888888888,\"#fdca26\"],[1.0,\"#f0f921\"]]}],\"mesh3d\":[{\"type\":\"mesh3d\",\"colorbar\":{\"outlinewidth\":0,\"ticks\":\"\"}}],\"scatter\":[{\"fillpattern\":{\"fillmode\":\"overlay\",\"size\":10,\"solidity\":0.2},\"type\":\"scatter\"}],\"parcoords\":[{\"type\":\"parcoords\",\"line\":{\"colorbar\":{\"outlinewidth\":0,\"ticks\":\"\"}}}],\"scatterpolargl\":[{\"type\":\"scatterpolargl\",\"marker\":{\"colorbar\":{\"outlinewidth\":0,\"ticks\":\"\"}}}],\"bar\":[{\"error_x\":{\"color\":\"#2a3f5f\"},\"error_y\":{\"color\":\"#2a3f5f\"},\"marker\":{\"line\":{\"color\":\"#E5ECF6\",\"width\":0.5},\"pattern\":{\"fillmode\":\"overlay\",\"size\":10,\"solidity\":0.2}},\"type\":\"bar\"}],\"scattergeo\":[{\"type\":\"scattergeo\",\"marker\":{\"colorbar\":{\"outlinewidth\":0,\"ticks\":\"\"}}}],\"scatterpolar\":[{\"type\":\"scatterpolar\",\"marker\":{\"colorbar\":{\"outlinewidth\":0,\"ticks\":\"\"}}}],\"histogram\":[{\"marker\":{\"pattern\":{\"fillmode\":\"overlay\",\"size\":10,\"solidity\":0.2}},\"type\":\"histogram\"}],\"scattergl\":[{\"type\":\"scattergl\",\"marker\":{\"colorbar\":{\"outlinewidth\":0,\"ticks\":\"\"}}}],\"scatter3d\":[{\"type\":\"scatter3d\",\"line\":{\"colorbar\":{\"outlinewidth\":0,\"ticks\":\"\"}},\"marker\":{\"colorbar\":{\"outlinewidth\":0,\"ticks\":\"\"}}}],\"scattermapbox\":[{\"type\":\"scattermapbox\",\"marker\":{\"colorbar\":{\"outlinewidth\":0,\"ticks\":\"\"}}}],\"scatterternary\":[{\"type\":\"scatterternary\",\"marker\":{\"colorbar\":{\"outlinewidth\":0,\"ticks\":\"\"}}}],\"scattercarpet\":[{\"type\":\"scattercarpet\",\"marker\":{\"colorbar\":{\"outlinewidth\":0,\"ticks\":\"\"}}}],\"carpet\":[{\"aaxis\":{\"endlinecolor\":\"#2a3f5f\",\"gridcolor\":\"white\",\"linecolor\":\"white\",\"minorgridcolor\":\"white\",\"startlinecolor\":\"#2a3f5f\"},\"baxis\":{\"endlinecolor\":\"#2a3f5f\",\"gridcolor\":\"white\",\"linecolor\":\"white\",\"minorgridcolor\":\"white\",\"startlinecolor\":\"#2a3f5f\"},\"type\":\"carpet\"}],\"table\":[{\"cells\":{\"fill\":{\"color\":\"#EBF0F8\"},\"line\":{\"color\":\"white\"}},\"header\":{\"fill\":{\"color\":\"#C8D4E3\"},\"line\":{\"color\":\"white\"}},\"type\":\"table\"}],\"barpolar\":[{\"marker\":{\"line\":{\"color\":\"#E5ECF6\",\"width\":0.5},\"pattern\":{\"fillmode\":\"overlay\",\"size\":10,\"solidity\":0.2}},\"type\":\"barpolar\"}],\"pie\":[{\"automargin\":true,\"type\":\"pie\"}]},\"layout\":{\"autotypenumbers\":\"strict\",\"colorway\":[\"#636efa\",\"#EF553B\",\"#00cc96\",\"#ab63fa\",\"#FFA15A\",\"#19d3f3\",\"#FF6692\",\"#B6E880\",\"#FF97FF\",\"#FECB52\"],\"font\":{\"color\":\"#2a3f5f\"},\"hovermode\":\"closest\",\"hoverlabel\":{\"align\":\"left\"},\"paper_bgcolor\":\"white\",\"plot_bgcolor\":\"#E5ECF6\",\"polar\":{\"bgcolor\":\"#E5ECF6\",\"angularaxis\":{\"gridcolor\":\"white\",\"linecolor\":\"white\",\"ticks\":\"\"},\"radialaxis\":{\"gridcolor\":\"white\",\"linecolor\":\"white\",\"ticks\":\"\"}},\"ternary\":{\"bgcolor\":\"#E5ECF6\",\"aaxis\":{\"gridcolor\":\"white\",\"linecolor\":\"white\",\"ticks\":\"\"},\"baxis\":{\"gridcolor\":\"white\",\"linecolor\":\"white\",\"ticks\":\"\"},\"caxis\":{\"gridcolor\":\"white\",\"linecolor\":\"white\",\"ticks\":\"\"}},\"coloraxis\":{\"colorbar\":{\"outlinewidth\":0,\"ticks\":\"\"}},\"colorscale\":{\"sequential\":[[0.0,\"#0d0887\"],[0.1111111111111111,\"#46039f\"],[0.2222222222222222,\"#7201a8\"],[0.3333333333333333,\"#9c179e\"],[0.4444444444444444,\"#bd3786\"],[0.5555555555555556,\"#d8576b\"],[0.6666666666666666,\"#ed7953\"],[0.7777777777777778,\"#fb9f3a\"],[0.8888888888888888,\"#fdca26\"],[1.0,\"#f0f921\"]],\"sequentialminus\":[[0.0,\"#0d0887\"],[0.1111111111111111,\"#46039f\"],[0.2222222222222222,\"#7201a8\"],[0.3333333333333333,\"#9c179e\"],[0.4444444444444444,\"#bd3786\"],[0.5555555555555556,\"#d8576b\"],[0.6666666666666666,\"#ed7953\"],[0.7777777777777778,\"#fb9f3a\"],[0.8888888888888888,\"#fdca26\"],[1.0,\"#f0f921\"]],\"diverging\":[[0,\"#8e0152\"],[0.1,\"#c51b7d\"],[0.2,\"#de77ae\"],[0.3,\"#f1b6da\"],[0.4,\"#fde0ef\"],[0.5,\"#f7f7f7\"],[0.6,\"#e6f5d0\"],[0.7,\"#b8e186\"],[0.8,\"#7fbc41\"],[0.9,\"#4d9221\"],[1,\"#276419\"]]},\"xaxis\":{\"gridcolor\":\"white\",\"linecolor\":\"white\",\"ticks\":\"\",\"title\":{\"standoff\":15},\"zerolinecolor\":\"white\",\"automargin\":true,\"zerolinewidth\":2},\"yaxis\":{\"gridcolor\":\"white\",\"linecolor\":\"white\",\"ticks\":\"\",\"title\":{\"standoff\":15},\"zerolinecolor\":\"white\",\"automargin\":true,\"zerolinewidth\":2},\"scene\":{\"xaxis\":{\"backgroundcolor\":\"#E5ECF6\",\"gridcolor\":\"white\",\"linecolor\":\"white\",\"showbackground\":true,\"ticks\":\"\",\"zerolinecolor\":\"white\",\"gridwidth\":2},\"yaxis\":{\"backgroundcolor\":\"#E5ECF6\",\"gridcolor\":\"white\",\"linecolor\":\"white\",\"showbackground\":true,\"ticks\":\"\",\"zerolinecolor\":\"white\",\"gridwidth\":2},\"zaxis\":{\"backgroundcolor\":\"#E5ECF6\",\"gridcolor\":\"white\",\"linecolor\":\"white\",\"showbackground\":true,\"ticks\":\"\",\"zerolinecolor\":\"white\",\"gridwidth\":2}},\"shapedefaults\":{\"line\":{\"color\":\"#2a3f5f\"}},\"annotationdefaults\":{\"arrowcolor\":\"#2a3f5f\",\"arrowhead\":0,\"arrowwidth\":1},\"geo\":{\"bgcolor\":\"white\",\"landcolor\":\"#E5ECF6\",\"subunitcolor\":\"white\",\"showland\":true,\"showlakes\":true,\"lakecolor\":\"white\"},\"title\":{\"x\":0.05},\"mapbox\":{\"style\":\"light\"}}},\"xaxis\":{\"anchor\":\"y\",\"domain\":[0.0,1.0],\"title\":{\"text\":\"Country\"},\"tickfont\":{\"family\":\"Arial Black\"},\"tickangle\":90},\"yaxis\":{\"anchor\":\"x\",\"domain\":[0.0,1.0],\"title\":{\"text\":\"Average presence of quaker beans\"}},\"legend\":{\"tracegroupgap\":0},\"title\":{\"text\":\"Average Quakers by Country\",\"x\":0.5},\"barmode\":\"relative\"},                        {\"responsive\": true}                    ).then(function(){\n",
       "                            \n",
       "var gd = document.getElementById('b6595b89-6553-431b-93ea-13df6ebc1c28');\n",
       "var x = new MutationObserver(function (mutations, observer) {{\n",
       "        var display = window.getComputedStyle(gd).display;\n",
       "        if (!display || display === 'none') {{\n",
       "            console.log([gd, 'removed!']);\n",
       "            Plotly.purge(gd);\n",
       "            observer.disconnect();\n",
       "        }}\n",
       "}});\n",
       "\n",
       "// Listen for the removal of the full notebook cells\n",
       "var notebookContainer = gd.closest('#notebook-container');\n",
       "if (notebookContainer) {{\n",
       "    x.observe(notebookContainer, {childList: true});\n",
       "}}\n",
       "\n",
       "// Listen for the clearing of the current output cell\n",
       "var outputEl = gd.closest('.output');\n",
       "if (outputEl) {{\n",
       "    x.observe(outputEl, {childList: true});\n",
       "}}\n",
       "\n",
       "                        })                };                });            </script>        </div>"
      ]
     },
     "metadata": {},
     "output_type": "display_data"
    },
    {
     "data": {
      "text/html": [
       "<div>                            <div id=\"c50c1457-a903-4eb9-b2f5-7429977a8eec\" class=\"plotly-graph-div\" style=\"height:525px; width:100%;\"></div>            <script type=\"text/javascript\">                require([\"plotly\"], function(Plotly) {                    window.PLOTLYENV=window.PLOTLYENV || {};                                    if (document.getElementById(\"c50c1457-a903-4eb9-b2f5-7429977a8eec\")) {                    Plotly.newPlot(                        \"c50c1457-a903-4eb9-b2f5-7429977a8eec\",                        [{\"alignmentgroup\":\"True\",\"hovertemplate\":\"Country=%{x}\\u003cbr\\u003eAverage #1 Defects (black or sour beans)=%{y}\\u003cextra\\u003e\\u003c\\u002fextra\\u003e\",\"legendgroup\":\"\",\"marker\":{\"color\":\"#636efa\",\"pattern\":{\"shape\":\"\"}},\"name\":\"\",\"offsetgroup\":\"\",\"orientation\":\"v\",\"showlegend\":false,\"textposition\":\"auto\",\"x\":[\"Vietnam\",\"Haiti\",\"India\",\"Peru\",\"United States\",\"Zambia\",\"Cote dIvoire\",\"Mexico\",\"Panama\",\"Taiwan\",\"Uganda\",\"Colombia\",\"Costa Rica\",\"Indonesia\",\"Nicaragua\",\"Ethiopia\",\"Guatemala\",\"El Salvador\",\"Brazil\",\"Myanmar\",\"Thailand\",\"Honduras\",\"Kenya\",\"Tanzania\",\"Mauritius\",\"Burundi\",\"Laos\",\"Papua New Guinea\",\"Philippines\",\"Rwanda\",\"Japan\",\"Ecuador\",\"China\",\"Malawi\"],\"xaxis\":\"x\",\"y\":[9.25,1.5,1.4285714285714286,1.3,1.160919540229885,1.0,1.0,0.8432203389830508,0.75,0.4594594594594595,0.3888888888888889,0.3770491803278688,0.35294117647058826,0.3,0.2692307692307692,0.25,0.1878453038674033,0.14285714285714285,0.12878787878787878,0.125,0.0625,0.05660377358490566,0.04,0.025,0.0,0.0,0.0,0.0,0.0,0.0,0.0,0.0,0.0,0.0],\"yaxis\":\"y\",\"type\":\"bar\"}],                        {\"template\":{\"data\":{\"histogram2dcontour\":[{\"type\":\"histogram2dcontour\",\"colorbar\":{\"outlinewidth\":0,\"ticks\":\"\"},\"colorscale\":[[0.0,\"#0d0887\"],[0.1111111111111111,\"#46039f\"],[0.2222222222222222,\"#7201a8\"],[0.3333333333333333,\"#9c179e\"],[0.4444444444444444,\"#bd3786\"],[0.5555555555555556,\"#d8576b\"],[0.6666666666666666,\"#ed7953\"],[0.7777777777777778,\"#fb9f3a\"],[0.8888888888888888,\"#fdca26\"],[1.0,\"#f0f921\"]]}],\"choropleth\":[{\"type\":\"choropleth\",\"colorbar\":{\"outlinewidth\":0,\"ticks\":\"\"}}],\"histogram2d\":[{\"type\":\"histogram2d\",\"colorbar\":{\"outlinewidth\":0,\"ticks\":\"\"},\"colorscale\":[[0.0,\"#0d0887\"],[0.1111111111111111,\"#46039f\"],[0.2222222222222222,\"#7201a8\"],[0.3333333333333333,\"#9c179e\"],[0.4444444444444444,\"#bd3786\"],[0.5555555555555556,\"#d8576b\"],[0.6666666666666666,\"#ed7953\"],[0.7777777777777778,\"#fb9f3a\"],[0.8888888888888888,\"#fdca26\"],[1.0,\"#f0f921\"]]}],\"heatmap\":[{\"type\":\"heatmap\",\"colorbar\":{\"outlinewidth\":0,\"ticks\":\"\"},\"colorscale\":[[0.0,\"#0d0887\"],[0.1111111111111111,\"#46039f\"],[0.2222222222222222,\"#7201a8\"],[0.3333333333333333,\"#9c179e\"],[0.4444444444444444,\"#bd3786\"],[0.5555555555555556,\"#d8576b\"],[0.6666666666666666,\"#ed7953\"],[0.7777777777777778,\"#fb9f3a\"],[0.8888888888888888,\"#fdca26\"],[1.0,\"#f0f921\"]]}],\"heatmapgl\":[{\"type\":\"heatmapgl\",\"colorbar\":{\"outlinewidth\":0,\"ticks\":\"\"},\"colorscale\":[[0.0,\"#0d0887\"],[0.1111111111111111,\"#46039f\"],[0.2222222222222222,\"#7201a8\"],[0.3333333333333333,\"#9c179e\"],[0.4444444444444444,\"#bd3786\"],[0.5555555555555556,\"#d8576b\"],[0.6666666666666666,\"#ed7953\"],[0.7777777777777778,\"#fb9f3a\"],[0.8888888888888888,\"#fdca26\"],[1.0,\"#f0f921\"]]}],\"contourcarpet\":[{\"type\":\"contourcarpet\",\"colorbar\":{\"outlinewidth\":0,\"ticks\":\"\"}}],\"contour\":[{\"type\":\"contour\",\"colorbar\":{\"outlinewidth\":0,\"ticks\":\"\"},\"colorscale\":[[0.0,\"#0d0887\"],[0.1111111111111111,\"#46039f\"],[0.2222222222222222,\"#7201a8\"],[0.3333333333333333,\"#9c179e\"],[0.4444444444444444,\"#bd3786\"],[0.5555555555555556,\"#d8576b\"],[0.6666666666666666,\"#ed7953\"],[0.7777777777777778,\"#fb9f3a\"],[0.8888888888888888,\"#fdca26\"],[1.0,\"#f0f921\"]]}],\"surface\":[{\"type\":\"surface\",\"colorbar\":{\"outlinewidth\":0,\"ticks\":\"\"},\"colorscale\":[[0.0,\"#0d0887\"],[0.1111111111111111,\"#46039f\"],[0.2222222222222222,\"#7201a8\"],[0.3333333333333333,\"#9c179e\"],[0.4444444444444444,\"#bd3786\"],[0.5555555555555556,\"#d8576b\"],[0.6666666666666666,\"#ed7953\"],[0.7777777777777778,\"#fb9f3a\"],[0.8888888888888888,\"#fdca26\"],[1.0,\"#f0f921\"]]}],\"mesh3d\":[{\"type\":\"mesh3d\",\"colorbar\":{\"outlinewidth\":0,\"ticks\":\"\"}}],\"scatter\":[{\"fillpattern\":{\"fillmode\":\"overlay\",\"size\":10,\"solidity\":0.2},\"type\":\"scatter\"}],\"parcoords\":[{\"type\":\"parcoords\",\"line\":{\"colorbar\":{\"outlinewidth\":0,\"ticks\":\"\"}}}],\"scatterpolargl\":[{\"type\":\"scatterpolargl\",\"marker\":{\"colorbar\":{\"outlinewidth\":0,\"ticks\":\"\"}}}],\"bar\":[{\"error_x\":{\"color\":\"#2a3f5f\"},\"error_y\":{\"color\":\"#2a3f5f\"},\"marker\":{\"line\":{\"color\":\"#E5ECF6\",\"width\":0.5},\"pattern\":{\"fillmode\":\"overlay\",\"size\":10,\"solidity\":0.2}},\"type\":\"bar\"}],\"scattergeo\":[{\"type\":\"scattergeo\",\"marker\":{\"colorbar\":{\"outlinewidth\":0,\"ticks\":\"\"}}}],\"scatterpolar\":[{\"type\":\"scatterpolar\",\"marker\":{\"colorbar\":{\"outlinewidth\":0,\"ticks\":\"\"}}}],\"histogram\":[{\"marker\":{\"pattern\":{\"fillmode\":\"overlay\",\"size\":10,\"solidity\":0.2}},\"type\":\"histogram\"}],\"scattergl\":[{\"type\":\"scattergl\",\"marker\":{\"colorbar\":{\"outlinewidth\":0,\"ticks\":\"\"}}}],\"scatter3d\":[{\"type\":\"scatter3d\",\"line\":{\"colorbar\":{\"outlinewidth\":0,\"ticks\":\"\"}},\"marker\":{\"colorbar\":{\"outlinewidth\":0,\"ticks\":\"\"}}}],\"scattermapbox\":[{\"type\":\"scattermapbox\",\"marker\":{\"colorbar\":{\"outlinewidth\":0,\"ticks\":\"\"}}}],\"scatterternary\":[{\"type\":\"scatterternary\",\"marker\":{\"colorbar\":{\"outlinewidth\":0,\"ticks\":\"\"}}}],\"scattercarpet\":[{\"type\":\"scattercarpet\",\"marker\":{\"colorbar\":{\"outlinewidth\":0,\"ticks\":\"\"}}}],\"carpet\":[{\"aaxis\":{\"endlinecolor\":\"#2a3f5f\",\"gridcolor\":\"white\",\"linecolor\":\"white\",\"minorgridcolor\":\"white\",\"startlinecolor\":\"#2a3f5f\"},\"baxis\":{\"endlinecolor\":\"#2a3f5f\",\"gridcolor\":\"white\",\"linecolor\":\"white\",\"minorgridcolor\":\"white\",\"startlinecolor\":\"#2a3f5f\"},\"type\":\"carpet\"}],\"table\":[{\"cells\":{\"fill\":{\"color\":\"#EBF0F8\"},\"line\":{\"color\":\"white\"}},\"header\":{\"fill\":{\"color\":\"#C8D4E3\"},\"line\":{\"color\":\"white\"}},\"type\":\"table\"}],\"barpolar\":[{\"marker\":{\"line\":{\"color\":\"#E5ECF6\",\"width\":0.5},\"pattern\":{\"fillmode\":\"overlay\",\"size\":10,\"solidity\":0.2}},\"type\":\"barpolar\"}],\"pie\":[{\"automargin\":true,\"type\":\"pie\"}]},\"layout\":{\"autotypenumbers\":\"strict\",\"colorway\":[\"#636efa\",\"#EF553B\",\"#00cc96\",\"#ab63fa\",\"#FFA15A\",\"#19d3f3\",\"#FF6692\",\"#B6E880\",\"#FF97FF\",\"#FECB52\"],\"font\":{\"color\":\"#2a3f5f\"},\"hovermode\":\"closest\",\"hoverlabel\":{\"align\":\"left\"},\"paper_bgcolor\":\"white\",\"plot_bgcolor\":\"#E5ECF6\",\"polar\":{\"bgcolor\":\"#E5ECF6\",\"angularaxis\":{\"gridcolor\":\"white\",\"linecolor\":\"white\",\"ticks\":\"\"},\"radialaxis\":{\"gridcolor\":\"white\",\"linecolor\":\"white\",\"ticks\":\"\"}},\"ternary\":{\"bgcolor\":\"#E5ECF6\",\"aaxis\":{\"gridcolor\":\"white\",\"linecolor\":\"white\",\"ticks\":\"\"},\"baxis\":{\"gridcolor\":\"white\",\"linecolor\":\"white\",\"ticks\":\"\"},\"caxis\":{\"gridcolor\":\"white\",\"linecolor\":\"white\",\"ticks\":\"\"}},\"coloraxis\":{\"colorbar\":{\"outlinewidth\":0,\"ticks\":\"\"}},\"colorscale\":{\"sequential\":[[0.0,\"#0d0887\"],[0.1111111111111111,\"#46039f\"],[0.2222222222222222,\"#7201a8\"],[0.3333333333333333,\"#9c179e\"],[0.4444444444444444,\"#bd3786\"],[0.5555555555555556,\"#d8576b\"],[0.6666666666666666,\"#ed7953\"],[0.7777777777777778,\"#fb9f3a\"],[0.8888888888888888,\"#fdca26\"],[1.0,\"#f0f921\"]],\"sequentialminus\":[[0.0,\"#0d0887\"],[0.1111111111111111,\"#46039f\"],[0.2222222222222222,\"#7201a8\"],[0.3333333333333333,\"#9c179e\"],[0.4444444444444444,\"#bd3786\"],[0.5555555555555556,\"#d8576b\"],[0.6666666666666666,\"#ed7953\"],[0.7777777777777778,\"#fb9f3a\"],[0.8888888888888888,\"#fdca26\"],[1.0,\"#f0f921\"]],\"diverging\":[[0,\"#8e0152\"],[0.1,\"#c51b7d\"],[0.2,\"#de77ae\"],[0.3,\"#f1b6da\"],[0.4,\"#fde0ef\"],[0.5,\"#f7f7f7\"],[0.6,\"#e6f5d0\"],[0.7,\"#b8e186\"],[0.8,\"#7fbc41\"],[0.9,\"#4d9221\"],[1,\"#276419\"]]},\"xaxis\":{\"gridcolor\":\"white\",\"linecolor\":\"white\",\"ticks\":\"\",\"title\":{\"standoff\":15},\"zerolinecolor\":\"white\",\"automargin\":true,\"zerolinewidth\":2},\"yaxis\":{\"gridcolor\":\"white\",\"linecolor\":\"white\",\"ticks\":\"\",\"title\":{\"standoff\":15},\"zerolinecolor\":\"white\",\"automargin\":true,\"zerolinewidth\":2},\"scene\":{\"xaxis\":{\"backgroundcolor\":\"#E5ECF6\",\"gridcolor\":\"white\",\"linecolor\":\"white\",\"showbackground\":true,\"ticks\":\"\",\"zerolinecolor\":\"white\",\"gridwidth\":2},\"yaxis\":{\"backgroundcolor\":\"#E5ECF6\",\"gridcolor\":\"white\",\"linecolor\":\"white\",\"showbackground\":true,\"ticks\":\"\",\"zerolinecolor\":\"white\",\"gridwidth\":2},\"zaxis\":{\"backgroundcolor\":\"#E5ECF6\",\"gridcolor\":\"white\",\"linecolor\":\"white\",\"showbackground\":true,\"ticks\":\"\",\"zerolinecolor\":\"white\",\"gridwidth\":2}},\"shapedefaults\":{\"line\":{\"color\":\"#2a3f5f\"}},\"annotationdefaults\":{\"arrowcolor\":\"#2a3f5f\",\"arrowhead\":0,\"arrowwidth\":1},\"geo\":{\"bgcolor\":\"white\",\"landcolor\":\"#E5ECF6\",\"subunitcolor\":\"white\",\"showland\":true,\"showlakes\":true,\"lakecolor\":\"white\"},\"title\":{\"x\":0.05},\"mapbox\":{\"style\":\"light\"}}},\"xaxis\":{\"anchor\":\"y\",\"domain\":[0.0,1.0],\"title\":{\"text\":\"Country\"},\"tickfont\":{\"family\":\"Arial Black\"},\"tickangle\":90},\"yaxis\":{\"anchor\":\"x\",\"domain\":[0.0,1.0],\"title\":{\"text\":\"Average #1 Defects (black or sour beans)\"}},\"legend\":{\"tracegroupgap\":0},\"title\":{\"text\":\"Average Category.One.Defects by Country\",\"x\":0.5},\"barmode\":\"relative\"},                        {\"responsive\": true}                    ).then(function(){\n",
       "                            \n",
       "var gd = document.getElementById('c50c1457-a903-4eb9-b2f5-7429977a8eec');\n",
       "var x = new MutationObserver(function (mutations, observer) {{\n",
       "        var display = window.getComputedStyle(gd).display;\n",
       "        if (!display || display === 'none') {{\n",
       "            console.log([gd, 'removed!']);\n",
       "            Plotly.purge(gd);\n",
       "            observer.disconnect();\n",
       "        }}\n",
       "}});\n",
       "\n",
       "// Listen for the removal of the full notebook cells\n",
       "var notebookContainer = gd.closest('#notebook-container');\n",
       "if (notebookContainer) {{\n",
       "    x.observe(notebookContainer, {childList: true});\n",
       "}}\n",
       "\n",
       "// Listen for the clearing of the current output cell\n",
       "var outputEl = gd.closest('.output');\n",
       "if (outputEl) {{\n",
       "    x.observe(outputEl, {childList: true});\n",
       "}}\n",
       "\n",
       "                        })                };                });            </script>        </div>"
      ]
     },
     "metadata": {},
     "output_type": "display_data"
    },
    {
     "data": {
      "text/html": [
       "<div>                            <div id=\"58bf1088-5163-4ec9-aa61-3815486c3183\" class=\"plotly-graph-div\" style=\"height:525px; width:100%;\"></div>            <script type=\"text/javascript\">                require([\"plotly\"], function(Plotly) {                    window.PLOTLYENV=window.PLOTLYENV || {};                                    if (document.getElementById(\"58bf1088-5163-4ec9-aa61-3815486c3183\")) {                    Plotly.newPlot(                        \"58bf1088-5163-4ec9-aa61-3815486c3183\",                        [{\"alignmentgroup\":\"True\",\"hovertemplate\":\"Country=%{x}\\u003cbr\\u003eAverage #2 Defects (moldy, insect-damaged, or perforated beans)=%{y}\\u003cextra\\u003e\\u003c\\u002fextra\\u003e\",\"legendgroup\":\"\",\"marker\":{\"color\":\"#636efa\",\"pattern\":{\"shape\":\"\"}},\"name\":\"\",\"offsetgroup\":\"\",\"orientation\":\"v\",\"showlegend\":false,\"textposition\":\"auto\",\"x\":[\"Mexico\",\"Myanmar\",\"Ethiopia\",\"Indonesia\",\"Tanzania\",\"China\",\"Vietnam\",\"Peru\",\"Brazil\",\"Uganda\",\"El Salvador\",\"Honduras\",\"Haiti\",\"Guatemala\",\"United States\",\"Zambia\",\"Costa Rica\",\"Nicaragua\",\"Kenya\",\"Burundi\",\"Panama\",\"Philippines\",\"Cote dIvoire\",\"Colombia\",\"Malawi\",\"Papua New Guinea\",\"Thailand\",\"India\",\"Taiwan\",\"Ecuador\",\"Rwanda\",\"Japan\",\"Mauritius\",\"Laos\"],\"xaxis\":\"x\",\"y\":[6.779661016949152,5.75,5.159090909090909,4.2,4.025,4.0,3.75,3.7,3.5984848484848486,3.5833333333333335,3.5714285714285716,3.5660377358490565,3.5,3.4198895027624308,3.160919540229885,3.0,2.823529411764706,2.769230769230769,2.52,2.5,2.5,2.0,2.0,1.9398907103825136,1.3636363636363635,1.0,0.5,0.35714285714285715,0.33783783783783783,0.3333333333333333,0.0,0.0,0.0,0.0],\"yaxis\":\"y\",\"type\":\"bar\"}],                        {\"template\":{\"data\":{\"histogram2dcontour\":[{\"type\":\"histogram2dcontour\",\"colorbar\":{\"outlinewidth\":0,\"ticks\":\"\"},\"colorscale\":[[0.0,\"#0d0887\"],[0.1111111111111111,\"#46039f\"],[0.2222222222222222,\"#7201a8\"],[0.3333333333333333,\"#9c179e\"],[0.4444444444444444,\"#bd3786\"],[0.5555555555555556,\"#d8576b\"],[0.6666666666666666,\"#ed7953\"],[0.7777777777777778,\"#fb9f3a\"],[0.8888888888888888,\"#fdca26\"],[1.0,\"#f0f921\"]]}],\"choropleth\":[{\"type\":\"choropleth\",\"colorbar\":{\"outlinewidth\":0,\"ticks\":\"\"}}],\"histogram2d\":[{\"type\":\"histogram2d\",\"colorbar\":{\"outlinewidth\":0,\"ticks\":\"\"},\"colorscale\":[[0.0,\"#0d0887\"],[0.1111111111111111,\"#46039f\"],[0.2222222222222222,\"#7201a8\"],[0.3333333333333333,\"#9c179e\"],[0.4444444444444444,\"#bd3786\"],[0.5555555555555556,\"#d8576b\"],[0.6666666666666666,\"#ed7953\"],[0.7777777777777778,\"#fb9f3a\"],[0.8888888888888888,\"#fdca26\"],[1.0,\"#f0f921\"]]}],\"heatmap\":[{\"type\":\"heatmap\",\"colorbar\":{\"outlinewidth\":0,\"ticks\":\"\"},\"colorscale\":[[0.0,\"#0d0887\"],[0.1111111111111111,\"#46039f\"],[0.2222222222222222,\"#7201a8\"],[0.3333333333333333,\"#9c179e\"],[0.4444444444444444,\"#bd3786\"],[0.5555555555555556,\"#d8576b\"],[0.6666666666666666,\"#ed7953\"],[0.7777777777777778,\"#fb9f3a\"],[0.8888888888888888,\"#fdca26\"],[1.0,\"#f0f921\"]]}],\"heatmapgl\":[{\"type\":\"heatmapgl\",\"colorbar\":{\"outlinewidth\":0,\"ticks\":\"\"},\"colorscale\":[[0.0,\"#0d0887\"],[0.1111111111111111,\"#46039f\"],[0.2222222222222222,\"#7201a8\"],[0.3333333333333333,\"#9c179e\"],[0.4444444444444444,\"#bd3786\"],[0.5555555555555556,\"#d8576b\"],[0.6666666666666666,\"#ed7953\"],[0.7777777777777778,\"#fb9f3a\"],[0.8888888888888888,\"#fdca26\"],[1.0,\"#f0f921\"]]}],\"contourcarpet\":[{\"type\":\"contourcarpet\",\"colorbar\":{\"outlinewidth\":0,\"ticks\":\"\"}}],\"contour\":[{\"type\":\"contour\",\"colorbar\":{\"outlinewidth\":0,\"ticks\":\"\"},\"colorscale\":[[0.0,\"#0d0887\"],[0.1111111111111111,\"#46039f\"],[0.2222222222222222,\"#7201a8\"],[0.3333333333333333,\"#9c179e\"],[0.4444444444444444,\"#bd3786\"],[0.5555555555555556,\"#d8576b\"],[0.6666666666666666,\"#ed7953\"],[0.7777777777777778,\"#fb9f3a\"],[0.8888888888888888,\"#fdca26\"],[1.0,\"#f0f921\"]]}],\"surface\":[{\"type\":\"surface\",\"colorbar\":{\"outlinewidth\":0,\"ticks\":\"\"},\"colorscale\":[[0.0,\"#0d0887\"],[0.1111111111111111,\"#46039f\"],[0.2222222222222222,\"#7201a8\"],[0.3333333333333333,\"#9c179e\"],[0.4444444444444444,\"#bd3786\"],[0.5555555555555556,\"#d8576b\"],[0.6666666666666666,\"#ed7953\"],[0.7777777777777778,\"#fb9f3a\"],[0.8888888888888888,\"#fdca26\"],[1.0,\"#f0f921\"]]}],\"mesh3d\":[{\"type\":\"mesh3d\",\"colorbar\":{\"outlinewidth\":0,\"ticks\":\"\"}}],\"scatter\":[{\"fillpattern\":{\"fillmode\":\"overlay\",\"size\":10,\"solidity\":0.2},\"type\":\"scatter\"}],\"parcoords\":[{\"type\":\"parcoords\",\"line\":{\"colorbar\":{\"outlinewidth\":0,\"ticks\":\"\"}}}],\"scatterpolargl\":[{\"type\":\"scatterpolargl\",\"marker\":{\"colorbar\":{\"outlinewidth\":0,\"ticks\":\"\"}}}],\"bar\":[{\"error_x\":{\"color\":\"#2a3f5f\"},\"error_y\":{\"color\":\"#2a3f5f\"},\"marker\":{\"line\":{\"color\":\"#E5ECF6\",\"width\":0.5},\"pattern\":{\"fillmode\":\"overlay\",\"size\":10,\"solidity\":0.2}},\"type\":\"bar\"}],\"scattergeo\":[{\"type\":\"scattergeo\",\"marker\":{\"colorbar\":{\"outlinewidth\":0,\"ticks\":\"\"}}}],\"scatterpolar\":[{\"type\":\"scatterpolar\",\"marker\":{\"colorbar\":{\"outlinewidth\":0,\"ticks\":\"\"}}}],\"histogram\":[{\"marker\":{\"pattern\":{\"fillmode\":\"overlay\",\"size\":10,\"solidity\":0.2}},\"type\":\"histogram\"}],\"scattergl\":[{\"type\":\"scattergl\",\"marker\":{\"colorbar\":{\"outlinewidth\":0,\"ticks\":\"\"}}}],\"scatter3d\":[{\"type\":\"scatter3d\",\"line\":{\"colorbar\":{\"outlinewidth\":0,\"ticks\":\"\"}},\"marker\":{\"colorbar\":{\"outlinewidth\":0,\"ticks\":\"\"}}}],\"scattermapbox\":[{\"type\":\"scattermapbox\",\"marker\":{\"colorbar\":{\"outlinewidth\":0,\"ticks\":\"\"}}}],\"scatterternary\":[{\"type\":\"scatterternary\",\"marker\":{\"colorbar\":{\"outlinewidth\":0,\"ticks\":\"\"}}}],\"scattercarpet\":[{\"type\":\"scattercarpet\",\"marker\":{\"colorbar\":{\"outlinewidth\":0,\"ticks\":\"\"}}}],\"carpet\":[{\"aaxis\":{\"endlinecolor\":\"#2a3f5f\",\"gridcolor\":\"white\",\"linecolor\":\"white\",\"minorgridcolor\":\"white\",\"startlinecolor\":\"#2a3f5f\"},\"baxis\":{\"endlinecolor\":\"#2a3f5f\",\"gridcolor\":\"white\",\"linecolor\":\"white\",\"minorgridcolor\":\"white\",\"startlinecolor\":\"#2a3f5f\"},\"type\":\"carpet\"}],\"table\":[{\"cells\":{\"fill\":{\"color\":\"#EBF0F8\"},\"line\":{\"color\":\"white\"}},\"header\":{\"fill\":{\"color\":\"#C8D4E3\"},\"line\":{\"color\":\"white\"}},\"type\":\"table\"}],\"barpolar\":[{\"marker\":{\"line\":{\"color\":\"#E5ECF6\",\"width\":0.5},\"pattern\":{\"fillmode\":\"overlay\",\"size\":10,\"solidity\":0.2}},\"type\":\"barpolar\"}],\"pie\":[{\"automargin\":true,\"type\":\"pie\"}]},\"layout\":{\"autotypenumbers\":\"strict\",\"colorway\":[\"#636efa\",\"#EF553B\",\"#00cc96\",\"#ab63fa\",\"#FFA15A\",\"#19d3f3\",\"#FF6692\",\"#B6E880\",\"#FF97FF\",\"#FECB52\"],\"font\":{\"color\":\"#2a3f5f\"},\"hovermode\":\"closest\",\"hoverlabel\":{\"align\":\"left\"},\"paper_bgcolor\":\"white\",\"plot_bgcolor\":\"#E5ECF6\",\"polar\":{\"bgcolor\":\"#E5ECF6\",\"angularaxis\":{\"gridcolor\":\"white\",\"linecolor\":\"white\",\"ticks\":\"\"},\"radialaxis\":{\"gridcolor\":\"white\",\"linecolor\":\"white\",\"ticks\":\"\"}},\"ternary\":{\"bgcolor\":\"#E5ECF6\",\"aaxis\":{\"gridcolor\":\"white\",\"linecolor\":\"white\",\"ticks\":\"\"},\"baxis\":{\"gridcolor\":\"white\",\"linecolor\":\"white\",\"ticks\":\"\"},\"caxis\":{\"gridcolor\":\"white\",\"linecolor\":\"white\",\"ticks\":\"\"}},\"coloraxis\":{\"colorbar\":{\"outlinewidth\":0,\"ticks\":\"\"}},\"colorscale\":{\"sequential\":[[0.0,\"#0d0887\"],[0.1111111111111111,\"#46039f\"],[0.2222222222222222,\"#7201a8\"],[0.3333333333333333,\"#9c179e\"],[0.4444444444444444,\"#bd3786\"],[0.5555555555555556,\"#d8576b\"],[0.6666666666666666,\"#ed7953\"],[0.7777777777777778,\"#fb9f3a\"],[0.8888888888888888,\"#fdca26\"],[1.0,\"#f0f921\"]],\"sequentialminus\":[[0.0,\"#0d0887\"],[0.1111111111111111,\"#46039f\"],[0.2222222222222222,\"#7201a8\"],[0.3333333333333333,\"#9c179e\"],[0.4444444444444444,\"#bd3786\"],[0.5555555555555556,\"#d8576b\"],[0.6666666666666666,\"#ed7953\"],[0.7777777777777778,\"#fb9f3a\"],[0.8888888888888888,\"#fdca26\"],[1.0,\"#f0f921\"]],\"diverging\":[[0,\"#8e0152\"],[0.1,\"#c51b7d\"],[0.2,\"#de77ae\"],[0.3,\"#f1b6da\"],[0.4,\"#fde0ef\"],[0.5,\"#f7f7f7\"],[0.6,\"#e6f5d0\"],[0.7,\"#b8e186\"],[0.8,\"#7fbc41\"],[0.9,\"#4d9221\"],[1,\"#276419\"]]},\"xaxis\":{\"gridcolor\":\"white\",\"linecolor\":\"white\",\"ticks\":\"\",\"title\":{\"standoff\":15},\"zerolinecolor\":\"white\",\"automargin\":true,\"zerolinewidth\":2},\"yaxis\":{\"gridcolor\":\"white\",\"linecolor\":\"white\",\"ticks\":\"\",\"title\":{\"standoff\":15},\"zerolinecolor\":\"white\",\"automargin\":true,\"zerolinewidth\":2},\"scene\":{\"xaxis\":{\"backgroundcolor\":\"#E5ECF6\",\"gridcolor\":\"white\",\"linecolor\":\"white\",\"showbackground\":true,\"ticks\":\"\",\"zerolinecolor\":\"white\",\"gridwidth\":2},\"yaxis\":{\"backgroundcolor\":\"#E5ECF6\",\"gridcolor\":\"white\",\"linecolor\":\"white\",\"showbackground\":true,\"ticks\":\"\",\"zerolinecolor\":\"white\",\"gridwidth\":2},\"zaxis\":{\"backgroundcolor\":\"#E5ECF6\",\"gridcolor\":\"white\",\"linecolor\":\"white\",\"showbackground\":true,\"ticks\":\"\",\"zerolinecolor\":\"white\",\"gridwidth\":2}},\"shapedefaults\":{\"line\":{\"color\":\"#2a3f5f\"}},\"annotationdefaults\":{\"arrowcolor\":\"#2a3f5f\",\"arrowhead\":0,\"arrowwidth\":1},\"geo\":{\"bgcolor\":\"white\",\"landcolor\":\"#E5ECF6\",\"subunitcolor\":\"white\",\"showland\":true,\"showlakes\":true,\"lakecolor\":\"white\"},\"title\":{\"x\":0.05},\"mapbox\":{\"style\":\"light\"}}},\"xaxis\":{\"anchor\":\"y\",\"domain\":[0.0,1.0],\"title\":{\"text\":\"Country\"},\"tickfont\":{\"family\":\"Arial Black\"},\"tickangle\":90},\"yaxis\":{\"anchor\":\"x\",\"domain\":[0.0,1.0],\"title\":{\"text\":\"Average #2 Defects (moldy, insect-damaged, or perforated beans)\"}},\"legend\":{\"tracegroupgap\":0},\"title\":{\"text\":\"Average Category.Two.Defects by Country\",\"x\":0.5},\"barmode\":\"relative\"},                        {\"responsive\": true}                    ).then(function(){\n",
       "                            \n",
       "var gd = document.getElementById('58bf1088-5163-4ec9-aa61-3815486c3183');\n",
       "var x = new MutationObserver(function (mutations, observer) {{\n",
       "        var display = window.getComputedStyle(gd).display;\n",
       "        if (!display || display === 'none') {{\n",
       "            console.log([gd, 'removed!']);\n",
       "            Plotly.purge(gd);\n",
       "            observer.disconnect();\n",
       "        }}\n",
       "}});\n",
       "\n",
       "// Listen for the removal of the full notebook cells\n",
       "var notebookContainer = gd.closest('#notebook-container');\n",
       "if (notebookContainer) {{\n",
       "    x.observe(notebookContainer, {childList: true});\n",
       "}}\n",
       "\n",
       "// Listen for the clearing of the current output cell\n",
       "var outputEl = gd.closest('.output');\n",
       "if (outputEl) {{\n",
       "    x.observe(outputEl, {childList: true});\n",
       "}}\n",
       "\n",
       "                        })                };                });            </script>        </div>"
      ]
     },
     "metadata": {},
     "output_type": "display_data"
    }
   ],
   "source": [
    "columns_to_group = ['Aroma', 'Flavor', 'Aftertaste', 'Acidity', \n",
    "                    'Body', 'Balance', 'Uniformity', 'Clean.Cup', 'Sweetness', \n",
    "                    'Moisture', 'Quakers', 'Category.One.Defects', 'Category.Two.Defects']\n",
    "\n",
    "custom_ylabels = {\n",
    "    'Aroma': 'Average scent or fragrance of the coffee',\n",
    "    'Flavor': 'Average Flavor',\n",
    "    'Aftertaste': 'Average Aftertaste',\n",
    "    'Acidity': 'Average brightness or liveliness of the taste',\n",
    "    'Body': 'Average thickness or viscosity of the coffee in the mouth',\n",
    "    'Balance': 'Average Balance',\n",
    "    'Uniformity': 'Average consistency of the coffee from cup to cup',\n",
    "    'Clean.Cup': 'Average off-flavors or defects free',\n",
    "    'Sweetness': 'Average sweetness offered by its taste',\n",
    "    'Moisture': 'Average moisture content of the coffee beans',\n",
    "    'Quakers': 'Average presence of quaker beans',\n",
    "    'Category.One.Defects': 'Average #1 Defects (black or sour beans)',\n",
    "    'Category.Two.Defects': 'Average #2 Defects (moldy, insect-damaged, or perforated beans)'\n",
    "}\n",
    "\n",
    "columns_to_group = list(custom_ylabels.keys())\n",
    "\n",
    "# Creating plots for each column\n",
    "for column in columns_to_group:\n",
    "    average_column = df.groupby('Country.of.Origin')[column].mean().reset_index()\n",
    "    sorted_column_df = average_column.sort_values(by=column, ascending=False)\n",
    "    fig = px.bar(sorted_column_df, x='Country.of.Origin', y=column,\n",
    "                 labels={'Country.of.Origin': 'Country', column: custom_ylabels[column]},\n",
    "                 title=f'Average {column} by Country')\n",
    "    fig.update_xaxes(tickangle=90, tickfont=dict(family='Arial Black'))\n",
    "    fig.update_layout(title=dict(x=0.5))\n",
    "    fig.show()"
   ]
  },
  {
   "cell_type": "code",
   "execution_count": 33,
   "id": "3e7b5bc0",
   "metadata": {
    "execution": {
     "iopub.execute_input": "2024-04-14T18:08:19.837893Z",
     "iopub.status.busy": "2024-04-14T18:08:19.837498Z",
     "iopub.status.idle": "2024-04-14T18:08:19.980783Z",
     "shell.execute_reply": "2024-04-14T18:08:19.979764Z"
    },
    "papermill": {
     "duration": 0.176225,
     "end_time": "2024-04-14T18:08:19.982987",
     "exception": false,
     "start_time": "2024-04-14T18:08:19.806762",
     "status": "completed"
    },
    "tags": []
   },
   "outputs": [
    {
     "data": {
      "text/html": [
       "<div>                            <div id=\"a8e91b72-d8cd-4b5f-b471-8f1f63532118\" class=\"plotly-graph-div\" style=\"height:800px; width:1200px;\"></div>            <script type=\"text/javascript\">                require([\"plotly\"], function(Plotly) {                    window.PLOTLYENV=window.PLOTLYENV || {};                                    if (document.getElementById(\"a8e91b72-d8cd-4b5f-b471-8f1f63532118\")) {                    Plotly.newPlot(                        \"a8e91b72-d8cd-4b5f-b471-8f1f63532118\",                        [{\"dimensions\":[{\"axis\":{\"matches\":true},\"label\":\"Clean.Cup\",\"values\":[10.0,10.0,10.0,10.0,10.0,10.0,10.0,10.0,10.0,10.0,10.0,10.0,10.0,10.0,10.0,10.0,10.0,10.0,10.0,10.0,10.0,10.0,10.0,10.0,10.0,10.0,10.0,10.0,10.0,10.0,10.0,10.0,10.0,10.0,10.0,10.0,10.0,10.0,10.0,10.0,10.0,10.0,10.0,10.0,10.0,10.0,10.0,10.0,10.0,10.0,10.0,10.0,10.0,10.0,10.0,10.0,10.0,10.0,10.0,10.0,10.0,9.33,10.0,10.0,10.0,10.0,10.0,10.0,10.0,10.0,10.0,10.0,10.0,10.0,10.0,10.0,10.0,10.0,10.0,10.0,10.0,10.0,10.0,10.0,10.0,10.0,10.0,10.0,10.0,10.0,10.0,10.0,10.0,9.33,10.0,10.0,10.0,10.0,10.0,10.0,10.0,10.0,10.0,10.0,10.0,10.0,10.0,10.0,10.0,10.0,10.0,10.0,10.0,10.0,10.0,10.0,10.0,10.0,10.0,10.0,10.0,10.0,10.0,10.0,10.0,10.0,10.0,10.0,10.0,10.0,10.0,10.0,10.0,10.0,10.0,10.0,10.0,10.0,10.0,10.0,10.0,10.0,10.0,10.0,10.0,10.0,10.0,10.0,10.0,10.0,10.0,10.0,10.0,10.0,10.0,10.0,10.0,10.0,10.0,10.0,10.0,10.0,10.0,10.0,10.0,10.0,10.0,10.0,10.0,10.0,10.0,10.0,10.0,10.0,10.0,10.0,10.0,10.0,10.0,10.0,10.0,10.0,10.0,10.0,10.0,10.0,10.0,10.0,10.0,10.0,10.0,10.0,10.0,10.0,10.0,10.0,10.0,10.0,10.0,10.0,10.0,10.0,10.0,10.0,10.0,10.0,10.0,10.0,10.0,10.0,10.0,10.0,10.0,10.0,10.0,10.0,10.0,10.0,10.0,10.0,10.0,10.0,10.0,10.0,10.0,10.0,10.0,10.0,10.0,10.0,10.0,10.0,10.0,10.0,10.0,10.0,10.0,10.0,10.0,10.0,10.0,10.0,10.0,10.0,10.0,10.0,10.0,10.0,10.0,10.0,10.0,10.0,10.0,10.0,8.67,10.0,10.0,10.0,10.0,10.0,10.0,10.0,10.0,10.0,10.0,10.0,10.0,10.0,10.0,10.0,10.0,10.0,10.0,10.0,10.0,10.0,10.0,10.0,10.0,10.0,10.0,10.0,10.0,10.0,10.0,10.0,10.0,10.0,10.0,10.0,10.0,10.0,10.0,10.0,10.0,10.0,10.0,10.0,10.0,10.0,10.0,10.0,10.0,9.33,10.0,10.0,10.0,10.0,10.0,10.0,10.0,10.0,10.0,10.0,10.0,10.0,10.0,10.0,10.0,10.0,10.0,10.0,10.0,10.0,10.0,10.0,10.0,10.0,10.0,9.33,10.0,10.0,10.0,10.0,9.33,10.0,10.0,10.0,10.0,10.0,10.0,10.0,10.0,10.0,10.0,10.0,10.0,10.0,10.0,10.0,10.0,10.0,10.0,10.0,10.0,10.0,10.0,10.0,10.0,10.0,10.0,10.0,10.0,10.0,10.0,10.0,10.0,10.0,10.0,10.0,10.0,10.0,10.0,10.0,10.0,10.0,10.0,10.0,10.0,10.0,10.0,10.0,10.0,10.0,10.0,10.0,10.0,10.0,10.0,10.0,10.0,10.0,10.0,10.0,10.0,10.0,10.0,10.0,10.0,10.0,10.0,10.0,10.0,10.0,10.0,10.0,10.0,10.0,10.0,10.0,10.0,10.0,10.0,10.0,10.0,10.0,10.0,10.0,10.0,10.0,10.0,10.0,10.0,10.0,10.0,10.0,10.0,10.0,10.0,10.0,10.0,10.0,10.0,10.0,10.0,10.0,10.0,10.0,10.0,10.0,10.0,10.0,10.0,10.0,10.0,10.0,10.0,10.0,10.0,10.0,10.0,10.0,9.33,10.0,10.0,10.0,10.0,10.0,10.0,10.0,10.0,10.0,10.0,10.0,10.0,10.0,10.0,10.0,10.0,10.0,10.0,10.0,10.0,10.0,10.0,10.0,9.33,9.33,10.0,10.0,10.0,10.0,10.0,10.0,10.0,10.0,10.0,10.0,10.0,10.0,9.33,10.0,10.0,10.0,10.0,10.0,10.0,10.0,10.0,10.0,10.0,10.0,10.0,10.0,10.0,10.0,10.0,10.0,10.0,10.0,10.0,10.0,10.0,10.0,10.0,10.0,10.0,10.0,10.0,10.0,10.0,10.0,10.0,10.0,10.0,10.0,10.0,10.0,9.33,10.0,10.0,9.33,10.0,10.0,10.0,10.0,10.0,10.0,10.0,10.0,10.0,10.0,10.0,10.0,10.0,10.0,10.0,10.0,10.0,10.0,10.0,10.0,10.0,10.0,10.0,10.0,10.0,10.0,10.0,10.0,10.0,10.0,10.0,9.33,10.0,10.0,10.0,10.0,10.0,10.0,10.0,10.0,10.0,10.0,10.0,10.0,10.0,10.0,10.0,10.0,10.0,10.0,10.0,10.0,10.0,10.0,10.0,10.0,10.0,10.0,10.0,10.0,10.0,10.0,10.0,10.0,10.0,9.33,10.0,10.0,10.0,10.0,10.0,10.0,10.0,10.0,10.0,10.0,10.0,10.0,10.0,10.0,10.0,10.0,10.0,10.0,10.0,10.0,10.0,10.0,10.0,10.0,10.0,10.0,10.0,10.0,10.0,10.0,10.0,10.0,10.0,10.0,10.0,10.0,10.0,10.0,10.0,10.0,10.0,10.0,10.0,10.0,10.0,10.0,10.0,10.0,10.0,10.0,10.0,10.0,10.0,10.0,10.0,10.0,10.0,10.0,10.0,10.0,10.0,10.0,10.0,10.0,10.0,10.0,10.0,10.0,10.0,10.0,10.0,10.0,10.0,10.0,10.0,10.0,10.0,10.0,10.0,10.0,10.0,10.0,10.0,10.0,10.0,10.0,10.0,10.0,10.0,10.0,10.0,10.0,10.0,10.0,10.0,10.0,10.0,10.0,10.0,10.0,10.0,10.0,10.0,10.0,10.0,10.0,10.0,10.0,10.0,10.0,10.0,10.0,10.0,10.0,6.67,10.0,10.0,10.0,10.0,10.0,10.0,10.0,10.0,10.0,10.0,10.0,10.0,9.33,10.0,10.0,10.0,10.0,10.0,10.0,10.0,10.0,10.0,10.0,10.0,10.0,9.33,10.0,10.0,10.0,10.0,10.0,10.0,10.0,10.0,10.0,10.0,10.0,10.0,10.0,10.0,10.0,10.0,10.0,10.0,10.0,10.0,10.0,10.0,10.0,10.0,10.0,10.0,10.0,10.0,10.0,10.0,10.0,10.0,10.0,10.0,10.0,10.0,10.0,10.0,9.33,10.0,10.0,10.0,10.0,10.0,10.0,10.0,10.0,10.0,10.0,10.0,10.0,10.0,10.0,10.0,10.0,10.0,10.0,10.0,10.0,10.0,10.0,10.0,10.0,10.0,10.0,10.0,10.0,10.0,10.0,10.0,10.0,10.0,10.0,10.0,10.0,10.0,10.0,10.0,10.0,10.0,10.0,10.0,10.0,10.0,10.0,10.0,10.0,10.0,10.0,10.0,10.0,10.0,10.0,10.0,10.0,10.0,10.0,10.0,10.0,10.0,10.0,10.0,10.0,10.0,10.0,10.0,10.0,10.0,10.0,10.0,10.0,6.67,9.33,10.0,10.0,10.0,10.0,10.0,9.33,10.0,10.0,10.0,10.0,10.0,10.0,10.0,10.0,10.0,10.0,10.0,10.0,10.0,10.0,10.0,10.0,10.0,10.0,10.0,10.0,10.0,10.0,10.0,10.0,10.0,9.33,10.0,10.0,10.0,10.0,10.0,10.0,10.0,10.0,10.0,10.0,10.0,10.0,10.0,10.0,10.0,10.0,10.0,10.0,10.0,10.0,10.0,10.0,10.0,10.0,10.0,10.0,10.0,10.0,10.0,10.0,10.0,10.0,10.0,10.0,10.0,9.33,10.0,10.0,10.0,10.0,10.0,10.0,10.0,10.0,10.0,10.0,10.0,10.0,10.0,10.0,10.0,10.0,10.0,10.0,10.0,10.0,10.0,10.0,10.0,10.0,10.0,10.0,10.0,10.0,10.0,10.0,10.0,10.0,10.0,10.0,10.0,10.0,10.0,10.0,10.0,10.0,9.33,10.0,10.0,10.0,10.0,10.0,10.0,10.0,10.0,10.0,10.0,10.0,10.0,10.0,10.0,10.0,10.0,10.0,10.0,10.0,10.0,10.0,10.0,10.0,9.33,10.0,10.0,10.0,10.0,10.0,10.0,10.0,10.0,10.0,10.0,10.0,10.0,10.0,10.0,10.0,10.0,10.0,10.0,10.0,10.0,6.67,10.0,10.0,10.0,10.0,10.0,10.0,10.0,9.33,10.0,10.0,10.0,10.0,10.0,10.0,10.0,10.0,10.0,10.0,10.0,10.0,10.0,10.0,10.0,10.0,10.0,10.0,10.0,10.0,10.0,10.0,10.0,10.0,10.0,10.0,10.0,10.0,10.0,10.0,10.0,9.33,10.0,10.0,10.0,9.33,10.0,10.0,10.0,10.0,10.0,10.0,10.0,10.0,10.0,10.0,10.0,10.0,10.0,10.0,10.0,8.67,10.0,10.0,10.0,10.0,10.0,10.0,10.0,10.0,9.33,10.0,10.0,10.0,10.0,10.0,10.0,10.0,10.0,10.0,10.0,10.0,10.0,10.0,10.0,10.0,10.0,10.0,9.33,10.0,10.0,10.0,10.0,10.0,10.0,9.33,8.67,10.0,10.0,10.0,10.0,10.0,10.0,10.0,10.0,10.0,10.0,10.0,9.33,10.0,10.0,10.0,10.0,10.0,10.0,10.0,10.0,10.0,10.0,8.67,10.0,10.0,10.0,10.0,9.33,10.0,10.0,10.0,10.0,10.0,10.0,10.0,9.33,8.67,10.0,10.0,10.0,10.0,10.0,9.33,9.33,10.0,10.0,10.0,8.0,10.0,9.33,10.0,10.0,10.0,9.33,10.0,9.33,10.0,10.0,10.0,10.0,10.0,10.0,10.0,10.0,10.0,10.0,10.0,10.0,10.0,6.67,10.0,10.0,9.33,10.0,10.0,10.0,9.33,10.0,10.0,10.0,10.0,10.0,9.33,10.0,10.0,10.0,10.0,10.0,10.0,10.0,8.67,9.33,10.0,10.0,9.33,10.0,10.0,9.33,10.0,10.0,10.0,10.0,10.0,10.0,9.33,10.0,10.0,10.0,10.0,10.0,10.0,10.0,10.0,9.33,10.0,10.0,6.67,9.33,9.33,10.0,10.0,10.0,10.0,8.0,10.0,10.0,9.33,10.0,8.67,8.67,10.0,9.33,10.0,10.0,8.67,9.33,9.33,10.0,10.0,9.33,9.33,10.0,10.0,8.67,10.0,10.0,9.33,9.33,10.0,10.0,8.0,9.33,9.33,10.0,9.33,8.67,5.33,10.0,10.0,10.0,9.33,8.67,10.0,8.67,8.0,10.0,10.0,7.33,8.67,10.0,8.0,8.0,10.0,8.0,6.0,6.67,7.33,6.67,8.67,5.33,10.0,10.0,7.33,8.67,10.0,6.67,6.67,2.67,6.67,8.0,8.0,8.0,6.67,6.67,5.33,6.67,2.67,6.0,6.0,6.0,8.0,8.0,8.0,0.0,6.0,6.0,1.33,0.0]},{\"axis\":{\"matches\":true},\"label\":\"Quakers\",\"values\":[0,0,0,0,0,0,0,0,0,0,0,0,0,0,0,0,0,0,0,0,0,0,0,0,0,0,0,0,0,0,0,0,0,0,0,0,0,0,0,0,0,0,0,0,0,0,0,0,0,0,0,0,1,0,0,1,0,0,0,4,0,0,0,0,0,0,0,0,0,0,0,0,0,0,0,0,0,0,0,0,0,0,0,2,0,0,0,0,1,0,0,0,0,0,0,0,0,0,1,0,5,0,0,0,0,0,6,0,0,0,0,0,0,0,0,0,0,0,0,0,0,0,0,0,0,0,0,0,0,0,0,0,0,0,0,0,0,0,0,0,0,0,0,0,0,0,1,0,0,0,0,0,0,0,0,0,0,0,0,0,0,0,0,0,0,0,0,0,0,0,0,0,0,0,0,0,0,0,0,0,0,3,1,2,0,0,0,0,0,0,0,0,0,0,4,0,0,0,0,0,0,0,0,0,0,0,0,0,0,0,0,0,0,0,1,0,0,0,0,0,0,0,0,0,0,0,0,0,0,0,0,0,3,0,0,0,0,0,0,0,2,11,0,0,0,0,0,0,0,0,0,0,0,0,0,0,0,0,0,0,0,2,0,0,3,0,0,0,0,0,0,0,0,0,0,2,0,7,0,0,0,0,0,0,0,0,0,0,0,0,0,0,0,0,0,0,0,0,0,0,1,0,0,0,0,0,0,0,0,0,0,0,0,0,0,0,0,0,2,0,0,0,0,0,0,0,0,0,0,0,0,0,0,0,0,0,1,0,1,0,0,0,0,0,0,0,0,0,0,0,0,0,0,0,0,2,0,0,0,0,0,0,0,0,0,0,0,0,0,0,0,0,0,0,0,2,0,0,0,0,0,0,0,0,0,0,0,0,0,0,0,0,0,0,0,0,1,0,0,0,0,0,0,0,0,0,0,0,0,0,0,0,0,0,0,0,0,0,0,2,0,0,0,0,0,0,0,0,0,0,0,0,0,0,0,0,0,0,0,0,0,0,0,1,0,2,1,0,0,0,0,0,0,0,0,0,0,0,0,0,0,0,0,0,0,0,0,0,0,0,0,0,0,0,0,0,0,0,1,2,2,0,0,0,0,0,0,0,0,0,0,0,0,0,0,0,0,3,2,0,5,0,0,0,0,0,0,0,0,0,0,0,0,0,0,0,0,0,0,0,0,0,0,0,0,0,0,0,0,0,0,0,0,0,0,0,0,0,0,0,0,0,0,0,0,0,0,0,0,0,0,0,0,0,0,0,0,0,0,0,1,2,0,0,0,0,0,0,0,0,0,0,0,0,0,0,0,0,1,0,0,0,0,0,0,0,0,0,1,2,0,0,0,0,0,0,0,0,0,0,0,0,0,0,0,0,0,0,2,0,0,2,0,0,0,0,0,0,0,0,0,0,0,0,0,0,0,0,0,0,0,0,0,1,5,0,0,9,0,0,0,0,0,0,0,0,0,0,0,0,0,0,0,0,0,0,2,0,0,0,0,0,0,0,0,0,0,0,0,0,0,0,0,0,1,1,0,0,2,0,0,1,0,0,0,0,0,0,0,0,0,0,0,0,0,0,0,0,0,0,0,0,0,0,0,1,3,4,2,1,2,6,0,0,0,0,0,0,0,0,0,0,0,0,0,0,0,0,0,0,0,0,0,0,6,0,2,0,0,0,0,0,0,0,0,0,0,0,0,0,0,0,0,0,0,1,1,0,0,0,0,0,0,0,0,0,0,0,0,0,0,0,0,0,0,0,0,7,1,0,0,0,0,0,0,0,0,0,0,0,0,0,0,0,1,2,0,0,0,0,0,0,0,0,0,0,0,0,0,0,0,0,0,0,0,2,0,0,0,0,0,0,0,0,0,0,0,0,0,0,0,0,0,0,1,1,0,0,0,0,0,0,0,0,0,0,0,0,0,0,0,0,0,0,0,0,0,0,1,0,0,0,0,0,0,0,0,0,0,0,0,1,0,0,0,1,0,0,0,0,0,0,0,0,0,0,0,0,0,0,0,0,0,0,1,0,0,0,0,0,0,0,0,0,0,0,0,0,0,0,0,0,0,0,0,0,0,0,0,0,0,0,0,0,0,0,0,0,0,0,0,0,0,5,0,0,0,0,0,0,0,0,0,0,0,0,0,0,0,0,2,2,0,0,0,0,0,0,0,0,0,0,0,0,0,0,0,0,0,0,0,0,0,0,0,0,0,0,0,0,0,0,0,0,0,0,0,0,0,0,0,0,0,0,0,0,0,6,2,2,0,4,0,0,0,0,0,0,0,0,0,0,0,0,0,0,0,0,0,0,0,0,0,0,0,0,0,0,0,0,0,0,0,0,0,0,0,0,0,0,0,0,0,0,0,0,0,0,0,0,0,0,0,0,0,0,0,0,0,0,1,0,0,0,0,0,0,0,0,0,0,0,0,0,0,0,0,0,0,0,0,0,0,0,0,0,0,0,0,0,0,0,0,1,0,0,0,0,0,0,0,0,0,0,0,0,0,0,0,0,0,0,0,0,0,0,0,0,0,0,0,0,0,0,0,0,0,0,0,0,0,0,0,0,0,0,0,0,1,0,0,0,0,4,0,0,0,0,0,0,0,0,0,0,0,0,2,0,0,0,0,0,0,0,0,0,0,0,0,0,0,0,0,0,0,0,0,0,0,0,0,0,0,0,0,8,0,0,0,0,0,0,0,0,0,0,0,0,0,0,0,0,0,0,2,0,0,0,0,0,0,0,5,0,0,0,0,0,0,0,0,0,0,0,0,0,0,0,0,0,0,0,0,0,0,0,0,0,0,0,0,0,0,0,0,0,0,0,0,0,0,0,0,0,0,0,0,0,7,0,0,0,0,0,0,0,0,0,0,0,0,1,0,0,0,0,0,0,0,0,0,0,0,0,0,0,0,0,0,0,1,0,0,0,0,0,0,0,0,0,1,0,0,0,0,0,0,0,0]},{\"axis\":{\"matches\":true},\"label\":\"Aftertaste\",\"values\":[8.67,8.5,8.42,8.42,8.25,8.42,8.33,8.5,8.58,8.5,8.25,8.17,8.33,8.08,8.5,8.58,7.83,8.25,8.08,8.0,8.08,8.0,8.17,8.17,7.92,8.0,8.08,8.17,8.08,8.0,8.0,8.17,8.0,8.0,7.92,8.0,8.0,8.08,8.08,8.0,7.83,7.92,8.0,7.75,8.0,8.0,7.83,7.83,7.83,7.83,8.0,7.75,7.92,7.92,8.0,7.92,7.92,8.0,7.83,7.83,8.0,7.83,8.0,8.0,7.92,7.83,7.83,7.83,7.67,7.67,7.83,7.83,7.75,8.0,7.83,8.0,7.83,8.0,7.58,7.75,7.92,7.92,7.75,7.75,7.83,7.92,7.67,7.67,7.58,7.58,7.42,7.83,7.75,7.92,7.83,8.25,7.75,7.75,7.58,7.83,7.92,7.75,7.83,7.75,7.75,7.67,7.67,7.75,8.0,7.83,7.83,7.75,7.75,7.75,7.83,7.83,7.67,7.75,7.83,7.92,7.75,7.58,8.0,8.0,7.58,7.5,7.75,7.75,7.67,7.58,7.83,7.75,7.75,7.83,7.75,7.75,7.75,7.83,7.67,7.67,7.67,7.75,7.75,7.75,7.83,7.58,7.58,7.83,7.67,7.67,7.58,7.83,7.75,7.83,7.75,7.75,7.75,7.5,7.92,7.67,7.67,7.83,7.83,7.75,7.67,7.67,7.42,7.75,7.67,7.88,7.75,7.83,7.83,7.75,7.67,7.75,7.5,7.75,7.83,7.83,7.75,7.5,7.58,7.75,8.0,7.33,7.75,7.5,7.5,7.92,7.75,7.75,7.75,7.75,7.58,7.5,7.58,7.75,7.75,7.83,7.83,7.75,7.75,7.5,7.75,7.92,7.67,7.75,7.67,7.58,7.58,7.58,7.67,7.58,7.58,7.58,7.5,7.83,7.75,7.67,7.58,7.75,7.67,7.67,7.75,7.75,7.67,7.5,7.75,7.5,7.5,7.56,7.42,7.67,7.5,7.67,7.67,7.83,7.67,7.83,7.67,7.67,7.75,7.58,7.83,7.42,7.5,7.67,7.75,7.5,7.5,7.67,7.67,7.5,8.17,7.67,7.58,7.58,7.58,7.58,7.5,7.67,7.83,7.5,7.5,7.58,7.5,7.58,7.67,7.92,7.67,7.58,7.58,7.83,7.5,7.5,7.75,7.5,7.5,7.42,7.67,7.67,7.58,7.5,7.33,7.33,7.58,7.58,7.5,7.67,7.5,7.58,7.58,7.58,7.58,7.5,7.58,7.58,7.58,7.5,7.67,7.5,7.58,7.83,7.67,7.42,7.75,7.75,7.67,7.58,7.58,7.58,7.25,7.75,7.5,7.67,7.67,7.67,7.58,7.33,7.67,7.58,7.5,7.33,7.67,7.67,7.42,7.33,7.58,7.83,7.5,7.5,7.58,7.33,7.92,7.58,7.5,7.58,7.58,7.58,7.58,7.58,7.42,7.67,7.67,7.5,7.75,7.58,7.58,7.58,7.5,7.58,7.17,7.5,7.58,7.5,7.58,7.58,7.58,7.5,7.67,7.25,7.5,7.33,7.67,7.42,7.58,7.25,7.67,7.67,7.5,7.58,7.75,7.58,7.58,7.58,7.5,7.5,7.42,7.0,7.33,7.75,7.75,7.58,7.75,7.58,7.25,7.33,7.5,7.75,7.67,7.58,7.58,7.42,7.5,7.38,7.75,7.58,7.58,7.33,7.5,7.42,7.67,7.58,7.42,7.83,7.67,7.58,7.67,7.5,7.17,7.58,7.33,7.67,7.83,7.58,7.42,7.83,7.42,7.42,7.67,7.42,7.67,7.5,7.5,7.75,7.5,7.58,7.67,7.5,7.83,7.58,7.42,7.08,7.5,7.58,7.5,7.25,7.67,7.5,7.5,7.33,7.42,7.5,7.08,7.42,7.5,7.33,7.5,7.33,7.5,7.42,7.67,7.58,7.67,7.5,7.5,7.5,7.5,7.5,7.17,7.58,7.58,7.33,7.58,7.58,7.42,7.5,7.42,7.5,7.58,7.58,7.5,7.67,7.58,7.67,8.17,7.67,7.33,7.5,7.58,7.67,7.5,7.58,7.67,7.5,7.58,7.5,7.33,7.42,7.5,7.58,7.33,7.33,7.5,7.67,7.5,7.58,7.58,7.42,7.5,7.33,7.58,7.33,7.33,7.25,7.67,7.83,7.5,7.67,7.42,7.5,7.42,7.33,7.58,7.75,7.42,7.42,7.42,7.5,7.5,7.5,7.5,7.58,7.5,7.58,7.58,7.58,7.67,7.42,7.67,7.75,7.42,7.5,7.75,7.5,7.25,7.5,7.67,7.67,7.67,7.25,7.42,7.5,7.5,7.58,7.42,7.42,7.25,7.75,7.25,7.25,7.42,7.33,7.17,7.67,7.5,7.33,7.5,7.42,7.33,7.58,7.67,7.75,7.5,7.33,7.33,7.5,7.25,7.75,7.58,7.5,7.33,7.5,7.42,7.33,7.5,7.75,7.42,7.5,7.17,7.42,7.42,7.42,7.33,7.33,7.17,7.42,7.42,7.58,7.33,7.42,7.58,7.42,7.25,7.42,7.42,7.75,7.17,7.5,7.33,8.0,7.42,7.58,7.5,7.5,7.5,7.25,7.5,7.42,7.67,7.42,7.33,7.42,7.58,7.5,7.5,7.83,7.42,7.33,7.5,7.5,7.67,7.5,7.17,7.83,7.42,7.58,7.42,7.5,7.25,7.67,7.33,7.42,7.5,7.42,7.0,7.5,7.42,7.42,7.58,7.33,7.42,7.5,7.42,7.42,7.33,7.75,7.42,7.5,7.58,7.58,7.33,7.5,7.25,7.33,7.33,7.5,7.5,7.33,7.42,7.5,7.67,7.33,7.42,7.17,7.5,7.33,7.33,7.33,7.33,7.33,7.33,7.67,7.17,7.33,7.25,7.25,7.08,7.83,7.42,7.33,7.42,7.33,7.5,7.42,7.33,7.58,7.25,7.5,7.42,7.33,7.42,7.5,7.33,7.25,7.33,7.17,7.33,7.33,7.42,7.25,7.42,7.17,7.42,7.33,7.5,7.42,7.42,7.25,7.5,7.42,7.25,7.5,7.17,7.42,7.67,7.5,7.42,7.5,7.5,7.5,7.58,7.5,7.42,7.25,7.33,7.58,7.5,7.33,7.42,7.33,7.25,7.33,7.25,7.0,7.25,7.5,7.5,7.42,7.33,7.42,7.42,7.5,7.5,7.33,7.42,7.33,7.33,7.42,7.42,7.67,7.33,7.42,7.58,7.5,7.17,7.33,7.42,7.42,7.42,7.17,7.25,7.5,7.42,7.42,7.17,7.33,7.5,7.5,7.25,7.0,7.0,7.25,7.5,7.42,7.42,7.42,7.42,7.58,7.42,7.42,7.5,7.42,7.33,7.58,7.5,7.42,7.25,7.17,7.25,7.33,7.67,7.17,7.25,7.42,7.33,7.25,7.33,7.33,7.17,7.42,7.33,7.33,7.58,7.33,7.42,7.25,7.33,7.25,7.33,7.17,7.33,7.08,7.25,7.25,7.25,7.33,7.33,7.17,7.33,7.25,7.42,7.33,7.42,7.25,7.25,7.25,7.17,7.33,7.25,7.33,7.25,7.5,7.42,7.58,7.33,6.83,6.92,7.5,7.33,7.33,7.5,7.17,7.42,7.33,7.25,7.33,7.25,7.0,7.83,7.5,7.33,7.25,7.25,7.25,7.17,7.83,7.25,7.33,7.42,7.17,7.33,7.17,7.33,7.33,7.25,7.33,6.92,7.25,7.08,7.17,7.33,7.33,7.25,7.75,6.92,7.25,7.5,7.25,7.33,7.5,7.17,7.67,7.5,7.33,7.08,7.33,7.58,7.17,7.33,7.25,7.25,7.33,7.08,7.08,7.25,7.5,7.33,7.17,7.08,7.33,7.17,7.42,7.25,7.42,7.58,7.17,7.33,7.17,7.33,7.33,7.25,7.33,7.25,7.08,6.92,7.17,7.67,7.5,7.25,7.25,7.17,7.25,7.17,7.33,7.33,7.25,7.17,7.17,7.33,7.17,7.33,7.08,7.08,7.5,7.17,7.42,7.33,7.42,7.17,7.25,7.17,7.25,7.25,7.25,7.25,7.42,7.0,7.33,7.0,7.0,7.33,7.17,7.42,7.42,7.08,7.17,7.25,7.17,7.5,7.67,7.17,7.33,7.17,7.17,7.17,7.25,7.5,7.33,7.17,7.17,7.08,7.33,7.0,7.42,7.25,7.17,7.33,7.33,7.17,7.08,7.33,7.25,7.67,7.17,7.5,7.33,7.33,7.33,7.17,7.67,7.33,7.33,7.25,7.25,7.25,7.17,7.08,7.17,7.17,7.42,7.0,7.17,7.25,7.83,7.08,7.17,7.33,7.25,7.33,7.5,7.25,7.33,7.5,7.17,7.0,7.17,7.17,7.25,7.33,7.17,7.25,6.92,7.25,7.08,7.25,7.08,7.33,7.17,7.08,7.25,7.33,7.33,7.0,7.0,7.08,7.0,7.0,7.17,7.0,7.17,7.08,7.08,7.25,7.42,7.42,7.17,7.08,7.0,6.83,7.67,7.17,7.17,7.42,7.0,7.5,7.33,7.08,7.33,7.0,7.08,7.33,7.0,6.83,7.5,7.0,7.17,7.08,7.0,7.17,7.17,7.17,6.83,7.08,7.33,7.0,7.08,7.0,7.17,7.08,7.25,7.17,7.08,7.08,7.17,7.0,7.25,7.08,6.83,7.08,6.92,7.25,7.42,7.0,7.0,7.0,7.08,7.0,7.67,7.83,7.25,7.33,7.17,7.25,7.08,7.0,7.0,6.92,7.33,7.17,7.0,7.33,7.0,7.25,6.92,7.25,7.25,7.25,7.25,7.0,6.92,7.0,7.42,7.25,7.08,7.08,7.0,7.5,7.58,7.0,7.08,6.92,7.0,7.08,7.0,7.08,7.58,7.0,6.92,7.17,7.0,6.83,7.25,7.17,7.25,6.92,7.0,7.67,7.0,6.92,7.0,7.17,7.0,7.5,6.92,7.25,7.0,6.83,6.83,6.83,7.0,7.17,7.0,6.92,6.92,7.0,6.83,7.0,7.17,7.42,6.92,7.0,7.25,6.83,6.83,6.83,6.75,6.83,7.08,6.33,6.83,6.92,7.33,6.75,6.92,6.75,7.5,6.92,6.92,6.83,7.42,6.75,6.92,6.75,7.25,6.58,7.0,7.08,6.67,6.92,6.83,6.75,6.92,6.92,6.92,6.33,6.83,7.17,6.83,6.83,6.67,6.75,6.92,6.92,7.17,6.75,7.58,7.08,6.92,6.83,7.0,6.92,7.0,7.58,6.67,6.5,7.0,6.17,7.33,7.33,6.92,6.67,7.33,6.67,7.5,6.83,6.92,6.83,7.0,7.0,7.42,7.0,6.17,7.0,6.67,6.67,6.58,7.58,6.58,6.33,7.42,6.83,6.67,6.83,6.83,7.0,7.42,7.17,6.42,6.5,6.58,6.83,6.5,6.83,7.33,6.83,6.5,6.83,6.67,6.5,6.83,7.17,6.33,6.92,6.67,6.67,6.83,6.75,6.58,6.67,6.17,6.17,6.83,7.0,6.5,6.67,6.17,7.17,7.17,6.58,6.83,6.92,7.75,6.92,7.08,6.33,6.92,6.42,6.83,6.83,6.17,6.17,6.17,6.25,6.42,6.33,6.67,0.0]},{\"axis\":{\"matches\":true},\"label\":\"Balance\",\"values\":[8.42,8.42,8.42,8.25,8.33,8.33,8.25,8.5,8.42,8.42,8.17,8.17,8.08,8.0,8.75,8.0,8.42,8.33,8.0,8.33,8.0,8.33,8.17,8.17,8.0,8.0,8.17,7.92,8.0,8.17,8.08,8.0,8.0,8.0,8.08,7.92,7.83,7.83,8.17,8.08,7.92,8.0,8.0,7.83,8.08,8.0,7.92,8.17,7.92,7.92,8.0,7.83,7.83,7.75,8.0,8.0,7.92,8.0,7.83,8.0,7.75,8.25,7.83,8.17,8.0,8.58,7.92,8.08,7.92,8.0,7.83,7.83,7.92,8.0,7.83,7.75,8.58,8.08,8.5,7.75,7.75,7.83,7.75,7.83,7.83,7.92,7.83,7.67,7.92,7.75,7.92,8.17,7.83,8.0,7.83,7.75,7.75,7.83,7.83,7.83,7.83,7.75,7.67,7.83,8.0,7.67,7.83,8.0,7.92,7.75,8.0,7.92,7.75,7.75,7.75,7.83,7.75,8.0,7.67,7.83,7.75,7.83,7.67,7.92,7.67,7.67,7.75,7.83,7.92,7.75,7.75,7.67,8.58,7.75,8.0,7.75,7.83,7.75,8.0,7.83,7.83,7.75,7.83,7.92,7.92,7.83,7.67,7.83,7.83,7.67,8.5,8.0,7.75,7.92,7.67,7.83,7.75,7.83,7.58,7.75,7.67,7.58,7.67,7.58,7.83,7.75,7.67,7.83,7.83,8.25,7.75,7.58,7.83,7.67,7.75,7.75,7.92,7.67,7.75,7.92,7.75,8.5,7.75,7.83,7.83,8.08,7.67,7.67,7.75,7.92,7.92,7.83,7.67,8.0,7.75,7.67,7.75,7.92,7.75,7.75,7.83,7.67,7.75,7.75,7.83,8.08,7.75,7.58,7.75,7.58,7.75,7.83,7.67,7.83,7.67,7.67,7.83,7.83,7.75,8.0,7.83,7.58,8.58,7.75,7.83,8.0,7.92,8.17,7.75,7.83,7.75,7.75,8.5,7.83,7.67,7.67,7.67,8.08,7.75,7.92,7.75,7.75,7.58,7.67,7.83,7.83,7.67,7.75,7.92,7.67,7.92,7.75,7.75,7.67,8.17,7.67,7.83,7.75,7.5,7.5,7.83,7.83,7.75,7.75,7.92,7.67,7.67,7.75,7.67,7.33,7.83,7.83,7.75,7.67,7.67,7.75,7.75,7.58,7.67,7.83,7.75,7.67,8.17,7.83,7.75,7.5,7.83,7.67,7.67,7.5,7.75,7.58,7.58,7.83,7.5,7.75,7.67,7.58,7.83,7.5,7.67,7.83,7.5,8.17,7.67,8.33,7.67,8.0,8.25,7.67,7.75,7.67,8.5,7.5,7.5,7.67,8.0,7.58,7.58,7.67,7.5,7.58,7.67,8.0,7.67,7.75,7.75,7.83,7.75,7.75,7.83,8.25,7.67,7.67,8.0,7.58,7.58,7.58,7.75,7.58,7.67,7.67,7.67,7.67,7.75,7.83,7.58,7.58,7.58,7.75,7.58,7.5,7.0,7.67,7.75,7.58,7.67,7.58,7.58,7.67,7.67,7.58,7.67,7.83,7.67,7.67,7.75,7.42,7.5,7.5,7.5,7.67,7.67,7.67,7.58,7.83,7.67,7.58,7.67,7.0,7.58,7.67,7.67,7.67,7.83,7.58,8.58,7.67,7.5,7.75,7.67,7.75,7.67,7.58,7.42,8.75,7.58,7.75,7.58,7.92,7.58,7.42,7.58,7.58,7.67,8.0,7.17,7.58,7.42,7.42,7.67,7.67,7.75,7.58,7.58,7.67,7.5,7.67,7.67,7.58,7.67,7.42,7.83,7.58,7.83,7.33,7.75,7.5,7.67,7.58,7.67,7.58,7.5,8.08,7.58,7.58,7.67,7.58,7.5,7.67,7.58,7.58,7.58,7.5,8.58,7.5,7.67,7.67,7.58,7.67,7.5,7.5,8.5,7.67,7.58,7.67,7.58,7.58,7.67,7.67,7.67,7.67,7.58,7.67,7.42,7.58,7.58,8.17,7.58,7.67,7.5,7.58,7.5,8.0,7.5,7.58,7.58,7.92,7.58,7.75,7.58,7.42,7.25,7.67,7.5,7.67,7.67,7.5,7.67,7.5,8.0,7.58,8.08,7.92,7.58,7.67,7.5,7.5,7.42,7.5,7.5,7.58,7.67,7.5,7.42,7.5,7.5,7.25,7.5,7.83,7.5,7.5,7.67,7.17,7.67,7.58,7.42,7.58,7.58,7.67,7.58,7.5,7.75,7.42,7.83,7.42,7.67,7.92,7.83,7.67,7.58,8.08,7.5,7.5,7.83,7.58,7.58,7.58,7.75,7.5,7.5,7.5,7.5,7.67,7.42,7.5,7.5,7.5,7.58,7.58,7.5,7.17,7.58,7.75,7.42,7.42,7.83,7.83,8.0,7.5,7.58,7.42,7.67,7.75,7.42,7.5,7.33,7.67,7.75,7.17,7.58,7.5,7.75,7.5,7.42,7.92,7.58,7.5,7.5,7.42,7.58,7.5,7.5,7.5,7.67,7.67,7.67,7.5,7.5,7.58,7.67,7.5,7.5,7.5,7.67,7.67,7.5,8.0,8.58,7.5,7.58,7.92,7.58,7.42,7.67,7.75,7.42,7.5,7.42,7.5,7.67,7.17,7.75,7.5,7.5,7.58,7.58,7.25,7.5,7.5,7.5,7.5,7.42,7.58,7.5,7.83,7.5,7.42,7.67,7.58,7.58,7.17,7.83,7.5,7.5,7.33,7.0,7.67,7.5,7.5,7.5,7.5,7.42,7.75,7.67,7.58,7.83,7.58,7.42,7.5,6.83,7.5,7.5,7.5,7.33,7.5,7.5,7.42,7.5,7.5,7.58,7.5,7.67,7.5,7.58,7.67,7.42,7.33,7.42,7.83,7.5,7.67,7.67,7.58,7.5,7.5,7.33,7.5,7.5,8.08,7.42,7.42,7.42,7.42,7.5,7.5,7.42,7.58,7.5,7.67,7.5,7.5,7.58,7.5,7.5,7.33,7.5,7.5,7.5,7.33,7.33,7.67,7.42,7.58,7.83,7.42,7.5,7.58,7.5,7.67,7.58,7.42,8.08,7.58,7.5,7.5,8.0,7.5,7.5,8.33,7.5,7.5,7.58,7.58,7.42,7.58,7.33,7.58,7.5,7.5,7.42,7.67,7.5,7.42,7.33,7.0,7.42,7.42,8.42,7.42,7.5,7.33,7.42,7.42,7.42,7.33,7.42,7.42,7.5,7.5,7.5,7.33,7.5,7.58,7.67,7.5,7.5,7.42,7.42,7.33,7.5,7.67,7.42,7.5,7.42,7.42,8.17,7.42,7.5,7.58,7.5,7.5,7.75,7.33,7.5,7.75,7.42,7.58,7.25,7.92,7.42,7.58,7.5,7.42,7.67,7.42,7.42,7.5,7.33,7.08,7.42,7.83,7.58,7.42,7.5,7.42,7.42,7.5,7.42,7.5,7.33,7.42,7.5,7.83,7.58,7.5,7.42,7.42,7.5,7.42,7.67,7.42,7.67,7.67,7.5,7.42,7.5,7.33,7.67,7.33,7.58,7.67,7.42,7.5,7.5,7.25,7.5,7.33,7.33,7.5,7.5,7.33,7.42,7.42,7.25,7.83,7.25,7.25,7.5,7.33,7.33,7.25,7.42,7.33,7.42,7.42,7.33,7.33,7.42,7.58,7.83,7.75,7.83,7.33,7.5,7.25,7.33,7.75,7.33,7.33,7.33,8.25,7.25,7.42,7.33,7.25,7.25,7.67,8.0,7.25,7.42,7.42,7.25,7.33,7.25,7.83,7.58,7.42,7.33,7.42,7.42,7.17,7.08,7.5,7.25,7.33,7.33,7.33,7.58,7.25,7.42,7.17,7.33,7.83,7.33,7.33,7.25,7.58,7.33,7.33,8.25,7.25,7.5,7.42,7.17,7.42,7.5,7.33,7.75,7.42,7.33,7.25,7.25,7.25,7.33,7.5,7.17,7.42,7.5,7.83,7.33,7.33,7.5,7.33,8.0,7.42,7.42,7.58,7.33,7.33,7.33,7.33,7.83,7.33,7.25,7.42,7.42,7.08,7.42,7.33,7.42,7.42,7.42,7.5,7.42,7.33,7.75,7.25,7.5,7.42,7.33,7.08,7.42,7.17,7.33,7.5,7.25,7.33,7.25,7.33,7.83,7.75,8.17,7.25,7.25,7.33,7.42,7.25,7.25,7.42,7.17,7.17,7.25,7.17,7.33,7.42,7.5,7.25,7.33,7.58,7.25,7.17,7.42,7.17,7.67,7.17,7.58,7.33,7.33,7.33,7.58,7.67,7.33,7.42,7.25,7.25,7.17,7.17,7.58,7.17,7.17,7.75,7.25,7.33,7.17,7.75,7.33,7.42,7.33,7.17,7.25,7.5,7.25,7.5,7.75,7.33,7.0,7.25,7.33,7.33,7.08,7.33,7.42,7.17,7.25,8.08,7.25,7.25,7.0,7.25,7.25,7.33,7.17,7.17,7.5,7.67,7.58,7.08,7.17,7.25,7.17,7.17,7.25,7.33,7.17,7.5,7.33,7.67,7.33,7.5,7.17,7.5,7.17,7.42,7.75,7.0,7.33,7.17,7.42,7.25,7.0,7.25,7.25,7.0,7.25,7.83,7.33,7.25,7.17,7.08,7.17,7.25,7.08,7.17,7.5,7.42,7.0,7.17,7.0,7.17,7.17,7.17,7.25,7.17,7.17,7.08,7.08,7.08,7.25,7.17,7.17,7.33,8.0,7.0,7.0,7.0,6.92,7.33,7.25,7.58,7.58,7.25,7.17,7.0,7.33,7.08,7.08,7.17,7.08,7.17,7.0,7.0,7.33,7.25,7.0,7.25,7.0,7.08,7.08,7.08,7.17,7.17,7.0,7.5,7.0,7.08,7.33,7.0,7.58,7.17,7.17,7.17,7.08,7.08,7.33,7.17,7.08,7.58,7.25,7.33,7.08,7.0,7.17,7.42,7.83,7.17,6.92,7.42,7.58,6.92,6.92,7.08,7.0,7.0,7.33,7.08,7.33,7.17,7.08,7.17,6.58,7.0,7.08,6.92,7.08,7.0,7.33,7.0,7.0,7.0,7.5,7.08,7.17,7.42,7.17,7.17,7.08,7.25,6.92,7.08,7.33,7.08,7.08,7.42,6.92,6.92,6.92,7.83,7.17,7.0,7.08,7.67,6.92,7.08,7.0,7.08,6.83,7.0,7.5,7.08,7.0,6.92,7.25,6.75,7.0,7.42,7.0,7.0,7.0,7.17,7.17,6.92,6.92,7.08,7.17,6.92,6.92,7.5,7.33,7.58,6.92,7.08,6.83,7.0,7.92,7.17,6.83,7.42,7.33,7.42,7.75,6.83,6.92,7.5,6.83,7.33,6.92,7.0,6.83,7.08,7.17,6.83,7.08,6.83,7.0,6.83,6.83,7.17,7.42,6.75,7.0,6.92,7.17,6.92,6.92,7.42,7.25,7.83,7.42,6.92,6.92,6.58,7.33,6.83,6.83,7.25,6.83,6.33,7.08,6.83,7.0,7.0,7.17,6.75,6.83,7.75,6.83,6.67,6.83,6.75,7.0,6.75,6.58,6.83,7.33,6.83,6.83,6.75,7.33,6.92,6.42,7.17,6.92,7.67,7.17,6.67,6.5,7.0,6.5,6.92,6.83,6.17,6.17,6.17,6.75,6.67,6.08,6.67,0.0]},{\"axis\":{\"matches\":true},\"label\":\"Category.One.Defects\",\"values\":[0,0,0,0,0,0,0,0,0,0,0,0,0,0,0,0,0,0,0,0,0,0,0,0,0,0,0,0,0,0,0,0,0,0,0,0,1,2,0,0,1,0,0,0,0,0,0,1,0,0,0,0,0,0,1,0,0,0,0,0,4,0,0,0,0,2,0,0,0,0,0,0,4,0,0,0,0,0,0,0,0,0,0,0,0,0,0,0,0,0,2,2,0,1,0,0,0,0,1,0,0,0,0,0,0,0,1,0,0,0,0,0,0,0,1,0,0,3,0,0,0,0,0,0,0,0,0,0,0,0,0,0,0,0,1,0,0,0,0,0,0,0,0,0,0,0,0,0,0,0,0,0,0,0,0,0,0,0,0,0,0,0,1,0,0,0,0,0,0,0,2,0,0,0,0,0,0,2,0,0,0,0,0,0,6,0,0,0,0,0,1,0,0,0,0,0,0,0,4,0,3,0,0,0,0,1,0,0,0,4,0,0,0,0,0,0,0,0,0,0,0,0,0,0,0,0,0,0,0,0,0,0,1,0,0,0,0,1,1,0,1,3,0,0,2,0,0,0,0,0,4,0,0,0,0,0,10,0,0,0,0,0,0,1,1,0,0,1,0,0,0,10,0,0,1,1,0,0,0,0,0,0,0,0,0,0,0,0,0,0,0,0,0,0,0,0,0,0,0,1,0,0,0,0,0,0,0,0,0,5,0,0,0,0,0,0,0,0,0,0,0,0,0,0,0,0,1,0,0,0,0,4,0,0,0,0,0,0,0,0,1,0,0,0,0,0,0,0,0,0,0,0,0,0,0,0,0,0,0,1,1,0,0,2,0,1,0,0,0,0,0,0,3,0,0,0,0,0,0,0,0,0,0,4,0,0,0,0,0,0,0,0,1,0,0,2,0,0,1,1,0,0,0,0,0,0,0,0,0,0,0,0,0,0,0,0,0,0,0,0,0,0,0,0,0,0,0,0,0,0,0,0,0,0,0,0,0,0,0,0,0,0,0,0,0,2,0,0,0,0,0,0,0,0,0,0,0,10,0,0,0,0,0,0,0,3,0,1,0,0,0,0,0,0,0,0,0,0,0,1,0,0,0,0,0,0,0,0,0,0,1,0,0,1,0,0,0,0,0,0,0,0,0,0,0,0,0,0,0,0,1,0,0,1,0,0,0,1,0,0,5,1,0,0,0,0,0,0,0,0,0,0,0,0,0,0,31,1,0,0,0,0,2,0,0,0,0,0,0,0,0,0,3,0,0,1,0,0,0,0,1,0,0,0,11,0,2,0,0,0,4,0,0,2,0,0,0,1,0,0,0,0,0,0,0,0,0,0,0,0,0,0,0,0,0,0,6,0,0,0,0,1,0,0,0,0,0,0,0,0,0,0,1,0,0,0,0,0,0,0,0,0,0,0,0,0,0,0,0,2,0,0,0,0,0,0,0,1,0,0,0,0,0,0,0,0,0,0,0,0,0,2,0,0,0,0,0,0,0,0,0,0,0,0,0,0,0,0,0,0,0,1,2,1,0,0,0,0,0,0,0,0,0,0,0,0,0,0,0,0,0,0,0,0,0,0,0,0,0,0,0,0,0,0,0,0,0,0,0,6,0,0,0,0,0,0,0,0,0,0,0,0,2,0,0,0,0,1,0,2,0,0,0,0,2,0,0,0,0,0,0,0,0,0,3,0,0,0,2,0,0,0,0,0,0,0,0,0,1,0,0,0,0,0,0,0,0,1,0,0,0,1,0,0,0,0,0,0,0,0,0,0,0,1,0,0,0,3,0,0,0,0,1,0,0,0,0,0,0,0,0,0,0,0,0,0,0,0,0,0,0,0,0,0,0,0,0,0,0,0,0,3,1,0,0,0,2,2,0,0,0,0,1,1,0,0,2,0,0,0,0,0,0,0,2,0,0,0,0,2,1,0,0,0,0,0,0,3,0,0,0,0,2,0,0,10,0,0,0,0,0,0,0,0,0,0,0,0,0,0,0,0,0,0,0,0,0,0,1,0,0,0,0,1,0,0,0,0,0,0,0,0,0,0,0,0,0,0,0,0,0,0,0,0,0,1,0,0,0,1,0,0,0,0,0,0,0,0,0,0,0,1,0,1,0,0,0,0,0,0,0,1,1,0,1,0,0,0,0,0,0,0,0,0,0,0,0,0,4,0,0,0,0,0,0,0,0,0,0,0,0,0,0,0,0,0,0,0,0,0,0,3,0,0,3,0,5,0,0,0,0,0,5,0,0,0,0,0,0,0,0,0,0,0,0,0,0,0,0,0,0,0,0,0,0,0,0,2,0,0,0,0,1,2,0,0,0,0,0,0,0,0,0,0,2,0,0,0,0,0,0,1,0,0,0,0,0,0,0,0,0,0,0,0,0,0,0,0,0,0,0,0,0,0,0,0,0,0,0,0,0,0,0,0,0,1,1,0,0,0,0,0,0,2,4,0,0,0,0,1,0,5,0,0,0,0,1,0,0,4,0,0,1,2,0,0,0,0,0,1,0,0,12,0,0,0,0,0,0,0,1,0,0,0,0,0,0,0,0,0,1,0,1,0,0,0,0,3,0,0,0,0,7,0,0,0,0,1,0,0,0,0,0,1,0,0,0,0,0,0,0,5,0,1,0,0,0,1,0,0,0,1,0,0,1,0,1,0,0,0,0,0,0,0,0,0,0,5,0,0,0,0,0,0,0,0,0,0,0,0,3,7,0,0,0,5,1,0,0,0,0,0,1,1,0,0,0,0,0,0,0,1,3,0,0,0,1,31,0,2,4,0,0,3,2,2,1,0,3,2,1,2,0,0,0,0,0,0,1,0,2,0,1,4,0,1,1,7,0,0,0,0,0,0,0,0,2,4,0,0,0,0,0,0,4,0,0,23,15,0,0,0,0,0,1,1,3,0,0,9,0,1,1,0,5,1,0,4,0,0,0,0,0,0,0,8,1,0,0]},{\"axis\":{\"matches\":true},\"label\":\"Category.Two.Defects\",\"values\":[0,1,0,2,2,1,0,0,0,4,1,0,0,2,2,0,0,2,0,8,0,2,0,0,1,2,2,1,3,0,2,1,2,0,3,1,4,1,2,0,9,2,3,0,2,2,0,1,1,0,4,0,3,0,0,0,4,3,1,7,6,1,3,0,1,2,3,7,1,1,18,5,6,1,0,0,1,0,2,2,6,2,3,2,0,2,3,7,8,0,7,2,8,7,5,0,1,3,1,3,7,5,3,0,1,1,2,1,0,2,3,0,2,2,9,0,1,15,2,4,0,0,4,3,2,2,7,0,2,1,0,3,1,4,10,0,0,0,4,4,3,3,3,3,5,4,5,2,1,0,0,5,0,2,2,6,2,1,2,1,1,0,0,2,2,0,0,4,2,4,0,3,3,1,3,0,1,4,2,4,3,5,2,4,0,0,1,4,2,1,1,0,0,2,4,1,1,3,2,0,0,7,2,1,2,1,1,0,4,29,1,2,2,6,10,2,0,0,16,0,5,0,4,0,0,3,4,2,2,2,1,0,3,4,4,2,10,9,10,15,13,1,5,7,7,1,0,0,0,3,40,0,1,2,0,0,26,0,3,5,1,7,3,2,5,0,0,1,1,0,3,32,2,2,6,0,0,6,0,0,1,4,1,3,1,0,0,1,3,2,4,3,2,0,3,2,5,1,0,4,2,0,0,1,5,3,1,3,0,5,1,1,1,0,2,0,2,3,3,0,1,0,4,0,3,1,3,2,1,1,13,11,0,0,0,5,0,4,4,3,13,7,5,0,1,0,0,3,2,4,2,5,0,0,0,5,4,21,8,18,0,0,0,0,3,1,2,14,12,0,5,0,12,0,0,1,3,2,4,0,1,0,0,0,6,4,1,1,2,0,2,2,3,0,0,4,0,0,2,5,2,1,6,0,3,1,3,5,4,1,3,4,5,1,0,0,0,0,0,7,1,4,2,2,0,0,0,1,1,6,4,7,0,9,1,1,0,0,1,1,4,1,3,0,0,3,1,0,3,0,1,3,1,0,6,4,0,3,5,3,1,0,1,2,2,8,10,2,5,0,5,1,4,10,3,2,3,0,4,5,2,3,0,13,1,3,8,0,0,1,4,0,0,3,0,1,4,5,3,6,8,4,0,3,2,2,0,0,0,0,0,3,4,1,0,1,2,2,20,7,8,4,4,0,2,0,0,1,0,1,2,0,0,0,1,1,0,20,9,1,0,3,8,16,0,4,1,2,4,2,0,2,5,4,17,4,0,0,0,3,2,2,4,0,0,2,6,1,9,4,4,3,5,10,7,10,2,3,3,8,4,1,1,15,0,0,4,1,6,1,0,2,2,0,2,0,0,0,2,6,0,4,0,3,0,4,2,4,3,0,7,3,9,0,9,0,4,0,0,0,0,0,3,17,0,0,2,0,0,0,1,3,2,2,0,7,0,2,6,0,1,1,0,3,11,4,3,3,0,6,0,2,4,4,5,4,2,0,0,1,3,1,0,4,1,0,10,5,2,5,4,3,3,14,6,2,0,0,3,1,0,0,7,0,0,0,1,3,0,0,2,9,5,2,9,1,0,6,0,4,0,2,2,2,1,8,11,14,3,3,0,2,0,10,6,0,0,3,0,2,0,0,1,1,3,14,3,8,9,5,2,0,2,0,10,0,2,9,0,2,0,0,4,1,8,2,3,13,5,0,3,1,0,1,2,5,2,1,6,1,1,0,2,4,1,1,0,1,0,0,1,9,2,4,1,0,3,6,3,1,0,5,3,0,2,0,7,13,11,2,1,2,5,1,7,3,20,0,3,1,0,0,4,5,1,0,0,1,1,1,3,2,10,2,1,0,1,4,2,7,4,4,3,0,0,6,7,8,4,0,3,1,1,4,3,0,6,1,0,2,7,1,0,0,6,0,0,4,0,0,1,0,1,2,10,2,0,12,1,0,4,1,9,23,1,14,1,1,0,5,1,3,2,1,1,1,0,0,7,2,0,5,3,4,0,0,6,4,13,4,2,2,4,1,3,0,0,1,5,0,0,3,1,9,0,2,0,0,1,0,3,5,0,2,4,2,0,0,0,1,0,0,2,5,10,6,5,3,0,2,1,0,17,17,0,2,1,0,0,0,6,1,5,4,8,1,0,2,10,0,3,0,14,4,6,3,1,3,13,4,0,0,1,4,1,2,5,0,4,1,7,2,10,0,1,0,4,2,12,3,3,7,4,1,0,1,8,1,0,2,0,0,16,2,5,1,0,9,6,3,8,4,1,0,1,0,5,3,0,3,12,8,0,2,3,11,5,5,0,8,0,0,3,5,0,0,0,12,0,0,1,7,3,1,0,1,1,2,1,5,2,4,2,1,0,2,0,6,1,1,0,4,1,4,1,5,2,3,2,7,0,1,3,5,5,0,2,0,4,5,0,3,2,3,10,0,1,1,0,0,1,14,0,4,16,0,5,5,0,4,21,7,1,1,4,2,26,1,2,13,0,0,12,8,2,2,0,2,2,2,12,5,1,5,0,4,0,0,0,0,17,5,4,2,0,0,9,12,2,1,3,4,7,0,3,6,0,0,5,2,0,3,10,1,0,0,0,2,4,4,4,5,0,22,4,7,1,12,0,6,6,6,9,0,11,5,4,19,6,1,2,20,5,2,4,30,2,3,23,19,6,0,10,0,5,6,6,20,8,34,8,1,0,2,45,0,3,12,4,12,17,38,8,0,4,8,8,0,0,0,5,2,7,1,3,0,1,1,0,0,14,3,4,0,0,2,4,47,9,8,31,1,3,4,6,3,2,28,9,7,3,4,3,7,0,2,2,0,5,3,15,3,2,5,1,5,11,9,0,0,4,14,8,5,0,3,4,26,12,7,2,6,15,10,20,20,8,29,7,6,30,8,10,7,2,1,11,27,19,17,0,16,1,15,9,0,7,24,0,1,55,4,3,4,20,16,5,4,2]}],\"hovertemplate\":\"Species=Arabica\\u003cbr\\u003e%{xaxis.title.text}=%{x}\\u003cbr\\u003e%{yaxis.title.text}=%{y}\\u003cextra\\u003e\\u003c\\u002fextra\\u003e\",\"legendgroup\":\"Arabica\",\"marker\":{\"color\":\"#636efa\",\"symbol\":\"circle\"},\"name\":\"Arabica\",\"showlegend\":true,\"type\":\"splom\"},{\"dimensions\":[{\"axis\":{\"matches\":true},\"label\":\"Clean.Cup\",\"values\":[10.0,10.0,10.0,10.0,10.0,10.0,10.0,10.0,10.0,10.0,10.0,10.0,10.0,10.0,10.0,10.0,10.0,10.0,10.0,10.0,10.0,10.0,10.0,10.0,10.0,9.33,9.33,9.33]},{\"axis\":{\"matches\":true},\"label\":\"Quakers\",\"values\":[0,0,0,0,0,0,0,0,0,0,0,0,0,0,0,0,0,0,0,0,0,0,0,0,0,0,0,0]},{\"axis\":{\"matches\":true},\"label\":\"Aftertaste\",\"values\":[7.75,7.92,7.92,7.92,7.83,7.67,7.83,7.83,7.58,7.83,7.75,7.75,7.67,7.75,7.75,7.67,7.25,7.5,7.33,7.33,7.5,7.42,7.42,7.33,7.75,7.17,6.75,6.5]},{\"axis\":{\"matches\":true},\"label\":\"Balance\",\"values\":[7.92,7.92,7.92,7.75,7.75,7.92,7.75,7.83,8.0,7.75,7.67,7.58,7.67,7.5,7.58,7.58,7.83,7.67,7.5,7.58,7.5,7.5,7.42,7.83,5.25,7.17,7.0,6.83]},{\"axis\":{\"matches\":true},\"label\":\"Category.One.Defects\",\"values\":[0,0,0,0,0,0,0,0,0,0,0,0,0,0,0,0,0,0,0,0,0,0,0,0,0,0,20,63]},{\"axis\":{\"matches\":true},\"label\":\"Category.Two.Defects\",\"values\":[2,2,0,7,3,0,0,0,0,6,1,0,1,7,2,0,0,1,2,1,1,0,0,1,0,6,1,9]}],\"hovertemplate\":\"Species=Robusta\\u003cbr\\u003e%{xaxis.title.text}=%{x}\\u003cbr\\u003e%{yaxis.title.text}=%{y}\\u003cextra\\u003e\\u003c\\u002fextra\\u003e\",\"legendgroup\":\"Robusta\",\"marker\":{\"color\":\"#EF553B\",\"symbol\":\"circle\"},\"name\":\"Robusta\",\"showlegend\":true,\"type\":\"splom\"}],                        {\"template\":{\"data\":{\"histogram2dcontour\":[{\"type\":\"histogram2dcontour\",\"colorbar\":{\"outlinewidth\":0,\"ticks\":\"\"},\"colorscale\":[[0.0,\"#0d0887\"],[0.1111111111111111,\"#46039f\"],[0.2222222222222222,\"#7201a8\"],[0.3333333333333333,\"#9c179e\"],[0.4444444444444444,\"#bd3786\"],[0.5555555555555556,\"#d8576b\"],[0.6666666666666666,\"#ed7953\"],[0.7777777777777778,\"#fb9f3a\"],[0.8888888888888888,\"#fdca26\"],[1.0,\"#f0f921\"]]}],\"choropleth\":[{\"type\":\"choropleth\",\"colorbar\":{\"outlinewidth\":0,\"ticks\":\"\"}}],\"histogram2d\":[{\"type\":\"histogram2d\",\"colorbar\":{\"outlinewidth\":0,\"ticks\":\"\"},\"colorscale\":[[0.0,\"#0d0887\"],[0.1111111111111111,\"#46039f\"],[0.2222222222222222,\"#7201a8\"],[0.3333333333333333,\"#9c179e\"],[0.4444444444444444,\"#bd3786\"],[0.5555555555555556,\"#d8576b\"],[0.6666666666666666,\"#ed7953\"],[0.7777777777777778,\"#fb9f3a\"],[0.8888888888888888,\"#fdca26\"],[1.0,\"#f0f921\"]]}],\"heatmap\":[{\"type\":\"heatmap\",\"colorbar\":{\"outlinewidth\":0,\"ticks\":\"\"},\"colorscale\":[[0.0,\"#0d0887\"],[0.1111111111111111,\"#46039f\"],[0.2222222222222222,\"#7201a8\"],[0.3333333333333333,\"#9c179e\"],[0.4444444444444444,\"#bd3786\"],[0.5555555555555556,\"#d8576b\"],[0.6666666666666666,\"#ed7953\"],[0.7777777777777778,\"#fb9f3a\"],[0.8888888888888888,\"#fdca26\"],[1.0,\"#f0f921\"]]}],\"heatmapgl\":[{\"type\":\"heatmapgl\",\"colorbar\":{\"outlinewidth\":0,\"ticks\":\"\"},\"colorscale\":[[0.0,\"#0d0887\"],[0.1111111111111111,\"#46039f\"],[0.2222222222222222,\"#7201a8\"],[0.3333333333333333,\"#9c179e\"],[0.4444444444444444,\"#bd3786\"],[0.5555555555555556,\"#d8576b\"],[0.6666666666666666,\"#ed7953\"],[0.7777777777777778,\"#fb9f3a\"],[0.8888888888888888,\"#fdca26\"],[1.0,\"#f0f921\"]]}],\"contourcarpet\":[{\"type\":\"contourcarpet\",\"colorbar\":{\"outlinewidth\":0,\"ticks\":\"\"}}],\"contour\":[{\"type\":\"contour\",\"colorbar\":{\"outlinewidth\":0,\"ticks\":\"\"},\"colorscale\":[[0.0,\"#0d0887\"],[0.1111111111111111,\"#46039f\"],[0.2222222222222222,\"#7201a8\"],[0.3333333333333333,\"#9c179e\"],[0.4444444444444444,\"#bd3786\"],[0.5555555555555556,\"#d8576b\"],[0.6666666666666666,\"#ed7953\"],[0.7777777777777778,\"#fb9f3a\"],[0.8888888888888888,\"#fdca26\"],[1.0,\"#f0f921\"]]}],\"surface\":[{\"type\":\"surface\",\"colorbar\":{\"outlinewidth\":0,\"ticks\":\"\"},\"colorscale\":[[0.0,\"#0d0887\"],[0.1111111111111111,\"#46039f\"],[0.2222222222222222,\"#7201a8\"],[0.3333333333333333,\"#9c179e\"],[0.4444444444444444,\"#bd3786\"],[0.5555555555555556,\"#d8576b\"],[0.6666666666666666,\"#ed7953\"],[0.7777777777777778,\"#fb9f3a\"],[0.8888888888888888,\"#fdca26\"],[1.0,\"#f0f921\"]]}],\"mesh3d\":[{\"type\":\"mesh3d\",\"colorbar\":{\"outlinewidth\":0,\"ticks\":\"\"}}],\"scatter\":[{\"fillpattern\":{\"fillmode\":\"overlay\",\"size\":10,\"solidity\":0.2},\"type\":\"scatter\"}],\"parcoords\":[{\"type\":\"parcoords\",\"line\":{\"colorbar\":{\"outlinewidth\":0,\"ticks\":\"\"}}}],\"scatterpolargl\":[{\"type\":\"scatterpolargl\",\"marker\":{\"colorbar\":{\"outlinewidth\":0,\"ticks\":\"\"}}}],\"bar\":[{\"error_x\":{\"color\":\"#2a3f5f\"},\"error_y\":{\"color\":\"#2a3f5f\"},\"marker\":{\"line\":{\"color\":\"#E5ECF6\",\"width\":0.5},\"pattern\":{\"fillmode\":\"overlay\",\"size\":10,\"solidity\":0.2}},\"type\":\"bar\"}],\"scattergeo\":[{\"type\":\"scattergeo\",\"marker\":{\"colorbar\":{\"outlinewidth\":0,\"ticks\":\"\"}}}],\"scatterpolar\":[{\"type\":\"scatterpolar\",\"marker\":{\"colorbar\":{\"outlinewidth\":0,\"ticks\":\"\"}}}],\"histogram\":[{\"marker\":{\"pattern\":{\"fillmode\":\"overlay\",\"size\":10,\"solidity\":0.2}},\"type\":\"histogram\"}],\"scattergl\":[{\"type\":\"scattergl\",\"marker\":{\"colorbar\":{\"outlinewidth\":0,\"ticks\":\"\"}}}],\"scatter3d\":[{\"type\":\"scatter3d\",\"line\":{\"colorbar\":{\"outlinewidth\":0,\"ticks\":\"\"}},\"marker\":{\"colorbar\":{\"outlinewidth\":0,\"ticks\":\"\"}}}],\"scattermapbox\":[{\"type\":\"scattermapbox\",\"marker\":{\"colorbar\":{\"outlinewidth\":0,\"ticks\":\"\"}}}],\"scatterternary\":[{\"type\":\"scatterternary\",\"marker\":{\"colorbar\":{\"outlinewidth\":0,\"ticks\":\"\"}}}],\"scattercarpet\":[{\"type\":\"scattercarpet\",\"marker\":{\"colorbar\":{\"outlinewidth\":0,\"ticks\":\"\"}}}],\"carpet\":[{\"aaxis\":{\"endlinecolor\":\"#2a3f5f\",\"gridcolor\":\"white\",\"linecolor\":\"white\",\"minorgridcolor\":\"white\",\"startlinecolor\":\"#2a3f5f\"},\"baxis\":{\"endlinecolor\":\"#2a3f5f\",\"gridcolor\":\"white\",\"linecolor\":\"white\",\"minorgridcolor\":\"white\",\"startlinecolor\":\"#2a3f5f\"},\"type\":\"carpet\"}],\"table\":[{\"cells\":{\"fill\":{\"color\":\"#EBF0F8\"},\"line\":{\"color\":\"white\"}},\"header\":{\"fill\":{\"color\":\"#C8D4E3\"},\"line\":{\"color\":\"white\"}},\"type\":\"table\"}],\"barpolar\":[{\"marker\":{\"line\":{\"color\":\"#E5ECF6\",\"width\":0.5},\"pattern\":{\"fillmode\":\"overlay\",\"size\":10,\"solidity\":0.2}},\"type\":\"barpolar\"}],\"pie\":[{\"automargin\":true,\"type\":\"pie\"}]},\"layout\":{\"autotypenumbers\":\"strict\",\"colorway\":[\"#636efa\",\"#EF553B\",\"#00cc96\",\"#ab63fa\",\"#FFA15A\",\"#19d3f3\",\"#FF6692\",\"#B6E880\",\"#FF97FF\",\"#FECB52\"],\"font\":{\"color\":\"#2a3f5f\"},\"hovermode\":\"closest\",\"hoverlabel\":{\"align\":\"left\"},\"paper_bgcolor\":\"white\",\"plot_bgcolor\":\"#E5ECF6\",\"polar\":{\"bgcolor\":\"#E5ECF6\",\"angularaxis\":{\"gridcolor\":\"white\",\"linecolor\":\"white\",\"ticks\":\"\"},\"radialaxis\":{\"gridcolor\":\"white\",\"linecolor\":\"white\",\"ticks\":\"\"}},\"ternary\":{\"bgcolor\":\"#E5ECF6\",\"aaxis\":{\"gridcolor\":\"white\",\"linecolor\":\"white\",\"ticks\":\"\"},\"baxis\":{\"gridcolor\":\"white\",\"linecolor\":\"white\",\"ticks\":\"\"},\"caxis\":{\"gridcolor\":\"white\",\"linecolor\":\"white\",\"ticks\":\"\"}},\"coloraxis\":{\"colorbar\":{\"outlinewidth\":0,\"ticks\":\"\"}},\"colorscale\":{\"sequential\":[[0.0,\"#0d0887\"],[0.1111111111111111,\"#46039f\"],[0.2222222222222222,\"#7201a8\"],[0.3333333333333333,\"#9c179e\"],[0.4444444444444444,\"#bd3786\"],[0.5555555555555556,\"#d8576b\"],[0.6666666666666666,\"#ed7953\"],[0.7777777777777778,\"#fb9f3a\"],[0.8888888888888888,\"#fdca26\"],[1.0,\"#f0f921\"]],\"sequentialminus\":[[0.0,\"#0d0887\"],[0.1111111111111111,\"#46039f\"],[0.2222222222222222,\"#7201a8\"],[0.3333333333333333,\"#9c179e\"],[0.4444444444444444,\"#bd3786\"],[0.5555555555555556,\"#d8576b\"],[0.6666666666666666,\"#ed7953\"],[0.7777777777777778,\"#fb9f3a\"],[0.8888888888888888,\"#fdca26\"],[1.0,\"#f0f921\"]],\"diverging\":[[0,\"#8e0152\"],[0.1,\"#c51b7d\"],[0.2,\"#de77ae\"],[0.3,\"#f1b6da\"],[0.4,\"#fde0ef\"],[0.5,\"#f7f7f7\"],[0.6,\"#e6f5d0\"],[0.7,\"#b8e186\"],[0.8,\"#7fbc41\"],[0.9,\"#4d9221\"],[1,\"#276419\"]]},\"xaxis\":{\"gridcolor\":\"white\",\"linecolor\":\"white\",\"ticks\":\"\",\"title\":{\"standoff\":15},\"zerolinecolor\":\"white\",\"automargin\":true,\"zerolinewidth\":2},\"yaxis\":{\"gridcolor\":\"white\",\"linecolor\":\"white\",\"ticks\":\"\",\"title\":{\"standoff\":15},\"zerolinecolor\":\"white\",\"automargin\":true,\"zerolinewidth\":2},\"scene\":{\"xaxis\":{\"backgroundcolor\":\"#E5ECF6\",\"gridcolor\":\"white\",\"linecolor\":\"white\",\"showbackground\":true,\"ticks\":\"\",\"zerolinecolor\":\"white\",\"gridwidth\":2},\"yaxis\":{\"backgroundcolor\":\"#E5ECF6\",\"gridcolor\":\"white\",\"linecolor\":\"white\",\"showbackground\":true,\"ticks\":\"\",\"zerolinecolor\":\"white\",\"gridwidth\":2},\"zaxis\":{\"backgroundcolor\":\"#E5ECF6\",\"gridcolor\":\"white\",\"linecolor\":\"white\",\"showbackground\":true,\"ticks\":\"\",\"zerolinecolor\":\"white\",\"gridwidth\":2}},\"shapedefaults\":{\"line\":{\"color\":\"#2a3f5f\"}},\"annotationdefaults\":{\"arrowcolor\":\"#2a3f5f\",\"arrowhead\":0,\"arrowwidth\":1},\"geo\":{\"bgcolor\":\"white\",\"landcolor\":\"#E5ECF6\",\"subunitcolor\":\"white\",\"showland\":true,\"showlakes\":true,\"lakecolor\":\"white\"},\"title\":{\"x\":0.05},\"mapbox\":{\"style\":\"light\"}}},\"legend\":{\"title\":{\"text\":\"Species\"},\"tracegroupgap\":0},\"margin\":{\"t\":60},\"dragmode\":\"select\",\"title\":{\"text\":\"Scatterplot Matrix\"},\"width\":1200,\"height\":800,\"hovermode\":\"closest\"},                        {\"responsive\": true}                    ).then(function(){\n",
       "                            \n",
       "var gd = document.getElementById('a8e91b72-d8cd-4b5f-b471-8f1f63532118');\n",
       "var x = new MutationObserver(function (mutations, observer) {{\n",
       "        var display = window.getComputedStyle(gd).display;\n",
       "        if (!display || display === 'none') {{\n",
       "            console.log([gd, 'removed!']);\n",
       "            Plotly.purge(gd);\n",
       "            observer.disconnect();\n",
       "        }}\n",
       "}});\n",
       "\n",
       "// Listen for the removal of the full notebook cells\n",
       "var notebookContainer = gd.closest('#notebook-container');\n",
       "if (notebookContainer) {{\n",
       "    x.observe(notebookContainer, {childList: true});\n",
       "}}\n",
       "\n",
       "// Listen for the clearing of the current output cell\n",
       "var outputEl = gd.closest('.output');\n",
       "if (outputEl) {{\n",
       "    x.observe(outputEl, {childList: true});\n",
       "}}\n",
       "\n",
       "                        })                };                });            </script>        </div>"
      ]
     },
     "metadata": {},
     "output_type": "display_data"
    }
   ],
   "source": [
    "fig = px.scatter_matrix(df,\n",
    "    dimensions=['Clean.Cup', 'Quakers', 'Aftertaste', 'Balance', \n",
    "                     'Category.One.Defects', 'Category.Two.Defects'],\n",
    "    color=\"Species\")\n",
    "\n",
    "title = \"Scatterplot Matrix\"\n",
    "fig.update_layout(title=title,\n",
    "                  dragmode='select',\n",
    "                  width=1200,\n",
    "                  height=800,\n",
    "                  hovermode='closest')\n",
    "fig.show()"
   ]
  },
  {
   "cell_type": "markdown",
   "id": "5c66b704",
   "metadata": {
    "papermill": {
     "duration": 0.030736,
     "end_time": "2024-04-14T18:08:20.046216",
     "exception": false,
     "start_time": "2024-04-14T18:08:20.015480",
     "status": "completed"
    },
    "tags": []
   },
   "source": [
    "# Data Preprocessing"
   ]
  },
  {
   "cell_type": "code",
   "execution_count": 34,
   "id": "2b816267",
   "metadata": {
    "execution": {
     "iopub.execute_input": "2024-04-14T18:08:20.109193Z",
     "iopub.status.busy": "2024-04-14T18:08:20.107982Z",
     "iopub.status.idle": "2024-04-14T18:08:20.601729Z",
     "shell.execute_reply": "2024-04-14T18:08:20.600566Z"
    },
    "papermill": {
     "duration": 0.528248,
     "end_time": "2024-04-14T18:08:20.604574",
     "exception": false,
     "start_time": "2024-04-14T18:08:20.076326",
     "status": "completed"
    },
    "tags": []
   },
   "outputs": [],
   "source": [
    "from sklearn.impute import SimpleImputer\n",
    "\n",
    "numeric_imputer = SimpleImputer(missing_values=np.nan, strategy='mean').set_output(transform='pandas')\n",
    "features = numeric_imputer.fit_transform(features)"
   ]
  },
  {
   "cell_type": "code",
   "execution_count": 35,
   "id": "6a864810",
   "metadata": {
    "execution": {
     "iopub.execute_input": "2024-04-14T18:08:20.668499Z",
     "iopub.status.busy": "2024-04-14T18:08:20.668027Z",
     "iopub.status.idle": "2024-04-14T18:08:20.677561Z",
     "shell.execute_reply": "2024-04-14T18:08:20.676237Z"
    },
    "papermill": {
     "duration": 0.046133,
     "end_time": "2024-04-14T18:08:20.679994",
     "exception": false,
     "start_time": "2024-04-14T18:08:20.633861",
     "status": "completed"
    },
    "tags": []
   },
   "outputs": [
    {
     "data": {
      "text/plain": [
       "Harvest.Year            0\n",
       "Aroma                   0\n",
       "Flavor                  0\n",
       "Aftertaste              0\n",
       "Acidity                 0\n",
       "Body                    0\n",
       "Balance                 0\n",
       "Uniformity              0\n",
       "Clean.Cup               0\n",
       "Sweetness               0\n",
       "Moisture                0\n",
       "Quakers                 0\n",
       "Category.One.Defects    0\n",
       "Category.Two.Defects    0\n",
       "Expiration_year         0\n",
       "dtype: int64"
      ]
     },
     "execution_count": 35,
     "metadata": {},
     "output_type": "execute_result"
    }
   ],
   "source": [
    "features.isna().sum()"
   ]
  },
  {
   "cell_type": "code",
   "execution_count": 36,
   "id": "df48c1ea",
   "metadata": {
    "execution": {
     "iopub.execute_input": "2024-04-14T18:08:20.741951Z",
     "iopub.status.busy": "2024-04-14T18:08:20.740939Z",
     "iopub.status.idle": "2024-04-14T18:08:20.769087Z",
     "shell.execute_reply": "2024-04-14T18:08:20.767872Z"
    },
    "papermill": {
     "duration": 0.061966,
     "end_time": "2024-04-14T18:08:20.771655",
     "exception": false,
     "start_time": "2024-04-14T18:08:20.709689",
     "status": "completed"
    },
    "tags": []
   },
   "outputs": [
    {
     "data": {
      "text/html": [
       "<div>\n",
       "<style scoped>\n",
       "    .dataframe tbody tr th:only-of-type {\n",
       "        vertical-align: middle;\n",
       "    }\n",
       "\n",
       "    .dataframe tbody tr th {\n",
       "        vertical-align: top;\n",
       "    }\n",
       "\n",
       "    .dataframe thead th {\n",
       "        text-align: right;\n",
       "    }\n",
       "</style>\n",
       "<table border=\"1\" class=\"dataframe\">\n",
       "  <thead>\n",
       "    <tr style=\"text-align: right;\">\n",
       "      <th></th>\n",
       "      <th>Harvest.Year</th>\n",
       "      <th>Aroma</th>\n",
       "      <th>Flavor</th>\n",
       "      <th>Aftertaste</th>\n",
       "      <th>Acidity</th>\n",
       "      <th>Body</th>\n",
       "      <th>Balance</th>\n",
       "      <th>Uniformity</th>\n",
       "      <th>Clean.Cup</th>\n",
       "      <th>Sweetness</th>\n",
       "      <th>Moisture</th>\n",
       "      <th>Quakers</th>\n",
       "      <th>Category.One.Defects</th>\n",
       "      <th>Category.Two.Defects</th>\n",
       "      <th>Expiration_year</th>\n",
       "    </tr>\n",
       "  </thead>\n",
       "  <tbody>\n",
       "    <tr>\n",
       "      <th>0</th>\n",
       "      <td>2014.000000</td>\n",
       "      <td>8.67</td>\n",
       "      <td>8.83</td>\n",
       "      <td>8.67</td>\n",
       "      <td>8.75</td>\n",
       "      <td>8.50</td>\n",
       "      <td>8.42</td>\n",
       "      <td>10.0</td>\n",
       "      <td>10.0</td>\n",
       "      <td>10.0</td>\n",
       "      <td>0.12</td>\n",
       "      <td>0.0</td>\n",
       "      <td>0.0</td>\n",
       "      <td>0.0</td>\n",
       "      <td>2016.0</td>\n",
       "    </tr>\n",
       "    <tr>\n",
       "      <th>1</th>\n",
       "      <td>2014.000000</td>\n",
       "      <td>8.75</td>\n",
       "      <td>8.67</td>\n",
       "      <td>8.50</td>\n",
       "      <td>8.58</td>\n",
       "      <td>8.42</td>\n",
       "      <td>8.42</td>\n",
       "      <td>10.0</td>\n",
       "      <td>10.0</td>\n",
       "      <td>10.0</td>\n",
       "      <td>0.12</td>\n",
       "      <td>0.0</td>\n",
       "      <td>0.0</td>\n",
       "      <td>1.0</td>\n",
       "      <td>2016.0</td>\n",
       "    </tr>\n",
       "    <tr>\n",
       "      <th>2</th>\n",
       "      <td>2013.568075</td>\n",
       "      <td>8.42</td>\n",
       "      <td>8.50</td>\n",
       "      <td>8.42</td>\n",
       "      <td>8.42</td>\n",
       "      <td>8.33</td>\n",
       "      <td>8.42</td>\n",
       "      <td>10.0</td>\n",
       "      <td>10.0</td>\n",
       "      <td>10.0</td>\n",
       "      <td>0.00</td>\n",
       "      <td>0.0</td>\n",
       "      <td>0.0</td>\n",
       "      <td>0.0</td>\n",
       "      <td>2011.0</td>\n",
       "    </tr>\n",
       "    <tr>\n",
       "      <th>3</th>\n",
       "      <td>2014.000000</td>\n",
       "      <td>8.17</td>\n",
       "      <td>8.58</td>\n",
       "      <td>8.42</td>\n",
       "      <td>8.42</td>\n",
       "      <td>8.50</td>\n",
       "      <td>8.25</td>\n",
       "      <td>10.0</td>\n",
       "      <td>10.0</td>\n",
       "      <td>10.0</td>\n",
       "      <td>0.11</td>\n",
       "      <td>0.0</td>\n",
       "      <td>0.0</td>\n",
       "      <td>2.0</td>\n",
       "      <td>2016.0</td>\n",
       "    </tr>\n",
       "    <tr>\n",
       "      <th>4</th>\n",
       "      <td>2014.000000</td>\n",
       "      <td>8.25</td>\n",
       "      <td>8.50</td>\n",
       "      <td>8.25</td>\n",
       "      <td>8.50</td>\n",
       "      <td>8.42</td>\n",
       "      <td>8.33</td>\n",
       "      <td>10.0</td>\n",
       "      <td>10.0</td>\n",
       "      <td>10.0</td>\n",
       "      <td>0.12</td>\n",
       "      <td>0.0</td>\n",
       "      <td>0.0</td>\n",
       "      <td>2.0</td>\n",
       "      <td>2016.0</td>\n",
       "    </tr>\n",
       "  </tbody>\n",
       "</table>\n",
       "</div>"
      ],
      "text/plain": [
       "   Harvest.Year  Aroma  Flavor  Aftertaste  Acidity  Body  Balance  \\\n",
       "0   2014.000000   8.67    8.83        8.67     8.75  8.50     8.42   \n",
       "1   2014.000000   8.75    8.67        8.50     8.58  8.42     8.42   \n",
       "2   2013.568075   8.42    8.50        8.42     8.42  8.33     8.42   \n",
       "3   2014.000000   8.17    8.58        8.42     8.42  8.50     8.25   \n",
       "4   2014.000000   8.25    8.50        8.25     8.50  8.42     8.33   \n",
       "\n",
       "   Uniformity  Clean.Cup  Sweetness  Moisture  Quakers  Category.One.Defects  \\\n",
       "0        10.0       10.0       10.0      0.12      0.0                   0.0   \n",
       "1        10.0       10.0       10.0      0.12      0.0                   0.0   \n",
       "2        10.0       10.0       10.0      0.00      0.0                   0.0   \n",
       "3        10.0       10.0       10.0      0.11      0.0                   0.0   \n",
       "4        10.0       10.0       10.0      0.12      0.0                   0.0   \n",
       "\n",
       "   Category.Two.Defects  Expiration_year  \n",
       "0                   0.0           2016.0  \n",
       "1                   1.0           2016.0  \n",
       "2                   0.0           2011.0  \n",
       "3                   2.0           2016.0  \n",
       "4                   2.0           2016.0  "
      ]
     },
     "execution_count": 36,
     "metadata": {},
     "output_type": "execute_result"
    }
   ],
   "source": [
    "features.head()"
   ]
  },
  {
   "cell_type": "code",
   "execution_count": 37,
   "id": "f5fb8a36",
   "metadata": {
    "execution": {
     "iopub.execute_input": "2024-04-14T18:08:20.834060Z",
     "iopub.status.busy": "2024-04-14T18:08:20.833660Z",
     "iopub.status.idle": "2024-04-14T18:08:20.859093Z",
     "shell.execute_reply": "2024-04-14T18:08:20.857293Z"
    },
    "papermill": {
     "duration": 0.061522,
     "end_time": "2024-04-14T18:08:20.863901",
     "exception": false,
     "start_time": "2024-04-14T18:08:20.802379",
     "status": "completed"
    },
    "tags": []
   },
   "outputs": [],
   "source": [
    "from sklearn.decomposition import PCA\n",
    "\n",
    "pca = PCA().fit(features)"
   ]
  },
  {
   "cell_type": "code",
   "execution_count": 38,
   "id": "8e97f7ce",
   "metadata": {
    "execution": {
     "iopub.execute_input": "2024-04-14T18:08:20.986005Z",
     "iopub.status.busy": "2024-04-14T18:08:20.985572Z",
     "iopub.status.idle": "2024-04-14T18:08:20.993793Z",
     "shell.execute_reply": "2024-04-14T18:08:20.992617Z"
    },
    "papermill": {
     "duration": 0.065702,
     "end_time": "2024-04-14T18:08:20.996265",
     "exception": false,
     "start_time": "2024-04-14T18:08:20.930563",
     "status": "completed"
    },
    "tags": []
   },
   "outputs": [
    {
     "data": {
      "text/plain": [
       "array([0.65115835, 0.79772344, 0.93141649, 0.95597057, 0.96993497,\n",
       "       0.97971569, 0.98696643, 0.99240853, 0.99609524, 0.99725752,\n",
       "       0.99812878, 0.99895744, 0.99960136, 0.99995326, 1.        ])"
      ]
     },
     "execution_count": 38,
     "metadata": {},
     "output_type": "execute_result"
    }
   ],
   "source": [
    "exp_var_cumul = np.cumsum(pca.explained_variance_ratio_)\n",
    "exp_var_cumul"
   ]
  },
  {
   "cell_type": "code",
   "execution_count": 39,
   "id": "3be5efce",
   "metadata": {
    "execution": {
     "iopub.execute_input": "2024-04-14T18:08:21.058584Z",
     "iopub.status.busy": "2024-04-14T18:08:21.058193Z",
     "iopub.status.idle": "2024-04-14T18:08:21.158618Z",
     "shell.execute_reply": "2024-04-14T18:08:21.157365Z"
    },
    "papermill": {
     "duration": 0.134451,
     "end_time": "2024-04-14T18:08:21.161304",
     "exception": false,
     "start_time": "2024-04-14T18:08:21.026853",
     "status": "completed"
    },
    "tags": []
   },
   "outputs": [
    {
     "data": {
      "text/html": [
       "<div>                            <div id=\"27a3343e-a5e9-41c1-82a2-ddde5b5a59fb\" class=\"plotly-graph-div\" style=\"height:525px; width:100%;\"></div>            <script type=\"text/javascript\">                require([\"plotly\"], function(Plotly) {                    window.PLOTLYENV=window.PLOTLYENV || {};                                    if (document.getElementById(\"27a3343e-a5e9-41c1-82a2-ddde5b5a59fb\")) {                    Plotly.newPlot(                        \"27a3343e-a5e9-41c1-82a2-ddde5b5a59fb\",                        [{\"hovertemplate\":\"Number of Components=%{x}\\u003cbr\\u003eCumulative Explained Variance=%{y}\\u003cextra\\u003e\\u003c\\u002fextra\\u003e\",\"legendgroup\":\"\",\"line\":{\"color\":\"#636efa\",\"dash\":\"dash\"},\"marker\":{\"symbol\":\"circle\"},\"mode\":\"markers+lines\",\"name\":\"\",\"orientation\":\"v\",\"showlegend\":false,\"x\":[1,2,3,4,5,6,7,8,9,10,11,12,13,14,15],\"xaxis\":\"x\",\"y\":[0.6511583486774537,0.7977234408281983,0.9314164871802212,0.9559705713003236,0.9699349654805379,0.9797156929041823,0.9869664253941266,0.9924085298148795,0.9960952377916337,0.997257516464986,0.9981287764168194,0.998957444640897,0.9996013589009906,0.9999532601260902,1.0],\"yaxis\":\"y\",\"type\":\"scatter\"}],                        {\"template\":{\"data\":{\"histogram2dcontour\":[{\"type\":\"histogram2dcontour\",\"colorbar\":{\"outlinewidth\":0,\"ticks\":\"\"},\"colorscale\":[[0.0,\"#0d0887\"],[0.1111111111111111,\"#46039f\"],[0.2222222222222222,\"#7201a8\"],[0.3333333333333333,\"#9c179e\"],[0.4444444444444444,\"#bd3786\"],[0.5555555555555556,\"#d8576b\"],[0.6666666666666666,\"#ed7953\"],[0.7777777777777778,\"#fb9f3a\"],[0.8888888888888888,\"#fdca26\"],[1.0,\"#f0f921\"]]}],\"choropleth\":[{\"type\":\"choropleth\",\"colorbar\":{\"outlinewidth\":0,\"ticks\":\"\"}}],\"histogram2d\":[{\"type\":\"histogram2d\",\"colorbar\":{\"outlinewidth\":0,\"ticks\":\"\"},\"colorscale\":[[0.0,\"#0d0887\"],[0.1111111111111111,\"#46039f\"],[0.2222222222222222,\"#7201a8\"],[0.3333333333333333,\"#9c179e\"],[0.4444444444444444,\"#bd3786\"],[0.5555555555555556,\"#d8576b\"],[0.6666666666666666,\"#ed7953\"],[0.7777777777777778,\"#fb9f3a\"],[0.8888888888888888,\"#fdca26\"],[1.0,\"#f0f921\"]]}],\"heatmap\":[{\"type\":\"heatmap\",\"colorbar\":{\"outlinewidth\":0,\"ticks\":\"\"},\"colorscale\":[[0.0,\"#0d0887\"],[0.1111111111111111,\"#46039f\"],[0.2222222222222222,\"#7201a8\"],[0.3333333333333333,\"#9c179e\"],[0.4444444444444444,\"#bd3786\"],[0.5555555555555556,\"#d8576b\"],[0.6666666666666666,\"#ed7953\"],[0.7777777777777778,\"#fb9f3a\"],[0.8888888888888888,\"#fdca26\"],[1.0,\"#f0f921\"]]}],\"heatmapgl\":[{\"type\":\"heatmapgl\",\"colorbar\":{\"outlinewidth\":0,\"ticks\":\"\"},\"colorscale\":[[0.0,\"#0d0887\"],[0.1111111111111111,\"#46039f\"],[0.2222222222222222,\"#7201a8\"],[0.3333333333333333,\"#9c179e\"],[0.4444444444444444,\"#bd3786\"],[0.5555555555555556,\"#d8576b\"],[0.6666666666666666,\"#ed7953\"],[0.7777777777777778,\"#fb9f3a\"],[0.8888888888888888,\"#fdca26\"],[1.0,\"#f0f921\"]]}],\"contourcarpet\":[{\"type\":\"contourcarpet\",\"colorbar\":{\"outlinewidth\":0,\"ticks\":\"\"}}],\"contour\":[{\"type\":\"contour\",\"colorbar\":{\"outlinewidth\":0,\"ticks\":\"\"},\"colorscale\":[[0.0,\"#0d0887\"],[0.1111111111111111,\"#46039f\"],[0.2222222222222222,\"#7201a8\"],[0.3333333333333333,\"#9c179e\"],[0.4444444444444444,\"#bd3786\"],[0.5555555555555556,\"#d8576b\"],[0.6666666666666666,\"#ed7953\"],[0.7777777777777778,\"#fb9f3a\"],[0.8888888888888888,\"#fdca26\"],[1.0,\"#f0f921\"]]}],\"surface\":[{\"type\":\"surface\",\"colorbar\":{\"outlinewidth\":0,\"ticks\":\"\"},\"colorscale\":[[0.0,\"#0d0887\"],[0.1111111111111111,\"#46039f\"],[0.2222222222222222,\"#7201a8\"],[0.3333333333333333,\"#9c179e\"],[0.4444444444444444,\"#bd3786\"],[0.5555555555555556,\"#d8576b\"],[0.6666666666666666,\"#ed7953\"],[0.7777777777777778,\"#fb9f3a\"],[0.8888888888888888,\"#fdca26\"],[1.0,\"#f0f921\"]]}],\"mesh3d\":[{\"type\":\"mesh3d\",\"colorbar\":{\"outlinewidth\":0,\"ticks\":\"\"}}],\"scatter\":[{\"fillpattern\":{\"fillmode\":\"overlay\",\"size\":10,\"solidity\":0.2},\"type\":\"scatter\"}],\"parcoords\":[{\"type\":\"parcoords\",\"line\":{\"colorbar\":{\"outlinewidth\":0,\"ticks\":\"\"}}}],\"scatterpolargl\":[{\"type\":\"scatterpolargl\",\"marker\":{\"colorbar\":{\"outlinewidth\":0,\"ticks\":\"\"}}}],\"bar\":[{\"error_x\":{\"color\":\"#2a3f5f\"},\"error_y\":{\"color\":\"#2a3f5f\"},\"marker\":{\"line\":{\"color\":\"#E5ECF6\",\"width\":0.5},\"pattern\":{\"fillmode\":\"overlay\",\"size\":10,\"solidity\":0.2}},\"type\":\"bar\"}],\"scattergeo\":[{\"type\":\"scattergeo\",\"marker\":{\"colorbar\":{\"outlinewidth\":0,\"ticks\":\"\"}}}],\"scatterpolar\":[{\"type\":\"scatterpolar\",\"marker\":{\"colorbar\":{\"outlinewidth\":0,\"ticks\":\"\"}}}],\"histogram\":[{\"marker\":{\"pattern\":{\"fillmode\":\"overlay\",\"size\":10,\"solidity\":0.2}},\"type\":\"histogram\"}],\"scattergl\":[{\"type\":\"scattergl\",\"marker\":{\"colorbar\":{\"outlinewidth\":0,\"ticks\":\"\"}}}],\"scatter3d\":[{\"type\":\"scatter3d\",\"line\":{\"colorbar\":{\"outlinewidth\":0,\"ticks\":\"\"}},\"marker\":{\"colorbar\":{\"outlinewidth\":0,\"ticks\":\"\"}}}],\"scattermapbox\":[{\"type\":\"scattermapbox\",\"marker\":{\"colorbar\":{\"outlinewidth\":0,\"ticks\":\"\"}}}],\"scatterternary\":[{\"type\":\"scatterternary\",\"marker\":{\"colorbar\":{\"outlinewidth\":0,\"ticks\":\"\"}}}],\"scattercarpet\":[{\"type\":\"scattercarpet\",\"marker\":{\"colorbar\":{\"outlinewidth\":0,\"ticks\":\"\"}}}],\"carpet\":[{\"aaxis\":{\"endlinecolor\":\"#2a3f5f\",\"gridcolor\":\"white\",\"linecolor\":\"white\",\"minorgridcolor\":\"white\",\"startlinecolor\":\"#2a3f5f\"},\"baxis\":{\"endlinecolor\":\"#2a3f5f\",\"gridcolor\":\"white\",\"linecolor\":\"white\",\"minorgridcolor\":\"white\",\"startlinecolor\":\"#2a3f5f\"},\"type\":\"carpet\"}],\"table\":[{\"cells\":{\"fill\":{\"color\":\"#EBF0F8\"},\"line\":{\"color\":\"white\"}},\"header\":{\"fill\":{\"color\":\"#C8D4E3\"},\"line\":{\"color\":\"white\"}},\"type\":\"table\"}],\"barpolar\":[{\"marker\":{\"line\":{\"color\":\"#E5ECF6\",\"width\":0.5},\"pattern\":{\"fillmode\":\"overlay\",\"size\":10,\"solidity\":0.2}},\"type\":\"barpolar\"}],\"pie\":[{\"automargin\":true,\"type\":\"pie\"}]},\"layout\":{\"autotypenumbers\":\"strict\",\"colorway\":[\"#636efa\",\"#EF553B\",\"#00cc96\",\"#ab63fa\",\"#FFA15A\",\"#19d3f3\",\"#FF6692\",\"#B6E880\",\"#FF97FF\",\"#FECB52\"],\"font\":{\"color\":\"#2a3f5f\"},\"hovermode\":\"closest\",\"hoverlabel\":{\"align\":\"left\"},\"paper_bgcolor\":\"white\",\"plot_bgcolor\":\"#E5ECF6\",\"polar\":{\"bgcolor\":\"#E5ECF6\",\"angularaxis\":{\"gridcolor\":\"white\",\"linecolor\":\"white\",\"ticks\":\"\"},\"radialaxis\":{\"gridcolor\":\"white\",\"linecolor\":\"white\",\"ticks\":\"\"}},\"ternary\":{\"bgcolor\":\"#E5ECF6\",\"aaxis\":{\"gridcolor\":\"white\",\"linecolor\":\"white\",\"ticks\":\"\"},\"baxis\":{\"gridcolor\":\"white\",\"linecolor\":\"white\",\"ticks\":\"\"},\"caxis\":{\"gridcolor\":\"white\",\"linecolor\":\"white\",\"ticks\":\"\"}},\"coloraxis\":{\"colorbar\":{\"outlinewidth\":0,\"ticks\":\"\"}},\"colorscale\":{\"sequential\":[[0.0,\"#0d0887\"],[0.1111111111111111,\"#46039f\"],[0.2222222222222222,\"#7201a8\"],[0.3333333333333333,\"#9c179e\"],[0.4444444444444444,\"#bd3786\"],[0.5555555555555556,\"#d8576b\"],[0.6666666666666666,\"#ed7953\"],[0.7777777777777778,\"#fb9f3a\"],[0.8888888888888888,\"#fdca26\"],[1.0,\"#f0f921\"]],\"sequentialminus\":[[0.0,\"#0d0887\"],[0.1111111111111111,\"#46039f\"],[0.2222222222222222,\"#7201a8\"],[0.3333333333333333,\"#9c179e\"],[0.4444444444444444,\"#bd3786\"],[0.5555555555555556,\"#d8576b\"],[0.6666666666666666,\"#ed7953\"],[0.7777777777777778,\"#fb9f3a\"],[0.8888888888888888,\"#fdca26\"],[1.0,\"#f0f921\"]],\"diverging\":[[0,\"#8e0152\"],[0.1,\"#c51b7d\"],[0.2,\"#de77ae\"],[0.3,\"#f1b6da\"],[0.4,\"#fde0ef\"],[0.5,\"#f7f7f7\"],[0.6,\"#e6f5d0\"],[0.7,\"#b8e186\"],[0.8,\"#7fbc41\"],[0.9,\"#4d9221\"],[1,\"#276419\"]]},\"xaxis\":{\"gridcolor\":\"white\",\"linecolor\":\"white\",\"ticks\":\"\",\"title\":{\"standoff\":15},\"zerolinecolor\":\"white\",\"automargin\":true,\"zerolinewidth\":2},\"yaxis\":{\"gridcolor\":\"white\",\"linecolor\":\"white\",\"ticks\":\"\",\"title\":{\"standoff\":15},\"zerolinecolor\":\"white\",\"automargin\":true,\"zerolinewidth\":2},\"scene\":{\"xaxis\":{\"backgroundcolor\":\"#E5ECF6\",\"gridcolor\":\"white\",\"linecolor\":\"white\",\"showbackground\":true,\"ticks\":\"\",\"zerolinecolor\":\"white\",\"gridwidth\":2},\"yaxis\":{\"backgroundcolor\":\"#E5ECF6\",\"gridcolor\":\"white\",\"linecolor\":\"white\",\"showbackground\":true,\"ticks\":\"\",\"zerolinecolor\":\"white\",\"gridwidth\":2},\"zaxis\":{\"backgroundcolor\":\"#E5ECF6\",\"gridcolor\":\"white\",\"linecolor\":\"white\",\"showbackground\":true,\"ticks\":\"\",\"zerolinecolor\":\"white\",\"gridwidth\":2}},\"shapedefaults\":{\"line\":{\"color\":\"#2a3f5f\"}},\"annotationdefaults\":{\"arrowcolor\":\"#2a3f5f\",\"arrowhead\":0,\"arrowwidth\":1},\"geo\":{\"bgcolor\":\"white\",\"landcolor\":\"#E5ECF6\",\"subunitcolor\":\"white\",\"showland\":true,\"showlakes\":true,\"lakecolor\":\"white\"},\"title\":{\"x\":0.05},\"mapbox\":{\"style\":\"light\"}}},\"xaxis\":{\"anchor\":\"y\",\"domain\":[0.0,1.0],\"title\":{\"text\":\"Number of Components\"}},\"yaxis\":{\"anchor\":\"x\",\"domain\":[0.0,1.0],\"title\":{\"text\":\"Cumulative Explained Variance\"}},\"legend\":{\"tracegroupgap\":0},\"title\":{\"text\":\"Explained Variance by Components\"}},                        {\"responsive\": true}                    ).then(function(){\n",
       "                            \n",
       "var gd = document.getElementById('27a3343e-a5e9-41c1-82a2-ddde5b5a59fb');\n",
       "var x = new MutationObserver(function (mutations, observer) {{\n",
       "        var display = window.getComputedStyle(gd).display;\n",
       "        if (!display || display === 'none') {{\n",
       "            console.log([gd, 'removed!']);\n",
       "            Plotly.purge(gd);\n",
       "            observer.disconnect();\n",
       "        }}\n",
       "}});\n",
       "\n",
       "// Listen for the removal of the full notebook cells\n",
       "var notebookContainer = gd.closest('#notebook-container');\n",
       "if (notebookContainer) {{\n",
       "    x.observe(notebookContainer, {childList: true});\n",
       "}}\n",
       "\n",
       "// Listen for the clearing of the current output cell\n",
       "var outputEl = gd.closest('.output');\n",
       "if (outputEl) {{\n",
       "    x.observe(outputEl, {childList: true});\n",
       "}}\n",
       "\n",
       "                        })                };                });            </script>        </div>"
      ]
     },
     "metadata": {},
     "output_type": "display_data"
    }
   ],
   "source": [
    "fig = px.line(\n",
    "    x=range(1, exp_var_cumul.shape[0] + 1),\n",
    "    y=exp_var_cumul,\n",
    "    labels={\"x\": \"Number of Components\", \"y\": \"Cumulative Explained Variance\"},\n",
    "    title=\"Explained Variance by Components\",\n",
    "    markers=True\n",
    ")\n",
    "\n",
    "fig.update_traces(line=dict(dash='dash'))\n",
    "\n",
    "fig.show()"
   ]
  },
  {
   "cell_type": "markdown",
   "id": "2875f1fe",
   "metadata": {
    "papermill": {
     "duration": 0.030852,
     "end_time": "2024-04-14T18:08:21.224950",
     "exception": false,
     "start_time": "2024-04-14T18:08:21.194098",
     "status": "completed"
    },
    "tags": []
   },
   "source": [
    "***We will choose 3 components as they capture almost 93% of the total variance***"
   ]
  },
  {
   "cell_type": "code",
   "execution_count": 40,
   "id": "3fb9f53e",
   "metadata": {
    "execution": {
     "iopub.execute_input": "2024-04-14T18:08:21.289195Z",
     "iopub.status.busy": "2024-04-14T18:08:21.288069Z",
     "iopub.status.idle": "2024-04-14T18:08:21.311659Z",
     "shell.execute_reply": "2024-04-14T18:08:21.310139Z"
    },
    "papermill": {
     "duration": 0.060428,
     "end_time": "2024-04-14T18:08:21.315841",
     "exception": false,
     "start_time": "2024-04-14T18:08:21.255413",
     "status": "completed"
    },
    "tags": []
   },
   "outputs": [
    {
     "data": {
      "text/plain": [
       "array([[-3.74830593e+00, -8.71255912e-01,  1.95390691e-01],\n",
       "       [-2.75728710e+00, -9.64273115e-01,  5.57013053e-02],\n",
       "       [-3.48214888e+00,  3.00512449e+00, -5.34936733e-01],\n",
       "       ...,\n",
       "       [ 2.34917659e+00, -7.42802248e-01, -6.05376244e-01],\n",
       "       [ 6.11811204e-01,  3.80930292e+00,  1.94366393e+01],\n",
       "       [ 1.52220055e+01,  1.05292885e+01,  6.00672536e+01]])"
      ]
     },
     "execution_count": 40,
     "metadata": {},
     "output_type": "execute_result"
    }
   ],
   "source": [
    "pca_3 = PCA(n_components=3).fit_transform(features)\n",
    "pca_3"
   ]
  },
  {
   "cell_type": "markdown",
   "id": "a66c3884",
   "metadata": {
    "papermill": {
     "duration": 0.053072,
     "end_time": "2024-04-14T18:08:21.434129",
     "exception": false,
     "start_time": "2024-04-14T18:08:21.381057",
     "status": "completed"
    },
    "tags": []
   },
   "source": [
    "# k-means"
   ]
  },
  {
   "cell_type": "code",
   "execution_count": 41,
   "id": "1f14a614",
   "metadata": {
    "execution": {
     "iopub.execute_input": "2024-04-14T18:08:21.497839Z",
     "iopub.status.busy": "2024-04-14T18:08:21.497210Z",
     "iopub.status.idle": "2024-04-14T18:08:22.713458Z",
     "shell.execute_reply": "2024-04-14T18:08:22.712385Z"
    },
    "papermill": {
     "duration": 1.2521,
     "end_time": "2024-04-14T18:08:22.716886",
     "exception": false,
     "start_time": "2024-04-14T18:08:21.464786",
     "status": "completed"
    },
    "tags": []
   },
   "outputs": [],
   "source": [
    "from sklearn.cluster import KMeans\n",
    "\n",
    "wcss = []\n",
    "for i in range(1, 21):\n",
    "    kmeans_pca = KMeans(n_clusters = i, init = 'k-means++', random_state=42)\n",
    "    kmeans_pca.fit(pca_3)\n",
    "    wcss.append(kmeans_pca.inertia_)"
   ]
  },
  {
   "cell_type": "code",
   "execution_count": 42,
   "id": "dc4a1ee0",
   "metadata": {
    "execution": {
     "iopub.execute_input": "2024-04-14T18:08:22.784858Z",
     "iopub.status.busy": "2024-04-14T18:08:22.784459Z",
     "iopub.status.idle": "2024-04-14T18:08:22.855465Z",
     "shell.execute_reply": "2024-04-14T18:08:22.854157Z"
    },
    "papermill": {
     "duration": 0.107671,
     "end_time": "2024-04-14T18:08:22.858364",
     "exception": false,
     "start_time": "2024-04-14T18:08:22.750693",
     "status": "completed"
    },
    "tags": []
   },
   "outputs": [
    {
     "data": {
      "text/html": [
       "<div>                            <div id=\"1402e1f6-b2ad-4ce8-a1d2-e06ae6add82e\" class=\"plotly-graph-div\" style=\"height:525px; width:100%;\"></div>            <script type=\"text/javascript\">                require([\"plotly\"], function(Plotly) {                    window.PLOTLYENV=window.PLOTLYENV || {};                                    if (document.getElementById(\"1402e1f6-b2ad-4ce8-a1d2-e06ae6add82e\")) {                    Plotly.newPlot(                        \"1402e1f6-b2ad-4ce8-a1d2-e06ae6add82e\",                        [{\"hovertemplate\":\"Number of Clusters=%{x}\\u003cbr\\u003eWCSS=%{y}\\u003cextra\\u003e\\u003c\\u002fextra\\u003e\",\"legendgroup\":\"\",\"line\":{\"color\":\"#636efa\",\"dash\":\"solid\",\"shape\":\"linear\"},\"marker\":{\"symbol\":\"circle\"},\"mode\":\"markers+lines\",\"name\":\"\",\"orientation\":\"v\",\"showlegend\":false,\"x\":[1,2,3,4,5,6,7,8,9,10,11,12,13,14,15,16,17,18,19,20],\"xaxis\":\"x\",\"y\":[55362.15815873291,31719.094341410804,24561.62028909457,19512.6745411889,15414.89762878472,12539.059125289521,11145.525938965073,9896.115506911581,8655.742714769996,7826.556799361298,6863.816460026508,6334.578422886576,5625.759531800636,5463.7787813157465,5031.595077417278,4711.917403465923,4385.201585914296,4202.67574077962,3847.3285499694125,3643.6601295855403],\"yaxis\":\"y\",\"type\":\"scatter\"}],                        {\"template\":{\"data\":{\"histogram2dcontour\":[{\"type\":\"histogram2dcontour\",\"colorbar\":{\"outlinewidth\":0,\"ticks\":\"\"},\"colorscale\":[[0.0,\"#0d0887\"],[0.1111111111111111,\"#46039f\"],[0.2222222222222222,\"#7201a8\"],[0.3333333333333333,\"#9c179e\"],[0.4444444444444444,\"#bd3786\"],[0.5555555555555556,\"#d8576b\"],[0.6666666666666666,\"#ed7953\"],[0.7777777777777778,\"#fb9f3a\"],[0.8888888888888888,\"#fdca26\"],[1.0,\"#f0f921\"]]}],\"choropleth\":[{\"type\":\"choropleth\",\"colorbar\":{\"outlinewidth\":0,\"ticks\":\"\"}}],\"histogram2d\":[{\"type\":\"histogram2d\",\"colorbar\":{\"outlinewidth\":0,\"ticks\":\"\"},\"colorscale\":[[0.0,\"#0d0887\"],[0.1111111111111111,\"#46039f\"],[0.2222222222222222,\"#7201a8\"],[0.3333333333333333,\"#9c179e\"],[0.4444444444444444,\"#bd3786\"],[0.5555555555555556,\"#d8576b\"],[0.6666666666666666,\"#ed7953\"],[0.7777777777777778,\"#fb9f3a\"],[0.8888888888888888,\"#fdca26\"],[1.0,\"#f0f921\"]]}],\"heatmap\":[{\"type\":\"heatmap\",\"colorbar\":{\"outlinewidth\":0,\"ticks\":\"\"},\"colorscale\":[[0.0,\"#0d0887\"],[0.1111111111111111,\"#46039f\"],[0.2222222222222222,\"#7201a8\"],[0.3333333333333333,\"#9c179e\"],[0.4444444444444444,\"#bd3786\"],[0.5555555555555556,\"#d8576b\"],[0.6666666666666666,\"#ed7953\"],[0.7777777777777778,\"#fb9f3a\"],[0.8888888888888888,\"#fdca26\"],[1.0,\"#f0f921\"]]}],\"heatmapgl\":[{\"type\":\"heatmapgl\",\"colorbar\":{\"outlinewidth\":0,\"ticks\":\"\"},\"colorscale\":[[0.0,\"#0d0887\"],[0.1111111111111111,\"#46039f\"],[0.2222222222222222,\"#7201a8\"],[0.3333333333333333,\"#9c179e\"],[0.4444444444444444,\"#bd3786\"],[0.5555555555555556,\"#d8576b\"],[0.6666666666666666,\"#ed7953\"],[0.7777777777777778,\"#fb9f3a\"],[0.8888888888888888,\"#fdca26\"],[1.0,\"#f0f921\"]]}],\"contourcarpet\":[{\"type\":\"contourcarpet\",\"colorbar\":{\"outlinewidth\":0,\"ticks\":\"\"}}],\"contour\":[{\"type\":\"contour\",\"colorbar\":{\"outlinewidth\":0,\"ticks\":\"\"},\"colorscale\":[[0.0,\"#0d0887\"],[0.1111111111111111,\"#46039f\"],[0.2222222222222222,\"#7201a8\"],[0.3333333333333333,\"#9c179e\"],[0.4444444444444444,\"#bd3786\"],[0.5555555555555556,\"#d8576b\"],[0.6666666666666666,\"#ed7953\"],[0.7777777777777778,\"#fb9f3a\"],[0.8888888888888888,\"#fdca26\"],[1.0,\"#f0f921\"]]}],\"surface\":[{\"type\":\"surface\",\"colorbar\":{\"outlinewidth\":0,\"ticks\":\"\"},\"colorscale\":[[0.0,\"#0d0887\"],[0.1111111111111111,\"#46039f\"],[0.2222222222222222,\"#7201a8\"],[0.3333333333333333,\"#9c179e\"],[0.4444444444444444,\"#bd3786\"],[0.5555555555555556,\"#d8576b\"],[0.6666666666666666,\"#ed7953\"],[0.7777777777777778,\"#fb9f3a\"],[0.8888888888888888,\"#fdca26\"],[1.0,\"#f0f921\"]]}],\"mesh3d\":[{\"type\":\"mesh3d\",\"colorbar\":{\"outlinewidth\":0,\"ticks\":\"\"}}],\"scatter\":[{\"fillpattern\":{\"fillmode\":\"overlay\",\"size\":10,\"solidity\":0.2},\"type\":\"scatter\"}],\"parcoords\":[{\"type\":\"parcoords\",\"line\":{\"colorbar\":{\"outlinewidth\":0,\"ticks\":\"\"}}}],\"scatterpolargl\":[{\"type\":\"scatterpolargl\",\"marker\":{\"colorbar\":{\"outlinewidth\":0,\"ticks\":\"\"}}}],\"bar\":[{\"error_x\":{\"color\":\"#2a3f5f\"},\"error_y\":{\"color\":\"#2a3f5f\"},\"marker\":{\"line\":{\"color\":\"#E5ECF6\",\"width\":0.5},\"pattern\":{\"fillmode\":\"overlay\",\"size\":10,\"solidity\":0.2}},\"type\":\"bar\"}],\"scattergeo\":[{\"type\":\"scattergeo\",\"marker\":{\"colorbar\":{\"outlinewidth\":0,\"ticks\":\"\"}}}],\"scatterpolar\":[{\"type\":\"scatterpolar\",\"marker\":{\"colorbar\":{\"outlinewidth\":0,\"ticks\":\"\"}}}],\"histogram\":[{\"marker\":{\"pattern\":{\"fillmode\":\"overlay\",\"size\":10,\"solidity\":0.2}},\"type\":\"histogram\"}],\"scattergl\":[{\"type\":\"scattergl\",\"marker\":{\"colorbar\":{\"outlinewidth\":0,\"ticks\":\"\"}}}],\"scatter3d\":[{\"type\":\"scatter3d\",\"line\":{\"colorbar\":{\"outlinewidth\":0,\"ticks\":\"\"}},\"marker\":{\"colorbar\":{\"outlinewidth\":0,\"ticks\":\"\"}}}],\"scattermapbox\":[{\"type\":\"scattermapbox\",\"marker\":{\"colorbar\":{\"outlinewidth\":0,\"ticks\":\"\"}}}],\"scatterternary\":[{\"type\":\"scatterternary\",\"marker\":{\"colorbar\":{\"outlinewidth\":0,\"ticks\":\"\"}}}],\"scattercarpet\":[{\"type\":\"scattercarpet\",\"marker\":{\"colorbar\":{\"outlinewidth\":0,\"ticks\":\"\"}}}],\"carpet\":[{\"aaxis\":{\"endlinecolor\":\"#2a3f5f\",\"gridcolor\":\"white\",\"linecolor\":\"white\",\"minorgridcolor\":\"white\",\"startlinecolor\":\"#2a3f5f\"},\"baxis\":{\"endlinecolor\":\"#2a3f5f\",\"gridcolor\":\"white\",\"linecolor\":\"white\",\"minorgridcolor\":\"white\",\"startlinecolor\":\"#2a3f5f\"},\"type\":\"carpet\"}],\"table\":[{\"cells\":{\"fill\":{\"color\":\"#EBF0F8\"},\"line\":{\"color\":\"white\"}},\"header\":{\"fill\":{\"color\":\"#C8D4E3\"},\"line\":{\"color\":\"white\"}},\"type\":\"table\"}],\"barpolar\":[{\"marker\":{\"line\":{\"color\":\"#E5ECF6\",\"width\":0.5},\"pattern\":{\"fillmode\":\"overlay\",\"size\":10,\"solidity\":0.2}},\"type\":\"barpolar\"}],\"pie\":[{\"automargin\":true,\"type\":\"pie\"}]},\"layout\":{\"autotypenumbers\":\"strict\",\"colorway\":[\"#636efa\",\"#EF553B\",\"#00cc96\",\"#ab63fa\",\"#FFA15A\",\"#19d3f3\",\"#FF6692\",\"#B6E880\",\"#FF97FF\",\"#FECB52\"],\"font\":{\"color\":\"#2a3f5f\"},\"hovermode\":\"closest\",\"hoverlabel\":{\"align\":\"left\"},\"paper_bgcolor\":\"white\",\"plot_bgcolor\":\"#E5ECF6\",\"polar\":{\"bgcolor\":\"#E5ECF6\",\"angularaxis\":{\"gridcolor\":\"white\",\"linecolor\":\"white\",\"ticks\":\"\"},\"radialaxis\":{\"gridcolor\":\"white\",\"linecolor\":\"white\",\"ticks\":\"\"}},\"ternary\":{\"bgcolor\":\"#E5ECF6\",\"aaxis\":{\"gridcolor\":\"white\",\"linecolor\":\"white\",\"ticks\":\"\"},\"baxis\":{\"gridcolor\":\"white\",\"linecolor\":\"white\",\"ticks\":\"\"},\"caxis\":{\"gridcolor\":\"white\",\"linecolor\":\"white\",\"ticks\":\"\"}},\"coloraxis\":{\"colorbar\":{\"outlinewidth\":0,\"ticks\":\"\"}},\"colorscale\":{\"sequential\":[[0.0,\"#0d0887\"],[0.1111111111111111,\"#46039f\"],[0.2222222222222222,\"#7201a8\"],[0.3333333333333333,\"#9c179e\"],[0.4444444444444444,\"#bd3786\"],[0.5555555555555556,\"#d8576b\"],[0.6666666666666666,\"#ed7953\"],[0.7777777777777778,\"#fb9f3a\"],[0.8888888888888888,\"#fdca26\"],[1.0,\"#f0f921\"]],\"sequentialminus\":[[0.0,\"#0d0887\"],[0.1111111111111111,\"#46039f\"],[0.2222222222222222,\"#7201a8\"],[0.3333333333333333,\"#9c179e\"],[0.4444444444444444,\"#bd3786\"],[0.5555555555555556,\"#d8576b\"],[0.6666666666666666,\"#ed7953\"],[0.7777777777777778,\"#fb9f3a\"],[0.8888888888888888,\"#fdca26\"],[1.0,\"#f0f921\"]],\"diverging\":[[0,\"#8e0152\"],[0.1,\"#c51b7d\"],[0.2,\"#de77ae\"],[0.3,\"#f1b6da\"],[0.4,\"#fde0ef\"],[0.5,\"#f7f7f7\"],[0.6,\"#e6f5d0\"],[0.7,\"#b8e186\"],[0.8,\"#7fbc41\"],[0.9,\"#4d9221\"],[1,\"#276419\"]]},\"xaxis\":{\"gridcolor\":\"white\",\"linecolor\":\"white\",\"ticks\":\"\",\"title\":{\"standoff\":15},\"zerolinecolor\":\"white\",\"automargin\":true,\"zerolinewidth\":2},\"yaxis\":{\"gridcolor\":\"white\",\"linecolor\":\"white\",\"ticks\":\"\",\"title\":{\"standoff\":15},\"zerolinecolor\":\"white\",\"automargin\":true,\"zerolinewidth\":2},\"scene\":{\"xaxis\":{\"backgroundcolor\":\"#E5ECF6\",\"gridcolor\":\"white\",\"linecolor\":\"white\",\"showbackground\":true,\"ticks\":\"\",\"zerolinecolor\":\"white\",\"gridwidth\":2},\"yaxis\":{\"backgroundcolor\":\"#E5ECF6\",\"gridcolor\":\"white\",\"linecolor\":\"white\",\"showbackground\":true,\"ticks\":\"\",\"zerolinecolor\":\"white\",\"gridwidth\":2},\"zaxis\":{\"backgroundcolor\":\"#E5ECF6\",\"gridcolor\":\"white\",\"linecolor\":\"white\",\"showbackground\":true,\"ticks\":\"\",\"zerolinecolor\":\"white\",\"gridwidth\":2}},\"shapedefaults\":{\"line\":{\"color\":\"#2a3f5f\"}},\"annotationdefaults\":{\"arrowcolor\":\"#2a3f5f\",\"arrowhead\":0,\"arrowwidth\":1},\"geo\":{\"bgcolor\":\"white\",\"landcolor\":\"#E5ECF6\",\"subunitcolor\":\"white\",\"showland\":true,\"showlakes\":true,\"lakecolor\":\"white\"},\"title\":{\"x\":0.05},\"mapbox\":{\"style\":\"light\"}}},\"xaxis\":{\"anchor\":\"y\",\"domain\":[0.0,1.0],\"title\":{\"text\":\"Number of Clusters\"}},\"yaxis\":{\"anchor\":\"x\",\"domain\":[0.0,1.0],\"title\":{\"text\":\"WCSS\"}},\"legend\":{\"tracegroupgap\":0},\"title\":{\"text\":\"KMeans with PCA Clustering\"}},                        {\"responsive\": true}                    ).then(function(){\n",
       "                            \n",
       "var gd = document.getElementById('1402e1f6-b2ad-4ce8-a1d2-e06ae6add82e');\n",
       "var x = new MutationObserver(function (mutations, observer) {{\n",
       "        var display = window.getComputedStyle(gd).display;\n",
       "        if (!display || display === 'none') {{\n",
       "            console.log([gd, 'removed!']);\n",
       "            Plotly.purge(gd);\n",
       "            observer.disconnect();\n",
       "        }}\n",
       "}});\n",
       "\n",
       "// Listen for the removal of the full notebook cells\n",
       "var notebookContainer = gd.closest('#notebook-container');\n",
       "if (notebookContainer) {{\n",
       "    x.observe(notebookContainer, {childList: true});\n",
       "}}\n",
       "\n",
       "// Listen for the clearing of the current output cell\n",
       "var outputEl = gd.closest('.output');\n",
       "if (outputEl) {{\n",
       "    x.observe(outputEl, {childList: true});\n",
       "}}\n",
       "\n",
       "                        })                };                });            </script>        </div>"
      ]
     },
     "metadata": {},
     "output_type": "display_data"
    }
   ],
   "source": [
    "fig = px.line(\n",
    "    x=range(1, 21),\n",
    "    y=wcss,\n",
    "    labels={\"x\": \"Number of Clusters\", \"y\": \"WCSS\"},\n",
    "    title=\"KMeans with PCA Clustering\",\n",
    "    markers=True,\n",
    "    line_shape=\"linear\" # Plotly does not support 'dashed' directly, but 'linear' is the default\n",
    ")\n",
    "\n",
    "fig.show()"
   ]
  },
  {
   "cell_type": "markdown",
   "id": "fcc76021",
   "metadata": {
    "papermill": {
     "duration": 0.032123,
     "end_time": "2024-04-14T18:08:22.922760",
     "exception": false,
     "start_time": "2024-04-14T18:08:22.890637",
     "status": "completed"
    },
    "tags": []
   },
   "source": [
    "- ***We can see that after cluster 6 inertia starts decreasing in a linear fashion.***\n",
    "- ***AWe will choose 6 as optimal number of clusters.***"
   ]
  },
  {
   "cell_type": "code",
   "execution_count": 43,
   "id": "ac5b37bf",
   "metadata": {
    "execution": {
     "iopub.execute_input": "2024-04-14T18:08:22.990521Z",
     "iopub.status.busy": "2024-04-14T18:08:22.990081Z",
     "iopub.status.idle": "2024-04-14T18:08:23.045380Z",
     "shell.execute_reply": "2024-04-14T18:08:23.044116Z"
    },
    "papermill": {
     "duration": 0.093446,
     "end_time": "2024-04-14T18:08:23.048004",
     "exception": false,
     "start_time": "2024-04-14T18:08:22.954558",
     "status": "completed"
    },
    "tags": []
   },
   "outputs": [
    {
     "data": {
      "text/html": [
       "<style>#sk-container-id-1 {color: black;background-color: white;}#sk-container-id-1 pre{padding: 0;}#sk-container-id-1 div.sk-toggleable {background-color: white;}#sk-container-id-1 label.sk-toggleable__label {cursor: pointer;display: block;width: 100%;margin-bottom: 0;padding: 0.3em;box-sizing: border-box;text-align: center;}#sk-container-id-1 label.sk-toggleable__label-arrow:before {content: \"▸\";float: left;margin-right: 0.25em;color: #696969;}#sk-container-id-1 label.sk-toggleable__label-arrow:hover:before {color: black;}#sk-container-id-1 div.sk-estimator:hover label.sk-toggleable__label-arrow:before {color: black;}#sk-container-id-1 div.sk-toggleable__content {max-height: 0;max-width: 0;overflow: hidden;text-align: left;background-color: #f0f8ff;}#sk-container-id-1 div.sk-toggleable__content pre {margin: 0.2em;color: black;border-radius: 0.25em;background-color: #f0f8ff;}#sk-container-id-1 input.sk-toggleable__control:checked~div.sk-toggleable__content {max-height: 200px;max-width: 100%;overflow: auto;}#sk-container-id-1 input.sk-toggleable__control:checked~label.sk-toggleable__label-arrow:before {content: \"▾\";}#sk-container-id-1 div.sk-estimator input.sk-toggleable__control:checked~label.sk-toggleable__label {background-color: #d4ebff;}#sk-container-id-1 div.sk-label input.sk-toggleable__control:checked~label.sk-toggleable__label {background-color: #d4ebff;}#sk-container-id-1 input.sk-hidden--visually {border: 0;clip: rect(1px 1px 1px 1px);clip: rect(1px, 1px, 1px, 1px);height: 1px;margin: -1px;overflow: hidden;padding: 0;position: absolute;width: 1px;}#sk-container-id-1 div.sk-estimator {font-family: monospace;background-color: #f0f8ff;border: 1px dotted black;border-radius: 0.25em;box-sizing: border-box;margin-bottom: 0.5em;}#sk-container-id-1 div.sk-estimator:hover {background-color: #d4ebff;}#sk-container-id-1 div.sk-parallel-item::after {content: \"\";width: 100%;border-bottom: 1px solid gray;flex-grow: 1;}#sk-container-id-1 div.sk-label:hover label.sk-toggleable__label {background-color: #d4ebff;}#sk-container-id-1 div.sk-serial::before {content: \"\";position: absolute;border-left: 1px solid gray;box-sizing: border-box;top: 0;bottom: 0;left: 50%;z-index: 0;}#sk-container-id-1 div.sk-serial {display: flex;flex-direction: column;align-items: center;background-color: white;padding-right: 0.2em;padding-left: 0.2em;position: relative;}#sk-container-id-1 div.sk-item {position: relative;z-index: 1;}#sk-container-id-1 div.sk-parallel {display: flex;align-items: stretch;justify-content: center;background-color: white;position: relative;}#sk-container-id-1 div.sk-item::before, #sk-container-id-1 div.sk-parallel-item::before {content: \"\";position: absolute;border-left: 1px solid gray;box-sizing: border-box;top: 0;bottom: 0;left: 50%;z-index: -1;}#sk-container-id-1 div.sk-parallel-item {display: flex;flex-direction: column;z-index: 1;position: relative;background-color: white;}#sk-container-id-1 div.sk-parallel-item:first-child::after {align-self: flex-end;width: 50%;}#sk-container-id-1 div.sk-parallel-item:last-child::after {align-self: flex-start;width: 50%;}#sk-container-id-1 div.sk-parallel-item:only-child::after {width: 0;}#sk-container-id-1 div.sk-dashed-wrapped {border: 1px dashed gray;margin: 0 0.4em 0.5em 0.4em;box-sizing: border-box;padding-bottom: 0.4em;background-color: white;}#sk-container-id-1 div.sk-label label {font-family: monospace;font-weight: bold;display: inline-block;line-height: 1.2em;}#sk-container-id-1 div.sk-label-container {text-align: center;}#sk-container-id-1 div.sk-container {/* jupyter's `normalize.less` sets `[hidden] { display: none; }` but bootstrap.min.css set `[hidden] { display: none !important; }` so we also need the `!important` here to be able to override the default hidden behavior on the sphinx rendered scikit-learn.org. See: https://github.com/scikit-learn/scikit-learn/issues/21755 */display: inline-block !important;position: relative;}#sk-container-id-1 div.sk-text-repr-fallback {display: none;}</style><div id=\"sk-container-id-1\" class=\"sk-top-container\"><div class=\"sk-text-repr-fallback\"><pre>KMeans(n_clusters=6, random_state=42)</pre><b>In a Jupyter environment, please rerun this cell to show the HTML representation or trust the notebook. <br />On GitHub, the HTML representation is unable to render, please try loading this page with nbviewer.org.</b></div><div class=\"sk-container\" hidden><div class=\"sk-item\"><div class=\"sk-estimator sk-toggleable\"><input class=\"sk-toggleable__control sk-hidden--visually\" id=\"sk-estimator-id-1\" type=\"checkbox\" checked><label for=\"sk-estimator-id-1\" class=\"sk-toggleable__label sk-toggleable__label-arrow\">KMeans</label><div class=\"sk-toggleable__content\"><pre>KMeans(n_clusters=6, random_state=42)</pre></div></div></div></div></div>"
      ],
      "text/plain": [
       "KMeans(n_clusters=6, random_state=42)"
      ]
     },
     "execution_count": 43,
     "metadata": {},
     "output_type": "execute_result"
    }
   ],
   "source": [
    "kmeans_pca = KMeans(n_clusters = 6, init = 'k-means++', random_state=42)\n",
    "kmeans_pca.fit(pca_3)"
   ]
  },
  {
   "cell_type": "code",
   "execution_count": 44,
   "id": "59c417c4",
   "metadata": {
    "execution": {
     "iopub.execute_input": "2024-04-14T18:08:23.113790Z",
     "iopub.status.busy": "2024-04-14T18:08:23.113350Z",
     "iopub.status.idle": "2024-04-14T18:08:23.137748Z",
     "shell.execute_reply": "2024-04-14T18:08:23.136221Z"
    },
    "papermill": {
     "duration": 0.060541,
     "end_time": "2024-04-14T18:08:23.140777",
     "exception": false,
     "start_time": "2024-04-14T18:08:23.080236",
     "status": "completed"
    },
    "tags": []
   },
   "outputs": [
    {
     "data": {
      "text/html": [
       "<div>\n",
       "<style scoped>\n",
       "    .dataframe tbody tr th:only-of-type {\n",
       "        vertical-align: middle;\n",
       "    }\n",
       "\n",
       "    .dataframe tbody tr th {\n",
       "        vertical-align: top;\n",
       "    }\n",
       "\n",
       "    .dataframe thead th {\n",
       "        text-align: right;\n",
       "    }\n",
       "</style>\n",
       "<table border=\"1\" class=\"dataframe\">\n",
       "  <thead>\n",
       "    <tr style=\"text-align: right;\">\n",
       "      <th></th>\n",
       "      <th>Species</th>\n",
       "      <th>Continent.of.Origin</th>\n",
       "      <th>Country.of.Origin</th>\n",
       "      <th>Variety</th>\n",
       "      <th>Color</th>\n",
       "      <th>Processing.Method</th>\n",
       "      <th>Component_1</th>\n",
       "      <th>Component_2</th>\n",
       "      <th>Component_3</th>\n",
       "      <th>K-means_labels</th>\n",
       "    </tr>\n",
       "  </thead>\n",
       "  <tbody>\n",
       "    <tr>\n",
       "      <th>0</th>\n",
       "      <td>Arabica</td>\n",
       "      <td>Africa</td>\n",
       "      <td>Ethiopia</td>\n",
       "      <td>NaN</td>\n",
       "      <td>Green</td>\n",
       "      <td>Washed / Wet</td>\n",
       "      <td>-3.748306</td>\n",
       "      <td>-0.871256</td>\n",
       "      <td>0.195391</td>\n",
       "      <td>0</td>\n",
       "    </tr>\n",
       "    <tr>\n",
       "      <th>1</th>\n",
       "      <td>Arabica</td>\n",
       "      <td>Africa</td>\n",
       "      <td>Ethiopia</td>\n",
       "      <td>Other</td>\n",
       "      <td>Green</td>\n",
       "      <td>Washed / Wet</td>\n",
       "      <td>-2.757287</td>\n",
       "      <td>-0.964273</td>\n",
       "      <td>0.055701</td>\n",
       "      <td>0</td>\n",
       "    </tr>\n",
       "    <tr>\n",
       "      <th>2</th>\n",
       "      <td>Arabica</td>\n",
       "      <td>North America</td>\n",
       "      <td>Guatemala</td>\n",
       "      <td>Bourbon</td>\n",
       "      <td>NaN</td>\n",
       "      <td>NaN</td>\n",
       "      <td>-3.482149</td>\n",
       "      <td>3.005124</td>\n",
       "      <td>-0.534937</td>\n",
       "      <td>4</td>\n",
       "    </tr>\n",
       "    <tr>\n",
       "      <th>3</th>\n",
       "      <td>Arabica</td>\n",
       "      <td>Africa</td>\n",
       "      <td>Ethiopia</td>\n",
       "      <td>NaN</td>\n",
       "      <td>Green</td>\n",
       "      <td>Natural / Dry</td>\n",
       "      <td>-1.760300</td>\n",
       "      <td>-1.062294</td>\n",
       "      <td>-0.077578</td>\n",
       "      <td>0</td>\n",
       "    </tr>\n",
       "    <tr>\n",
       "      <th>4</th>\n",
       "      <td>Arabica</td>\n",
       "      <td>Africa</td>\n",
       "      <td>Ethiopia</td>\n",
       "      <td>Other</td>\n",
       "      <td>Green</td>\n",
       "      <td>Washed / Wet</td>\n",
       "      <td>-1.758593</td>\n",
       "      <td>-1.062677</td>\n",
       "      <td>-0.077195</td>\n",
       "      <td>0</td>\n",
       "    </tr>\n",
       "  </tbody>\n",
       "</table>\n",
       "</div>"
      ],
      "text/plain": [
       "   Species Continent.of.Origin Country.of.Origin  Variety  Color  \\\n",
       "0  Arabica              Africa          Ethiopia      NaN  Green   \n",
       "1  Arabica              Africa          Ethiopia    Other  Green   \n",
       "2  Arabica       North America         Guatemala  Bourbon    NaN   \n",
       "3  Arabica              Africa          Ethiopia      NaN  Green   \n",
       "4  Arabica              Africa          Ethiopia    Other  Green   \n",
       "\n",
       "  Processing.Method  Component_1  Component_2  Component_3  K-means_labels  \n",
       "0      Washed / Wet    -3.748306    -0.871256     0.195391               0  \n",
       "1      Washed / Wet    -2.757287    -0.964273     0.055701               0  \n",
       "2               NaN    -3.482149     3.005124    -0.534937               4  \n",
       "3     Natural / Dry    -1.760300    -1.062294    -0.077578               0  \n",
       "4      Washed / Wet    -1.758593    -1.062677    -0.077195               0  "
      ]
     },
     "execution_count": 44,
     "metadata": {},
     "output_type": "execute_result"
    }
   ],
   "source": [
    "selected_df = df.select_dtypes(include='object')\n",
    "segmented_kmeans_pca = pd.concat([selected_df.reset_index(drop=True), pd.DataFrame(pca_3)], axis=1)\n",
    "new_column_names = [\"Component_\" + str(i+1) for i in range(3)]\n",
    "segmented_kmeans_pca.columns.values[-3:] = new_column_names\n",
    "segmented_kmeans_pca['K-means_labels'] = kmeans_pca.labels_\n",
    "segmented_kmeans_pca.head()"
   ]
  },
  {
   "cell_type": "code",
   "execution_count": 45,
   "id": "4185dbac",
   "metadata": {
    "execution": {
     "iopub.execute_input": "2024-04-14T18:08:23.208708Z",
     "iopub.status.busy": "2024-04-14T18:08:23.208297Z",
     "iopub.status.idle": "2024-04-14T18:08:23.847938Z",
     "shell.execute_reply": "2024-04-14T18:08:23.846667Z"
    },
    "papermill": {
     "duration": 0.67837,
     "end_time": "2024-04-14T18:08:23.851556",
     "exception": false,
     "start_time": "2024-04-14T18:08:23.173186",
     "status": "completed"
    },
    "tags": []
   },
   "outputs": [
    {
     "data": {
      "image/png": "[encoded data removed]",
      "text/plain": [
       "<Figure size 1000x800 with 1 Axes>"
      ]
     },
     "metadata": {},
     "output_type": "display_data"
    }
   ],
   "source": [
    "palette = sns.color_palette(\"husl\", 6)\n",
    "\n",
    "plt.figure(figsize=(10, 8))\n",
    "sns.scatterplot(segmented_kmeans_pca, x=\"Component_1\", y=\"Component_2\", hue='K-means_labels', palette = palette)\n",
    "plt.title('Clusters by PCA components')\n",
    "plt.show()"
   ]
  },
  {
   "cell_type": "code",
   "execution_count": 46,
   "id": "5491448b",
   "metadata": {
    "execution": {
     "iopub.execute_input": "2024-04-14T18:08:23.923279Z",
     "iopub.status.busy": "2024-04-14T18:08:23.922867Z",
     "iopub.status.idle": "2024-04-14T18:08:24.083845Z",
     "shell.execute_reply": "2024-04-14T18:08:24.082461Z"
    },
    "papermill": {
     "duration": 0.200725,
     "end_time": "2024-04-14T18:08:24.087505",
     "exception": false,
     "start_time": "2024-04-14T18:08:23.886780",
     "status": "completed"
    },
    "tags": []
   },
   "outputs": [
    {
     "data": {
      "text/html": [
       "<div>                            <div id=\"0f6edeaf-d4d0-43af-97f1-df3225037503\" class=\"plotly-graph-div\" style=\"height:525px; width:100%;\"></div>            <script type=\"text/javascript\">                require([\"plotly\"], function(Plotly) {                    window.PLOTLYENV=window.PLOTLYENV || {};                                    if (document.getElementById(\"0f6edeaf-d4d0-43af-97f1-df3225037503\")) {                    Plotly.newPlot(                        \"0f6edeaf-d4d0-43af-97f1-df3225037503\",                        [{\"hovertemplate\":\"Component_1=%{x}\\u003cbr\\u003eComponent_2=%{y}\\u003cbr\\u003eComponent_3=%{z}\\u003cbr\\u003eK-means_labels=%{marker.color}\\u003cextra\\u003e\\u003c\\u002fextra\\u003e\",\"legendgroup\":\"\",\"marker\":{\"color\":[0,0,4,0,0,4,4,4,4,0,0,0,0,4,4,0,4,4,0,3,0,0,4,0,4,4,4,4,0,0,4,4,4,0,0,4,4,4,4,0,3,4,4,0,0,4,0,4,4,4,4,4,0,4,4,0,0,4,4,3,3,4,4,4,4,0,0,3,4,4,1,3,3,4,4,0,0,0,0,4,3,4,4,0,0,0,4,3,3,0,3,0,3,3,4,4,0,0,0,0,3,3,4,4,4,4,0,0,0,0,4,4,4,4,3,0,4,1,4,4,0,0,3,4,4,0,3,0,0,0,0,0,0,3,3,4,4,4,4,4,4,4,4,4,0,0,0,4,0,0,4,3,4,4,4,3,4,4,0,0,0,0,0,4,4,4,4,4,4,4,4,0,0,0,0,4,4,4,4,0,0,0,0,0,0,4,4,4,4,4,4,0,0,0,0,0,0,0,0,0,0,3,0,0,4,4,4,4,4,2,0,0,0,3,3,0,0,0,1,0,3,0,3,4,4,4,4,4,4,4,4,0,0,0,0,0,3,3,3,1,1,0,0,3,3,0,0,0,0,0,2,4,4,4,4,4,2,4,0,0,0,3,0,0,0,0,0,0,0,0,0,2,4,4,3,0,0,3,0,0,0,0,0,4,0,4,4,4,4,4,4,4,4,4,4,0,0,0,0,0,0,0,4,4,3,0,4,4,4,3,4,4,4,4,0,0,0,0,0,0,0,0,3,0,4,4,4,4,4,4,1,1,4,4,4,0,0,0,0,0,1,3,3,0,0,0,4,4,4,4,4,0,0,0,0,0,0,1,3,1,0,0,4,0,0,4,4,1,1,4,3,4,1,4,4,0,0,0,0,0,0,0,0,0,3,3,0,4,0,4,4,4,4,4,4,4,0,0,0,3,0,0,3,4,0,0,4,3,4,4,4,4,3,4,4,4,0,0,0,3,0,0,0,0,0,0,0,0,4,3,4,3,4,3,4,4,4,4,4,4,0,0,0,0,0,0,0,0,0,0,0,0,0,0,3,3,0,3,3,0,0,4,0,4,4,3,3,4,3,4,3,4,4,3,4,4,4,4,0,0,0,0,0,1,0,0,3,4,4,4,4,4,4,4,4,4,0,0,0,3,3,0,0,0,0,0,0,0,4,4,0,4,3,4,4,4,4,4,1,3,3,4,4,4,4,4,4,4,4,4,4,4,4,0,0,0,5,1,3,0,0,0,3,1,4,3,0,0,4,4,4,4,3,4,1,4,4,4,4,0,0,0,0,0,0,0,3,0,3,3,3,4,3,3,3,3,4,4,0,3,0,0,0,1,0,0,0,0,3,0,0,0,0,0,0,0,4,4,4,3,4,4,4,4,4,4,4,0,0,0,3,0,3,0,3,0,3,0,0,4,4,4,4,1,4,4,4,4,4,4,4,4,4,0,0,3,0,0,3,0,0,0,4,4,3,4,4,4,4,3,4,4,4,0,0,0,0,0,0,0,0,4,4,3,4,4,3,3,4,3,4,4,4,1,3,0,0,0,0,0,0,0,3,0,4,0,4,4,4,4,4,3,3,4,3,4,4,3,4,4,4,4,4,4,4,3,3,1,0,0,0,0,0,3,3,0,0,0,0,4,4,4,4,4,4,1,4,3,3,3,4,4,4,4,3,0,0,3,0,0,0,0,3,4,3,4,4,1,3,4,4,4,4,4,4,0,0,0,3,0,0,0,0,0,0,0,4,4,4,4,4,3,4,4,4,4,0,3,0,0,0,3,0,4,4,4,3,1,1,4,4,4,3,0,3,0,1,0,0,0,4,4,3,3,4,4,4,4,4,4,4,4,3,4,0,0,0,0,0,3,0,3,0,4,4,3,3,3,4,4,4,4,0,0,0,0,3,0,0,0,3,0,0,0,3,0,0,3,0,4,4,4,4,4,3,4,4,1,0,0,0,4,3,1,4,1,4,4,4,0,0,0,0,0,0,0,0,0,3,0,4,3,4,3,4,4,3,4,1,4,4,4,4,4,0,0,0,0,3,0,0,4,4,3,4,4,4,4,4,0,0,0,0,0,0,0,0,0,0,0,4,4,4,3,3,3,3,4,4,4,4,4,1,1,0,0,0,0,0,0,3,0,3,3,3,4,4,4,3,0,0,0,1,0,3,0,0,0,1,4,0,0,0,0,0,0,3,4,3,4,3,0,3,0,0,0,0,0,1,0,4,3,4,4,4,0,3,0,0,0,0,4,1,4,3,4,4,3,3,0,3,0,0,0,0,0,3,4,4,4,1,3,0,0,0,3,3,3,0,3,0,0,4,3,4,4,4,1,4,0,4,3,4,4,4,4,0,0,0,3,0,0,0,0,0,4,4,3,0,0,0,0,0,3,0,3,4,4,4,3,0,0,0,3,3,4,4,0,0,0,0,0,0,0,3,4,4,4,0,0,4,1,4,4,1,0,3,3,4,3,1,3,4,0,0,0,2,0,0,1,4,4,1,3,0,0,0,4,4,4,1,3,4,0,0,3,4,4,4,4,1,0,0,0,4,4,3,1,4,0,0,3,3,4,4,3,4,4,0,0,0,4,3,0,0,4,4,4,3,3,3,3,4,1,4,3,0,1,4,3,3,3,3,4,1,3,4,1,3,0,4,1,3,4,3,2,0,4,1,1,3,0,3,0,0,3,3,1,3,2,3,0,4,4,2,4,0,1,4,1,1,2,3,4,0,3,3,4,4,4,3,4,3,0,0,4,4,4,4,0,1,4,3,4,0,0,4,2,3,3,2,0,4,0,3,0,0,2,3,3,4,3,4,3,0,0,4,4,3,4,1,0,0,3,4,3,1,3,0,4,4,1,3,3,0,4,4,2,1,3,4,3,1,3,1,1,3,2,3,3,2,3,3,3,0,4,1,2,1,1,0,1,0,1,3,4,3,2,4,0,2,3,0,3,1,1,0,4,0,4,0,0,3,4,4,0,0,0,3,0,0,0,3,0,0,4,4,4,4,0,4,4,0,0,3,5,5],\"coloraxis\":\"coloraxis\",\"symbol\":\"circle\"},\"mode\":\"markers\",\"name\":\"\",\"scene\":\"scene\",\"showlegend\":false,\"x\":[-3.748305928329444,-2.7572870996521393,-3.48214888166045,-1.7603004806123763,-1.7585930643165115,-2.612060186328321,-3.504526278598831,-3.3252381146880916,-3.3243591662887018,0.21045320151395785,-2.7383943955646735,-3.7192116519222913,-3.7228667635340322,-1.3031001728513034,-1.34862650561677,-3.7209962994252352,-3.461945067808553,-1.2952182162107087,-3.8009268612299425,4.16365771062767,-3.7129458291445414,-1.6965671389607895,-3.486584642366761,-3.714677968387965,-2.591036293626904,-1.4320292431850863,-1.2959723256725684,-2.6372612648623464,-0.9302929676445792,-3.7949998236504237,-1.489324439487582,-2.5461633490087783,-1.4245827844081969,-3.7429119138775766,-0.749083868569467,-2.629567849914891,0.617155599308921,-2.0524538153559675,-1.2880087805714184,-3.7022741621783086,5.540513510928902,-1.3754795421842063,-0.39257309221843706,-3.7399062831899514,-1.7342069386094983,-1.4211795189730052,-3.6527900486183262,-2.4685313372559357,-2.627461516450354,-3.4767105481651455,0.6802530498307336,-3.2549923240872753,-0.872562484888435,-3.611672811765661,-3.410628393891219,-3.9154190674071327,0.23914867686338673,-0.5222640092480482,-2.4897124576433978,2.9915076472466473,2.9220775326426547,-2.4722929677901653,-0.6093430340807959,-3.5207058025773135,-2.487378135977974,-1.4175721879416463,-0.7414329041925305,3.1533291829874934,-2.6207922723236674,-2.575744485590783,13.986503789045697,1.317870327928803,3.0637677980650375,-2.3986637603471985,-3.24980392846921,-3.783841741604516,-2.7116577025870563,-3.6524176998410036,-1.6765576218608522,-1.5465980769371557,2.389675286820326,-1.2789635620902509,-0.29407311436389044,-1.8464577731639624,-3.7366383203532467,-1.6781694945037693,-0.510979217557804,3.423894436075474,4.058710336104539,-3.733694408749863,3.566108028242315,-1.3641148892915083,4.410928916123322,3.7796769370577676,1.6324137781920722,-3.442920099279071,-2.8829886028332616,-0.9155564153876352,-2.7214275227752416,-0.8249396523547323,3.1329157201909656,1.4110002122129408,-0.5124124286314302,-3.338100125587936,-2.5023849457162313,-2.2600975062709,-1.6685540256753628,-2.7483411415521912,-3.732127354677698,-1.67467992215548,-0.5126247366634868,-3.4641719245190217,-1.4078670987173056,-1.408462156144409,5.76969394546285,-3.8176860676035522,-2.613157103618622,11.773665438439657,-1.2740760856558182,0.6936161665552234,-3.7734868405165654,-3.686109835523418,0.2987227033635102,-0.3863925603781589,-1.2647965621843018,-1.891889391436376,3.0739805242833675,-3.7107786557730553,-1.806828955088951,-2.7894542474430817,-3.687276722579244,-0.7330519293719613,-2.7059037199600486,0.2997556073223597,6.4423038879114625,-3.5530900173847675,-3.5510228645042834,-3.4642341877621687,0.47275972572462416,0.47698738991666173,-0.506313123709568,-0.509706016932044,-0.5283587126928136,-0.28773451842705816,1.1143799233648841,0.07782688291477846,1.1101611021597282,-1.6285603970306664,-2.6548845583006657,-3.636809619187172,-3.5521614731039914,1.3709405701374542,-3.551305141897155,-1.5417898745315233,-1.5393970113366988,2.449787886002232,-1.4064113446772326,-2.392931248782341,-1.9350631541371623,-2.8773904315862366,-2.7883844696765743,-3.6848724195096136,-3.5725259439951644,-1.626616429827301,-1.5847154960727827,-3.4627151954361826,-3.4594858521613556,0.4749474259728487,-1.49348588991786,0.45851098460186324,-3.170254295854671,-0.9077009731351537,-0.949089987246441,-2.7897959019788523,-0.6851227816199198,-3.508314494254798,-2.5226027081021525,0.7901049191705379,-1.2708164524378571,0.0381876666503466,-0.9116015772876599,1.0705936608880713,-1.8398819123273404,0.13258307749098225,-2.7944839758413984,-3.5427364932617347,-2.4753301766027715,0.5662576536533217,-1.4004381871066411,-2.4984412760632257,-2.096701706924832,-3.8624587623260784,-3.768855612500378,-1.8449869772314267,0.1426168067699467,-2.7870796486210354,-2.786722549939351,-0.7718104216031679,-1.1313615587139856,-3.725538250392647,-3.2560230654972404,3.2559006002766577,-1.6680631629801255,-2.650841803132865,-1.5761754355131963,-2.323225957347803,-2.4757406654154384,-3.458353999400263,0.47855821474866184,25.716676777647294,-2.9175559728087186,-1.843967849901511,-1.8426009434059898,2.09219115914903,6.035156570524707,-1.8422369650109205,-3.722503794633953,-3.7252217342335014,12.02751393846208,-3.6827942018384614,1.2405933021789324,-3.6362504483385507,0.2988633569744843,-3.5919504750523203,-3.5470429025205834,-0.5531236675579568,0.38765304662823463,-1.574900778229182,-1.4905413194650405,-1.4871138358299727,-2.4725058827605406,-3.902079841545013,-0.7802744801631138,0.12763065408450866,0.12661115573034992,-1.6668067614053337,6.21003877307545,5.516703806851662,6.544868992190962,11.303037394631113,9.016542349622114,-2.398046010311152,1.022155540876733,3.167777157830156,3.5694123822926787,-2.6502976537106444,-3.632457627332236,-3.6331675513760424,-3.6339455429142737,-0.672864292864475,36.41419157090378,-3.5886158228971423,-2.561788534807161,-1.5325633038664805,-3.4178970448774804,-3.4562640706740173,23.6998728662513,-3.364343289350495,-0.9374412375233598,1.0235749471494549,-2.7822179855363296,3.0904129951894244,-0.810328733452416,-1.6846248763752862,1.2809902242731273,-3.679299261151003,-3.7209775583611076,-2.538970174258513,-2.648725952780373,-3.6403833346193535,-0.6827471775244324,29.60917382055879,-1.4839804960544758,-1.4837302597568265,2.1656454820179962,-3.6914755948209126,-3.7676128128103517,2.129994100689204,-3.8082376476045634,-3.7158848689952166,-2.69440681850404,0.25925757526762006,-2.648038263747705,-0.6344384242043335,-2.6461015770178435,-3.5375193587097105,-3.542668483403411,-2.5557723497126847,-0.5888477657145825,-1.4841752310661285,0.48660913633834835,-0.4110967771746022,-1.3980815590530797,-3.365117940894828,-0.32381611561074525,-1.8263333529642258,1.0255859183769522,-2.9130481874758267,-3.854941833423253,0.239536226915899,-1.7933046853957455,-3.719630240880919,-3.590616811245589,-2.585430075496176,1.2899804935754882,-0.6781718369688072,-2.557967418359058,-0.5926930402975761,-3.541732837769165,2.2519837890848535,-2.467394656858543,-2.3773721457063672,-2.3376171263505015,-3.4275031465316133,-1.9258619931669292,-3.898571805848757,-1.8881797027371878,-0.9025155531140105,-0.8439198889745978,-3.7622494004406466,-2.7129250473882967,-3.6754866155960677,0.30976744650664384,-3.6255707010589178,-0.5901183105387908,-2.5566025653367954,-0.431483720023438,-1.571365033548945,-2.468801795426479,-2.4507635059527555,9.341727615744123,8.000578061464239,-3.454681000752392,-3.4484008736337124,-3.455584169463782,1.029534796136557,-3.803316988919602,0.13085809899890424,0.1790055622200195,-0.7652747781645881,9.27873418570858,3.2157846541022326,1.336947855520118,-3.629708224048812,-2.645225252114862,-3.629549199429238,-3.54393684306513,-0.4974239656902808,-1.4822638545086566,0.4875314793223834,-1.4828071581100517,1.0702500900625302,-3.8261284646931557,-3.761480695148189,-3.8067477711458557,1.1245743231190684,0.22244452760898262,16.956579074736982,4.1600267545865846,14.201853811082847,-3.518690577017328,-3.6721008436353797,-3.585842240255658,-3.314322849566967,-0.6731590011485198,-2.398175836186016,-1.5718761372676413,10.342575971697096,8.361761782168294,-3.450384601244311,1.4718497288824117,-3.4503128688646423,8.83170144317984,-3.4722479565599023,-3.272795166876086,-2.900440152084627,-0.9410043384717612,-1.8820250347452192,0.08908029503187721,-3.7822012881750897,-2.775850913913783,-3.762988083759397,-3.806073747999657,-3.092515533257195,2.2309776146825326,0.3094980529150371,-2.6400061568624866,-2.6021157109793354,-1.6590807156727327,-3.539842544004927,-1.5281030832703224,-1.4812976894710401,-0.3606359010752582,-3.2729683916875145,-3.417867987903668,0.8322135345724462,-3.8012960243628573,-3.804545458388723,-1.6795184888732515,1.3619448475432014,-1.705235420770563,-2.731631675984812,2.2792657177565108,-3.5845902071266864,-0.6732856371704016,-2.641645577769227,-0.6254751380507987,1.3414988628341113,0.44617165983750845,-2.5529052304749125,-0.5820691958811086,0.4489246649225696,1.4756680821769623,-2.46473971728904,-3.468893910220827,-3.4704233636839006,-3.893056344585427,-3.851530682938718,-3.760225046224185,3.098742549743702,-2.7772014539304686,0.1395470894350976,-1.7474988663716937,-1.7482492493436776,-3.714931488339227,-3.6307882327503385,-3.6255215644531575,-2.6407605862300767,-2.553293363530581,2.371124989691378,0.4436398605312435,3.4435433089044283,-3.449200518026843,5.411031247365297,-2.464015863987008,-2.4630304814847386,-3.4480350320323647,-3.358555405297417,-2.3342219127378656,-2.3343114640498968,0.0490592612378068,-2.904464794686029,-0.894861989563471,-3.8873099532133057,-3.8915259822959403,-0.529085730925454,-2.8158276736535655,-3.758683500472692,-0.8070772365743076,-3.800908398206945,-2.7305828314554192,-0.7623932269555099,-2.6716913526267,-3.673681311515127,2.28082496492606,0.3143389631257509,-3.625880351029438,0.8884915257300384,1.3413289090967846,-0.6735469940387415,-2.639807758710633,-3.5814975055042932,-2.6404355574705827,-1.568738202133866,-1.5657178910655138,4.896194192566558,6.398129584615258,-1.327218287743573,1.4761171100993653,-3.4484199081051283,1.4747764398391243,-2.4645010788669306,0.4910304131388107,6.392161685776548,-0.4040648324147939,-1.3925759996603506,-0.35257304989247296,-3.404538867703434,0.09464046896420314,1.2362442039438741,-1.7813656319188755,-0.7563149413247663,-3.707770715271712,9.084203037433381,-2.6415001001026446,-0.6707865835309607,4.2941861521026885,-3.5361961860511677,-3.493439342029475,-2.4628653508153144,0.6729277389444402,-3.4478741433309943,-3.4612320720139294,-0.2070610462526191,-3.2692108119400394,-2.4314403780929466,0.04808270967414313,1.134898045851171,-0.8388660908771935,2.150169368160182,4.139998660636368,0.1371812814592768,-3.6635131163040553,-0.760583214360453,-1.7424663461700587,-1.7438691872982894,-3.671786366116337,-3.6313136349914217,-3.5813937025399802,-3.5872151635746903,-3.469024192673628,-0.6264454200592324,0.35577906170335705,-2.3839818110235305,-3.535385798003782,-2.551800473235016,-1.5652842094807462,-1.3179187754825525,16.24531169439754,3.451088072313956,5.211377545972469,0.6484715322008098,0.4967046778577185,-3.4460099945062,-1.4805628738319547,-3.3576241191474065,-3.357555738030135,-2.483143036588689,-3.446053063640421,-2.4803247479206054,-1.3902930166892198,-3.2081182848787133,-3.4167157248455133,-3.88980899188793,-2.9098827089130332,-2.904608154925978,1.0403949272607034,16.045914689742773,5.189798066641147,-2.728685280815698,-3.672418943715006,-0.7568585678938188,4.475919173121218,12.130828737000064,-3.580255189684103,0.3566867921784824,-2.6374574720850035,-1.6540194003054491,0.4504540295878284,-1.5655583481345252,-3.5300808613033774,-1.5637905684526228,1.8558421253530686,0.4965526220498904,13.29826785922403,0.6529063674700553,-3.445558524119288,-3.4664587778082527,-3.418691907183511,-0.9352514309344393,-1.757433943182137,-1.825475794985894,0.13343751287066208,-3.7390718146300572,-1.9927408465082712,-1.7405823746891238,2.5097159510261724,-2.689880514186165,5.194279854318351,0.3141066239326543,0.9843332125296279,-0.5790497886415406,1.4349127701630364,6.7120984577782465,3.447975394767488,6.397959994642147,-1.475229201365335,-0.20900297405883447,-0.8297265473694233,3.9875856933028513,0.05173238615506232,-2.901368999187645,-2.9015248753028824,10.881062495074092,-3.8866121971651326,-3.8399968201786048,0.05253507264119119,-2.8590721105550703,2.025817465376937,-2.7632328540371915,-3.7545837070019865,-1.787791405358168,-1.6537317796367115,-3.620176206960265,-1.6519123223871663,-3.620036159841498,-2.6437810188855035,-3.560760806824748,-1.6113389095246733,2.375230425294157,-3.44216757012109,0.6694956777825749,-3.443655108925568,-0.49143888646470374,-3.437698963171699,0.4949149302998139,-1.451490781197736,0.052450382135810554,-0.8357163014339616,-3.755598797021346,3.0868122039608266,-0.8326686768755927,5.305829315268557,-3.7089466344599984,5.1942557320310225,-3.61968628917196,0.31768566674068344,-3.6287293084806085,-3.6198671881070563,-3.576879874599305,-3.53160338407348,-3.531074817298712,-0.5372797141038738,13.290513557210318,-3.4415482106172974,-3.447540099766366,-1.472899901130396,-3.4425522196515224,-3.3524810546772477,-3.155109734960765,-2.3295680812218134,-0.3603829468947474,-1.25119297858838,-1.911843004537108,-3.8205836069676447,3.0496330822167246,-3.8138736242152023,-1.5814819620516993,2.198243621942504,-3.6651123553301055,-2.681746689737551,-2.633388380489308,-3.5776248650849736,-0.6252438897065973,7.21489791336041,0.44942782810220366,-0.5761321516261126,-0.4916619397698039,-3.53009242096552,2.465484081689996,-3.4397463673520514,-1.158203417083625,0.585291987783589,0.05221589529582018,1.0367696233157364,0.05342549419833514,-1.8166643079124454,-3.6594498714147594,-3.664145352147622,-2.6328192262251564,-0.6615321567145351,-2.5921709955221064,-3.5780409996982545,0.407392244804201,-2.5446746447088873,-3.5310405977430555,6.40461195815601,1.4831696755131616,-1.471847746808295,1.4823810850907224,0.49740771401182526,-0.33108905182408,-0.17368730702715068,10.524846880625468,2.028706623707262,-1.9113715762481354,-3.8406266228289154,-3.8837937314889226,-0.9183014943700482,-2.806731931085788,-3.7516606352560786,-3.7855664701094964,3.1880085809339223,-3.7065763333622206,-3.57731500834481,-3.6167323895154295,-2.5485389427417036,-0.6189174663467362,-3.519963163394137,-3.5261874124659793,-1.5148364710636137,5.332393665296253,1.3929828642556357,-1.4717889719885233,5.421398103324104,-2.4514585894278413,-3.439225787212848,2.4695665002407456,-3.437219034146718,0.4995438360101701,-3.4405221067725456,-1.4686972804182854,-1.471378270082243,-1.3783530697548632,-2.3658249207654842,3.99841068669736,7.003917646523023,10.006964312626554,-0.8320625550437069,0.1425982714983063,-3.745231836349357,-1.7560780683462207,-3.621717695858645,6.1381324441242295,2.2027313153342787,-3.6163479283359523,-3.6338882140706734,-0.6600875597477917,-3.6166080637468956,-1.6089072186650806,-3.5297233225543447,-3.5297233225543447,-2.234300564226057,-2.545250547514673,-0.5751869692195697,10.368099992455003,-0.48584674085363544,4.590357245159872,5.415829205496138,1.7951214083743292,-1.470302695343146,-3.4344149501416945,-1.4701078921205528,-3.439874572794897,6.450163228547691,-3.8095180863235822,-1.8163050491359987,5.1566121437138825,-3.647526412283547,-1.737306691832293,-3.6151818092074,-3.617070448740053,0.409940517177245,-2.542939814362403,4.906305706640334,-1.4686148118233509,-0.4867608962882491,9.359018299030785,1.7962140364845585,-3.4394944568185024,-0.4854537804951595,-2.4543868841821492,-3.435662550688033,-2.4540490477077275,-1.486271755686612,1.134007917907516,-1.7741043540297379,-2.7037475449920563,2.3600229139969513,-2.7173068094219004,-2.71692814937748,-3.6607450612111316,-1.734878848372285,0.27559598638909744,-2.6763826238875676,-2.633034510017721,-3.574419103919382,-2.4308276945096328,-3.5297233225543447,-3.484837596816681,-2.538042353583738,5.582550920560839,-1.4716183827621756,0.5024101110873365,-2.452832039529781,-3.309470185268259,-0.9285234810051068,2.1221921791986387,-0.8334880389132109,-2.722915868991126,-3.702203502635442,1.2620158458061708,-0.7077576252364984,-3.4166739271148576,-1.6032016404626956,-3.4369321250526395,3.4537254380368223,9.829965304923377,7.392904091671021,-1.466783298983898,-2.4523255472177823,-1.4698204229318983,1.725327217034775,-2.894274765948591,3.0596080191741097,-0.827894494606164,15.988393848085773,-3.7007695843900597,-0.6589025325161979,-2.629862450048588,-3.565675174189202,-3.5726753791939037,0.36859755786126513,1.306621761593991,-2.5432164512851645,-3.476191270594367,-3.480988150537551,-2.449985690633261,-2.451575594286258,-2.450255471084859,-0.483497066329197,-1.466196799740435,6.406615564864518,-1.4775369862185879,-2.888100388582956,-3.869769609190029,-2.8953201090630554,0.1501085027332903,-1.695472581035432,3.1883555629328426,0.2799871329595751,0.8356050572437639,-0.5022666423376332,-3.5270756644973247,-3.4833108791014156,2.3830905458429656,3.7694845698799115,4.755999489268856,0.505288478630956,-3.4312912697698987,-0.4824439652794955,-2.3189316356520178,-2.737604100308828,0.2582298456838935,-0.8786468185300892,-3.8143129592290794,2.470873817676576,-2.7078530416212967,-3.686727900719393,-1.7337602785108615,3.190282760625336,-2.7163160533798356,-3.7031467801712736,-3.655745141555242,2.5608753242640185,-3.611614585420043,-3.6102130134522983,0.3272742585015793,-3.6102906449938095,-3.209792160215336,-2.256908802128246,-3.4611873126551855,-2.5385392288111044,-1.465786635229458,6.412709940012482,-1.3761949210465927,-3.3449272999691475,8.890736127693248,-2.8885569869873726,-3.648096273052107,0.280627624580863,-2.5859010929440434,5.740389619863823,19.209459554636886,-2.450102994559028,11.910813588953728,-2.446969651816503,-2.3622773506249053,-3.4529305782355317,1.0455939090654853,-2.8888683107080655,-0.9180269703430926,-1.81986759564796,-2.799949624650052,-2.6992818908927534,-2.810213217416371,-3.6993245203362073,-3.6555370524029174,3.3252141699013937,-1.6404829742317641,-3.5654764092737405,1.3129385660899662,-0.6031938834418826,0.3469593938834,-3.52328629102481,-3.5224469940129377,2.38793554209681,0.5025490809455344,9.53026134137005,0.5052576334468999,-1.4654477711490397,-1.4622029329845683,0.5132983258973896,-2.29474885913553,-1.0049671790869483,-3.873508170310485,-3.787520912555088,-2.717775755934129,1.3123896465384672,-3.6085508325403155,-3.61307952912394,-0.5662219653036148,-2.5366986460192846,5.336021866410622,-3.4303780836422892,-1.4677403584923703,-3.344957534345323,-3.3402086725845734,-2.468030741476477,-3.869188841485276,-0.9222045542718924,1.0462663939673198,-3.8740511514197196,-1.7273422662553515,0.2417912595511355,-1.528763472644841,-3.6053039661682855,-3.610164981335405,-3.6127051973382325,-2.4492543700840517,-3.564937718198946,-3.518513141688744,-1.5500569051011845,1.4902819026153453,6.41032983478661,2.4747366318495083,1.4925840668031827,-0.47300307295636307,-3.429733984133414,-1.4620905840007503,-2.446472512023227,-3.2940934827923405,13.335070843773918,13.042426929320985,-3.7824753477206863,-1.7296091066771557,-2.7114172545083925,-3.6129629230443245,-3.607271641524555,-3.607935481535967,2.2970904950808078,-2.4674226241421278,1.5132996931261857,0.4171271117313467,4.604798723560844,-2.4452745743460076,-3.344595843596143,-1.3297045328831567,6.440704523846008,-3.7857032056223696,-0.8199959882773095,-3.773852447811312,10.087483824487814,0.24354892629251684,2.301248617494382,-0.6537925839104212,-2.6212504137738653,-0.6512390203430916,9.99305141284764,0.5108142883993263,-3.709409594207443,-3.7620119328972357,-2.7140329338972227,0.24517949480035472,-2.7073452732170895,-1.6821401470436075,1.3187626287926904,-3.5181157732311203,0.4165056961028756,-2.4378377399115223,3.0633803500067995,-1.7238543476448094,6.149038976463551,-3.694249722756758,-2.707180706733165,-3.6505872360497924,0.2872796406594313,-1.6339852422150885,8.208690881493768,-0.6516738401187925,-0.609805675148983,3.9327933133691086,0.5097747187987719,-2.443521091007071,-2.9557185805187833,-2.8427134389259865,4.827631778754077,-2.7116293471750486,-3.6518389445770247,-1.683315350686894,-3.6055441815178653,-3.5345344430435217,13.104370970843657,-1.4599695093137657,1.4959534606168905,-2.442561607658743,-3.427431630004913,5.119371182732676,2.0468340133376106,-0.8178863827040735,4.095638843674275,0.17745869583213866,-2.7051494850383775,-3.689563136959786,-2.663979813738763,-3.5685186376964415,1.3203913938691234,-0.6033283650063633,-3.5132274732377926,-0.5197811944240582,8.38878562595467,4.461642592515283,-3.8683600894083816,-1.8827059647767366,-0.9358377827228077,6.966088859080589,1.234934646662166,1.5884423693444563,-3.601054765296109,4.273224837763016,-3.6104111715745577,-3.6019529255181215,-0.44811282864934643,1.6318865514223084,-3.5135229712534306,-3.5161000855326123,-3.5135229712534306,8.387204411290794,-3.404694342646562,-3.8252327899110368,-2.5756545383167953,3.4693765549944,-0.4711765654716042,-2.4395326065471274,-3.113490102885722,-2.3067955825942903,-2.7050318314345527,-1.7191411977800768,-2.7049096341440055,1.2339086647615694,-1.7209205633383962,0.44708032773476575,-1.720083688324702,-2.706930112375281,-3.60102238392731,-1.4322999380258887,-3.423721041908546,2.56899933633698,-2.7899336710915574,-2.682178279101246,-3.6888606559659824,0.2739239637541422,-2.6155721423821197,0.33818591803199266,-2.624724291278787,1.413925645131318,-1.4566080683967064,-0.46910094426146504,-1.4733281008014794,3.1214636033032996,-3.7692138827750297,-2.6583702074951527,-0.6467390646086056,1.3256514660651895,1.325186134517667,-3.4018570727989337,-1.4708348109904503,-3.8651933874465296,0.07459201901728968,1.0571861036847656,-3.7750937236168314,-0.7280484303224555,-1.7189777381208118,-0.6426767021557604,6.3126051782626265,-3.392611434738434,-2.3738380627295923,-2.4351418890708905,-3.7755989225818167,-3.599247274067362,-2.568208086868028,10.229034568756559,-3.5103290231414292,0.8330227778251545,12.957233207489987,-3.772563878225486,1.2396369956516184,1.3254757375915383,-3.508850900724454,0.587348468491754,17.25687346704733,4.257937714136515,-2.238986879784582,-2.874610100324546,0.12230926730545512,-1.8019678798840153,22.066736674598992,-2.655921361643248,-1.7111078165857976,9.8423669455433,-3.479137115420496,-3.5086204253974818,8.50545864465838,4.768378492335762,-1.8843017926704413,-1.712739879775393,-3.6811387568901464,-1.5382034773596598,-1.4461239044527172,-1.2841056946638134,8.395649257831144,1.5059278514471328,-0.5620967280788136,1.0622932599123354,-3.5966970261156272,0.38711564685674743,-3.507194064837176,-3.506789828148835,-3.5071054087172193,-3.417299460866514,13.477907521873881,1.0640974692732237,0.2544025447334489,-1.585481856933046,-3.505706876882872,-3.4592177718460375,5.450603099328578,8.399706782771903,-1.2482445531777335,-2.6771083077434765,-0.4819696431840316,0.44080605311186044,3.6341271756201174,-3.417238287623021,-0.4531617148863459,2.4981418549812564,-3.3986019638587974,-2.925949257925111,1.0700160855254546,-1.8847858798077235,-3.635631012742744,-0.45990150566822197,7.5316000526910685,-2.7965157294201357,-3.623615481707874,-3.5494630560368794,-3.5470549244990863,-1.4165894761104758,0.5014627926358327,0.4348090438583591,0.4534416157117953,1.4211262231092086,-3.4145936041544744,18.401749285229254,0.5429332080583812,3.4844622615398735,-2.80399201776972,8.000724706872495,-3.545175121868474,2.4070940417285165,2.4066023236653953,3.2785434628721752,5.447968110645537,-3.227654015507937,7.419277675055705,1.512666267054406,0.6564987527427966,15.627961488061969,2.2318970060228462,-2.6489683382538716,-1.4479950787494391,16.442337542357496,1.5150730772759626,-1.5573889216595074,0.5044326233303015,26.12707721697902,-1.6794090664013834,-0.5653231893771029,19.236791940981135,15.299905267305748,2.5082312310576524,-3.584290849367656,6.43780649757561,-3.829824813523467,1.0729709801434932,2.180062092688522,2.2330170138635936,16.99519003349027,4.475360932696202,30.067178599731772,4.499198079877965,-2.8318282351563315,-3.522734482181043,-1.4328449154988085,40.90288049688886,-3.384735803617761,-0.630695906927748,8.231571338669715,0.5077529652041259,8.411666260230941,13.808108614888145,35.09976365548304,4.388455544342988,-3.40575699073659,0.1398619187795385,5.13860405865006,4.542142148694933,-3.4031500355708855,-3.396704108578526,-3.4042277004198764,1.3844071925445596,-1.430684262818632,3.315401244823685,-2.4863278191076996,-0.5989191902458023,-3.538592689708902,-2.4178225860580564,-2.322731151886144,-3.396668927361775,-3.5549063975321396,10.383883681774698,-0.28191231502976205,0.8289239149446533,-3.3851397964880765,-3.516896287545147,-1.6058724119628618,0.6474285623122018,47.74092636559709,5.472160663766852,4.599848742908708,27.78612139783644,-2.8137188781399254,-0.42391505764111,0.6293649599733104,2.646278242407615,-0.2668248033133063,-1.428165050066763,24.101829913401986,5.843081255820498,3.7978012875780287,-0.283165608871026,0.6516653012824726,-0.4299334215473644,3.510325112005327,-3.7102273712481133,-1.6007869278304134,-1.514986242427257,-3.4160016150943604,1.5962794917934409,-0.4354131530317408,11.597895338169668,-0.8199834068014611,-1.4262773426391455,2.179505017289752,-2.5332907593423064,1.5804799931006404,7.639578659787936,6.463887483432633,-3.76763488224003,-3.352898167772726,0.5573030300059496,10.42777583755936,4.531589003827828,1.585760257294146,-3.514646595666644,-0.5051793043095788,0.8886800150954712,22.892430084040107,8.502474103035107,3.379822989665846,-1.448251641811803,2.1586992957458078,11.441704168962604,6.486186655011735,17.0044889337695,16.41878351088402,4.592396165048377,28.847769164220743,5.950558054240976,2.58306177908979,26.29209603738227,4.529209991234538,6.4978244908866465,3.519795514614855,-1.382864287071873,-2.3066827380122223,8.02369327341285,23.31392202951835,15.532335165608824,14.861487060107615,-3.5896058542999607,12.432572782315944,-2.331316744108329,11.3684661761144,6.222876485625463,-2.9452960682610603,3.4166849213551775,21.104876312183816,-3.2108544792447975,-2.39186294441986,50.509153874498466,0.5066072151358857,-0.4745832098196871,0.508216397865399,16.643527390590947,13.789462656880389,1.5316191498147902,0.9060609341221338,-0.8203659794017573,-1.6289461002614147,-1.9368416616246071,-3.72702362790157,3.299074260756256,-0.6416247695712567,-3.457594700875597,-3.630005506130492,-3.89564534939762,-3.7634834981487697,2.2771077071053796,-2.6403502509166015,-3.757106656367738,-2.6318749495212406,3.3112734790477196,-1.6528517754844876,-3.709172822728209,-3.524583355054575,-2.5870042308482653,-1.6005561810358324,-2.5826640186895826,-2.62563111797629,-3.519325514618087,-3.4200451750972287,-2.793042992408911,-3.753446634852444,2.3491765945694243,0.6118112039655693,15.222005506204976],\"y\":[-0.8712559116545757,-0.9642731150871716,3.0051244867690365,-1.0622939902484843,-1.0626774817081817,1.1263894979178024,2.5895724079187596,5.346431412824144,5.352298771734868,-1.2443173379431178,-0.9806961388743277,-0.8924891720621213,-0.891658685616866,5.812924540759474,5.171984159306616,-0.8931158623468092,2.9924756088020685,5.819855910932741,-2.274492323664202,-1.6069533760217285,-0.8955369792923159,-0.3538448698094691,2.575181109536649,-0.8966769019394182,1.1127131113097308,3.7769939165285984,5.807844013906222,0.38907214213476077,-3.921566703816887,-2.2773886056838997,2.8102613695759153,1.7631710457486995,3.7723884253813984,-1.5610739085934462,-1.1698401678086363,0.3848856440555546,2.386268392359664,4.859170790826296,5.80365546218851,-0.9041847259798235,1.9407278156745689,4.42578699020543,4.336424926823938,-1.564249517680238,-1.0816335775403736,3.7699983574116382,-0.18510817686542988,0.5555788809748765,0.3819822723965538,2.5705148662554436,5.625004645428487,5.977596087883808,-3.3130141890527907,0.4707566092478468,1.3663902081616583,-4.423397911862242,-1.2618674693059853,2.3021163579112476,2.4794066959096606,-5.368683021124559,0.6291769302030596,2.4959193957001244,0.922287154822304,1.8464768543534609,2.4771557431565574,-0.7371616185294657,-1.1755312849079496,-2.186924410596555,0.37842368258774217,1.101809767694574,-3.1658138355332115,0.02218993394329249,2.722345877379117,3.852837400955045,5.975199333353985,-2.2873230798980173,-0.9963430935500893,-0.18229303042683417,-0.36505176321611116,1.6654861683684836,1.3112702288274072,5.795461400951913,5.707378213156159,-3.3356944984633468,-1.5666146940995753,-0.36785095942367796,2.2958851908534395,1.9407491773576948,-3.7627609991120945,-1.566185117064195,-0.4624141755299499,-0.021807835984690015,1.8498068519780502,4.881407973599905,4.8724615505244655,2.9751836857974516,-3.75641254206326,-3.932530596936097,-3.690191620364797,-2.558088019072827,-3.448553190900797,1.3971850002272912,2.2939323310890773,4.595112343973294,2.1658808791301047,5.881260273042862,-3.595764192749617,-1.6573057767928883,-1.5695938902965945,-0.3697637634057288,2.2947307163281043,2.558907836090862,3.761263731078033,3.7600256775895167,5.347674152618945,-2.9476226619337904,0.37388251800522915,1.7461031204109887,5.791324806280609,5.614701718243497,-2.292807441078211,-0.9149777014777127,-0.5518879303709552,4.335236078624091,5.7866688377275,-3.848387011069238,-3.570800249787122,-1.3549794832874198,-2.4698309568456427,-2.3809555434105643,-0.9166439103405052,-1.1826302892300788,-1.0002233553006077,-0.5507745327434418,0.4095253366315472,1.1831191474252347,1.18187042191706,2.559456563682743,2.206129232246879,2.2029422544390758,2.2928161863849974,2.2930713546444412,1.9843208929548914,5.703325852153795,-3.238780980418531,-4.026772390496097,-3.5001091433627023,0.28263205441064815,-0.28367288834339877,-0.19838196076410436,1.1837931924894387,0.7375128012228872,1.1827870122090327,1.6613923186661628,1.6607584384390546,2.0237000013221045,3.7583401404560606,3.849579791949375,-4.5055674314699825,-3.7591720174506884,-2.3834223533531897,-0.9177675065775195,-1.3985503331775997,0.28100766438716396,1.0065622154013265,2.5596543962994223,2.55720581575369,2.2041718378740334,2.380390601288145,1.8979062438325753,2.5975951166648548,-3.9387515967486393,-4.594993927765204,-2.3819753970247883,-0.46202760947777916,1.8373088094431138,1.7479150698946888,2.5478011848677635,5.790304520581628,-4.685466651712717,-3.9365256960262753,-4.434070877740972,-3.2366015035734574,-3.5210748514883523,-0.5303770510749392,1.1777583357255086,2.467797385692862,3.578291065088783,3.754444333326688,2.1612155923400085,6.050511964454392,-3.670793585665511,-2.297491810816665,-3.128561535938437,-3.736406678787016,-2.384002273048722,-2.384004801458958,-1.840606968778218,-1.0590174905834446,-1.5748543553233478,-1.0549223256513385,-0.8197102449155357,-0.37478490719314084,-0.2867843973575733,1.0018848686449893,2.6481991846568023,2.467629167644015,2.555928959095193,2.2003191992518008,0.6729709189281977,-4.417517680484635,-3.129352434311147,-3.1315392907025954,-3.4829549067769063,-3.947257108436414,-3.130556235168345,-1.5736244652862883,-1.57558587549957,-2.996465592846651,-0.9187873359680501,-1.3631746507705949,-0.1975030305144295,-0.5489252683467319,0.45746956164720115,1.1791178517783392,1.5696263669650614,0.8269275659903279,1.0057752912430775,2.379538684152514,2.379592357074548,2.467671554404599,-4.3290642052205195,-4.741212479930371,-3.3089412412274566,-3.3074150934476987,-0.37565882057105654,-1.0863837431383903,1.2124089971328513,1.839245203210578,1.2360783289283939,-6.2471705456381335,-5.083572023167444,-4.774692451806634,-2.1969267166152195,-0.47537268702938984,-0.2855096208201497,-0.2003700284335434,-0.19996491942691808,-0.19741295089590838,-0.4710602915958741,-2.404972345430082,0.45459118974076484,1.0893655660896304,1.6561455169158064,2.589306274681916,2.5549318221586406,1.9778260042816154,3.929068280011435,-4.604648694199399,-4.776205961742508,-2.3872087108961986,-3.7912272632646244,-2.559341821781167,-2.9575464210394977,-3.545437804430004,-0.9204629689305835,-1.5769088171724523,-0.8361368825847049,-0.2873967103754594,-0.19598145076860074,-0.4643297510224226,1.4431997705022732,2.375417415356208,2.3814722935028816,-4.691210339547561,-3.7158160372435916,-2.299019078720546,-4.240265565264368,-2.954639177392366,-1.5793789798581497,-1.011060614193041,-1.2771443868698882,-0.28426606930031423,0.19018488954778448,-0.28975889625497864,1.1757411861880906,1.177012277154914,1.0859726634205717,0.9098391839189183,2.3726995133089575,2.1971363058880993,3.6620162559803715,3.754061486498932,3.929575941983303,5.0416330382022005,-2.9799152947199685,-4.776360933267543,-4.421794278362232,-3.6759803692102597,-3.8582958823630236,-2.584779325572801,-1.5781433302312338,0.4545058090636673,0.3826436541274821,-0.6447694749943251,-0.4642827336863249,1.0864946170815086,0.9110900147285999,1.1768937860106503,2.9731045463897754,2.463647812195179,3.836842177139805,4.497837085172449,2.9648333897808543,-4.512063932481873,-4.332766908375374,-3.8500242543932273,-3.9417106430712283,-3.4388504913611815,-2.3000225094429996,-1.4550904272144725,-0.9235050449992945,-0.5585196209225972,-0.19321942232441697,0.9092433841350913,1.084642435054559,1.0835049240504437,0.9979248348827904,2.462218093864622,2.4833327201090714,1.3979086395357665,2.269621447795708,2.5530683281714155,2.551260874639943,2.264097477952745,-4.779745627778708,-3.063223571396409,-3.311962919533644,-2.7634768358684036,-1.8454197439521431,-1.9059164491557363,-1.5457746411109272,0.009562672109448883,-0.20208031076831298,-0.2908222792120184,-0.20131038896204012,1.17580319271427,2.284687235611495,2.3734460294579423,2.1955931325889724,2.3734671119058164,-4.12152298901566,-3.69956036788135,-2.3016439817578367,-2.9560033324370614,-3.6157247000115427,-1.9360767070269076,-3.4452015259159086,-2.2909017857951164,-2.349525111613085,-0.7500952652073518,-0.9234930221637037,0.4522852896496784,0.14344431497055152,-0.4707143180136581,1.2579347890289232,0.9970779563070832,1.2997692529772176,1.4848579394172552,2.5491416906120232,2.1080691433785708,2.5509508575862694,2.0048540237055095,2.2437735295051673,5.304895542162053,-4.638149108511982,-4.6011781029103815,-3.85624807042071,-4.034695315452852,-3.044489671029469,-2.391528073652023,-2.3014711310154468,-2.9565995866032586,-0.8878981410901995,-1.4584378932574422,-0.5586252927335058,-0.2839396090139638,0.3646248926834495,-0.3811993833768734,1.174235613490439,1.6512474438921567,2.372203498479226,2.1496091430557556,5.304392769067616,2.961859721090515,2.9616426474702546,-3.0651085294923464,-2.958122528612884,-2.963009978939533,-1.8516315996410637,-1.102623194104082,-1.6687611800182591,-0.7369851679341655,0.45142414257788055,-0.4701793331916968,-0.2807037459522773,0.18078203094767498,0.01412120060249445,1.4711242069076662,1.0844227774801534,0.9058770555235593,1.477853943709262,2.1036082478864566,2.4601205752033186,2.2519799376272145,2.2425987213948955,-4.336393114808351,-3.678863249772867,-2.302543301556753,-3.796050388573239,-2.3918391907102854,-3.317954125871912,-1.7591089590606679,-1.758127161718701,-1.5808065194029104,-0.2034006853911711,-0.2051010404973175,-0.2944392931540904,1.083691173785708,0.637293222609945,1.485397767534806,1.9264776253879892,2.549049514639493,1.7522112546485529,2.460123208540164,2.460089840980706,2.5485096285073916,3.9262196783433128,4.49353589467828,4.493210888535027,-4.692528544639411,-4.425699288806249,-3.946422714874212,-4.442807629669806,-4.333750218958902,-3.094007200382771,-3.1544961603227057,-2.3036889843802597,-2.570285617795433,-2.9582098937690966,-1.6707308713914064,-1.8473947580621632,-0.9916422761760844,-0.924994901159336,-0.7391877576531584,-0.5617455917065156,-0.20617342014454906,1.2595205717734965,0.0061905842080525525,-0.47087673374937145,-0.29475772476899875,0.45087893021759967,-0.2939951365548346,0.9944332262764461,0.9920573337989557,2.356371430806648,1.6590136869532761,2.548354429511024,2.1044561376705317,2.5492119877025443,2.1036455331442543,2.4600931477472607,2.1922515405384058,1.6690798793124046,3.6586419353562243,3.748671320696611,4.32549810344253,2.9825055706093826,-4.143205456621479,-4.162959883369071,-2.6967405456224993,-1.853190437648791,-1.5798828499641893,-2.737271170731304,-0.2963082214199379,-0.4711349799276286,-0.26128748142369074,1.1703356315975788,1.8269377132140128,2.459452414127375,2.3783430107359593,2.549310778889554,2.2363168370442565,4.487568773125432,5.3021064130283975,2.876082044756573,-4.6921252625078695,-3.7275968285321652,-3.442622465419462,-2.8379904697546707,-3.55397000477586,-3.316013944829747,-0.9253338142430675,-1.8489291443347324,-1.761739770596742,-1.759547611001502,-0.9278685775929357,-0.20437187683846417,0.4496861963085706,0.4589321246654174,-0.032244141908955276,0.18181087993706777,0.09501879994508614,1.247906865310003,1.170265330672403,1.0816722312441516,0.9917344016676608,2.5417795360670485,0.7699472237953778,1.9284165244623075,2.7011335610249447,2.3651459235445977,2.197694758278193,2.5473436948530117,2.3720080436960926,3.9241005404974163,3.9246168098070675,2.1506860497189333,2.25858543647065,2.149679015555797,3.7476768494836494,5.978381935775361,2.9617325130004475,-4.337729116429743,-4.418328322456908,-4.427412527474217,2.405392371598152,-4.565303516029319,-1.7277980448923012,-1.6726777503386707,-0.9269112119888189,-1.8512999008433633,-1.947805204911629,-1.6287105580428691,0.4484365075170477,0.09363742844893747,-0.2956732730881385,-0.386536019880765,1.468358908786912,0.9916129792816061,1.1683958909821397,0.9914055918917524,1.2452119344539436,2.1887135100155386,1.034862805518019,2.367342970103806,2.54760260324561,2.2381971260971616,2.9585311740175513,-4.604891348838613,-4.451017727623565,-3.419981481114375,-3.3149453534944886,-2.285992409900027,0.2515928936338107,-1.7623153744280327,-1.7735789521815706,-1.013535096222451,-1.7285942957175355,-0.5636817128111272,0.7845434854648539,0.9020323691759127,1.379256728115942,2.0038056684585674,1.923501786327307,1.659190800621431,2.368401186796854,4.488058967276853,-3.1825591727693157,-5.050183283468588,-4.694424050350848,-4.428538604702613,-4.429258990560471,-5.6726121305800135,-4.340166292724766,-3.6784678158985726,-4.6959308367941865,-3.77303614935724,-4.981035538705948,-2.6098894773795567,-2.3065510979052655,-2.4838675625510764,-0.3860243329784123,-0.20983113125619626,-0.38450563385003567,-0.20900207166775786,1.4876701837152675,0.46263258594158,0.27271299720446274,0.6345840989461619,2.544207015738761,2.387360302654853,2.545555925529075,2.279389214220213,2.549206355405324,2.190107661405296,2.781418407368332,-4.6952646022483195,-3.4446159403219507,-2.3076683192157814,-3.576988118993855,-3.4473886125135818,-2.2110850209128214,-1.5858295527157267,-1.7295884722776314,-0.20957722575810586,-0.56492381643704,-0.20644669943220997,-0.20979754701220804,0.44714125576173375,1.167919522542467,1.1679728943424112,1.5576030691975555,1.0388528365900405,2.5446142530072446,2.5523238983643526,2.366234982532207,2.5437803663448006,3.9210595243025517,2.5899410387556823,4.49246353569625,4.310805942552361,5.776854246956466,-4.625290026464794,-4.221958193352486,-4.307020629393236,-3.7070947779086505,-3.2188981329338926,-2.1199524237079763,-0.9300600565123134,-1.019702050810329,-0.29851041452445165,0.4469663724561866,0.1801845381859606,-1.1816943327704368,1.467792174626934,0.9017415980926291,2.278329471981378,1.167684752616459,2.010091442037385,2.542427619186221,2.7112971276246753,3.566267100048491,-4.695860931233365,-4.785527147830213,-4.696796286754287,-3.357145785330204,-0.9290019901095706,-0.9314191508398186,-0.29912704940209395,-0.4766420195425702,0.3560167416087598,0.4459941478591869,0.8128067260957692,1.0776500696846059,1.1678241800941866,1.6538283663315156,2.0987643105135967,2.3655908897320495,2.099926527152114,2.188875729534641,2.44972929266411,2.6231255172242416,1.8929853990688272,-4.982840504750877,-4.626249153886346,-3.686227299515103,-4.341054879975438,-4.823311398870588,-3.0582875809157857,-2.309528398674129,-3.076963791199122,-2.2104398741813727,-1.588404362305425,0.4464884783343243,-0.21179891153290512,1.0122077189426693,0.18415459963419067,1.1600905478639636,1.1721376889552428,1.6419496438425585,0.36687211972668715,0.7227354028006563,2.3653723764975916,1.7427543254206257,2.4528105167961867,2.54233344670327,2.0085306940658527,2.5420800195608155,2.18648090228366,2.542494484067579,2.364773041114776,2.36546308823508,3.7395014177400774,3.831532845347453,-5.161988663097284,-4.98816897162988,-4.6393891581488,-3.4472536392258526,-1.644380446615998,-2.5228458595194594,-3.1328857068211913,-1.5378050877210914,-2.4764174995701778,-2.1208534799436998,-0.21278477892396777,-0.17904565283863336,-0.47231425702068547,-0.21213455980233706,0.2685813470103692,1.1664199086999272,1.1664199086999272,1.4249927723335156,1.0778445420269074,0.8991163965314235,1.3127504841974116,2.2764567862865697,2.003451603270541,1.7464743980860755,2.4436550583267085,2.3647204619226776,2.5447167879680026,2.3647145174600332,2.542612317943432,-3.2798486229173816,-3.7096236862616556,-3.357712758790127,-2.3914287110473937,-0.9086899930190019,-1.765856196344379,-0.2119065108080249,-0.21246625974839495,0.8092694420400313,1.0761737374817455,2.348696689721319,2.364368279692582,2.2759079722679454,1.3872545342398046,2.4448843551866046,2.5418280496853125,2.275421452365119,2.452623933564294,2.540526180743163,2.451982955181032,2.0541187146596984,-3.5186963564138165,-2.5971586348219167,-1.4608428464670176,-1.9502918983397972,-1.6800435057705863,-1.6804146498764516,-0.9333690876739502,-1.7667608797140788,-1.288649768941379,-1.0234115235077457,-0.29990743436601613,0.44598896389721493,0.5267316711401655,1.1664199086999272,1.8189366011838815,1.0748827435640296,1.9121536190219959,2.3729036523810247,2.184349134339074,2.45054201675619,4.574287393496385,-4.610001851942319,-4.95914872712269,-3.342629716697948,-1.676143540933743,-1.592436960459016,-1.3780182343459582,-1.2015776894118995,0.6172512974015577,0.2661655734914736,2.5391325272068825,1.9180734683014458,1.904493894511975,1.563441137070172,2.360405915252697,2.452436595977642,2.363503068124805,3.648803479895472,-4.4338054873296615,-4.4190883633680995,-3.4500455397515055,-3.367805104380788,-1.5918858792375408,-0.4813215842231751,-0.3020281630153548,0.4384679884927644,0.4425077980458176,0.08739993321381445,-0.6552495739137474,1.076507469818625,1.8241656286319192,1.8160044816510001,2.4510177087654577,2.4508298242782893,2.450631980032901,2.2758614980702006,2.362484483875365,1.6590715810953351,2.0501964046739762,-4.430093767695854,-4.560748614387107,-4.433759128956034,-3.3249038581421457,-1.1050196704321755,-2.2125062797706785,-1.290768008326737,0.6064171226159358,-0.3063949621305774,1.0975414517076323,1.8193833361075042,0.6297900988494428,2.2631548602361846,2.172826549509336,2.182223073275536,2.545847731917391,2.2729634593445955,4.483641444859815,-4.262032178020712,-3.8718185999999553,-4.064037027362336,-3.121968910626124,-2.4986152383108613,-1.6853139591124526,-1.5993583750904665,-1.7701033058157019,-2.2147216171933626,-1.6811414724762896,-1.5925734472475912,-0.936160945692091,-1.1231681184698281,-0.2157049541259395,-0.2159005620724029,-0.5722711199345298,-0.21624681074742214,1.508381962064571,1.9490951501040887,1.8373804592825707,1.0851862120981304,2.361929782778245,1.6499227050732082,3.737109222711565,3.915379154818337,2.4220241399285105,-4.543047751167953,-0.9420037579020718,-1.292722574641349,0.35440816505679457,2.0829372683868734,0.4954371363531814,2.4496972570842734,3.025851058048569,2.4487286511606547,3.827995646414068,2.2296147677502893,-4.791075888137452,-4.438033371816894,-4.720727448083032,-3.147773713811933,-3.0613759549760426,-1.4643272711517534,-3.167927058478178,-1.5929660364805696,-0.9370609048650207,-0.183928803132843,-0.39404310747326077,0.4375387995154302,-0.662258444409752,0.16606427896613427,-0.5556312868287749,1.1606479697735386,1.1610211853011525,0.6264932268392234,2.1826710094344812,1.5650318281237776,2.1843337101940716,2.3612432760733086,2.3585668463733342,2.1841165173537678,2.623562352042571,-6.0990381870747115,-4.348670904242972,-2.9703075319713137,-1.6817302804048324,-0.6607716463396494,-0.21719393923246952,-0.20523052787298685,0.8927464018181738,1.0728453206260053,0.3604757988241593,2.535925186146123,2.3706468752966514,3.9140033357873993,3.9134145067294814,2.1417375432877948,-4.34507475932363,-4.615285884457039,-4.793143298502333,-4.349014106713446,-1.7731576881165918,-1.9510865478906583,-0.9431970378433049,-0.2183420457657698,-0.2161618504555915,-0.21147312779886465,-0.11257123101511315,0.4381635358179416,1.1580035003149114,0.9823676765660536,2.092952594952059,1.6514948015286637,2.0033044451311484,2.0902467565424137,2.2747495384016205,2.53749597484767,2.3594858619779338,2.446076352785436,2.4011248524663102,1.4452973196715235,-6.223783264012163,-2.973288934806112,-1.7745775847222223,-1.683542972325831,-0.21777092008585866,-0.21864530024680537,-0.21983474711242829,-0.7495215367624771,-0.1341482405170182,0.16714384292941942,0.8055109983219338,1.9955503399332963,2.44675400115003,3.914341247601115,4.39001233868207,2.0642111639451133,-2.9723764973020113,-3.4553250410899494,-3.187571782160471,-2.84001708098473,-1.952683056351201,-0.7532333184556651,-0.4855841140689638,-0.307784297652183,-0.4860971257143414,2.07250280406869,2.1797872026484604,-2.0771597955822556,-2.293468586220279,-1.6840183363307095,-1.9545041212137755,-1.6862809299339652,-1.1189228835110379,-0.6643629031245539,1.157004785074457,0.8037109312166474,2.449213991018271,-4.317588867151856,-1.7739978025551726,-2.485428792628851,-1.599095365052331,-1.6865684763422828,-0.9424769869482591,-1.2962195941063428,-0.398428418996677,-1.2864048966084702,-0.4857787303662632,0.16988767309638067,2.4327878896062187,2.178678343909603,2.445961356533962,2.7634857785894296,-3.784673938436526,-3.5276131329854006,-1.6844223122926787,-0.9405722673211814,-1.1186980705099798,-0.21935629252975009,0.4535421057928946,1.9771637614821673,2.3571790847321843,2.0885797806283715,2.444102137371172,2.532093456916887,-4.267380063797067,-5.099490325195886,-3.4560412936560017,-3.6861270774866823,-3.7660527960422714,-1.6874946159365776,-1.5989881667851655,-1.0321339111674723,-0.8941330531643022,-0.6664867061768347,0.1674565919086673,1.1560494770924856,1.545087123613381,1.4657140626427059,1.836592250462911,-4.352948537554552,-4.509259855959039,-4.6031369241154785,-5.325206182574887,-2.045771840291675,-1.0409431399972477,-0.2220580086682814,-0.933153472201843,-0.21919160104096766,-0.22317762192238114,0.340000652109548,-0.3190866023993884,1.1545886760193453,1.1571873354281466,1.1545886760193453,1.4674214702576849,2.9469390602640866,-3.698575774604958,0.3456535198797014,1.9086550330905203,2.2647171237908705,2.441965507810018,2.8795694158233878,4.474358096942806,-1.6889277929108646,-1.7785915123967646,-1.6889605744633853,-2.044977330417489,-1.7771531577764923,-1.1265103558773615,-1.7773655895451888,-1.687263511455541,-0.22409062481191547,2.3667572214805412,2.5307677363184893,3.3774138044747692,-3.067766097836703,-1.6742387632498676,-1.5998006246963479,-1.9339673844596859,-0.31278630484008574,-0.5792351862337316,-0.2862806893963824,0.7072872904755451,2.352421236314634,2.2613517409149617,2.0443195873237348,-3.5969536223791776,-3.088495168248386,-1.0347710218741282,-0.4919474917382858,-0.6691243468355146,-0.6696565957282425,2.2564378178551157,2.0424644080069956,-4.35555469085293,-4.712309575662932,-4.79944792294039,-2.979915872747499,-1.8643851787166763,-1.7796007934230311,-0.4916416374324148,-0.44346596544021677,0.6158915850343554,1.2396275764703777,2.4394964552899805,-2.979152847892606,-0.2244296447096134,0.34013703252816363,-0.813759929606954,1.152373549201666,2.518085222135318,1.7998079703741763,-2.982314441864716,-2.048172568509323,-0.6704628316147743,1.151568597104633,0.9677659018967006,0.6619909383926773,2.7771179389077,5.2106703644680135,-4.555916752930871,-4.059771502548341,-3.159406629700181,-3.738663381104992,-1.0374268527260433,-1.7823063746992434,-0.6660356074888654,1.1277267801595918,1.1512637695539931,0.9118696719100188,2.1613892564296457,-4.525319783623504,-1.7828985689821037,-1.606956888893528,0.9721106062177104,2.3485870142015584,2.5303322279228575,1.4599714204835408,2.0806672183010826,4.228157434755248,-4.802943374002098,-0.22790349808373156,0.0726659734059259,1.148919883522007,1.1488631691863365,1.1489522349404777,2.525275113024215,1.18836846744999,-4.803190754746547,-1.9603654870851448,-0.37725788914702557,1.147979338145367,1.8053956039829298,1.729618512913434,1.4571804794326384,5.132843317175597,-1.6700192829342497,-0.32222448762465994,0.7969998110454138,2.0757994711114716,2.5267055429857335,2.2614005915563427,1.9954116347076765,2.534844878108999,2.764549508670187,-4.91260299934429,-4.532767602375105,-0.9525331142524783,2.2586368605935987,2.8521957471433512,-4.202184909675437,-0.9219953893411328,0.4256668857921042,0.4254149626712503,0.4260665092776068,0.8318214938888158,0.7932862295550495,0.8026880801171095,0.7021586201415242,2.5237093532520927,0.7411762084113931,2.18604670814674,1.8987382126338084,-3.988051399536984,-4.772247701876829,0.42407611569017745,0.6128454680741975,0.6127781246332701,2.8518608964315426,1.7220606498826194,3.1066333390346648,1.5453530632394996,2.0785217701887104,4.2002298305053705,3.6950222584724037,-2.142343356560235,-1.0426089110749397,1.0146954883303054,0.9229252522104081,2.0825058847190507,0.26548239865746126,-0.4145276820529956,-0.1429459800030577,-3.708751500613244,0.16872336208922958,0.47730427291848354,0.8372599030027522,1.9864313289615512,-0.23239808762675518,1.6313373846226427,-4.340060383755666,-4.810788690658512,-4.381299885163163,-2.144513341926166,0.9221385913921141,1.8119476317223275,-0.5018118389686762,2.2214123689319663,-4.413847629075665,0.4305376404403098,2.3471385546309254,-1.4744673004792965,2.5313043705870863,-0.5006240767712522,-1.3033175526504872,1.4705386080266791,1.450490813910495,1.5374060454136125,0.35435855858836945,0.4345712814852988,2.517695632163584,-4.281468281711588,0.5952286077041266,0.6019669859612825,2.5175909870029294,2.525664612118171,2.5351636559983266,-0.020995337973297674,2.337624724431312,-3.9807387175542726,-0.8747177062057825,-0.48624310694993883,0.41866689259745654,2.427124219163084,2.4900392273644845,2.226605546830826,-0.22501645824315425,1.2699016431274168,2.430757072899123,-0.076976965040601,2.5272832348627663,-0.17971009936002552,-0.41641969267417445,1.611479726029255,3.7300562075574795,1.7135101213323305,-1.2849616373668553,0.4933676201290805,-3.806475386861198,2.254886960418573,-3.528483032261944,-0.430188015756575,-0.122856429282807,-0.2292700549802223,-1.3349104508368466,0.8539658970245043,2.2532655128131776,2.1355981651962286,-0.9536793161361341,2.2584799144371974,1.8847036356333697,-2.9756791816264063,-0.4223009362725971,0.9562565880148353,1.804195945599975,0.9122224907532896,2.2396248594313155,0.14688981438200727,-4.600670998745941,-0.2291077592576887,2.768233671742628,0.32197107607376546,0.15749463625322857,1.7303090056006736,-0.4756238151508628,-4.44403768423969,2.9144402584083804,2.144914278976354,1.269737481525385,1.8309374526501316,2.712930037231031,-0.22263921321968286,0.19437956975687987,2.5080549841871838,1.5441329155556185,1.470961028740967,-0.8588961787996943,1.6074845719591704,-4.988406724864009,1.2262859683186522,1.6144897810265029,1.4512648230507568,0.7742727015871634,1.8274140662037737,3.9443898567711346,4.511629716219703,1.985330695242552,-0.11157158037059199,1.7921237395798952,1.6132375435242767,0.5411580922448123,-0.20888684999443535,1.219360260282165,2.0734160914403175,0.13122513273902411,0.8988078833913088,2.6102238763495915,-2.374479773875311,-1.4636978573813744,-0.13439873509952768,-0.8509728971057234,-0.13664495887278572,4.757397192805756,-1.5847369120773154,1.1267233459194246,2.5314569075605817,-0.2984790864621142,-9.334822327006147,-0.6012450761639956,-0.5144743452913404,-0.6024180399549698,0.8053743776882146,2.501595203450503,-3.9740492344360656,2.24691327051177,-4.825161061283738,0.29655321091430004,-4.491419997206196,-1.5604457001041512,-0.15212081670586286,0.2086486241583975,2.568828692407827,-0.19025237695654224,-4.321282934893526,-2.287975544527286,-0.7221338596196065,-0.28295142072759943,-2.293891564154036,-0.2865959857266086,-0.160086808178135,-0.3722771173767488,-1.5730561068068385,1.1775315344167934,0.3674348439538802,0.2767770733454729,0.365462770262191,-0.2914865546530049,1.1744004487117474,2.549721887008927,-3.0621794439615413,-2.9989262003351165,-0.7428022475058261,3.809302919409417,10.529288540810912],\"z\":[0.1953906913291992,0.05570130533036364,-0.5349367329612633,-0.07757774561333355,-0.07719483935748984,-0.33441155698007635,-0.4470590734085042,-0.9382348321805136,-0.9343735454216074,-0.36259633501623945,0.0716458888058984,0.21717112030737537,0.2158956184183177,-1.3660196091689716,-1.216705127277349,0.21783782409489244,-0.5203612634362683,-1.3308024944380785,0.48085487377091274,-0.929386369695597,0.2209713681002624,-0.2030805497029557,-0.43250892392093815,0.2209538223307647,-0.3199450450520361,-0.983124836644137,-1.3593066618685035,-0.18076637960150102,0.3133433322764823,0.4855415981255992,-0.8051942396951882,-0.4376155570450693,-0.9780447711037737,0.3511352972006863,-0.20252052113380484,-0.17527272584014433,-0.030715266510276864,0.9897747479046771,-1.3549977682975711,0.2308949528844826,-0.7491326482927149,-1.0948546071421457,-1.2399506653962464,0.3539541278799859,-0.05883050500444116,-0.9758605997169488,0.0934048990543718,0.8001766259304502,-0.17314541570093933,-0.4276877503393224,-1.6424271372941708,-1.0660093329543954,0.19500555029795805,-0.02916029493128261,0.8030069125174853,0.885781515388258,-0.3434566339211874,-0.8570152851700555,-0.5695214849134532,-0.07643466631804845,2.992687794486155,-0.5594216585877753,-0.5955335510096761,-0.28504728216530334,-0.565633624951699,1.886305463180601,-0.1974120469314087,-0.6511586313960561,-0.1693707143147512,-0.3087650521960033,-2.2328302972224754,-0.7430708185813116,2.600467850331927,-0.8249246300133729,-1.0626385108095715,0.4944512054387633,0.09108099042558689,0.12038447845814125,-0.18972013346102895,-0.570635278491069,-1.1481133936962207,-1.3480863569886297,-1.493130213842108,0.35730723904226186,0.3558963046721063,-0.18833558812045426,-0.8497776215552684,-1.428199337727515,-0.5181513777653152,0.356513632324631,1.0400676628647534,1.7541179625415457,-1.5683654512218468,-0.9618083597875832,-1.6573382697019448,-0.5041854002718026,0.6128255242854477,0.32402738256744656,1.5992829329647664,0.06736253004939226,-0.438673434890056,-1.000004373340075,-0.8499677238599697,-0.8009392092936558,-0.5097520848853205,-1.20141457446297,1.3899764533537426,0.21550320836561296,0.361473162889575,-0.18814952205765514,-0.8491020122578049,-0.41581946366111494,-0.9658087261891988,-0.9660012590347568,-1.3855905526083179,0.6209161994627863,-0.16227435238238255,0.339064110280889,-1.343978700860732,-1.6316790465931645,0.5014928932064993,0.24038686904780976,-0.4714507706034738,-1.208914000709377,-1.338839464475471,0.47316486831118665,-0.38564091866778155,0.32993753681510934,0.21141431887868264,0.3566093638853254,0.24155014456656823,-0.19152784221464686,0.09513232727203652,-0.4723206062116438,-0.5857816193364577,-0.1578467805553585,-0.1558463497666702,-0.4166872016248682,-0.9938583882030073,-0.9903773608457184,-0.8469857120567751,-0.848559497733504,-0.7940179703712085,-1.4865458780641467,-0.11744611521410896,0.18613010635504768,-0.08380229983155645,-0.30553887884835257,-0.0405390161852687,0.10569820454697558,-0.15608075700883672,-0.8752684747075091,-0.15703986234780082,-0.5663786080045352,-0.565763025236177,-1.274851163059532,-0.9639559846202783,-0.8233897303073403,0.5947642388301561,0.6168052610955728,0.3584275390122807,0.24199546812335976,1.332287347877769,-0.30387771818544146,-0.4471173939856023,-0.41683011398411274,-0.41503661770463574,-0.9919335797308118,-0.7028712051675381,-0.9327036593535406,1.5772390654236024,0.3304952182505161,0.4531329731693374,0.3570348456676192,-0.3284722375434055,-0.27759265416769136,-0.4205010223312024,0.9527221356313984,-1.3415607514509176,0.3117002207344407,0.3279892961392266,0.0840305879084599,0.35233023224167975,0.07784268957973978,6.186363682675175,-0.1509081909256354,-0.5584017905420929,-1.2500178774281536,-0.9594735837518545,-0.5064788052286006,-0.2243424639320199,0.7609660441352679,0.5056207201829646,0.3368628275683824,0.10701231236926444,0.3586073614812305,0.359230211415818,-0.06629568896757677,3.960972941730819,0.3654296536191641,3.279330700671243,-0.901685050904606,-0.18264095290534468,-0.03803792290744866,-0.44020634347464926,0.43778926099879967,-0.5577195318791895,-0.41274822335576117,-0.9886506179454573,-0.704283095716941,0.7404328795477079,0.33735480831883097,0.33832099403928395,-0.24025192058731223,-0.8004120272239981,0.3388553627433601,0.36520715578011015,0.36670661034675406,-1.9364203660604282,0.24461327237270697,-0.4742558630990096,0.10519358359003834,-0.4708318810434694,-0.014003102975133212,-0.15251558508883203,-0.7063978606223482,-0.7316378388138153,-0.4346672603011215,-0.7013461478988486,-0.7010313859925317,-0.556648054175706,0.8845245711914052,1.4663336141006547,0.05205487951304029,0.049724775937602106,-0.18214689909053636,-1.3326236812112704,-0.5915268698291088,-0.879156044281332,-2.525565071260466,0.1530611967818157,3.8152459795750167,0.16690499224659566,-0.641483555876586,1.0426670262486095,-0.038710276294136585,0.10837946995426596,0.10858143217533034,0.10687786290528631,-0.3184264583901868,-1.885586404745564,-0.010054349450112077,-0.2960894639569598,-0.5603825251277366,-0.36379644262624694,-0.4111247898906004,5.554142365814622,-0.6677810031091586,0.4620834713472341,0.16664638420858624,0.36301896497858654,-0.35028440898386476,0.08037231233538886,1.3099476873937341,0.9208915544661893,0.24603457826282968,0.367051199881952,1.073089960501296,-0.03675504468494909,0.10223609363537134,-0.3252841202916158,4.693000321000544,-0.6965635582863563,-0.6926930518339007,0.9937958009317164,1.7645762181816573,0.5067672790359206,-0.13348100092520968,0.6280939531568831,0.37194715504773757,0.10336493176108134,-0.32870964096961425,-0.00891132826717786,-0.44478330766437035,-0.03434411674753975,-0.14897576629836343,-0.1497736405622363,-0.29282358595302194,-0.5813588061638675,-0.6951395369698571,-0.9839932172670829,-1.1001783536746013,-0.9590670621790002,-0.6674952199942874,-1.3612700221441387,0.3230092011847997,0.16843133461751283,0.7440741440849704,0.7669969565975628,1.1610918153289265,0.23386285194564183,0.36916542549914294,-0.013461181894904509,-0.14452841126992133,-0.6111679979385447,-0.32261019878359243,-0.2931236261974309,-0.5833747253242539,-0.14789376653005953,3.726997111624313,-0.5522483392215953,-0.8092483009291166,-0.9325419633632621,-0.4951537045522227,0.6020195007712975,0.8866827694152758,0.4771574771881909,0.33408150698464484,0.22783361724326254,0.5090985584578396,0.19666040608492846,0.2492898951354331,-0.46356961549992876,0.11406279149646346,-0.5821402966360365,-0.29203405624597645,0.3895372333279544,-0.4370603714967049,-0.552659678096776,-0.517314976399307,-2.2801658710175436,1.8920343828074069,-0.4110920906140517,-0.40737067916666164,-0.3204432097159396,0.171941547115118,0.6430551254766012,0.053993443523914504,-0.05198656702462083,-0.06190661927337729,-0.6507909491068492,-0.758452356109766,-0.729749840392067,0.11060802353187894,-0.03310439823689037,0.11043680399704642,-0.15075795242795179,-0.8392811836304389,-0.6957865895452889,-0.9826081457116451,-0.6963201583295509,0.04794853666553543,0.7881436564651327,0.5090990678827929,0.6298104600287193,-0.061008063356786324,-0.20337227627020069,-2.6521343556775285,-0.779124183018503,-1.3701301093688052,1.2196499111082901,0.24933589881276058,-0.009457727304818536,2.05417660301825,-0.31880000313769,0.6799290601258309,-0.4363218867630466,-2.4155361332612935,-2.1351133377111458,-0.4069681626125011,-1.1289311123626946,-0.40716295781335343,0.7790595331604871,-0.35574133740818215,-0.9263939376305811,0.7765347521716071,0.4586741399510986,0.4812524837972796,0.19425175122430047,0.6677275704425744,0.3671103578383218,0.5103086045483951,0.6305363241296644,4.2550957042840505,-0.6119915454171124,-0.4644258105003619,-0.026060471370625324,-0.15467496706887193,-0.17643543816337093,-0.1475606166690433,-0.5554673886114617,-0.693391723892945,0.1846905166292653,-0.9251159557629182,-0.4904166004508348,0.8862583437194864,0.6450253429875527,0.6319844915435753,1.3141024874031775,0.6238282484997822,-0.03792933811471143,0.22683498587874834,-0.7515423627707984,-0.008715463906409524,-0.3193401875793177,-0.0019443593094952858,-0.43607955225294753,-0.7234691908114538,-0.8410935538765797,-0.2909250144494176,-0.5779742838666677,-0.83727217134399,-1.1238136889664816,-0.5490654557239624,-0.3248909847880536,-0.35388337415920984,0.8910343952418314,0.7699366696815041,0.5102807381948388,-0.34533839141712414,0.36777169888222894,0.060325218912221215,0.08558438090908424,0.08291616892633163,0.3725607637325902,0.10995017095200926,0.11404698363130251,-0.029711899688489304,-0.29039118048693496,-1.0077879815661448,-0.8142083932789825,-1.4127507414089384,-0.4068084972038338,-1.7029179881619088,-0.5496486466862199,-0.5487123966260183,-0.40482295040749555,-0.6649655622973163,-0.9312955241613531,-0.931050870636902,0.31758395768774406,0.7494056236337511,0.33883643571158545,0.9051103591814766,0.8927078083804992,2.1708318638082837,0.5019541696833928,0.5125574962405803,0.07948129205308502,0.6332460136742937,0.22871561350526529,-0.06112503391368365,0.14213460561048447,0.25019243704713706,-0.7493922491280881,-0.4607140597070698,0.11320763364374192,9.391031255577495,-0.7260425438741518,-0.3191357915420579,-0.029481018204946925,-0.006234921111474208,-0.030266153699873614,-0.43410358550573186,-0.43245268156255856,1.3564812636475823,-1.8432127271172913,0.2751429658457916,-1.124892046687413,-0.4051489846884086,-1.123741478172356,-0.5496412632688321,-0.980949223415678,-1.822300269783053,-1.0957775165439818,-0.9530241800872261,-1.2145127483773843,-0.4557447310524365,0.21026572899529114,1.0490812588997251,0.25374467619531055,-0.053538325847880465,0.3805817280022518,-1.4966823666935887,-0.028756223231688242,-0.3187603847100807,-1.1561331499717717,-0.14504726662790848,-0.2658211618789435,-0.5493890077022621,0.006227410222623867,-0.4050767384297,-0.3469300184675325,-0.24579860044758262,-0.9233302814850755,-0.6267053168555687,0.31696642251768953,-0.041665260464862984,0.23156107266758813,-0.34995722446531274,-0.5654688736884899,0.058100284856601854,0.2616211328260825,-0.059284516043227736,0.08629355038817069,0.08482445923029633,0.25260806161909427,0.1101574704070747,-0.007071895732276014,0.014247579605838253,1.0841351641280632,-0.4373478943452055,-0.5832861081851058,0.6885771492330458,-0.1445759334559321,-0.2874886961761452,-0.43164451397186276,0.2812152890104683,-3.2813146874394366,-1.4029482650173395,3.3008517869721854,-0.00842441181299552,-0.9732430872372122,-0.40406428178439047,-0.6933837067756005,-0.663290573937926,-0.6621465999232081,-0.4940028238441082,-0.31452156387485025,-0.493936488988884,-0.951988737967497,-1.0077851024607825,-0.4891809649729748,0.8932265045794042,0.7722641710565555,0.75090524198096,30.734432480337432,-1.2723844659476826,-1.04095003059777,0.23043192866483864,0.2506651732977289,-0.05670971826104277,1.1647799728392356,-2.185141590351642,-0.0069880790374924244,-0.5821502596723273,-0.028694499499718144,-0.17146443101975312,-0.8382630852323697,-0.4309772108683907,-0.1420817969061824,-0.43261054552281447,2.048582625347887,-0.9752536374740812,-2.8469567647704936,-0.000662664014876032,-0.4027233740790827,-0.35062159976970475,-0.4862439569021704,0.46185727718478037,1.592848311378864,0.3931639438837101,0.057130040463720375,0.5495047144751728,11.076706228103845,0.08800164057220392,1.4550847264450446,0.10582808616930206,-1.0390496594602499,-0.46068348137827947,3.3041502463013104,-0.57493444529815,-0.9815305950392672,0.0999305036592898,-1.410094498348359,-1.8429716324374623,-0.6898746116557196,-0.24811290310909584,0.1995883199413994,-0.2565930868798709,0.3199328612052879,0.752106157519965,0.7524777076624484,-1.2627590294241755,0.8959084327668048,0.7800317480243265,0.32119343636114267,0.630467873180591,0.04724982765758729,0.3997061272254501,0.5153941082758875,0.22632811024958724,-0.17172362927177368,0.1174042303078996,-0.1724924176069339,0.11724813705205439,5.818805118141296,0.00708949688507886,-0.2926765029488611,-1.005294412611206,-0.4012027714609438,0.02442597273313265,-0.40186592893871725,-0.8347998101534266,-0.39327622296849635,-0.9767578008686841,-0.7780820227982723,0.32026501927808376,0.2335291076446743,0.515233180837256,-0.35000023392823754,0.2354862744618384,0.05090551670074609,0.3765561736934962,-1.0388542970342032,0.11832912441353319,-0.4580214700698642,0.11204119812336373,0.11777170565516058,-0.004200830374642758,-0.14220788821316815,-0.14158624318198204,-0.6957199723885351,-2.822549423882234,-0.40128189837542444,-0.37914727622313427,-0.6885130692027863,-0.40068478559060855,-0.6585694939332499,1.6146538173978773,-0.9293350384385973,-1.2159235874674204,-1.327302354114485,0.622706486281476,0.8477725858155579,-0.23147314235876884,0.7970095825742505,1.317326924195834,-0.4864546043437454,0.25512856162970005,0.11295462821953275,-0.025840940806027668,-0.004813853948053611,-0.43625779633767925,-1.4584219644999805,-0.8381142281357924,-0.5732945862260789,-0.8338503640031247,-0.14150603256246372,-1.2632570944086343,-0.40060118711458803,1.2557876385504219,-1.2363298786550856,0.32090667020201064,0.1762767516005377,0.32155439911807887,0.37976616199242313,0.2649873955803704,0.2579603469804297,-0.025277544030874642,-0.3128073695346031,-0.14614788971426565,-0.002382944001801733,-0.7185761815642352,-0.2837834670000244,-0.14181295161895646,-1.8382060313877437,-1.1196276909544889,-0.689104926034661,-1.1192695518652114,-0.976580539008983,0.1392551008380891,1.1110272836293995,-1.526069924074981,0.04974398008732083,0.6230865414071779,0.7759340422129484,0.8969108924544147,0.4957827769855858,0.5061485784729212,0.5170726233715488,0.6570631729850008,-0.6276860538522595,0.3804290383916153,-0.0035166822386169245,0.1203921172172711,-0.2673195062598395,-0.428235355998007,-0.13320837151579856,-0.13486085900703562,-0.5453029570250592,-1.4355743444269273,-0.8603858285185739,-0.6868486733214275,-1.6936801314648424,-0.5423231441915048,-0.3985597019893903,-1.2613372863113381,-0.3983203845018956,-0.974291845428391,-0.40081352892132793,-0.68623350759755,-0.6879575876594666,-0.9432461598938385,-0.8018811999511887,-0.23742377203772622,-0.75989576943771,-1.3170593165003683,0.23642909969113204,5.92556936046142,0.5444092980491164,0.3175169356791932,0.4043823878487756,-1.0597594689616376,-0.4845211393023167,0.12131011477620741,0.23461347336281752,-0.30589301719578676,0.1211141933483154,-0.2893668053004199,-0.14030097318343715,-0.14030097318343715,1.6566194832420258,-0.28428956906458025,-0.5719748081770348,-2.4011853244191754,-0.8318025732922028,-0.5791380529769445,-1.6981788912639428,0.8238922443479586,-0.6868563537302469,-0.3914844994286998,-0.6868182324814539,-0.3995104230486575,1.0737902459771305,0.8002288155847643,0.37911976101373296,-0.9123377324969638,0.2926738002142456,0.0908064052081243,0.12078330482870842,0.1197009433201693,-0.714693766645496,-0.28269062929354033,1.364608674668334,-0.6860789017839792,-0.8312028616540879,-2.270154876862923,0.8227311213427442,-0.39825975034171923,-0.8300088967570116,-0.5418882429250745,-0.39681331097214356,-0.5409450527296731,-0.6298649669754798,-0.06447005367653623,0.24725865897233948,0.2019726747154075,0.48867838006972825,0.23825794896338634,0.24090398333924984,0.25932875801777866,0.09215964868551071,-0.3166035896542926,0.11626077108264303,-0.025368917704575604,-0.0008390391884275143,0.8278682076556657,-0.14030097318343715,-0.2589475669853407,-0.28014628276764447,-0.7193245986518163,-0.6624562689236656,-0.9719209714497404,-0.5387857583516877,-0.7786192065895527,0.46759348427926845,0.029220448425716892,0.22429676284785421,0.23538752254339987,0.3821445663161588,-0.4593880522738834,-0.17107218643096228,0.9705027939864211,-0.28776354590195513,-0.3950295432671905,-1.4038602293006734,0.6449637135804603,-1.9809266943895136,-0.6830491258233976,-0.5421423484412902,-0.685080861047831,-0.4081682473778694,0.7571064189761574,-0.21239098453672778,0.23898158644185893,-2.4967981851371226,0.3834639880261739,-0.30859474654954777,-0.022369390203399918,0.005216880012950123,0.00013169149283309158,-0.5740510351836431,-0.5985027744091795,-0.28248510290493467,-0.2504698563343694,-0.2552000928342139,-0.5404667764153185,-0.5399520262552288,-0.5394540327550473,-0.8289405456612171,-0.6843639467871112,-1.8128887558656226,-0.6259673910952892,0.7647434083924626,0.9307001701596288,0.7568924566767777,0.06744969408886314,-0.0052826174425716485,-0.6271388168517775,-0.31356886555750757,2.3386868999527803,0.6612467569412669,-0.11947626989852365,-0.25829502532581206,-1.0007931869265079,0.539699548211049,0.3963842672974858,-0.9695504612017499,-0.3912365048855844,-0.8276006520885855,-0.9213893053659773,1.729064044170938,1.1764654783883646,0.36294208923017546,0.6549611765702514,1.5979483810490218,0.24493451385987547,0.3919732486658084,0.09512594544590845,-0.6247905810212132,0.23880940600311357,0.38214991233567663,0.26229736596191083,1.3404924479579483,0.1238638938406236,0.12567770887102533,-0.4507192233398494,0.1247456356702063,1.8065024843301491,0.5978022156186849,-0.22012576707821843,-0.25060421558761303,-0.6851882419443371,-1.8330373434906024,-0.941515248898391,-0.654883115150429,0.7154268383383512,0.7729762025431312,0.26911168414694187,-0.3129805011807626,-0.14084558258824215,0.2530315635292756,-3.705439180124982,-0.5392659479826627,7.299324129460254,-0.537529597346581,-0.7984301345457228,-0.3400616714447922,0.1830481083122174,0.761330146737492,0.4853908649395281,0.3550434438039493,0.5028004302018397,0.20507520448120684,0.5098001297754374,0.38511559423551395,0.2632719934287574,-1.001957620814909,-0.16217344202943224,0.0062494304817179835,-0.5943711630405616,-0.42115513384729675,-0.44054484340194333,-0.13512032004846367,-0.13558411430725462,-0.9972795958506634,-0.9707043983905226,-1.2799173902537824,-0.9722814584720956,-0.6831632498616684,-0.6816793896419815,-0.9605647769754123,0.4319843874463113,0.7463285084938154,0.904695588545675,0.6431899787091936,0.23926942277006027,-0.5945497560679299,0.12552653089647545,0.14826407024263288,-0.5649208237891585,-0.2790397754273084,-1.4315015776540885,-0.39233941855032023,-0.6345554257217378,-0.652588416664311,-0.6514313473142481,-0.48476374772684444,0.9116076119160463,0.47228194459640055,0.18410313467324665,0.9048503165362457,0.09880370261993948,-0.18887146288666865,0.9471210787749554,0.1264220537555343,0.1243114953791088,0.1495485459210743,0.9890354044622474,0.005200945957609809,-0.13217787289581973,-0.4208036804993515,-1.1136809160489278,-1.8342636577411904,-1.256091042615544,-1.1104855171325407,-0.8177986144835403,-0.39385333224537505,-0.6812504456793915,-0.5357030852593103,0.6309972455058689,-2.918629355183696,-0.49781018791716936,0.6464899198605845,0.09880588852705231,0.24227935346194948,0.12366489896167988,0.12637322706095452,0.12845157687860315,-0.7382770770879874,0.9533808654873067,0.2567099785456418,-0.7099638418068482,-0.5698704617710375,-0.5355273314764105,-0.6527778435004953,-1.0605586537170901,-1.9206900572859276,0.6457399980540799,0.2449579670516888,0.6746139961530576,-1.627175751839588,-0.18862749857321892,-0.7341446909249338,-0.3031648333572941,-0.017272836911050825,-0.3029865563779117,1.6205206655700741,-0.966319062435085,0.5252797792641575,0.5128989025759239,0.24383670403104002,-0.18489386144420972,0.24439562714709023,-0.02047166661414855,-0.5905965141449905,-0.13162631057692448,-0.7102966501267298,-0.5266096994052762,-0.22072478996976447,0.09909032233150163,-1.0528154868404378,0.38874894798315185,0.24495087118442496,0.27001276796712587,-0.30759519813387265,-0.15893231736893415,-1.5984577148895416,-0.30302510054444076,-0.4252058148687842,1.513421721864022,-0.9660575292934103,-0.5351358206154664,2.594459770869524,0.642391815618182,4.51788499407712,0.24267116473183936,0.2659839869522869,-0.021377080314049914,0.1284476779380497,0.0456254931323031,2.1623127969763054,-0.6789345315216843,-1.1090041386784355,-0.53389246796925,-0.39011378623864423,-0.5769427602717456,0.07358894946783316,0.24510518723873898,-0.503106234698975,0.13879964184997007,0.24608702794923418,0.3910282713188956,0.12455267951015207,0.2951534455137557,-0.5888757385900737,-0.42142793210909457,-0.12989674721538821,-0.6831489597636184,-2.1144800450704824,-1.5215689109336412,0.9088998881284892,0.6554253338158013,0.4632320222204202,-0.6677922094655488,-0.3273050224364989,1.491697706541423,0.1312701185027542,-1.0201703773855215,0.1250811375667707,0.13212518541382784,0.5502384263158476,1.3510536443685406,-0.12878693216218431,-0.1291305803880108,-0.12878693216218431,-2.1178349299910866,-0.47824897851643056,0.7886901111795446,-0.13611884995984994,-1.3937945319540654,-0.8197478687278741,-0.5319326554276061,1.5527992239264656,-0.9097148017774571,0.2483790235523741,0.10491168854130975,0.24639987202124572,-0.32745179102917893,0.10201651641978517,0.6652831067532295,0.10265826760894442,0.24572624098880852,0.13210629681149677,-0.661970358831696,-0.3875723089296033,-1.5110912783341,0.509334041411801,0.2591978659678249,0.3904450839064197,-0.15012828516487675,-0.011960371565825826,-0.44279844252272726,0.10833750921581312,-0.8468905963618633,-0.674380491277335,-0.8159062396707824,-0.6214514138002017,-0.34688868976470766,0.6693657203614237,0.12830199133129574,-0.2984672895312283,-0.5867901640888871,-0.5853910020415897,-0.2852359286165001,-0.6196537007097029,0.9115289045992188,0.3371037767385698,0.19088090480126765,0.6534205390159187,-0.031455206503446485,0.10481670915847235,-0.2986242379849236,-1.4132346284521728,0.9943664327194919,0.6962449694803691,-0.5285347909970548,0.6522986114507265,0.13214669064981194,-0.1294039826153035,-2.0012753911868324,-0.1260824469106496,0.9835813429885489,1.1956162697831612,0.655507791669987,-0.3241751041653099,-0.5849976682531342,-0.1251851804111209,0.2706523886047419,-3.405931653244475,3.4702516664195344,-1.035894632856347,0.7850950912304179,0.219691208388395,0.3673218461962266,-2.3805913255350117,0.1305838400001466,0.10944930158115752,2.1807797421375716,-0.03811328925648684,-0.12508811025363636,-1.0002838379078713,0.40581288432206364,0.6381458624467686,0.10855796329786976,0.39757458842819937,-0.4117528562108939,-0.6705439920682553,0.31263461513413054,-2.109978278138235,-1.1019401108116262,11.211479139726713,0.19570312986870655,0.13501760241664887,-0.5601225153514778,-0.12368572061616974,-0.12287236843990887,-0.1232063434434529,-0.3822855912629114,-1.8570195379635324,0.19601148424155293,-0.18014020360939245,-0.1276558155021339,-0.12217070636378731,-0.24410320492948342,-1.668787221542661,-2.1069938051301973,-1.1229045759876781,0.28327858745098977,0.6767528496532256,-0.6902075913255873,-0.4169151687667717,-0.3836022279590958,-0.803190280213237,-1.2373205000980438,-0.3761030325819448,2.6082352363780856,0.21291012777373444,0.6348192379896231,0.2799462258812675,-0.8125195428367927,4.983801891521034,0.7437846726024407,0.33363895254320314,0.018061331622449474,0.01713338688474206,0.7091370503375821,-0.6578364998857961,-0.6984805479077681,-0.693081306165097,-0.8398616025886155,-0.3804188836177249,-2.574927945313613,-0.9191454232628956,-1.3838442633913717,0.7157392330820358,-0.92953307785773,0.01990492263793296,-0.9836147514197892,-0.9850484859200658,3.6150343458142435,-1.6730009094487894,0.5082422106570913,-1.9614240375181882,-1.098533950284045,-1.3345848842990864,-2.642219051367857,-0.4624514869837042,0.13671655828676502,-0.3793308279759677,-2.2781377378390073,-1.0914208940661327,-0.23111759229277737,0.5359154810794221,-4.694811055051589,1.4892964103215482,-0.396762854454993,-3.686176928667198,-3.1055315526857186,-1.236436902430656,0.1422982654974057,-1.8145326753983277,0.9634605506628708,0.20180098869802782,-0.08575532444701627,-0.4617164751513105,1.8505176094374076,-1.5187078761561104,-5.268107915097493,-1.6101082809342397,0.8483916288101363,0.02759988554485809,-0.6573748857856271,-6.84426842574162,-0.3612679437945208,-0.2899076383872523,-1.581075461267475,-0.7721377215886464,-2.0984871313411153,0.10307630312809965,0.9528177841300907,-1.2586577803009917,-0.37574528754923664,0.25500462542069496,3.763297542157662,-0.29406301377431093,-0.37358276378019,-0.3603925544701548,-0.3216452277154276,-0.669069061267076,-0.6586244320440641,0.7045479844647108,1.113265116201375,-0.2660007740951128,0.024904317147755543,-0.5163608116774263,-0.4707267375837188,-0.30314590607034864,0.161807787782935,-2.3847451342059975,0.18224425730580662,2.4866512138326105,-0.35051459384597294,0.2382551720916541,-0.13917688691155097,0.16197575240333265,22.98863949818081,-1.661843376841226,1.1474419922299597,-0.8944795559522178,0.6644312871223682,-0.7936624589003327,3.177129628480343,1.2307977119301603,1.7140209603902319,0.8708872882464546,-4.100417743597917,1.5086354481663884,0.637010321523137,0.26604499226155576,1.6721307667379952,-0.779596352416452,-1.368621057911881,0.6896786977341915,-0.13398871885197566,-0.3958919383064192,-0.21555210632835028,0.29522830985864307,-0.7945957942761304,-0.3235586649535901,0.5361486229369978,0.8722551763569517,2.8135788853266894,-0.09942572680328103,0.30638879025362314,-0.9493475756351856,5.873543181816326,1.04117234832374,-0.44151293866339075,-0.9317390632819131,-2.358061396728989,-1.4385493245077934,-1.1957025165960875,0.21296886610721663,-0.2826634724035706,1.0364784722649516,-0.3002749409736931,-2.0594300912786707,-0.8197589199193895,-0.47041723331465785,0.13367492414218027,-2.409325205590792,-1.7740086513042428,0.6910453774590052,-3.193042089181494,-1.4707089254341499,17.844658144092445,13.238953357730146,-1.1856674607895075,-4.621322594555011,-1.4746475815755882,-1.7625402226241889,-1.0501687940424917,1.006184896818696,0.8014539940098262,1.0179128675389355,-4.195459385229722,-3.0127911007563184,6.105824024054262,0.6157726707293679,-1.0407519635386393,1.120412194491835,-1.9207181727453606,3.8332269813998323,0.34668626877138115,-0.6434750883231132,0.17307660759711568,-0.2620153404770001,0.13343637677984577,-6.8456173440966435,-0.25436676712329126,-0.10964831272400806,-0.2540938770543577,-3.0908168328151593,5.348728943029355,1.3759193481831533,-0.4252347509456347,1.7515589395877702,-0.23011234054608845,0.6692973004777295,0.4463206858371998,-0.9359787311655654,-0.35785235200595866,-0.32698763468259606,0.18692694060744702,0.9691494407253745,0.5884304423610884,-0.6667956451111051,0.06037123485074652,0.6006471268895746,0.0723860015359576,-0.9210595996515456,-0.07946474199091173,0.46949587577024304,-0.05495063428435458,-0.056987603592183064,-0.2010444232771995,-0.05246827829937486,0.08023087602160933,-0.03553029913640533,-0.2898008444581542,0.5960119087455772,0.7304175944946227,-0.6053762442180924,19.436639321231638,60.06725357481342],\"type\":\"scatter3d\"}],                        {\"template\":{\"data\":{\"histogram2dcontour\":[{\"type\":\"histogram2dcontour\",\"colorbar\":{\"outlinewidth\":0,\"ticks\":\"\"},\"colorscale\":[[0.0,\"#0d0887\"],[0.1111111111111111,\"#46039f\"],[0.2222222222222222,\"#7201a8\"],[0.3333333333333333,\"#9c179e\"],[0.4444444444444444,\"#bd3786\"],[0.5555555555555556,\"#d8576b\"],[0.6666666666666666,\"#ed7953\"],[0.7777777777777778,\"#fb9f3a\"],[0.8888888888888888,\"#fdca26\"],[1.0,\"#f0f921\"]]}],\"choropleth\":[{\"type\":\"choropleth\",\"colorbar\":{\"outlinewidth\":0,\"ticks\":\"\"}}],\"histogram2d\":[{\"type\":\"histogram2d\",\"colorbar\":{\"outlinewidth\":0,\"ticks\":\"\"},\"colorscale\":[[0.0,\"#0d0887\"],[0.1111111111111111,\"#46039f\"],[0.2222222222222222,\"#7201a8\"],[0.3333333333333333,\"#9c179e\"],[0.4444444444444444,\"#bd3786\"],[0.5555555555555556,\"#d8576b\"],[0.6666666666666666,\"#ed7953\"],[0.7777777777777778,\"#fb9f3a\"],[0.8888888888888888,\"#fdca26\"],[1.0,\"#f0f921\"]]}],\"heatmap\":[{\"type\":\"heatmap\",\"colorbar\":{\"outlinewidth\":0,\"ticks\":\"\"},\"colorscale\":[[0.0,\"#0d0887\"],[0.1111111111111111,\"#46039f\"],[0.2222222222222222,\"#7201a8\"],[0.3333333333333333,\"#9c179e\"],[0.4444444444444444,\"#bd3786\"],[0.5555555555555556,\"#d8576b\"],[0.6666666666666666,\"#ed7953\"],[0.7777777777777778,\"#fb9f3a\"],[0.8888888888888888,\"#fdca26\"],[1.0,\"#f0f921\"]]}],\"heatmapgl\":[{\"type\":\"heatmapgl\",\"colorbar\":{\"outlinewidth\":0,\"ticks\":\"\"},\"colorscale\":[[0.0,\"#0d0887\"],[0.1111111111111111,\"#46039f\"],[0.2222222222222222,\"#7201a8\"],[0.3333333333333333,\"#9c179e\"],[0.4444444444444444,\"#bd3786\"],[0.5555555555555556,\"#d8576b\"],[0.6666666666666666,\"#ed7953\"],[0.7777777777777778,\"#fb9f3a\"],[0.8888888888888888,\"#fdca26\"],[1.0,\"#f0f921\"]]}],\"contourcarpet\":[{\"type\":\"contourcarpet\",\"colorbar\":{\"outlinewidth\":0,\"ticks\":\"\"}}],\"contour\":[{\"type\":\"contour\",\"colorbar\":{\"outlinewidth\":0,\"ticks\":\"\"},\"colorscale\":[[0.0,\"#0d0887\"],[0.1111111111111111,\"#46039f\"],[0.2222222222222222,\"#7201a8\"],[0.3333333333333333,\"#9c179e\"],[0.4444444444444444,\"#bd3786\"],[0.5555555555555556,\"#d8576b\"],[0.6666666666666666,\"#ed7953\"],[0.7777777777777778,\"#fb9f3a\"],[0.8888888888888888,\"#fdca26\"],[1.0,\"#f0f921\"]]}],\"surface\":[{\"type\":\"surface\",\"colorbar\":{\"outlinewidth\":0,\"ticks\":\"\"},\"colorscale\":[[0.0,\"#0d0887\"],[0.1111111111111111,\"#46039f\"],[0.2222222222222222,\"#7201a8\"],[0.3333333333333333,\"#9c179e\"],[0.4444444444444444,\"#bd3786\"],[0.5555555555555556,\"#d8576b\"],[0.6666666666666666,\"#ed7953\"],[0.7777777777777778,\"#fb9f3a\"],[0.8888888888888888,\"#fdca26\"],[1.0,\"#f0f921\"]]}],\"mesh3d\":[{\"type\":\"mesh3d\",\"colorbar\":{\"outlinewidth\":0,\"ticks\":\"\"}}],\"scatter\":[{\"fillpattern\":{\"fillmode\":\"overlay\",\"size\":10,\"solidity\":0.2},\"type\":\"scatter\"}],\"parcoords\":[{\"type\":\"parcoords\",\"line\":{\"colorbar\":{\"outlinewidth\":0,\"ticks\":\"\"}}}],\"scatterpolargl\":[{\"type\":\"scatterpolargl\",\"marker\":{\"colorbar\":{\"outlinewidth\":0,\"ticks\":\"\"}}}],\"bar\":[{\"error_x\":{\"color\":\"#2a3f5f\"},\"error_y\":{\"color\":\"#2a3f5f\"},\"marker\":{\"line\":{\"color\":\"#E5ECF6\",\"width\":0.5},\"pattern\":{\"fillmode\":\"overlay\",\"size\":10,\"solidity\":0.2}},\"type\":\"bar\"}],\"scattergeo\":[{\"type\":\"scattergeo\",\"marker\":{\"colorbar\":{\"outlinewidth\":0,\"ticks\":\"\"}}}],\"scatterpolar\":[{\"type\":\"scatterpolar\",\"marker\":{\"colorbar\":{\"outlinewidth\":0,\"ticks\":\"\"}}}],\"histogram\":[{\"marker\":{\"pattern\":{\"fillmode\":\"overlay\",\"size\":10,\"solidity\":0.2}},\"type\":\"histogram\"}],\"scattergl\":[{\"type\":\"scattergl\",\"marker\":{\"colorbar\":{\"outlinewidth\":0,\"ticks\":\"\"}}}],\"scatter3d\":[{\"type\":\"scatter3d\",\"line\":{\"colorbar\":{\"outlinewidth\":0,\"ticks\":\"\"}},\"marker\":{\"colorbar\":{\"outlinewidth\":0,\"ticks\":\"\"}}}],\"scattermapbox\":[{\"type\":\"scattermapbox\",\"marker\":{\"colorbar\":{\"outlinewidth\":0,\"ticks\":\"\"}}}],\"scatterternary\":[{\"type\":\"scatterternary\",\"marker\":{\"colorbar\":{\"outlinewidth\":0,\"ticks\":\"\"}}}],\"scattercarpet\":[{\"type\":\"scattercarpet\",\"marker\":{\"colorbar\":{\"outlinewidth\":0,\"ticks\":\"\"}}}],\"carpet\":[{\"aaxis\":{\"endlinecolor\":\"#2a3f5f\",\"gridcolor\":\"white\",\"linecolor\":\"white\",\"minorgridcolor\":\"white\",\"startlinecolor\":\"#2a3f5f\"},\"baxis\":{\"endlinecolor\":\"#2a3f5f\",\"gridcolor\":\"white\",\"linecolor\":\"white\",\"minorgridcolor\":\"white\",\"startlinecolor\":\"#2a3f5f\"},\"type\":\"carpet\"}],\"table\":[{\"cells\":{\"fill\":{\"color\":\"#EBF0F8\"},\"line\":{\"color\":\"white\"}},\"header\":{\"fill\":{\"color\":\"#C8D4E3\"},\"line\":{\"color\":\"white\"}},\"type\":\"table\"}],\"barpolar\":[{\"marker\":{\"line\":{\"color\":\"#E5ECF6\",\"width\":0.5},\"pattern\":{\"fillmode\":\"overlay\",\"size\":10,\"solidity\":0.2}},\"type\":\"barpolar\"}],\"pie\":[{\"automargin\":true,\"type\":\"pie\"}]},\"layout\":{\"autotypenumbers\":\"strict\",\"colorway\":[\"#636efa\",\"#EF553B\",\"#00cc96\",\"#ab63fa\",\"#FFA15A\",\"#19d3f3\",\"#FF6692\",\"#B6E880\",\"#FF97FF\",\"#FECB52\"],\"font\":{\"color\":\"#2a3f5f\"},\"hovermode\":\"closest\",\"hoverlabel\":{\"align\":\"left\"},\"paper_bgcolor\":\"white\",\"plot_bgcolor\":\"#E5ECF6\",\"polar\":{\"bgcolor\":\"#E5ECF6\",\"angularaxis\":{\"gridcolor\":\"white\",\"linecolor\":\"white\",\"ticks\":\"\"},\"radialaxis\":{\"gridcolor\":\"white\",\"linecolor\":\"white\",\"ticks\":\"\"}},\"ternary\":{\"bgcolor\":\"#E5ECF6\",\"aaxis\":{\"gridcolor\":\"white\",\"linecolor\":\"white\",\"ticks\":\"\"},\"baxis\":{\"gridcolor\":\"white\",\"linecolor\":\"white\",\"ticks\":\"\"},\"caxis\":{\"gridcolor\":\"white\",\"linecolor\":\"white\",\"ticks\":\"\"}},\"coloraxis\":{\"colorbar\":{\"outlinewidth\":0,\"ticks\":\"\"}},\"colorscale\":{\"sequential\":[[0.0,\"#0d0887\"],[0.1111111111111111,\"#46039f\"],[0.2222222222222222,\"#7201a8\"],[0.3333333333333333,\"#9c179e\"],[0.4444444444444444,\"#bd3786\"],[0.5555555555555556,\"#d8576b\"],[0.6666666666666666,\"#ed7953\"],[0.7777777777777778,\"#fb9f3a\"],[0.8888888888888888,\"#fdca26\"],[1.0,\"#f0f921\"]],\"sequentialminus\":[[0.0,\"#0d0887\"],[0.1111111111111111,\"#46039f\"],[0.2222222222222222,\"#7201a8\"],[0.3333333333333333,\"#9c179e\"],[0.4444444444444444,\"#bd3786\"],[0.5555555555555556,\"#d8576b\"],[0.6666666666666666,\"#ed7953\"],[0.7777777777777778,\"#fb9f3a\"],[0.8888888888888888,\"#fdca26\"],[1.0,\"#f0f921\"]],\"diverging\":[[0,\"#8e0152\"],[0.1,\"#c51b7d\"],[0.2,\"#de77ae\"],[0.3,\"#f1b6da\"],[0.4,\"#fde0ef\"],[0.5,\"#f7f7f7\"],[0.6,\"#e6f5d0\"],[0.7,\"#b8e186\"],[0.8,\"#7fbc41\"],[0.9,\"#4d9221\"],[1,\"#276419\"]]},\"xaxis\":{\"gridcolor\":\"white\",\"linecolor\":\"white\",\"ticks\":\"\",\"title\":{\"standoff\":15},\"zerolinecolor\":\"white\",\"automargin\":true,\"zerolinewidth\":2},\"yaxis\":{\"gridcolor\":\"white\",\"linecolor\":\"white\",\"ticks\":\"\",\"title\":{\"standoff\":15},\"zerolinecolor\":\"white\",\"automargin\":true,\"zerolinewidth\":2},\"scene\":{\"xaxis\":{\"backgroundcolor\":\"#E5ECF6\",\"gridcolor\":\"white\",\"linecolor\":\"white\",\"showbackground\":true,\"ticks\":\"\",\"zerolinecolor\":\"white\",\"gridwidth\":2},\"yaxis\":{\"backgroundcolor\":\"#E5ECF6\",\"gridcolor\":\"white\",\"linecolor\":\"white\",\"showbackground\":true,\"ticks\":\"\",\"zerolinecolor\":\"white\",\"gridwidth\":2},\"zaxis\":{\"backgroundcolor\":\"#E5ECF6\",\"gridcolor\":\"white\",\"linecolor\":\"white\",\"showbackground\":true,\"ticks\":\"\",\"zerolinecolor\":\"white\",\"gridwidth\":2}},\"shapedefaults\":{\"line\":{\"color\":\"#2a3f5f\"}},\"annotationdefaults\":{\"arrowcolor\":\"#2a3f5f\",\"arrowhead\":0,\"arrowwidth\":1},\"geo\":{\"bgcolor\":\"white\",\"landcolor\":\"#E5ECF6\",\"subunitcolor\":\"white\",\"showland\":true,\"showlakes\":true,\"lakecolor\":\"white\"},\"title\":{\"x\":0.05},\"mapbox\":{\"style\":\"light\"}}},\"scene\":{\"domain\":{\"x\":[0.0,1.0],\"y\":[0.0,1.0]},\"xaxis\":{\"title\":{\"text\":\"Component_1\"}},\"yaxis\":{\"title\":{\"text\":\"Component_2\"}},\"zaxis\":{\"title\":{\"text\":\"Component_3\"}}},\"coloraxis\":{\"colorbar\":{\"title\":{\"text\":\"K-means_labels\"}},\"colorscale\":[[0.0,\"#0d0887\"],[0.1111111111111111,\"#46039f\"],[0.2222222222222222,\"#7201a8\"],[0.3333333333333333,\"#9c179e\"],[0.4444444444444444,\"#bd3786\"],[0.5555555555555556,\"#d8576b\"],[0.6666666666666666,\"#ed7953\"],[0.7777777777777778,\"#fb9f3a\"],[0.8888888888888888,\"#fdca26\"],[1.0,\"#f0f921\"]]},\"legend\":{\"tracegroupgap\":0},\"margin\":{\"t\":60},\"title\":{\"text\":\"Clusters by PCA components\"}},                        {\"responsive\": true}                    ).then(function(){\n",
       "                            \n",
       "var gd = document.getElementById('0f6edeaf-d4d0-43af-97f1-df3225037503');\n",
       "var x = new MutationObserver(function (mutations, observer) {{\n",
       "        var display = window.getComputedStyle(gd).display;\n",
       "        if (!display || display === 'none') {{\n",
       "            console.log([gd, 'removed!']);\n",
       "            Plotly.purge(gd);\n",
       "            observer.disconnect();\n",
       "        }}\n",
       "}});\n",
       "\n",
       "// Listen for the removal of the full notebook cells\n",
       "var notebookContainer = gd.closest('#notebook-container');\n",
       "if (notebookContainer) {{\n",
       "    x.observe(notebookContainer, {childList: true});\n",
       "}}\n",
       "\n",
       "// Listen for the clearing of the current output cell\n",
       "var outputEl = gd.closest('.output');\n",
       "if (outputEl) {{\n",
       "    x.observe(outputEl, {childList: true});\n",
       "}}\n",
       "\n",
       "                        })                };                });            </script>        </div>"
      ]
     },
     "metadata": {},
     "output_type": "display_data"
    }
   ],
   "source": [
    "palette = px.colors.qualitative.Plotly\n",
    "\n",
    "# Plot the scatter plot with the specified palette\n",
    "fig = px.scatter_3d(segmented_kmeans_pca, x=\"Component_1\", y=\"Component_2\", z=\"Component_3\",\n",
    "                    color='K-means_labels', color_discrete_sequence=palette[:6])\n",
    "\n",
    "fig.update_layout(title='Clusters by PCA components')\n",
    "fig.show()"
   ]
  }
 ],
 "metadata": {
  "kaggle": {
   "accelerator": "none",
   "dataSources": [
    {
     "datasetId": 4705191,
     "sourceId": 7992250,
     "sourceType": "datasetVersion"
    }
   ],
   "dockerImageVersionId": 30684,
   "isGpuEnabled": false,
   "isInternetEnabled": true,
   "language": "python",
   "sourceType": "notebook"
  },
  "kernelspec": {
   "display_name": "Python 3",
   "language": "python",
   "name": "python3"
  },
  "language_info": {
   "codemirror_mode": {
    "name": "ipython",
    "version": 3
   },
   "file_extension": ".py",
   "mimetype": "text/x-python",
   "name": "python",
   "nbconvert_exporter": "python",
   "pygments_lexer": "ipython3",
   "version": "3.10.13"
  },
  "papermill": {
   "default_parameters": {},
   "duration": 18.4006,
   "end_time": "2024-04-14T18:08:25.052192",
   "environment_variables": {},
   "exception": null,
   "input_path": "__notebook__.ipynb",
   "output_path": "__notebook__.ipynb",
   "parameters": {},
   "start_time": "2024-04-14T18:08:06.651592",
   "version": "2.5.0"
  }
 },
 "nbformat": 4,
 "nbformat_minor": 5
}
